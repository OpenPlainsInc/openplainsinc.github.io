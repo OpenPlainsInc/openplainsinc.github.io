{
 "cells": [
  {
   "cell_type": "markdown",
   "metadata": {
    "vscode": {
     "languageId": "raw"
    }
   },
   "source": [
    "---\n",
    "title: Part 3. Actinia Process Chians\n",
    "description: Learn how to create custom actinia process chain templates for GRASS GIS application.\n",
    "format: html\n",
    "author: \n",
    "    - Corey T. White\n",
    "    - Vaclav Petras\n",
    "date: '2024-09-10'\n",
    "keep-ipynb: true\n",
    "toc: true\n",
    "toc-depth: 4\n",
    "image:  images/webinar_title.webp\n",
    "categories: [geospatial, GRASS v8.5, jupyter, lidar, STAC]\n",
    "page-layout: full\n",
    "title-block-banner: true\n",
    "---"
   ]
  },
  {
   "cell_type": "markdown",
   "metadata": {},
   "source": [
    "## Setup Environment"
   ]
  },
  {
   "cell_type": "code",
   "execution_count": 1,
   "metadata": {},
   "outputs": [],
   "source": [
    "import os\n",
    "import subprocess\n",
    "from pprint import pprint\n",
    "import sys\n",
    "import json\n",
    "import time\n",
    "\n",
    "import requests\n",
    "from requests.auth import HTTPBasicAuth"
   ]
  },
  {
   "cell_type": "markdown",
   "metadata": {},
   "source": [
    "### Set Variables"
   ]
  },
  {
   "cell_type": "code",
   "execution_count": 39,
   "metadata": {},
   "outputs": [],
   "source": [
    "ACTINIA_USER = 'actinia-gdi'\n",
    "ACTINIA_PASSWORD = 'actinia-gdi'\n",
    "AUTH = 'actinia-gdi:actinia-gdi'\n",
    "ACTINIA_VERSION = 'v3'\n",
    "ACTINIA_BASEURL = 'http://localhost:8088'\n",
    "# ACTINIA_BASEURL = 'https://openplains.app/actinia'\n",
    "ACTINIA_URL = ACTINIA_BASEURL + \"/api/\" + ACTINIA_VERSION\n",
    "ACTINIA_AUTH = HTTPBasicAuth(ACTINIA_USER, ACTINIA_PASSWORD)"
   ]
  },
  {
   "cell_type": "markdown",
   "metadata": {},
   "source": [
    "### Setup GRASS Session"
   ]
  },
  {
   "cell_type": "code",
   "execution_count": 3,
   "metadata": {},
   "outputs": [],
   "source": [
    "sys.path.append(\n",
    "    subprocess.check_output([\"grass\", \"--config\", \"python_path\"], text=True).strip()\n",
    ")\n",
    "# create a temporary folder where to place our GRASS project\n",
    "import tempfile\n",
    "from pathlib import Path\n",
    "\n",
    "tempdir = tempfile.TemporaryDirectory()\n",
    "\n",
    "import grass.script as gs\n",
    "import grass.jupyter as gj\n",
    "\n",
    "gs.create_project(path=tempdir.name, name=\"foss4g2024_p2\", epsg=\"2817\", overwrite=True)\n",
    "session = gj.init(Path(tempdir.name,\"foss4g2024_p2\"))"
   ]
  },
  {
   "cell_type": "code",
   "execution_count": 4,
   "metadata": {},
   "outputs": [],
   "source": [
    "def print_as_json(data):\n",
    "    print(json.dumps(data, indent=2))"
   ]
  },
  {
   "cell_type": "markdown",
   "metadata": {},
   "source": [
    "## Basic User Limits\n",
    "\n",
    "**LIMITS**\n",
    "- max_cell_limit = 2000000\n",
    "- process_time_limt = 60\n",
    "- process_num_limit = 20\n",
    "- number_of_workers = 3"
   ]
  },
  {
   "cell_type": "markdown",
   "metadata": {},
   "source": [
    "\n",
    "## Output formats\n",
    "\n",
    "- **kv**: parses the module output and creates key/value pairs\n",
    "- **list**: parses the module output and creates a list of values\n",
    "- **table**: parses the module output and creates a list of lists with values aka 2D array aka table\n"
   ]
  },
  {
   "cell_type": "markdown",
   "metadata": {},
   "source": [
    "## Let's generate a process chain"
   ]
  },
  {
   "cell_type": "code",
   "execution_count": 15,
   "metadata": {},
   "outputs": [],
   "source": [
    "pc = {\n",
    "    \"list\": [],\n",
    "    \"version\": 1\n",
    "}"
   ]
  },
  {
   "cell_type": "markdown",
   "metadata": {},
   "source": [
    "From [actinia](https://actinia-org.github.io/actinia-core/tutorial_process_chain/)"
   ]
  },
  {
   "cell_type": "markdown",
   "metadata": {},
   "source": [
    "```json\n",
    " {\n",
    "   \"list\": [\n",
    "     {\n",
    "       \"module\": \"g.region\",\n",
    "       \"id\": \"g_region_1\",\n",
    "       \"inputs\": [\n",
    "         {\n",
    "           \"import_descr\": {\n",
    "             \"source\": \"https://storage.googleapis.com/graas-geodata/elev_ned_30m.tif\",\n",
    "             \"type\": \"raster\"\n",
    "           },\n",
    "           \"param\": \"raster\",\n",
    "           \"value\": \"elev_ned_30m_new\"\n",
    "         }\n",
    "       ],\n",
    "       \"flags\": \"p\"\n",
    "     },\n",
    "     {\n",
    "       \"module\": \"r.slope.aspect\",\n",
    "       \"id\": \"r_slope_aspect_1\",\n",
    "       \"inputs\": [\n",
    "         {\n",
    "           \"param\": \"elevation\",\n",
    "           \"value\": \"elev_ned_30m_new\"\n",
    "         }\n",
    "       ],\n",
    "       \"outputs\": [\n",
    "         {\n",
    "           \"export\": {\n",
    "             \"format\": \"GTiff\",\n",
    "             \"type\": \"raster\"\n",
    "           },\n",
    "           \"param\": \"slope\",\n",
    "           \"value\": \"elev_ned_30m_new_slope\"\n",
    "         }\n",
    "       ],\n",
    "       \"flags\": \"a\"\n",
    "     }\n",
    "   ],\n",
    "   \"version\": \"1\"\n",
    " }\n",
    "```"
   ]
  },
  {
   "cell_type": "code",
   "execution_count": 6,
   "metadata": {},
   "outputs": [
    {
     "name": "stdout",
     "output_type": "stream",
     "text": [
      "{\n",
      "  \"module\": \"g.region\",\n",
      "  \"id\": \"g.region_1804289383\",\n",
      "  \"inputs\":[\n",
      "     {\"param\": \"raster\", \"value\": \"elevation\"},\n",
      "     {\"param\": \"res\", \"value\": \"30\"},\n",
      "     {\"param\": \"format\", \"value\": \"plain\"}\n",
      "   ]}\n"
     ]
    }
   ],
   "source": [
    "!g.region raster=elevation res=30 --json"
   ]
  },
  {
   "cell_type": "code",
   "execution_count": 10,
   "metadata": {},
   "outputs": [
    {
     "data": {
      "text/plain": [
       "['general', '-region', 'raster=elevation', 'res=30', 'json=True']"
      ]
     },
     "execution_count": 10,
     "metadata": {},
     "output_type": "execute_result"
    }
   ],
   "source": [
    "gs.make_command(\"general\", \"region\", raster=\"elevation\", res=30)"
   ]
  },
  {
   "cell_type": "code",
   "execution_count": 12,
   "metadata": {},
   "outputs": [
    {
     "name": "stdout",
     "output_type": "stream",
     "text": [
      "{'id': 'g.region_1804289383',\n",
      " 'inputs': [{'param': 'raster', 'value': 'elevation'},\n",
      "            {'param': 'res', 'value': '30'},\n",
      "            {'param': 'format', 'value': 'plain'}],\n",
      " 'module': 'g.region'}\n"
     ]
    }
   ],
   "source": [
    "step_1_raw = !g.region raster=elevation res=30 --json\n",
    "step_1 = ''.join(step_1_raw)\n",
    "step_1_json = json.loads(step_1)\n",
    "pprint(step_1_json)"
   ]
  },
  {
   "cell_type": "code",
   "execution_count": 13,
   "metadata": {},
   "outputs": [
    {
     "name": "stdout",
     "output_type": "stream",
     "text": [
      "{'id': 'r.univar_1804289383',\n",
      " 'inputs': [{'param': 'map', 'value': 'elevation'},\n",
      "            {'param': 'percentile', 'value': '90'},\n",
      "            {'param': 'nprocs', 'value': '1'},\n",
      "            {'param': 'separator', 'value': 'pipe'},\n",
      "            {'param': 'format', 'value': 'json'}],\n",
      " 'module': 'r.univar'}\n"
     ]
    }
   ],
   "source": [
    "step_2_raw = !r.univar map=elevation format=\"json\" --json\n",
    "step_2 = ''.join(step_2_raw)\n",
    "step_2_json = json.loads(step_2)\n",
    "pprint(step_2_json)"
   ]
  },
  {
   "cell_type": "code",
   "execution_count": 16,
   "metadata": {},
   "outputs": [
    {
     "name": "stdout",
     "output_type": "stream",
     "text": [
      "{'list': [{'id': 'g.region_1804289383',\n",
      "           'inputs': [{'param': 'raster', 'value': 'elevation'},\n",
      "                      {'param': 'res', 'value': '30'},\n",
      "                      {'param': 'format', 'value': 'plain'}],\n",
      "           'module': 'g.region'},\n",
      "          {'id': 'r.univar_1804289383',\n",
      "           'inputs': [{'param': 'map', 'value': 'elevation'},\n",
      "                      {'param': 'percentile', 'value': '90'},\n",
      "                      {'param': 'nprocs', 'value': '1'},\n",
      "                      {'param': 'separator', 'value': 'pipe'},\n",
      "                      {'param': 'format', 'value': 'json'}],\n",
      "           'module': 'r.univar'}],\n",
      " 'version': 1}\n"
     ]
    }
   ],
   "source": [
    "pc[\"list\"].append(step_1_json)\n",
    "pc[\"list\"].append(step_2_json)\n",
    "\n",
    "pprint(pc)"
   ]
  },
  {
   "cell_type": "markdown",
   "metadata": {},
   "source": [
    "## Python Client\n",
    "\n",
    "Install"
   ]
  },
  {
   "cell_type": "code",
   "execution_count": null,
   "metadata": {},
   "outputs": [],
   "source": [
    "!pip install actinia-python-client\n",
    "!pip install git+https://github.com/openplainsinc/actinia_openapi_python_client.git@v0.0.4"
   ]
  },
  {
   "cell_type": "code",
   "execution_count": null,
   "metadata": {},
   "outputs": [],
   "source": [
    "import actinia_openapi_python_client.api_client\n",
    "from actinia_openapi_python_client.rest import ApiException\n",
    "from pprint import pprint\n",
    "\n",
    "# Defining the host is optional and defaults to http://localhost\n",
    "# See configuration.py for a list of all supported configuration parameters.\n",
    "configuration = actinia_openapi_python_client.Configuration(\n",
    "    host = \"http://localhost:8088\"\n",
    ")\n",
    "\n",
    "# The client must configure the authentication and authorization parameters\n",
    "# in accordance with the API server security policy.\n",
    "# Examples for each auth method are provided below, use the example that\n",
    "# satisfies your auth use case.\n",
    "\n",
    "# Configure HTTP basic authorization: basicAuth\n",
    "configuration = actinia_openapi_python_client.Configuration(\n",
    "    username = ACTINIA_USER,\n",
    "    password = ACTINIA_PASSWORD\n",
    ")\n",
    "\n",
    "\n",
    "# Enter a context with an instance of the API client\n",
    "with actinia_openapi_python_client.ApiClient(configuration) as api_client:\n",
    "    # Create an instance of the API class\n",
    "    api_instance = actinia_openapi_python_client.APILogApi(api_client)\n",
    "    user_id = ACTINIA_USER # str | The unique user name/id\n",
    "\n",
    "    try:\n",
    "        # Get a list of all API calls that have been called by the provided user.\n",
    "        api_response = api_instance.api_log_user_id_get(user_id)\n",
    "        print(\"The response of APILogApi->api_log_user_id_get:\\n\")\n",
    "        pprint(api_response)\n",
    "    except ApiException as e:\n",
    "        print(\"Exception when calling APILogApi->api_log_user_id_get: %s\\n\" % e)\n"
   ]
  },
  {
   "cell_type": "code",
   "execution_count": null,
   "metadata": {},
   "outputs": [],
   "source": [
    "from actinia import Actinia\n",
    "\n",
    "actinia_dev = Actinia(\"http://localhost:8088\", \"v3\")\n",
    "actinia_dev.get_version()\n",
    "actinia_dev.set_authentication(ACTINIA_USER, ACTINIA_PASSWORD)\n"
   ]
  },
  {
   "cell_type": "code",
   "execution_count": 42,
   "metadata": {},
   "outputs": [
    {
     "data": {
      "text/plain": [
       "{'accept_datetime': '2024-09-09 20:12:58.748446',\n",
       " 'accept_timestamp': 1725912778.7484446,\n",
       " 'api_info': {'endpoint': 'mapsetmanagementresourceadmin',\n",
       "  'method': 'POST',\n",
       "  'path': '/api/v3/locations/nc_spm_08_grass7/mapsets/foss4g',\n",
       "  'request_url': 'http://localhost:8088/api/v3/locations/nc_spm_08_grass7/mapsets/foss4g'},\n",
       " 'datetime': '2024-09-09 20:12:59.008643',\n",
       " 'http_code': 200,\n",
       " 'message': 'Mapset <foss4g> successfully created.',\n",
       " 'process_chain_list': [{'1': {'flags': 'l', 'module': 'g.mapsets'}}],\n",
       " 'process_log': [{'executable': 'g.mapsets',\n",
       "   'id': '1',\n",
       "   'parameter': ['-l'],\n",
       "   'return_code': 0,\n",
       "   'run_time': 0.05109238624572754,\n",
       "   'stderr': ['Available mapsets:', ''],\n",
       "   'stdout': 'PERMANENT\\n'}],\n",
       " 'process_results': {},\n",
       " 'progress': {'num_of_steps': 1, 'step': 1},\n",
       " 'queue': 'local',\n",
       " 'resource_id': 'resource_id-08ec48d8-d82e-436c-b8d0-2cc445ef36a4',\n",
       " 'status': 'finished',\n",
       " 'time_delta': 0.26021814346313477,\n",
       " 'timestamp': 1725912779.008638,\n",
       " 'urls': {'resources': [],\n",
       "  'status': 'https://localhost:8088/api/v3/resources/actinia-gdi/resource_id-08ec48d8-d82e-436c-b8d0-2cc445ef36a4'},\n",
       " 'user_id': 'actinia-gdi'}"
      ]
     },
     "execution_count": 42,
     "metadata": {},
     "output_type": "execute_result"
    }
   ],
   "source": [
    "mapset_id = 'foss4g'\n",
    "location_id = 'nc_spm_08_grass7'\n",
    "url = f\"{ACTINIA_URL}/locations/{location_id}/mapsets/{mapset_id}\"\n",
    "\n",
    "\n",
    "\n",
    "response = requests.post( url, auth=ACTINIA_AUTH)\n",
    "response.json()\n",
    "# pprint(response.json().get('process_results'))"
   ]
  },
  {
   "cell_type": "code",
   "execution_count": 37,
   "metadata": {},
   "outputs": [],
   "source": [
    "pc = {\n",
    "    \"list\": [\n",
    "        {\n",
    "             \"id\": \"computational_region\",\n",
    "             \"module\": \"g.region\",\n",
    "             \"inputs\": [\n",
    "                 {\"param\": \"raster\",\n",
    "                  \"value\": \"elevation@PERMANENT\"},\n",
    "                 {\"param\": \"res\",\n",
    "                  \"value\": \"10\"}\n",
    "             ],\n",
    "             \"stdout\": {\"id\": \"region\", \"format\": \"kv\", \"delimiter\": \"=\"},\n",
    "             \"flags\": \"g\"\n",
    "         },\n",
    "        {\n",
    "          \"id\": \"create_hillshading\",\n",
    "          \"module\": \"r.relief\",\n",
    "          \"inputs\": [\n",
    "              {\n",
    "                  \"param\": \"input\",\n",
    "                  \"value\": \"elevation\"\n",
    "              }\n",
    "          ],\n",
    "          \"outputs\": [\n",
    "              {\n",
    "                  \"param\": \"output\",\n",
    "                  \"value\": \"hillshade\"\n",
    "              }\n",
    "          ]\n",
    "      },\n",
    "      {\n",
    "          \"id\": \"exporter_1\",\n",
    "          \"module\": \"exporter\",\n",
    "          \"outputs\": [\n",
    "              {\n",
    "                  \"export\": {\"type\": \"raster\", \"format\": \"COG\"},\n",
    "                  \"param\": \"map\",\n",
    "                  \"value\": \"hillshade\"\n",
    "              }\n",
    "          ]\n",
    "      }\n",
    "    ],\n",
    "    \"version\": \"1\"\n",
    "}"
   ]
  },
  {
   "cell_type": "code",
   "execution_count": 47,
   "metadata": {},
   "outputs": [
    {
     "name": "stdout",
     "output_type": "stream",
     "text": [
      "{'accept_datetime': '2024-09-09 20:20:05.779403',\n",
      " 'accept_timestamp': 1725913205.7794013,\n",
      " 'api_info': {'endpoint': 'asyncephemeralexportresource',\n",
      "              'method': 'POST',\n",
      "              'path': '/api/v3/locations/nc_spm_08_grass7/processing_async_export',\n",
      "              'request_url': 'http://localhost:8088/api/v3/locations/nc_spm_08_grass7/processing_async_export'},\n",
      " 'datetime': '2024-09-09 20:20:05.782840',\n",
      " 'http_code': 200,\n",
      " 'message': 'Resource accepted',\n",
      " 'process_chain_list': [],\n",
      " 'process_results': {},\n",
      " 'queue': 'local',\n",
      " 'resource_id': 'resource_id-5ceb3125-4ee8-45b5-a13d-8f3b9ba167f3',\n",
      " 'status': 'accepted',\n",
      " 'time_delta': 0.0034470558166503906,\n",
      " 'timestamp': 1725913205.7828374,\n",
      " 'urls': {'resources': [],\n",
      "          'status': 'https://localhost:8088/api/v3/resources/actinia-gdi/resource_id-5ceb3125-4ee8-45b5-a13d-8f3b9ba167f3'},\n",
      " 'user_id': 'actinia-gdi'}\n",
      "--------------------------------------------------------------------------------\n",
      "https://localhost:8088/api/v3/resources/actinia-gdi/resource_id-5ceb3125-4ee8-45b5-a13d-8f3b9ba167f3\n"
     ]
    }
   ],
   "source": [
    "mapset_id = 'foss4g'\n",
    "location_id = 'nc_spm_08_grass7'\n",
    "url = f\"{ACTINIA_URL}/locations/{location_id}/processing_async_export\"\n",
    "\n",
    "response = requests.post(url, auth=ACTINIA_AUTH, json=pc)\n",
    "response\n",
    "pprint(response.json())\n",
    "RESPONSE_ID = response.json()['urls']['status']\n",
    "\n",
    "print(\"-\" * 80)\n",
    "print(RESPONSE_ID)"
   ]
  },
  {
   "cell_type": "code",
   "execution_count": null,
   "metadata": {},
   "outputs": [],
   "source": [
    "response = requests.get(RESPONSE_ID, auth=ACTINIA_AUTH)\n",
    "\n",
    "pprint(response.json())"
   ]
  },
  {
   "cell_type": "markdown",
   "metadata": {},
   "source": []
  }
 ],
 "metadata": {
  "kernelspec": {
   "display_name": "venv",
   "language": "python",
   "name": "python3"
  },
  "language_info": {
   "codemirror_mode": {
    "name": "ipython",
    "version": 3
   },
   "file_extension": ".py",
   "mimetype": "text/x-python",
   "name": "python",
   "nbconvert_exporter": "python",
   "pygments_lexer": "ipython3",
   "version": "3.10.12"
  }
 },
 "nbformat": 4,
 "nbformat_minor": 2
}
