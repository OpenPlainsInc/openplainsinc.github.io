{
 "cells": [
  {
   "cell_type": "markdown",
   "metadata": {
    "vscode": {
     "languageId": "raw"
    }
   },
   "source": [
    "---\n",
    "title: Part 3. Actinia Process Chians\n",
    "description: Learn how to create custom actinia process chain templates for GRASS GIS application.\n",
    "format: html\n",
    "author: \n",
    "    - Corey T. White\n",
    "    - Vaclav Petras\n",
    "date: '2024-09-10'\n",
    "keep-ipynb: true\n",
    "toc: true\n",
    "toc-depth: 4\n",
    "image:  images/webinar_title.webp\n",
    "categories: [geospatial, GRASS v8.5, jupyter, lidar, STAC]\n",
    "page-layout: full\n",
    "title-block-banner: true\n",
    "---"
   ]
  },
  {
   "cell_type": "markdown",
   "metadata": {},
   "source": [
    "## Setup Environment"
   ]
  },
  {
   "cell_type": "code",
   "execution_count": 3,
   "metadata": {},
   "outputs": [],
   "source": [
    "import os\n",
    "import subprocess\n",
    "from pprint import pprint\n",
    "import sys\n",
    "import json\n",
    "import time\n",
    "\n",
    "import requests\n",
    "from requests.auth import HTTPBasicAuth"
   ]
  },
  {
   "cell_type": "code",
   "execution_count": 4,
   "metadata": {},
   "outputs": [],
   "source": [
    "ACTINIA_USER = 'actinia-gdi'\n",
    "ACTINIA_PASSWORD = 'actinia-gdi'\n",
    "AUTH = 'actinia-gdi:actinia-gdi'\n",
    "ACTINIA_VERSION = 'v3'\n",
    "ACTINIA_BASEURL = 'http://localhost:8088'\n",
    "# ACTINIA_BASEURL = 'https://openplains.app/actinia'\n",
    "ACTINIA_URL = ACTINIA_BASEURL + \"/api/\" + ACTINIA_VERSION\n",
    "ACTINIA_AUTH = HTTPBasicAuth(ACTINIA_USER, ACTINIA_PASSWORD)"
   ]
  },
  {
   "cell_type": "code",
   "execution_count": 5,
   "metadata": {},
   "outputs": [],
   "source": [
    "sys.path.append(\n",
    "    subprocess.check_output([\"grass\", \"--config\", \"python_path\"], text=True).strip()\n",
    ")\n",
    "# create a temporary folder where to place our GRASS project\n",
    "import tempfile\n",
    "from pathlib import Path\n",
    "\n",
    "tempdir = tempfile.TemporaryDirectory()\n",
    "\n",
    "import grass.script as gs\n",
    "import grass.jupyter as gj\n",
    "\n",
    "gs.create_project(path=tempdir.name, name=\"foss4g2024_p2\", epsg=\"2817\", overwrite=True)\n",
    "session = gj.init(Path(tempdir.name,\"foss4g2024_p2\"))"
   ]
  },
  {
   "cell_type": "code",
   "execution_count": 6,
   "metadata": {},
   "outputs": [
    {
     "name": "stdout",
     "output_type": "stream",
     "text": [
      "{'id': 'g.region_1804289383',\n",
      " 'inputs': [{'param': 'raster', 'value': 'elevation'},\n",
      "            {'param': 'res', 'value': '10'},\n",
      "            {'param': 'format', 'value': 'plain'}],\n",
      " 'module': 'g.region'}\n"
     ]
    }
   ],
   "source": [
    "step_1_raw = !g.region raster=elevation res=10 --json\n",
    "step_1 = ''.join(step_1_raw)\n",
    "step_1_json = json.loads(step_1)\n",
    "pprint(step_1_json)"
   ]
  }
 ],
 "metadata": {
  "kernelspec": {
   "display_name": "venv",
   "language": "python",
   "name": "python3"
  },
  "language_info": {
   "codemirror_mode": {
    "name": "ipython",
    "version": 3
   },
   "file_extension": ".py",
   "mimetype": "text/x-python",
   "name": "python",
   "nbconvert_exporter": "python",
   "pygments_lexer": "ipython3",
   "version": "3.10.12"
  }
 },
 "nbformat": 4,
 "nbformat_minor": 2
}
