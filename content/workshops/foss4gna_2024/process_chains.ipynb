{
 "cells": [
  {
   "cell_type": "markdown",
   "metadata": {
    "vscode": {
     "languageId": "raw"
    }
   },
   "source": [
    "---\n",
    "title: Part 3. Actinia Process Chians\n",
    "description: Learn how to create custom actinia process chain templates for GRASS GIS application.\n",
    "format: html\n",
    "author: \n",
    "    - Corey T. White\n",
    "    - Vaclav Petras\n",
    "date: '2024-09-10'\n",
    "keep-ipynb: true\n",
    "toc: true\n",
    "toc-depth: 4\n",
    "image:  images/webinar_title.webp\n",
    "categories: [geospatial, GRASS v8.5, jupyter, lidar, STAC]\n",
    "page-layout: full\n",
    "title-block-banner: true\n",
    "---"
   ]
  },
  {
   "cell_type": "markdown",
   "metadata": {},
   "source": [
    "## Setup Environment"
   ]
  },
  {
   "cell_type": "code",
   "execution_count": 3,
   "metadata": {},
   "outputs": [],
   "source": [
    "import os\n",
    "import subprocess\n",
    "from pprint import pprint\n",
    "import sys\n",
    "import json\n",
    "import time\n",
    "\n",
    "import requests\n",
    "from requests.auth import HTTPBasicAuth"
   ]
  },
  {
   "cell_type": "code",
   "execution_count": 4,
   "metadata": {},
   "outputs": [],
   "source": [
    "ACTINIA_USER = 'actinia-gdi'\n",
    "ACTINIA_PASSWORD = 'actinia-gdi'\n",
    "AUTH = 'actinia-gdi:actinia-gdi'\n",
    "ACTINIA_VERSION = 'v3'\n",
    "ACTINIA_BASEURL = 'http://localhost:8088'\n",
    "# ACTINIA_BASEURL = 'https://openplains.app/actinia'\n",
    "ACTINIA_URL = ACTINIA_BASEURL + \"/api/\" + ACTINIA_VERSION\n",
    "ACTINIA_AUTH = HTTPBasicAuth(ACTINIA_USER, ACTINIA_PASSWORD)"
   ]
  },
  {
   "cell_type": "code",
   "execution_count": 5,
   "metadata": {},
   "outputs": [],
   "source": [
    "sys.path.append(\n",
    "    subprocess.check_output([\"grass\", \"--config\", \"python_path\"], text=True).strip()\n",
    ")\n",
    "# create a temporary folder where to place our GRASS project\n",
    "import tempfile\n",
    "from pathlib import Path\n",
    "\n",
    "tempdir = tempfile.TemporaryDirectory()\n",
    "\n",
    "import grass.script as gs\n",
    "import grass.jupyter as gj\n",
    "\n",
    "gs.create_project(path=tempdir.name, name=\"foss4g2024_p2\", epsg=\"2817\", overwrite=True)\n",
    "session = gj.init(Path(tempdir.name,\"foss4g2024_p2\"))"
   ]
  },
  {
   "cell_type": "code",
   "execution_count": 6,
   "metadata": {},
   "outputs": [
    {
     "name": "stdout",
     "output_type": "stream",
     "text": [
      "{'id': 'g.region_1804289383',\n",
      " 'inputs': [{'param': 'raster', 'value': 'elevation'},\n",
      "            {'param': 'res', 'value': '10'},\n",
      "            {'param': 'format', 'value': 'plain'}],\n",
      " 'module': 'g.region'}\n"
     ]
    }
   ],
   "source": [
    "step_1_raw = !g.region raster=elevation res=10 --json\n",
    "step_1 = ''.join(step_1_raw)\n",
    "step_1_json = json.loads(step_1)\n",
    "pprint(step_1_json)"
   ]
  },
  {
   "cell_type": "code",
   "execution_count": null,
   "metadata": {},
   "outputs": [],
   "source": [
    "g.region align=direction_3k_10m_d@basin_test n='252702.4094174725' e='618028.8126522538' s='229056.70015573464' w='598579.6858165322'\n",
    "r.circle -b output=circle coordinate='601225.5895524962,241014.7657618352' max=200\n",
    "r.stream.basins -c direction=direction_3k_10m_d@basin_test stream_rast=circle basins=point_basin_cloud memory=1500\n",
    "r.to.vect input=point_basin_cloud output=point_basin_cloud type=area column=value\n",
    "r.mask raster=point_basin_cloud\n",
    "r.stats input='nlcd_2019@https://storage.googleapis.com/tomorrownow-actinia-dev/nlcd/nlcd_2019_cog.tif' separator=\",\" output=\"point_basin_stats.csv\" -alnpc\n",
    "v.out.ogr in=point_basin_cloud output='PG:host=db port=5432 dbname=actinia user=actinia password=actinia' format=PostgreSQL type=area"
   ]
  },
  {
   "cell_type": "markdown",
   "metadata": {},
   "source": [
    "\n",
    "## Output formats\n",
    "\n",
    "- **kv**: parses the module output and creates key/value pairs\n",
    "- **list**: parses the module output and creates a list of values\n",
    "- **table**: parses the module output and creates a list of lists with values aka 2D array aka table\n"
   ]
  },
  {
   "cell_type": "markdown",
   "metadata": {},
   "source": []
  },
  {
   "cell_type": "markdown",
   "metadata": {},
   "source": []
  }
 ],
 "metadata": {
  "kernelspec": {
   "display_name": "venv",
   "language": "python",
   "name": "python3"
  },
  "language_info": {
   "codemirror_mode": {
    "name": "ipython",
    "version": 3
   },
   "file_extension": ".py",
   "mimetype": "text/x-python",
   "name": "python",
   "nbconvert_exporter": "python",
   "pygments_lexer": "ipython3",
   "version": "3.10.12"
  }
 },
 "nbformat": 4,
 "nbformat_minor": 2
}
