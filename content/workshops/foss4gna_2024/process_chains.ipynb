{
 "cells": [
  {
   "cell_type": "markdown",
   "metadata": {
    "vscode": {
     "languageId": "raw"
    }
   },
   "source": [
    "---\n",
    "title: Part 3. Actinia Process Chians\n",
    "description: Learn how to create custom actinia process chain templates for GRASS GIS application.\n",
    "format: html\n",
    "author: \n",
    "    - Corey T. White\n",
    "    - Vaclav Petras\n",
    "date: '2024-09-10'\n",
    "keep-ipynb: true\n",
    "toc: true\n",
    "toc-depth: 4\n",
    "image:  images/webinar_title.webp\n",
    "categories: [geospatial, GRASS v8.5, jupyter, lidar, STAC]\n",
    "page-layout: full\n",
    "title-block-banner: true\n",
    "---"
   ]
  },
  {
   "cell_type": "markdown",
   "metadata": {},
   "source": [
    "## Setup Environment"
   ]
  },
  {
   "cell_type": "code",
   "execution_count": 4,
   "metadata": {},
   "outputs": [],
   "source": [
    "import os\n",
    "import subprocess\n",
    "from pprint import pprint\n",
    "import sys\n",
    "import json\n",
    "import time\n",
    "\n",
    "import requests\n",
    "from requests.auth import HTTPBasicAuth"
   ]
  },
  {
   "cell_type": "markdown",
   "metadata": {},
   "source": [
    "### Set Variables"
   ]
  },
  {
   "cell_type": "code",
   "execution_count": 5,
   "metadata": {},
   "outputs": [],
   "source": [
    "ACTINIA_USER = 'actinia-gdi'\n",
    "ACTINIA_PASSWORD = 'actinia-gdi'\n",
    "AUTH = 'actinia-gdi:actinia-gdi'\n",
    "ACTINIA_VERSION = 'v3'\n",
    "ACTINIA_BASEURL = 'http://localhost:8088'\n",
    "# ACTINIA_BASEURL = 'https://openplains.app/actinia'\n",
    "ACTINIA_URL = ACTINIA_BASEURL + \"/api/\" + ACTINIA_VERSION\n",
    "ACTINIA_AUTH = HTTPBasicAuth(ACTINIA_USER, ACTINIA_PASSWORD)"
   ]
  },
  {
   "cell_type": "markdown",
   "metadata": {},
   "source": [
    "### Setup GRASS Session"
   ]
  },
  {
   "cell_type": "code",
   "execution_count": 6,
   "metadata": {},
   "outputs": [],
   "source": [
    "sys.path.append(\n",
    "    subprocess.check_output([\"grass\", \"--config\", \"python_path\"], text=True).strip()\n",
    ")\n",
    "# create a temporary folder where to place our GRASS project\n",
    "import tempfile\n",
    "from pathlib import Path\n",
    "\n",
    "tempdir = tempfile.TemporaryDirectory()\n",
    "\n",
    "import grass.script as gs\n",
    "import grass.jupyter as gj\n",
    "\n",
    "gs.create_project(path=tempdir.name, name=\"foss4g2024_p2\", epsg=\"2817\", overwrite=True)\n",
    "session = gj.init(Path(tempdir.name,\"foss4g2024_p2\"))"
   ]
  },
  {
   "cell_type": "code",
   "execution_count": 7,
   "metadata": {},
   "outputs": [],
   "source": [
    "def print_as_json(data):\n",
    "    print(json.dumps(data, indent=2))"
   ]
  },
  {
   "cell_type": "markdown",
   "metadata": {},
   "source": [
    "## Basic User Limits\n",
    "\n",
    "**LIMITS**\n",
    "- max_cell_limit = 2000000\n",
    "- process_time_limt = 60\n",
    "- process_num_limit = 20\n",
    "- number_of_workers = 3"
   ]
  },
  {
   "cell_type": "markdown",
   "metadata": {},
   "source": [
    "\n",
    "## Output formats\n",
    "\n",
    "- **kv**: parses the module output and creates key/value pairs\n",
    "- **list**: parses the module output and creates a list of values\n",
    "- **table**: parses the module output and creates a list of lists with values aka 2D array aka table\n"
   ]
  },
  {
   "cell_type": "markdown",
   "metadata": {},
   "source": [
    "## Let's generate a process chain"
   ]
  },
  {
   "cell_type": "code",
   "execution_count": 12,
   "metadata": {},
   "outputs": [],
   "source": [
    "pc = {\n",
    "    \"list\": [],\n",
    "    \"version\": 1\n",
    "}"
   ]
  },
  {
   "cell_type": "markdown",
   "metadata": {},
   "source": [
    "From [actinia](https://actinia-org.github.io/actinia-core/tutorial_process_chain/)"
   ]
  },
  {
   "cell_type": "markdown",
   "metadata": {},
   "source": [
    "```json\n",
    " {\n",
    "   \"list\": [\n",
    "     {\n",
    "       \"module\": \"g.region\",\n",
    "       \"id\": \"g_region_1\",\n",
    "       \"inputs\": [\n",
    "         {\n",
    "           \"import_descr\": {\n",
    "             \"source\": \"https://storage.googleapis.com/graas-geodata/elev_ned_30m.tif\",\n",
    "             \"type\": \"raster\"\n",
    "           },\n",
    "           \"param\": \"raster\",\n",
    "           \"value\": \"elev_ned_30m_new\"\n",
    "         }\n",
    "       ],\n",
    "       \"flags\": \"p\"\n",
    "     },\n",
    "     {\n",
    "       \"module\": \"r.slope.aspect\",\n",
    "       \"id\": \"r_slope_aspect_1\",\n",
    "       \"inputs\": [\n",
    "         {\n",
    "           \"param\": \"elevation\",\n",
    "           \"value\": \"elev_ned_30m_new\"\n",
    "         }\n",
    "       ],\n",
    "       \"outputs\": [\n",
    "         {\n",
    "           \"export\": {\n",
    "             \"format\": \"GTiff\",\n",
    "             \"type\": \"raster\"\n",
    "           },\n",
    "           \"param\": \"slope\",\n",
    "           \"value\": \"elev_ned_30m_new_slope\"\n",
    "         }\n",
    "       ],\n",
    "       \"flags\": \"a\"\n",
    "     }\n",
    "   ],\n",
    "   \"version\": \"1\"\n",
    " }\n",
    "```"
   ]
  },
  {
   "cell_type": "code",
   "execution_count": null,
   "metadata": {},
   "outputs": [],
   "source": [
    "step_1_raw = !g.region raster=elevation res=30 --json\n",
    "step_1 = ''.join(step_1_raw)\n",
    "step_1_json = json.loads(step_1)\n",
    "pprint(step_1_json)"
   ]
  },
  {
   "cell_type": "code",
   "execution_count": 10,
   "metadata": {},
   "outputs": [
    {
     "name": "stdout",
     "output_type": "stream",
     "text": [
      "{'id': 'r.univar_1804289383',\n",
      " 'inputs': [{'param': 'map', 'value': 'elevation'},\n",
      "            {'param': 'percentile', 'value': '90'},\n",
      "            {'param': 'nprocs', 'value': '1'},\n",
      "            {'param': 'separator', 'value': 'pipe'},\n",
      "            {'param': 'format', 'value': 'json'}],\n",
      " 'module': 'r.univar'}\n"
     ]
    }
   ],
   "source": [
    "step_2_raw = !r.univar map=elevation format=\"json\" --json\n",
    "step_2 = ''.join(step_2_raw)\n",
    "step_2_json = json.loads(step_2)\n",
    "pprint(step_2_json)"
   ]
  },
  {
   "cell_type": "code",
   "execution_count": 14,
   "metadata": {},
   "outputs": [
    {
     "name": "stdout",
     "output_type": "stream",
     "text": [
      "{'list': [{'id': 'g.region_1804289383',\n",
      "           'inputs': [{'param': 'raster', 'value': 'elevation'},\n",
      "                      {'param': 'res', 'value': '10'},\n",
      "                      {'param': 'format', 'value': 'plain'}],\n",
      "           'module': 'g.region'},\n",
      "          {'id': 'r.univar_1804289383',\n",
      "           'inputs': [{'param': 'map', 'value': 'elevation'},\n",
      "                      {'param': 'percentile', 'value': '90'},\n",
      "                      {'param': 'nprocs', 'value': '1'},\n",
      "                      {'param': 'separator', 'value': 'pipe'},\n",
      "                      {'param': 'format', 'value': 'json'}],\n",
      "           'module': 'r.univar'},\n",
      "          {'id': 'g.region_1804289383',\n",
      "           'inputs': [{'param': 'raster', 'value': 'elevation'},\n",
      "                      {'param': 'res', 'value': '10'},\n",
      "                      {'param': 'format', 'value': 'plain'}],\n",
      "           'module': 'g.region'},\n",
      "          {'id': 'r.univar_1804289383',\n",
      "           'inputs': [{'param': 'map', 'value': 'elevation'},\n",
      "                      {'param': 'percentile', 'value': '90'},\n",
      "                      {'param': 'nprocs', 'value': '1'},\n",
      "                      {'param': 'separator', 'value': 'pipe'},\n",
      "                      {'param': 'format', 'value': 'json'}],\n",
      "           'module': 'r.univar'}],\n",
      " 'version': 1}\n"
     ]
    }
   ],
   "source": [
    "pc[\"list\"].append(step_1_json)\n",
    "pc[\"list\"].append(step_2_json)\n",
    "\n",
    "pprint(pc)"
   ]
  },
  {
   "cell_type": "markdown",
   "metadata": {},
   "source": [
    "## Python Client\n",
    "\n",
    "Install"
   ]
  },
  {
   "cell_type": "code",
   "execution_count": 25,
   "metadata": {},
   "outputs": [
    {
     "name": "stdout",
     "output_type": "stream",
     "text": [
      "Requirement already satisfied: actinia-python-client in /home/coreywhite/Documents/GitHub/ncsu-geoforall-lab/tutorials/venv/lib/python3.10/site-packages (0.4.1)\n",
      "Requirement already satisfied: requests in /home/coreywhite/Documents/GitHub/ncsu-geoforall-lab/tutorials/venv/lib/python3.10/site-packages (from actinia-python-client) (2.32.3)\n",
      "Requirement already satisfied: jinja2 in /home/coreywhite/Documents/GitHub/ncsu-geoforall-lab/tutorials/venv/lib/python3.10/site-packages (from actinia-python-client) (3.1.4)\n",
      "Requirement already satisfied: sphinx-material in /home/coreywhite/Documents/GitHub/ncsu-geoforall-lab/tutorials/venv/lib/python3.10/site-packages (from actinia-python-client) (0.0.36)\n",
      "Requirement already satisfied: MarkupSafe>=2.0 in /home/coreywhite/Documents/GitHub/ncsu-geoforall-lab/tutorials/venv/lib/python3.10/site-packages (from jinja2->actinia-python-client) (2.1.5)\n",
      "Requirement already satisfied: urllib3<3,>=1.21.1 in /home/coreywhite/Documents/GitHub/ncsu-geoforall-lab/tutorials/venv/lib/python3.10/site-packages (from requests->actinia-python-client) (2.2.2)\n",
      "Requirement already satisfied: charset-normalizer<4,>=2 in /home/coreywhite/Documents/GitHub/ncsu-geoforall-lab/tutorials/venv/lib/python3.10/site-packages (from requests->actinia-python-client) (3.3.2)\n",
      "Requirement already satisfied: idna<4,>=2.5 in /home/coreywhite/Documents/GitHub/ncsu-geoforall-lab/tutorials/venv/lib/python3.10/site-packages (from requests->actinia-python-client) (3.7)\n",
      "Requirement already satisfied: certifi>=2017.4.17 in /home/coreywhite/Documents/GitHub/ncsu-geoforall-lab/tutorials/venv/lib/python3.10/site-packages (from requests->actinia-python-client) (2024.7.4)\n",
      "Requirement already satisfied: sphinx>=2.0 in /home/coreywhite/Documents/GitHub/ncsu-geoforall-lab/tutorials/venv/lib/python3.10/site-packages (from sphinx-material->actinia-python-client) (8.0.2)\n",
      "Requirement already satisfied: lxml in /home/coreywhite/Documents/GitHub/ncsu-geoforall-lab/tutorials/venv/lib/python3.10/site-packages (from sphinx-material->actinia-python-client) (5.3.0)\n",
      "Requirement already satisfied: beautifulsoup4 in /home/coreywhite/Documents/GitHub/ncsu-geoforall-lab/tutorials/venv/lib/python3.10/site-packages (from sphinx-material->actinia-python-client) (4.12.3)\n",
      "Requirement already satisfied: css-html-js-minify in /home/coreywhite/Documents/GitHub/ncsu-geoforall-lab/tutorials/venv/lib/python3.10/site-packages (from sphinx-material->actinia-python-client) (2.5.5)\n",
      "Requirement already satisfied: python-slugify[unidecode] in /home/coreywhite/Documents/GitHub/ncsu-geoforall-lab/tutorials/venv/lib/python3.10/site-packages (from sphinx-material->actinia-python-client) (8.0.4)\n",
      "Requirement already satisfied: sphinxcontrib-htmlhelp>=2.0.0 in /home/coreywhite/Documents/GitHub/ncsu-geoforall-lab/tutorials/venv/lib/python3.10/site-packages (from sphinx>=2.0->sphinx-material->actinia-python-client) (2.1.0)\n",
      "Requirement already satisfied: imagesize>=1.3 in /home/coreywhite/Documents/GitHub/ncsu-geoforall-lab/tutorials/venv/lib/python3.10/site-packages (from sphinx>=2.0->sphinx-material->actinia-python-client) (1.4.1)\n",
      "Requirement already satisfied: Pygments>=2.17 in /home/coreywhite/Documents/GitHub/ncsu-geoforall-lab/tutorials/venv/lib/python3.10/site-packages (from sphinx>=2.0->sphinx-material->actinia-python-client) (2.18.0)\n",
      "Requirement already satisfied: alabaster>=0.7.14 in /home/coreywhite/Documents/GitHub/ncsu-geoforall-lab/tutorials/venv/lib/python3.10/site-packages (from sphinx>=2.0->sphinx-material->actinia-python-client) (1.0.0)\n",
      "Requirement already satisfied: sphinxcontrib-jsmath in /home/coreywhite/Documents/GitHub/ncsu-geoforall-lab/tutorials/venv/lib/python3.10/site-packages (from sphinx>=2.0->sphinx-material->actinia-python-client) (1.0.1)\n",
      "Requirement already satisfied: packaging>=23.0 in /home/coreywhite/Documents/GitHub/ncsu-geoforall-lab/tutorials/venv/lib/python3.10/site-packages (from sphinx>=2.0->sphinx-material->actinia-python-client) (24.1)\n",
      "Requirement already satisfied: sphinxcontrib-qthelp in /home/coreywhite/Documents/GitHub/ncsu-geoforall-lab/tutorials/venv/lib/python3.10/site-packages (from sphinx>=2.0->sphinx-material->actinia-python-client) (2.0.0)\n",
      "Requirement already satisfied: tomli>=2 in /home/coreywhite/Documents/GitHub/ncsu-geoforall-lab/tutorials/venv/lib/python3.10/site-packages (from sphinx>=2.0->sphinx-material->actinia-python-client) (2.0.1)\n",
      "Requirement already satisfied: sphinxcontrib-applehelp in /home/coreywhite/Documents/GitHub/ncsu-geoforall-lab/tutorials/venv/lib/python3.10/site-packages (from sphinx>=2.0->sphinx-material->actinia-python-client) (2.0.0)\n",
      "Requirement already satisfied: snowballstemmer>=2.2 in /home/coreywhite/Documents/GitHub/ncsu-geoforall-lab/tutorials/venv/lib/python3.10/site-packages (from sphinx>=2.0->sphinx-material->actinia-python-client) (2.2.0)\n",
      "Requirement already satisfied: babel>=2.13 in /home/coreywhite/Documents/GitHub/ncsu-geoforall-lab/tutorials/venv/lib/python3.10/site-packages (from sphinx>=2.0->sphinx-material->actinia-python-client) (2.16.0)\n",
      "Requirement already satisfied: sphinxcontrib-serializinghtml>=1.1.9 in /home/coreywhite/Documents/GitHub/ncsu-geoforall-lab/tutorials/venv/lib/python3.10/site-packages (from sphinx>=2.0->sphinx-material->actinia-python-client) (2.0.0)\n",
      "Requirement already satisfied: sphinxcontrib-devhelp in /home/coreywhite/Documents/GitHub/ncsu-geoforall-lab/tutorials/venv/lib/python3.10/site-packages (from sphinx>=2.0->sphinx-material->actinia-python-client) (2.0.0)\n",
      "Requirement already satisfied: docutils<0.22,>=0.20 in /home/coreywhite/Documents/GitHub/ncsu-geoforall-lab/tutorials/venv/lib/python3.10/site-packages (from sphinx>=2.0->sphinx-material->actinia-python-client) (0.21.2)\n",
      "Requirement already satisfied: soupsieve>1.2 in /home/coreywhite/Documents/GitHub/ncsu-geoforall-lab/tutorials/venv/lib/python3.10/site-packages (from beautifulsoup4->sphinx-material->actinia-python-client) (2.6)\n",
      "Requirement already satisfied: text-unidecode>=1.3 in /home/coreywhite/Documents/GitHub/ncsu-geoforall-lab/tutorials/venv/lib/python3.10/site-packages (from python-slugify[unidecode]->sphinx-material->actinia-python-client) (1.3)\n",
      "Requirement already satisfied: Unidecode>=1.1.1 in /home/coreywhite/Documents/GitHub/ncsu-geoforall-lab/tutorials/venv/lib/python3.10/site-packages (from python-slugify[unidecode]->sphinx-material->actinia-python-client) (1.3.8)\n",
      "Collecting git+https://github.com/openplainsinc/actinia_openapi_python_client.git@v0.0.4\n",
      "  Cloning https://github.com/openplainsinc/actinia_openapi_python_client.git (to revision v0.0.4) to /tmp/pip-req-build-s5bmznb_\n",
      "  Running command git clone --filter=blob:none --quiet https://github.com/openplainsinc/actinia_openapi_python_client.git /tmp/pip-req-build-s5bmznb_\n",
      "  Resolved https://github.com/openplainsinc/actinia_openapi_python_client.git to commit af6b5bc3eeae427aa7113fe79a7818cdffac74ca\n",
      "  Installing build dependencies ... \u001b[?25ldone\n",
      "\u001b[?25h  Getting requirements to build wheel ... \u001b[?25ldone\n",
      "\u001b[?25h  Preparing metadata (pyproject.toml) ... \u001b[?25ldone\n",
      "\u001b[?25hRequirement already satisfied: python-dateutil in /home/coreywhite/Documents/GitHub/ncsu-geoforall-lab/tutorials/venv/lib/python3.10/site-packages (from actinia-openapi-python-client==0.0.4) (2.9.0.post0)\n",
      "Requirement already satisfied: pydantic>=2 in /home/coreywhite/Documents/GitHub/ncsu-geoforall-lab/tutorials/venv/lib/python3.10/site-packages (from actinia-openapi-python-client==0.0.4) (2.9.1)\n",
      "Requirement already satisfied: typing-extensions>=4.7.1 in /home/coreywhite/Documents/GitHub/ncsu-geoforall-lab/tutorials/venv/lib/python3.10/site-packages (from actinia-openapi-python-client==0.0.4) (4.12.2)\n",
      "Requirement already satisfied: urllib3<=2.2.2,>=1.25.3 in /home/coreywhite/Documents/GitHub/ncsu-geoforall-lab/tutorials/venv/lib/python3.10/site-packages (from actinia-openapi-python-client==0.0.4) (2.2.2)\n",
      "Requirement already satisfied: annotated-types>=0.6.0 in /home/coreywhite/Documents/GitHub/ncsu-geoforall-lab/tutorials/venv/lib/python3.10/site-packages (from pydantic>=2->actinia-openapi-python-client==0.0.4) (0.7.0)\n",
      "Requirement already satisfied: pydantic-core==2.23.3 in /home/coreywhite/Documents/GitHub/ncsu-geoforall-lab/tutorials/venv/lib/python3.10/site-packages (from pydantic>=2->actinia-openapi-python-client==0.0.4) (2.23.3)\n",
      "Requirement already satisfied: six>=1.5 in /home/coreywhite/Documents/GitHub/ncsu-geoforall-lab/tutorials/venv/lib/python3.10/site-packages (from python-dateutil->actinia-openapi-python-client==0.0.4) (1.16.0)\n"
     ]
    }
   ],
   "source": [
    "!pip install actinia-python-client\n",
    "!pip install git+https://github.com/openplainsinc/actinia_openapi_python_client.git@v0.0.4"
   ]
  },
  {
   "cell_type": "code",
   "execution_count": 27,
   "metadata": {},
   "outputs": [
    {
     "ename": "ModuleNotFoundError",
     "evalue": "No module named 'actinia_openapi_python_client'",
     "output_type": "error",
     "traceback": [
      "\u001b[0;31m---------------------------------------------------------------------------\u001b[0m",
      "\u001b[0;31mModuleNotFoundError\u001b[0m                       Traceback (most recent call last)",
      "Cell \u001b[0;32mIn[27], line 1\u001b[0m\n\u001b[0;32m----> 1\u001b[0m \u001b[38;5;28;01mimport\u001b[39;00m \u001b[38;5;21;01mactinia_openapi_python_client\u001b[39;00m\u001b[38;5;21;01m.\u001b[39;00m\u001b[38;5;21;01mapi_client\u001b[39;00m\n\u001b[1;32m      2\u001b[0m \u001b[38;5;28;01mfrom\u001b[39;00m \u001b[38;5;21;01mactinia_openapi_python_client\u001b[39;00m\u001b[38;5;21;01m.\u001b[39;00m\u001b[38;5;21;01mrest\u001b[39;00m \u001b[38;5;28;01mimport\u001b[39;00m ApiException\n\u001b[1;32m      3\u001b[0m \u001b[38;5;28;01mfrom\u001b[39;00m \u001b[38;5;21;01mpprint\u001b[39;00m \u001b[38;5;28;01mimport\u001b[39;00m pprint\n",
      "\u001b[0;31mModuleNotFoundError\u001b[0m: No module named 'actinia_openapi_python_client'"
     ]
    }
   ],
   "source": [
    "import actinia_openapi_python_client.api_client\n",
    "from actinia_openapi_python_client.rest import ApiException\n",
    "from pprint import pprint\n",
    "\n",
    "# Defining the host is optional and defaults to http://localhost\n",
    "# See configuration.py for a list of all supported configuration parameters.\n",
    "configuration = actinia_openapi_python_client.Configuration(\n",
    "    host = \"http://localhost:8088\"\n",
    ")\n",
    "\n",
    "# The client must configure the authentication and authorization parameters\n",
    "# in accordance with the API server security policy.\n",
    "# Examples for each auth method are provided below, use the example that\n",
    "# satisfies your auth use case.\n",
    "\n",
    "# Configure HTTP basic authorization: basicAuth\n",
    "configuration = actinia_openapi_python_client.Configuration(\n",
    "    username = ACTINIA_USER,\n",
    "    password = ACTINIA_PASSWORD\n",
    ")\n",
    "\n",
    "\n",
    "# Enter a context with an instance of the API client\n",
    "with actinia_openapi_python_client.ApiClient(configuration) as api_client:\n",
    "    # Create an instance of the API class\n",
    "    api_instance = actinia_openapi_python_client.APILogApi(api_client)\n",
    "    user_id = ACTINIA_USER # str | The unique user name/id\n",
    "\n",
    "    try:\n",
    "        # Get a list of all API calls that have been called by the provided user.\n",
    "        api_response = api_instance.api_log_user_id_get(user_id)\n",
    "        print(\"The response of APILogApi->api_log_user_id_get:\\n\")\n",
    "        pprint(api_response)\n",
    "    except ApiException as e:\n",
    "        print(\"Exception when calling APILogApi->api_log_user_id_get: %s\\n\" % e)\n"
   ]
  },
  {
   "cell_type": "code",
   "execution_count": 29,
   "metadata": {},
   "outputs": [
    {
     "ename": "ModuleNotFoundError",
     "evalue": "No module named 'actinia'",
     "output_type": "error",
     "traceback": [
      "\u001b[0;31m---------------------------------------------------------------------------\u001b[0m",
      "\u001b[0;31mModuleNotFoundError\u001b[0m                       Traceback (most recent call last)",
      "Cell \u001b[0;32mIn[29], line 1\u001b[0m\n\u001b[0;32m----> 1\u001b[0m \u001b[38;5;28;01mfrom\u001b[39;00m \u001b[38;5;21;01mactinia\u001b[39;00m \u001b[38;5;28;01mimport\u001b[39;00m Actinia\n\u001b[1;32m      3\u001b[0m actinia_dev \u001b[38;5;241m=\u001b[39m Actinia(\u001b[38;5;124m\"\u001b[39m\u001b[38;5;124mhttp://localhost:8088\u001b[39m\u001b[38;5;124m\"\u001b[39m, \u001b[38;5;124m\"\u001b[39m\u001b[38;5;124mv3\u001b[39m\u001b[38;5;124m\"\u001b[39m)\n\u001b[1;32m      4\u001b[0m actinia_dev\u001b[38;5;241m.\u001b[39mget_version()\n",
      "\u001b[0;31mModuleNotFoundError\u001b[0m: No module named 'actinia'"
     ]
    }
   ],
   "source": [
    "from actinia import Actinia\n",
    "\n",
    "actinia_dev = Actinia(\"http://localhost:8088\", \"v3\")\n",
    "actinia_dev.get_version()\n",
    "actinia_dev.set_authentication(ACTINIA_USER, ACTINIA_PASSWORD)\n"
   ]
  },
  {
   "cell_type": "code",
   "execution_count": 45,
   "metadata": {},
   "outputs": [],
   "source": [
    "mapset_id = 'PERMANENT'\n",
    "location_id = 'nc_spm_08_grass7'\n",
    "url = f\"{ACTINIA_URL}/locations/{location_id}/mapsets/{mapset_id}/processing_async\"\n",
    "\n",
    "response = requests.post( url, auth=ACTINIA_AUTH, json=pc)\n",
    "\n",
    "pprint(response.json())\n",
    "RESPONSE_ID = response['urls']['status']\n",
    "\n",
    "print(\"-\" * 80)\n",
    "print(RESPONSE_ID)"
   ]
  },
  {
   "cell_type": "code",
   "execution_count": 44,
   "metadata": {},
   "outputs": [
    {
     "ename": "NameError",
     "evalue": "name 'RESPONSE_ID' is not defined",
     "output_type": "error",
     "traceback": [
      "\u001b[0;31m---------------------------------------------------------------------------\u001b[0m",
      "\u001b[0;31mNameError\u001b[0m                                 Traceback (most recent call last)",
      "Cell \u001b[0;32mIn[44], line 1\u001b[0m\n\u001b[0;32m----> 1\u001b[0m response \u001b[38;5;241m=\u001b[39m requests\u001b[38;5;241m.\u001b[39mget(\u001b[43mRESPONSE_ID\u001b[49m, auth\u001b[38;5;241m=\u001b[39mACTINIA_AUTH)\n\u001b[1;32m      3\u001b[0m pprint(response\u001b[38;5;241m.\u001b[39mjson())\n",
      "\u001b[0;31mNameError\u001b[0m: name 'RESPONSE_ID' is not defined"
     ]
    }
   ],
   "source": [
    "response = requests.get(RESPONSE_ID, auth=ACTINIA_AUTH)\n",
    "\n",
    "pprint(response.json())"
   ]
  },
  {
   "cell_type": "markdown",
   "metadata": {},
   "source": []
  }
 ],
 "metadata": {
  "kernelspec": {
   "display_name": "venv",
   "language": "python",
   "name": "python3"
  },
  "language_info": {
   "codemirror_mode": {
    "name": "ipython",
    "version": 3
   },
   "file_extension": ".py",
   "mimetype": "text/x-python",
   "name": "python",
   "nbconvert_exporter": "python",
   "pygments_lexer": "ipython3",
   "version": "3.10.12"
  }
 },
 "nbformat": 4,
 "nbformat_minor": 2
}
