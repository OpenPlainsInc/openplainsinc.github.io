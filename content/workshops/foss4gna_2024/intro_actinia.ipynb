{
 "cells": [
  {
   "cell_type": "markdown",
   "metadata": {
    "vscode": {
     "languageId": "raw"
    }
   },
   "source": [
    "---\n",
    "title: Part 2. Introduction to Actinia\n",
    "description: Learn how to use actinia to create a cloud-based processing environment for GRASS GIS.\n",
    "format: html\n",
    "author: Corey T. White\n",
    "date: '2024-09-10'\n",
    "keep-ipynb: true\n",
    "toc: true\n",
    "toc-depth: 4\n",
    "image:  images/webinar_title.webp\n",
    "categories: [geospatial, GRASS v8.5, jupyter, lidar, STAC]\n",
    "page-layout: full\n",
    "title-block-banner: true\n",
    "---"
   ]
  },
  {
   "cell_type": "markdown",
   "metadata": {
    "vscode": {
     "languageId": "raw"
    }
   },
   "source": [
    "## REST API for GRASS GIS\n",
    "\n",
    "- [GRASS GIS](https://grass.osgeo.org/) is a Geospatial Processing Engine\n",
    "- Open Source (GPL v2)\n",
    "- Developed by International and Multi-institutional groups and individuals (GRASS Development Team)\n",
    "- Member of the Open Source Geospatial Foundatispace\n",
    "- Recieved Open Source Security Foundation (OpenSSF) Best Practices Badge - 2024"
   ]
  },
  {
   "cell_type": "markdown",
   "metadata": {
    "vscode": {
     "languageId": "raw"
    }
   },
   "source": [
    "```{mermaid}\n",
    "flowchart LR\n",
    "  A[Client] -->|Http Request| B[Actinia REST API]\n",
    "  B <--> D[GRASS GIS Processing Node]\n",
    "  B -->|Http Response| A\n",
    "```\n"
   ]
  },
  {
   "cell_type": "markdown",
   "metadata": {},
   "source": [
    "## Import Python Libraries"
   ]
  },
  {
   "cell_type": "code",
   "execution_count": 2,
   "metadata": {},
   "outputs": [],
   "source": [
    "import os\n",
    "import subprocess\n",
    "from pprint import pprint\n",
    "import sys\n",
    "import json\n",
    "import time\n",
    "\n",
    "import requests\n",
    "from requests.auth import HTTPBasicAuth"
   ]
  },
  {
   "cell_type": "markdown",
   "metadata": {},
   "source": [
    "## Setup Environment"
   ]
  },
  {
   "cell_type": "code",
   "execution_count": 27,
   "metadata": {},
   "outputs": [],
   "source": [
    "gisbase = subprocess.check_output([\"grass\", \"--config\", \"path\"], text=True).strip()\n",
    "GISBASE = gisbase\n",
    "ACTINIA_USER = 'actinia-gdi'\n",
    "ACTINIA_PASSWORD = 'actinia-gdi'\n",
    "AUTH = 'actinia-gdi:actinia-gdi'\n",
    "ACTINIA_URL = 'http://localhost:8088'\n",
    "ACTINIA_URL = 'https://openplains.app/actinia'\n",
    "ACTINIA_VERSION = 'v3'\n",
    "ACTINIA_BASEURL = 'http://localhost:8088'\n",
    "ACTINIA_BASEURL = 'https://openplains.app/actinia'\n",
    "ACTINIA_URL = ACTINIA_BASEURL + \"/api/\" + ACTINIA_VERSION\n",
    "ACTINIA_AUTH = HTTPBasicAuth(ACTINIA_USER, ACTINIA_PASSWORD)"
   ]
  },
  {
   "cell_type": "markdown",
   "metadata": {},
   "source": [
    "## actinia REST API\n",
    "\n",
    "[actinia](https://github.com/actinia-org)\n",
    "\n",
    "### Tools\n",
    "\n",
    "- [actinia-python-client](https://github.com/actinia-org/actinia-python-client)\n",
    "- [actinia_openapi_python_client](https://github.com/OpenPlainsInc/actinia_openapi_python_client)"
   ]
  },
  {
   "cell_type": "code",
   "execution_count": null,
   "metadata": {},
   "outputs": [],
   "source": [
    "!pip3 install actinia-python-client\n",
    "!pip3 install git+https://github.com/openplainsinc/actinia_openapi_python_client.git@v0.0.4"
   ]
  },
  {
   "cell_type": "markdown",
   "metadata": {},
   "source": [
    "## Acinia Basics"
   ]
  },
  {
   "cell_type": "code",
   "execution_count": 30,
   "metadata": {},
   "outputs": [
    {
     "ename": "JSONDecodeError",
     "evalue": "Expecting value: line 1 column 1 (char 0)",
     "output_type": "error",
     "traceback": [
      "\u001b[0;31m---------------------------------------------------------------------------\u001b[0m",
      "\u001b[0;31mJSONDecodeError\u001b[0m                           Traceback (most recent call last)",
      "File \u001b[0;32m~/Documents/GitHub/OpenPlains/openplainsinc.github.io/venv/lib/python3.10/site-packages/requests/models.py:974\u001b[0m, in \u001b[0;36mResponse.json\u001b[0;34m(self, **kwargs)\u001b[0m\n\u001b[1;32m    973\u001b[0m \u001b[38;5;28;01mtry\u001b[39;00m:\n\u001b[0;32m--> 974\u001b[0m     \u001b[38;5;28;01mreturn\u001b[39;00m \u001b[43mcomplexjson\u001b[49m\u001b[38;5;241;43m.\u001b[39;49m\u001b[43mloads\u001b[49m\u001b[43m(\u001b[49m\u001b[38;5;28;43mself\u001b[39;49m\u001b[38;5;241;43m.\u001b[39;49m\u001b[43mtext\u001b[49m\u001b[43m,\u001b[49m\u001b[43m \u001b[49m\u001b[38;5;241;43m*\u001b[39;49m\u001b[38;5;241;43m*\u001b[39;49m\u001b[43mkwargs\u001b[49m\u001b[43m)\u001b[49m\n\u001b[1;32m    975\u001b[0m \u001b[38;5;28;01mexcept\u001b[39;00m JSONDecodeError \u001b[38;5;28;01mas\u001b[39;00m e:\n\u001b[1;32m    976\u001b[0m     \u001b[38;5;66;03m# Catch JSON-related errors and raise as requests.JSONDecodeError\u001b[39;00m\n\u001b[1;32m    977\u001b[0m     \u001b[38;5;66;03m# This aliases json.JSONDecodeError and simplejson.JSONDecodeError\u001b[39;00m\n",
      "File \u001b[0;32m/usr/lib/python3.10/json/__init__.py:346\u001b[0m, in \u001b[0;36mloads\u001b[0;34m(s, cls, object_hook, parse_float, parse_int, parse_constant, object_pairs_hook, **kw)\u001b[0m\n\u001b[1;32m    343\u001b[0m \u001b[38;5;28;01mif\u001b[39;00m (\u001b[38;5;28mcls\u001b[39m \u001b[38;5;129;01mis\u001b[39;00m \u001b[38;5;28;01mNone\u001b[39;00m \u001b[38;5;129;01mand\u001b[39;00m object_hook \u001b[38;5;129;01mis\u001b[39;00m \u001b[38;5;28;01mNone\u001b[39;00m \u001b[38;5;129;01mand\u001b[39;00m\n\u001b[1;32m    344\u001b[0m         parse_int \u001b[38;5;129;01mis\u001b[39;00m \u001b[38;5;28;01mNone\u001b[39;00m \u001b[38;5;129;01mand\u001b[39;00m parse_float \u001b[38;5;129;01mis\u001b[39;00m \u001b[38;5;28;01mNone\u001b[39;00m \u001b[38;5;129;01mand\u001b[39;00m\n\u001b[1;32m    345\u001b[0m         parse_constant \u001b[38;5;129;01mis\u001b[39;00m \u001b[38;5;28;01mNone\u001b[39;00m \u001b[38;5;129;01mand\u001b[39;00m object_pairs_hook \u001b[38;5;129;01mis\u001b[39;00m \u001b[38;5;28;01mNone\u001b[39;00m \u001b[38;5;129;01mand\u001b[39;00m \u001b[38;5;129;01mnot\u001b[39;00m kw):\n\u001b[0;32m--> 346\u001b[0m     \u001b[38;5;28;01mreturn\u001b[39;00m \u001b[43m_default_decoder\u001b[49m\u001b[38;5;241;43m.\u001b[39;49m\u001b[43mdecode\u001b[49m\u001b[43m(\u001b[49m\u001b[43ms\u001b[49m\u001b[43m)\u001b[49m\n\u001b[1;32m    347\u001b[0m \u001b[38;5;28;01mif\u001b[39;00m \u001b[38;5;28mcls\u001b[39m \u001b[38;5;129;01mis\u001b[39;00m \u001b[38;5;28;01mNone\u001b[39;00m:\n",
      "File \u001b[0;32m/usr/lib/python3.10/json/decoder.py:337\u001b[0m, in \u001b[0;36mJSONDecoder.decode\u001b[0;34m(self, s, _w)\u001b[0m\n\u001b[1;32m    333\u001b[0m \u001b[38;5;250m\u001b[39m\u001b[38;5;124;03m\"\"\"Return the Python representation of ``s`` (a ``str`` instance\u001b[39;00m\n\u001b[1;32m    334\u001b[0m \u001b[38;5;124;03mcontaining a JSON document).\u001b[39;00m\n\u001b[1;32m    335\u001b[0m \n\u001b[1;32m    336\u001b[0m \u001b[38;5;124;03m\"\"\"\u001b[39;00m\n\u001b[0;32m--> 337\u001b[0m obj, end \u001b[38;5;241m=\u001b[39m \u001b[38;5;28;43mself\u001b[39;49m\u001b[38;5;241;43m.\u001b[39;49m\u001b[43mraw_decode\u001b[49m\u001b[43m(\u001b[49m\u001b[43ms\u001b[49m\u001b[43m,\u001b[49m\u001b[43m \u001b[49m\u001b[43midx\u001b[49m\u001b[38;5;241;43m=\u001b[39;49m\u001b[43m_w\u001b[49m\u001b[43m(\u001b[49m\u001b[43ms\u001b[49m\u001b[43m,\u001b[49m\u001b[43m \u001b[49m\u001b[38;5;241;43m0\u001b[39;49m\u001b[43m)\u001b[49m\u001b[38;5;241;43m.\u001b[39;49m\u001b[43mend\u001b[49m\u001b[43m(\u001b[49m\u001b[43m)\u001b[49m\u001b[43m)\u001b[49m\n\u001b[1;32m    338\u001b[0m end \u001b[38;5;241m=\u001b[39m _w(s, end)\u001b[38;5;241m.\u001b[39mend()\n",
      "File \u001b[0;32m/usr/lib/python3.10/json/decoder.py:355\u001b[0m, in \u001b[0;36mJSONDecoder.raw_decode\u001b[0;34m(self, s, idx)\u001b[0m\n\u001b[1;32m    354\u001b[0m \u001b[38;5;28;01mexcept\u001b[39;00m \u001b[38;5;167;01mStopIteration\u001b[39;00m \u001b[38;5;28;01mas\u001b[39;00m err:\n\u001b[0;32m--> 355\u001b[0m     \u001b[38;5;28;01mraise\u001b[39;00m JSONDecodeError(\u001b[38;5;124m\"\u001b[39m\u001b[38;5;124mExpecting value\u001b[39m\u001b[38;5;124m\"\u001b[39m, s, err\u001b[38;5;241m.\u001b[39mvalue) \u001b[38;5;28;01mfrom\u001b[39;00m \u001b[38;5;28;01mNone\u001b[39;00m\n\u001b[1;32m    356\u001b[0m \u001b[38;5;28;01mreturn\u001b[39;00m obj, end\n",
      "\u001b[0;31mJSONDecodeError\u001b[0m: Expecting value: line 1 column 1 (char 0)",
      "\nDuring handling of the above exception, another exception occurred:\n",
      "\u001b[0;31mJSONDecodeError\u001b[0m                           Traceback (most recent call last)",
      "Cell \u001b[0;32mIn[30], line 3\u001b[0m\n\u001b[1;32m      1\u001b[0m url \u001b[38;5;241m=\u001b[39m \u001b[38;5;124mf\u001b[39m\u001b[38;5;124m\"\u001b[39m\u001b[38;5;132;01m{\u001b[39;00mACTINIA_URL\u001b[38;5;132;01m}\u001b[39;00m\u001b[38;5;124m/version\u001b[39m\u001b[38;5;124m\"\u001b[39m\n\u001b[1;32m      2\u001b[0m response \u001b[38;5;241m=\u001b[39m requests\u001b[38;5;241m.\u001b[39mget( url)\n\u001b[0;32m----> 3\u001b[0m pprint(\u001b[43mresponse\u001b[49m\u001b[38;5;241;43m.\u001b[39;49m\u001b[43mjson\u001b[49m\u001b[43m(\u001b[49m\u001b[43m)\u001b[49m)\n\u001b[1;32m      4\u001b[0m \u001b[38;5;66;03m# pprint(response.json().get('version'))\u001b[39;00m\n",
      "File \u001b[0;32m~/Documents/GitHub/OpenPlains/openplainsinc.github.io/venv/lib/python3.10/site-packages/requests/models.py:978\u001b[0m, in \u001b[0;36mResponse.json\u001b[0;34m(self, **kwargs)\u001b[0m\n\u001b[1;32m    974\u001b[0m     \u001b[38;5;28;01mreturn\u001b[39;00m complexjson\u001b[38;5;241m.\u001b[39mloads(\u001b[38;5;28mself\u001b[39m\u001b[38;5;241m.\u001b[39mtext, \u001b[38;5;241m*\u001b[39m\u001b[38;5;241m*\u001b[39mkwargs)\n\u001b[1;32m    975\u001b[0m \u001b[38;5;28;01mexcept\u001b[39;00m JSONDecodeError \u001b[38;5;28;01mas\u001b[39;00m e:\n\u001b[1;32m    976\u001b[0m     \u001b[38;5;66;03m# Catch JSON-related errors and raise as requests.JSONDecodeError\u001b[39;00m\n\u001b[1;32m    977\u001b[0m     \u001b[38;5;66;03m# This aliases json.JSONDecodeError and simplejson.JSONDecodeError\u001b[39;00m\n\u001b[0;32m--> 978\u001b[0m     \u001b[38;5;28;01mraise\u001b[39;00m RequestsJSONDecodeError(e\u001b[38;5;241m.\u001b[39mmsg, e\u001b[38;5;241m.\u001b[39mdoc, e\u001b[38;5;241m.\u001b[39mpos)\n",
      "\u001b[0;31mJSONDecodeError\u001b[0m: Expecting value: line 1 column 1 (char 0)"
     ]
    }
   ],
   "source": [
    "url = f\"{ACTINIA_URL}/version\"\n",
    "response = requests.get( url)\n",
    "pprint(response.json())\n",
    "# pprint(response.json().get('version'))"
   ]
  },
  {
   "cell_type": "markdown",
   "metadata": {},
   "source": [
    "### GRASS Projects\n",
    "\n",
    "Let's start by requesting a list of GRASS projects from actinia."
   ]
  },
  {
   "cell_type": "code",
   "execution_count": 18,
   "metadata": {},
   "outputs": [
    {
     "name": "stdout",
     "output_type": "stream",
     "text": [
      "['nc_spm_08',\n",
      " 'test_location',\n",
      " 'Durham',\n",
      " 'myloc',\n",
      " 'sarahs_durham',\n",
      " 'Test_Location']\n"
     ]
    }
   ],
   "source": [
    "url = f\"{ACTINIA_URL}/locations\"\n",
    "\n",
    "payload = {}\n",
    "headers = {}\n",
    "\n",
    "response = requests.get( url, auth=ACTINIA_AUTH, headers=headers)\n",
    "\n",
    "pprint(response.json().get('locations'))\n"
   ]
  },
  {
   "cell_type": "markdown",
   "metadata": {},
   "source": [
    "Now we will get extra information about a specific project."
   ]
  },
  {
   "cell_type": "code",
   "execution_count": 17,
   "metadata": {},
   "outputs": [
    {
     "name": "stdout",
     "output_type": "stream",
     "text": [
      "{'projection': 'PROJCRS[\"NAD83(HARN) / North '\n",
      "               'Carolina\",BASEGEOGCRS[\"NAD83(HARN)\",DATUM[\"NAD83 (High '\n",
      "               'Accuracy Reference Network)\",ELLIPSOID[\"GRS '\n",
      "               '1980\",6378137,298.257222101,LENGTHUNIT[\"metre\",1]]],PRIMEM[\"Greenwich\",0,ANGLEUNIT[\"degree\",0.0174532925199433]],ID[\"EPSG\",4152]],CONVERSION[\"SPCS83 '\n",
      "               'North Carolina zone (meters)\",METHOD[\"Lambert Conic Conformal '\n",
      "               '(2SP)\",ID[\"EPSG\",9802]],PARAMETER[\"Latitude of false '\n",
      "               'origin\",33.75,ANGLEUNIT[\"degree\",0.0174532925199433],ID[\"EPSG\",8821]],PARAMETER[\"Longitude '\n",
      "               'of false '\n",
      "               'origin\",-79,ANGLEUNIT[\"degree\",0.0174532925199433],ID[\"EPSG\",8822]],PARAMETER[\"Latitude '\n",
      "               'of 1st standard '\n",
      "               'parallel\",36.1666666666667,ANGLEUNIT[\"degree\",0.0174532925199433],ID[\"EPSG\",8823]],PARAMETER[\"Latitude '\n",
      "               'of 2nd standard '\n",
      "               'parallel\",34.3333333333333,ANGLEUNIT[\"degree\",0.0174532925199433],ID[\"EPSG\",8824]],PARAMETER[\"Easting '\n",
      "               'at false '\n",
      "               'origin\",609601.22,LENGTHUNIT[\"metre\",1],ID[\"EPSG\",8826]],PARAMETER[\"Northing '\n",
      "               'at false '\n",
      "               'origin\",0,LENGTHUNIT[\"metre\",1],ID[\"EPSG\",8827]]],CS[Cartesian,2],AXIS[\"easting '\n",
      "               '(X)\",east,ORDER[1],LENGTHUNIT[\"metre\",1]],AXIS[\"northing '\n",
      "               '(Y)\",north,ORDER[2],LENGTHUNIT[\"metre\",1]],USAGE[SCOPE[\"Engineering '\n",
      "               'survey, topographic mapping.\"],AREA[\"United States (USA) - '\n",
      "               'North Carolina - counties of Alamance; Alexander; Alleghany; '\n",
      "               'Anson; Ashe; Avery; Beaufort; Bertie; Bladen; Brunswick; '\n",
      "               'Buncombe; Burke; Cabarrus; Caldwell; Camden; Carteret; '\n",
      "               'Caswell; Catawba; Chatham; Cherokee; Chowan; Clay; Cleveland; '\n",
      "               'Columbus; Craven; Cumberland; Currituck; Dare; Davidson; '\n",
      "               'Davie; Duplin; Durham; Edgecombe; Forsyth; Franklin; Gaston; '\n",
      "               'Gates; Graham; Granville; Greene; Guilford; Halifax; Harnett; '\n",
      "               'Haywood; Henderson; Hertford; Hoke; Hyde; Iredell; Jackson; '\n",
      "               'Johnston; Jones; Lee; Lenoir; Lincoln; Macon; Madison; Martin; '\n",
      "               'McDowell; Mecklenburg; Mitchell; Montgomery; Moore; Nash; New '\n",
      "               'Hanover; Northampton; Onslow; Orange; Pamlico; Pasquotank; '\n",
      "               'Pender; Perquimans; Person; Pitt; Polk; Randolph; Richmond; '\n",
      "               'Robeson; Rockingham; Rowan; Rutherford; Sampson; Scotland; '\n",
      "               'Stanly; Stokes; Surry; Swain; Transylvania; Tyrrell; Union; '\n",
      "               'Vance; Wake; Warren; Washington; Watauga; Wayne; Wilkes; '\n",
      "               'Wilson; Yadkin; '\n",
      "               'Yancey.\"],BBOX[33.83,-84.33,36.59,-75.38]],ID[\"EPSG\",3358]]\\n',\n",
      " 'region': {'b': 0.0,\n",
      "            'cells': 1,\n",
      "            'cells3': 1,\n",
      "            'cols': 1,\n",
      "            'cols3': 1,\n",
      "            'depths': 1,\n",
      "            'e': 1.0,\n",
      "            'ewres': 1.0,\n",
      "            'ewres3': 1.0,\n",
      "            'n': 1.0,\n",
      "            'nsres': 1.0,\n",
      "            'nsres3': 1.0,\n",
      "            'projection': 99,\n",
      "            'rows': 1,\n",
      "            'rows3': 1,\n",
      "            's': 0.0,\n",
      "            't': 1.0,\n",
      "            'tbres': 1.0,\n",
      "            'w': 0.0,\n",
      "            'zone': 0}}\n"
     ]
    }
   ],
   "source": [
    "location_id = 'nc_spm_08'\n",
    "url = f\"{ACTINIA_URL}/locations/{location_id}/info\"\n",
    "\n",
    "payload = {}\n",
    "headers = {}\n",
    "\n",
    "response = requests.get( url, auth=ACTINIA_AUTH, headers=headers)\n",
    "\n",
    "pprint(response.json().get('process_results'))"
   ]
  },
  {
   "cell_type": "markdown",
   "metadata": {},
   "source": [
    "### Mapsets\n",
    "\n",
    "We will now get a list of mapsets for a specific project."
   ]
  },
  {
   "cell_type": "code",
   "execution_count": 22,
   "metadata": {},
   "outputs": [
    {
     "name": "stdout",
     "output_type": "stream",
     "text": [
      "['PERMANENT']\n"
     ]
    }
   ],
   "source": [
    "# mapset = 'nc_spm_08'\n",
    "location_id = 'nc_spm_08'\n",
    "url = f\"{ACTINIA_URL}/locations/{location_id}/mapsets\"\n",
    "\n",
    "payload = {}\n",
    "headers = {}\n",
    "\n",
    "response = requests.get( url, auth=ACTINIA_AUTH, headers=headers)\n",
    "\n",
    "pprint(response.json().get('process_results'))"
   ]
  },
  {
   "cell_type": "markdown",
   "metadata": {},
   "source": [
    "Now let's get extra information about a specific mapset `PERMANENT`."
   ]
  },
  {
   "cell_type": "code",
   "execution_count": 16,
   "metadata": {},
   "outputs": [
    {
     "name": "stdout",
     "output_type": "stream",
     "text": [
      "{'projection': 'PROJCRS[\"NAD83(HARN) / North '\n",
      "               'Carolina\",BASEGEOGCRS[\"NAD83(HARN)\",DATUM[\"NAD83 (High '\n",
      "               'Accuracy Reference Network)\",ELLIPSOID[\"GRS '\n",
      "               '1980\",6378137,298.257222101,LENGTHUNIT[\"metre\",1]]],PRIMEM[\"Greenwich\",0,ANGLEUNIT[\"degree\",0.0174532925199433]],ID[\"EPSG\",4152]],CONVERSION[\"SPCS83 '\n",
      "               'North Carolina zone (meters)\",METHOD[\"Lambert Conic Conformal '\n",
      "               '(2SP)\",ID[\"EPSG\",9802]],PARAMETER[\"Latitude of false '\n",
      "               'origin\",33.75,ANGLEUNIT[\"degree\",0.0174532925199433],ID[\"EPSG\",8821]],PARAMETER[\"Longitude '\n",
      "               'of false '\n",
      "               'origin\",-79,ANGLEUNIT[\"degree\",0.0174532925199433],ID[\"EPSG\",8822]],PARAMETER[\"Latitude '\n",
      "               'of 1st standard '\n",
      "               'parallel\",36.1666666666667,ANGLEUNIT[\"degree\",0.0174532925199433],ID[\"EPSG\",8823]],PARAMETER[\"Latitude '\n",
      "               'of 2nd standard '\n",
      "               'parallel\",34.3333333333333,ANGLEUNIT[\"degree\",0.0174532925199433],ID[\"EPSG\",8824]],PARAMETER[\"Easting '\n",
      "               'at false '\n",
      "               'origin\",609601.22,LENGTHUNIT[\"metre\",1],ID[\"EPSG\",8826]],PARAMETER[\"Northing '\n",
      "               'at false '\n",
      "               'origin\",0,LENGTHUNIT[\"metre\",1],ID[\"EPSG\",8827]]],CS[Cartesian,2],AXIS[\"easting '\n",
      "               '(X)\",east,ORDER[1],LENGTHUNIT[\"metre\",1]],AXIS[\"northing '\n",
      "               '(Y)\",north,ORDER[2],LENGTHUNIT[\"metre\",1]],USAGE[SCOPE[\"Engineering '\n",
      "               'survey, topographic mapping.\"],AREA[\"United States (USA) - '\n",
      "               'North Carolina - counties of Alamance; Alexander; Alleghany; '\n",
      "               'Anson; Ashe; Avery; Beaufort; Bertie; Bladen; Brunswick; '\n",
      "               'Buncombe; Burke; Cabarrus; Caldwell; Camden; Carteret; '\n",
      "               'Caswell; Catawba; Chatham; Cherokee; Chowan; Clay; Cleveland; '\n",
      "               'Columbus; Craven; Cumberland; Currituck; Dare; Davidson; '\n",
      "               'Davie; Duplin; Durham; Edgecombe; Forsyth; Franklin; Gaston; '\n",
      "               'Gates; Graham; Granville; Greene; Guilford; Halifax; Harnett; '\n",
      "               'Haywood; Henderson; Hertford; Hoke; Hyde; Iredell; Jackson; '\n",
      "               'Johnston; Jones; Lee; Lenoir; Lincoln; Macon; Madison; Martin; '\n",
      "               'McDowell; Mecklenburg; Mitchell; Montgomery; Moore; Nash; New '\n",
      "               'Hanover; Northampton; Onslow; Orange; Pamlico; Pasquotank; '\n",
      "               'Pender; Perquimans; Person; Pitt; Polk; Randolph; Richmond; '\n",
      "               'Robeson; Rockingham; Rowan; Rutherford; Sampson; Scotland; '\n",
      "               'Stanly; Stokes; Surry; Swain; Transylvania; Tyrrell; Union; '\n",
      "               'Vance; Wake; Warren; Washington; Watauga; Wayne; Wilkes; '\n",
      "               'Wilson; Yadkin; '\n",
      "               'Yancey.\"],BBOX[33.83,-84.33,36.59,-75.38]],ID[\"EPSG\",3358]]\\n',\n",
      " 'region': {'b': 0.0,\n",
      "            'cells': 1,\n",
      "            'cells3': 1,\n",
      "            'cols': 1,\n",
      "            'cols3': 1,\n",
      "            'depths': 1,\n",
      "            'e': 1.0,\n",
      "            'ewres': 1.0,\n",
      "            'ewres3': 1.0,\n",
      "            'n': 1.0,\n",
      "            'nsres': 1.0,\n",
      "            'nsres3': 1.0,\n",
      "            'projection': 99,\n",
      "            'rows': 1,\n",
      "            'rows3': 1,\n",
      "            's': 0.0,\n",
      "            't': 1.0,\n",
      "            'tbres': 1.0,\n",
      "            'w': 0.0,\n",
      "            'zone': 0}}\n"
     ]
    }
   ],
   "source": [
    "mapset_id = 'PERMANENT'\n",
    "location_id = 'nc_spm_08'\n",
    "url = f\"{ACTINIA_URL}/locations/{location_id}/mapsets/{mapset_id}/info\"\n",
    "\n",
    "payload = {}\n",
    "headers = {}\n",
    "\n",
    "response = requests.get( url, auth=ACTINIA_AUTH, headers=headers)\n",
    "\n",
    "pprint(response.json().get('process_results'))"
   ]
  },
  {
   "cell_type": "markdown",
   "metadata": {},
   "source": [
    "### Layers\n",
    "\n",
    "#### Raster Layers\n",
    "\n",
    "Let's see all of the mapsets raster layers."
   ]
  },
  {
   "cell_type": "code",
   "execution_count": 21,
   "metadata": {},
   "outputs": [
    {
     "name": "stdout",
     "output_type": "stream",
     "text": [
      "[]\n"
     ]
    }
   ],
   "source": [
    "mapset_id = 'PERMANENT'\n",
    "location_id = 'nc_spm_08'\n",
    "url = f\"{ACTINIA_URL}/locations/{location_id}/mapsets/{mapset_id}/raster_layers\"\n",
    "\n",
    "payload = {}\n",
    "headers = {}\n",
    "\n",
    "response = requests.get( url, auth=ACTINIA_AUTH, headers=headers)\n",
    "\n",
    "pprint(response.json().get('process_results'))"
   ]
  },
  {
   "cell_type": "markdown",
   "metadata": {},
   "source": [
    "#### Vector Layers"
   ]
  },
  {
   "cell_type": "code",
   "execution_count": 20,
   "metadata": {},
   "outputs": [
    {
     "name": "stdout",
     "output_type": "stream",
     "text": [
      "[]\n"
     ]
    }
   ],
   "source": [
    "mapset_id = 'PERMANENT'\n",
    "location_id = 'nc_spm_08'\n",
    "url = f\"{ACTINIA_URL}/locations/{location_id}/mapsets/{mapset_id}/vector_layers\"\n",
    "\n",
    "payload = {}\n",
    "headers = {}\n",
    "\n",
    "response = requests.get( url, auth=ACTINIA_AUTH, headers=headers)\n",
    "\n",
    "pprint(response.json().get('process_results'))"
   ]
  }
 ],
 "metadata": {
  "kernelspec": {
   "display_name": "venv",
   "language": "python",
   "name": "python3"
  },
  "language_info": {
   "codemirror_mode": {
    "name": "ipython",
    "version": 3
   },
   "file_extension": ".py",
   "mimetype": "text/x-python",
   "name": "python",
   "nbconvert_exporter": "python",
   "pygments_lexer": "ipython3",
   "version": "3.10.12"
  }
 },
 "nbformat": 4,
 "nbformat_minor": 2
}
