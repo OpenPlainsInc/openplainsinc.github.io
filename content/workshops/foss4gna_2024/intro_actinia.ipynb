{
 "cells": [
  {
   "cell_type": "markdown",
   "metadata": {
    "vscode": {
     "languageId": "raw"
    }
   },
   "source": [
    "---\n",
    "title: Introduction to Actinia\n",
    "description: ...\n",
    "format: html\n",
    "author: Corey T. White\n",
    "date: '2024-09-10'\n",
    "keep-ipynb: true\n",
    "toc: true\n",
    "toc-depth: 4\n",
    "image:  images/webinar_title.webp\n",
    "categories: [geospatial, GRASS v8.5, jupyter, lidar, STAC]\n",
    "page-layout: full\n",
    "title-block-banner: true\n",
    "---"
   ]
  },
  {
   "cell_type": "markdown",
   "metadata": {
    "vscode": {
     "languageId": "raw"
    }
   },
   "source": [
    "## REST API for GRASS GIS\n",
    "\n",
    "- [GRASS GIS](https://grass.osgeo.org/) is a Geospatial Processing Engine\n",
    "- Open Source (GPL v2)\n",
    "- Developed by International and Multi-institutional groups and individuals (GRASS Development Team)\n",
    "- Member of the Open Source Geospatial Foundatispace\n",
    "- Recieved Open Source Security Foundation (OpenSSF) Best Practices Badge - 2024"
   ]
  },
  {
   "cell_type": "markdown",
   "metadata": {
    "vscode": {
     "languageId": "raw"
    }
   },
   "source": [
    "```{mermaid}\n",
    "flowchart LR\n",
    "  A[Client] -->|Http Request| B{Actinia REST API}\n",
    "  B <--> D[GRASS GIS Processing Node]\n",
    "  B -->|Http Response| A\n",
    "```\n"
   ]
  },
  {
   "cell_type": "code",
   "execution_count": 1,
   "metadata": {},
   "outputs": [
    {
     "name": "stdout",
     "output_type": "stream",
     "text": [
      "hello world\n"
     ]
    }
   ],
   "source": [
    "print(\"hello world\")"
   ]
  }
 ],
 "metadata": {
  "kernelspec": {
   "display_name": "venv",
   "language": "python",
   "name": "python3"
  },
  "language_info": {
   "codemirror_mode": {
    "name": "ipython",
    "version": 3
   },
   "file_extension": ".py",
   "mimetype": "text/x-python",
   "name": "python",
   "nbconvert_exporter": "python",
   "pygments_lexer": "ipython3",
   "version": "3.10.12"
  }
 },
 "nbformat": 4,
 "nbformat_minor": 2
}
