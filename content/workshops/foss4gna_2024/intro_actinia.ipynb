{
 "cells": [
  {
   "cell_type": "markdown",
   "metadata": {
    "vscode": {
     "languageId": "raw"
    }
   },
   "source": [
    "---\n",
    "title: Part 2. Introduction to Actinia\n",
    "description: Learn how to use actinia to create a cloud-based processing environment for GRASS GIS.\n",
    "format: html\n",
    "author:\n",
    "    - Corey T. White\n",
    "    - Vaclav Petras\n",
    "date: '2024-09-10'\n",
    "keep-ipynb: true\n",
    "toc: true\n",
    "toc-depth: 4\n",
    "image:  images/webinar_title.webp\n",
    "categories: [geospatial, GRASS v8.5, jupyter, lidar, STAC]\n",
    "page-layout: full\n",
    "title-block-banner: true\n",
    "---"
   ]
  },
  {
   "cell_type": "code",
   "execution_count": 58,
   "metadata": {},
   "outputs": [
    {
     "name": "stdout",
     "output_type": "stream",
     "text": [
      "            _   _       _         _  ___  _ \n",
      "  __ _  ___| |_(_)_ __ (_) __ _  / |/ _ \\/ |\n",
      " / _` |/ __| __| | '_ \\| |/ _` | | | | | | |\n",
      "| (_| | (__| |_| | | | | | (_| | | | |_| | |\n",
      " \\__,_|\\___|\\__|_|_| |_|_|\\__,_| |_|\\___/|_|\n",
      "                                            \n"
     ]
    }
   ],
   "source": [
    "!figlet \"actinia 101\""
   ]
  },
  {
   "cell_type": "markdown",
   "metadata": {
    "vscode": {
     "languageId": "raw"
    }
   },
   "source": [
    "## A REST API for GRASS GIS\n",
    "\n",
    "- [GRASS GIS](https://grass.osgeo.org/) is a Geospatial Processing Engine\n",
    "- Open Source (GPL v2)\n",
    "- Developed by International and Multi-institutional groups and individuals (GRASS Development Team)\n",
    "- Member of the Open Source Geospatial Foundatispace\n",
    "- Recieved Open Source Security Foundation (OpenSSF) Best Practices Badge - 2024"
   ]
  },
  {
   "cell_type": "markdown",
   "metadata": {
    "vscode": {
     "languageId": "raw"
    }
   },
   "source": [
    "```{mermaid}\n",
    "flowchart LR\n",
    "  A[Client] -->|Http Request| B[Actinia REST API]\n",
    "  B <--> D[GRASS GIS Processing Node]\n",
    "  B -->|Http Response| A\n",
    "```\n"
   ]
  },
  {
   "cell_type": "markdown",
   "metadata": {},
   "source": [
    "## Import Python Libraries"
   ]
  },
  {
   "cell_type": "code",
   "execution_count": 2,
   "metadata": {},
   "outputs": [],
   "source": [
    "import os\n",
    "import subprocess\n",
    "from pprint import pprint\n",
    "import sys\n",
    "import json\n",
    "import time\n",
    "\n",
    "import requests\n",
    "from requests.auth import HTTPBasicAuth"
   ]
  },
  {
   "cell_type": "markdown",
   "metadata": {},
   "source": [
    "## Setup Environment"
   ]
  },
  {
   "cell_type": "code",
   "execution_count": 32,
   "metadata": {},
   "outputs": [],
   "source": [
    "gisbase = subprocess.check_output([\"grass\", \"--config\", \"path\"], text=True).strip()\n",
    "GISBASE = gisbase\n",
    "ACTINIA_USER = 'actinia-gdi'\n",
    "ACTINIA_PASSWORD = 'actinia-gdi'\n",
    "AUTH = 'actinia-gdi:actinia-gdi'\n",
    "ACTINIA_URL = 'http://localhost:8088'\n",
    "# ACTINIA_URL = 'https://openplains.app/actinia'\n",
    "ACTINIA_VERSION = 'v3'\n",
    "ACTINIA_BASEURL = 'http://localhost:8088'\n",
    "# ACTINIA_BASEURL = 'https://openplains.app/actinia'\n",
    "ACTINIA_URL = ACTINIA_BASEURL + \"/api/\" + ACTINIA_VERSION\n",
    "ACTINIA_AUTH = HTTPBasicAuth(ACTINIA_USER, ACTINIA_PASSWORD)"
   ]
  },
  {
   "cell_type": "markdown",
   "metadata": {},
   "source": [
    "## actinia REST API\n",
    "\n",
    "[actinia](https://github.com/actinia-org)\n",
    "[Docker Image](https://github.com/actinia-org/actinia-docker/tree/main)\n",
    "\n",
    "### Tools\n",
    "\n",
    "- [actinia-python-client](https://github.com/actinia-org/actinia-python-client)\n",
    "- [actinia_openapi_python_client](https://github.com/OpenPlainsInc/actinia_openapi_python_client)"
   ]
  },
  {
   "cell_type": "code",
   "execution_count": null,
   "metadata": {},
   "outputs": [],
   "source": [
    "!pip3 install actinia-python-client\n",
    "!pip3 install git+https://github.com/openplainsinc/actinia_openapi_python_client.git@v0.0.4"
   ]
  },
  {
   "cell_type": "markdown",
   "metadata": {},
   "source": [
    "## Acinia Basics"
   ]
  },
  {
   "cell_type": "code",
   "execution_count": 59,
   "metadata": {},
   "outputs": [
    {
     "name": "stdout",
     "output_type": "stream",
     "text": [
      "'4.14.1'\n"
     ]
    }
   ],
   "source": [
    "url = f\"{ACTINIA_URL}/version\"\n",
    "response = requests.get( url)\n",
    "# pprint(response.json())\n",
    "pprint(response.json().get('version'))"
   ]
  },
  {
   "cell_type": "markdown",
   "metadata": {},
   "source": [
    "## User Roles\n",
    "\n",
    "1. **Superadmin**\n",
    "    - Create, modify and delete users\n",
    "    - Read/write access to all databases\n",
    "    - Can access all API calls\n",
    "\n",
    "2. **Admin**\n",
    "    - All API Calls\n",
    "    - Create, modify and delete users with the maximum user-role user of the same user grou\n",
    "    - Access to persistent databases that were granted by a **superadmin**\n",
    "\n",
    "3. **User**\n",
    "    - Can run computational tasks in ephemeral and user specific databases\n",
    "    - Create, modify and delete locations in a user specific database\n",
    "    - Create, modify and delete mapsets in user specific databases\n",
    "    - Limited access to API calls\n",
    "    - Has limited access to persistent databases\n",
    "\n",
    "4. **Guest**\n",
    "    - Has very limited access to API calls\n",
    "    - Limited access to persistent databases\n",
    "\n",
    ":::aside\n",
    "https://actinia-org.github.io/actinia-core/actinia_concepts/\n",
    ":::\n"
   ]
  },
  {
   "cell_type": "markdown",
   "metadata": {},
   "source": [
    "### GRASS Projects\n",
    "\n",
    "Let's start by requesting a list of GRASS projects from actinia.\n",
    "\n",
    "```{mermaid}\n",
    "flowchart LR\n",
    "  A[\"/api/v3/locations\"]\n",
    "```"
   ]
  },
  {
   "cell_type": "code",
   "execution_count": 62,
   "metadata": {},
   "outputs": [
    {
     "name": "stdout",
     "output_type": "stream",
     "text": [
      "['nc_spm_08']\n"
     ]
    }
   ],
   "source": [
    "url = f\"{ACTINIA_URL}/locations\"\n",
    "\n",
    "response = requests.get( url, auth=ACTINIA_AUTH)\n",
    "\n",
    "pprint(response.json().get('locations'))\n"
   ]
  },
  {
   "cell_type": "markdown",
   "metadata": {},
   "source": [
    "Now we will get extra information about a specific project.\n",
    "\n",
    "```{mermaid}\n",
    "flowchart LR\n",
    "  A[\"/api/v3/locations/\"]\n",
    "  A --- C[\"{location_id}\"]\n",
    "  C --- D[\"/info\"]\n",
    "```"
   ]
  },
  {
   "cell_type": "code",
   "execution_count": 17,
   "metadata": {},
   "outputs": [
    {
     "name": "stdout",
     "output_type": "stream",
     "text": [
      "{'projection': 'PROJCRS[\"NAD83(HARN) / North '\n",
      "               'Carolina\",BASEGEOGCRS[\"NAD83(HARN)\",DATUM[\"NAD83 (High '\n",
      "               'Accuracy Reference Network)\",ELLIPSOID[\"GRS '\n",
      "               '1980\",6378137,298.257222101,LENGTHUNIT[\"metre\",1]]],PRIMEM[\"Greenwich\",0,ANGLEUNIT[\"degree\",0.0174532925199433]],ID[\"EPSG\",4152]],CONVERSION[\"SPCS83 '\n",
      "               'North Carolina zone (meters)\",METHOD[\"Lambert Conic Conformal '\n",
      "               '(2SP)\",ID[\"EPSG\",9802]],PARAMETER[\"Latitude of false '\n",
      "               'origin\",33.75,ANGLEUNIT[\"degree\",0.0174532925199433],ID[\"EPSG\",8821]],PARAMETER[\"Longitude '\n",
      "               'of false '\n",
      "               'origin\",-79,ANGLEUNIT[\"degree\",0.0174532925199433],ID[\"EPSG\",8822]],PARAMETER[\"Latitude '\n",
      "               'of 1st standard '\n",
      "               'parallel\",36.1666666666667,ANGLEUNIT[\"degree\",0.0174532925199433],ID[\"EPSG\",8823]],PARAMETER[\"Latitude '\n",
      "               'of 2nd standard '\n",
      "               'parallel\",34.3333333333333,ANGLEUNIT[\"degree\",0.0174532925199433],ID[\"EPSG\",8824]],PARAMETER[\"Easting '\n",
      "               'at false '\n",
      "               'origin\",609601.22,LENGTHUNIT[\"metre\",1],ID[\"EPSG\",8826]],PARAMETER[\"Northing '\n",
      "               'at false '\n",
      "               'origin\",0,LENGTHUNIT[\"metre\",1],ID[\"EPSG\",8827]]],CS[Cartesian,2],AXIS[\"easting '\n",
      "               '(X)\",east,ORDER[1],LENGTHUNIT[\"metre\",1]],AXIS[\"northing '\n",
      "               '(Y)\",north,ORDER[2],LENGTHUNIT[\"metre\",1]],USAGE[SCOPE[\"Engineering '\n",
      "               'survey, topographic mapping.\"],AREA[\"United States (USA) - '\n",
      "               'North Carolina - counties of Alamance; Alexander; Alleghany; '\n",
      "               'Anson; Ashe; Avery; Beaufort; Bertie; Bladen; Brunswick; '\n",
      "               'Buncombe; Burke; Cabarrus; Caldwell; Camden; Carteret; '\n",
      "               'Caswell; Catawba; Chatham; Cherokee; Chowan; Clay; Cleveland; '\n",
      "               'Columbus; Craven; Cumberland; Currituck; Dare; Davidson; '\n",
      "               'Davie; Duplin; Durham; Edgecombe; Forsyth; Franklin; Gaston; '\n",
      "               'Gates; Graham; Granville; Greene; Guilford; Halifax; Harnett; '\n",
      "               'Haywood; Henderson; Hertford; Hoke; Hyde; Iredell; Jackson; '\n",
      "               'Johnston; Jones; Lee; Lenoir; Lincoln; Macon; Madison; Martin; '\n",
      "               'McDowell; Mecklenburg; Mitchell; Montgomery; Moore; Nash; New '\n",
      "               'Hanover; Northampton; Onslow; Orange; Pamlico; Pasquotank; '\n",
      "               'Pender; Perquimans; Person; Pitt; Polk; Randolph; Richmond; '\n",
      "               'Robeson; Rockingham; Rowan; Rutherford; Sampson; Scotland; '\n",
      "               'Stanly; Stokes; Surry; Swain; Transylvania; Tyrrell; Union; '\n",
      "               'Vance; Wake; Warren; Washington; Watauga; Wayne; Wilkes; '\n",
      "               'Wilson; Yadkin; '\n",
      "               'Yancey.\"],BBOX[33.83,-84.33,36.59,-75.38]],ID[\"EPSG\",3358]]\\n',\n",
      " 'region': {'b': 0.0,\n",
      "            'cells': 1,\n",
      "            'cells3': 1,\n",
      "            'cols': 1,\n",
      "            'cols3': 1,\n",
      "            'depths': 1,\n",
      "            'e': 1.0,\n",
      "            'ewres': 1.0,\n",
      "            'ewres3': 1.0,\n",
      "            'n': 1.0,\n",
      "            'nsres': 1.0,\n",
      "            'nsres3': 1.0,\n",
      "            'projection': 99,\n",
      "            'rows': 1,\n",
      "            'rows3': 1,\n",
      "            's': 0.0,\n",
      "            't': 1.0,\n",
      "            'tbres': 1.0,\n",
      "            'w': 0.0,\n",
      "            'zone': 0}}\n"
     ]
    }
   ],
   "source": [
    "location_id = 'nc_spm_08'\n",
    "url = f\"{ACTINIA_URL}/locations/{location_id}/info\"\n",
    "\n",
    "payload = {}\n",
    "headers = {}\n",
    "\n",
    "response = requests.get( url, auth=ACTINIA_AUTH, headers=headers)\n",
    "\n",
    "pprint(response.json().get('process_results'))"
   ]
  },
  {
   "cell_type": "markdown",
   "metadata": {},
   "source": [
    "### Mapsets\n",
    "\n",
    "We will now get a list of mapsets for a specific project.\n",
    "\n",
    "```{mermaid}\n",
    "flowchart LR\n",
    "  A[\"/api/v3/locations/\"]\n",
    "  A --- B(\"{location_id}\")\n",
    "  B --- C[\"/mapsets\"]\n",
    "```"
   ]
  },
  {
   "cell_type": "code",
   "execution_count": 22,
   "metadata": {},
   "outputs": [
    {
     "name": "stdout",
     "output_type": "stream",
     "text": [
      "['PERMANENT']\n"
     ]
    }
   ],
   "source": [
    "# mapset = 'nc_spm_08'\n",
    "location_id = 'nc_spm_08'\n",
    "url = f\"{ACTINIA_URL}/locations/{location_id}/mapsets\"\n",
    "\n",
    "payload = {}\n",
    "headers = {}\n",
    "\n",
    "response = requests.get( url, auth=ACTINIA_AUTH, headers=headers)\n",
    "\n",
    "pprint(response.json().get('process_results'))"
   ]
  },
  {
   "cell_type": "markdown",
   "metadata": {},
   "source": [
    "Now let's get extra information about a specific mapset `PERMANENT`.\n",
    "\n",
    "```{mermaid}\n",
    "flowchart LR\n",
    "  A[\"/api/v3/locations/\"]\n",
    "  A --- B(\"{location_id}\")\n",
    "  B --- C[\"/mapsets/\"]\n",
    "  C --- D(\"{mapset_id}\")\n",
    "  D --- E[\"/info\"]\n",
    "```"
   ]
  },
  {
   "cell_type": "code",
   "execution_count": 63,
   "metadata": {},
   "outputs": [
    {
     "name": "stdout",
     "output_type": "stream",
     "text": [
      "{'projection': 'PROJCRS[\"NAD83(HARN) / North '\n",
      "               'Carolina\",BASEGEOGCRS[\"NAD83(HARN)\",DATUM[\"NAD83 (High '\n",
      "               'Accuracy Reference Network)\",ELLIPSOID[\"GRS '\n",
      "               '1980\",6378137,298.257222101,LENGTHUNIT[\"metre\",1]]],PRIMEM[\"Greenwich\",0,ANGLEUNIT[\"degree\",0.0174532925199433]],ID[\"EPSG\",4152]],CONVERSION[\"SPCS83 '\n",
      "               'North Carolina zone (meter)\",METHOD[\"Lambert Conic Conformal '\n",
      "               '(2SP)\",ID[\"EPSG\",9802]],PARAMETER[\"Latitude of false '\n",
      "               'origin\",33.75,ANGLEUNIT[\"degree\",0.0174532925199433],ID[\"EPSG\",8821]],PARAMETER[\"Longitude '\n",
      "               'of false '\n",
      "               'origin\",-79,ANGLEUNIT[\"degree\",0.0174532925199433],ID[\"EPSG\",8822]],PARAMETER[\"Latitude '\n",
      "               'of 1st standard '\n",
      "               'parallel\",36.1666666666667,ANGLEUNIT[\"degree\",0.0174532925199433],ID[\"EPSG\",8823]],PARAMETER[\"Latitude '\n",
      "               'of 2nd standard '\n",
      "               'parallel\",34.3333333333333,ANGLEUNIT[\"degree\",0.0174532925199433],ID[\"EPSG\",8824]],PARAMETER[\"Easting '\n",
      "               'at false '\n",
      "               'origin\",609601.22,LENGTHUNIT[\"metre\",1],ID[\"EPSG\",8826]],PARAMETER[\"Northing '\n",
      "               'at false '\n",
      "               'origin\",0,LENGTHUNIT[\"metre\",1],ID[\"EPSG\",8827]]],CS[Cartesian,2],AXIS[\"easting '\n",
      "               '(X)\",east,ORDER[1],LENGTHUNIT[\"metre\",1]],AXIS[\"northing '\n",
      "               '(Y)\",north,ORDER[2],LENGTHUNIT[\"metre\",1]],USAGE[SCOPE[\"Engineering '\n",
      "               'survey, topographic mapping.\"],AREA[\"United States (USA) - '\n",
      "               'North Carolina - counties of Alamance; Alexander; Alleghany; '\n",
      "               'Anson; Ashe; Avery; Beaufort; Bertie; Bladen; Brunswick; '\n",
      "               'Buncombe; Burke; Cabarrus; Caldwell; Camden; Carteret; '\n",
      "               'Caswell; Catawba; Chatham; Cherokee; Chowan; Clay; Cleveland; '\n",
      "               'Columbus; Craven; Cumberland; Currituck; Dare; Davidson; '\n",
      "               'Davie; Duplin; Durham; Edgecombe; Forsyth; Franklin; Gaston; '\n",
      "               'Gates; Graham; Granville; Greene; Guilford; Halifax; Harnett; '\n",
      "               'Haywood; Henderson; Hertford; Hoke; Hyde; Iredell; Jackson; '\n",
      "               'Johnston; Jones; Lee; Lenoir; Lincoln; Macon; Madison; Martin; '\n",
      "               'McDowell; Mecklenburg; Mitchell; Montgomery; Moore; Nash; New '\n",
      "               'Hanover; Northampton; Onslow; Orange; Pamlico; Pasquotank; '\n",
      "               'Pender; Perquimans; Person; Pitt; Polk; Randolph; Richmond; '\n",
      "               'Robeson; Rockingham; Rowan; Rutherford; Sampson; Scotland; '\n",
      "               'Stanly; Stokes; Surry; Swain; Transylvania; Tyrrell; Union; '\n",
      "               'Vance; Wake; Warren; Washington; Watauga; Wayne; Wilkes; '\n",
      "               'Wilson; Yadkin; '\n",
      "               'Yancey.\"],BBOX[33.83,-84.33,36.59,-75.38]],ID[\"EPSG\",3358]]\\n',\n",
      " 'region': {'b': 0.0,\n",
      "            'cells': 1,\n",
      "            'cells3': 1,\n",
      "            'cols': 1,\n",
      "            'cols3': 1,\n",
      "            'depths': 1,\n",
      "            'e': 1.0,\n",
      "            'ewres': 1.0,\n",
      "            'ewres3': 1.0,\n",
      "            'n': 1.0,\n",
      "            'nsres': 1.0,\n",
      "            'nsres3': 1.0,\n",
      "            'projection': 99,\n",
      "            'rows': 1,\n",
      "            'rows3': 1,\n",
      "            's': 0.0,\n",
      "            't': 1.0,\n",
      "            'tbres': 1.0,\n",
      "            'w': 0.0,\n",
      "            'zone': 0}}\n"
     ]
    }
   ],
   "source": [
    "mapset_id = 'PERMANENT'\n",
    "location_id = 'nc_spm_08'\n",
    "url = f\"{ACTINIA_URL}/locations/{location_id}/mapsets/{mapset_id}/info\"\n",
    "\n",
    "response = requests.get( url, auth=ACTINIA_AUTH, headers=headers)\n",
    "\n",
    "pprint(response.json().get('process_results'))"
   ]
  },
  {
   "cell_type": "markdown",
   "metadata": {},
   "source": [
    "### Layers\n",
    "\n",
    "#### Raster Layers\n",
    "\n",
    "Let's see all of the mapsets raster layers.\n",
    "\n",
    "```{mermaid}\n",
    "flowchart LR\n",
    "  A[\"/api/v3/locations/\"]\n",
    "  A --- B(\"{location_id}\")\n",
    "  B --- C[\"/mapsets/\"]\n",
    "  C --- D(\"{mapset_id}\")\n",
    "  D --- E[\"/raster_layers\"]\n",
    "```"
   ]
  },
  {
   "cell_type": "code",
   "execution_count": 21,
   "metadata": {},
   "outputs": [
    {
     "name": "stdout",
     "output_type": "stream",
     "text": [
      "[]\n"
     ]
    }
   ],
   "source": [
    "mapset_id = 'PERMANENT'\n",
    "location_id = 'nc_spm_08'\n",
    "url = f\"{ACTINIA_URL}/locations/{location_id}/mapsets/{mapset_id}/raster_layers\"\n",
    "\n",
    "payload = {}\n",
    "headers = {}\n",
    "\n",
    "response = requests.get( url, auth=ACTINIA_AUTH, headers=headers)\n",
    "\n",
    "pprint(response.json().get('process_results'))"
   ]
  },
  {
   "cell_type": "markdown",
   "metadata": {},
   "source": [
    "#### Vector Layers\n",
    "\n",
    "```{mermaid}\n",
    "flowchart LR\n",
    "  A[\"/api/v3/locations/\"]\n",
    "  A --- B(\"{location_id}\")\n",
    "  B --- C[\"/mapsets/\"]\n",
    "  C --- D(\"{mapset_id}\")\n",
    "  D --- E[\"/vector_layers\"]\n",
    "```"
   ]
  },
  {
   "cell_type": "code",
   "execution_count": 20,
   "metadata": {},
   "outputs": [
    {
     "name": "stdout",
     "output_type": "stream",
     "text": [
      "[]\n"
     ]
    }
   ],
   "source": [
    "mapset_id = 'PERMANENT'\n",
    "location_id = 'nc_spm_08'\n",
    "url = f\"{ACTINIA_URL}/locations/{location_id}/mapsets/{mapset_id}/vector_layers\"\n",
    "\n",
    "payload = {}\n",
    "headers = {}\n",
    "\n",
    "response = requests.get( url, auth=ACTINIA_AUTH, headers=headers)\n",
    "\n",
    "pprint(response.json().get('process_results'))"
   ]
  },
  {
   "cell_type": "markdown",
   "metadata": {},
   "source": [
    "### Processing\n",
    "\n",
    "#### Syncronous Processing\n",
    "\n",
    "Emphemeral process\n",
    "\n",
    "```{mermaid}\n",
    "flowchart LR\n",
    "  A[\"/api/v3/locations/\"]\n",
    "  A --- B(\"{location_id}\")\n",
    "  B --- C[\"/mapsets/\"]\n",
    "  C --- D(\"{mapset_id}\")\n",
    "  D --- E[\"/processing\"]\n",
    "```"
   ]
  },
  {
   "cell_type": "code",
   "execution_count": 37,
   "metadata": {},
   "outputs": [
    {
     "name": "stdout",
     "output_type": "stream",
     "text": [
      "None\n"
     ]
    }
   ],
   "source": [
    "mapset_id = 'PERMANENT'\n",
    "location_id = 'nc_spm_08'\n",
    "url = f\"{ACTINIA_URL}/locations/{location_id}/mapsets/{mapset_id}/processing\"\n",
    "\n",
    "payload = {}\n",
    "headers = {}\n",
    "data = {}\n",
    "\n",
    "response = requests.post( url, auth=ACTINIA_AUTH, json=data)\n",
    "\n",
    "pprint(response.json().get('process_results'))"
   ]
  },
  {
   "cell_type": "markdown",
   "metadata": {},
   "source": [
    "#### Asyncronous Processing\n",
    "\n",
    "```{mermaid}\n",
    "flowchart LR\n",
    "  A[\"/api/v3/locations/\"]\n",
    "  A --- B(\"{location_id}\")\n",
    "  B --- C[\"/mapsets/\"]\n",
    "  C --- D(\"{mapset_id}\")\n",
    "  D --- E[\"/processing_async\"]\n",
    "```"
   ]
  },
  {
   "cell_type": "code",
   "execution_count": null,
   "metadata": {},
   "outputs": [],
   "source": [
    "mapset_id = 'PERMANENT'\n",
    "location_id = 'nc_spm_08'\n",
    "url = f\"{ACTINIA_URL}/locations/{location_id}/mapsets/{mapset_id}/processing_async\"\n",
    "\n",
    "payload = {}\n",
    "headers = {}\n",
    "data = {}\n",
    "\n",
    "response = requests.post( url, auth=ACTINIA_AUTH, headers=headers, json=data)\n",
    "\n",
    "pprint(response.json().get('process_results'))"
   ]
  },
  {
   "cell_type": "markdown",
   "metadata": {},
   "source": [
    "### Process Chains\n",
    "\n",
    "Let's build our own process chain."
   ]
  },
  {
   "cell_type": "code",
   "execution_count": null,
   "metadata": {},
   "outputs": [],
   "source": [
    "pc = {\n",
    "    \"list\": [\n",
    "        {\n",
    "             \"id\": \"computational_region\",\n",
    "             \"module\": \"g.region\",\n",
    "             \"inputs\": [\n",
    "                 {\"param\": \"raster\",\n",
    "                  \"value\": \"elevation@PERMANENT\"},\n",
    "                 {\"param\": \"res\",\n",
    "                  \"value\": \"10\"}\n",
    "             ],\n",
    "             \"stdout\": {\"id\": \"region\", \"format\": \"kv\", \"delimiter\": \"=\"},\n",
    "             \"flags\": \"g\"\n",
    "         },\n",
    "        {\n",
    "          \"id\": \"create_hillshading\",\n",
    "          \"module\": \"r.relief\",\n",
    "          \"inputs\": [\n",
    "              {\n",
    "                  \"param\": \"input\",\n",
    "                  \"value\": \"elevation\"\n",
    "              }\n",
    "          ],\n",
    "          \"outputs\": [\n",
    "              {\n",
    "                  \"param\": \"output\",\n",
    "                  \"value\": \"hillshade\"\n",
    "              }\n",
    "          ]\n",
    "      },\n",
    "      {\n",
    "          \"id\": \"exporter_1\",\n",
    "          \"module\": \"exporter\",\n",
    "          \"outputs\": [\n",
    "              {\n",
    "                  \"export\": {\"type\": \"raster\", \"format\": \"COG\"},\n",
    "                  \"param\": \"map\",\n",
    "                  \"value\": \"hillshade\"\n",
    "              }\n",
    "          ]\n",
    "      }\n",
    "    ],\n",
    "    \"version\": \"1\"\n",
    "}"
   ]
  },
  {
   "cell_type": "markdown",
   "metadata": {},
   "source": []
  },
  {
   "cell_type": "code",
   "execution_count": 45,
   "metadata": {},
   "outputs": [],
   "source": [
    "sys.path.append(\n",
    "    subprocess.check_output([\"grass\", \"--config\", \"python_path\"], text=True).strip()\n",
    ")\n",
    "# create a temporary folder where to place our GRASS project\n",
    "import tempfile\n",
    "from pathlib import Path\n",
    "\n",
    "tempdir = tempfile.TemporaryDirectory()\n",
    "\n",
    "import grass.script as gs\n",
    "import grass.jupyter as gj\n",
    "\n",
    "gs.create_project(path=tempdir.name, name=\"foss4g2024_p2\", epsg=\"2817\", overwrite=True)\n",
    "session = gj.init(Path(tempdir.name,\"foss4g2024_p2\"))"
   ]
  },
  {
   "cell_type": "code",
   "execution_count": 57,
   "metadata": {},
   "outputs": [
    {
     "name": "stdout",
     "output_type": "stream",
     "text": [
      "{'id': 'g.region_1804289383',\n",
      " 'inputs': [{'param': 'raster', 'value': 'elevation'},\n",
      "            {'param': 'res', 'value': '10'},\n",
      "            {'param': 'format', 'value': 'plain'}],\n",
      " 'module': 'g.region'}\n"
     ]
    }
   ],
   "source": [
    "step_1_raw = !g.region raster=elevation res=10 --json\n",
    "step_1 = ''.join(step_1_raw)\n",
    "step_1_json = json.loads(step_1)\n",
    "pprint(step_1_json)"
   ]
  },
  {
   "cell_type": "code",
   "execution_count": 47,
   "metadata": {},
   "outputs": [
    {
     "name": "stdout",
     "output_type": "stream",
     "text": [
      "{\n",
      "  \"module\": \"r.info\",\n",
      "  \"id\": \"r.info_1804289383\",\n",
      "  \"flags\":\"g\",\n",
      "  \"inputs\":[\n",
      "     {\"param\": \"map\", \"value\": \"elevation\"},\n",
      "     {\"param\": \"format\", \"value\": \"plain\"}\n",
      "   ]}\n"
     ]
    }
   ],
   "source": [
    "!r.info elevation -g --json"
   ]
  }
 ],
 "metadata": {
  "kernelspec": {
   "display_name": "venv",
   "language": "python",
   "name": "python3"
  },
  "language_info": {
   "codemirror_mode": {
    "name": "ipython",
    "version": 3
   },
   "file_extension": ".py",
   "mimetype": "text/x-python",
   "name": "python",
   "nbconvert_exporter": "python",
   "pygments_lexer": "ipython3",
   "version": "3.10.12"
  }
 },
 "nbformat": 4,
 "nbformat_minor": 2
}
