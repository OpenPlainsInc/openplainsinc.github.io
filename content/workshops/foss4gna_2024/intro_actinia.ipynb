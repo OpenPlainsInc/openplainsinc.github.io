{
 "cells": [
  {
   "cell_type": "markdown",
   "metadata": {
    "vscode": {
     "languageId": "raw"
    }
   },
   "source": [
    "---\n",
    "title: Part 2. Introduction to Actinia\n",
    "description: Learn how to use actinia to create a cloud-based processing environment for GRASS GIS.\n",
    "format: html\n",
    "author:\n",
    "    - Corey T. White\n",
    "    - Vaclav Petras\n",
    "date: '2024-09-10'\n",
    "keep-ipynb: true\n",
    "toc: true\n",
    "toc-depth: 4\n",
    "image:  images/webinar_title.webp\n",
    "categories: [geospatial, GRASS v8.5, jupyter, lidar, STAC]\n",
    "page-layout: full\n",
    "title-block-banner: true\n",
    "---"
   ]
  },
  {
   "cell_type": "code",
   "execution_count": 58,
   "metadata": {},
   "outputs": [
    {
     "name": "stdout",
     "output_type": "stream",
     "text": [
      "            _   _       _         _  ___  _ \n",
      "  __ _  ___| |_(_)_ __ (_) __ _  / |/ _ \\/ |\n",
      " / _` |/ __| __| | '_ \\| |/ _` | | | | | | |\n",
      "| (_| | (__| |_| | | | | | (_| | | | |_| | |\n",
      " \\__,_|\\___|\\__|_|_| |_|_|\\__,_| |_|\\___/|_|\n",
      "                                            \n"
     ]
    }
   ],
   "source": [
    "!figlet \"actinia 101\""
   ]
  },
  {
   "cell_type": "markdown",
   "metadata": {
    "vscode": {
     "languageId": "raw"
    }
   },
   "source": [
    "## A REST API for GRASS GIS\n",
    "\n",
    "- [GRASS GIS](https://grass.osgeo.org/) is a Geospatial Processing Engine\n",
    "- Open Source (GPL v2)\n",
    "- Developed by International and Multi-institutional groups and individuals (GRASS Development Team)\n",
    "- Member of the Open Source Geospatial Foundatispace\n",
    "- Recieved Open Source Security Foundation (OpenSSF) Best Practices Badge - 2024"
   ]
  },
  {
   "cell_type": "markdown",
   "metadata": {
    "vscode": {
     "languageId": "raw"
    }
   },
   "source": [
    "```{mermaid}\n",
    "flowchart LR\n",
    "  A[Client] -->|Http Request| B[Actinia REST API]\n",
    "  B <--> D[GRASS GIS Processing Node]\n",
    "  B -->|Http Response| A\n",
    "```\n"
   ]
  },
  {
   "cell_type": "markdown",
   "metadata": {},
   "source": [
    "## Import Python Libraries"
   ]
  },
  {
   "cell_type": "code",
   "execution_count": 1,
   "metadata": {},
   "outputs": [],
   "source": [
    "import os\n",
    "import subprocess\n",
    "from pprint import pprint\n",
    "import sys\n",
    "import json\n",
    "import time\n",
    "\n",
    "import requests\n",
    "from requests.auth import HTTPBasicAuth"
   ]
  },
  {
   "cell_type": "markdown",
   "metadata": {},
   "source": [
    "## Setup Environment\n",
    "\n",
    "Deploy Docker container with Actinia\n",
    "\n",
    "Follow Instructions at : [https://github.com/OpenPlainsInc/foss4gna-2024-workshop](https://github.com/OpenPlainsInc/foss4gna-2024-workshop)"
   ]
  },
  {
   "cell_type": "markdown",
   "metadata": {},
   "source": [
    "### Setup Variables"
   ]
  },
  {
   "cell_type": "code",
   "execution_count": 2,
   "metadata": {},
   "outputs": [],
   "source": [
    "ACTINIA_USER = 'actinia-gdi'\n",
    "ACTINIA_PASSWORD = 'actinia-gdi'\n",
    "AUTH = 'actinia-gdi:actinia-gdi'\n",
    "ACTINIA_URL = 'http://localhost:8088'\n",
    "# ACTINIA_URL = 'https://openplains.app/actinia'\n",
    "ACTINIA_VERSION = 'v3'\n",
    "ACTINIA_BASEURL = 'http://localhost:8088'\n",
    "# ACTINIA_BASEURL = 'https://openplains.app/actinia'\n",
    "ACTINIA_URL = ACTINIA_BASEURL + \"/api/\" + ACTINIA_VERSION\n",
    "ACTINIA_AUTH = HTTPBasicAuth(ACTINIA_USER, ACTINIA_PASSWORD)"
   ]
  },
  {
   "cell_type": "code",
   "execution_count": 3,
   "metadata": {},
   "outputs": [],
   "source": [
    "def print_as_json(data):\n",
    "    print(json.dumps(data, indent=2))"
   ]
  },
  {
   "cell_type": "markdown",
   "metadata": {},
   "source": [
    "## actinia REST API\n",
    "\n",
    "[actinia](https://github.com/actinia-org)\n",
    "[Docker Image](https://github.com/actinia-org/actinia-docker/tree/main)\n",
    "\n",
    "### Tools\n",
    "\n",
    "- [actinia-python-client](https://github.com/actinia-org/actinia-python-client)\n",
    "- [actinia_openapi_python_client](https://github.com/OpenPlainsInc/actinia_openapi_python_client)"
   ]
  },
  {
   "cell_type": "markdown",
   "metadata": {},
   "source": [
    "## Acinia Basics"
   ]
  },
  {
   "cell_type": "code",
   "execution_count": 13,
   "metadata": {},
   "outputs": [
    {
     "name": "stdout",
     "output_type": "stream",
     "text": [
      "\"4.14.1\"\n"
     ]
    }
   ],
   "source": [
    "url = f\"{ACTINIA_URL}/version\"\n",
    "response = requests.get( url)\n",
    "# pprint(response.json())\n",
    "print_as_json(response.json().get('version'))"
   ]
  },
  {
   "cell_type": "markdown",
   "metadata": {},
   "source": [
    "## User Roles\n",
    "\n",
    "1. **Superadmin**\n",
    "    - Create, modify and delete users\n",
    "    - Read/write access to all databases\n",
    "    - Can access all API calls\n",
    "\n",
    "2. **Admin**\n",
    "    - All API Calls\n",
    "    - Create, modify and delete users with the maximum user-role user of the same user grou\n",
    "    - Access to persistent databases that were granted by a **superadmin**\n",
    "\n",
    "3. **User**\n",
    "    - Can run computational tasks in ephemeral and user specific databases\n",
    "    - Create, modify and delete locations in a user specific database\n",
    "    - Create, modify and delete mapsets in user specific databases\n",
    "    - Limited access to API calls\n",
    "    - Has limited access to persistent databases\n",
    "\n",
    "4. **Guest**\n",
    "    - Has very limited access to API calls\n",
    "    - Limited access to persistent databases\n",
    "\n",
    ":::aside\n",
    "https://actinia-org.github.io/actinia-core/actinia_concepts/\n",
    ":::\n"
   ]
  },
  {
   "cell_type": "markdown",
   "metadata": {},
   "source": [
    "### GRASS Projects\n",
    "\n",
    "Let's start by requesting a list of GRASS projects from actinia.\n",
    "\n",
    "```{mermaid}\n",
    "flowchart LR\n",
    "  A[\"/api/v3/locations\"]\n",
    "```"
   ]
  },
  {
   "cell_type": "code",
   "execution_count": 4,
   "metadata": {},
   "outputs": [
    {
     "name": "stdout",
     "output_type": "stream",
     "text": [
      "['foss4g2024', 'nc_spm_08_grass7', 'nc_spm_08']\n"
     ]
    }
   ],
   "source": [
    "url = f\"{ACTINIA_URL}/locations\"\n",
    "\n",
    "response = requests.get( url, auth=ACTINIA_AUTH)\n",
    "\n",
    "pprint(response.json().get('locations'))\n"
   ]
  },
  {
   "cell_type": "markdown",
   "metadata": {},
   "source": [
    "Now we will get extra information about a specific project.\n",
    "\n",
    "```{mermaid}\n",
    "flowchart LR\n",
    "  A[\"/api/v3/locations/\"]\n",
    "  A --- C[\"{location_id}\"]\n",
    "  C --- D[\"/info\"]\n",
    "```"
   ]
  },
  {
   "cell_type": "code",
   "execution_count": 6,
   "metadata": {},
   "outputs": [
    {
     "name": "stdout",
     "output_type": "stream",
     "text": [
      "{'projection': 'PROJCRS[\"NAD83(HARN) / North '\n",
      "               'Carolina\",BASEGEOGCRS[\"NAD83(HARN)\",DATUM[\"NAD83 (High '\n",
      "               'Accuracy Reference Network)\",ELLIPSOID[\"GRS '\n",
      "               '1980\",6378137,298.257222101,LENGTHUNIT[\"metre\",1]]],PRIMEM[\"Greenwich\",0,ANGLEUNIT[\"degree\",0.0174532925199433]],ID[\"EPSG\",4152]],CONVERSION[\"SPCS83 '\n",
      "               'North Carolina zone (meter)\",METHOD[\"Lambert Conic Conformal '\n",
      "               '(2SP)\",ID[\"EPSG\",9802]],PARAMETER[\"Latitude of false '\n",
      "               'origin\",33.75,ANGLEUNIT[\"degree\",0.0174532925199433],ID[\"EPSG\",8821]],PARAMETER[\"Longitude '\n",
      "               'of false '\n",
      "               'origin\",-79,ANGLEUNIT[\"degree\",0.0174532925199433],ID[\"EPSG\",8822]],PARAMETER[\"Latitude '\n",
      "               'of 1st standard '\n",
      "               'parallel\",36.1666666666667,ANGLEUNIT[\"degree\",0.0174532925199433],ID[\"EPSG\",8823]],PARAMETER[\"Latitude '\n",
      "               'of 2nd standard '\n",
      "               'parallel\",34.3333333333333,ANGLEUNIT[\"degree\",0.0174532925199433],ID[\"EPSG\",8824]],PARAMETER[\"Easting '\n",
      "               'at false '\n",
      "               'origin\",609601.22,LENGTHUNIT[\"metre\",1],ID[\"EPSG\",8826]],PARAMETER[\"Northing '\n",
      "               'at false '\n",
      "               'origin\",0,LENGTHUNIT[\"metre\",1],ID[\"EPSG\",8827]]],CS[Cartesian,2],AXIS[\"easting '\n",
      "               '(X)\",east,ORDER[1],LENGTHUNIT[\"metre\",1]],AXIS[\"northing '\n",
      "               '(Y)\",north,ORDER[2],LENGTHUNIT[\"metre\",1]],USAGE[SCOPE[\"Engineering '\n",
      "               'survey, topographic mapping.\"],AREA[\"United States (USA) - '\n",
      "               'North Carolina - counties of Alamance; Alexander; Alleghany; '\n",
      "               'Anson; Ashe; Avery; Beaufort; Bertie; Bladen; Brunswick; '\n",
      "               'Buncombe; Burke; Cabarrus; Caldwell; Camden; Carteret; '\n",
      "               'Caswell; Catawba; Chatham; Cherokee; Chowan; Clay; Cleveland; '\n",
      "               'Columbus; Craven; Cumberland; Currituck; Dare; Davidson; '\n",
      "               'Davie; Duplin; Durham; Edgecombe; Forsyth; Franklin; Gaston; '\n",
      "               'Gates; Graham; Granville; Greene; Guilford; Halifax; Harnett; '\n",
      "               'Haywood; Henderson; Hertford; Hoke; Hyde; Iredell; Jackson; '\n",
      "               'Johnston; Jones; Lee; Lenoir; Lincoln; Macon; Madison; Martin; '\n",
      "               'McDowell; Mecklenburg; Mitchell; Montgomery; Moore; Nash; New '\n",
      "               'Hanover; Northampton; Onslow; Orange; Pamlico; Pasquotank; '\n",
      "               'Pender; Perquimans; Person; Pitt; Polk; Randolph; Richmond; '\n",
      "               'Robeson; Rockingham; Rowan; Rutherford; Sampson; Scotland; '\n",
      "               'Stanly; Stokes; Surry; Swain; Transylvania; Tyrrell; Union; '\n",
      "               'Vance; Wake; Warren; Washington; Watauga; Wayne; Wilkes; '\n",
      "               'Wilson; Yadkin; '\n",
      "               'Yancey.\"],BBOX[33.83,-84.33,36.59,-75.38]],ID[\"EPSG\",3358]]\\n',\n",
      " 'region': {'b': 0.0,\n",
      "            'cells': 29535,\n",
      "            'cells3': 29535,\n",
      "            'cols': 179,\n",
      "            'cols3': 179,\n",
      "            'depths': 1,\n",
      "            'e': 639530.0,\n",
      "            'ewres': 10.0,\n",
      "            'ewres3': 10.0,\n",
      "            'n': 221230.0,\n",
      "            'nsres': 10.0,\n",
      "            'nsres3': 10.0,\n",
      "            'projection': 99,\n",
      "            'rows': 165,\n",
      "            'rows3': 165,\n",
      "            's': 219580.0,\n",
      "            't': 1.0,\n",
      "            'tbres': 1.0,\n",
      "            'w': 637740.0,\n",
      "            'zone': 0}}\n"
     ]
    }
   ],
   "source": [
    "location_id = 'nc_spm_08_grass7'\n",
    "url = f\"{ACTINIA_URL}/locations/{location_id}/info\"\n",
    "\n",
    "response = requests.get( url, auth=ACTINIA_AUTH)\n",
    "\n",
    "pprint(response.json().get('process_results'))"
   ]
  },
  {
   "cell_type": "markdown",
   "metadata": {},
   "source": [
    "### Mapsets\n",
    "\n",
    "We will now get a list of mapsets for a specific project.\n",
    "\n",
    "```{mermaid}\n",
    "flowchart LR\n",
    "  A[\"/api/v3/locations/\"]\n",
    "  A --- B(\"{location_id}\")\n",
    "  B --- C[\"/mapsets\"]\n",
    "```"
   ]
  },
  {
   "cell_type": "code",
   "execution_count": 8,
   "metadata": {},
   "outputs": [
    {
     "name": "stdout",
     "output_type": "stream",
     "text": [
      "['PERMANENT']\n"
     ]
    }
   ],
   "source": [
    "# mapset = 'nc_spm_08'\n",
    "location_id = 'nc_spm_08_grass7'\n",
    "url = f\"{ACTINIA_URL}/locations/{location_id}/mapsets\"\n",
    "\n",
    "response = requests.get( url, auth=ACTINIA_AUTH)\n",
    "\n",
    "pprint(response.json().get('process_results'))"
   ]
  },
  {
   "cell_type": "markdown",
   "metadata": {},
   "source": [
    "Now let's get extra information about a specific mapset `PERMANENT`.\n",
    "\n",
    "```{mermaid}\n",
    "flowchart LR\n",
    "  A[\"/api/v3/locations/\"]\n",
    "  A --- B(\"{location_id}\")\n",
    "  B --- C[\"/mapsets/\"]\n",
    "  C --- D(\"{mapset_id}\")\n",
    "  D --- E[\"/info\"]\n",
    "```"
   ]
  },
  {
   "cell_type": "code",
   "execution_count": 10,
   "metadata": {},
   "outputs": [
    {
     "name": "stdout",
     "output_type": "stream",
     "text": [
      "{'projection': 'PROJCRS[\"NAD83(HARN) / North '\n",
      "               'Carolina\",BASEGEOGCRS[\"NAD83(HARN)\",DATUM[\"NAD83 (High '\n",
      "               'Accuracy Reference Network)\",ELLIPSOID[\"GRS '\n",
      "               '1980\",6378137,298.257222101,LENGTHUNIT[\"metre\",1]]],PRIMEM[\"Greenwich\",0,ANGLEUNIT[\"degree\",0.0174532925199433]],ID[\"EPSG\",4152]],CONVERSION[\"SPCS83 '\n",
      "               'North Carolina zone (meter)\",METHOD[\"Lambert Conic Conformal '\n",
      "               '(2SP)\",ID[\"EPSG\",9802]],PARAMETER[\"Latitude of false '\n",
      "               'origin\",33.75,ANGLEUNIT[\"degree\",0.0174532925199433],ID[\"EPSG\",8821]],PARAMETER[\"Longitude '\n",
      "               'of false '\n",
      "               'origin\",-79,ANGLEUNIT[\"degree\",0.0174532925199433],ID[\"EPSG\",8822]],PARAMETER[\"Latitude '\n",
      "               'of 1st standard '\n",
      "               'parallel\",36.1666666666667,ANGLEUNIT[\"degree\",0.0174532925199433],ID[\"EPSG\",8823]],PARAMETER[\"Latitude '\n",
      "               'of 2nd standard '\n",
      "               'parallel\",34.3333333333333,ANGLEUNIT[\"degree\",0.0174532925199433],ID[\"EPSG\",8824]],PARAMETER[\"Easting '\n",
      "               'at false '\n",
      "               'origin\",609601.22,LENGTHUNIT[\"metre\",1],ID[\"EPSG\",8826]],PARAMETER[\"Northing '\n",
      "               'at false '\n",
      "               'origin\",0,LENGTHUNIT[\"metre\",1],ID[\"EPSG\",8827]]],CS[Cartesian,2],AXIS[\"easting '\n",
      "               '(X)\",east,ORDER[1],LENGTHUNIT[\"metre\",1]],AXIS[\"northing '\n",
      "               '(Y)\",north,ORDER[2],LENGTHUNIT[\"metre\",1]],USAGE[SCOPE[\"Engineering '\n",
      "               'survey, topographic mapping.\"],AREA[\"United States (USA) - '\n",
      "               'North Carolina - counties of Alamance; Alexander; Alleghany; '\n",
      "               'Anson; Ashe; Avery; Beaufort; Bertie; Bladen; Brunswick; '\n",
      "               'Buncombe; Burke; Cabarrus; Caldwell; Camden; Carteret; '\n",
      "               'Caswell; Catawba; Chatham; Cherokee; Chowan; Clay; Cleveland; '\n",
      "               'Columbus; Craven; Cumberland; Currituck; Dare; Davidson; '\n",
      "               'Davie; Duplin; Durham; Edgecombe; Forsyth; Franklin; Gaston; '\n",
      "               'Gates; Graham; Granville; Greene; Guilford; Halifax; Harnett; '\n",
      "               'Haywood; Henderson; Hertford; Hoke; Hyde; Iredell; Jackson; '\n",
      "               'Johnston; Jones; Lee; Lenoir; Lincoln; Macon; Madison; Martin; '\n",
      "               'McDowell; Mecklenburg; Mitchell; Montgomery; Moore; Nash; New '\n",
      "               'Hanover; Northampton; Onslow; Orange; Pamlico; Pasquotank; '\n",
      "               'Pender; Perquimans; Person; Pitt; Polk; Randolph; Richmond; '\n",
      "               'Robeson; Rockingham; Rowan; Rutherford; Sampson; Scotland; '\n",
      "               'Stanly; Stokes; Surry; Swain; Transylvania; Tyrrell; Union; '\n",
      "               'Vance; Wake; Warren; Washington; Watauga; Wayne; Wilkes; '\n",
      "               'Wilson; Yadkin; '\n",
      "               'Yancey.\"],BBOX[33.83,-84.33,36.59,-75.38]],ID[\"EPSG\",3358]]\\n',\n",
      " 'region': {'b': 0.0,\n",
      "            'cells': 29535,\n",
      "            'cells3': 29535,\n",
      "            'cols': 179,\n",
      "            'cols3': 179,\n",
      "            'depths': 1,\n",
      "            'e': 639530.0,\n",
      "            'ewres': 10.0,\n",
      "            'ewres3': 10.0,\n",
      "            'n': 221230.0,\n",
      "            'nsres': 10.0,\n",
      "            'nsres3': 10.0,\n",
      "            'projection': 99,\n",
      "            'rows': 165,\n",
      "            'rows3': 165,\n",
      "            's': 219580.0,\n",
      "            't': 1.0,\n",
      "            'tbres': 1.0,\n",
      "            'w': 637740.0,\n",
      "            'zone': 0}}\n"
     ]
    }
   ],
   "source": [
    "mapset_id = 'PERMANENT'\n",
    "location_id = 'nc_spm_08_grass7'\n",
    "url = f\"{ACTINIA_URL}/locations/{location_id}/mapsets/{mapset_id}/info\"\n",
    "\n",
    "response = requests.get( url, auth=ACTINIA_AUTH)\n",
    "\n",
    "pprint(response.json().get('process_results'))"
   ]
  },
  {
   "cell_type": "markdown",
   "metadata": {},
   "source": [
    "### Layers\n",
    "\n",
    "#### Raster Layers\n",
    "\n",
    "Let's see all of the mapsets raster layers.\n",
    "\n",
    "```{mermaid}\n",
    "flowchart LR\n",
    "  A[\"/api/v3/locations/\"]\n",
    "  A --- B(\"{location_id}\")\n",
    "  B --- C[\"/mapsets/\"]\n",
    "  C --- D(\"{mapset_id}\")\n",
    "  D --- E[\"/raster_layers\"]\n",
    "```"
   ]
  },
  {
   "cell_type": "code",
   "execution_count": 12,
   "metadata": {},
   "outputs": [
    {
     "name": "stdout",
     "output_type": "stream",
     "text": [
      "['aspect',\n",
      " 'basin_50K',\n",
      " 'boundary_county_500m',\n",
      " 'cfactorbare_1m',\n",
      " 'cfactorgrow_1m',\n",
      " 'el_D782_6m',\n",
      " 'el_D783_6m',\n",
      " 'el_D792_6m',\n",
      " 'el_D793_6m',\n",
      " 'elev_lid792_1m',\n",
      " 'elev_ned_30m',\n",
      " 'elev_srtm_30m',\n",
      " 'elev_state_500m',\n",
      " 'elevation',\n",
      " 'elevation_shade',\n",
      " 'facility',\n",
      " 'geology_30m',\n",
      " 'lakes',\n",
      " 'landclass96',\n",
      " 'landcover_1m',\n",
      " 'landuse96_28m',\n",
      " 'lsat7_2002_10',\n",
      " 'lsat7_2002_20',\n",
      " 'lsat7_2002_30',\n",
      " 'lsat7_2002_40',\n",
      " 'lsat7_2002_50',\n",
      " 'lsat7_2002_61',\n",
      " 'lsat7_2002_62',\n",
      " 'lsat7_2002_70',\n",
      " 'lsat7_2002_80',\n",
      " 'ncmask_500m',\n",
      " 'ortho_2001_t792_1m',\n",
      " 'roadsmajor',\n",
      " 'slope',\n",
      " 'soilsID',\n",
      " 'soils_Kfactor',\n",
      " 'streams_derived',\n",
      " 'towns',\n",
      " 'urban',\n",
      " 'zipcodes',\n",
      " 'zipcodes_dbl']\n"
     ]
    }
   ],
   "source": [
    "mapset_id = 'PERMANENT'\n",
    "location_id = 'nc_spm_08_grass7'\n",
    "url = f\"{ACTINIA_URL}/locations/{location_id}/mapsets/{mapset_id}/raster_layers\"\n",
    "\n",
    "response = requests.get( url, auth=ACTINIA_AUTH)\n",
    "\n",
    "pprint(response.json().get('process_results'))"
   ]
  },
  {
   "cell_type": "markdown",
   "metadata": {},
   "source": [
    "#### Vector Layers\n",
    "\n",
    "```{mermaid}\n",
    "flowchart LR\n",
    "  A[\"/api/v3/locations/\"]\n",
    "  A --- B(\"{location_id}\")\n",
    "  B --- C[\"/mapsets/\"]\n",
    "  C --- D(\"{mapset_id}\")\n",
    "  D --- E[\"/vector_layers\"]\n",
    "```"
   ]
  },
  {
   "cell_type": "code",
   "execution_count": 20,
   "metadata": {},
   "outputs": [
    {
     "name": "stdout",
     "output_type": "stream",
     "text": [
      "['P079214',\n",
      " 'P079215',\n",
      " 'P079218',\n",
      " 'P079219',\n",
      " 'boundary_county',\n",
      " 'boundary_municp',\n",
      " 'bridges',\n",
      " 'busroute1',\n",
      " 'busroute11',\n",
      " 'busroute6',\n",
      " 'busroute_a',\n",
      " 'busroutesall',\n",
      " 'busstopsall',\n",
      " 'census_wake2000',\n",
      " 'censusblk_swwake',\n",
      " 'comm_colleges',\n",
      " 'elev_lid792_bepts',\n",
      " 'elev_lid792_cont1m',\n",
      " 'elev_lid792_randpts',\n",
      " 'elev_lidrural_mrpts',\n",
      " 'elev_lidrural_mrptsft',\n",
      " 'elev_ned10m_cont10m',\n",
      " 'firestations',\n",
      " 'geodetic_pts',\n",
      " 'geodetic_swwake_pts',\n",
      " 'geology',\n",
      " 'geonames_NC',\n",
      " 'geonames_wake',\n",
      " 'hospitals',\n",
      " 'lakes',\n",
      " 'nc_state',\n",
      " 'overpasses',\n",
      " 'poi_names_wake',\n",
      " 'precip_30ynormals',\n",
      " 'precip_30ynormals_3d',\n",
      " 'railroads',\n",
      " 'roadsmajor',\n",
      " 'schools_wake',\n",
      " 'soils_general',\n",
      " 'soils_wake',\n",
      " 'streams',\n",
      " 'streets_wake',\n",
      " 'swwake_10m',\n",
      " 'urbanarea',\n",
      " 'usgsgages',\n",
      " 'zipcodes_wake']\n"
     ]
    }
   ],
   "source": [
    "mapset_id = 'PERMANENT'\n",
    "location_id = 'nc_spm_08_grass7'\n",
    "url = f\"{ACTINIA_URL}/locations/{location_id}/mapsets/{mapset_id}/vector_layers\"\n",
    "\n",
    "payload = {}\n",
    "headers = {}\n",
    "\n",
    "response = requests.get( url, auth=ACTINIA_AUTH, headers=headers)\n",
    "\n",
    "pprint(response.json().get('process_results'))"
   ]
  },
  {
   "cell_type": "markdown",
   "metadata": {},
   "source": [
    "### Processing\n",
    "\n",
    "#### Syncronous Processing\n",
    "\n",
    "Emphemeral process\n",
    "\n",
    "```{mermaid}\n",
    "flowchart LR\n",
    "  A[\"/api/v3/locations/\"]\n",
    "  A --- B(\"{location_id}\")\n",
    "  B --- C[\"/mapsets/\"]\n",
    "  C --- D(\"{mapset_id}\")\n",
    "  D --- E[\"/processing\"]\n",
    "```"
   ]
  },
  {
   "cell_type": "code",
   "execution_count": 21,
   "metadata": {},
   "outputs": [
    {
     "name": "stdout",
     "output_type": "stream",
     "text": [
      "None\n"
     ]
    }
   ],
   "source": [
    "mapset_id = 'PERMANENT'\n",
    "location_id = 'nc_spm_08_grass7'\n",
    "url = f\"{ACTINIA_URL}/locations/{location_id}/mapsets/{mapset_id}/processing\"\n",
    "\n",
    "data = {}\n",
    "\n",
    "response = requests.post( url, auth=ACTINIA_AUTH, json=data)\n",
    "\n",
    "pprint(response.json().get('process_results'))"
   ]
  },
  {
   "cell_type": "markdown",
   "metadata": {},
   "source": [
    "#### Asyncronous Processing\n",
    "\n",
    "```{mermaid}\n",
    "flowchart LR\n",
    "  A[\"/api/v3/locations/\"]\n",
    "  A --- B(\"{location_id}\")\n",
    "  B --- C[\"/mapsets/\"]\n",
    "  C --- D(\"{mapset_id}\")\n",
    "  D --- E[\"/processing_async\"]\n",
    "```"
   ]
  },
  {
   "cell_type": "code",
   "execution_count": 22,
   "metadata": {},
   "outputs": [
    {
     "name": "stdout",
     "output_type": "stream",
     "text": [
      "{}\n"
     ]
    }
   ],
   "source": [
    "mapset_id = 'PERMANENT'\n",
    "location_id = 'nc_spm_08_grass7'\n",
    "url = f\"{ACTINIA_URL}/locations/{location_id}/mapsets/{mapset_id}/processing_async\"\n",
    "\n",
    "data = {}\n",
    "\n",
    "response = requests.post( url, auth=ACTINIA_AUTH, json=data)\n",
    "\n",
    "pprint(response.json().get('process_results'))"
   ]
  },
  {
   "cell_type": "markdown",
   "metadata": {},
   "source": [
    "## Let's look at the complete API within `PostMan` or `Insomnia`.\n",
    "\n",
    "- [Postman](https://www.postman.com/)\n",
    "- [Insomnia](https://insomnia.rest/download)\n",
    "\n",
    "```\n",
    "https://localhost:8080/api/v3/swagger-ui/index.html\n",
    "```"
   ]
  },
  {
   "cell_type": "markdown",
   "metadata": {},
   "source": [
    "### Process Chains\n",
    "\n",
    "Let move on to creating process chains in [Part 3](./process_chains.ipynb)."
   ]
  }
 ],
 "metadata": {
  "kernelspec": {
   "display_name": "venv",
   "language": "python",
   "name": "python3"
  },
  "language_info": {
   "codemirror_mode": {
    "name": "ipython",
    "version": 3
   },
   "file_extension": ".py",
   "mimetype": "text/x-python",
   "name": "python",
   "nbconvert_exporter": "python",
   "pygments_lexer": "ipython3",
   "version": "3.10.12"
  }
 },
 "nbformat": 4,
 "nbformat_minor": 2
}
