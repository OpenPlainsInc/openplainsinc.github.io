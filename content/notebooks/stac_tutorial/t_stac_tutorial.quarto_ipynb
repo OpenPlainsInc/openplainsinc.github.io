{
 "cells": [
  {
   "cell_type": "markdown",
   "id": "e7aec3ca",
   "metadata": {},
   "source": [
    "---\n",
    "title: \"STAC Tutorial\"\n",
    "description: \"Learn how to use the GRASS addon t.stac to search and import STAC API data into a GRASS project.\"\n",
    "image: images/stac-to-the-future.png\n",
    "toc: true\n",
    "toc-depth: 4\n",
    "format:\n",
    "  html:\n",
    "    code-copy: true\n",
    "    code-fold: false\n",
    "    code-tools: true\n",
    "    mermaid: \n",
    "      theme: forest\n",
    "    other-links:\n",
    "      - text: grass\n",
    "        href: https://grass.osgeo.org\n",
    "      - text: STAC\n",
    "        href: https://stacspec.org/en\n",
    "execute:\n",
    "  enabled: true\n",
    "  keep-ipynb: true\n",
    "  eval: false\n",
    "  freeze: auto\n",
    "  cache: true\n",
    "jupyter: python3\n",
    "author: Corey T. White\n",
    "date: '2025-03-01'\n",
    "categories: [stac, grass-addon, tutorial]\n",
    "page-layout: full\n",
    "title-block-banner: true\n",
    "draft: false\n",
    "---\n",
    "\n",
    "In this tutorial we will learn about the [t.stac](https://grass.osgeo.org/grass-stable/manuals/addons/t.stac.html) suite of tools for [GRASS](https://grass.osgeo.org).\n",
    "\n",
    "* [t.stac.catalog](https://grass.osgeo.org/grass-stable/manuals/addons/t.stac.catalog.html) - is a tool for exploring SpatioTemporal Asset Catalogs metadata from a STAC API.\n",
    "* [t.stac.collection](https://grass.osgeo.org/grass-stable/manuals/addons/t.stac.collection.html) - is a tool for exploring SpatioTemporal Asset Catalog (STAC) collection metadata.\n",
    "* [t.stac.item](https://grass.osgeo.org/grass-stable/manuals/addons/t.stac.item.html) - is a tool for exploring and importing SpatioTemporal Asset Catalog item metadata and assets into GRASS.\n",
    "\n",
    "## Introduction\n",
    "\n",
    "SpatioTemporal Asset Catalog (STAC)...\n",
    "\n",
    "\n",
    "The tutorial assumes you already have GRASS installed on your machine. If not please [download and install GRASS](https://grass.osgeo.org/download/) before continuing the tutorial.\n",
    "\n",
    "\n",
    "## Getting Started\n",
    "\n",
    "### Start GRASS Session"
   ]
  },
  {
   "cell_type": "code",
   "execution_count": 1,
   "id": "config-grass",
   "metadata": {},
   "outputs": [],
   "source": [
    "#| label: config-grass\n",
    "#| eval: true\n",
    "# Import standard python packages\n",
    "import sys\n",
    "import subprocess\n",
    "from IPython.display import display, JSON, HTML\n",
    "import json\n",
    "import pandas as pd\n",
    "from pathlib import Path\n",
    "import seaborn as sns\n",
    "# import polars as pl\n",
    "\n",
    "# Ask GRASS where its Python packages are and add them to the path\n",
    "sys.path.append(\n",
    "    subprocess.check_output([\"grass\", \"--config\", \"python_path\"], text=True).strip()\n",
    ")\n",
    "\n",
    "# Import the GRASS python packages we need\n",
    "import grass.script as gs\n",
    "import grass.jupyter as gj"
   ]
  },
  {
   "cell_type": "markdown",
   "id": "fd06e2e1",
   "metadata": {},
   "source": [
    "Create a GRASS project"
   ]
  },
  {
   "cell_type": "code",
   "execution_count": 2,
   "id": "create-project",
   "metadata": {},
   "outputs": [],
   "source": [
    "#| label: create-project\n",
    "gs.create_project(\"stac\", epsg=\"32119\", overwrite=True)"
   ]
  },
  {
   "cell_type": "markdown",
   "id": "7545a4e9",
   "metadata": {},
   "source": [
    "and start a GRASS session"
   ]
  },
  {
   "cell_type": "code",
   "execution_count": 3,
   "id": "start-grass-session",
   "metadata": {},
   "outputs": [],
   "source": [
    "#| label: start-grass-session\n",
    "#| eval: true\n",
    "session = gj.init(\"stac\")"
   ]
  },
  {
   "cell_type": "markdown",
   "id": "35ee7315",
   "metadata": {},
   "source": [
    "### Install Addon\n",
    "\n",
    "The [t.stac](https://grass.osgeo.org/grass-stable/manuals/addons/t.stac.html) addons require the following Python packages.\n",
    "\n",
    "* [pystac (>=1.12)](https://pystac.readthedocs.io/en/latest/installation.html)\n",
    "* [pystac_client (>=0.8)](https://pystac-client.readthedocs.io/en/stable/)\n",
    "* [tqdm (>=4.67)](https://tqdm.github.io/)\n",
    "\n",
    "You can install them using pip or the Python package manager of your choice. \n",
    "\n",
    "```bash\n",
    "pip install pystac pystac_client tqdm\n",
    "```\n",
    "\n",
    "Now you can install the extensions."
   ]
  },
  {
   "cell_type": "code",
   "execution_count": 4,
   "id": "install-t-stac",
   "metadata": {},
   "outputs": [],
   "source": [
    "#| label: install-t-stac\n",
    "gs.run_command(\"g.extension\", extension=\"t.stac\")"
   ]
  },
  {
   "cell_type": "markdown",
   "id": "69a27157",
   "metadata": {},
   "source": [
    "## Set computational region"
   ]
  },
  {
   "cell_type": "code",
   "execution_count": 5,
   "id": "grass-set-region",
   "metadata": {},
   "outputs": [
    {
     "name": "stdout",
     "output_type": "stream",
     "text": [
      "projection: 99 (NAD83 / North Carolina)\n",
      "zone:       0\n",
      "datum:      nad83\n",
      "ellipsoid:  grs80\n",
      "north:      236690\n",
      "south:      210390\n",
      "west:       598920\n",
      "east:       616050\n",
      "nsres:      10\n",
      "ewres:      10\n",
      "rows:       2630\n",
      "cols:       1713\n",
      "cells:      4505190\n"
     ]
    }
   ],
   "source": [
    "#| label: grass-set-region\n",
    "#| echo: true\n",
    "#| eval: true\n",
    "#| include: true\n",
    "#| output: true\n",
    "gs.run_command(\n",
    "    \"g.region\", n=236687, s=210391, e=616042, w=598921, nsres=10, ewres=10, flags=\"pa\"\n",
    ")"
   ]
  },
  {
   "cell_type": "code",
   "execution_count": 6,
   "id": "display-interactive-region",
   "metadata": {},
   "outputs": [
    {
     "data": {
      "application/vnd.jupyter.widget-view+json": {
       "model_id": "13163072b175498e8865cf6c3197e0e7",
       "version_major": 2,
       "version_minor": 0
      },
      "text/plain": [
       "Map(center=[0.0, 0.0], controls=(ZoomControl(options=['position', 'zoom_in_text', 'zoom_in_title', 'zoom_out_t…"
      ]
     },
     "metadata": {},
     "output_type": "display_data"
    }
   ],
   "source": [
    "#| label: display-interactive-region\n",
    "#| echo: true\n",
    "#| eval: true\n",
    "#| include: true\n",
    "#| output: true\n",
    "\n",
    "m = gj.InteractiveMap(use_region=True)\n",
    "m.save(filename=\"outputs/basic_map.html\")\n",
    "display(m.show())"
   ]
  },
  {
   "cell_type": "code",
   "execution_count": 7,
   "id": "0be59920",
   "metadata": {},
   "outputs": [],
   "source": [
    "m_html = Path(\"outputs/basic_map.html\")\n",
    "HTML(m_html.read_text())"
   ]
  },
  {
   "cell_type": "markdown",
   "id": "560e4411",
   "metadata": {},
   "source": [
    "## STAC API"
   ]
  },
  {
   "cell_type": "code",
   "execution_count": 8,
   "id": "set-stac-catalog-url",
   "metadata": {},
   "outputs": [],
   "source": [
    "#| label: set-stac-catalog-url\n",
    "#| eval: true\n",
    "stac_url = \"https://earth-search.aws.element84.com/v1/\""
   ]
  },
  {
   "cell_type": "markdown",
   "id": "072f042e",
   "metadata": {},
   "source": [
    "### Searching STAC Catalogs\n",
    "\n",
    "::: {.panel-tabset}\n",
    "\n",
    "## Python"
   ]
  },
  {
   "cell_type": "code",
   "execution_count": 9,
   "id": "tbl-stac-catalog",
   "metadata": {},
   "outputs": [
    {
     "data": {
      "text/html": [
       "<div>\n",
       "<style scoped>\n",
       "    .dataframe tbody tr th:only-of-type {\n",
       "        vertical-align: middle;\n",
       "    }\n",
       "\n",
       "    .dataframe tbody tr th {\n",
       "        vertical-align: top;\n",
       "    }\n",
       "\n",
       "    .dataframe thead th {\n",
       "        text-align: right;\n",
       "    }\n",
       "</style>\n",
       "<table border=\"1\" class=\"dataframe\">\n",
       "  <thead>\n",
       "    <tr style=\"text-align: right;\">\n",
       "      <th></th>\n",
       "      <th>type</th>\n",
       "      <th>id</th>\n",
       "      <th>stac_version</th>\n",
       "      <th>description</th>\n",
       "      <th>links</th>\n",
       "      <th>conformsTo</th>\n",
       "      <th>title</th>\n",
       "    </tr>\n",
       "  </thead>\n",
       "  <tbody>\n",
       "    <tr>\n",
       "      <th>0</th>\n",
       "      <td>Catalog</td>\n",
       "      <td>earth-search-aws</td>\n",
       "      <td>1.1.0</td>\n",
       "      <td>A STAC API of public datasets on AWS</td>\n",
       "      <td>[{'rel': 'self', 'href': 'https://earth-search...</td>\n",
       "      <td>[https://api.stacspec.org/v1.0.0/core, https:/...</td>\n",
       "      <td>Earth Search by Element 84</td>\n",
       "    </tr>\n",
       "  </tbody>\n",
       "</table>\n",
       "</div>"
      ],
      "text/plain": [
       "      type                id stac_version  \\\n",
       "0  Catalog  earth-search-aws        1.1.0   \n",
       "\n",
       "                            description  \\\n",
       "0  A STAC API of public datasets on AWS   \n",
       "\n",
       "                                               links  \\\n",
       "0  [{'rel': 'self', 'href': 'https://earth-search...   \n",
       "\n",
       "                                          conformsTo  \\\n",
       "0  [https://api.stacspec.org/v1.0.0/core, https:/...   \n",
       "\n",
       "                        title  \n",
       "0  Earth Search by Element 84  "
      ]
     },
     "metadata": {},
     "output_type": "display_data"
    }
   ],
   "source": [
    "#| label: tbl-stac-catalog\n",
    "#| echo: true\n",
    "#| eval: true\n",
    "#| include: true\n",
    "#| output: true\n",
    "catalogs_json = gs.parse_command(\n",
    "    \"t.stac.catalog\", url=stac_url, flags=\"b\", format=\"json\"\n",
    ")\n",
    "df_catalogs = pd.json_normalize(catalogs_json)\n",
    "display(df_catalogs.head(10))"
   ]
  },
  {
   "cell_type": "markdown",
   "id": "0311c589",
   "metadata": {},
   "source": [
    "## Terminal"
   ]
  },
  {
   "cell_type": "code",
   "execution_count": 10,
   "id": "tbl-stac-catalog-shell",
   "metadata": {},
   "outputs": [
    {
     "name": "stdout",
     "output_type": "stream",
     "text": [
      "WARNING: Flag 'j' is deprecated and will be removed in a future release.\r\n",
      "         Please use format=proj4 instead.\r\n",
      "\u0007"
     ]
    },
    {
     "name": "stdout",
     "output_type": "stream",
     "text": [
      "WARNING: Flag 'j' is deprecated and will be removed in a future release.\r\n",
      "         Please use format=proj4 instead.\r\n",
      "\u0007"
     ]
    },
    {
     "name": "stdout",
     "output_type": "stream",
     "text": [
      "WARNING: Flag 'j' is deprecated and will be removed in a future release.\r\n",
      "         Please use format=proj4 instead.\r\n",
      "\u0007WARNING: Flag 'j' is deprecated and will be removed in a future release.\r\n",
      "         Please use format=proj4 instead.\r\n",
      "\u0007"
     ]
    },
    {
     "name": "stdout",
     "output_type": "stream",
     "text": [
      "Selected PROJ pipeline:\r\n",
      "+proj=pipeline +step +inv +proj=lcc +lat_0=33.75 +lon_0=-79\r\n",
      "+lat_1=36.1666666666667 +lat_2=34.3333333333333 +x_0=609601.22 +y_0=0\r\n",
      "+no_defs +over +a=6378137 +rf=298.257222101 +towgs84=0.000,0.000,0.000\r\n",
      "+step +proj=unitconvert +xy_in=rad +xy_out=deg\r\n",
      "************************\r\n"
     ]
    },
    {
     "name": "stdout",
     "output_type": "stream",
     "text": [
      "---------------------------------------------------------------------------\r\n",
      "Catalog: Earth Search by Element 84\r\n",
      "---------------------------------------------------------------------------\r\n",
      "Client Id: earth-search-aws\r\n",
      "Client Description: A STAC API of public datasets on AWS\r\n",
      "Client STAC Extensions: []\r\n",
      "Client catalog_type: ABSOLUTE_PUBLISHED\r\n",
      "---------------------------------------------------------------------------\r\n"
     ]
    },
    {
     "name": "stdout",
     "output_type": "stream",
     "text": [
      "Collections: 9\r\n",
      "---------------------------------------------------------------------------\r\n",
      "Collection Id | Collection Title\r\n",
      "---------------------------------------------------------------------------\r\n",
      "sentinel-2-pre-c1-l2a: Sentinel-2 Pre-Collection 1 Level-2A \r\n",
      "cop-dem-glo-30: Copernicus DEM GLO-30\r\n",
      "naip: NAIP: National Agriculture Imagery Program\r\n",
      "cop-dem-glo-90: Copernicus DEM GLO-90\r\n",
      "landsat-c2-l2: Landsat Collection 2 Level-2\r\n",
      "sentinel-2-l2a: Sentinel-2 Level-2A\r\n",
      "sentinel-2-l1c: Sentinel-2 Level-1C\r\n",
      "sentinel-2-c1-l2a: Sentinel-2 Collection 1 Level-2A\r\n",
      "sentinel-1-grd: Sentinel-1 Level-1C Ground Range Detected (GRD)\r\n",
      "---------------------------------------------------------------------------\r\n"
     ]
    }
   ],
   "source": [
    "#| label: tbl-stac-catalog-shell\n",
    "#| echo: true\n",
    "#| eval: true\n",
    "#| include: true\n",
    "#| output: true\n",
    "!t.stac.catalog url={stac_url} format=plain -b"
   ]
  },
  {
   "cell_type": "markdown",
   "id": "fa564eba",
   "metadata": {},
   "source": [
    ":::\n",
    "\n",
    "#### Collection Metadata\n",
    "\n",
    "::: {.panel-tabset}\n",
    "\n",
    "## Python"
   ]
  },
  {
   "cell_type": "code",
   "execution_count": 11,
   "id": "tbl-stac-items",
   "metadata": {},
   "outputs": [
    {
     "data": {
      "text/html": [
       "<div>\n",
       "<style scoped>\n",
       "    .dataframe tbody tr th:only-of-type {\n",
       "        vertical-align: middle;\n",
       "    }\n",
       "\n",
       "    .dataframe tbody tr th {\n",
       "        vertical-align: top;\n",
       "    }\n",
       "\n",
       "    .dataframe thead th {\n",
       "        text-align: right;\n",
       "    }\n",
       "</style>\n",
       "<table border=\"1\" class=\"dataframe\">\n",
       "  <thead>\n",
       "    <tr style=\"text-align: right;\">\n",
       "      <th></th>\n",
       "      <th>0</th>\n",
       "    </tr>\n",
       "  </thead>\n",
       "  <tbody>\n",
       "    <tr>\n",
       "      <th>type</th>\n",
       "      <td>Collection</td>\n",
       "    </tr>\n",
       "    <tr>\n",
       "      <th>id</th>\n",
       "      <td>sentinel-2-l2a</td>\n",
       "    </tr>\n",
       "    <tr>\n",
       "      <th>stac_version</th>\n",
       "      <td>1.1.0</td>\n",
       "    </tr>\n",
       "    <tr>\n",
       "      <th>description</th>\n",
       "      <td>Global Sentinel-2 data from the Multispectral ...</td>\n",
       "    </tr>\n",
       "    <tr>\n",
       "      <th>links</th>\n",
       "      <td>[{'rel': 'self', 'href': 'https://earth-search...</td>\n",
       "    </tr>\n",
       "  </tbody>\n",
       "</table>\n",
       "</div>"
      ],
      "text/plain": [
       "                                                              0\n",
       "type                                                 Collection\n",
       "id                                               sentinel-2-l2a\n",
       "stac_version                                              1.1.0\n",
       "description   Global Sentinel-2 data from the Multispectral ...\n",
       "links         [{'rel': 'self', 'href': 'https://earth-search..."
      ]
     },
     "metadata": {},
     "output_type": "display_data"
    }
   ],
   "source": [
    "#| label: tbl-stac-items\n",
    "#| echo: true\n",
    "#| eval: true\n",
    "#| include: true\n",
    "#| output: true\n",
    "\n",
    "items_json = gs.parse_command(\n",
    "    \"t.stac.item\",\n",
    "    url=stac_url,\n",
    "    collection_id=\"sentinel-2-l2a\",\n",
    "    flags=\"m\",\n",
    "    format=\"json\",\n",
    ")\n",
    "\n",
    "df_items = pd.json_normalize(items_json, max_level=0)\n",
    "display(df_items.T.head(5))"
   ]
  },
  {
   "cell_type": "markdown",
   "id": "503a82aa",
   "metadata": {},
   "source": [
    "## Terminal"
   ]
  },
  {
   "cell_type": "code",
   "execution_count": 12,
   "id": "tbl-stac-items-m-shell",
   "metadata": {},
   "outputs": [
    {
     "name": "stdout",
     "output_type": "stream",
     "text": [
      "WARNING: Flag 'j' is deprecated and will be removed in a future release.\r\n",
      "         Please use format=proj4 instead.\r\n",
      "\u0007WARNING: Flag 'j' is deprecated and will be removed in a future release.\r\n",
      "         Please use format=proj4 instead.\r\n",
      "\u0007"
     ]
    },
    {
     "name": "stdout",
     "output_type": "stream",
     "text": [
      "WARNING: Flag 'j' is deprecated and will be removed in a future release.\r\n",
      "         Please use format=proj4 instead.\r\n",
      "\u0007"
     ]
    },
    {
     "name": "stdout",
     "output_type": "stream",
     "text": [
      "WARNING: Flag 'j' is deprecated and will be removed in a future release.\r\n",
      "         Please use format=proj4 instead.\r\n",
      "\u0007"
     ]
    },
    {
     "name": "stdout",
     "output_type": "stream",
     "text": [
      "Selected PROJ pipeline:\r\n",
      "+proj=pipeline +step +inv +proj=lcc +lat_0=33.75 +lon_0=-79\r\n",
      "+lat_1=36.1666666666667 +lat_2=34.3333333333333 +x_0=609601.22 +y_0=0\r\n",
      "+no_defs +over +a=6378137 +rf=298.257222101 +towgs84=0.000,0.000,0.000\r\n",
      "+step +proj=unitconvert +xy_in=rad +xy_out=deg\r\n",
      "************************\r\n"
     ]
    },
    {
     "name": "stdout",
     "output_type": "stream",
     "text": [
      "---------------------------------------------------------------------------\r\n",
      "\r\n",
      "Collection Id: sentinel-2-l2a\r\n",
      "Title: Sentinel-2 Level-2A\r\n",
      "Description: Global Sentinel-2 data from the Multispectral Instrument (MSI) onboard Sentinel-2\r\n",
      "bbox: [[-180, -90, 180, 90]]\r\n",
      "Temporal Interval: [['2015-06-27T10:25:31.456000Z', None]]\r\n",
      "License: proprietary\r\n",
      "Keywords: ['sentinel', 'earth observation', 'esa']\r\n",
      "Links: [{'rel': 'self', 'href': 'https://earth-search.aws.element84.com/v1/collections/sentinel-2-l2a', 'type': 'application/json'}, {'rel': 'cite-as', 'href': 'https://doi.org/10.5270/S2_-742ikth', 'title': 'Copernicus Sentinel-2 MSI Level-2A (L2A) Bottom-of-Atmosphere Radiance'}, {'rel': 'license', 'href': 'https://sentinel.esa.int/documents/247904/690755/Sentinel_Data_Legal_Notice', 'title': 'proprietary'}, {'rel': 'parent', 'href': 'https://earth-search.aws.element84.com/v1', 'type': 'application/json'}, {'rel': 'root', 'href': 'https://earth-search.aws.element84.com/v1/', 'type': 'application/json', 'title': 'Earth Search by Element 84'}, {'rel': 'items', 'href': 'https://earth-search.aws.element84.com/v1/collections/sentinel-2-l2a/items', 'type': 'application/geo+json'}, {'rel': 'http://www.opengis.net/def/rel/ogc/1.0/queryables', 'href': 'https://earth-search.aws.element84.com/v1/collections/sentinel-2-l2a/queryables', 'type': 'application/schema+json'}, {'rel': 'aggregate', 'href': 'https://earth-search.aws.element84.com/v1/collections/sentinel-2-l2a/aggregate', 'type': 'application/json', 'method': 'GET'}, {'rel': 'aggregations', 'href': 'https://earth-search.aws.element84.com/v1/collections/sentinel-2-l2a/aggregations', 'type': 'application/json'}]\r\n",
      "Stac Extensions: ['https://stac-extensions.github.io/item-assets/v1.0.0/schema.json', 'https://stac-extensions.github.io/view/v1.0.0/schema.json', 'https://stac-extensions.github.io/scientific/v1.0.0/schema.json', 'https://stac-extensions.github.io/raster/v1.1.0/schema.json', 'https://stac-extensions.github.io/eo/v1.0.0/schema.json']\r\n",
      "\r\n",
      "# Summaries:\r\n",
      "---------------------------------------------------------------------------\r\n",
      "    platform:\r\n",
      "---------------------------------------------------------------------------\r\n",
      "    constellation:\r\n",
      "---------------------------------------------------------------------------\r\n",
      "    instruments:\r\n",
      "---------------------------------------------------------------------------\r\n",
      "    gsd:\r\n",
      "---------------------------------------------------------------------------\r\n",
      "    view:off_nadir:\r\n",
      "---------------------------------------------------------------------------\r\n",
      "    sci:doi:\r\n",
      "---------------------------------------------------------------------------\r\n",
      "    eo:bands:\r\n",
      "#         name: coastal\r\n",
      "#         common_name: coastal\r\n",
      "#         description: Coastal aerosol (band 1)\r\n",
      "#         center_wavelength: 0.443\r\n",
      "#         full_width_half_max: 0.027\r\n",
      "#         name: blue\r\n",
      "#         common_name: blue\r\n",
      "#         description: Blue (band 2)\r\n",
      "#         center_wavelength: 0.49\r\n",
      "#         full_width_half_max: 0.098\r\n",
      "#         name: green\r\n",
      "#         common_name: green\r\n",
      "#         description: Green (band 3)\r\n",
      "#         center_wavelength: 0.56\r\n",
      "#         full_width_half_max: 0.045\r\n",
      "#         name: red\r\n",
      "#         common_name: red\r\n",
      "#         description: Red (band 4)\r\n",
      "#         center_wavelength: 0.665\r\n",
      "#         full_width_half_max: 0.038\r\n",
      "#         name: rededge1\r\n",
      "#         common_name: rededge\r\n",
      "#         description: Red edge 1 (band 5)\r\n",
      "#         center_wavelength: 0.704\r\n",
      "#         full_width_half_max: 0.019\r\n",
      "#         name: rededge2\r\n",
      "#         common_name: rededge\r\n",
      "#         description: Red edge 2 (band 6)\r\n",
      "#         center_wavelength: 0.74\r\n",
      "#         full_width_half_max: 0.018\r\n",
      "#         name: rededge3\r\n",
      "#         common_name: rededge\r\n",
      "#         description: Red edge 3 (band 7)\r\n",
      "#         center_wavelength: 0.783\r\n",
      "#         full_width_half_max: 0.028\r\n",
      "#         name: nir\r\n",
      "#         common_name: nir\r\n",
      "#         description: NIR 1 (band 8)\r\n",
      "#         center_wavelength: 0.842\r\n",
      "#         full_width_half_max: 0.145\r\n",
      "#         name: nir08\r\n",
      "#         common_name: nir08\r\n",
      "#         description: NIR 2 (band 8A)\r\n",
      "#         center_wavelength: 0.865\r\n",
      "#         full_width_half_max: 0.033\r\n",
      "#         name: nir09\r\n",
      "#         common_name: nir09\r\n",
      "#         description: NIR 3 (band 9)\r\n",
      "#         center_wavelength: 0.945\r\n",
      "#         full_width_half_max: 0.026\r\n",
      "#         name: cirrus\r\n",
      "#         common_name: cirrus\r\n",
      "#         description: Cirrus (band 10)\r\n",
      "#         center_wavelength: 1.3735\r\n",
      "#         full_width_half_max: 0.075\r\n",
      "#         name: swir16\r\n",
      "#         common_name: swir16\r\n",
      "#         description: SWIR 1 (band 11)\r\n",
      "#         center_wavelength: 1.61\r\n",
      "#         full_width_half_max: 0.143\r\n",
      "#         name: swir22\r\n",
      "#         common_name: swir22\r\n",
      "#         description: SWIR 2 (band 12)\r\n",
      "#         center_wavelength: 2.19\r\n",
      "#         full_width_half_max: 0.242\r\n",
      "\r\n",
      "# Extra Fields:\r\n",
      "# Extra Fields not found.\r\n",
      "---------------------------------------------------------------------------\r\n",
      "\r\n"
     ]
    }
   ],
   "source": [
    "#| label: tbl-stac-items-m-shell\n",
    "#| echo: true\n",
    "#| eval: true\n",
    "#| include: true\n",
    "#| output: true\n",
    "!t.stac.item url={stac_url} collection_id=\"sentinel-2-l2a\" format=plain -m"
   ]
  },
  {
   "cell_type": "markdown",
   "id": "3650e86a",
   "metadata": {},
   "source": [
    ":::\n",
    "\n",
    "#### Query Items by datetime and display table\n",
    "\n",
    "::: {.panel-tabset}\n",
    "\n",
    "## Python"
   ]
  },
  {
   "cell_type": "code",
   "execution_count": 13,
   "id": "tbl-items",
   "metadata": {},
   "outputs": [
    {
     "data": {
      "text/html": [
       "<div>\n",
       "<style scoped>\n",
       "    .dataframe tbody tr th:only-of-type {\n",
       "        vertical-align: middle;\n",
       "    }\n",
       "\n",
       "    .dataframe tbody tr th {\n",
       "        vertical-align: top;\n",
       "    }\n",
       "\n",
       "    .dataframe thead th {\n",
       "        text-align: right;\n",
       "    }\n",
       "</style>\n",
       "<table border=\"1\" class=\"dataframe\">\n",
       "  <thead>\n",
       "    <tr style=\"text-align: right;\">\n",
       "      <th></th>\n",
       "      <th>type</th>\n",
       "      <th>stac_version</th>\n",
       "      <th>stac_extensions</th>\n",
       "      <th>id</th>\n",
       "      <th>geometry</th>\n",
       "      <th>bbox</th>\n",
       "      <th>properties</th>\n",
       "      <th>links</th>\n",
       "      <th>assets</th>\n",
       "      <th>collection</th>\n",
       "    </tr>\n",
       "  </thead>\n",
       "  <tbody>\n",
       "    <tr>\n",
       "      <th>0</th>\n",
       "      <td>Feature</td>\n",
       "      <td>1.1.0</td>\n",
       "      <td>[https://stac-extensions.github.io/processing/...</td>\n",
       "      <td>S2A_17SPV_20240929_0_L2A</td>\n",
       "      <td>{'type': 'Polygon', 'coordinates': [[[-79.8885...</td>\n",
       "      <td>[-79.9021350633042, 35.13301555004904, -78.668...</td>\n",
       "      <td>{'created': '2024-09-29T23:18:47.401Z', 'platf...</td>\n",
       "      <td>[{'rel': 'self', 'href': 'https://earth-search...</td>\n",
       "      <td>{'aot': {'href': 'https://sentinel-cogs.s3.us-...</td>\n",
       "      <td>sentinel-2-l2a</td>\n",
       "    </tr>\n",
       "    <tr>\n",
       "      <th>1</th>\n",
       "      <td>Feature</td>\n",
       "      <td>1.1.0</td>\n",
       "      <td>[https://stac-extensions.github.io/eo/v1.1.0/s...</td>\n",
       "      <td>S2B_17SPV_20240924_0_L2A</td>\n",
       "      <td>{'type': 'Polygon', 'coordinates': [[[-79.8885...</td>\n",
       "      <td>[-79.9021350633042, 35.13301555004904, -78.668...</td>\n",
       "      <td>{'created': '2024-09-25T06:45:08.923Z', 'platf...</td>\n",
       "      <td>[{'rel': 'self', 'href': 'https://earth-search...</td>\n",
       "      <td>{'aot': {'href': 'https://sentinel-cogs.s3.us-...</td>\n",
       "      <td>sentinel-2-l2a</td>\n",
       "    </tr>\n",
       "    <tr>\n",
       "      <th>2</th>\n",
       "      <td>Feature</td>\n",
       "      <td>1.1.0</td>\n",
       "      <td>[https://stac-extensions.github.io/view/v1.0.0...</td>\n",
       "      <td>S2A_17SPV_20240919_0_L2A</td>\n",
       "      <td>{'type': 'Polygon', 'coordinates': [[[-79.8885...</td>\n",
       "      <td>[-79.9021350633042, 35.13301555004904, -78.668...</td>\n",
       "      <td>{'created': '2024-09-20T01:57:52.703Z', 'platf...</td>\n",
       "      <td>[{'rel': 'self', 'href': 'https://earth-search...</td>\n",
       "      <td>{'aot': {'href': 'https://sentinel-cogs.s3.us-...</td>\n",
       "      <td>sentinel-2-l2a</td>\n",
       "    </tr>\n",
       "    <tr>\n",
       "      <th>3</th>\n",
       "      <td>Feature</td>\n",
       "      <td>1.1.0</td>\n",
       "      <td>[https://stac-extensions.github.io/grid/v1.1.0...</td>\n",
       "      <td>S2B_17SPV_20240914_0_L2A</td>\n",
       "      <td>{'type': 'Polygon', 'coordinates': [[[-79.8885...</td>\n",
       "      <td>[-79.9021350633042, 35.13301555004904, -78.668...</td>\n",
       "      <td>{'created': '2024-09-15T00:07:17.726Z', 'platf...</td>\n",
       "      <td>[{'rel': 'self', 'href': 'https://earth-search...</td>\n",
       "      <td>{'aot': {'href': 'https://sentinel-cogs.s3.us-...</td>\n",
       "      <td>sentinel-2-l2a</td>\n",
       "    </tr>\n",
       "    <tr>\n",
       "      <th>4</th>\n",
       "      <td>Feature</td>\n",
       "      <td>1.1.0</td>\n",
       "      <td>[https://stac-extensions.github.io/grid/v1.1.0...</td>\n",
       "      <td>S2A_17SPV_20240909_0_L2A</td>\n",
       "      <td>{'type': 'Polygon', 'coordinates': [[[-79.8885...</td>\n",
       "      <td>[-79.9021350633042, 35.13301555004904, -78.668...</td>\n",
       "      <td>{'created': '2024-09-10T01:00:11.150Z', 'platf...</td>\n",
       "      <td>[{'rel': 'self', 'href': 'https://earth-search...</td>\n",
       "      <td>{'aot': {'href': 'https://sentinel-cogs.s3.us-...</td>\n",
       "      <td>sentinel-2-l2a</td>\n",
       "    </tr>\n",
       "  </tbody>\n",
       "</table>\n",
       "</div>"
      ],
      "text/plain": [
       "      type stac_version                                    stac_extensions  \\\n",
       "0  Feature        1.1.0  [https://stac-extensions.github.io/processing/...   \n",
       "1  Feature        1.1.0  [https://stac-extensions.github.io/eo/v1.1.0/s...   \n",
       "2  Feature        1.1.0  [https://stac-extensions.github.io/view/v1.0.0...   \n",
       "3  Feature        1.1.0  [https://stac-extensions.github.io/grid/v1.1.0...   \n",
       "4  Feature        1.1.0  [https://stac-extensions.github.io/grid/v1.1.0...   \n",
       "\n",
       "                         id  \\\n",
       "0  S2A_17SPV_20240929_0_L2A   \n",
       "1  S2B_17SPV_20240924_0_L2A   \n",
       "2  S2A_17SPV_20240919_0_L2A   \n",
       "3  S2B_17SPV_20240914_0_L2A   \n",
       "4  S2A_17SPV_20240909_0_L2A   \n",
       "\n",
       "                                            geometry  \\\n",
       "0  {'type': 'Polygon', 'coordinates': [[[-79.8885...   \n",
       "1  {'type': 'Polygon', 'coordinates': [[[-79.8885...   \n",
       "2  {'type': 'Polygon', 'coordinates': [[[-79.8885...   \n",
       "3  {'type': 'Polygon', 'coordinates': [[[-79.8885...   \n",
       "4  {'type': 'Polygon', 'coordinates': [[[-79.8885...   \n",
       "\n",
       "                                                bbox  \\\n",
       "0  [-79.9021350633042, 35.13301555004904, -78.668...   \n",
       "1  [-79.9021350633042, 35.13301555004904, -78.668...   \n",
       "2  [-79.9021350633042, 35.13301555004904, -78.668...   \n",
       "3  [-79.9021350633042, 35.13301555004904, -78.668...   \n",
       "4  [-79.9021350633042, 35.13301555004904, -78.668...   \n",
       "\n",
       "                                          properties  \\\n",
       "0  {'created': '2024-09-29T23:18:47.401Z', 'platf...   \n",
       "1  {'created': '2024-09-25T06:45:08.923Z', 'platf...   \n",
       "2  {'created': '2024-09-20T01:57:52.703Z', 'platf...   \n",
       "3  {'created': '2024-09-15T00:07:17.726Z', 'platf...   \n",
       "4  {'created': '2024-09-10T01:00:11.150Z', 'platf...   \n",
       "\n",
       "                                               links  \\\n",
       "0  [{'rel': 'self', 'href': 'https://earth-search...   \n",
       "1  [{'rel': 'self', 'href': 'https://earth-search...   \n",
       "2  [{'rel': 'self', 'href': 'https://earth-search...   \n",
       "3  [{'rel': 'self', 'href': 'https://earth-search...   \n",
       "4  [{'rel': 'self', 'href': 'https://earth-search...   \n",
       "\n",
       "                                              assets      collection  \n",
       "0  {'aot': {'href': 'https://sentinel-cogs.s3.us-...  sentinel-2-l2a  \n",
       "1  {'aot': {'href': 'https://sentinel-cogs.s3.us-...  sentinel-2-l2a  \n",
       "2  {'aot': {'href': 'https://sentinel-cogs.s3.us-...  sentinel-2-l2a  \n",
       "3  {'aot': {'href': 'https://sentinel-cogs.s3.us-...  sentinel-2-l2a  \n",
       "4  {'aot': {'href': 'https://sentinel-cogs.s3.us-...  sentinel-2-l2a  "
      ]
     },
     "metadata": {},
     "output_type": "display_data"
    }
   ],
   "source": [
    "#| label: tbl-items\n",
    "#| tbl-cap: Sentinel 2 Items\n",
    "#| echo: true\n",
    "#| eval: true\n",
    "#| include: true\n",
    "#| output: true\n",
    "\n",
    "items_json = gs.parse_command(\n",
    "    \"t.stac.item\",\n",
    "    url=stac_url,\n",
    "    collection_id=\"sentinel-2-l2a\",\n",
    "    flags=\"i\",\n",
    "    datetime=\"2024-04-01/2024-09-30\",\n",
    "    format=\"json\",\n",
    ")\n",
    "num_items = len(df_items)\n",
    "df_items = pd.json_normalize(items_json, max_level=0)\n",
    "display(df_items.head(5))"
   ]
  },
  {
   "cell_type": "markdown",
   "id": "1e32e592",
   "metadata": {},
   "source": [
    "## Terminal"
   ]
  },
  {
   "cell_type": "code",
   "execution_count": 14,
   "id": "tbl-stac-items-i-shell",
   "metadata": {},
   "outputs": [
    {
     "name": "stdout",
     "output_type": "stream",
     "text": [
      "WARNING: Flag 'j' is deprecated and will be removed in a future release.\r\n",
      "         Please use format=proj4 instead.\r\n",
      "\u0007"
     ]
    },
    {
     "name": "stdout",
     "output_type": "stream",
     "text": [
      "WARNING: Flag 'j' is deprecated and will be removed in a future release.\r\n",
      "         Please use format=proj4 instead.\r\n",
      "\u0007"
     ]
    },
    {
     "name": "stdout",
     "output_type": "stream",
     "text": [
      "WARNING: Flag 'j' is deprecated and will be removed in a future release.\r\n",
      "         Please use format=proj4 instead.\r\n",
      "\u0007WARNING: Flag 'j' is deprecated and will be removed in a future release.\r\n",
      "         Please use format=proj4 instead.\r\n",
      "\u0007"
     ]
    },
    {
     "name": "stdout",
     "output_type": "stream",
     "text": [
      "Selected PROJ pipeline:\r\n",
      "+proj=pipeline +step +inv +proj=lcc +lat_0=33.75 +lon_0=-79\r\n",
      "+lat_1=36.1666666666667 +lat_2=34.3333333333333 +x_0=609601.22 +y_0=0\r\n",
      "+no_defs +over +a=6378137 +rf=298.257222101 +towgs84=0.000,0.000,0.000\r\n",
      "+step +proj=unitconvert +xy_in=rad +xy_out=deg\r\n",
      "************************\r\n"
     ]
    },
    {
     "name": "stdout",
     "output_type": "stream",
     "text": [
      "Search Matched: 38 items\r\n"
     ]
    },
    {
     "name": "stdout",
     "output_type": "stream",
     "text": [
      "bbox: [-79.11829907, 35.64652526, -78.92857699, 35.88363678]\r\n",
      "Items Found: 38\r\n",
      "Collection ID: sentinel-2-l2a\r\n",
      "Item: S2A_17SPV_20240929_0_L2A\r\n",
      "Geometry: {'type': 'Polygon', 'coordinates': [[[-79.88850843890832, 36.1397316133374], [-79.9021350633042, 35.14992495410683], [-78.69735281151316, 35.13301555004904], [-78.66879673080497, 36.12219793572046], [-79.88850843890832, 36.1397316133374]]]}\r\n",
      "Bbox: [-79.9021350633042, 35.13301555004904, -78.66879673080497, 36.1397316133374]\r\n",
      "Datetime: 2024-09-29 16:13:28.352000+00:00\r\n",
      "Start Datetime not found.\r\n",
      "End Datetime not found.\r\n",
      "Extra Fields:\r\n",
      "---------------------------------------------------------------------------\r\n",
      "Extensions:\r\n",
      "---------------------------------------------------------------------------\r\n",
      "\thttps://stac-extensions.github.io/processing/v1.1.0/schema.json\r\n",
      "\thttps://stac-extensions.github.io/projection/v2.0.0/schema.json\r\n",
      "\thttps://stac-extensions.github.io/raster/v1.1.0/schema.json\r\n",
      "\thttps://stac-extensions.github.io/mgrs/v1.0.0/schema.json\r\n",
      "\thttps://stac-extensions.github.io/grid/v1.1.0/schema.json\r\n",
      "\thttps://stac-extensions.github.io/eo/v1.1.0/schema.json\r\n",
      "\thttps://stac-extensions.github.io/view/v1.0.0/schema.json\r\n",
      "---------------------------------------------------------------------------\r\n",
      "Properties:\r\n",
      "#     created: 2024-09-29T23:18:47.401Z\r\n",
      "#     platform: sentinel-2a\r\n",
      "#     constellation: sentinel-2\r\n",
      "---------------------------------------------------------------------------\r\n",
      "    instruments:\r\n",
      "#     eo:cloud_cover: 74.087\r\n",
      "#     mgrs:utm_zone: 17\r\n",
      "#     mgrs:latitude_band: S\r\n",
      "#     mgrs:grid_square: PV\r\n",
      "#     grid:code: MGRS-17SPV\r\n",
      "#     view:sun_azimuth: 159.030812026265\r\n",
      "#     view:sun_elevation: 49.5733673337649\r\n",
      "#     s2:degraded_msi_data_percentage: 0.0133\r\n",
      "#     s2:nodata_pixel_percentage: 0\r\n",
      "#     s2:saturated_defective_pixel_percentage: 0\r\n",
      "#     s2:cloud_shadow_percentage: 1.035474\r\n",
      "#     s2:vegetation_percentage: 17.151682\r\n",
      "#     s2:not_vegetated_percentage: 2.54457\r\n",
      "#     s2:water_percentage: 0.531116\r\n",
      "#     s2:unclassified_percentage: 4.430241\r\n",
      "#     s2:medium_proba_clouds_percentage: 14.835113\r\n",
      "#     s2:high_proba_clouds_percentage: 59.251028\r\n",
      "#     s2:thin_cirrus_percentage: 0.000859\r\n",
      "#     s2:snow_ice_percentage: 0\r\n",
      "#     s2:product_type: S2MSI2A\r\n",
      "#     s2:processing_baseline: 05.11\r\n",
      "#     s2:product_uri: S2A_MSIL2A_20240929T160051_N0511_R097_T17SPV_20240929T214148.SAFE\r\n",
      "#     s2:generation_time: 2024-09-29T21:41:48.000000Z\r\n",
      "#     s2:datatake_id: GS2A_20240929T160051_048428_N05.11\r\n",
      "#     s2:datatake_type: INS-NOBS\r\n",
      "#     s2:datastrip_id: S2A_OPER_MSI_L2A_DS_2APS_20240929T214148_S20240929T160935_N05.11\r\n",
      "#     s2:granule_id: S2A_OPER_MSI_L2A_TL_2APS_20240929T214148_A048428_T17SPV_N05.11\r\n",
      "#     s2:reflectance_conversion_factor: 0.99535952936181\r\n",
      "#     datetime: 2024-09-29T16:13:28.352000Z\r\n",
      "#     s2:sequence: 0\r\n",
      "#     earthsearch:s3_path: s3://sentinel-cogs/sentinel-s2-l2a-cogs/17/S/PV/2024/9/S2A_17SPV_20240929_0_L2A\r\n",
      "#     earthsearch:payload_id: roda-sentinel2/workflow-sentinel2-to-stac/4358322d6f3b7cc6a1345f1e4582a193\r\n",
      "#     earthsearch:boa_offset_applied: True\r\n",
      "---------------------------------------------------------------------------\r\n",
      "\r\n",
      "     processing:software:\r\n",
      "#         sentinel2-to-stac: 0.1.1\r\n",
      "#     processing:software: {'sentinel2-to-stac': '0.1.1'}\r\n",
      "#     updated: 2024-09-29T23:18:47.401Z\r\n",
      "#     proj:code: EPSG:32617\r\n",
      "Collection ID: sentinel-2-l2a\r\n",
      "Item: S2B_17SPV_20240924_0_L2A\r\n",
      "Geometry: {'type': 'Polygon', 'coordinates': [[[-79.88850843890832, 36.1397316133374], [-79.9021350633042, 35.14992495410683], [-78.69735281151316, 35.13301555004904], [-78.66879673080497, 36.12219793572046], [-79.88850843890832, 36.1397316133374]]]}\r\n",
      "Bbox: [-79.9021350633042, 35.13301555004904, -78.66879673080497, 36.1397316133374]\r\n",
      "Datetime: 2024-09-24 16:13:24.693000+00:00\r\n",
      "Start Datetime not found.\r\n",
      "End Datetime not found.\r\n",
      "Extra Fields:\r\n",
      "---------------------------------------------------------------------------\r\n",
      "Extensions:\r\n",
      "---------------------------------------------------------------------------\r\n",
      "\thttps://stac-extensions.github.io/eo/v1.1.0/schema.json\r\n",
      "\thttps://stac-extensions.github.io/grid/v1.1.0/schema.json\r\n",
      "\thttps://stac-extensions.github.io/processing/v1.1.0/schema.json\r\n",
      "\thttps://stac-extensions.github.io/raster/v1.1.0/schema.json\r\n",
      "\thttps://stac-extensions.github.io/view/v1.0.0/schema.json\r\n",
      "\thttps://stac-extensions.github.io/projection/v2.0.0/schema.json\r\n",
      "\thttps://stac-extensions.github.io/mgrs/v1.0.0/schema.json\r\n",
      "---------------------------------------------------------------------------\r\n",
      "Properties:\r\n",
      "#     created: 2024-09-25T06:45:08.923Z\r\n",
      "#     platform: sentinel-2b\r\n",
      "#     constellation: sentinel-2\r\n",
      "---------------------------------------------------------------------------\r\n",
      "    instruments:\r\n",
      "#     eo:cloud_cover: 99.348462\r\n",
      "#     mgrs:utm_zone: 17\r\n",
      "#     mgrs:latitude_band: S\r\n",
      "#     mgrs:grid_square: PV\r\n",
      "#     grid:code: MGRS-17SPV\r\n",
      "#     view:sun_azimuth: 157.455076519409\r\n",
      "#     view:sun_elevation: 51.2968775702621\r\n",
      "#     s2:degraded_msi_data_percentage: 0.0052\r\n",
      "#     s2:nodata_pixel_percentage: 0\r\n",
      "#     s2:saturated_defective_pixel_percentage: 0\r\n",
      "#     s2:cloud_shadow_percentage: 0.600874\r\n",
      "#     s2:vegetation_percentage: 0.012064\r\n",
      "#     s2:not_vegetated_percentage: 0.00723\r\n",
      "#     s2:water_percentage: 0.001035\r\n",
      "#     s2:unclassified_percentage: 0.030182\r\n",
      "#     s2:medium_proba_clouds_percentage: 1.05707\r\n",
      "#     s2:high_proba_clouds_percentage: 98.291391\r\n",
      "#     s2:thin_cirrus_percentage: 0\r\n",
      "#     s2:snow_ice_percentage: 0\r\n",
      "#     s2:product_type: S2MSI2A\r\n",
      "#     s2:processing_baseline: 05.11\r\n",
      "#     s2:product_uri: S2B_MSIL2A_20240924T155909_N0511_R097_T17SPV_20240924T215647.SAFE\r\n",
      "#     s2:generation_time: 2024-09-24T21:56:47.000000Z\r\n",
      "#     s2:datatake_id: GS2B_20240924T155909_039448_N05.11\r\n",
      "#     s2:datatake_type: INS-NOBS\r\n",
      "#     s2:datastrip_id: S2B_OPER_MSI_L2A_DS_2BPS_20240924T215647_S20240924T161235_N05.11\r\n",
      "#     s2:granule_id: S2B_OPER_MSI_L2A_TL_2BPS_20240924T215647_A039448_T17SPV_N05.11\r\n",
      "#     s2:reflectance_conversion_factor: 0.992555642055685\r\n",
      "#     datetime: 2024-09-24T16:13:24.693000Z\r\n",
      "#     s2:sequence: 0\r\n",
      "#     earthsearch:s3_path: s3://sentinel-cogs/sentinel-s2-l2a-cogs/17/S/PV/2024/9/S2B_17SPV_20240924_0_L2A\r\n",
      "#     earthsearch:payload_id: roda-sentinel2/workflow-sentinel2-to-stac/5da8ad2203ff3aeeb1380ac4891c6811\r\n",
      "#     earthsearch:boa_offset_applied: True\r\n",
      "---------------------------------------------------------------------------\r\n",
      "\r\n",
      "     processing:software:\r\n",
      "#         sentinel2-to-stac: 0.1.1\r\n",
      "#     processing:software: {'sentinel2-to-stac': '0.1.1'}\r\n",
      "#     updated: 2024-09-25T06:45:08.923Z\r\n",
      "#     proj:code: EPSG:32617\r\n",
      "Collection ID: sentinel-2-l2a\r\n",
      "Item: S2A_17SPV_20240919_0_L2A\r\n",
      "Geometry: {'type': 'Polygon', 'coordinates': [[[-79.88850843890832, 36.1397316133374], [-79.9021350633042, 35.14992495410683], [-78.69735281151316, 35.13301555004904], [-78.66879673080497, 36.12219793572046], [-79.88850843890832, 36.1397316133374]]]}\r\n",
      "Bbox: [-79.9021350633042, 35.13301555004904, -78.66879673080497, 36.1397316133374]\r\n",
      "Datetime: 2024-09-19 16:13:27.093000+00:00\r\n"
     ]
    },
    {
     "name": "stdout",
     "output_type": "stream",
     "text": [
      "Start Datetime not found.\r\n",
      "End Datetime not found.\r\n",
      "Extra Fields:\r\n",
      "---------------------------------------------------------------------------\r\n",
      "Extensions:\r\n",
      "---------------------------------------------------------------------------\r\n",
      "\thttps://stac-extensions.github.io/view/v1.0.0/schema.json\r\n",
      "\thttps://stac-extensions.github.io/processing/v1.1.0/schema.json\r\n",
      "\thttps://stac-extensions.github.io/mgrs/v1.0.0/schema.json\r\n",
      "\thttps://stac-extensions.github.io/eo/v1.1.0/schema.json\r\n",
      "\thttps://stac-extensions.github.io/grid/v1.1.0/schema.json\r\n",
      "\thttps://stac-extensions.github.io/raster/v1.1.0/schema.json\r\n",
      "\thttps://stac-extensions.github.io/projection/v2.0.0/schema.json\r\n",
      "---------------------------------------------------------------------------\r\n",
      "Properties:\r\n",
      "#     created: 2024-09-20T01:57:52.703Z\r\n",
      "#     platform: sentinel-2a\r\n",
      "#     constellation: sentinel-2\r\n",
      "---------------------------------------------------------------------------\r\n",
      "    instruments:\r\n",
      "#     eo:cloud_cover: 72.722346\r\n",
      "#     mgrs:utm_zone: 17\r\n",
      "#     mgrs:latitude_band: S\r\n",
      "#     mgrs:grid_square: PV\r\n",
      "#     grid:code: MGRS-17SPV\r\n",
      "#     view:sun_azimuth: 155.767671819208\r\n",
      "#     view:sun_elevation: 52.9984536527629\r\n",
      "#     s2:degraded_msi_data_percentage: 0.0622\r\n",
      "#     s2:nodata_pixel_percentage: 0\r\n",
      "#     s2:saturated_defective_pixel_percentage: 0\r\n",
      "#     s2:cloud_shadow_percentage: 2.901951\r\n",
      "#     s2:vegetation_percentage: 17.622864\r\n",
      "#     s2:not_vegetated_percentage: 2.652742\r\n",
      "#     s2:water_percentage: 0.198822\r\n",
      "#     s2:unclassified_percentage: 3.66454\r\n",
      "#     s2:medium_proba_clouds_percentage: 19.171326\r\n",
      "#     s2:high_proba_clouds_percentage: 53.275347\r\n",
      "#     s2:thin_cirrus_percentage: 0.275673\r\n",
      "#     s2:snow_ice_percentage: 0\r\n",
      "#     s2:product_type: S2MSI2A\r\n",
      "#     s2:processing_baseline: 05.11\r\n",
      "#     s2:product_uri: S2A_MSIL2A_20240919T155931_N0511_R097_T17SPV_20240919T235348.SAFE\r\n",
      "#     s2:generation_time: 2024-09-19T23:53:48.000000Z\r\n",
      "#     s2:datatake_id: GS2A_20240919T155931_048285_N05.11\r\n",
      "#     s2:datatake_type: INS-NOBS\r\n",
      "#     s2:datastrip_id: S2A_OPER_MSI_L2A_DS_2APS_20240919T235348_S20240919T160354_N05.11\r\n",
      "#     s2:granule_id: S2A_OPER_MSI_L2A_TL_2APS_20240919T235348_A048285_T17SPV_N05.11\r\n",
      "#     s2:reflectance_conversion_factor: 0.989818874139801\r\n",
      "#     datetime: 2024-09-19T16:13:27.093000Z\r\n",
      "#     s2:sequence: 0\r\n",
      "#     earthsearch:s3_path: s3://sentinel-cogs/sentinel-s2-l2a-cogs/17/S/PV/2024/9/S2A_17SPV_20240919_0_L2A\r\n",
      "#     earthsearch:payload_id: roda-sentinel2/workflow-sentinel2-to-stac/15f081a7f9bdd87cc5f4cabfb05f981d\r\n",
      "#     earthsearch:boa_offset_applied: True\r\n",
      "---------------------------------------------------------------------------\r\n",
      "\r\n",
      "     processing:software:\r\n",
      "#         sentinel2-to-stac: 0.1.1\r\n",
      "#     processing:software: {'sentinel2-to-stac': '0.1.1'}\r\n",
      "#     updated: 2024-09-20T01:57:52.703Z\r\n",
      "#     proj:code: EPSG:32617\r\n",
      "Collection ID: sentinel-2-l2a\r\n",
      "Item: S2B_17SPV_20240914_0_L2A\r\n",
      "Geometry: {'type': 'Polygon', 'coordinates': [[[-79.88850843890832, 36.1397316133374], [-79.9021350633042, 35.14992495410683], [-78.69735281151316, 35.13301555004904], [-78.66879673080497, 36.12219793572046], [-79.88850843890832, 36.1397316133374]]]}\r\n",
      "Bbox: [-79.9021350633042, 35.13301555004904, -78.66879673080497, 36.1397316133374]\r\n",
      "Datetime: 2024-09-14 16:13:25.669000+00:00\r\n",
      "Start Datetime not found.\r\n",
      "End Datetime not found.\r\n",
      "Extra Fields:\r\n",
      "---------------------------------------------------------------------------\r\n",
      "Extensions:\r\n",
      "---------------------------------------------------------------------------\r\n",
      "\thttps://stac-extensions.github.io/grid/v1.1.0/schema.json\r\n",
      "\thttps://stac-extensions.github.io/view/v1.0.0/schema.json\r\n",
      "\thttps://stac-extensions.github.io/processing/v1.1.0/schema.json\r\n",
      "\thttps://stac-extensions.github.io/eo/v1.1.0/schema.json\r\n",
      "\thttps://stac-extensions.github.io/projection/v2.0.0/schema.json\r\n",
      "\thttps://stac-extensions.github.io/mgrs/v1.0.0/schema.json\r\n",
      "\thttps://stac-extensions.github.io/raster/v1.1.0/schema.json\r\n",
      "---------------------------------------------------------------------------\r\n",
      "Properties:\r\n",
      "#     created: 2024-09-15T00:07:17.726Z\r\n",
      "#     platform: sentinel-2b\r\n",
      "#     constellation: sentinel-2\r\n",
      "---------------------------------------------------------------------------\r\n",
      "    instruments:\r\n",
      "#     eo:cloud_cover: 79.828173\r\n",
      "#     mgrs:utm_zone: 17\r\n",
      "#     mgrs:latitude_band: S\r\n",
      "#     mgrs:grid_square: PV\r\n",
      "#     grid:code: MGRS-17SPV\r\n",
      "#     view:sun_azimuth: 153.914058363041\r\n",
      "#     view:sun_elevation: 54.654514165176\r\n",
      "#     s2:degraded_msi_data_percentage: 0.007\r\n",
      "#     s2:nodata_pixel_percentage: 0\r\n",
      "#     s2:saturated_defective_pixel_percentage: 0\r\n",
      "#     s2:cloud_shadow_percentage: 3.506305\r\n",
      "#     s2:vegetation_percentage: 15.025803\r\n",
      "#     s2:not_vegetated_percentage: 0.845717\r\n",
      "#     s2:water_percentage: 0.04352\r\n",
      "#     s2:unclassified_percentage: 0.7308\r\n",
      "#     s2:medium_proba_clouds_percentage: 25.53083\r\n",
      "#     s2:high_proba_clouds_percentage: 41.27472\r\n",
      "#     s2:thin_cirrus_percentage: 13.022627\r\n",
      "#     s2:snow_ice_percentage: 0\r\n",
      "#     s2:product_type: S2MSI2A\r\n",
      "#     s2:processing_baseline: 05.11\r\n",
      "#     s2:product_uri: S2B_MSIL2A_20240914T155819_N0511_R097_T17SPV_20240914T213957.SAFE\r\n",
      "#     s2:generation_time: 2024-09-14T21:39:57.000000Z\r\n",
      "#     s2:datatake_id: GS2B_20240914T155819_039305_N05.11\r\n",
      "#     s2:datatake_type: INS-NOBS\r\n",
      "#     s2:datastrip_id: S2B_OPER_MSI_L2A_DS_2BPS_20240914T213957_S20240914T160632_N05.11\r\n",
      "#     s2:granule_id: S2B_OPER_MSI_L2A_TL_2BPS_20240914T213957_A039305_T17SPV_N05.11\r\n",
      "#     s2:reflectance_conversion_factor: 0.987167209559927\r\n",
      "#     datetime: 2024-09-14T16:13:25.669000Z\r\n",
      "#     s2:sequence: 0\r\n",
      "#     earthsearch:s3_path: s3://sentinel-cogs/sentinel-s2-l2a-cogs/17/S/PV/2024/9/S2B_17SPV_20240914_0_L2A\r\n",
      "#     earthsearch:payload_id: roda-sentinel2/workflow-sentinel2-to-stac/f6a2326175b22d8a18f9cfdcf10d61a6\r\n",
      "#     earthsearch:boa_offset_applied: True\r\n",
      "---------------------------------------------------------------------------\r\n",
      "\r\n",
      "     processing:software:\r\n",
      "#         sentinel2-to-stac: 0.1.1\r\n",
      "#     processing:software: {'sentinel2-to-stac': '0.1.1'}\r\n",
      "#     updated: 2024-09-15T00:07:17.726Z\r\n",
      "#     proj:code: EPSG:32617\r\n",
      "Collection ID: sentinel-2-l2a\r\n",
      "Item: S2A_17SPV_20240909_0_L2A\r\n",
      "Geometry: {'type': 'Polygon', 'coordinates': [[[-79.88850843890832, 36.1397316133374], [-79.9021350633042, 35.14992495410683], [-78.69735281151316, 35.13301555004904], [-78.66879673080497, 36.12219793572046], [-79.88850843890832, 36.1397316133374]]]}\r\n",
      "Bbox: [-79.9021350633042, 35.13301555004904, -78.66879673080497, 36.1397316133374]\r\n",
      "Datetime: 2024-09-09 16:13:25.358000+00:00\r\n",
      "Start Datetime not found.\r\n",
      "End Datetime not found.\r\n",
      "Extra Fields:\r\n",
      "---------------------------------------------------------------------------\r\n",
      "Extensions:\r\n",
      "---------------------------------------------------------------------------\r\n",
      "\thttps://stac-extensions.github.io/grid/v1.1.0/schema.json\r\n",
      "\thttps://stac-extensions.github.io/mgrs/v1.0.0/schema.json\r\n",
      "\thttps://stac-extensions.github.io/projection/v2.0.0/schema.json\r\n",
      "\thttps://stac-extensions.github.io/eo/v1.1.0/schema.json\r\n",
      "\thttps://stac-extensions.github.io/view/v1.0.0/schema.json\r\n",
      "\thttps://stac-extensions.github.io/raster/v1.1.0/schema.json\r\n",
      "\thttps://stac-extensions.github.io/processing/v1.1.0/schema.json\r\n",
      "---------------------------------------------------------------------------\r\n",
      "Properties:\r\n",
      "#     created: 2024-09-10T01:00:11.150Z\r\n",
      "#     platform: sentinel-2a\r\n",
      "#     constellation: sentinel-2\r\n",
      "---------------------------------------------------------------------------\r\n",
      "    instruments:\r\n",
      "#     eo:cloud_cover: 0.583943\r\n",
      "#     mgrs:utm_zone: 17\r\n",
      "#     mgrs:latitude_band: S\r\n",
      "#     mgrs:grid_square: PV\r\n",
      "#     grid:code: MGRS-17SPV\r\n",
      "#     view:sun_azimuth: 151.939335784169\r\n",
      "#     view:sun_elevation: 56.2633790627923\r\n",
      "#     s2:degraded_msi_data_percentage: 0.0076\r\n",
      "#     s2:nodata_pixel_percentage: 0\r\n",
      "#     s2:saturated_defective_pixel_percentage: 0\r\n",
      "#     s2:cloud_shadow_percentage: 0.282156\r\n",
      "#     s2:vegetation_percentage: 90.927249\r\n",
      "#     s2:not_vegetated_percentage: 5.989857\r\n",
      "#     s2:water_percentage: 1.08207\r\n",
      "#     s2:unclassified_percentage: 0.802021\r\n",
      "#     s2:medium_proba_clouds_percentage: 0.458496\r\n",
      "#     s2:high_proba_clouds_percentage: 0.11125\r\n",
      "#     s2:thin_cirrus_percentage: 0.014197\r\n",
      "#     s2:snow_ice_percentage: 0\r\n",
      "#     s2:product_type: S2MSI2A\r\n",
      "#     s2:processing_baseline: 05.11\r\n",
      "#     s2:product_uri: S2A_MSIL2A_20240909T155901_N0511_R097_T17SPV_20240909T230449.SAFE\r\n",
      "#     s2:generation_time: 2024-09-09T23:04:49.000000Z\r\n",
      "#     s2:datatake_id: GS2A_20240909T155901_048142_N05.11\r\n",
      "#     s2:datatake_type: INS-NOBS\r\n",
      "#     s2:datastrip_id: S2A_OPER_MSI_L2A_DS_2APS_20240909T230449_S20240909T161131_N05.11\r\n",
      "#     s2:granule_id: S2A_OPER_MSI_L2A_TL_2APS_20240909T230449_A048142_T17SPV_N05.11\r\n",
      "#     s2:reflectance_conversion_factor: 0.984620442079431\r\n",
      "#     datetime: 2024-09-09T16:13:25.358000Z\r\n",
      "#     s2:sequence: 0\r\n",
      "#     earthsearch:s3_path: s3://sentinel-cogs/sentinel-s2-l2a-cogs/17/S/PV/2024/9/S2A_17SPV_20240909_0_L2A\r\n",
      "#     earthsearch:payload_id: roda-sentinel2/workflow-sentinel2-to-stac/4d9c572c80f8d121e13f58841e96ab3f\r\n",
      "#     earthsearch:boa_offset_applied: True\r\n",
      "---------------------------------------------------------------------------\r\n",
      "\r\n",
      "     processing:software:\r\n",
      "#         sentinel2-to-stac: 0.1.1\r\n",
      "#     processing:software: {'sentinel2-to-stac': '0.1.1'}\r\n",
      "#     updated: 2024-09-10T01:00:11.150Z\r\n",
      "#     proj:code: EPSG:32617\r\n",
      "Collection ID: sentinel-2-l2a\r\n",
      "Item: S2B_17SPV_20240904_0_L2A\r\n",
      "Geometry: {'type': 'Polygon', 'coordinates': [[[-79.88850843890832, 36.1397316133374], [-79.9021350633042, 35.14992495410683], [-78.69735281151316, 35.13301555004904], [-78.66879673080497, 36.12219793572046], [-79.88850843890832, 36.1397316133374]]]}\r\n",
      "Bbox: [-79.9021350633042, 35.13301555004904, -78.66879673080497, 36.1397316133374]\r\n",
      "Datetime: 2024-09-04 16:13:28.898000+00:00\r\n",
      "Start Datetime not found.\r\n",
      "End Datetime not found.\r\n",
      "Extra Fields:\r\n",
      "---------------------------------------------------------------------------\r\n",
      "Extensions:\r\n",
      "---------------------------------------------------------------------------\r\n",
      "\thttps://stac-extensions.github.io/view/v1.0.0/schema.json\r\n",
      "\thttps://stac-extensions.github.io/grid/v1.1.0/schema.json\r\n",
      "\thttps://stac-extensions.github.io/processing/v1.1.0/schema.json\r\n",
      "\thttps://stac-extensions.github.io/mgrs/v1.0.0/schema.json\r\n",
      "\thttps://stac-extensions.github.io/projection/v2.0.0/schema.json\r\n",
      "\thttps://stac-extensions.github.io/raster/v1.1.0/schema.json\r\n",
      "\thttps://stac-extensions.github.io/eo/v1.1.0/schema.json\r\n",
      "---------------------------------------------------------------------------\r\n",
      "Properties:\r\n",
      "#     created: 2024-09-04T23:56:25.240Z\r\n",
      "#     platform: sentinel-2b\r\n",
      "#     constellation: sentinel-2\r\n",
      "---------------------------------------------------------------------------\r\n",
      "    instruments:\r\n",
      "#     eo:cloud_cover: 85.910875\r\n",
      "#     mgrs:utm_zone: 17\r\n",
      "#     mgrs:latitude_band: S\r\n",
      "#     mgrs:grid_square: PV\r\n",
      "#     grid:code: MGRS-17SPV\r\n",
      "#     view:sun_azimuth: 149.877490350857\r\n",
      "#     view:sun_elevation: 57.820905383914\r\n",
      "#     s2:degraded_msi_data_percentage: 0.0027\r\n",
      "#     s2:nodata_pixel_percentage: 0\r\n",
      "#     s2:saturated_defective_pixel_percentage: 0\r\n",
      "#     s2:cloud_shadow_percentage: 0.144353\r\n",
      "#     s2:vegetation_percentage: 11.959764\r\n",
      "#     s2:not_vegetated_percentage: 0.834155\r\n",
      "#     s2:water_percentage: 0.120812\r\n",
      "#     s2:unclassified_percentage: 1.003573\r\n",
      "#     s2:medium_proba_clouds_percentage: 31.174442\r\n",
      "#     s2:high_proba_clouds_percentage: 35.781747\r\n",
      "#     s2:thin_cirrus_percentage: 18.954691\r\n",
      "#     s2:snow_ice_percentage: 0\r\n",
      "#     s2:product_type: S2MSI2A\r\n",
      "#     s2:processing_baseline: 05.11\r\n",
      "#     s2:product_uri: S2B_MSIL2A_20240904T155819_N0511_R097_T17SPV_20240904T214205.SAFE\r\n",
      "#     s2:generation_time: 2024-09-04T21:42:05.000000Z\r\n",
      "#     s2:datatake_id: GS2B_20240904T155819_039162_N05.11\r\n",
      "#     s2:datatake_type: INS-NOBS\r\n",
      "#     s2:datastrip_id: S2B_OPER_MSI_L2A_DS_2BPS_20240904T214205_S20240904T160310_N05.11\r\n",
      "#     s2:granule_id: S2B_OPER_MSI_L2A_TL_2BPS_20240904T214205_A039162_T17SPV_N05.11\r\n",
      "#     s2:reflectance_conversion_factor: 0.982194975113435\r\n",
      "#     datetime: 2024-09-04T16:13:28.898000Z\r\n",
      "#     s2:sequence: 0\r\n",
      "#     earthsearch:s3_path: s3://sentinel-cogs/sentinel-s2-l2a-cogs/17/S/PV/2024/9/S2B_17SPV_20240904_0_L2A\r\n",
      "#     earthsearch:payload_id: roda-sentinel2/workflow-sentinel2-to-stac/a34722af06ac7f7dc3a6579ff0c804bc\r\n",
      "#     earthsearch:boa_offset_applied: True\r\n",
      "---------------------------------------------------------------------------\r\n",
      "\r\n",
      "     processing:software:\r\n",
      "#         sentinel2-to-stac: 0.1.1\r\n",
      "#     processing:software: {'sentinel2-to-stac': '0.1.1'}\r\n",
      "#     updated: 2024-09-04T23:56:25.240Z\r\n",
      "#     proj:code: EPSG:32617\r\n",
      "Collection ID: sentinel-2-l2a\r\n",
      "Item: S2A_17SPV_20240830_0_L2A\r\n",
      "Geometry: {'type': 'Polygon', 'coordinates': [[[-79.88850843890832, 36.1397316133374], [-79.9021350633042, 35.14992495410683], [-78.69735281151316, 35.13301555004904], [-78.66879673080497, 36.12219793572046], [-79.88850843890832, 36.1397316133374]]]}\r\n",
      "Bbox: [-79.9021350633042, 35.13301555004904, -78.66879673080497, 36.1397316133374]\r\n",
      "Datetime: 2024-08-30 16:13:25.079000+00:00\r\n",
      "Start Datetime not found.\r\n",
      "End Datetime not found.\r\n",
      "Extra Fields:\r\n",
      "---------------------------------------------------------------------------\r\n",
      "Extensions:\r\n",
      "---------------------------------------------------------------------------\r\n",
      "\thttps://stac-extensions.github.io/mgrs/v1.0.0/schema.json\r\n",
      "\thttps://stac-extensions.github.io/processing/v1.1.0/schema.json\r\n",
      "\thttps://stac-extensions.github.io/projection/v2.0.0/schema.json\r\n",
      "\thttps://stac-extensions.github.io/raster/v1.1.0/schema.json\r\n",
      "\thttps://stac-extensions.github.io/view/v1.0.0/schema.json\r\n",
      "\thttps://stac-extensions.github.io/grid/v1.1.0/schema.json\r\n",
      "\thttps://stac-extensions.github.io/eo/v1.1.0/schema.json\r\n",
      "---------------------------------------------------------------------------\r\n",
      "Properties:\r\n",
      "#     created: 2024-08-31T00:58:00.459Z\r\n",
      "#     platform: sentinel-2a\r\n",
      "#     constellation: sentinel-2\r\n",
      "---------------------------------------------------------------------------\r\n",
      "    instruments:\r\n",
      "#     eo:cloud_cover: 29.260489\r\n",
      "#     mgrs:utm_zone: 17\r\n",
      "#     mgrs:latitude_band: S\r\n",
      "#     mgrs:grid_square: PV\r\n",
      "#     grid:code: MGRS-17SPV\r\n",
      "#     view:sun_azimuth: 147.666056006198\r\n",
      "#     view:sun_elevation: 59.2994603957414\r\n",
      "#     s2:degraded_msi_data_percentage: 0.0075\r\n",
      "#     s2:nodata_pixel_percentage: 0\r\n",
      "#     s2:saturated_defective_pixel_percentage: 0\r\n",
      "#     s2:cloud_shadow_percentage: 2.806995\r\n",
      "#     s2:vegetation_percentage: 60.253859\r\n",
      "#     s2:not_vegetated_percentage: 4.589577\r\n",
      "#     s2:water_percentage: 0.798839\r\n",
      "#     s2:unclassified_percentage: 2.123901\r\n",
      "#     s2:medium_proba_clouds_percentage: 8.565114\r\n",
      "#     s2:high_proba_clouds_percentage: 7.006772\r\n",
      "#     s2:thin_cirrus_percentage: 13.688605\r\n",
      "#     s2:snow_ice_percentage: 0\r\n",
      "#     s2:product_type: S2MSI2A\r\n",
      "#     s2:processing_baseline: 05.11\r\n",
      "#     s2:product_uri: S2A_MSIL2A_20240830T155901_N0511_R097_T17SPV_20240830T230248.SAFE\r\n",
      "#     s2:generation_time: 2024-08-30T23:02:48.000000Z\r\n",
      "#     s2:datatake_id: GS2A_20240830T155901_047999_N05.11\r\n",
      "#     s2:datatake_type: INS-NOBS\r\n",
      "#     s2:datastrip_id: S2A_OPER_MSI_L2A_DS_2APS_20240830T230248_S20240830T161243_N05.11\r\n",
      "#     s2:granule_id: S2A_OPER_MSI_L2A_TL_2APS_20240830T230248_A047999_T17SPV_N05.11\r\n",
      "#     s2:reflectance_conversion_factor: 0.979908290720517\r\n",
      "#     datetime: 2024-08-30T16:13:25.079000Z\r\n",
      "#     s2:sequence: 0\r\n",
      "#     earthsearch:s3_path: s3://sentinel-cogs/sentinel-s2-l2a-cogs/17/S/PV/2024/8/S2A_17SPV_20240830_0_L2A\r\n",
      "#     earthsearch:payload_id: roda-sentinel2/workflow-sentinel2-to-stac/f5abdfe94133d858b559236189785d38\r\n",
      "#     earthsearch:boa_offset_applied: True\r\n",
      "---------------------------------------------------------------------------\r\n",
      "\r\n",
      "     processing:software:\r\n",
      "#         sentinel2-to-stac: 0.1.1\r\n",
      "#     processing:software: {'sentinel2-to-stac': '0.1.1'}\r\n",
      "#     updated: 2024-08-31T00:58:00.459Z\r\n",
      "#     proj:code: EPSG:32617\r\n",
      "Collection ID: sentinel-2-l2a\r\n",
      "Item: S2B_17SPV_20240825_0_L2A\r\n",
      "Geometry: {'type': 'Polygon', 'coordinates': [[[-79.88850843890832, 36.1397316133374], [-79.9021350633042, 35.14992495410683], [-78.69735281151316, 35.13301555004904], [-78.66879673080497, 36.12219793572046], [-79.88850843890832, 36.1397316133374]]]}\r\n",
      "Bbox: [-79.9021350633042, 35.13301555004904, -78.66879673080497, 36.1397316133374]\r\n",
      "Datetime: 2024-08-25 16:13:26.986000+00:00\r\n",
      "Start Datetime not found.\r\n",
      "End Datetime not found.\r\n",
      "Extra Fields:\r\n",
      "---------------------------------------------------------------------------\r\n",
      "Extensions:\r\n",
      "---------------------------------------------------------------------------\r\n",
      "\thttps://stac-extensions.github.io/raster/v1.1.0/schema.json\r\n",
      "\thttps://stac-extensions.github.io/grid/v1.1.0/schema.json\r\n",
      "\thttps://stac-extensions.github.io/view/v1.0.0/schema.json\r\n",
      "\thttps://stac-extensions.github.io/processing/v1.1.0/schema.json\r\n",
      "\thttps://stac-extensions.github.io/mgrs/v1.0.0/schema.json\r\n",
      "\thttps://stac-extensions.github.io/eo/v1.1.0/schema.json\r\n",
      "\thttps://stac-extensions.github.io/projection/v2.0.0/schema.json\r\n",
      "---------------------------------------------------------------------------\r\n",
      "Properties:\r\n",
      "#     created: 2024-08-25T22:19:02.797Z\r\n",
      "#     platform: sentinel-2b\r\n",
      "#     constellation: sentinel-2\r\n",
      "---------------------------------------------------------------------------\r\n",
      "    instruments:\r\n",
      "#     eo:cloud_cover: 0.286147\r\n",
      "#     mgrs:utm_zone: 17\r\n",
      "#     mgrs:latitude_band: S\r\n",
      "#     mgrs:grid_square: PV\r\n",
      "#     grid:code: MGRS-17SPV\r\n",
      "#     view:sun_azimuth: 145.418027258291\r\n",
      "#     view:sun_elevation: 60.713849205893\r\n",
      "#     s2:degraded_msi_data_percentage: 0.0023\r\n",
      "#     s2:nodata_pixel_percentage: 3e-06\r\n",
      "#     s2:saturated_defective_pixel_percentage: 0\r\n",
      "#     s2:cloud_shadow_percentage: 0\r\n",
      "#     s2:vegetation_percentage: 92.048389\r\n",
      "#     s2:not_vegetated_percentage: 5.863727\r\n",
      "#     s2:water_percentage: 1.157126\r\n",
      "#     s2:unclassified_percentage: 0.414823\r\n",
      "#     s2:medium_proba_clouds_percentage: 0.003242\r\n",
      "#     s2:high_proba_clouds_percentage: 0.000468\r\n",
      "#     s2:thin_cirrus_percentage: 0.282438\r\n",
      "#     s2:snow_ice_percentage: 0\r\n",
      "#     s2:product_type: S2MSI2A\r\n",
      "#     s2:processing_baseline: 05.11\r\n",
      "#     s2:product_uri: S2B_MSIL2A_20240825T155819_N0511_R097_T17SPV_20240825T202603.SAFE\r\n",
      "#     s2:generation_time: 2024-08-25T20:26:03.000000Z\r\n",
      "#     s2:datatake_id: GS2B_20240825T155819_039019_N05.11\r\n",
      "#     s2:datatake_type: INS-NOBS\r\n",
      "#     s2:datastrip_id: S2B_OPER_MSI_L2A_DS_2BPS_20240825T202603_S20240825T160630_N05.11\r\n",
      "#     s2:granule_id: S2B_OPER_MSI_L2A_TL_2BPS_20240825T202603_A039019_T17SPV_N05.11\r\n",
      "#     s2:reflectance_conversion_factor: 0.977774923159322\r\n",
      "#     datetime: 2024-08-25T16:13:26.986000Z\r\n",
      "#     s2:sequence: 0\r\n",
      "#     earthsearch:s3_path: s3://sentinel-cogs/sentinel-s2-l2a-cogs/17/S/PV/2024/8/S2B_17SPV_20240825_0_L2A\r\n",
      "#     earthsearch:payload_id: roda-sentinel2/workflow-sentinel2-to-stac/490f60d682670e67d01ecaf4f98b5414\r\n",
      "#     earthsearch:boa_offset_applied: True\r\n",
      "---------------------------------------------------------------------------\r\n",
      "\r\n",
      "     processing:software:\r\n",
      "#         sentinel2-to-stac: 0.1.1\r\n",
      "#     processing:software: {'sentinel2-to-stac': '0.1.1'}\r\n",
      "#     updated: 2024-08-25T22:19:02.797Z\r\n",
      "#     proj:code: EPSG:32617\r\n",
      "Collection ID: sentinel-2-l2a\r\n",
      "Item: S2A_17SPV_20240820_0_L2A\r\n",
      "Geometry: {'type': 'Polygon', 'coordinates': [[[-79.88850843890832, 36.1397316133374], [-79.89776456996923, 35.4726933643254], [-79.7346782097742, 35.44129757021934], [-79.46139918173544, 35.385649910895935], [-79.23391161679794, 35.33655731103751], [-78.94048445982517, 35.27132975873579], [-78.7314235910276, 35.22160262927839], [-78.69517200414566, 35.210288765815775], [-78.66879673080497, 36.12219793572046], [-79.88850843890832, 36.1397316133374]]]}\r\n",
      "Bbox: [-79.89776456996923, 35.210288765815775, -78.66879673080497, 36.1397316133374]\r\n",
      "Datetime: 2024-08-20 16:13:23.109000+00:00\r\n",
      "Start Datetime not found.\r\n",
      "End Datetime not found.\r\n",
      "Extra Fields:\r\n",
      "---------------------------------------------------------------------------\r\n",
      "Extensions:\r\n",
      "---------------------------------------------------------------------------\r\n",
      "\thttps://stac-extensions.github.io/eo/v1.1.0/schema.json\r\n",
      "\thttps://stac-extensions.github.io/raster/v1.1.0/schema.json\r\n",
      "\thttps://stac-extensions.github.io/mgrs/v1.0.0/schema.json\r\n",
      "\thttps://stac-extensions.github.io/view/v1.0.0/schema.json\r\n",
      "\thttps://stac-extensions.github.io/projection/v2.0.0/schema.json\r\n",
      "\thttps://stac-extensions.github.io/processing/v1.1.0/schema.json\r\n",
      "\thttps://stac-extensions.github.io/grid/v1.1.0/schema.json\r\n",
      "---------------------------------------------------------------------------\r\n",
      "Properties:\r\n",
      "#     created: 2024-08-20T23:56:23.997Z\r\n",
      "#     platform: sentinel-2a\r\n",
      "#     constellation: sentinel-2\r\n",
      "---------------------------------------------------------------------------\r\n",
      "    instruments:\r\n",
      "#     eo:cloud_cover: 33.311394\r\n",
      "#     mgrs:utm_zone: 17\r\n",
      "#     mgrs:latitude_band: S\r\n",
      "#     mgrs:grid_square: PV\r\n",
      "#     grid:code: MGRS-17SPV\r\n",
      "#     view:sun_azimuth: 143.08785356748\r\n",
      "#     view:sun_elevation: 62.0401806921953\r\n",
      "#     s2:degraded_msi_data_percentage: 0.0068\r\n",
      "#     s2:nodata_pixel_percentage: 20.467882\r\n",
      "#     s2:saturated_defective_pixel_percentage: 0\r\n",
      "#     s2:cloud_shadow_percentage: 4.145628\r\n",
      "#     s2:vegetation_percentage: 57.034469\r\n",
      "#     s2:not_vegetated_percentage: 2.759165\r\n",
      "#     s2:water_percentage: 0.557756\r\n",
      "#     s2:unclassified_percentage: 2.062658\r\n",
      "#     s2:medium_proba_clouds_percentage: 7.864375\r\n",
      "#     s2:high_proba_clouds_percentage: 25.44643\r\n",
      "#     s2:thin_cirrus_percentage: 0.000588\r\n",
      "#     s2:snow_ice_percentage: 0.000125\r\n",
      "#     s2:product_type: S2MSI2A\r\n",
      "#     s2:processing_baseline: 05.11\r\n",
      "#     s2:product_uri: S2A_MSIL2A_20240820T155901_N0511_R097_T17SPV_20240820T215950.SAFE\r\n",
      "#     s2:generation_time: 2024-08-20T21:59:50.000000Z\r\n",
      "#     s2:datatake_id: GS2A_20240820T155901_047856_N05.11\r\n",
      "#     s2:datatake_type: INS-NOBS\r\n",
      "#     s2:datastrip_id: S2A_OPER_MSI_L2A_DS_2APS_20240820T215950_S20240820T160059_N05.11\r\n",
      "#     s2:granule_id: S2A_OPER_MSI_L2A_TL_2APS_20240820T215950_A047856_T17SPV_N05.11\r\n",
      "#     s2:reflectance_conversion_factor: 0.975809931278449\r\n",
      "#     datetime: 2024-08-20T16:13:23.109000Z\r\n",
      "#     s2:sequence: 0\r\n",
      "#     earthsearch:s3_path: s3://sentinel-cogs/sentinel-s2-l2a-cogs/17/S/PV/2024/8/S2A_17SPV_20240820_0_L2A\r\n",
      "#     earthsearch:payload_id: roda-sentinel2/workflow-sentinel2-to-stac/411bee81baeb1568b5776fdf0d347f44\r\n",
      "#     earthsearch:boa_offset_applied: True\r\n",
      "---------------------------------------------------------------------------\r\n",
      "\r\n",
      "     processing:software:\r\n",
      "#         sentinel2-to-stac: 0.1.1\r\n",
      "#     processing:software: {'sentinel2-to-stac': '0.1.1'}\r\n",
      "#     updated: 2024-08-20T23:56:23.997Z\r\n",
      "#     proj:code: EPSG:32617\r\n",
      "Collection ID: sentinel-2-l2a\r\n",
      "Item: S2B_17SPV_20240815_0_L2A\r\n",
      "Geometry: {'type': 'Polygon', 'coordinates': [[[-79.88850843890832, 36.1397316133374], [-79.9021350633042, 35.14992495410683], [-78.69735281151316, 35.13301555004904], [-78.66879673080497, 36.12219793572046], [-79.88850843890832, 36.1397316133374]]]}\r\n",
      "Bbox: [-79.9021350633042, 35.13301555004904, -78.66879673080497, 36.1397316133374]\r\n",
      "Datetime: 2024-08-15 16:13:29.698000+00:00\r\n",
      "Start Datetime not found.\r\n",
      "End Datetime not found.\r\n",
      "Extra Fields:\r\n",
      "---------------------------------------------------------------------------\r\n",
      "Extensions:\r\n",
      "---------------------------------------------------------------------------\r\n",
      "\thttps://stac-extensions.github.io/eo/v1.1.0/schema.json\r\n",
      "\thttps://stac-extensions.github.io/grid/v1.1.0/schema.json\r\n",
      "\thttps://stac-extensions.github.io/raster/v1.1.0/schema.json\r\n",
      "\thttps://stac-extensions.github.io/projection/v2.0.0/schema.json\r\n",
      "\thttps://stac-extensions.github.io/processing/v1.1.0/schema.json\r\n",
      "\thttps://stac-extensions.github.io/mgrs/v1.0.0/schema.json\r\n",
      "\thttps://stac-extensions.github.io/view/v1.0.0/schema.json\r\n",
      "---------------------------------------------------------------------------\r\n",
      "Properties:\r\n",
      "#     created: 2024-08-15T22:26:20.635Z\r\n",
      "#     platform: sentinel-2b\r\n",
      "#     constellation: sentinel-2\r\n",
      "---------------------------------------------------------------------------\r\n",
      "    instruments:\r\n",
      "#     eo:cloud_cover: 21.623282\r\n",
      "#     mgrs:utm_zone: 17\r\n",
      "#     mgrs:latitude_band: S\r\n",
      "#     mgrs:grid_square: PV\r\n",
      "#     grid:code: MGRS-17SPV\r\n",
      "#     view:sun_azimuth: 140.792281631354\r\n",
      "#     view:sun_elevation: 63.298438697450905\r\n",
      "#     s2:degraded_msi_data_percentage: 0.0026\r\n",
      "#     s2:nodata_pixel_percentage: 0\r\n",
      "#     s2:saturated_defective_pixel_percentage: 0\r\n",
      "#     s2:cloud_shadow_percentage: 6.605214\r\n",
      "#     s2:vegetation_percentage: 66.837502\r\n",
      "#     s2:not_vegetated_percentage: 3.310321\r\n",
      "#     s2:water_percentage: 0.95207\r\n",
      "#     s2:unclassified_percentage: 0.522533\r\n",
      "#     s2:medium_proba_clouds_percentage: 5.018556\r\n",
      "#     s2:high_proba_clouds_percentage: 3.960375\r\n",
      "#     s2:thin_cirrus_percentage: 12.644351\r\n",
      "#     s2:snow_ice_percentage: 1.7e-05\r\n",
      "#     s2:product_type: S2MSI2A\r\n",
      "#     s2:processing_baseline: 05.11\r\n",
      "#     s2:product_uri: S2B_MSIL2A_20240815T155819_N0511_R097_T17SPV_20240815T202258.SAFE\r\n",
      "#     s2:generation_time: 2024-08-15T20:22:58.000000Z\r\n",
      "#     s2:datatake_id: GS2B_20240815T155819_038876_N05.11\r\n",
      "#     s2:datatake_type: INS-NOBS\r\n",
      "#     s2:datastrip_id: S2B_OPER_MSI_L2A_DS_2BPS_20240815T202258_S20240815T160633_N05.11\r\n",
      "#     s2:granule_id: S2B_OPER_MSI_L2A_TL_2BPS_20240815T202258_A038876_T17SPV_N05.11\r\n",
      "#     s2:reflectance_conversion_factor: 0.974025531957526\r\n",
      "#     datetime: 2024-08-15T16:13:29.698000Z\r\n",
      "#     s2:sequence: 0\r\n",
      "#     earthsearch:s3_path: s3://sentinel-cogs/sentinel-s2-l2a-cogs/17/S/PV/2024/8/S2B_17SPV_20240815_0_L2A\r\n",
      "#     earthsearch:payload_id: roda-sentinel2/workflow-sentinel2-to-stac/4db99d501d990bde2470478e44214d57\r\n",
      "#     earthsearch:boa_offset_applied: True\r\n",
      "---------------------------------------------------------------------------\r\n",
      "\r\n",
      "     processing:software:\r\n",
      "#         sentinel2-to-stac: 0.1.1\r\n",
      "#     processing:software: {'sentinel2-to-stac': '0.1.1'}\r\n",
      "#     updated: 2024-08-15T22:26:20.635Z\r\n",
      "#     proj:code: EPSG:32617\r\n",
      "Collection ID: sentinel-2-l2a\r\n",
      "Item: S2A_17SPV_20240810_0_L2A\r\n",
      "Geometry: {'type': 'Polygon', 'coordinates': [[[-79.88850843890832, 36.1397316133374], [-79.9021350633042, 35.14992495410683], [-78.69735281151316, 35.13301555004904], [-78.66879673080497, 36.12219793572046], [-79.88850843890832, 36.1397316133374]]]}\r\n",
      "Bbox: [-79.9021350633042, 35.13301555004904, -78.66879673080497, 36.1397316133374]\r\n",
      "Datetime: 2024-08-10 16:13:27.506000+00:00\r\n",
      "Start Datetime not found.\r\n",
      "End Datetime not found.\r\n",
      "Extra Fields:\r\n",
      "---------------------------------------------------------------------------\r\n",
      "Extensions:\r\n",
      "---------------------------------------------------------------------------\r\n",
      "\thttps://stac-extensions.github.io/grid/v1.1.0/schema.json\r\n",
      "\thttps://stac-extensions.github.io/raster/v1.1.0/schema.json\r\n",
      "\thttps://stac-extensions.github.io/view/v1.0.0/schema.json\r\n",
      "\thttps://stac-extensions.github.io/mgrs/v1.0.0/schema.json\r\n",
      "\thttps://stac-extensions.github.io/eo/v1.1.0/schema.json\r\n",
      "\thttps://stac-extensions.github.io/projection/v2.0.0/schema.json\r\n",
      "\thttps://stac-extensions.github.io/processing/v1.1.0/schema.json\r\n",
      "---------------------------------------------------------------------------\r\n",
      "Properties:\r\n",
      "#     created: 2024-08-11T00:56:27.595Z\r\n",
      "#     platform: sentinel-2a\r\n",
      "#     constellation: sentinel-2\r\n",
      "---------------------------------------------------------------------------\r\n",
      "    instruments:\r\n",
      "#     eo:cloud_cover: 22.071692\r\n",
      "#     mgrs:utm_zone: 17\r\n",
      "#     mgrs:latitude_band: S\r\n",
      "#     mgrs:grid_square: PV\r\n",
      "#     grid:code: MGRS-17SPV\r\n",
      "#     view:sun_azimuth: 138.46260954534\r\n",
      "#     view:sun_elevation: 64.4582094622163\r\n",
      "#     s2:degraded_msi_data_percentage: 0.0072\r\n",
      "#     s2:nodata_pixel_percentage: 0\r\n",
      "#     s2:saturated_defective_pixel_percentage: 0\r\n",
      "#     s2:cloud_shadow_percentage: 1.194054\r\n",
      "#     s2:vegetation_percentage: 68.353802\r\n",
      "#     s2:not_vegetated_percentage: 4.528956\r\n",
      "#     s2:water_percentage: 1.116045\r\n",
      "#     s2:unclassified_percentage: 2.540801\r\n",
      "#     s2:medium_proba_clouds_percentage: 6.852651\r\n",
      "#     s2:high_proba_clouds_percentage: 5.531524\r\n",
      "#     s2:thin_cirrus_percentage: 9.687516\r\n",
      "#     s2:snow_ice_percentage: 0\r\n",
      "#     s2:product_type: S2MSI2A\r\n",
      "#     s2:processing_baseline: 05.11\r\n",
      "#     s2:product_uri: S2A_MSIL2A_20240810T155901_N0511_R097_T17SPV_20240810T230917.SAFE\r\n",
      "#     s2:generation_time: 2024-08-10T23:09:17.000000Z\r\n",
      "#     s2:datatake_id: GS2A_20240810T155901_047713_N05.11\r\n",
      "#     s2:datatake_type: INS-NOBS\r\n",
      "#     s2:datastrip_id: S2A_OPER_MSI_L2A_DS_2APS_20240810T230917_S20240810T161216_N05.11\r\n",
      "#     s2:granule_id: S2A_OPER_MSI_L2A_TL_2APS_20240810T230917_A047713_T17SPV_N05.11\r\n",
      "#     s2:reflectance_conversion_factor: 0.972434093148653\r\n",
      "#     datetime: 2024-08-10T16:13:27.506000Z\r\n",
      "#     s2:sequence: 0\r\n",
      "#     earthsearch:s3_path: s3://sentinel-cogs/sentinel-s2-l2a-cogs/17/S/PV/2024/8/S2A_17SPV_20240810_0_L2A\r\n",
      "#     earthsearch:payload_id: roda-sentinel2/workflow-sentinel2-to-stac/871900f36df7cfaebe5c438ade928c06\r\n",
      "#     earthsearch:boa_offset_applied: True\r\n",
      "---------------------------------------------------------------------------\r\n",
      "\r\n",
      "     processing:software:\r\n",
      "#         sentinel2-to-stac: 0.1.1\r\n",
      "#     processing:software: {'sentinel2-to-stac': '0.1.1'}\r\n",
      "#     updated: 2024-08-11T00:56:27.595Z\r\n",
      "#     proj:code: EPSG:32617\r\n",
      "Collection ID: sentinel-2-l2a\r\n",
      "Item: S2B_17SPV_20240805_0_L2A\r\n",
      "Geometry: {'type': 'Polygon', 'coordinates': [[[-79.88850843890832, 36.1397316133374], [-79.9021350633042, 35.14992495410683], [-78.69735281151316, 35.13301555004904], [-78.66879673080497, 36.12219793572046], [-79.88850843890832, 36.1397316133374]]]}\r\n",
      "Bbox: [-79.9021350633042, 35.13301555004904, -78.66879673080497, 36.1397316133374]\r\n",
      "Datetime: 2024-08-05 16:13:28.726000+00:00\r\n",
      "Start Datetime not found.\r\n",
      "End Datetime not found.\r\n",
      "Extra Fields:\r\n",
      "---------------------------------------------------------------------------\r\n",
      "Extensions:\r\n",
      "---------------------------------------------------------------------------\r\n",
      "\thttps://stac-extensions.github.io/projection/v2.0.0/schema.json\r\n",
      "\thttps://stac-extensions.github.io/raster/v1.1.0/schema.json\r\n",
      "\thttps://stac-extensions.github.io/view/v1.0.0/schema.json\r\n",
      "\thttps://stac-extensions.github.io/processing/v1.1.0/schema.json\r\n",
      "\thttps://stac-extensions.github.io/eo/v1.1.0/schema.json\r\n",
      "\thttps://stac-extensions.github.io/grid/v1.1.0/schema.json\r\n",
      "\thttps://stac-extensions.github.io/mgrs/v1.0.0/schema.json\r\n",
      "---------------------------------------------------------------------------\r\n",
      "Properties:\r\n",
      "#     created: 2024-08-06T00:48:01.172Z\r\n",
      "#     platform: sentinel-2b\r\n",
      "#     constellation: sentinel-2\r\n",
      "---------------------------------------------------------------------------\r\n",
      "    instruments:\r\n",
      "#     eo:cloud_cover: 99.665856\r\n",
      "#     mgrs:utm_zone: 17\r\n",
      "#     mgrs:latitude_band: S\r\n",
      "#     mgrs:grid_square: PV\r\n",
      "#     grid:code: MGRS-17SPV\r\n",
      "#     view:sun_azimuth: 136.220285960083\r\n",
      "#     view:sun_elevation: 65.540377719519\r\n",
      "#     s2:degraded_msi_data_percentage: 0.0024\r\n",
      "#     s2:nodata_pixel_percentage: 0\r\n",
      "#     s2:saturated_defective_pixel_percentage: 0\r\n",
      "#     s2:cloud_shadow_percentage: 0.284614\r\n",
      "#     s2:vegetation_percentage: 0.047356\r\n",
      "#     s2:not_vegetated_percentage: 0.001267\r\n",
      "#     s2:water_percentage: 9e-05\r\n",
      "#     s2:unclassified_percentage: 0.000717\r\n",
      "#     s2:medium_proba_clouds_percentage: 38.336566\r\n",
      "#     s2:high_proba_clouds_percentage: 46.122238\r\n",
      "#     s2:thin_cirrus_percentage: 15.207046\r\n",
      "#     s2:snow_ice_percentage: 0\r\n",
      "#     s2:product_type: S2MSI2A\r\n",
      "#     s2:processing_baseline: 05.11\r\n",
      "#     s2:product_uri: S2B_MSIL2A_20240805T155819_N0511_R097_T17SPV_20240805T220539.SAFE\r\n",
      "#     s2:generation_time: 2024-08-05T22:05:39.000000Z\r\n",
      "#     s2:datatake_id: GS2B_20240805T155819_038733_N05.11\r\n",
      "#     s2:datatake_type: INS-NOBS\r\n",
      "#     s2:datastrip_id: S2B_OPER_MSI_L2A_DS_2BPS_20240805T220539_S20240805T160928_N05.11\r\n",
      "#     s2:granule_id: S2B_OPER_MSI_L2A_TL_2BPS_20240805T220539_A038733_T17SPV_N05.11\r\n",
      "#     s2:reflectance_conversion_factor: 0.971045325145953\r\n",
      "#     datetime: 2024-08-05T16:13:28.726000Z\r\n",
      "#     s2:sequence: 0\r\n",
      "#     earthsearch:s3_path: s3://sentinel-cogs/sentinel-s2-l2a-cogs/17/S/PV/2024/8/S2B_17SPV_20240805_0_L2A\r\n",
      "#     earthsearch:payload_id: roda-sentinel2/workflow-sentinel2-to-stac/6e848c4fbd7ffd3b2d0ebcc5e7dc869f\r\n",
      "#     earthsearch:boa_offset_applied: True\r\n",
      "---------------------------------------------------------------------------\r\n",
      "\r\n",
      "     processing:software:\r\n",
      "#         sentinel2-to-stac: 0.1.1\r\n",
      "#     processing:software: {'sentinel2-to-stac': '0.1.1'}\r\n",
      "#     updated: 2024-08-06T00:48:01.172Z\r\n",
      "#     proj:code: EPSG:32617\r\n",
      "Collection ID: sentinel-2-l2a\r\n",
      "Item: S2A_17SPV_20240731_0_L2A\r\n",
      "Geometry: {'type': 'Polygon', 'coordinates': [[[-79.88850843890832, 36.1397316133374], [-79.9021350633042, 35.14992495410683], [-78.69735281151316, 35.13301555004904], [-78.66879673080497, 36.12219793572046], [-79.88850843890832, 36.1397316133374]]]}\r\n",
      "Bbox: [-79.9021350633042, 35.13301555004904, -78.66879673080497, 36.1397316133374]\r\n",
      "Datetime: 2024-07-31 16:13:28.790000+00:00\r\n",
      "Start Datetime not found.\r\n",
      "End Datetime not found.\r\n",
      "Extra Fields:\r\n",
      "---------------------------------------------------------------------------\r\n",
      "Extensions:\r\n",
      "---------------------------------------------------------------------------\r\n",
      "\thttps://stac-extensions.github.io/view/v1.0.0/schema.json\r\n",
      "\thttps://stac-extensions.github.io/raster/v1.1.0/schema.json\r\n",
      "\thttps://stac-extensions.github.io/eo/v1.1.0/schema.json\r\n",
      "\thttps://stac-extensions.github.io/projection/v2.0.0/schema.json\r\n",
      "\thttps://stac-extensions.github.io/grid/v1.1.0/schema.json\r\n",
      "\thttps://stac-extensions.github.io/mgrs/v1.0.0/schema.json\r\n",
      "\thttps://stac-extensions.github.io/processing/v1.1.0/schema.json\r\n",
      "---------------------------------------------------------------------------\r\n",
      "Properties:\r\n",
      "#     created: 2024-08-01T01:43:45.085Z\r\n",
      "#     platform: sentinel-2a\r\n",
      "#     constellation: sentinel-2\r\n",
      "---------------------------------------------------------------------------\r\n",
      "    instruments:\r\n",
      "#     eo:cloud_cover: 6.139014\r\n",
      "#     mgrs:utm_zone: 17\r\n",
      "#     mgrs:latitude_band: S\r\n",
      "#     mgrs:grid_square: PV\r\n",
      "#     grid:code: MGRS-17SPV\r\n",
      "#     view:sun_azimuth: 134.074011613079\r\n",
      "#     view:sun_elevation: 66.5336008839282\r\n",
      "#     s2:degraded_msi_data_percentage: 0.0076\r\n",
      "#     s2:nodata_pixel_percentage: 0\r\n",
      "#     s2:saturated_defective_pixel_percentage: 0\r\n",
      "#     s2:cloud_shadow_percentage: 0.290065\r\n",
      "#     s2:vegetation_percentage: 85.660404\r\n",
      "#     s2:not_vegetated_percentage: 5.215016\r\n",
      "#     s2:water_percentage: 1.061476\r\n",
      "#     s2:unclassified_percentage: 1.402832\r\n",
      "#     s2:medium_proba_clouds_percentage: 2.665854\r\n",
      "#     s2:high_proba_clouds_percentage: 2.517344\r\n",
      "#     s2:thin_cirrus_percentage: 0.955816\r\n",
      "#     s2:snow_ice_percentage: 0\r\n",
      "#     s2:product_type: S2MSI2A\r\n",
      "#     s2:processing_baseline: 05.11\r\n",
      "#     s2:product_uri: S2A_MSIL2A_20240731T155901_N0511_R097_T17SPV_20240731T232548.SAFE\r\n",
      "#     s2:generation_time: 2024-07-31T23:25:48.000000Z\r\n",
      "#     s2:datatake_id: GS2A_20240731T155901_047570_N05.11\r\n",
      "#     s2:datatake_type: INS-NOBS\r\n",
      "#     s2:datastrip_id: S2A_OPER_MSI_L2A_DS_2APS_20240731T232548_S20240731T160830_N05.11\r\n",
      "#     s2:granule_id: S2A_OPER_MSI_L2A_TL_2APS_20240731T232548_A047570_T17SPV_N05.11\r\n",
      "#     s2:reflectance_conversion_factor: 0.969868710676552\r\n",
      "#     datetime: 2024-07-31T16:13:28.790000Z\r\n",
      "#     s2:sequence: 0\r\n",
      "#     earthsearch:s3_path: s3://sentinel-cogs/sentinel-s2-l2a-cogs/17/S/PV/2024/7/S2A_17SPV_20240731_0_L2A\r\n",
      "#     earthsearch:payload_id: roda-sentinel2/workflow-sentinel2-to-stac/9fe108dc54d302a143277cdbcdc84dc2\r\n",
      "#     earthsearch:boa_offset_applied: True\r\n",
      "---------------------------------------------------------------------------\r\n",
      "\r\n",
      "     processing:software:\r\n",
      "#         sentinel2-to-stac: 0.1.1\r\n",
      "#     processing:software: {'sentinel2-to-stac': '0.1.1'}\r\n",
      "#     updated: 2024-08-01T01:43:45.085Z\r\n",
      "#     proj:code: EPSG:32617\r\n",
      "Collection ID: sentinel-2-l2a\r\n",
      "Item: S2B_17SPV_20240726_0_L2A\r\n",
      "Geometry: {'type': 'Polygon', 'coordinates': [[[-79.88850843890832, 36.1397316133374], [-79.9021350633042, 35.14992495410683], [-78.69735281151316, 35.13301555004904], [-78.66879673080497, 36.12219793572046], [-79.88850843890832, 36.1397316133374]]]}\r\n",
      "Bbox: [-79.9021350633042, 35.13301555004904, -78.66879673080497, 36.1397316133374]\r\n",
      "Datetime: 2024-07-26 16:13:28.728000+00:00\r\n",
      "Start Datetime not found.\r\n",
      "End Datetime not found.\r\n",
      "Extra Fields:\r\n",
      "---------------------------------------------------------------------------\r\n",
      "Extensions:\r\n",
      "---------------------------------------------------------------------------\r\n",
      "\thttps://stac-extensions.github.io/processing/v1.1.0/schema.json\r\n",
      "\thttps://stac-extensions.github.io/grid/v1.1.0/schema.json\r\n",
      "\thttps://stac-extensions.github.io/eo/v1.1.0/schema.json\r\n",
      "\thttps://stac-extensions.github.io/view/v1.0.0/schema.json\r\n",
      "\thttps://stac-extensions.github.io/projection/v2.0.0/schema.json\r\n",
      "\thttps://stac-extensions.github.io/mgrs/v1.0.0/schema.json\r\n",
      "\thttps://stac-extensions.github.io/raster/v1.1.0/schema.json\r\n",
      "---------------------------------------------------------------------------\r\n",
      "Properties:\r\n",
      "#     created: 2024-07-26T22:16:04.416Z\r\n",
      "#     platform: sentinel-2b\r\n",
      "#     constellation: sentinel-2\r\n",
      "---------------------------------------------------------------------------\r\n",
      "    instruments:\r\n",
      "#     eo:cloud_cover: 100\r\n",
      "#     mgrs:utm_zone: 17\r\n",
      "#     mgrs:latitude_band: S\r\n",
      "#     mgrs:grid_square: PV\r\n",
      "#     grid:code: MGRS-17SPV\r\n",
      "#     view:sun_azimuth: 132.076476762934\r\n",
      "#     view:sun_elevation: 67.4387284733629\r\n",
      "#     s2:degraded_msi_data_percentage: 0.1426\r\n",
      "#     s2:nodata_pixel_percentage: 0\r\n",
      "#     s2:saturated_defective_pixel_percentage: 0\r\n",
      "#     s2:cloud_shadow_percentage: 0\r\n",
      "#     s2:vegetation_percentage: 0\r\n",
      "#     s2:not_vegetated_percentage: 0\r\n",
      "#     s2:water_percentage: 0\r\n",
      "#     s2:unclassified_percentage: 0\r\n",
      "#     s2:medium_proba_clouds_percentage: 33.155897\r\n",
      "#     s2:high_proba_clouds_percentage: 66.819233\r\n",
      "#     s2:thin_cirrus_percentage: 0.024871\r\n",
      "#     s2:snow_ice_percentage: 0\r\n",
      "#     s2:product_type: S2MSI2A\r\n",
      "#     s2:processing_baseline: 05.11\r\n",
      "#     s2:product_uri: S2B_MSIL2A_20240726T155819_N0511_R097_T17SPV_20240726T202326.SAFE\r\n",
      "#     s2:generation_time: 2024-07-26T20:23:26.000000Z\r\n",
      "#     s2:datatake_id: GS2B_20240726T155819_038590_N05.11\r\n",
      "#     s2:datatake_type: INS-NOBS\r\n",
      "#     s2:datastrip_id: S2B_OPER_MSI_L2A_DS_2BPS_20240726T202326_S20240726T160234_N05.11\r\n",
      "#     s2:granule_id: S2B_OPER_MSI_L2A_TL_2BPS_20240726T202326_A038590_T17SPV_N05.11\r\n",
      "#     s2:reflectance_conversion_factor: 0.968911323301634\r\n",
      "#     datetime: 2024-07-26T16:13:28.728000Z\r\n",
      "#     s2:sequence: 0\r\n",
      "#     earthsearch:s3_path: s3://sentinel-cogs/sentinel-s2-l2a-cogs/17/S/PV/2024/7/S2B_17SPV_20240726_0_L2A\r\n",
      "#     earthsearch:payload_id: roda-sentinel2/workflow-sentinel2-to-stac/9054bd8d847f9a5ba9932505cdfe3e50\r\n",
      "#     earthsearch:boa_offset_applied: True\r\n",
      "---------------------------------------------------------------------------\r\n",
      "\r\n",
      "     processing:software:\r\n",
      "#         sentinel2-to-stac: 0.1.1\r\n",
      "#     processing:software: {'sentinel2-to-stac': '0.1.1'}\r\n",
      "#     updated: 2024-07-26T22:16:04.416Z\r\n",
      "#     proj:code: EPSG:32617\r\n",
      "Collection ID: sentinel-2-l2a\r\n",
      "Item: S2A_17SPV_20240721_0_L2A\r\n",
      "Geometry: {'type': 'Polygon', 'coordinates': [[[-79.88850843890832, 36.1397316133374], [-79.9021350633042, 35.14992495410683], [-78.69735281151316, 35.13301555004904], [-78.66879673080497, 36.12219793572046], [-79.88850843890832, 36.1397316133374]]]}\r\n",
      "Bbox: [-79.9021350633042, 35.13301555004904, -78.66879673080497, 36.1397316133374]\r\n",
      "Datetime: 2024-07-21 16:13:27.745000+00:00\r\n",
      "Start Datetime not found.\r\n",
      "End Datetime not found.\r\n",
      "Extra Fields:\r\n",
      "---------------------------------------------------------------------------\r\n",
      "Extensions:\r\n",
      "---------------------------------------------------------------------------\r\n",
      "\thttps://stac-extensions.github.io/raster/v1.1.0/schema.json\r\n",
      "\thttps://stac-extensions.github.io/mgrs/v1.0.0/schema.json\r\n",
      "\thttps://stac-extensions.github.io/eo/v1.1.0/schema.json\r\n",
      "\thttps://stac-extensions.github.io/view/v1.0.0/schema.json\r\n",
      "\thttps://stac-extensions.github.io/processing/v1.1.0/schema.json\r\n",
      "\thttps://stac-extensions.github.io/projection/v2.0.0/schema.json\r\n",
      "\thttps://stac-extensions.github.io/grid/v1.1.0/schema.json\r\n",
      "---------------------------------------------------------------------------\r\n",
      "Properties:\r\n",
      "#     created: 2024-07-22T00:56:43.023Z\r\n",
      "#     platform: sentinel-2a\r\n",
      "#     constellation: sentinel-2\r\n",
      "---------------------------------------------------------------------------\r\n",
      "    instruments:\r\n",
      "#     eo:cloud_cover: 77.323008\r\n",
      "#     mgrs:utm_zone: 17\r\n",
      "#     mgrs:latitude_band: S\r\n",
      "#     mgrs:grid_square: PV\r\n",
      "#     grid:code: MGRS-17SPV\r\n",
      "#     view:sun_azimuth: 130.27037090188\r\n",
      "#     view:sun_elevation: 68.2536811806891\r\n",
      "#     s2:degraded_msi_data_percentage: 0.0105\r\n",
      "#     s2:nodata_pixel_percentage: 0\r\n",
      "#     s2:saturated_defective_pixel_percentage: 0\r\n",
      "#     s2:dark_features_percentage: 0.012784\r\n",
      "#     s2:cloud_shadow_percentage: 4.486402\r\n",
      "#     s2:vegetation_percentage: 15.218596\r\n",
      "#     s2:not_vegetated_percentage: 1.484813\r\n",
      "#     s2:water_percentage: 0.175991\r\n",
      "#     s2:unclassified_percentage: 1.298403\r\n",
      "#     s2:medium_proba_clouds_percentage: 22.264542\r\n",
      "#     s2:high_proba_clouds_percentage: 43.291837\r\n",
      "#     s2:thin_cirrus_percentage: 11.766633\r\n",
      "#     s2:snow_ice_percentage: 0\r\n",
      "#     s2:product_type: S2MSI2A\r\n",
      "#     s2:processing_baseline: 05.10\r\n",
      "#     s2:product_uri: S2A_MSIL2A_20240721T155901_N0510_R097_T17SPV_20240721T231400.SAFE\r\n",
      "#     s2:generation_time: 2024-07-21T23:14:00.000000Z\r\n",
      "#     s2:datatake_id: GS2A_20240721T155901_047427_N05.10\r\n",
      "#     s2:datatake_type: INS-NOBS\r\n",
      "#     s2:datastrip_id: S2A_OPER_MSI_L2A_DS_2APS_20240721T231400_S20240721T160453_N05.10\r\n",
      "#     s2:granule_id: S2A_OPER_MSI_L2A_TL_2APS_20240721T231400_A047427_T17SPV_N05.10\r\n",
      "#     s2:reflectance_conversion_factor: 0.968179627481255\r\n",
      "#     datetime: 2024-07-21T16:13:27.745000Z\r\n",
      "#     s2:sequence: 0\r\n",
      "#     earthsearch:s3_path: s3://sentinel-cogs/sentinel-s2-l2a-cogs/17/S/PV/2024/7/S2A_17SPV_20240721_0_L2A\r\n",
      "#     earthsearch:payload_id: roda-sentinel2/workflow-sentinel2-to-stac/32191ae26b50556b13a773c6452c7941\r\n",
      "#     earthsearch:boa_offset_applied: True\r\n",
      "---------------------------------------------------------------------------\r\n",
      "\r\n",
      "     processing:software:\r\n",
      "#         sentinel2-to-stac: 0.1.1\r\n",
      "#     processing:software: {'sentinel2-to-stac': '0.1.1'}\r\n",
      "#     updated: 2024-07-22T00:56:43.023Z\r\n",
      "#     proj:code: EPSG:32617\r\n",
      "Collection ID: sentinel-2-l2a\r\n",
      "Item: S2B_17SPV_20240716_0_L2A\r\n",
      "Geometry: {'type': 'Polygon', 'coordinates': [[[-79.88850843890832, 36.1397316133374], [-79.9021350633042, 35.14992495410683], [-78.69735281151316, 35.13301555004904], [-78.66879673080497, 36.12219793572046], [-79.88850843890832, 36.1397316133374]]]}\r\n",
      "Bbox: [-79.9021350633042, 35.13301555004904, -78.66879673080497, 36.1397316133374]\r\n",
      "Datetime: 2024-07-16 16:13:29.371000+00:00\r\n",
      "Start Datetime not found.\r\n",
      "End Datetime not found.\r\n",
      "Extra Fields:\r\n",
      "---------------------------------------------------------------------------\r\n",
      "Extensions:\r\n",
      "---------------------------------------------------------------------------\r\n",
      "\thttps://stac-extensions.github.io/view/v1.0.0/schema.json\r\n",
      "\thttps://stac-extensions.github.io/projection/v2.0.0/schema.json\r\n",
      "\thttps://stac-extensions.github.io/processing/v1.1.0/schema.json\r\n",
      "\thttps://stac-extensions.github.io/eo/v1.1.0/schema.json\r\n",
      "\thttps://stac-extensions.github.io/mgrs/v1.0.0/schema.json\r\n",
      "\thttps://stac-extensions.github.io/grid/v1.1.0/schema.json\r\n",
      "\thttps://stac-extensions.github.io/raster/v1.1.0/schema.json\r\n",
      "---------------------------------------------------------------------------\r\n",
      "Properties:\r\n",
      "#     created: 2024-07-16T22:18:32.931Z\r\n",
      "#     platform: sentinel-2b\r\n",
      "#     constellation: sentinel-2\r\n",
      "---------------------------------------------------------------------------\r\n",
      "    instruments:\r\n",
      "#     eo:cloud_cover: 78.20453\r\n",
      "#     mgrs:utm_zone: 17\r\n",
      "#     mgrs:latitude_band: S\r\n",
      "#     mgrs:grid_square: PV\r\n",
      "#     grid:code: MGRS-17SPV\r\n",
      "#     view:sun_azimuth: 128.734434158607\r\n",
      "#     view:sun_elevation: 68.9891018368731\r\n",
      "#     s2:degraded_msi_data_percentage: 0.0026\r\n",
      "#     s2:nodata_pixel_percentage: 0\r\n",
      "#     s2:saturated_defective_pixel_percentage: 0\r\n",
      "#     s2:dark_features_percentage: 0.033102\r\n",
      "#     s2:cloud_shadow_percentage: 0.164402\r\n",
      "#     s2:vegetation_percentage: 18.160766\r\n",
      "#     s2:not_vegetated_percentage: 1.747406\r\n",
      "#     s2:water_percentage: 0.451936\r\n",
      "#     s2:unclassified_percentage: 1.237853\r\n",
      "#     s2:medium_proba_clouds_percentage: 19.404654\r\n",
      "#     s2:high_proba_clouds_percentage: 12.049545\r\n",
      "#     s2:thin_cirrus_percentage: 46.750337\r\n",
      "#     s2:snow_ice_percentage: 0\r\n",
      "#     s2:product_type: S2MSI2A\r\n",
      "#     s2:processing_baseline: 05.10\r\n",
      "#     s2:product_uri: S2B_MSIL2A_20240716T155819_N0510_R097_T17SPV_20240716T202001.SAFE\r\n",
      "#     s2:generation_time: 2024-07-16T20:20:01.000000Z\r\n",
      "#     s2:datatake_id: GS2B_20240716T155819_038447_N05.10\r\n",
      "#     s2:datatake_type: INS-NOBS\r\n",
      "#     s2:datastrip_id: S2B_OPER_MSI_L2A_DS_2BPS_20240716T202001_S20240716T161237_N05.10\r\n",
      "#     s2:granule_id: S2B_OPER_MSI_L2A_TL_2BPS_20240716T202001_A038447_T17SPV_N05.10\r\n",
      "#     s2:reflectance_conversion_factor: 0.967677976818957\r\n",
      "#     datetime: 2024-07-16T16:13:29.371000Z\r\n",
      "#     s2:sequence: 0\r\n",
      "#     earthsearch:s3_path: s3://sentinel-cogs/sentinel-s2-l2a-cogs/17/S/PV/2024/7/S2B_17SPV_20240716_0_L2A\r\n",
      "#     earthsearch:payload_id: roda-sentinel2/workflow-sentinel2-to-stac/07c56abbfc01f177bd74634d269b8100\r\n",
      "#     earthsearch:boa_offset_applied: True\r\n",
      "---------------------------------------------------------------------------\r\n",
      "\r\n",
      "     processing:software:\r\n",
      "#         sentinel2-to-stac: 0.1.1\r\n",
      "#     processing:software: {'sentinel2-to-stac': '0.1.1'}\r\n",
      "#     updated: 2024-07-16T22:18:32.931Z\r\n",
      "#     proj:code: EPSG:32617\r\n",
      "Collection ID: sentinel-2-l2a\r\n",
      "Item: S2A_17SPV_20240711_0_L2A\r\n",
      "Geometry: {'type': 'Polygon', 'coordinates': [[[-79.88850843890832, 36.1397316133374], [-79.9021350633042, 35.14992495410683], [-78.69735281151316, 35.13301555004904], [-78.66879673080497, 36.12219793572046], [-79.88850843890832, 36.1397316133374]]]}\r\n",
      "Bbox: [-79.9021350633042, 35.13301555004904, -78.66879673080497, 36.1397316133374]\r\n",
      "Datetime: 2024-07-11 16:13:29.033000+00:00\r\n"
     ]
    },
    {
     "name": "stdout",
     "output_type": "stream",
     "text": [
      "Start Datetime not found.\r\n",
      "End Datetime not found.\r\n",
      "Extra Fields:\r\n",
      "---------------------------------------------------------------------------\r\n",
      "Extensions:\r\n",
      "---------------------------------------------------------------------------\r\n",
      "\thttps://stac-extensions.github.io/view/v1.0.0/schema.json\r\n",
      "\thttps://stac-extensions.github.io/raster/v1.1.0/schema.json\r\n",
      "\thttps://stac-extensions.github.io/grid/v1.1.0/schema.json\r\n",
      "\thttps://stac-extensions.github.io/eo/v1.1.0/schema.json\r\n",
      "\thttps://stac-extensions.github.io/projection/v2.0.0/schema.json\r\n",
      "\thttps://stac-extensions.github.io/processing/v1.1.0/schema.json\r\n",
      "\thttps://stac-extensions.github.io/mgrs/v1.0.0/schema.json\r\n",
      "---------------------------------------------------------------------------\r\n",
      "Properties:\r\n",
      "#     created: 2024-07-12T01:47:22.047Z\r\n",
      "#     platform: sentinel-2a\r\n",
      "#     constellation: sentinel-2\r\n",
      "---------------------------------------------------------------------------\r\n",
      "    instruments:\r\n",
      "#     eo:cloud_cover: 72.374904\r\n",
      "#     mgrs:utm_zone: 17\r\n",
      "#     mgrs:latitude_band: S\r\n",
      "#     mgrs:grid_square: PV\r\n",
      "#     grid:code: MGRS-17SPV\r\n",
      "#     view:sun_azimuth: 127.483087684314\r\n",
      "#     view:sun_elevation: 69.6335585134829\r\n",
      "#     s2:degraded_msi_data_percentage: 0.0072\r\n",
      "#     s2:nodata_pixel_percentage: 0\r\n",
      "#     s2:saturated_defective_pixel_percentage: 0\r\n",
      "#     s2:dark_features_percentage: 0.04\r\n",
      "#     s2:cloud_shadow_percentage: 0.182614\r\n",
      "#     s2:vegetation_percentage: 25.206134\r\n",
      "#     s2:not_vegetated_percentage: 1.669835\r\n",
      "#     s2:water_percentage: 0.141035\r\n",
      "#     s2:unclassified_percentage: 0.385476\r\n",
      "#     s2:medium_proba_clouds_percentage: 30.507737\r\n",
      "#     s2:high_proba_clouds_percentage: 10.228427\r\n",
      "#     s2:thin_cirrus_percentage: 31.638741\r\n",
      "#     s2:snow_ice_percentage: 0\r\n",
      "#     s2:product_type: S2MSI2A\r\n",
      "#     s2:processing_baseline: 05.10\r\n",
      "#     s2:product_uri: S2A_MSIL2A_20240711T160011_N0510_R097_T17SPV_20240711T234558.SAFE\r\n",
      "#     s2:generation_time: 2024-07-11T23:45:58.000000Z\r\n",
      "#     s2:datatake_id: GS2A_20240711T160011_047284_N05.10\r\n",
      "#     s2:datatake_type: INS-NOBS\r\n",
      "#     s2:datastrip_id: S2A_OPER_MSI_L2A_DS_2APS_20240711T234558_S20240711T160820_N05.10\r\n",
      "#     s2:granule_id: S2A_OPER_MSI_L2A_TL_2APS_20240711T234558_A047284_T17SPV_N05.10\r\n",
      "#     s2:reflectance_conversion_factor: 0.967409759353159\r\n",
      "#     datetime: 2024-07-11T16:13:29.033000Z\r\n",
      "#     s2:sequence: 0\r\n",
      "#     earthsearch:s3_path: s3://sentinel-cogs/sentinel-s2-l2a-cogs/17/S/PV/2024/7/S2A_17SPV_20240711_0_L2A\r\n",
      "#     earthsearch:payload_id: roda-sentinel2/workflow-sentinel2-to-stac/0737ce995f5c9509fa285305cacab31a\r\n",
      "#     earthsearch:boa_offset_applied: True\r\n",
      "---------------------------------------------------------------------------\r\n",
      "\r\n",
      "     processing:software:\r\n",
      "#         sentinel2-to-stac: 0.1.1\r\n",
      "#     processing:software: {'sentinel2-to-stac': '0.1.1'}\r\n",
      "#     updated: 2024-07-12T01:47:22.047Z\r\n",
      "#     proj:code: EPSG:32617\r\n",
      "Collection ID: sentinel-2-l2a\r\n",
      "Item: S2B_17SPV_20240706_0_L2A\r\n",
      "Geometry: {'type': 'Polygon', 'coordinates': [[[-79.88850843890832, 36.1397316133374], [-79.9021350633042, 35.14992495410683], [-78.69735281151316, 35.13301555004904], [-78.66879673080497, 36.12219793572046], [-79.88850843890832, 36.1397316133374]]]}\r\n",
      "Bbox: [-79.9021350633042, 35.13301555004904, -78.66879673080497, 36.1397316133374]\r\n",
      "Datetime: 2024-07-06 16:13:29.422000+00:00\r\n",
      "Start Datetime not found.\r\n",
      "End Datetime not found.\r\n",
      "Extra Fields:\r\n",
      "---------------------------------------------------------------------------\r\n",
      "Extensions:\r\n",
      "---------------------------------------------------------------------------\r\n",
      "\thttps://stac-extensions.github.io/projection/v2.0.0/schema.json\r\n",
      "\thttps://stac-extensions.github.io/mgrs/v1.0.0/schema.json\r\n",
      "\thttps://stac-extensions.github.io/view/v1.0.0/schema.json\r\n",
      "\thttps://stac-extensions.github.io/grid/v1.1.0/schema.json\r\n",
      "\thttps://stac-extensions.github.io/processing/v1.1.0/schema.json\r\n",
      "\thttps://stac-extensions.github.io/eo/v1.1.0/schema.json\r\n",
      "\thttps://stac-extensions.github.io/raster/v1.1.0/schema.json\r\n",
      "---------------------------------------------------------------------------\r\n",
      "Properties:\r\n",
      "#     created: 2024-07-07T09:36:12.736Z\r\n",
      "#     platform: sentinel-2b\r\n",
      "#     constellation: sentinel-2\r\n",
      "---------------------------------------------------------------------------\r\n",
      "    instruments:\r\n",
      "#     eo:cloud_cover: 38.748205\r\n",
      "#     mgrs:utm_zone: 17\r\n",
      "#     mgrs:latitude_band: S\r\n",
      "#     mgrs:grid_square: PV\r\n",
      "#     grid:code: MGRS-17SPV\r\n",
      "#     view:sun_azimuth: 126.580975941463\r\n",
      "#     view:sun_elevation: 70.19159002112289\r\n",
      "#     s2:degraded_msi_data_percentage: 0.0053\r\n",
      "#     s2:nodata_pixel_percentage: 0\r\n",
      "#     s2:saturated_defective_pixel_percentage: 0\r\n",
      "#     s2:dark_features_percentage: 0.055285\r\n",
      "#     s2:cloud_shadow_percentage: 9.143251\r\n",
      "#     s2:vegetation_percentage: 44.116038\r\n",
      "#     s2:not_vegetated_percentage: 5.823249\r\n",
      "#     s2:water_percentage: 0.664427\r\n",
      "#     s2:unclassified_percentage: 1.449544\r\n",
      "#     s2:medium_proba_clouds_percentage: 14.156002\r\n",
      "#     s2:high_proba_clouds_percentage: 14.943799\r\n",
      "#     s2:thin_cirrus_percentage: 9.648405\r\n",
      "#     s2:snow_ice_percentage: 0\r\n",
      "#     s2:product_type: S2MSI2A\r\n",
      "#     s2:processing_baseline: 05.10\r\n",
      "#     s2:product_uri: S2B_MSIL2A_20240706T155819_N0510_R097_T17SPV_20240706T202406.SAFE\r\n",
      "#     s2:generation_time: 2024-07-06T20:24:06.000000Z\r\n",
      "#     s2:datatake_id: GS2B_20240706T155819_038304_N05.10\r\n",
      "#     s2:datatake_type: INS-NOBS\r\n",
      "#     s2:datastrip_id: S2B_OPER_MSI_L2A_DS_2BPS_20240706T202406_S20240706T160600_N05.10\r\n",
      "#     s2:granule_id: S2B_OPER_MSI_L2A_TL_2BPS_20240706T202406_A038304_T17SPV_N05.10\r\n",
      "#     s2:reflectance_conversion_factor: 0.967376489081156\r\n",
      "#     datetime: 2024-07-06T16:13:29.422000Z\r\n",
      "#     s2:sequence: 0\r\n",
      "#     earthsearch:s3_path: s3://sentinel-cogs/sentinel-s2-l2a-cogs/17/S/PV/2024/7/S2B_17SPV_20240706_0_L2A\r\n",
      "#     earthsearch:payload_id: roda-sentinel2/workflow-sentinel2-to-stac/6259182c18e06c31cc7a2350f92f9057\r\n",
      "#     earthsearch:boa_offset_applied: True\r\n",
      "---------------------------------------------------------------------------\r\n",
      "\r\n",
      "     processing:software:\r\n",
      "#         sentinel2-to-stac: 0.1.1\r\n",
      "#     processing:software: {'sentinel2-to-stac': '0.1.1'}\r\n",
      "#     updated: 2024-07-07T09:36:12.736Z\r\n",
      "#     proj:code: EPSG:32617\r\n",
      "Collection ID: sentinel-2-l2a\r\n",
      "Item: S2A_17SPV_20240701_0_L2A\r\n",
      "Geometry: {'type': 'Polygon', 'coordinates': [[[-79.88850843890832, 36.1397316133374], [-79.9021350633042, 35.14992495410683], [-78.69735281151316, 35.13301555004904], [-78.66879673080497, 36.12219793572046], [-79.88850843890832, 36.1397316133374]]]}\r\n",
      "Bbox: [-79.9021350633042, 35.13301555004904, -78.66879673080497, 36.1397316133374]\r\n",
      "Datetime: 2024-07-01 16:13:29.590000+00:00\r\n",
      "Start Datetime not found.\r\n",
      "End Datetime not found.\r\n",
      "Extra Fields:\r\n",
      "---------------------------------------------------------------------------\r\n",
      "Extensions:\r\n",
      "---------------------------------------------------------------------------\r\n",
      "\thttps://stac-extensions.github.io/projection/v2.0.0/schema.json\r\n",
      "\thttps://stac-extensions.github.io/processing/v1.1.0/schema.json\r\n",
      "\thttps://stac-extensions.github.io/grid/v1.1.0/schema.json\r\n",
      "\thttps://stac-extensions.github.io/raster/v1.1.0/schema.json\r\n",
      "\thttps://stac-extensions.github.io/eo/v1.1.0/schema.json\r\n",
      "\thttps://stac-extensions.github.io/view/v1.0.0/schema.json\r\n",
      "\thttps://stac-extensions.github.io/mgrs/v1.0.0/schema.json\r\n",
      "---------------------------------------------------------------------------\r\n",
      "Properties:\r\n",
      "#     created: 2024-07-02T02:21:19.638Z\r\n",
      "#     platform: sentinel-2a\r\n",
      "#     constellation: sentinel-2\r\n",
      "---------------------------------------------------------------------------\r\n",
      "    instruments:\r\n",
      "#     eo:cloud_cover: 16.917542\r\n",
      "#     mgrs:utm_zone: 17\r\n",
      "#     mgrs:latitude_band: S\r\n",
      "#     mgrs:grid_square: PV\r\n",
      "#     grid:code: MGRS-17SPV\r\n",
      "#     view:sun_azimuth: 126.053936716402\r\n",
      "#     view:sun_elevation: 70.6557251617978\r\n",
      "#     s2:degraded_msi_data_percentage: 0.0086\r\n",
      "#     s2:nodata_pixel_percentage: 0\r\n",
      "#     s2:saturated_defective_pixel_percentage: 0\r\n",
      "#     s2:dark_features_percentage: 0.129565\r\n",
      "#     s2:cloud_shadow_percentage: 0.36972\r\n",
      "#     s2:vegetation_percentage: 69.68329\r\n",
      "#     s2:not_vegetated_percentage: 9.322461\r\n",
      "#     s2:water_percentage: 1.036865\r\n",
      "#     s2:unclassified_percentage: 2.540556\r\n",
      "#     s2:medium_proba_clouds_percentage: 7.906951\r\n",
      "#     s2:high_proba_clouds_percentage: 8.986523\r\n",
      "#     s2:thin_cirrus_percentage: 0.024068\r\n",
      "#     s2:snow_ice_percentage: 0\r\n",
      "#     s2:product_type: S2MSI2A\r\n",
      "#     s2:processing_baseline: 05.10\r\n",
      "#     s2:product_uri: S2A_MSIL2A_20240701T160031_N0510_R097_T17SPV_20240701T232649.SAFE\r\n",
      "#     s2:generation_time: 2024-07-01T23:26:49.000000Z\r\n",
      "#     s2:datatake_id: GS2A_20240701T160031_047141_N05.10\r\n",
      "#     s2:datatake_type: INS-NOBS\r\n",
      "#     s2:datastrip_id: S2A_OPER_MSI_L2A_DS_2APS_20240701T232649_S20240701T161115_N05.10\r\n",
      "#     s2:granule_id: S2A_OPER_MSI_L2A_TL_2APS_20240701T232649_A047141_T17SPV_N05.10\r\n",
      "#     s2:reflectance_conversion_factor: 0.967578395203064\r\n",
      "#     datetime: 2024-07-01T16:13:29.590000Z\r\n",
      "#     s2:sequence: 0\r\n",
      "#     earthsearch:s3_path: s3://sentinel-cogs/sentinel-s2-l2a-cogs/17/S/PV/2024/7/S2A_17SPV_20240701_0_L2A\r\n",
      "#     earthsearch:payload_id: roda-sentinel2/workflow-sentinel2-to-stac/2b0784568fcfb38124c53190dac11199\r\n",
      "#     earthsearch:boa_offset_applied: True\r\n",
      "---------------------------------------------------------------------------\r\n",
      "\r\n",
      "     processing:software:\r\n",
      "#         sentinel2-to-stac: 0.1.1\r\n",
      "#     processing:software: {'sentinel2-to-stac': '0.1.1'}\r\n",
      "#     updated: 2024-07-02T02:21:19.638Z\r\n",
      "#     proj:code: EPSG:32617\r\n",
      "Collection ID: sentinel-2-l2a\r\n",
      "Item: S2B_17SPV_20240626_0_L2A\r\n",
      "Geometry: {'type': 'Polygon', 'coordinates': [[[-79.88850843890832, 36.1397316133374], [-79.9021350633042, 35.14992495410683], [-78.69735281151316, 35.13301555004904], [-78.66879673080497, 36.12219793572046], [-79.88850843890832, 36.1397316133374]]]}\r\n",
      "Bbox: [-79.9021350633042, 35.13301555004904, -78.66879673080497, 36.1397316133374]\r\n",
      "Datetime: 2024-06-26 16:13:29.788000+00:00\r\n",
      "Start Datetime not found.\r\n",
      "End Datetime not found.\r\n",
      "Extra Fields:\r\n",
      "---------------------------------------------------------------------------\r\n",
      "Extensions:\r\n",
      "---------------------------------------------------------------------------\r\n",
      "\thttps://stac-extensions.github.io/view/v1.0.0/schema.json\r\n",
      "\thttps://stac-extensions.github.io/grid/v1.1.0/schema.json\r\n",
      "\thttps://stac-extensions.github.io/raster/v1.1.0/schema.json\r\n",
      "\thttps://stac-extensions.github.io/projection/v2.0.0/schema.json\r\n",
      "\thttps://stac-extensions.github.io/processing/v1.1.0/schema.json\r\n",
      "\thttps://stac-extensions.github.io/eo/v1.1.0/schema.json\r\n",
      "\thttps://stac-extensions.github.io/mgrs/v1.0.0/schema.json\r\n",
      "---------------------------------------------------------------------------\r\n",
      "Properties:\r\n",
      "#     created: 2024-06-29T13:15:14.245Z\r\n",
      "#     platform: sentinel-2b\r\n",
      "#     constellation: sentinel-2\r\n",
      "---------------------------------------------------------------------------\r\n",
      "    instruments:\r\n",
      "#     eo:cloud_cover: 10.012253\r\n",
      "#     mgrs:utm_zone: 17\r\n",
      "#     mgrs:latitude_band: S\r\n",
      "#     mgrs:grid_square: PV\r\n",
      "#     grid:code: MGRS-17SPV\r\n",
      "#     view:sun_azimuth: 125.923957043673\r\n",
      "#     view:sun_elevation: 71.0188921222716\r\n",
      "#     s2:degraded_msi_data_percentage: 0.0048\r\n",
      "#     s2:nodata_pixel_percentage: 0\r\n",
      "#     s2:saturated_defective_pixel_percentage: 0\r\n",
      "#     s2:dark_features_percentage: 0.102893\r\n",
      "#     s2:cloud_shadow_percentage: 6.122985\r\n",
      "#     s2:vegetation_percentage: 73.424119\r\n",
      "#     s2:not_vegetated_percentage: 8.814509\r\n",
      "#     s2:water_percentage: 0.988826\r\n",
      "#     s2:unclassified_percentage: 0.534418\r\n",
      "#     s2:medium_proba_clouds_percentage: 5.260666\r\n",
      "#     s2:high_proba_clouds_percentage: 4.487195\r\n",
      "#     s2:thin_cirrus_percentage: 0.264392\r\n",
      "#     s2:snow_ice_percentage: 0\r\n",
      "#     s2:product_type: S2MSI2A\r\n",
      "#     s2:processing_baseline: 05.10\r\n",
      "#     s2:product_uri: S2B_MSIL2A_20240626T155819_N0510_R097_T17SPV_20240626T212822.SAFE\r\n",
      "#     s2:generation_time: 2024-06-26T21:28:22.000000Z\r\n",
      "#     s2:datatake_id: GS2B_20240626T155819_038161_N05.10\r\n",
      "#     s2:datatake_type: INS-NOBS\r\n",
      "#     s2:datastrip_id: S2B_OPER_MSI_L2A_DS_2BPS_20240626T212822_S20240626T161215_N05.10\r\n",
      "#     s2:granule_id: S2B_OPER_MSI_L2A_TL_2BPS_20240626T212822_A038161_T17SPV_N05.10\r\n",
      "#     s2:reflectance_conversion_factor: 0.968014458026667\r\n",
      "#     datetime: 2024-06-26T16:13:29.788000Z\r\n",
      "#     s2:sequence: 0\r\n",
      "#     earthsearch:s3_path: s3://sentinel-cogs/sentinel-s2-l2a-cogs/17/S/PV/2024/6/S2B_17SPV_20240626_0_L2A\r\n",
      "#     earthsearch:payload_id: roda-sentinel2/workflow-sentinel2-to-stac/ae0489eb6939416a993e55b7aa8625b2\r\n",
      "#     earthsearch:boa_offset_applied: True\r\n",
      "---------------------------------------------------------------------------\r\n",
      "\r\n",
      "     processing:software:\r\n",
      "#         sentinel2-to-stac: 0.1.1\r\n",
      "#     processing:software: {'sentinel2-to-stac': '0.1.1'}\r\n",
      "#     updated: 2024-06-29T13:15:14.245Z\r\n",
      "#     proj:code: EPSG:32617\r\n",
      "Collection ID: sentinel-2-l2a\r\n",
      "Item: S2A_17SPV_20240621_0_L2A\r\n",
      "Geometry: {'type': 'Polygon', 'coordinates': [[[-79.88850843890832, 36.1397316133374], [-79.9021350633042, 35.14992495410683], [-78.69735281151316, 35.13301555004904], [-78.66879673080497, 36.12219793572046], [-79.88850843890832, 36.1397316133374]]]}\r\n",
      "Bbox: [-79.9021350633042, 35.13301555004904, -78.66879673080497, 36.1397316133374]\r\n",
      "Datetime: 2024-06-21 16:13:30.992000+00:00\r\n",
      "Start Datetime not found.\r\n",
      "End Datetime not found.\r\n",
      "Extra Fields:\r\n",
      "---------------------------------------------------------------------------\r\n",
      "Extensions:\r\n",
      "---------------------------------------------------------------------------\r\n",
      "\thttps://stac-extensions.github.io/view/v1.0.0/schema.json\r\n",
      "\thttps://stac-extensions.github.io/processing/v1.1.0/schema.json\r\n",
      "\thttps://stac-extensions.github.io/mgrs/v1.0.0/schema.json\r\n",
      "\thttps://stac-extensions.github.io/raster/v1.1.0/schema.json\r\n",
      "\thttps://stac-extensions.github.io/eo/v1.1.0/schema.json\r\n",
      "\thttps://stac-extensions.github.io/grid/v1.1.0/schema.json\r\n",
      "\thttps://stac-extensions.github.io/projection/v2.0.0/schema.json\r\n",
      "---------------------------------------------------------------------------\r\n",
      "Properties:\r\n",
      "#     created: 2024-06-29T04:36:32.882Z\r\n",
      "#     platform: sentinel-2a\r\n",
      "#     constellation: sentinel-2\r\n",
      "---------------------------------------------------------------------------\r\n",
      "    instruments:\r\n",
      "#     eo:cloud_cover: 17.349365\r\n",
      "#     mgrs:utm_zone: 17\r\n",
      "#     mgrs:latitude_band: S\r\n",
      "#     mgrs:grid_square: PV\r\n",
      "#     grid:code: MGRS-17SPV\r\n",
      "#     view:sun_azimuth: 126.208142864178\r\n",
      "#     view:sun_elevation: 71.2758248636805\r\n",
      "#     s2:degraded_msi_data_percentage: 0.0093\r\n",
      "#     s2:nodata_pixel_percentage: 0\r\n",
      "#     s2:saturated_defective_pixel_percentage: 0\r\n",
      "#     s2:dark_features_percentage: 0.093971\r\n",
      "#     s2:cloud_shadow_percentage: 9.346008\r\n",
      "#     s2:vegetation_percentage: 64.006728\r\n",
      "#     s2:not_vegetated_percentage: 7.618747\r\n",
      "#     s2:water_percentage: 0.92731\r\n",
      "#     s2:unclassified_percentage: 0.657874\r\n",
      "#     s2:medium_proba_clouds_percentage: 9.875548\r\n",
      "#     s2:high_proba_clouds_percentage: 7.4591\r\n",
      "#     s2:thin_cirrus_percentage: 0.014718\r\n",
      "#     s2:snow_ice_percentage: 0\r\n",
      "#     s2:product_type: S2MSI2A\r\n",
      "#     s2:processing_baseline: 05.10\r\n",
      "#     s2:product_uri: S2A_MSIL2A_20240621T155911_N0510_R097_T17SPV_20240621T231455.SAFE\r\n",
      "#     s2:generation_time: 2024-06-21T23:14:55.000000Z\r\n",
      "#     s2:datatake_id: GS2A_20240621T155911_046998_N05.10\r\n",
      "#     s2:datatake_type: INS-NOBS\r\n",
      "#     s2:datastrip_id: S2A_OPER_MSI_L2A_DS_2APS_20240621T231455_S20240621T161238_N05.10\r\n",
      "#     s2:granule_id: S2A_OPER_MSI_L2A_TL_2APS_20240621T231455_A046998_T17SPV_N05.10\r\n",
      "#     s2:reflectance_conversion_factor: 0.968681538412137\r\n",
      "#     datetime: 2024-06-21T16:13:30.992000Z\r\n",
      "#     s2:sequence: 0\r\n",
      "#     earthsearch:s3_path: s3://sentinel-cogs/sentinel-s2-l2a-cogs/17/S/PV/2024/6/S2A_17SPV_20240621_0_L2A\r\n",
      "#     earthsearch:payload_id: roda-sentinel2/workflow-sentinel2-to-stac/ed5e5cdc774640ad2704993616e9d2e8\r\n",
      "#     earthsearch:boa_offset_applied: True\r\n",
      "---------------------------------------------------------------------------\r\n",
      "\r\n",
      "     processing:software:\r\n",
      "#         sentinel2-to-stac: 0.1.1\r\n",
      "#     processing:software: {'sentinel2-to-stac': '0.1.1'}\r\n",
      "#     updated: 2024-06-29T04:36:32.882Z\r\n",
      "#     proj:code: EPSG:32617\r\n",
      "Collection ID: sentinel-2-l2a\r\n",
      "Item: S2B_17SPV_20240616_0_L2A\r\n",
      "Geometry: {'type': 'Polygon', 'coordinates': [[[-79.88850843890832, 36.1397316133374], [-79.9021350633042, 35.14992495410683], [-78.69735281151316, 35.13301555004904], [-78.66879673080497, 36.12219793572046], [-79.88850843890832, 36.1397316133374]]]}\r\n",
      "Bbox: [-79.9021350633042, 35.13301555004904, -78.66879673080497, 36.1397316133374]\r\n",
      "Datetime: 2024-06-16 16:13:29.024000+00:00\r\n",
      "Start Datetime not found.\r\n",
      "End Datetime not found.\r\n",
      "Extra Fields:\r\n",
      "---------------------------------------------------------------------------\r\n",
      "Extensions:\r\n",
      "---------------------------------------------------------------------------\r\n",
      "\thttps://stac-extensions.github.io/view/v1.0.0/schema.json\r\n",
      "\thttps://stac-extensions.github.io/projection/v2.0.0/schema.json\r\n",
      "\thttps://stac-extensions.github.io/eo/v1.1.0/schema.json\r\n",
      "\thttps://stac-extensions.github.io/processing/v1.1.0/schema.json\r\n",
      "\thttps://stac-extensions.github.io/grid/v1.1.0/schema.json\r\n",
      "\thttps://stac-extensions.github.io/mgrs/v1.0.0/schema.json\r\n",
      "\thttps://stac-extensions.github.io/raster/v1.1.0/schema.json\r\n",
      "---------------------------------------------------------------------------\r\n",
      "Properties:\r\n",
      "#     created: 2024-06-16T22:51:32.182Z\r\n",
      "#     platform: sentinel-2b\r\n",
      "#     constellation: sentinel-2\r\n",
      "---------------------------------------------------------------------------\r\n",
      "    instruments:\r\n",
      "#     eo:cloud_cover: 73.366141\r\n",
      "#     mgrs:utm_zone: 17\r\n",
      "#     mgrs:latitude_band: S\r\n",
      "#     mgrs:grid_square: PV\r\n",
      "#     grid:code: MGRS-17SPV\r\n",
      "#     view:sun_azimuth: 126.865884136959\r\n",
      "#     view:sun_elevation: 71.406462479674\r\n",
      "#     s2:degraded_msi_data_percentage: 0.1339\r\n",
      "#     s2:nodata_pixel_percentage: 0\r\n",
      "#     s2:saturated_defective_pixel_percentage: 0\r\n",
      "#     s2:dark_features_percentage: 0.013427\r\n",
      "#     s2:cloud_shadow_percentage: 0.143341\r\n",
      "#     s2:vegetation_percentage: 15.970431\r\n",
      "#     s2:not_vegetated_percentage: 3.915322\r\n",
      "#     s2:water_percentage: 0.331518\r\n",
      "#     s2:unclassified_percentage: 6.259824\r\n",
      "#     s2:medium_proba_clouds_percentage: 14.412378\r\n",
      "#     s2:high_proba_clouds_percentage: 57.853109\r\n",
      "#     s2:thin_cirrus_percentage: 1.100653\r\n",
      "#     s2:snow_ice_percentage: 0\r\n",
      "#     s2:product_type: S2MSI2A\r\n",
      "#     s2:processing_baseline: 05.10\r\n",
      "#     s2:product_uri: S2B_MSIL2A_20240616T155819_N0510_R097_T17SPV_20240616T202250.SAFE\r\n",
      "#     s2:generation_time: 2024-06-16T20:22:50.000000Z\r\n",
      "#     s2:datatake_id: GS2B_20240616T155819_038018_N05.10\r\n",
      "#     s2:datatake_type: INS-NOBS\r\n",
      "#     s2:datastrip_id: S2B_OPER_MSI_L2A_DS_2BPS_20240616T202250_S20240616T160603_N05.10\r\n",
      "#     s2:granule_id: S2B_OPER_MSI_L2A_TL_2BPS_20240616T202250_A038018_T17SPV_N05.10\r\n",
      "#     s2:reflectance_conversion_factor: 0.969575792148144\r\n",
      "#     datetime: 2024-06-16T16:13:29.024000Z\r\n",
      "#     s2:sequence: 0\r\n",
      "#     earthsearch:s3_path: s3://sentinel-cogs/sentinel-s2-l2a-cogs/17/S/PV/2024/6/S2B_17SPV_20240616_0_L2A\r\n",
      "#     earthsearch:payload_id: roda-sentinel2/workflow-sentinel2-to-stac/90beed69f2befca5316b1c5a4fe82e3b\r\n",
      "#     earthsearch:boa_offset_applied: True\r\n",
      "---------------------------------------------------------------------------\r\n",
      "\r\n",
      "     processing:software:\r\n",
      "#         sentinel2-to-stac: 0.1.1\r\n",
      "#     processing:software: {'sentinel2-to-stac': '0.1.1'}\r\n",
      "#     updated: 2024-06-16T22:51:32.182Z\r\n",
      "#     proj:code: EPSG:32617\r\n",
      "Collection ID: sentinel-2-l2a\r\n",
      "Item: S2A_17SPV_20240611_0_L2A\r\n",
      "Geometry: {'type': 'Polygon', 'coordinates': [[[-79.88850843890832, 36.1397316133374], [-79.9021350633042, 35.14992495410683], [-78.69735281151316, 35.13301555004904], [-78.66879673080497, 36.12219793572046], [-79.88850843890832, 36.1397316133374]]]}\r\n",
      "Bbox: [-79.9021350633042, 35.13301555004904, -78.66879673080497, 36.1397316133374]\r\n",
      "Datetime: 2024-06-11 16:13:32.315000+00:00\r\n",
      "Start Datetime not found.\r\n",
      "End Datetime not found.\r\n",
      "Extra Fields:\r\n",
      "---------------------------------------------------------------------------\r\n",
      "Extensions:\r\n",
      "---------------------------------------------------------------------------\r\n",
      "\thttps://stac-extensions.github.io/grid/v1.1.0/schema.json\r\n",
      "\thttps://stac-extensions.github.io/eo/v1.1.0/schema.json\r\n",
      "\thttps://stac-extensions.github.io/processing/v1.1.0/schema.json\r\n",
      "\thttps://stac-extensions.github.io/view/v1.0.0/schema.json\r\n",
      "\thttps://stac-extensions.github.io/projection/v2.0.0/schema.json\r\n",
      "\thttps://stac-extensions.github.io/raster/v1.1.0/schema.json\r\n",
      "\thttps://stac-extensions.github.io/mgrs/v1.0.0/schema.json\r\n",
      "---------------------------------------------------------------------------\r\n",
      "Properties:\r\n",
      "#     created: 2024-06-14T13:59:11.695Z\r\n",
      "#     platform: sentinel-2a\r\n",
      "#     constellation: sentinel-2\r\n",
      "---------------------------------------------------------------------------\r\n",
      "    instruments:\r\n",
      "#     eo:cloud_cover: 0.938623\r\n",
      "#     mgrs:utm_zone: 17\r\n",
      "#     mgrs:latitude_band: S\r\n",
      "#     mgrs:grid_square: PV\r\n",
      "#     grid:code: MGRS-17SPV\r\n",
      "#     view:sun_azimuth: 127.945267074602\r\n",
      "#     view:sun_elevation: 71.4232664435802\r\n",
      "#     s2:degraded_msi_data_percentage: 0.0105\r\n",
      "#     s2:nodata_pixel_percentage: 0\r\n",
      "#     s2:saturated_defective_pixel_percentage: 0\r\n",
      "#     s2:dark_features_percentage: 0.148682\r\n",
      "#     s2:cloud_shadow_percentage: 0.722682\r\n",
      "#     s2:vegetation_percentage: 89.033872\r\n",
      "#     s2:not_vegetated_percentage: 7.696587\r\n",
      "#     s2:water_percentage: 1.064084\r\n",
      "#     s2:unclassified_percentage: 0.39547\r\n",
      "#     s2:medium_proba_clouds_percentage: 0.56256\r\n",
      "#     s2:high_proba_clouds_percentage: 0.182654\r\n",
      "#     s2:thin_cirrus_percentage: 0.19341\r\n",
      "#     s2:snow_ice_percentage: 0\r\n",
      "#     s2:product_type: S2MSI2A\r\n",
      "#     s2:processing_baseline: 05.10\r\n",
      "#     s2:product_uri: S2A_MSIL2A_20240611T155911_N0510_R097_T17SPV_20240611T232245.SAFE\r\n",
      "#     s2:generation_time: 2024-06-11T23:22:45.000000Z\r\n",
      "#     s2:datatake_id: GS2A_20240611T155911_046855_N05.10\r\n",
      "#     s2:datatake_type: INS-NOBS\r\n",
      "#     s2:datastrip_id: S2A_OPER_MSI_L2A_DS_2APS_20240611T232245_S20240611T161203_N05.10\r\n",
      "#     s2:granule_id: S2A_OPER_MSI_L2A_TL_2APS_20240611T232245_A046855_T17SPV_N05.10\r\n",
      "#     s2:reflectance_conversion_factor: 0.970691106136318\r\n",
      "#     datetime: 2024-06-11T16:13:32.315000Z\r\n",
      "#     s2:sequence: 0\r\n",
      "#     earthsearch:s3_path: s3://sentinel-cogs/sentinel-s2-l2a-cogs/17/S/PV/2024/6/S2A_17SPV_20240611_0_L2A\r\n",
      "#     earthsearch:payload_id: roda-sentinel2/workflow-sentinel2-to-stac/82e2ec0a5a83e826cefe6026f5033d0a\r\n",
      "#     earthsearch:boa_offset_applied: True\r\n",
      "---------------------------------------------------------------------------\r\n",
      "\r\n",
      "     processing:software:\r\n",
      "#         sentinel2-to-stac: 0.1.1\r\n",
      "#     processing:software: {'sentinel2-to-stac': '0.1.1'}\r\n",
      "#     updated: 2024-06-14T13:59:11.695Z\r\n",
      "#     proj:code: EPSG:32617\r\n",
      "Collection ID: sentinel-2-l2a\r\n",
      "Item: S2B_17SPV_20240606_0_L2A\r\n",
      "Geometry: {'type': 'Polygon', 'coordinates': [[[-79.88850843890832, 36.1397316133374], [-79.9021350633042, 35.14992495410683], [-78.69735281151316, 35.13301555004904], [-78.66879673080497, 36.12219793572046], [-79.88850843890832, 36.1397316133374]]]}\r\n",
      "Bbox: [-79.9021350633042, 35.13301555004904, -78.66879673080497, 36.1397316133374]\r\n",
      "Datetime: 2024-06-06 16:13:28.893000+00:00\r\n",
      "Start Datetime not found.\r\n",
      "End Datetime not found.\r\n",
      "Extra Fields:\r\n",
      "---------------------------------------------------------------------------\r\n",
      "Extensions:\r\n",
      "---------------------------------------------------------------------------\r\n",
      "\thttps://stac-extensions.github.io/eo/v1.1.0/schema.json\r\n",
      "\thttps://stac-extensions.github.io/projection/v2.0.0/schema.json\r\n",
      "\thttps://stac-extensions.github.io/view/v1.0.0/schema.json\r\n",
      "\thttps://stac-extensions.github.io/grid/v1.1.0/schema.json\r\n",
      "\thttps://stac-extensions.github.io/processing/v1.1.0/schema.json\r\n",
      "\thttps://stac-extensions.github.io/mgrs/v1.0.0/schema.json\r\n",
      "\thttps://stac-extensions.github.io/raster/v1.1.0/schema.json\r\n",
      "---------------------------------------------------------------------------\r\n",
      "Properties:\r\n",
      "#     created: 2024-06-06T22:48:20.074Z\r\n",
      "#     platform: sentinel-2b\r\n",
      "#     constellation: sentinel-2\r\n",
      "---------------------------------------------------------------------------\r\n",
      "    instruments:\r\n",
      "#     eo:cloud_cover: 77.982742\r\n",
      "#     mgrs:utm_zone: 17\r\n",
      "#     mgrs:latitude_band: S\r\n",
      "#     mgrs:grid_square: PV\r\n",
      "#     grid:code: MGRS-17SPV\r\n",
      "#     view:sun_azimuth: 129.296103755427\r\n",
      "#     view:sun_elevation: 71.2821734391056\r\n",
      "#     s2:degraded_msi_data_percentage: 0.0027\r\n",
      "#     s2:nodata_pixel_percentage: 0\r\n",
      "#     s2:saturated_defective_pixel_percentage: 0\r\n",
      "#     s2:dark_features_percentage: 0.008733\r\n",
      "#     s2:cloud_shadow_percentage: 2.853182\r\n",
      "#     s2:vegetation_percentage: 15.96137\r\n",
      "#     s2:not_vegetated_percentage: 1.689308\r\n",
      "#     s2:water_percentage: 0.11633\r\n",
      "#     s2:unclassified_percentage: 1.388333\r\n",
      "#     s2:medium_proba_clouds_percentage: 26.524428\r\n",
      "#     s2:high_proba_clouds_percentage: 36.947376\r\n",
      "#     s2:thin_cirrus_percentage: 14.51094\r\n",
      "#     s2:snow_ice_percentage: 0\r\n",
      "#     s2:product_type: S2MSI2A\r\n",
      "#     s2:processing_baseline: 05.10\r\n",
      "#     s2:product_uri: S2B_MSIL2A_20240606T155819_N0510_R097_T17SPV_20240606T202543.SAFE\r\n",
      "#     s2:generation_time: 2024-06-06T20:25:43.000000Z\r\n",
      "#     s2:datatake_id: GS2B_20240606T155819_037875_N05.10\r\n",
      "#     s2:datatake_type: INS-NOBS\r\n",
      "#     s2:datastrip_id: S2B_OPER_MSI_L2A_DS_2BPS_20240606T202543_S20240606T160443_N05.10\r\n",
      "#     s2:granule_id: S2B_OPER_MSI_L2A_TL_2BPS_20240606T202543_A037875_T17SPV_N05.10\r\n",
      "#     s2:reflectance_conversion_factor: 0.972020889918827\r\n",
      "#     datetime: 2024-06-06T16:13:28.893000Z\r\n",
      "#     s2:sequence: 0\r\n",
      "#     earthsearch:s3_path: s3://sentinel-cogs/sentinel-s2-l2a-cogs/17/S/PV/2024/6/S2B_17SPV_20240606_0_L2A\r\n",
      "#     earthsearch:payload_id: roda-sentinel2/workflow-sentinel2-to-stac/d9f218a487aeb8d45683d92bbcf5846e\r\n",
      "#     earthsearch:boa_offset_applied: True\r\n",
      "---------------------------------------------------------------------------\r\n",
      "\r\n",
      "     processing:software:\r\n",
      "#         sentinel2-to-stac: 0.1.1\r\n",
      "#     processing:software: {'sentinel2-to-stac': '0.1.1'}\r\n",
      "#     updated: 2024-06-06T22:48:20.074Z\r\n",
      "#     proj:code: EPSG:32617\r\n",
      "Collection ID: sentinel-2-l2a\r\n",
      "Item: S2A_17SPV_20240601_0_L2A\r\n",
      "Geometry: {'type': 'Polygon', 'coordinates': [[[-79.88850843890832, 36.1397316133374], [-79.9021350633042, 35.14992495410683], [-78.69735281151316, 35.13301555004904], [-78.67014958475484, 36.07641102292845], [-78.89932213540139, 36.12646435015929], [-79.88850843890832, 36.1397316133374]]]}\r\n",
      "Bbox: [-79.9021350633042, 35.13301555004904, -78.67014958475484, 36.1397316133374]\r\n",
      "Datetime: 2024-06-01 16:13:29.990000+00:00\r\n",
      "Start Datetime not found.\r\n",
      "End Datetime not found.\r\n",
      "Extra Fields:\r\n",
      "---------------------------------------------------------------------------\r\n",
      "Extensions:\r\n",
      "---------------------------------------------------------------------------\r\n",
      "\thttps://stac-extensions.github.io/projection/v2.0.0/schema.json\r\n",
      "\thttps://stac-extensions.github.io/grid/v1.1.0/schema.json\r\n",
      "\thttps://stac-extensions.github.io/processing/v1.1.0/schema.json\r\n",
      "\thttps://stac-extensions.github.io/mgrs/v1.0.0/schema.json\r\n",
      "\thttps://stac-extensions.github.io/raster/v1.1.0/schema.json\r\n",
      "\thttps://stac-extensions.github.io/eo/v1.1.0/schema.json\r\n",
      "\thttps://stac-extensions.github.io/view/v1.0.0/schema.json\r\n",
      "---------------------------------------------------------------------------\r\n",
      "Properties:\r\n",
      "#     created: 2024-06-02T00:51:08.508Z\r\n",
      "#     platform: sentinel-2a\r\n",
      "#     constellation: sentinel-2\r\n",
      "---------------------------------------------------------------------------\r\n",
      "    instruments:\r\n",
      "#     eo:cloud_cover: 61.180001\r\n",
      "#     mgrs:utm_zone: 17\r\n",
      "#     mgrs:latitude_band: S\r\n",
      "#     mgrs:grid_square: PV\r\n",
      "#     grid:code: MGRS-17SPV\r\n",
      "#     view:sun_azimuth: 130.946781150617\r\n",
      "#     view:sun_elevation: 71.0015186669718\r\n",
      "#     s2:degraded_msi_data_percentage: 0.0088\r\n",
      "#     s2:nodata_pixel_percentage: 0.420466\r\n",
      "#     s2:saturated_defective_pixel_percentage: 0\r\n",
      "#     s2:dark_features_percentage: 0.053686\r\n",
      "#     s2:cloud_shadow_percentage: 0.000816\r\n",
      "#     s2:vegetation_percentage: 34.452215\r\n",
      "#     s2:not_vegetated_percentage: 3.453467\r\n",
      "#     s2:water_percentage: 0.713965\r\n",
      "#     s2:unclassified_percentage: 0.145845\r\n",
      "#     s2:medium_proba_clouds_percentage: 8.304962\r\n",
      "#     s2:high_proba_clouds_percentage: 0.103281\r\n",
      "#     s2:thin_cirrus_percentage: 52.771759\r\n",
      "#     s2:snow_ice_percentage: 0\r\n",
      "#     s2:product_type: S2MSI2A\r\n",
      "#     s2:processing_baseline: 05.10\r\n",
      "#     s2:product_uri: S2A_MSIL2A_20240601T155911_N0510_R097_T17SPV_20240601T231654.SAFE\r\n",
      "#     s2:generation_time: 2024-06-01T23:16:54.000000Z\r\n",
      "#     s2:datatake_id: GS2A_20240601T155911_046712_N05.10\r\n",
      "#     s2:datatake_type: INS-NOBS\r\n",
      "#     s2:datastrip_id: S2A_OPER_MSI_L2A_DS_2APS_20240601T231654_S20240601T161316_N05.10\r\n",
      "#     s2:granule_id: S2A_OPER_MSI_L2A_TL_2APS_20240601T231654_A046712_T17SPV_N05.10\r\n",
      "#     s2:reflectance_conversion_factor: 0.973555957393978\r\n",
      "#     datetime: 2024-06-01T16:13:29.990000Z\r\n",
      "#     s2:sequence: 0\r\n",
      "#     earthsearch:s3_path: s3://sentinel-cogs/sentinel-s2-l2a-cogs/17/S/PV/2024/6/S2A_17SPV_20240601_0_L2A\r\n",
      "#     earthsearch:payload_id: roda-sentinel2/workflow-sentinel2-to-stac/8c742dccb0f8081f0ba5a51630199164\r\n",
      "#     earthsearch:boa_offset_applied: True\r\n",
      "---------------------------------------------------------------------------\r\n",
      "\r\n",
      "     processing:software:\r\n",
      "#         sentinel2-to-stac: 0.1.1\r\n",
      "#     processing:software: {'sentinel2-to-stac': '0.1.1'}\r\n",
      "#     updated: 2024-06-02T00:51:08.508Z\r\n",
      "#     proj:code: EPSG:32617\r\n",
      "Collection ID: sentinel-2-l2a\r\n",
      "Item: S2B_17SPV_20240527_0_L2A\r\n",
      "Geometry: {'type': 'Polygon', 'coordinates': [[[-79.88850843890832, 36.1397316133374], [-79.9021350633042, 35.14992495410683], [-78.69735281151316, 35.13301555004904], [-78.66879673080497, 36.12219793572046], [-79.88850843890832, 36.1397316133374]]]}\r\n",
      "Bbox: [-79.9021350633042, 35.13301555004904, -78.66879673080497, 36.1397316133374]\r\n",
      "Datetime: 2024-05-27 16:13:26.067000+00:00\r\n",
      "Start Datetime not found.\r\n",
      "End Datetime not found.\r\n",
      "Extra Fields:\r\n",
      "---------------------------------------------------------------------------\r\n",
      "Extensions:\r\n",
      "---------------------------------------------------------------------------\r\n",
      "\thttps://stac-extensions.github.io/mgrs/v1.0.0/schema.json\r\n",
      "\thttps://stac-extensions.github.io/view/v1.0.0/schema.json\r\n",
      "\thttps://stac-extensions.github.io/projection/v2.0.0/schema.json\r\n",
      "\thttps://stac-extensions.github.io/grid/v1.1.0/schema.json\r\n",
      "\thttps://stac-extensions.github.io/processing/v1.1.0/schema.json\r\n",
      "\thttps://stac-extensions.github.io/eo/v1.1.0/schema.json\r\n",
      "\thttps://stac-extensions.github.io/raster/v1.1.0/schema.json\r\n",
      "---------------------------------------------------------------------------\r\n",
      "Properties:\r\n",
      "#     created: 2024-05-28T19:09:19.013Z\r\n",
      "#     platform: sentinel-2b\r\n",
      "#     constellation: sentinel-2\r\n",
      "---------------------------------------------------------------------------\r\n",
      "    instruments:\r\n",
      "#     eo:cloud_cover: 100\r\n",
      "#     mgrs:utm_zone: 17\r\n",
      "#     mgrs:latitude_band: S\r\n",
      "#     mgrs:grid_square: PV\r\n",
      "#     grid:code: MGRS-17SPV\r\n",
      "#     view:sun_azimuth: 132.731921876307\r\n",
      "#     view:sun_elevation: 70.5473572027452\r\n",
      "#     s2:degraded_msi_data_percentage: 0.0025\r\n",
      "#     s2:nodata_pixel_percentage: 0\r\n",
      "#     s2:saturated_defective_pixel_percentage: 0\r\n",
      "#     s2:dark_features_percentage: 0\r\n",
      "#     s2:cloud_shadow_percentage: 0\r\n",
      "#     s2:vegetation_percentage: 0\r\n",
      "#     s2:not_vegetated_percentage: 0\r\n",
      "#     s2:water_percentage: 0\r\n",
      "#     s2:unclassified_percentage: 0\r\n",
      "#     s2:medium_proba_clouds_percentage: 56.10559\r\n",
      "#     s2:high_proba_clouds_percentage: 43.417314\r\n",
      "#     s2:thin_cirrus_percentage: 0.477099\r\n",
      "#     s2:snow_ice_percentage: 0\r\n",
      "#     s2:product_type: S2MSI2A\r\n",
      "#     s2:processing_baseline: 05.10\r\n",
      "#     s2:product_uri: S2B_MSIL2A_20240527T155819_N0510_R097_T17SPV_20240527T211926.SAFE\r\n",
      "#     s2:generation_time: 2024-05-27T21:19:26.000000Z\r\n",
      "#     s2:datatake_id: GS2B_20240527T155819_037732_N05.10\r\n",
      "#     s2:datatake_type: INS-NOBS\r\n",
      "#     s2:datastrip_id: S2B_OPER_MSI_L2A_DS_2BPS_20240527T211926_S20240527T161150_N05.10\r\n",
      "#     s2:granule_id: S2B_OPER_MSI_L2A_TL_2BPS_20240527T211926_A037732_T17SPV_N05.10\r\n",
      "#     s2:reflectance_conversion_factor: 0.975287105815228\r\n",
      "#     datetime: 2024-05-27T16:13:26.067000Z\r\n",
      "#     s2:sequence: 0\r\n",
      "#     earthsearch:s3_path: s3://sentinel-cogs/sentinel-s2-l2a-cogs/17/S/PV/2024/5/S2B_17SPV_20240527_0_L2A\r\n",
      "#     earthsearch:payload_id: roda-sentinel2/workflow-sentinel2-to-stac/d1cf1f1ae57d1a860d5d5b6e69f0c5fd\r\n",
      "#     earthsearch:boa_offset_applied: True\r\n",
      "---------------------------------------------------------------------------\r\n",
      "\r\n",
      "     processing:software:\r\n",
      "#         sentinel2-to-stac: 0.1.1\r\n",
      "#     processing:software: {'sentinel2-to-stac': '0.1.1'}\r\n",
      "#     updated: 2024-05-28T19:09:19.013Z\r\n",
      "#     proj:code: EPSG:32617\r\n",
      "Collection ID: sentinel-2-l2a\r\n",
      "Item: S2A_17SPV_20240522_0_L2A\r\n",
      "Geometry: {'type': 'Polygon', 'coordinates': [[[-79.88850843890832, 36.1397316133374], [-79.9021350633042, 35.14992495410683], [-78.69735281151316, 35.13301555004904], [-78.66879673080497, 36.12219793572046], [-79.88850843890832, 36.1397316133374]]]}\r\n",
      "Bbox: [-79.9021350633042, 35.13301555004904, -78.66879673080497, 36.1397316133374]\r\n",
      "Datetime: 2024-05-22 16:13:25.575000+00:00\r\n",
      "Start Datetime not found.\r\n",
      "End Datetime not found.\r\n",
      "Extra Fields:\r\n",
      "---------------------------------------------------------------------------\r\n",
      "Extensions:\r\n",
      "---------------------------------------------------------------------------\r\n",
      "\thttps://stac-extensions.github.io/view/v1.0.0/schema.json\r\n",
      "\thttps://stac-extensions.github.io/processing/v1.1.0/schema.json\r\n",
      "\thttps://stac-extensions.github.io/grid/v1.1.0/schema.json\r\n",
      "\thttps://stac-extensions.github.io/mgrs/v1.0.0/schema.json\r\n",
      "\thttps://stac-extensions.github.io/projection/v2.0.0/schema.json\r\n",
      "\thttps://stac-extensions.github.io/raster/v1.1.0/schema.json\r\n",
      "\thttps://stac-extensions.github.io/eo/v1.1.0/schema.json\r\n",
      "---------------------------------------------------------------------------\r\n",
      "Properties:\r\n",
      "#     created: 2024-05-28T16:20:14.246Z\r\n",
      "#     platform: sentinel-2a\r\n",
      "#     constellation: sentinel-2\r\n",
      "---------------------------------------------------------------------------\r\n",
      "    instruments:\r\n",
      "#     eo:cloud_cover: 4.839775\r\n",
      "#     mgrs:utm_zone: 17\r\n",
      "#     mgrs:latitude_band: S\r\n",
      "#     mgrs:grid_square: PV\r\n",
      "#     grid:code: MGRS-17SPV\r\n",
      "#     view:sun_azimuth: 134.645221678048\r\n",
      "#     view:sun_elevation: 69.9363455605075\r\n",
      "#     s2:degraded_msi_data_percentage: 0.0077\r\n",
      "#     s2:nodata_pixel_percentage: 0\r\n",
      "#     s2:saturated_defective_pixel_percentage: 0\r\n",
      "#     s2:dark_features_percentage: 0.181847\r\n",
      "#     s2:cloud_shadow_percentage: 1.121513\r\n",
      "#     s2:vegetation_percentage: 84.700739\r\n",
      "#     s2:not_vegetated_percentage: 7.666176\r\n",
      "#     s2:water_percentage: 1.091128\r\n",
      "#     s2:unclassified_percentage: 0.398824\r\n",
      "#     s2:medium_proba_clouds_percentage: 0.857655\r\n",
      "#     s2:high_proba_clouds_percentage: 0.408592\r\n",
      "#     s2:thin_cirrus_percentage: 3.573528\r\n",
      "#     s2:snow_ice_percentage: 0\r\n",
      "#     s2:product_type: S2MSI2A\r\n",
      "#     s2:processing_baseline: 05.10\r\n",
      "#     s2:product_uri: S2A_MSIL2A_20240522T155901_N0510_R097_T17SPV_20240522T231852.SAFE\r\n",
      "#     s2:generation_time: 2024-05-22T23:18:52.000000Z\r\n",
      "#     s2:datatake_id: GS2A_20240522T155901_046569_N05.10\r\n",
      "#     s2:datatake_type: INS-NOBS\r\n",
      "#     s2:datastrip_id: S2A_OPER_MSI_L2A_DS_2APS_20240522T231852_S20240522T161308_N05.10\r\n",
      "#     s2:granule_id: S2A_OPER_MSI_L2A_TL_2APS_20240522T231852_A046569_T17SPV_N05.10\r\n",
      "#     s2:reflectance_conversion_factor: 0.977202250922301\r\n",
      "#     datetime: 2024-05-22T16:13:25.575000Z\r\n",
      "#     s2:sequence: 0\r\n",
      "#     earthsearch:s3_path: s3://sentinel-cogs/sentinel-s2-l2a-cogs/17/S/PV/2024/5/S2A_17SPV_20240522_0_L2A\r\n",
      "#     earthsearch:payload_id: roda-sentinel2/workflow-sentinel2-to-stac/7901d23e9b4391b2832cd9bff01bf974\r\n",
      "#     earthsearch:boa_offset_applied: True\r\n",
      "---------------------------------------------------------------------------\r\n",
      "\r\n",
      "     processing:software:\r\n",
      "#         sentinel2-to-stac: 0.1.1\r\n",
      "#     processing:software: {'sentinel2-to-stac': '0.1.1'}\r\n",
      "#     updated: 2024-05-28T16:20:14.246Z\r\n",
      "#     proj:code: EPSG:32617\r\n",
      "Collection ID: sentinel-2-l2a\r\n",
      "Item: S2B_17SPV_20240517_0_L2A\r\n",
      "Geometry: {'type': 'Polygon', 'coordinates': [[[-79.88850843890832, 36.1397316133374], [-79.9021350633042, 35.14992495410683], [-78.69735281151316, 35.13301555004904], [-78.66879673080497, 36.12219793572046], [-79.88850843890832, 36.1397316133374]]]}\r\n",
      "Bbox: [-79.9021350633042, 35.13301555004904, -78.66879673080497, 36.1397316133374]\r\n",
      "Datetime: 2024-05-17 16:13:24.329000+00:00\r\n",
      "Start Datetime not found.\r\n",
      "End Datetime not found.\r\n",
      "Extra Fields:\r\n",
      "---------------------------------------------------------------------------\r\n",
      "Extensions:\r\n",
      "---------------------------------------------------------------------------\r\n",
      "\thttps://stac-extensions.github.io/grid/v1.1.0/schema.json\r\n",
      "\thttps://stac-extensions.github.io/processing/v1.1.0/schema.json\r\n",
      "\thttps://stac-extensions.github.io/view/v1.0.0/schema.json\r\n",
      "\thttps://stac-extensions.github.io/projection/v2.0.0/schema.json\r\n",
      "\thttps://stac-extensions.github.io/raster/v1.1.0/schema.json\r\n",
      "\thttps://stac-extensions.github.io/mgrs/v1.0.0/schema.json\r\n",
      "\thttps://stac-extensions.github.io/eo/v1.1.0/schema.json\r\n",
      "---------------------------------------------------------------------------\r\n",
      "Properties:\r\n",
      "#     created: 2024-05-17T22:32:30.781Z\r\n",
      "#     platform: sentinel-2b\r\n",
      "#     constellation: sentinel-2\r\n",
      "---------------------------------------------------------------------------\r\n",
      "    instruments:\r\n",
      "#     eo:cloud_cover: 100\r\n",
      "#     mgrs:utm_zone: 17\r\n",
      "#     mgrs:latitude_band: S\r\n",
      "#     mgrs:grid_square: PV\r\n",
      "#     grid:code: MGRS-17SPV\r\n",
      "#     view:sun_azimuth: 136.576661946823\r\n",
      "#     view:sun_elevation: 69.15705955550101\r\n",
      "#     s2:degraded_msi_data_percentage: 0.002\r\n",
      "#     s2:nodata_pixel_percentage: 0\r\n",
      "#     s2:saturated_defective_pixel_percentage: 0\r\n",
      "#     s2:dark_features_percentage: 0\r\n",
      "#     s2:cloud_shadow_percentage: 0\r\n",
      "#     s2:vegetation_percentage: 0\r\n",
      "#     s2:not_vegetated_percentage: 0\r\n",
      "#     s2:water_percentage: 0\r\n",
      "#     s2:unclassified_percentage: 0\r\n",
      "#     s2:medium_proba_clouds_percentage: 48.435068\r\n",
      "#     s2:high_proba_clouds_percentage: 51.179594\r\n",
      "#     s2:thin_cirrus_percentage: 0.38534\r\n",
      "#     s2:snow_ice_percentage: 0\r\n",
      "#     s2:product_type: S2MSI2A\r\n",
      "#     s2:processing_baseline: 05.10\r\n",
      "#     s2:product_uri: S2B_MSIL2A_20240517T155819_N0510_R097_T17SPV_20240517T202125.SAFE\r\n",
      "#     s2:generation_time: 2024-05-17T20:21:25.000000Z\r\n",
      "#     s2:datatake_id: GS2B_20240517T155819_037589_N05.10\r\n",
      "#     s2:datatake_type: INS-NOBS\r\n",
      "#     s2:datastrip_id: S2B_OPER_MSI_L2A_DS_2BPS_20240517T202125_S20240517T160403_N05.10\r\n",
      "#     s2:granule_id: S2B_OPER_MSI_L2A_TL_2BPS_20240517T202125_A037589_T17SPV_N05.10\r\n",
      "#     s2:reflectance_conversion_factor: 0.979289557698501\r\n",
      "#     datetime: 2024-05-17T16:13:24.329000Z\r\n",
      "#     s2:sequence: 0\r\n",
      "#     earthsearch:s3_path: s3://sentinel-cogs/sentinel-s2-l2a-cogs/17/S/PV/2024/5/S2B_17SPV_20240517_0_L2A\r\n",
      "#     earthsearch:payload_id: roda-sentinel2/workflow-sentinel2-to-stac/4da61ed5e43dbcd35a04e08c23263999\r\n",
      "#     earthsearch:boa_offset_applied: True\r\n",
      "---------------------------------------------------------------------------\r\n",
      "\r\n",
      "     processing:software:\r\n",
      "#         sentinel2-to-stac: 0.1.1\r\n",
      "#     processing:software: {'sentinel2-to-stac': '0.1.1'}\r\n",
      "#     updated: 2024-05-17T22:32:30.781Z\r\n",
      "#     proj:code: EPSG:32617\r\n",
      "Collection ID: sentinel-2-l2a\r\n",
      "Item: S2A_17SPV_20240512_0_L2A\r\n",
      "Geometry: {'type': 'Polygon', 'coordinates': [[[-79.88850843890832, 36.1397316133374], [-79.9021350633042, 35.14992495410683], [-78.69735281151316, 35.13301555004904], [-78.66879673080497, 36.12219793572046], [-79.88850843890832, 36.1397316133374]]]}\r\n",
      "Bbox: [-79.9021350633042, 35.13301555004904, -78.66879673080497, 36.1397316133374]\r\n",
      "Datetime: 2024-05-12 16:13:29.367000+00:00\r\n",
      "Start Datetime not found.\r\n",
      "End Datetime not found.\r\n",
      "Extra Fields:\r\n",
      "---------------------------------------------------------------------------\r\n",
      "Extensions:\r\n",
      "---------------------------------------------------------------------------\r\n",
      "\thttps://stac-extensions.github.io/eo/v1.1.0/schema.json\r\n",
      "\thttps://stac-extensions.github.io/mgrs/v1.0.0/schema.json\r\n",
      "\thttps://stac-extensions.github.io/projection/v2.0.0/schema.json\r\n",
      "\thttps://stac-extensions.github.io/view/v1.0.0/schema.json\r\n",
      "\thttps://stac-extensions.github.io/grid/v1.1.0/schema.json\r\n",
      "\thttps://stac-extensions.github.io/processing/v1.1.0/schema.json\r\n",
      "\thttps://stac-extensions.github.io/raster/v1.1.0/schema.json\r\n",
      "---------------------------------------------------------------------------\r\n",
      "Properties:\r\n",
      "#     created: 2024-05-13T01:49:24.604Z\r\n",
      "#     platform: sentinel-2a\r\n",
      "#     constellation: sentinel-2\r\n",
      "---------------------------------------------------------------------------\r\n",
      "    instruments:\r\n",
      "#     eo:cloud_cover: 30.864275\r\n",
      "#     mgrs:utm_zone: 17\r\n",
      "#     mgrs:latitude_band: S\r\n",
      "#     mgrs:grid_square: PV\r\n",
      "#     grid:code: MGRS-17SPV\r\n",
      "#     view:sun_azimuth: 138.526178970296\r\n",
      "#     view:sun_elevation: 68.227931936218\r\n",
      "#     s2:degraded_msi_data_percentage: 0.0128\r\n",
      "#     s2:nodata_pixel_percentage: 0\r\n",
      "#     s2:saturated_defective_pixel_percentage: 0\r\n",
      "#     s2:dark_features_percentage: 0.092133\r\n",
      "#     s2:cloud_shadow_percentage: 11.112269\r\n",
      "#     s2:vegetation_percentage: 51.770526\r\n",
      "#     s2:not_vegetated_percentage: 5.036924\r\n",
      "#     s2:water_percentage: 0.764085\r\n",
      "#     s2:unclassified_percentage: 0.35979\r\n",
      "#     s2:medium_proba_clouds_percentage: 10.227607\r\n",
      "#     s2:high_proba_clouds_percentage: 12.326884\r\n",
      "#     s2:thin_cirrus_percentage: 8.309783\r\n",
      "#     s2:snow_ice_percentage: 0\r\n",
      "#     s2:product_type: S2MSI2A\r\n",
      "#     s2:processing_baseline: 05.10\r\n",
      "#     s2:product_uri: S2A_MSIL2A_20240512T155901_N0510_R097_T17SPV_20240512T235052.SAFE\r\n",
      "#     s2:generation_time: 2024-05-12T23:50:52.000000Z\r\n",
      "#     s2:datatake_id: GS2A_20240512T155901_046426_N05.10\r\n",
      "#     s2:datatake_type: INS-NOBS\r\n",
      "#     s2:datastrip_id: S2A_OPER_MSI_L2A_DS_2APS_20240512T235052_S20240512T160758_N05.10\r\n",
      "#     s2:granule_id: S2A_OPER_MSI_L2A_TL_2APS_20240512T235052_A046426_T17SPV_N05.10\r\n",
      "#     s2:reflectance_conversion_factor: 0.981534332906898\r\n",
      "#     datetime: 2024-05-12T16:13:29.367000Z\r\n",
      "#     s2:sequence: 0\r\n",
      "#     earthsearch:s3_path: s3://sentinel-cogs/sentinel-s2-l2a-cogs/17/S/PV/2024/5/S2A_17SPV_20240512_0_L2A\r\n",
      "#     earthsearch:payload_id: roda-sentinel2/workflow-sentinel2-to-stac/501525a637edcea72022281f96c1aaec\r\n",
      "#     earthsearch:boa_offset_applied: True\r\n",
      "---------------------------------------------------------------------------\r\n",
      "\r\n",
      "     processing:software:\r\n",
      "#         sentinel2-to-stac: 0.1.1\r\n",
      "#     processing:software: {'sentinel2-to-stac': '0.1.1'}\r\n",
      "#     updated: 2024-05-13T01:49:24.604Z\r\n",
      "#     proj:code: EPSG:32617\r\n",
      "Collection ID: sentinel-2-l2a\r\n",
      "Item: S2B_17SPV_20240507_0_L2A\r\n",
      "Geometry: {'type': 'Polygon', 'coordinates': [[[-79.88850843890832, 36.1397316133374], [-79.9021350633042, 35.14992495410683], [-78.69735281151316, 35.13301555004904], [-78.66879673080497, 36.12219793572046], [-79.88850843890832, 36.1397316133374]]]}\r\n",
      "Bbox: [-79.9021350633042, 35.13301555004904, -78.66879673080497, 36.1397316133374]\r\n",
      "Datetime: 2024-05-07 16:13:27.007000+00:00\r\n",
      "Start Datetime not found.\r\n",
      "End Datetime not found.\r\n"
     ]
    },
    {
     "name": "stdout",
     "output_type": "stream",
     "text": [
      "Extra Fields:\r\n",
      "---------------------------------------------------------------------------\r\n",
      "Extensions:\r\n",
      "---------------------------------------------------------------------------\r\n",
      "\thttps://stac-extensions.github.io/raster/v1.1.0/schema.json\r\n",
      "\thttps://stac-extensions.github.io/eo/v1.1.0/schema.json\r\n",
      "\thttps://stac-extensions.github.io/mgrs/v1.0.0/schema.json\r\n",
      "\thttps://stac-extensions.github.io/grid/v1.1.0/schema.json\r\n",
      "\thttps://stac-extensions.github.io/view/v1.0.0/schema.json\r\n",
      "\thttps://stac-extensions.github.io/projection/v2.0.0/schema.json\r\n",
      "\thttps://stac-extensions.github.io/processing/v1.1.0/schema.json\r\n",
      "---------------------------------------------------------------------------\r\n",
      "Properties:\r\n",
      "#     created: 2024-05-08T10:59:32.738Z\r\n",
      "#     platform: sentinel-2b\r\n",
      "#     constellation: sentinel-2\r\n",
      "---------------------------------------------------------------------------\r\n",
      "    instruments:\r\n",
      "#     eo:cloud_cover: 40.339398\r\n",
      "#     mgrs:utm_zone: 17\r\n",
      "#     mgrs:latitude_band: S\r\n",
      "#     mgrs:grid_square: PV\r\n",
      "#     grid:code: MGRS-17SPV\r\n",
      "#     view:sun_azimuth: 140.320609605445\r\n",
      "#     view:sun_elevation: 67.123155396654\r\n",
      "#     s2:degraded_msi_data_percentage: 0.0029\r\n",
      "#     s2:nodata_pixel_percentage: 0\r\n",
      "#     s2:saturated_defective_pixel_percentage: 0\r\n",
      "#     s2:dark_features_percentage: 0.069442\r\n",
      "#     s2:cloud_shadow_percentage: 4.545121\r\n",
      "#     s2:vegetation_percentage: 45.809352\r\n",
      "#     s2:not_vegetated_percentage: 5.489328\r\n",
      "#     s2:water_percentage: 0.723339\r\n",
      "#     s2:unclassified_percentage: 3.024018\r\n",
      "#     s2:medium_proba_clouds_percentage: 13.259926\r\n",
      "#     s2:high_proba_clouds_percentage: 24.973664\r\n",
      "#     s2:thin_cirrus_percentage: 2.105809\r\n",
      "#     s2:snow_ice_percentage: 0\r\n",
      "#     s2:product_type: S2MSI2A\r\n",
      "#     s2:processing_baseline: 05.10\r\n",
      "#     s2:product_uri: S2B_MSIL2A_20240507T155819_N0510_R097_T17SPV_20240507T202416.SAFE\r\n",
      "#     s2:generation_time: 2024-05-07T20:24:16.000000Z\r\n",
      "#     s2:datatake_id: GS2B_20240507T155819_037446_N05.10\r\n",
      "#     s2:datatake_type: INS-NOBS\r\n",
      "#     s2:datastrip_id: S2B_OPER_MSI_L2A_DS_2BPS_20240507T202416_S20240507T160601_N05.10\r\n",
      "#     s2:granule_id: S2B_OPER_MSI_L2A_TL_2BPS_20240507T202416_A037446_T17SPV_N05.10\r\n",
      "#     s2:reflectance_conversion_factor: 0.983922355524309\r\n",
      "#     datetime: 2024-05-07T16:13:27.007000Z\r\n",
      "#     s2:sequence: 0\r\n",
      "#     earthsearch:s3_path: s3://sentinel-cogs/sentinel-s2-l2a-cogs/17/S/PV/2024/5/S2B_17SPV_20240507_0_L2A\r\n",
      "#     earthsearch:payload_id: roda-sentinel2/workflow-sentinel2-to-stac/3095dd5fc0c1adab27a9206150e8fa7e\r\n",
      "#     earthsearch:boa_offset_applied: True\r\n",
      "---------------------------------------------------------------------------\r\n",
      "\r\n",
      "     processing:software:\r\n",
      "#         sentinel2-to-stac: 0.1.1\r\n",
      "#     processing:software: {'sentinel2-to-stac': '0.1.1'}\r\n",
      "#     updated: 2024-05-08T10:59:32.738Z\r\n",
      "#     proj:code: EPSG:32617\r\n",
      "Collection ID: sentinel-2-l2a\r\n",
      "Item: S2A_17SPV_20240502_0_L2A\r\n",
      "Geometry: {'type': 'Polygon', 'coordinates': [[[-79.88850843890832, 36.1397316133374], [-79.9021350633042, 35.14992495410683], [-78.69735281151316, 35.13301555004904], [-78.66879673080497, 36.12219793572046], [-79.88850843890832, 36.1397316133374]]]}\r\n",
      "Bbox: [-79.9021350633042, 35.13301555004904, -78.66879673080497, 36.1397316133374]\r\n",
      "Datetime: 2024-05-02 16:13:29.052000+00:00\r\n",
      "Start Datetime not found.\r\n",
      "End Datetime not found.\r\n",
      "Extra Fields:\r\n",
      "---------------------------------------------------------------------------\r\n",
      "Extensions:\r\n",
      "---------------------------------------------------------------------------\r\n",
      "\thttps://stac-extensions.github.io/mgrs/v1.0.0/schema.json\r\n",
      "\thttps://stac-extensions.github.io/view/v1.0.0/schema.json\r\n",
      "\thttps://stac-extensions.github.io/raster/v1.1.0/schema.json\r\n",
      "\thttps://stac-extensions.github.io/processing/v1.1.0/schema.json\r\n",
      "\thttps://stac-extensions.github.io/projection/v2.0.0/schema.json\r\n",
      "\thttps://stac-extensions.github.io/grid/v1.1.0/schema.json\r\n",
      "\thttps://stac-extensions.github.io/eo/v1.1.0/schema.json\r\n",
      "---------------------------------------------------------------------------\r\n",
      "Properties:\r\n",
      "#     created: 2024-05-03T02:07:12.458Z\r\n",
      "#     platform: sentinel-2a\r\n",
      "#     constellation: sentinel-2\r\n",
      "---------------------------------------------------------------------------\r\n",
      "    instruments:\r\n",
      "#     eo:cloud_cover: 1.724347\r\n",
      "#     mgrs:utm_zone: 17\r\n",
      "#     mgrs:latitude_band: S\r\n",
      "#     mgrs:grid_square: PV\r\n",
      "#     grid:code: MGRS-17SPV\r\n",
      "#     view:sun_azimuth: 142.024405942536\r\n",
      "#     view:sun_elevation: 65.8776811943126\r\n",
      "#     s2:degraded_msi_data_percentage: 0.0086\r\n",
      "#     s2:nodata_pixel_percentage: 0\r\n",
      "#     s2:saturated_defective_pixel_percentage: 0\r\n",
      "#     s2:dark_features_percentage: 0.180713\r\n",
      "#     s2:cloud_shadow_percentage: 1.65954\r\n",
      "#     s2:vegetation_percentage: 85.410345\r\n",
      "#     s2:not_vegetated_percentage: 9.435526\r\n",
      "#     s2:water_percentage: 1.201897\r\n",
      "#     s2:unclassified_percentage: 0.387633\r\n",
      "#     s2:medium_proba_clouds_percentage: 1.068898\r\n",
      "#     s2:high_proba_clouds_percentage: 0.654713\r\n",
      "#     s2:thin_cirrus_percentage: 0.000737\r\n",
      "#     s2:snow_ice_percentage: 0\r\n",
      "#     s2:product_type: S2MSI2A\r\n",
      "#     s2:processing_baseline: 05.10\r\n",
      "#     s2:product_uri: S2A_MSIL2A_20240502T155901_N0510_R097_T17SPV_20240502T231600.SAFE\r\n",
      "#     s2:generation_time: 2024-05-02T23:16:00.000000Z\r\n",
      "#     s2:datatake_id: GS2A_20240502T155901_046283_N05.10\r\n",
      "#     s2:datatake_type: INS-NOBS\r\n",
      "#     s2:datastrip_id: S2A_OPER_MSI_L2A_DS_2APS_20240502T231600_S20240502T161232_N05.10\r\n",
      "#     s2:granule_id: S2A_OPER_MSI_L2A_TL_2APS_20240502T231600_A046283_T17SPV_N05.10\r\n",
      "#     s2:reflectance_conversion_factor: 0.986436466402915\r\n",
      "#     datetime: 2024-05-02T16:13:29.052000Z\r\n",
      "#     s2:sequence: 0\r\n",
      "#     earthsearch:s3_path: s3://sentinel-cogs/sentinel-s2-l2a-cogs/17/S/PV/2024/5/S2A_17SPV_20240502_0_L2A\r\n",
      "#     earthsearch:payload_id: roda-sentinel2/workflow-sentinel2-to-stac/9833836355fede44aaf0a3680ddeaa2b\r\n",
      "#     earthsearch:boa_offset_applied: True\r\n",
      "---------------------------------------------------------------------------\r\n",
      "\r\n",
      "     processing:software:\r\n",
      "#         sentinel2-to-stac: 0.1.1\r\n",
      "#     processing:software: {'sentinel2-to-stac': '0.1.1'}\r\n",
      "#     updated: 2024-05-03T02:07:12.458Z\r\n",
      "#     proj:code: EPSG:32617\r\n",
      "Collection ID: sentinel-2-l2a\r\n",
      "Item: S2B_17SPV_20240427_0_L2A\r\n",
      "Geometry: {'type': 'Polygon', 'coordinates': [[[-79.88850843890832, 36.1397316133374], [-79.9021350633042, 35.14992495410683], [-78.69735281151316, 35.13301555004904], [-78.66879673080497, 36.12219793572046], [-79.88850843890832, 36.1397316133374]]]}\r\n",
      "Bbox: [-79.9021350633042, 35.13301555004904, -78.66879673080497, 36.1397316133374]\r\n",
      "Datetime: 2024-04-27 16:13:25.302000+00:00\r\n",
      "Start Datetime not found.\r\n",
      "End Datetime not found.\r\n",
      "Extra Fields:\r\n",
      "---------------------------------------------------------------------------\r\n",
      "Extensions:\r\n",
      "---------------------------------------------------------------------------\r\n",
      "\thttps://stac-extensions.github.io/mgrs/v1.0.0/schema.json\r\n",
      "\thttps://stac-extensions.github.io/grid/v1.1.0/schema.json\r\n",
      "\thttps://stac-extensions.github.io/view/v1.0.0/schema.json\r\n",
      "\thttps://stac-extensions.github.io/eo/v1.1.0/schema.json\r\n",
      "\thttps://stac-extensions.github.io/processing/v1.1.0/schema.json\r\n",
      "\thttps://stac-extensions.github.io/raster/v1.1.0/schema.json\r\n",
      "\thttps://stac-extensions.github.io/projection/v2.0.0/schema.json\r\n",
      "---------------------------------------------------------------------------\r\n",
      "Properties:\r\n",
      "#     created: 2024-04-27T23:18:26.463Z\r\n",
      "#     platform: sentinel-2b\r\n",
      "#     constellation: sentinel-2\r\n",
      "---------------------------------------------------------------------------\r\n",
      "    instruments:\r\n",
      "#     eo:cloud_cover: 41.492322\r\n",
      "#     mgrs:utm_zone: 17\r\n",
      "#     mgrs:latitude_band: S\r\n",
      "#     mgrs:grid_square: PV\r\n",
      "#     grid:code: MGRS-17SPV\r\n",
      "#     view:sun_azimuth: 143.528792725087\r\n",
      "#     view:sun_elevation: 64.4810365146954\r\n",
      "#     s2:degraded_msi_data_percentage: 0.0024\r\n",
      "#     s2:nodata_pixel_percentage: 0\r\n",
      "#     s2:saturated_defective_pixel_percentage: 0\r\n",
      "#     s2:dark_features_percentage: 0.087266\r\n",
      "#     s2:cloud_shadow_percentage: 0.200142\r\n",
      "#     s2:vegetation_percentage: 43.908963\r\n",
      "#     s2:not_vegetated_percentage: 7.898109\r\n",
      "#     s2:water_percentage: 0.717951\r\n",
      "#     s2:unclassified_percentage: 5.69525\r\n",
      "#     s2:medium_proba_clouds_percentage: 13.414925\r\n",
      "#     s2:high_proba_clouds_percentage: 22.153059\r\n",
      "#     s2:thin_cirrus_percentage: 5.924337\r\n",
      "#     s2:snow_ice_percentage: 0\r\n",
      "#     s2:product_type: S2MSI2A\r\n",
      "#     s2:processing_baseline: 05.10\r\n",
      "#     s2:product_uri: S2B_MSIL2A_20240427T155819_N0510_R097_T17SPV_20240427T202325.SAFE\r\n",
      "#     s2:generation_time: 2024-04-27T20:23:25.000000Z\r\n",
      "#     s2:datatake_id: GS2B_20240427T155819_037303_N05.10\r\n",
      "#     s2:datatake_type: INS-NOBS\r\n",
      "#     s2:datastrip_id: S2B_OPER_MSI_L2A_DS_2BPS_20240427T202325_S20240427T160556_N05.10\r\n",
      "#     s2:granule_id: S2B_OPER_MSI_L2A_TL_2BPS_20240427T202325_A037303_T17SPV_N05.10\r\n",
      "#     s2:reflectance_conversion_factor: 0.989060346411274\r\n",
      "#     datetime: 2024-04-27T16:13:25.302000Z\r\n",
      "#     s2:sequence: 0\r\n",
      "#     earthsearch:s3_path: s3://sentinel-cogs/sentinel-s2-l2a-cogs/17/S/PV/2024/4/S2B_17SPV_20240427_0_L2A\r\n",
      "#     earthsearch:payload_id: roda-sentinel2/workflow-sentinel2-to-stac/12a1ab645fb39239090f5f2212c7996a\r\n",
      "#     earthsearch:boa_offset_applied: True\r\n",
      "---------------------------------------------------------------------------\r\n",
      "\r\n",
      "     processing:software:\r\n",
      "#         sentinel2-to-stac: 0.1.1\r\n",
      "#     processing:software: {'sentinel2-to-stac': '0.1.1'}\r\n",
      "#     updated: 2024-04-27T23:18:26.463Z\r\n",
      "#     proj:code: EPSG:32617\r\n",
      "Collection ID: sentinel-2-l2a\r\n",
      "Item: S2A_17SPV_20240422_1_L2A\r\n",
      "Geometry: {'type': 'Polygon', 'coordinates': [[[-79.88850843890832, 36.1397316133374], [-79.9021350633042, 35.14992495410683], [-78.69735281151316, 35.13301555004904], [-78.66879673080497, 36.12219793572046], [-79.88850843890832, 36.1397316133374]]]}\r\n",
      "Bbox: [-79.9021350633042, 35.13301555004904, -78.66879673080497, 36.1397316133374]\r\n",
      "Datetime: 2024-04-22 16:13:29.231000+00:00\r\n",
      "Start Datetime not found.\r\n",
      "End Datetime not found.\r\n",
      "Extra Fields:\r\n",
      "---------------------------------------------------------------------------\r\n",
      "Extensions:\r\n",
      "---------------------------------------------------------------------------\r\n",
      "\thttps://stac-extensions.github.io/eo/v1.1.0/schema.json\r\n",
      "\thttps://stac-extensions.github.io/mgrs/v1.0.0/schema.json\r\n",
      "\thttps://stac-extensions.github.io/processing/v1.1.0/schema.json\r\n",
      "\thttps://stac-extensions.github.io/view/v1.0.0/schema.json\r\n",
      "\thttps://stac-extensions.github.io/raster/v1.1.0/schema.json\r\n",
      "\thttps://stac-extensions.github.io/grid/v1.1.0/schema.json\r\n",
      "\thttps://stac-extensions.github.io/projection/v2.0.0/schema.json\r\n",
      "---------------------------------------------------------------------------\r\n",
      "Properties:\r\n",
      "#     created: 2024-04-23T16:20:44.531Z\r\n",
      "#     platform: sentinel-2a\r\n",
      "#     constellation: sentinel-2\r\n",
      "---------------------------------------------------------------------------\r\n",
      "    instruments:\r\n",
      "#     eo:cloud_cover: 31.595498\r\n",
      "#     mgrs:utm_zone: 17\r\n",
      "#     mgrs:latitude_band: S\r\n",
      "#     mgrs:grid_square: PV\r\n",
      "#     grid:code: MGRS-17SPV\r\n",
      "#     view:sun_azimuth: 144.941641921427\r\n",
      "#     view:sun_elevation: 62.9745747205139\r\n",
      "#     s2:degraded_msi_data_percentage: 0.0093\r\n",
      "#     s2:nodata_pixel_percentage: 0\r\n",
      "#     s2:saturated_defective_pixel_percentage: 0\r\n",
      "#     s2:dark_features_percentage: 0.171015\r\n",
      "#     s2:cloud_shadow_percentage: 2.525065\r\n",
      "#     s2:vegetation_percentage: 57.915175\r\n",
      "#     s2:not_vegetated_percentage: 6.323496\r\n",
      "#     s2:water_percentage: 0.923321\r\n",
      "#     s2:unclassified_percentage: 0.546269\r\n",
      "#     s2:medium_proba_clouds_percentage: 9.353081\r\n",
      "#     s2:high_proba_clouds_percentage: 16.427176\r\n",
      "#     s2:thin_cirrus_percentage: 5.815243\r\n",
      "#     s2:snow_ice_percentage: 0.000163\r\n",
      "#     s2:product_type: S2MSI2A\r\n",
      "#     s2:processing_baseline: 05.10\r\n",
      "#     s2:product_uri: S2A_MSIL2A_20240422T155821_N0510_R097_T17SPV_20240423T140451.SAFE\r\n",
      "#     s2:generation_time: 2024-04-23T14:04:51.000000Z\r\n",
      "#     s2:datatake_id: GS2A_20240422T155821_046140_N05.10\r\n",
      "#     s2:datatake_type: INS-NOBS\r\n",
      "#     s2:datastrip_id: S2A_OPER_MSI_L2A_DS_2APS_20240423T140451_S20240422T161127_N05.10\r\n",
      "#     s2:granule_id: S2A_OPER_MSI_L2A_TL_2APS_20240423T140451_A046140_T17SPV_N05.10\r\n",
      "#     s2:reflectance_conversion_factor: 0.991774965335244\r\n",
      "#     datetime: 2024-04-22T16:13:29.231000Z\r\n",
      "#     s2:sequence: 1\r\n",
      "#     earthsearch:s3_path: s3://sentinel-cogs/sentinel-s2-l2a-cogs/17/S/PV/2024/4/S2A_17SPV_20240422_1_L2A\r\n",
      "#     earthsearch:payload_id: roda-sentinel2/workflow-sentinel2-to-stac/71a1ecfdb0ff99a1aa9839048bfc78dc\r\n",
      "#     earthsearch:boa_offset_applied: True\r\n",
      "---------------------------------------------------------------------------\r\n",
      "\r\n",
      "     processing:software:\r\n",
      "#         sentinel2-to-stac: 0.1.1\r\n",
      "#     processing:software: {'sentinel2-to-stac': '0.1.1'}\r\n",
      "#     updated: 2024-04-23T16:20:44.531Z\r\n",
      "#     proj:code: EPSG:32617\r\n",
      "Collection ID: sentinel-2-l2a\r\n",
      "Item: S2A_17SPV_20240422_0_L2A\r\n",
      "Geometry: {'type': 'Polygon', 'coordinates': [[[-79.88850843890832, 36.1397316133374], [-79.9021350633042, 35.14992495410683], [-78.69735281151316, 35.13301555004904], [-78.66879673080497, 36.12219793572046], [-79.88850843890832, 36.1397316133374]]]}\r\n",
      "Bbox: [-79.9021350633042, 35.13301555004904, -78.66879673080497, 36.1397316133374]\r\n",
      "Datetime: 2024-04-22 16:13:29.231000+00:00\r\n",
      "Start Datetime not found.\r\n",
      "End Datetime not found.\r\n",
      "Extra Fields:\r\n",
      "---------------------------------------------------------------------------\r\n",
      "Extensions:\r\n",
      "---------------------------------------------------------------------------\r\n",
      "\thttps://stac-extensions.github.io/eo/v1.1.0/schema.json\r\n",
      "\thttps://stac-extensions.github.io/grid/v1.1.0/schema.json\r\n",
      "\thttps://stac-extensions.github.io/view/v1.0.0/schema.json\r\n",
      "\thttps://stac-extensions.github.io/projection/v2.0.0/schema.json\r\n",
      "\thttps://stac-extensions.github.io/mgrs/v1.0.0/schema.json\r\n",
      "\thttps://stac-extensions.github.io/raster/v1.1.0/schema.json\r\n",
      "\thttps://stac-extensions.github.io/processing/v1.1.0/schema.json\r\n",
      "---------------------------------------------------------------------------\r\n",
      "Properties:\r\n",
      "#     created: 2024-04-23T02:23:43.837Z\r\n",
      "#     platform: sentinel-2a\r\n",
      "#     constellation: sentinel-2\r\n",
      "---------------------------------------------------------------------------\r\n",
      "    instruments:\r\n",
      "#     eo:cloud_cover: 31.594869\r\n",
      "#     mgrs:utm_zone: 17\r\n",
      "#     mgrs:latitude_band: S\r\n",
      "#     mgrs:grid_square: PV\r\n",
      "#     grid:code: MGRS-17SPV\r\n",
      "#     view:sun_azimuth: 144.941641921427\r\n",
      "#     view:sun_elevation: 62.9745747205139\r\n",
      "#     s2:degraded_msi_data_percentage: 0.0093\r\n",
      "#     s2:nodata_pixel_percentage: 0\r\n",
      "#     s2:saturated_defective_pixel_percentage: 0\r\n",
      "#     s2:dark_features_percentage: 0.171031\r\n",
      "#     s2:cloud_shadow_percentage: 2.524043\r\n",
      "#     s2:vegetation_percentage: 57.916528\r\n",
      "#     s2:not_vegetated_percentage: 6.324564\r\n",
      "#     s2:water_percentage: 0.923441\r\n",
      "#     s2:unclassified_percentage: 0.545357\r\n",
      "#     s2:medium_proba_clouds_percentage: 9.353479\r\n",
      "#     s2:high_proba_clouds_percentage: 16.427162\r\n",
      "#     s2:thin_cirrus_percentage: 5.814227\r\n",
      "#     s2:snow_ice_percentage: 0.000163\r\n",
      "#     s2:product_type: S2MSI2A\r\n",
      "#     s2:processing_baseline: 05.10\r\n",
      "#     s2:product_uri: S2A_MSIL2A_20240422T155821_N0510_R097_T17SPV_20240422T232000.SAFE\r\n",
      "#     s2:generation_time: 2024-04-22T23:20:00.000000Z\r\n",
      "#     s2:datatake_id: GS2A_20240422T155821_046140_N05.10\r\n",
      "#     s2:datatake_type: INS-NOBS\r\n",
      "#     s2:datastrip_id: S2A_OPER_MSI_L2A_DS_2APS_20240422T232000_S20240422T161127_N05.10\r\n",
      "#     s2:granule_id: S2A_OPER_MSI_L2A_TL_2APS_20240422T232000_A046140_T17SPV_N05.10\r\n",
      "#     s2:reflectance_conversion_factor: 0.991774965335244\r\n",
      "#     datetime: 2024-04-22T16:13:29.231000Z\r\n",
      "#     s2:sequence: 0\r\n",
      "#     earthsearch:s3_path: s3://sentinel-cogs/sentinel-s2-l2a-cogs/17/S/PV/2024/4/S2A_17SPV_20240422_0_L2A\r\n",
      "#     earthsearch:payload_id: roda-sentinel2/workflow-sentinel2-to-stac/a3721b4f648e818920dfaa833bbf6064\r\n",
      "#     earthsearch:boa_offset_applied: True\r\n",
      "---------------------------------------------------------------------------\r\n",
      "\r\n",
      "     processing:software:\r\n",
      "#         sentinel2-to-stac: 0.1.1\r\n",
      "#     processing:software: {'sentinel2-to-stac': '0.1.1'}\r\n",
      "#     updated: 2024-04-23T02:23:43.837Z\r\n",
      "#     proj:code: EPSG:32617\r\n",
      "Collection ID: sentinel-2-l2a\r\n",
      "Item: S2B_17SPV_20240417_0_L2A\r\n",
      "Geometry: {'type': 'Polygon', 'coordinates': [[[-79.88850843890832, 36.1397316133374], [-79.9021350633042, 35.14992495410683], [-78.69735281151316, 35.13301555004904], [-78.66879673080497, 36.12219793572046], [-79.88850843890832, 36.1397316133374]]]}\r\n",
      "Bbox: [-79.9021350633042, 35.13301555004904, -78.66879673080497, 36.1397316133374]\r\n",
      "Datetime: 2024-04-17 16:13:27.286000+00:00\r\n",
      "Start Datetime not found.\r\n",
      "End Datetime not found.\r\n",
      "Extra Fields:\r\n",
      "---------------------------------------------------------------------------\r\n",
      "Extensions:\r\n",
      "---------------------------------------------------------------------------\r\n",
      "\thttps://stac-extensions.github.io/eo/v1.1.0/schema.json\r\n",
      "\thttps://stac-extensions.github.io/grid/v1.1.0/schema.json\r\n",
      "\thttps://stac-extensions.github.io/raster/v1.1.0/schema.json\r\n",
      "\thttps://stac-extensions.github.io/view/v1.0.0/schema.json\r\n",
      "\thttps://stac-extensions.github.io/processing/v1.1.0/schema.json\r\n",
      "\thttps://stac-extensions.github.io/projection/v2.0.0/schema.json\r\n",
      "\thttps://stac-extensions.github.io/mgrs/v1.0.0/schema.json\r\n",
      "---------------------------------------------------------------------------\r\n",
      "Properties:\r\n",
      "#     created: 2024-04-18T00:51:42.539Z\r\n",
      "#     platform: sentinel-2b\r\n",
      "#     constellation: sentinel-2\r\n",
      "---------------------------------------------------------------------------\r\n",
      "    instruments:\r\n",
      "#     eo:cloud_cover: 100\r\n",
      "#     mgrs:utm_zone: 17\r\n",
      "#     mgrs:latitude_band: S\r\n",
      "#     mgrs:grid_square: PV\r\n",
      "#     grid:code: MGRS-17SPV\r\n",
      "#     view:sun_azimuth: 146.162190051164\r\n",
      "#     view:sun_elevation: 61.3455453771872\r\n",
      "#     s2:degraded_msi_data_percentage: 0.0031\r\n",
      "#     s2:nodata_pixel_percentage: 0\r\n",
      "#     s2:saturated_defective_pixel_percentage: 0\r\n",
      "#     s2:dark_features_percentage: 0\r\n",
      "#     s2:cloud_shadow_percentage: 0\r\n",
      "#     s2:vegetation_percentage: 0\r\n",
      "#     s2:not_vegetated_percentage: 0\r\n",
      "#     s2:water_percentage: 0\r\n",
      "#     s2:unclassified_percentage: 0\r\n",
      "#     s2:medium_proba_clouds_percentage: 69.701403\r\n",
      "#     s2:high_proba_clouds_percentage: 30.298603\r\n",
      "#     s2:thin_cirrus_percentage: 0\r\n",
      "#     s2:snow_ice_percentage: 0\r\n",
      "#     s2:product_type: S2MSI2A\r\n",
      "#     s2:processing_baseline: 05.10\r\n",
      "#     s2:product_uri: S2B_MSIL2A_20240417T155819_N0510_R097_T17SPV_20240417T221800.SAFE\r\n",
      "#     s2:generation_time: 2024-04-17T22:18:00.000000Z\r\n",
      "#     s2:datatake_id: GS2B_20240417T155819_037160_N05.10\r\n",
      "#     s2:datatake_type: INS-NOBS\r\n",
      "#     s2:datastrip_id: S2B_OPER_MSI_L2A_DS_2BPS_20240417T221800_S20240417T160258_N05.10\r\n",
      "#     s2:granule_id: S2B_OPER_MSI_L2A_TL_2BPS_20240417T221800_A037160_T17SPV_N05.10\r\n",
      "#     s2:reflectance_conversion_factor: 0.994561472482675\r\n",
      "#     datetime: 2024-04-17T16:13:27.286000Z\r\n",
      "#     s2:sequence: 0\r\n",
      "#     earthsearch:s3_path: s3://sentinel-cogs/sentinel-s2-l2a-cogs/17/S/PV/2024/4/S2B_17SPV_20240417_0_L2A\r\n",
      "#     earthsearch:payload_id: roda-sentinel2/workflow-sentinel2-to-stac/b9a7bc6c7c275dd79172b8effca89461\r\n",
      "#     earthsearch:boa_offset_applied: True\r\n",
      "---------------------------------------------------------------------------\r\n",
      "\r\n",
      "     processing:software:\r\n",
      "#         sentinel2-to-stac: 0.1.1\r\n",
      "#     processing:software: {'sentinel2-to-stac': '0.1.1'}\r\n",
      "#     updated: 2024-04-18T00:51:42.539Z\r\n",
      "#     proj:code: EPSG:32617\r\n",
      "Collection ID: sentinel-2-l2a\r\n",
      "Item: S2A_17SPV_20240412_0_L2A\r\n",
      "Geometry: {'type': 'Polygon', 'coordinates': [[[-79.88850843890832, 36.1397316133374], [-79.9021350633042, 35.14992495410683], [-78.69735281151316, 35.13301555004904], [-78.66879673080497, 36.12219793572046], [-79.88850843890832, 36.1397316133374]]]}\r\n",
      "Bbox: [-79.9021350633042, 35.13301555004904, -78.66879673080497, 36.1397316133374]\r\n",
      "Datetime: 2024-04-12 16:13:27.651000+00:00\r\n",
      "Start Datetime not found.\r\n",
      "End Datetime not found.\r\n",
      "Extra Fields:\r\n",
      "---------------------------------------------------------------------------\r\n",
      "Extensions:\r\n",
      "---------------------------------------------------------------------------\r\n",
      "\thttps://stac-extensions.github.io/processing/v1.1.0/schema.json\r\n",
      "\thttps://stac-extensions.github.io/raster/v1.1.0/schema.json\r\n",
      "\thttps://stac-extensions.github.io/grid/v1.1.0/schema.json\r\n",
      "\thttps://stac-extensions.github.io/mgrs/v1.0.0/schema.json\r\n",
      "\thttps://stac-extensions.github.io/view/v1.0.0/schema.json\r\n",
      "\thttps://stac-extensions.github.io/projection/v2.0.0/schema.json\r\n",
      "\thttps://stac-extensions.github.io/eo/v1.1.0/schema.json\r\n",
      "---------------------------------------------------------------------------\r\n",
      "Properties:\r\n",
      "#     created: 2024-04-13T01:42:56.472Z\r\n",
      "#     platform: sentinel-2a\r\n",
      "#     constellation: sentinel-2\r\n",
      "---------------------------------------------------------------------------\r\n",
      "    instruments:\r\n",
      "#     eo:cloud_cover: 31.715456\r\n",
      "#     mgrs:utm_zone: 17\r\n",
      "#     mgrs:latitude_band: S\r\n",
      "#     mgrs:grid_square: PV\r\n",
      "#     grid:code: MGRS-17SPV\r\n",
      "#     view:sun_azimuth: 147.269940196506\r\n",
      "#     view:sun_elevation: 59.625132343664\r\n",
      "#     s2:degraded_msi_data_percentage: 0.0104\r\n",
      "#     s2:nodata_pixel_percentage: 0\r\n",
      "#     s2:saturated_defective_pixel_percentage: 0\r\n",
      "#     s2:dark_features_percentage: 0.153453\r\n",
      "#     s2:cloud_shadow_percentage: 12.679228\r\n",
      "#     s2:vegetation_percentage: 49.264008\r\n",
      "#     s2:not_vegetated_percentage: 4.988225\r\n",
      "#     s2:water_percentage: 0.656567\r\n",
      "#     s2:unclassified_percentage: 0.542805\r\n",
      "#     s2:medium_proba_clouds_percentage: 11.25274\r\n",
      "#     s2:high_proba_clouds_percentage: 17.18483\r\n",
      "#     s2:thin_cirrus_percentage: 3.277886\r\n",
      "#     s2:snow_ice_percentage: 0.000259\r\n",
      "#     s2:product_type: S2MSI2A\r\n",
      "#     s2:processing_baseline: 05.10\r\n",
      "#     s2:product_uri: S2A_MSIL2A_20240412T155901_N0510_R097_T17SPV_20240412T235553.SAFE\r\n",
      "#     s2:generation_time: 2024-04-12T23:55:53.000000Z\r\n",
      "#     s2:datatake_id: GS2A_20240412T155901_045997_N05.10\r\n",
      "#     s2:datatake_type: INS-NOBS\r\n",
      "#     s2:datastrip_id: S2A_OPER_MSI_L2A_DS_2APS_20240412T235553_S20240412T160211_N05.10\r\n",
      "#     s2:granule_id: S2A_OPER_MSI_L2A_TL_2APS_20240412T235553_A045997_T17SPV_N05.10\r\n",
      "#     s2:reflectance_conversion_factor: 0.997399653732186\r\n",
      "#     datetime: 2024-04-12T16:13:27.651000Z\r\n",
      "#     s2:sequence: 0\r\n",
      "#     earthsearch:s3_path: s3://sentinel-cogs/sentinel-s2-l2a-cogs/17/S/PV/2024/4/S2A_17SPV_20240412_0_L2A\r\n",
      "#     earthsearch:payload_id: roda-sentinel2/workflow-sentinel2-to-stac/ba25771a14d9292a3ef8f260e24c8ce5\r\n",
      "#     earthsearch:boa_offset_applied: True\r\n",
      "---------------------------------------------------------------------------\r\n",
      "\r\n",
      "     processing:software:\r\n",
      "#         sentinel2-to-stac: 0.1.1\r\n",
      "#     processing:software: {'sentinel2-to-stac': '0.1.1'}\r\n",
      "#     updated: 2024-04-13T01:42:56.472Z\r\n",
      "#     proj:code: EPSG:32617\r\n",
      "Collection ID: sentinel-2-l2a\r\n",
      "Item: S2B_17SPV_20240407_0_L2A\r\n",
      "Geometry: {'type': 'Polygon', 'coordinates': [[[-79.88850843890832, 36.1397316133374], [-79.9021350633042, 35.14992495410683], [-78.69735281151316, 35.13301555004904], [-78.66879673080497, 36.12219793572046], [-79.88850843890832, 36.1397316133374]]]}\r\n",
      "Bbox: [-79.9021350633042, 35.13301555004904, -78.66879673080497, 36.1397316133374]\r\n",
      "Datetime: 2024-04-07 16:13:25.177000+00:00\r\n",
      "Start Datetime not found.\r\n",
      "End Datetime not found.\r\n",
      "Extra Fields:\r\n",
      "---------------------------------------------------------------------------\r\n",
      "Extensions:\r\n",
      "---------------------------------------------------------------------------\r\n",
      "\thttps://stac-extensions.github.io/grid/v1.1.0/schema.json\r\n",
      "\thttps://stac-extensions.github.io/processing/v1.1.0/schema.json\r\n",
      "\thttps://stac-extensions.github.io/mgrs/v1.0.0/schema.json\r\n",
      "\thttps://stac-extensions.github.io/raster/v1.1.0/schema.json\r\n",
      "\thttps://stac-extensions.github.io/view/v1.0.0/schema.json\r\n",
      "\thttps://stac-extensions.github.io/projection/v2.0.0/schema.json\r\n",
      "\thttps://stac-extensions.github.io/eo/v1.1.0/schema.json\r\n",
      "---------------------------------------------------------------------------\r\n",
      "Properties:\r\n",
      "#     created: 2024-04-07T22:51:18.053Z\r\n",
      "#     platform: sentinel-2b\r\n",
      "#     constellation: sentinel-2\r\n",
      "---------------------------------------------------------------------------\r\n",
      "    instruments:\r\n",
      "#     eo:cloud_cover: 0.007223\r\n",
      "#     mgrs:utm_zone: 17\r\n",
      "#     mgrs:latitude_band: S\r\n",
      "#     mgrs:grid_square: PV\r\n",
      "#     grid:code: MGRS-17SPV\r\n",
      "#     view:sun_azimuth: 148.241587595963\r\n",
      "#     view:sun_elevation: 57.8193021287102\r\n",
      "#     s2:degraded_msi_data_percentage: 0.0024\r\n",
      "#     s2:nodata_pixel_percentage: 0\r\n",
      "#     s2:saturated_defective_pixel_percentage: 0\r\n",
      "#     s2:dark_features_percentage: 0.393997\r\n",
      "#     s2:cloud_shadow_percentage: 1e-05\r\n",
      "#     s2:vegetation_percentage: 84.631485\r\n",
      "#     s2:not_vegetated_percentage: 13.122594\r\n",
      "#     s2:water_percentage: 1.402112\r\n",
      "#     s2:unclassified_percentage: 0.442009\r\n",
      "#     s2:medium_proba_clouds_percentage: 0.000368\r\n",
      "#     s2:high_proba_clouds_percentage: 7.6e-05\r\n",
      "#     s2:thin_cirrus_percentage: 0.006778\r\n",
      "#     s2:snow_ice_percentage: 0.000571\r\n",
      "#     s2:product_type: S2MSI2A\r\n",
      "#     s2:processing_baseline: 05.10\r\n",
      "#     s2:product_uri: S2B_MSIL2A_20240407T155819_N0510_R097_T17SPV_20240407T202406.SAFE\r\n",
      "#     s2:generation_time: 2024-04-07T20:24:06.000000Z\r\n",
      "#     s2:datatake_id: GS2B_20240407T155819_037017_N05.10\r\n",
      "#     s2:datatake_type: INS-NOBS\r\n",
      "#     s2:datastrip_id: S2B_OPER_MSI_L2A_DS_2BPS_20240407T202406_S20240407T160426_N05.10\r\n",
      "#     s2:granule_id: S2B_OPER_MSI_L2A_TL_2BPS_20240407T202406_A037017_T17SPV_N05.10\r\n",
      "#     s2:reflectance_conversion_factor: 1.00026982268816\r\n",
      "#     datetime: 2024-04-07T16:13:25.177000Z\r\n",
      "#     s2:sequence: 0\r\n",
      "#     earthsearch:s3_path: s3://sentinel-cogs/sentinel-s2-l2a-cogs/17/S/PV/2024/4/S2B_17SPV_20240407_0_L2A\r\n",
      "#     earthsearch:payload_id: roda-sentinel2/workflow-sentinel2-to-stac/d9ae6b9fc4520f5ae2a33ffbab89ac25\r\n",
      "#     earthsearch:boa_offset_applied: True\r\n",
      "---------------------------------------------------------------------------\r\n",
      "\r\n",
      "     processing:software:\r\n",
      "#         sentinel2-to-stac: 0.1.1\r\n",
      "#     processing:software: {'sentinel2-to-stac': '0.1.1'}\r\n",
      "#     updated: 2024-04-07T22:51:18.053Z\r\n",
      "#     proj:code: EPSG:32617\r\n",
      "Collection ID: sentinel-2-l2a\r\n",
      "Item: S2A_17SPV_20240402_0_L2A\r\n",
      "Geometry: {'type': 'Polygon', 'coordinates': [[[-79.88850843890832, 36.1397316133374], [-79.9021350633042, 35.14992495410683], [-78.69735281151316, 35.13301555004904], [-78.66879673080497, 36.12219793572046], [-79.88850843890832, 36.1397316133374]]]}\r\n",
      "Bbox: [-79.9021350633042, 35.13301555004904, -78.66879673080497, 36.1397316133374]\r\n",
      "Datetime: 2024-04-02 16:13:24.212000+00:00\r\n",
      "Start Datetime not found.\r\n",
      "End Datetime not found.\r\n",
      "Extra Fields:\r\n",
      "---------------------------------------------------------------------------\r\n",
      "Extensions:\r\n",
      "---------------------------------------------------------------------------\r\n",
      "\thttps://stac-extensions.github.io/mgrs/v1.0.0/schema.json\r\n",
      "\thttps://stac-extensions.github.io/processing/v1.1.0/schema.json\r\n",
      "\thttps://stac-extensions.github.io/projection/v2.0.0/schema.json\r\n",
      "\thttps://stac-extensions.github.io/grid/v1.1.0/schema.json\r\n",
      "\thttps://stac-extensions.github.io/raster/v1.1.0/schema.json\r\n",
      "\thttps://stac-extensions.github.io/eo/v1.1.0/schema.json\r\n",
      "\thttps://stac-extensions.github.io/view/v1.0.0/schema.json\r\n",
      "---------------------------------------------------------------------------\r\n",
      "Properties:\r\n",
      "#     created: 2024-04-03T02:43:18.525Z\r\n",
      "#     platform: sentinel-2a\r\n",
      "#     constellation: sentinel-2\r\n",
      "---------------------------------------------------------------------------\r\n",
      "    instruments:\r\n",
      "#     eo:cloud_cover: 52.194571\r\n",
      "#     mgrs:utm_zone: 17\r\n",
      "#     mgrs:latitude_band: S\r\n",
      "#     mgrs:grid_square: PV\r\n",
      "#     grid:code: MGRS-17SPV\r\n",
      "#     view:sun_azimuth: 149.123391641051\r\n",
      "#     view:sun_elevation: 55.9520519703372\r\n",
      "#     s2:degraded_msi_data_percentage: 0.0067\r\n",
      "#     s2:nodata_pixel_percentage: 0\r\n",
      "#     s2:saturated_defective_pixel_percentage: 0\r\n",
      "#     s2:dark_features_percentage: 0.222265\r\n",
      "#     s2:cloud_shadow_percentage: 0.681242\r\n",
      "#     s2:vegetation_percentage: 32.632047\r\n",
      "#     s2:not_vegetated_percentage: 13.082658\r\n",
      "#     s2:water_percentage: 0.269024\r\n",
      "#     s2:unclassified_percentage: 0.918192\r\n",
      "#     s2:medium_proba_clouds_percentage: 14.986324\r\n",
      "#     s2:high_proba_clouds_percentage: 16.081516\r\n",
      "#     s2:thin_cirrus_percentage: 21.126732\r\n",
      "#     s2:snow_ice_percentage: 0\r\n",
      "#     s2:product_type: S2MSI2A\r\n",
      "#     s2:processing_baseline: 05.10\r\n",
      "#     s2:product_uri: S2A_MSIL2A_20240402T155821_N0510_R097_T17SPV_20240402T235145.SAFE\r\n",
      "#     s2:generation_time: 2024-04-02T23:51:45.000000Z\r\n",
      "#     s2:datatake_id: GS2A_20240402T155821_045854_N05.10\r\n",
      "#     s2:datatake_type: INS-NOBS\r\n",
      "#     s2:datastrip_id: S2A_OPER_MSI_L2A_DS_2APS_20240402T235145_S20240402T160459_N05.10\r\n",
      "#     s2:granule_id: S2A_OPER_MSI_L2A_TL_2APS_20240402T235145_A045854_T17SPV_N05.10\r\n",
      "#     s2:reflectance_conversion_factor: 1.00315010154664\r\n",
      "#     datetime: 2024-04-02T16:13:24.212000Z\r\n",
      "#     s2:sequence: 0\r\n",
      "#     earthsearch:s3_path: s3://sentinel-cogs/sentinel-s2-l2a-cogs/17/S/PV/2024/4/S2A_17SPV_20240402_0_L2A\r\n",
      "#     earthsearch:payload_id: roda-sentinel2/workflow-sentinel2-to-stac/3dac5288c179d121cc299fcd6cffcc5b\r\n",
      "#     earthsearch:boa_offset_applied: True\r\n",
      "---------------------------------------------------------------------------\r\n",
      "\r\n",
      "     processing:software:\r\n",
      "#         sentinel2-to-stac: 0.1.1\r\n",
      "#     processing:software: {'sentinel2-to-stac': '0.1.1'}\r\n",
      "#     updated: 2024-04-03T02:43:18.525Z\r\n",
      "#     proj:code: EPSG:32617\r\n"
     ]
    }
   ],
   "source": [
    "#| label: tbl-stac-items-i-shell\n",
    "#| echo: true\n",
    "#| eval: true\n",
    "#| include: true\n",
    "#| output: true\n",
    "!t.stac.item url={stac_url} collection_id=\"sentinel-2-l2a\" datetime=\"2024-04-01/2024-09-30\" format=plain -i"
   ]
  },
  {
   "cell_type": "markdown",
   "id": "59b1dfca",
   "metadata": {},
   "source": [
    ":::"
   ]
  },
  {
   "cell_type": "code",
   "execution_count": 15,
   "id": "f7022f16",
   "metadata": {},
   "outputs": [
    {
     "name": "stdout",
     "output_type": "stream",
     "text": [
      "There are 38 Sentinel 2 items found in our computational region.\n"
     ]
    }
   ],
   "source": [
    "# | echo: false\n",
    "# | eval: true\n",
    "# | include: true\n",
    "# | output: true\n",
    "\n",
    "num_items = len(df_items)\n",
    "# Can't use inline python with using Jupyter cache\n",
    "print(f\"There are {num_items} Sentinel 2 items found in our computational region.\")"
   ]
  },
  {
   "cell_type": "markdown",
   "id": "f245f52f",
   "metadata": {},
   "source": [
    "Let's look closer at the properties of item id `S2A_17SPV_20240919_0_L2A`."
   ]
  },
  {
   "cell_type": "code",
   "execution_count": 16,
   "id": "4c6405f6",
   "metadata": {},
   "outputs": [
    {
     "data": {
      "text/html": [
       "<div>\n",
       "<style scoped>\n",
       "    .dataframe tbody tr th:only-of-type {\n",
       "        vertical-align: middle;\n",
       "    }\n",
       "\n",
       "    .dataframe tbody tr th {\n",
       "        vertical-align: top;\n",
       "    }\n",
       "\n",
       "    .dataframe thead th {\n",
       "        text-align: right;\n",
       "    }\n",
       "</style>\n",
       "<table border=\"1\" class=\"dataframe\">\n",
       "  <thead>\n",
       "    <tr style=\"text-align: right;\">\n",
       "      <th></th>\n",
       "      <th>2</th>\n",
       "    </tr>\n",
       "  </thead>\n",
       "  <tbody>\n",
       "    <tr>\n",
       "      <th>type</th>\n",
       "      <td>Feature</td>\n",
       "    </tr>\n",
       "    <tr>\n",
       "      <th>stac_version</th>\n",
       "      <td>1.1.0</td>\n",
       "    </tr>\n",
       "    <tr>\n",
       "      <th>stac_extensions</th>\n",
       "      <td>[https://stac-extensions.github.io/view/v1.0.0...</td>\n",
       "    </tr>\n",
       "    <tr>\n",
       "      <th>id</th>\n",
       "      <td>S2A_17SPV_20240919_0_L2A</td>\n",
       "    </tr>\n",
       "    <tr>\n",
       "      <th>geometry</th>\n",
       "      <td>{'type': 'Polygon', 'coordinates': [[[-79.8885...</td>\n",
       "    </tr>\n",
       "    <tr>\n",
       "      <th>bbox</th>\n",
       "      <td>[-79.9021350633042, 35.13301555004904, -78.668...</td>\n",
       "    </tr>\n",
       "    <tr>\n",
       "      <th>links</th>\n",
       "      <td>[{'rel': 'self', 'href': 'https://earth-search...</td>\n",
       "    </tr>\n",
       "    <tr>\n",
       "      <th>assets</th>\n",
       "      <td>{'aot': {'href': 'https://sentinel-cogs.s3.us-...</td>\n",
       "    </tr>\n",
       "    <tr>\n",
       "      <th>collection</th>\n",
       "      <td>sentinel-2-l2a</td>\n",
       "    </tr>\n",
       "    <tr>\n",
       "      <th>created</th>\n",
       "      <td>2024-09-20T01:57:52.703Z</td>\n",
       "    </tr>\n",
       "    <tr>\n",
       "      <th>platform</th>\n",
       "      <td>sentinel-2a</td>\n",
       "    </tr>\n",
       "    <tr>\n",
       "      <th>constellation</th>\n",
       "      <td>sentinel-2</td>\n",
       "    </tr>\n",
       "    <tr>\n",
       "      <th>instruments</th>\n",
       "      <td>[msi]</td>\n",
       "    </tr>\n",
       "    <tr>\n",
       "      <th>eo:cloud_cover</th>\n",
       "      <td>72.722346</td>\n",
       "    </tr>\n",
       "    <tr>\n",
       "      <th>mgrs:utm_zone</th>\n",
       "      <td>17</td>\n",
       "    </tr>\n",
       "    <tr>\n",
       "      <th>mgrs:latitude_band</th>\n",
       "      <td>S</td>\n",
       "    </tr>\n",
       "    <tr>\n",
       "      <th>mgrs:grid_square</th>\n",
       "      <td>PV</td>\n",
       "    </tr>\n",
       "    <tr>\n",
       "      <th>grid:code</th>\n",
       "      <td>MGRS-17SPV</td>\n",
       "    </tr>\n",
       "    <tr>\n",
       "      <th>view:sun_azimuth</th>\n",
       "      <td>155.767672</td>\n",
       "    </tr>\n",
       "    <tr>\n",
       "      <th>view:sun_elevation</th>\n",
       "      <td>52.998454</td>\n",
       "    </tr>\n",
       "    <tr>\n",
       "      <th>s2:degraded_msi_data_percentage</th>\n",
       "      <td>0.0622</td>\n",
       "    </tr>\n",
       "    <tr>\n",
       "      <th>s2:nodata_pixel_percentage</th>\n",
       "      <td>0</td>\n",
       "    </tr>\n",
       "    <tr>\n",
       "      <th>s2:saturated_defective_pixel_percentage</th>\n",
       "      <td>0</td>\n",
       "    </tr>\n",
       "    <tr>\n",
       "      <th>s2:cloud_shadow_percentage</th>\n",
       "      <td>2.901951</td>\n",
       "    </tr>\n",
       "    <tr>\n",
       "      <th>s2:vegetation_percentage</th>\n",
       "      <td>17.622864</td>\n",
       "    </tr>\n",
       "    <tr>\n",
       "      <th>s2:not_vegetated_percentage</th>\n",
       "      <td>2.652742</td>\n",
       "    </tr>\n",
       "    <tr>\n",
       "      <th>s2:water_percentage</th>\n",
       "      <td>0.198822</td>\n",
       "    </tr>\n",
       "    <tr>\n",
       "      <th>s2:unclassified_percentage</th>\n",
       "      <td>3.66454</td>\n",
       "    </tr>\n",
       "    <tr>\n",
       "      <th>s2:medium_proba_clouds_percentage</th>\n",
       "      <td>19.171326</td>\n",
       "    </tr>\n",
       "    <tr>\n",
       "      <th>s2:high_proba_clouds_percentage</th>\n",
       "      <td>53.275347</td>\n",
       "    </tr>\n",
       "    <tr>\n",
       "      <th>s2:thin_cirrus_percentage</th>\n",
       "      <td>0.275673</td>\n",
       "    </tr>\n",
       "    <tr>\n",
       "      <th>s2:snow_ice_percentage</th>\n",
       "      <td>0</td>\n",
       "    </tr>\n",
       "    <tr>\n",
       "      <th>s2:product_type</th>\n",
       "      <td>S2MSI2A</td>\n",
       "    </tr>\n",
       "    <tr>\n",
       "      <th>s2:processing_baseline</th>\n",
       "      <td>05.11</td>\n",
       "    </tr>\n",
       "    <tr>\n",
       "      <th>s2:product_uri</th>\n",
       "      <td>S2A_MSIL2A_20240919T155931_N0511_R097_T17SPV_2...</td>\n",
       "    </tr>\n",
       "    <tr>\n",
       "      <th>s2:generation_time</th>\n",
       "      <td>2024-09-19T23:53:48.000000Z</td>\n",
       "    </tr>\n",
       "    <tr>\n",
       "      <th>s2:datatake_id</th>\n",
       "      <td>GS2A_20240919T155931_048285_N05.11</td>\n",
       "    </tr>\n",
       "    <tr>\n",
       "      <th>s2:datatake_type</th>\n",
       "      <td>INS-NOBS</td>\n",
       "    </tr>\n",
       "    <tr>\n",
       "      <th>s2:datastrip_id</th>\n",
       "      <td>S2A_OPER_MSI_L2A_DS_2APS_20240919T235348_S2024...</td>\n",
       "    </tr>\n",
       "    <tr>\n",
       "      <th>s2:granule_id</th>\n",
       "      <td>S2A_OPER_MSI_L2A_TL_2APS_20240919T235348_A0482...</td>\n",
       "    </tr>\n",
       "    <tr>\n",
       "      <th>s2:reflectance_conversion_factor</th>\n",
       "      <td>0.989819</td>\n",
       "    </tr>\n",
       "    <tr>\n",
       "      <th>datetime</th>\n",
       "      <td>2024-09-19T16:13:27.093000Z</td>\n",
       "    </tr>\n",
       "    <tr>\n",
       "      <th>s2:sequence</th>\n",
       "      <td>0</td>\n",
       "    </tr>\n",
       "    <tr>\n",
       "      <th>earthsearch:s3_path</th>\n",
       "      <td>s3://sentinel-cogs/sentinel-s2-l2a-cogs/17/S/P...</td>\n",
       "    </tr>\n",
       "    <tr>\n",
       "      <th>earthsearch:payload_id</th>\n",
       "      <td>roda-sentinel2/workflow-sentinel2-to-stac/15f0...</td>\n",
       "    </tr>\n",
       "    <tr>\n",
       "      <th>earthsearch:boa_offset_applied</th>\n",
       "      <td>True</td>\n",
       "    </tr>\n",
       "    <tr>\n",
       "      <th>processing:software</th>\n",
       "      <td>{'sentinel2-to-stac': '0.1.1'}</td>\n",
       "    </tr>\n",
       "    <tr>\n",
       "      <th>updated</th>\n",
       "      <td>2024-09-20T01:57:52.703Z</td>\n",
       "    </tr>\n",
       "    <tr>\n",
       "      <th>proj:code</th>\n",
       "      <td>EPSG:32617</td>\n",
       "    </tr>\n",
       "  </tbody>\n",
       "</table>\n",
       "</div>"
      ],
      "text/plain": [
       "                                                                                         2\n",
       "type                                                                               Feature\n",
       "stac_version                                                                         1.1.0\n",
       "stac_extensions                          [https://stac-extensions.github.io/view/v1.0.0...\n",
       "id                                                                S2A_17SPV_20240919_0_L2A\n",
       "geometry                                 {'type': 'Polygon', 'coordinates': [[[-79.8885...\n",
       "bbox                                     [-79.9021350633042, 35.13301555004904, -78.668...\n",
       "links                                    [{'rel': 'self', 'href': 'https://earth-search...\n",
       "assets                                   {'aot': {'href': 'https://sentinel-cogs.s3.us-...\n",
       "collection                                                                  sentinel-2-l2a\n",
       "created                                                           2024-09-20T01:57:52.703Z\n",
       "platform                                                                       sentinel-2a\n",
       "constellation                                                                   sentinel-2\n",
       "instruments                                                                          [msi]\n",
       "eo:cloud_cover                                                                   72.722346\n",
       "mgrs:utm_zone                                                                           17\n",
       "mgrs:latitude_band                                                                       S\n",
       "mgrs:grid_square                                                                        PV\n",
       "grid:code                                                                       MGRS-17SPV\n",
       "view:sun_azimuth                                                                155.767672\n",
       "view:sun_elevation                                                               52.998454\n",
       "s2:degraded_msi_data_percentage                                                     0.0622\n",
       "s2:nodata_pixel_percentage                                                               0\n",
       "s2:saturated_defective_pixel_percentage                                                  0\n",
       "s2:cloud_shadow_percentage                                                        2.901951\n",
       "s2:vegetation_percentage                                                         17.622864\n",
       "s2:not_vegetated_percentage                                                       2.652742\n",
       "s2:water_percentage                                                               0.198822\n",
       "s2:unclassified_percentage                                                         3.66454\n",
       "s2:medium_proba_clouds_percentage                                                19.171326\n",
       "s2:high_proba_clouds_percentage                                                  53.275347\n",
       "s2:thin_cirrus_percentage                                                         0.275673\n",
       "s2:snow_ice_percentage                                                                   0\n",
       "s2:product_type                                                                    S2MSI2A\n",
       "s2:processing_baseline                                                               05.11\n",
       "s2:product_uri                           S2A_MSIL2A_20240919T155931_N0511_R097_T17SPV_2...\n",
       "s2:generation_time                                             2024-09-19T23:53:48.000000Z\n",
       "s2:datatake_id                                          GS2A_20240919T155931_048285_N05.11\n",
       "s2:datatake_type                                                                  INS-NOBS\n",
       "s2:datastrip_id                          S2A_OPER_MSI_L2A_DS_2APS_20240919T235348_S2024...\n",
       "s2:granule_id                            S2A_OPER_MSI_L2A_TL_2APS_20240919T235348_A0482...\n",
       "s2:reflectance_conversion_factor                                                  0.989819\n",
       "datetime                                                       2024-09-19T16:13:27.093000Z\n",
       "s2:sequence                                                                              0\n",
       "earthsearch:s3_path                      s3://sentinel-cogs/sentinel-s2-l2a-cogs/17/S/P...\n",
       "earthsearch:payload_id                   roda-sentinel2/workflow-sentinel2-to-stac/15f0...\n",
       "earthsearch:boa_offset_applied                                                        True\n",
       "processing:software                                         {'sentinel2-to-stac': '0.1.1'}\n",
       "updated                                                           2024-09-20T01:57:52.703Z\n",
       "proj:code                                                                       EPSG:32617"
      ]
     },
     "metadata": {},
     "output_type": "display_data"
    }
   ],
   "source": [
    "# | echo: true\n",
    "# | eval: true\n",
    "# | include: true\n",
    "# | output: true\n",
    "\n",
    "df_item = df_items.query(\"id == 'S2A_17SPV_20240919_0_L2A'\")\n",
    "df_properties = df_item[\"properties\"].apply(pd.Series)\n",
    "df_item = pd.concat([df_item, df_properties], axis=1)\n",
    "df_item = df_item.drop(\"properties\", axis=1)\n",
    "display(df_item.T)"
   ]
  },
  {
   "cell_type": "markdown",
   "id": "be5cb0ea",
   "metadata": {},
   "source": [
    "Let's look at the items properties"
   ]
  },
  {
   "cell_type": "code",
   "execution_count": 17,
   "id": "fd811788",
   "metadata": {},
   "outputs": [
    {
     "data": {
      "text/html": [
       "<div>\n",
       "<style scoped>\n",
       "    .dataframe tbody tr th:only-of-type {\n",
       "        vertical-align: middle;\n",
       "    }\n",
       "\n",
       "    .dataframe tbody tr th {\n",
       "        vertical-align: top;\n",
       "    }\n",
       "\n",
       "    .dataframe thead th {\n",
       "        text-align: right;\n",
       "    }\n",
       "</style>\n",
       "<table border=\"1\" class=\"dataframe\">\n",
       "  <thead>\n",
       "    <tr style=\"text-align: right;\">\n",
       "      <th></th>\n",
       "      <th>2</th>\n",
       "    </tr>\n",
       "  </thead>\n",
       "  <tbody>\n",
       "    <tr>\n",
       "      <th>created</th>\n",
       "      <td>2024-09-20T01:57:52.703Z</td>\n",
       "    </tr>\n",
       "    <tr>\n",
       "      <th>platform</th>\n",
       "      <td>sentinel-2a</td>\n",
       "    </tr>\n",
       "    <tr>\n",
       "      <th>constellation</th>\n",
       "      <td>sentinel-2</td>\n",
       "    </tr>\n",
       "    <tr>\n",
       "      <th>instruments</th>\n",
       "      <td>[msi]</td>\n",
       "    </tr>\n",
       "    <tr>\n",
       "      <th>eo:cloud_cover</th>\n",
       "      <td>72.722346</td>\n",
       "    </tr>\n",
       "    <tr>\n",
       "      <th>mgrs:utm_zone</th>\n",
       "      <td>17</td>\n",
       "    </tr>\n",
       "    <tr>\n",
       "      <th>mgrs:latitude_band</th>\n",
       "      <td>S</td>\n",
       "    </tr>\n",
       "    <tr>\n",
       "      <th>mgrs:grid_square</th>\n",
       "      <td>PV</td>\n",
       "    </tr>\n",
       "    <tr>\n",
       "      <th>grid:code</th>\n",
       "      <td>MGRS-17SPV</td>\n",
       "    </tr>\n",
       "    <tr>\n",
       "      <th>view:sun_azimuth</th>\n",
       "      <td>155.767672</td>\n",
       "    </tr>\n",
       "    <tr>\n",
       "      <th>view:sun_elevation</th>\n",
       "      <td>52.998454</td>\n",
       "    </tr>\n",
       "    <tr>\n",
       "      <th>s2:degraded_msi_data_percentage</th>\n",
       "      <td>0.0622</td>\n",
       "    </tr>\n",
       "    <tr>\n",
       "      <th>s2:nodata_pixel_percentage</th>\n",
       "      <td>0</td>\n",
       "    </tr>\n",
       "    <tr>\n",
       "      <th>s2:saturated_defective_pixel_percentage</th>\n",
       "      <td>0</td>\n",
       "    </tr>\n",
       "    <tr>\n",
       "      <th>s2:cloud_shadow_percentage</th>\n",
       "      <td>2.901951</td>\n",
       "    </tr>\n",
       "    <tr>\n",
       "      <th>s2:vegetation_percentage</th>\n",
       "      <td>17.622864</td>\n",
       "    </tr>\n",
       "    <tr>\n",
       "      <th>s2:not_vegetated_percentage</th>\n",
       "      <td>2.652742</td>\n",
       "    </tr>\n",
       "    <tr>\n",
       "      <th>s2:water_percentage</th>\n",
       "      <td>0.198822</td>\n",
       "    </tr>\n",
       "    <tr>\n",
       "      <th>s2:unclassified_percentage</th>\n",
       "      <td>3.66454</td>\n",
       "    </tr>\n",
       "    <tr>\n",
       "      <th>s2:medium_proba_clouds_percentage</th>\n",
       "      <td>19.171326</td>\n",
       "    </tr>\n",
       "    <tr>\n",
       "      <th>s2:high_proba_clouds_percentage</th>\n",
       "      <td>53.275347</td>\n",
       "    </tr>\n",
       "    <tr>\n",
       "      <th>s2:thin_cirrus_percentage</th>\n",
       "      <td>0.275673</td>\n",
       "    </tr>\n",
       "    <tr>\n",
       "      <th>s2:snow_ice_percentage</th>\n",
       "      <td>0</td>\n",
       "    </tr>\n",
       "    <tr>\n",
       "      <th>s2:product_type</th>\n",
       "      <td>S2MSI2A</td>\n",
       "    </tr>\n",
       "    <tr>\n",
       "      <th>s2:processing_baseline</th>\n",
       "      <td>05.11</td>\n",
       "    </tr>\n",
       "    <tr>\n",
       "      <th>s2:product_uri</th>\n",
       "      <td>S2A_MSIL2A_20240919T155931_N0511_R097_T17SPV_2...</td>\n",
       "    </tr>\n",
       "    <tr>\n",
       "      <th>s2:generation_time</th>\n",
       "      <td>2024-09-19T23:53:48.000000Z</td>\n",
       "    </tr>\n",
       "    <tr>\n",
       "      <th>s2:datatake_id</th>\n",
       "      <td>GS2A_20240919T155931_048285_N05.11</td>\n",
       "    </tr>\n",
       "    <tr>\n",
       "      <th>s2:datatake_type</th>\n",
       "      <td>INS-NOBS</td>\n",
       "    </tr>\n",
       "    <tr>\n",
       "      <th>s2:datastrip_id</th>\n",
       "      <td>S2A_OPER_MSI_L2A_DS_2APS_20240919T235348_S2024...</td>\n",
       "    </tr>\n",
       "    <tr>\n",
       "      <th>s2:granule_id</th>\n",
       "      <td>S2A_OPER_MSI_L2A_TL_2APS_20240919T235348_A0482...</td>\n",
       "    </tr>\n",
       "    <tr>\n",
       "      <th>s2:reflectance_conversion_factor</th>\n",
       "      <td>0.989819</td>\n",
       "    </tr>\n",
       "    <tr>\n",
       "      <th>datetime</th>\n",
       "      <td>2024-09-19T16:13:27.093000Z</td>\n",
       "    </tr>\n",
       "    <tr>\n",
       "      <th>s2:sequence</th>\n",
       "      <td>0</td>\n",
       "    </tr>\n",
       "    <tr>\n",
       "      <th>earthsearch:s3_path</th>\n",
       "      <td>s3://sentinel-cogs/sentinel-s2-l2a-cogs/17/S/P...</td>\n",
       "    </tr>\n",
       "    <tr>\n",
       "      <th>earthsearch:payload_id</th>\n",
       "      <td>roda-sentinel2/workflow-sentinel2-to-stac/15f0...</td>\n",
       "    </tr>\n",
       "    <tr>\n",
       "      <th>earthsearch:boa_offset_applied</th>\n",
       "      <td>True</td>\n",
       "    </tr>\n",
       "    <tr>\n",
       "      <th>processing:software</th>\n",
       "      <td>{'sentinel2-to-stac': '0.1.1'}</td>\n",
       "    </tr>\n",
       "    <tr>\n",
       "      <th>updated</th>\n",
       "      <td>2024-09-20T01:57:52.703Z</td>\n",
       "    </tr>\n",
       "    <tr>\n",
       "      <th>proj:code</th>\n",
       "      <td>EPSG:32617</td>\n",
       "    </tr>\n",
       "  </tbody>\n",
       "</table>\n",
       "</div>"
      ],
      "text/plain": [
       "                                                                                         2\n",
       "created                                                           2024-09-20T01:57:52.703Z\n",
       "platform                                                                       sentinel-2a\n",
       "constellation                                                                   sentinel-2\n",
       "instruments                                                                          [msi]\n",
       "eo:cloud_cover                                                                   72.722346\n",
       "mgrs:utm_zone                                                                           17\n",
       "mgrs:latitude_band                                                                       S\n",
       "mgrs:grid_square                                                                        PV\n",
       "grid:code                                                                       MGRS-17SPV\n",
       "view:sun_azimuth                                                                155.767672\n",
       "view:sun_elevation                                                               52.998454\n",
       "s2:degraded_msi_data_percentage                                                     0.0622\n",
       "s2:nodata_pixel_percentage                                                               0\n",
       "s2:saturated_defective_pixel_percentage                                                  0\n",
       "s2:cloud_shadow_percentage                                                        2.901951\n",
       "s2:vegetation_percentage                                                         17.622864\n",
       "s2:not_vegetated_percentage                                                       2.652742\n",
       "s2:water_percentage                                                               0.198822\n",
       "s2:unclassified_percentage                                                         3.66454\n",
       "s2:medium_proba_clouds_percentage                                                19.171326\n",
       "s2:high_proba_clouds_percentage                                                  53.275347\n",
       "s2:thin_cirrus_percentage                                                         0.275673\n",
       "s2:snow_ice_percentage                                                                   0\n",
       "s2:product_type                                                                    S2MSI2A\n",
       "s2:processing_baseline                                                               05.11\n",
       "s2:product_uri                           S2A_MSIL2A_20240919T155931_N0511_R097_T17SPV_2...\n",
       "s2:generation_time                                             2024-09-19T23:53:48.000000Z\n",
       "s2:datatake_id                                          GS2A_20240919T155931_048285_N05.11\n",
       "s2:datatake_type                                                                  INS-NOBS\n",
       "s2:datastrip_id                          S2A_OPER_MSI_L2A_DS_2APS_20240919T235348_S2024...\n",
       "s2:granule_id                            S2A_OPER_MSI_L2A_TL_2APS_20240919T235348_A0482...\n",
       "s2:reflectance_conversion_factor                                                  0.989819\n",
       "datetime                                                       2024-09-19T16:13:27.093000Z\n",
       "s2:sequence                                                                              0\n",
       "earthsearch:s3_path                      s3://sentinel-cogs/sentinel-s2-l2a-cogs/17/S/P...\n",
       "earthsearch:payload_id                   roda-sentinel2/workflow-sentinel2-to-stac/15f0...\n",
       "earthsearch:boa_offset_applied                                                        True\n",
       "processing:software                                         {'sentinel2-to-stac': '0.1.1'}\n",
       "updated                                                           2024-09-20T01:57:52.703Z\n",
       "proj:code                                                                       EPSG:32617"
      ]
     },
     "metadata": {},
     "output_type": "display_data"
    }
   ],
   "source": [
    "# | echo: true\n",
    "# | eval: true\n",
    "# | include: true\n",
    "# | output: true\n",
    "df_item = df_items.query(\"id == 'S2A_17SPV_20240919_0_L2A'\")\n",
    "df_properties = df_item[\"properties\"].apply(pd.Series)\n",
    "display(df_properties.T)"
   ]
  },
  {
   "cell_type": "markdown",
   "id": "ee6e56ad",
   "metadata": {},
   "source": [
    "Now we let's look at the items assets."
   ]
  },
  {
   "cell_type": "code",
   "execution_count": 18,
   "id": "b61c8d38",
   "metadata": {},
   "outputs": [
    {
     "data": {
      "text/html": [
       "<div>\n",
       "<style scoped>\n",
       "    .dataframe tbody tr th:only-of-type {\n",
       "        vertical-align: middle;\n",
       "    }\n",
       "\n",
       "    .dataframe tbody tr th {\n",
       "        vertical-align: top;\n",
       "    }\n",
       "\n",
       "    .dataframe thead th {\n",
       "        text-align: right;\n",
       "    }\n",
       "</style>\n",
       "<table border=\"1\" class=\"dataframe\">\n",
       "  <thead>\n",
       "    <tr style=\"text-align: right;\">\n",
       "      <th></th>\n",
       "      <th>index</th>\n",
       "      <th>2</th>\n",
       "    </tr>\n",
       "  </thead>\n",
       "  <tbody>\n",
       "    <tr>\n",
       "      <th>0</th>\n",
       "      <td>aot</td>\n",
       "      <td>{'href': 'https://sentinel-cogs.s3.us-west-2.a...</td>\n",
       "    </tr>\n",
       "    <tr>\n",
       "      <th>1</th>\n",
       "      <td>blue</td>\n",
       "      <td>{'href': 'https://sentinel-cogs.s3.us-west-2.a...</td>\n",
       "    </tr>\n",
       "    <tr>\n",
       "      <th>2</th>\n",
       "      <td>coastal</td>\n",
       "      <td>{'href': 'https://sentinel-cogs.s3.us-west-2.a...</td>\n",
       "    </tr>\n",
       "    <tr>\n",
       "      <th>3</th>\n",
       "      <td>granule_metadata</td>\n",
       "      <td>{'href': 'https://sentinel-cogs.s3.us-west-2.a...</td>\n",
       "    </tr>\n",
       "    <tr>\n",
       "      <th>4</th>\n",
       "      <td>green</td>\n",
       "      <td>{'href': 'https://sentinel-cogs.s3.us-west-2.a...</td>\n",
       "    </tr>\n",
       "    <tr>\n",
       "      <th>5</th>\n",
       "      <td>nir</td>\n",
       "      <td>{'href': 'https://sentinel-cogs.s3.us-west-2.a...</td>\n",
       "    </tr>\n",
       "    <tr>\n",
       "      <th>6</th>\n",
       "      <td>nir08</td>\n",
       "      <td>{'href': 'https://sentinel-cogs.s3.us-west-2.a...</td>\n",
       "    </tr>\n",
       "    <tr>\n",
       "      <th>7</th>\n",
       "      <td>nir09</td>\n",
       "      <td>{'href': 'https://sentinel-cogs.s3.us-west-2.a...</td>\n",
       "    </tr>\n",
       "    <tr>\n",
       "      <th>8</th>\n",
       "      <td>red</td>\n",
       "      <td>{'href': 'https://sentinel-cogs.s3.us-west-2.a...</td>\n",
       "    </tr>\n",
       "    <tr>\n",
       "      <th>9</th>\n",
       "      <td>rededge1</td>\n",
       "      <td>{'href': 'https://sentinel-cogs.s3.us-west-2.a...</td>\n",
       "    </tr>\n",
       "    <tr>\n",
       "      <th>10</th>\n",
       "      <td>rededge2</td>\n",
       "      <td>{'href': 'https://sentinel-cogs.s3.us-west-2.a...</td>\n",
       "    </tr>\n",
       "    <tr>\n",
       "      <th>11</th>\n",
       "      <td>rededge3</td>\n",
       "      <td>{'href': 'https://sentinel-cogs.s3.us-west-2.a...</td>\n",
       "    </tr>\n",
       "    <tr>\n",
       "      <th>12</th>\n",
       "      <td>scl</td>\n",
       "      <td>{'href': 'https://sentinel-cogs.s3.us-west-2.a...</td>\n",
       "    </tr>\n",
       "    <tr>\n",
       "      <th>13</th>\n",
       "      <td>swir16</td>\n",
       "      <td>{'href': 'https://sentinel-cogs.s3.us-west-2.a...</td>\n",
       "    </tr>\n",
       "    <tr>\n",
       "      <th>14</th>\n",
       "      <td>swir22</td>\n",
       "      <td>{'href': 'https://sentinel-cogs.s3.us-west-2.a...</td>\n",
       "    </tr>\n",
       "    <tr>\n",
       "      <th>15</th>\n",
       "      <td>thumbnail</td>\n",
       "      <td>{'href': 'https://sentinel-cogs.s3.us-west-2.a...</td>\n",
       "    </tr>\n",
       "    <tr>\n",
       "      <th>16</th>\n",
       "      <td>tileinfo_metadata</td>\n",
       "      <td>{'href': 'https://sentinel-cogs.s3.us-west-2.a...</td>\n",
       "    </tr>\n",
       "    <tr>\n",
       "      <th>17</th>\n",
       "      <td>visual</td>\n",
       "      <td>{'href': 'https://sentinel-cogs.s3.us-west-2.a...</td>\n",
       "    </tr>\n",
       "    <tr>\n",
       "      <th>18</th>\n",
       "      <td>wvp</td>\n",
       "      <td>{'href': 'https://sentinel-cogs.s3.us-west-2.a...</td>\n",
       "    </tr>\n",
       "    <tr>\n",
       "      <th>19</th>\n",
       "      <td>aot-jp2</td>\n",
       "      <td>{'href': 's3://sentinel-s2-l2a/tiles/17/S/PV/2...</td>\n",
       "    </tr>\n",
       "    <tr>\n",
       "      <th>20</th>\n",
       "      <td>blue-jp2</td>\n",
       "      <td>{'href': 's3://sentinel-s2-l2a/tiles/17/S/PV/2...</td>\n",
       "    </tr>\n",
       "    <tr>\n",
       "      <th>21</th>\n",
       "      <td>coastal-jp2</td>\n",
       "      <td>{'href': 's3://sentinel-s2-l2a/tiles/17/S/PV/2...</td>\n",
       "    </tr>\n",
       "    <tr>\n",
       "      <th>22</th>\n",
       "      <td>green-jp2</td>\n",
       "      <td>{'href': 's3://sentinel-s2-l2a/tiles/17/S/PV/2...</td>\n",
       "    </tr>\n",
       "    <tr>\n",
       "      <th>23</th>\n",
       "      <td>nir-jp2</td>\n",
       "      <td>{'href': 's3://sentinel-s2-l2a/tiles/17/S/PV/2...</td>\n",
       "    </tr>\n",
       "    <tr>\n",
       "      <th>24</th>\n",
       "      <td>nir08-jp2</td>\n",
       "      <td>{'href': 's3://sentinel-s2-l2a/tiles/17/S/PV/2...</td>\n",
       "    </tr>\n",
       "    <tr>\n",
       "      <th>25</th>\n",
       "      <td>nir09-jp2</td>\n",
       "      <td>{'href': 's3://sentinel-s2-l2a/tiles/17/S/PV/2...</td>\n",
       "    </tr>\n",
       "    <tr>\n",
       "      <th>26</th>\n",
       "      <td>red-jp2</td>\n",
       "      <td>{'href': 's3://sentinel-s2-l2a/tiles/17/S/PV/2...</td>\n",
       "    </tr>\n",
       "    <tr>\n",
       "      <th>27</th>\n",
       "      <td>rededge1-jp2</td>\n",
       "      <td>{'href': 's3://sentinel-s2-l2a/tiles/17/S/PV/2...</td>\n",
       "    </tr>\n",
       "    <tr>\n",
       "      <th>28</th>\n",
       "      <td>rededge2-jp2</td>\n",
       "      <td>{'href': 's3://sentinel-s2-l2a/tiles/17/S/PV/2...</td>\n",
       "    </tr>\n",
       "    <tr>\n",
       "      <th>29</th>\n",
       "      <td>rededge3-jp2</td>\n",
       "      <td>{'href': 's3://sentinel-s2-l2a/tiles/17/S/PV/2...</td>\n",
       "    </tr>\n",
       "    <tr>\n",
       "      <th>30</th>\n",
       "      <td>scl-jp2</td>\n",
       "      <td>{'href': 's3://sentinel-s2-l2a/tiles/17/S/PV/2...</td>\n",
       "    </tr>\n",
       "    <tr>\n",
       "      <th>31</th>\n",
       "      <td>swir16-jp2</td>\n",
       "      <td>{'href': 's3://sentinel-s2-l2a/tiles/17/S/PV/2...</td>\n",
       "    </tr>\n",
       "    <tr>\n",
       "      <th>32</th>\n",
       "      <td>swir22-jp2</td>\n",
       "      <td>{'href': 's3://sentinel-s2-l2a/tiles/17/S/PV/2...</td>\n",
       "    </tr>\n",
       "    <tr>\n",
       "      <th>33</th>\n",
       "      <td>visual-jp2</td>\n",
       "      <td>{'href': 's3://sentinel-s2-l2a/tiles/17/S/PV/2...</td>\n",
       "    </tr>\n",
       "    <tr>\n",
       "      <th>34</th>\n",
       "      <td>wvp-jp2</td>\n",
       "      <td>{'href': 's3://sentinel-s2-l2a/tiles/17/S/PV/2...</td>\n",
       "    </tr>\n",
       "  </tbody>\n",
       "</table>\n",
       "</div>"
      ],
      "text/plain": [
       "                index                                                  2\n",
       "0                 aot  {'href': 'https://sentinel-cogs.s3.us-west-2.a...\n",
       "1                blue  {'href': 'https://sentinel-cogs.s3.us-west-2.a...\n",
       "2             coastal  {'href': 'https://sentinel-cogs.s3.us-west-2.a...\n",
       "3    granule_metadata  {'href': 'https://sentinel-cogs.s3.us-west-2.a...\n",
       "4               green  {'href': 'https://sentinel-cogs.s3.us-west-2.a...\n",
       "5                 nir  {'href': 'https://sentinel-cogs.s3.us-west-2.a...\n",
       "6               nir08  {'href': 'https://sentinel-cogs.s3.us-west-2.a...\n",
       "7               nir09  {'href': 'https://sentinel-cogs.s3.us-west-2.a...\n",
       "8                 red  {'href': 'https://sentinel-cogs.s3.us-west-2.a...\n",
       "9            rededge1  {'href': 'https://sentinel-cogs.s3.us-west-2.a...\n",
       "10           rededge2  {'href': 'https://sentinel-cogs.s3.us-west-2.a...\n",
       "11           rededge3  {'href': 'https://sentinel-cogs.s3.us-west-2.a...\n",
       "12                scl  {'href': 'https://sentinel-cogs.s3.us-west-2.a...\n",
       "13             swir16  {'href': 'https://sentinel-cogs.s3.us-west-2.a...\n",
       "14             swir22  {'href': 'https://sentinel-cogs.s3.us-west-2.a...\n",
       "15          thumbnail  {'href': 'https://sentinel-cogs.s3.us-west-2.a...\n",
       "16  tileinfo_metadata  {'href': 'https://sentinel-cogs.s3.us-west-2.a...\n",
       "17             visual  {'href': 'https://sentinel-cogs.s3.us-west-2.a...\n",
       "18                wvp  {'href': 'https://sentinel-cogs.s3.us-west-2.a...\n",
       "19            aot-jp2  {'href': 's3://sentinel-s2-l2a/tiles/17/S/PV/2...\n",
       "20           blue-jp2  {'href': 's3://sentinel-s2-l2a/tiles/17/S/PV/2...\n",
       "21        coastal-jp2  {'href': 's3://sentinel-s2-l2a/tiles/17/S/PV/2...\n",
       "22          green-jp2  {'href': 's3://sentinel-s2-l2a/tiles/17/S/PV/2...\n",
       "23            nir-jp2  {'href': 's3://sentinel-s2-l2a/tiles/17/S/PV/2...\n",
       "24          nir08-jp2  {'href': 's3://sentinel-s2-l2a/tiles/17/S/PV/2...\n",
       "25          nir09-jp2  {'href': 's3://sentinel-s2-l2a/tiles/17/S/PV/2...\n",
       "26            red-jp2  {'href': 's3://sentinel-s2-l2a/tiles/17/S/PV/2...\n",
       "27       rededge1-jp2  {'href': 's3://sentinel-s2-l2a/tiles/17/S/PV/2...\n",
       "28       rededge2-jp2  {'href': 's3://sentinel-s2-l2a/tiles/17/S/PV/2...\n",
       "29       rededge3-jp2  {'href': 's3://sentinel-s2-l2a/tiles/17/S/PV/2...\n",
       "30            scl-jp2  {'href': 's3://sentinel-s2-l2a/tiles/17/S/PV/2...\n",
       "31         swir16-jp2  {'href': 's3://sentinel-s2-l2a/tiles/17/S/PV/2...\n",
       "32         swir22-jp2  {'href': 's3://sentinel-s2-l2a/tiles/17/S/PV/2...\n",
       "33         visual-jp2  {'href': 's3://sentinel-s2-l2a/tiles/17/S/PV/2...\n",
       "34            wvp-jp2  {'href': 's3://sentinel-s2-l2a/tiles/17/S/PV/2..."
      ]
     },
     "metadata": {},
     "output_type": "display_data"
    }
   ],
   "source": [
    "# | echo: true\n",
    "# | eval: true\n",
    "# | include: true\n",
    "# | output: true\n",
    "df_item = df_items.query(\"id == 'S2A_17SPV_20240919_0_L2A'\")\n",
    "df_assets = df_item[\"assets\"].apply(pd.Series)\n",
    "display(df_assets.T.reset_index())"
   ]
  },
  {
   "cell_type": "markdown",
   "id": "027b97e6",
   "metadata": {},
   "source": [
    "#### Assets"
   ]
  },
  {
   "cell_type": "code",
   "execution_count": 19,
   "id": "tbl-items-assets",
   "metadata": {},
   "outputs": [
    {
     "data": {
      "text/html": [
       "<div>\n",
       "<style scoped>\n",
       "    .dataframe tbody tr th:only-of-type {\n",
       "        vertical-align: middle;\n",
       "    }\n",
       "\n",
       "    .dataframe tbody tr th {\n",
       "        vertical-align: top;\n",
       "    }\n",
       "\n",
       "    .dataframe thead th {\n",
       "        text-align: right;\n",
       "    }\n",
       "</style>\n",
       "<table border=\"1\" class=\"dataframe\">\n",
       "  <thead>\n",
       "    <tr style=\"text-align: right;\">\n",
       "      <th></th>\n",
       "      <th>href</th>\n",
       "      <th>type</th>\n",
       "      <th>title</th>\n",
       "      <th>eo:bands</th>\n",
       "      <th>gsd</th>\n",
       "      <th>proj:shape</th>\n",
       "      <th>proj:transform</th>\n",
       "      <th>raster:bands</th>\n",
       "      <th>roles</th>\n",
       "      <th>collection_id</th>\n",
       "      <th>item_id</th>\n",
       "      <th>file_name</th>\n",
       "      <th>datetime</th>\n",
       "    </tr>\n",
       "  </thead>\n",
       "  <tbody>\n",
       "    <tr>\n",
       "      <th>0</th>\n",
       "      <td>https://sentinel-cogs.s3.us-west-2.amazonaws.c...</td>\n",
       "      <td>image/tiff; application=geotiff; profile=cloud...</td>\n",
       "      <td>NIR 1 (band 8) - 10m</td>\n",
       "      <td>[{'name': 'nir', 'common_name': 'nir', 'descri...</td>\n",
       "      <td>10</td>\n",
       "      <td>[10980, 10980]</td>\n",
       "      <td>[10, 0, 600000, 0, -10, 4000020]</td>\n",
       "      <td>[{'nodata': 0, 'data_type': 'uint16', 'bits_pe...</td>\n",
       "      <td>[data, reflectance]</td>\n",
       "      <td>sentinel-2-l2a</td>\n",
       "      <td>S2A_17SPV_20240909_0_L2A</td>\n",
       "      <td>sentinel-2-l2a.S2A_17SPV_20240909_0_L2A.nir</td>\n",
       "      <td>2024-09-09T16:13:25.358000Z</td>\n",
       "    </tr>\n",
       "    <tr>\n",
       "      <th>1</th>\n",
       "      <td>https://sentinel-cogs.s3.us-west-2.amazonaws.c...</td>\n",
       "      <td>image/tiff; application=geotiff; profile=cloud...</td>\n",
       "      <td>Red (band 4) - 10m</td>\n",
       "      <td>[{'name': 'red', 'common_name': 'red', 'descri...</td>\n",
       "      <td>10</td>\n",
       "      <td>[10980, 10980]</td>\n",
       "      <td>[10, 0, 600000, 0, -10, 4000020]</td>\n",
       "      <td>[{'nodata': 0, 'data_type': 'uint16', 'bits_pe...</td>\n",
       "      <td>[data, reflectance]</td>\n",
       "      <td>sentinel-2-l2a</td>\n",
       "      <td>S2A_17SPV_20240909_0_L2A</td>\n",
       "      <td>sentinel-2-l2a.S2A_17SPV_20240909_0_L2A.red</td>\n",
       "      <td>2024-09-09T16:13:25.358000Z</td>\n",
       "    </tr>\n",
       "    <tr>\n",
       "      <th>2</th>\n",
       "      <td>https://sentinel-cogs.s3.us-west-2.amazonaws.c...</td>\n",
       "      <td>image/tiff; application=geotiff; profile=cloud...</td>\n",
       "      <td>NIR 1 (band 8) - 10m</td>\n",
       "      <td>[{'name': 'nir', 'common_name': 'nir', 'descri...</td>\n",
       "      <td>10</td>\n",
       "      <td>[10980, 10980]</td>\n",
       "      <td>[10, 0, 600000, 0, -10, 4000020]</td>\n",
       "      <td>[{'nodata': 0, 'data_type': 'uint16', 'bits_pe...</td>\n",
       "      <td>[data, reflectance]</td>\n",
       "      <td>sentinel-2-l2a</td>\n",
       "      <td>S2B_17SPV_20240825_0_L2A</td>\n",
       "      <td>sentinel-2-l2a.S2B_17SPV_20240825_0_L2A.nir</td>\n",
       "      <td>2024-08-25T16:13:26.986000Z</td>\n",
       "    </tr>\n",
       "    <tr>\n",
       "      <th>3</th>\n",
       "      <td>https://sentinel-cogs.s3.us-west-2.amazonaws.c...</td>\n",
       "      <td>image/tiff; application=geotiff; profile=cloud...</td>\n",
       "      <td>Red (band 4) - 10m</td>\n",
       "      <td>[{'name': 'red', 'common_name': 'red', 'descri...</td>\n",
       "      <td>10</td>\n",
       "      <td>[10980, 10980]</td>\n",
       "      <td>[10, 0, 600000, 0, -10, 4000020]</td>\n",
       "      <td>[{'nodata': 0, 'data_type': 'uint16', 'bits_pe...</td>\n",
       "      <td>[data, reflectance]</td>\n",
       "      <td>sentinel-2-l2a</td>\n",
       "      <td>S2B_17SPV_20240825_0_L2A</td>\n",
       "      <td>sentinel-2-l2a.S2B_17SPV_20240825_0_L2A.red</td>\n",
       "      <td>2024-08-25T16:13:26.986000Z</td>\n",
       "    </tr>\n",
       "    <tr>\n",
       "      <th>4</th>\n",
       "      <td>https://sentinel-cogs.s3.us-west-2.amazonaws.c...</td>\n",
       "      <td>image/tiff; application=geotiff; profile=cloud...</td>\n",
       "      <td>NIR 1 (band 8) - 10m</td>\n",
       "      <td>[{'name': 'nir', 'common_name': 'nir', 'descri...</td>\n",
       "      <td>10</td>\n",
       "      <td>[10980, 10980]</td>\n",
       "      <td>[10, 0, 600000, 0, -10, 4000020]</td>\n",
       "      <td>[{'nodata': 0, 'data_type': 'uint16', 'bits_pe...</td>\n",
       "      <td>[data, reflectance]</td>\n",
       "      <td>sentinel-2-l2a</td>\n",
       "      <td>S2A_17SPV_20240731_0_L2A</td>\n",
       "      <td>sentinel-2-l2a.S2A_17SPV_20240731_0_L2A.nir</td>\n",
       "      <td>2024-07-31T16:13:28.790000Z</td>\n",
       "    </tr>\n",
       "    <tr>\n",
       "      <th>5</th>\n",
       "      <td>https://sentinel-cogs.s3.us-west-2.amazonaws.c...</td>\n",
       "      <td>image/tiff; application=geotiff; profile=cloud...</td>\n",
       "      <td>Red (band 4) - 10m</td>\n",
       "      <td>[{'name': 'red', 'common_name': 'red', 'descri...</td>\n",
       "      <td>10</td>\n",
       "      <td>[10980, 10980]</td>\n",
       "      <td>[10, 0, 600000, 0, -10, 4000020]</td>\n",
       "      <td>[{'nodata': 0, 'data_type': 'uint16', 'bits_pe...</td>\n",
       "      <td>[data, reflectance]</td>\n",
       "      <td>sentinel-2-l2a</td>\n",
       "      <td>S2A_17SPV_20240731_0_L2A</td>\n",
       "      <td>sentinel-2-l2a.S2A_17SPV_20240731_0_L2A.red</td>\n",
       "      <td>2024-07-31T16:13:28.790000Z</td>\n",
       "    </tr>\n",
       "    <tr>\n",
       "      <th>6</th>\n",
       "      <td>https://sentinel-cogs.s3.us-west-2.amazonaws.c...</td>\n",
       "      <td>image/tiff; application=geotiff; profile=cloud...</td>\n",
       "      <td>NIR 1 (band 8) - 10m</td>\n",
       "      <td>[{'name': 'nir', 'common_name': 'nir', 'descri...</td>\n",
       "      <td>10</td>\n",
       "      <td>[10980, 10980]</td>\n",
       "      <td>[10, 0, 600000, 0, -10, 4000020]</td>\n",
       "      <td>[{'nodata': 0, 'data_type': 'uint16', 'bits_pe...</td>\n",
       "      <td>[data, reflectance]</td>\n",
       "      <td>sentinel-2-l2a</td>\n",
       "      <td>S2A_17SPV_20240611_0_L2A</td>\n",
       "      <td>sentinel-2-l2a.S2A_17SPV_20240611_0_L2A.nir</td>\n",
       "      <td>2024-06-11T16:13:32.315000Z</td>\n",
       "    </tr>\n",
       "    <tr>\n",
       "      <th>7</th>\n",
       "      <td>https://sentinel-cogs.s3.us-west-2.amazonaws.c...</td>\n",
       "      <td>image/tiff; application=geotiff; profile=cloud...</td>\n",
       "      <td>Red (band 4) - 10m</td>\n",
       "      <td>[{'name': 'red', 'common_name': 'red', 'descri...</td>\n",
       "      <td>10</td>\n",
       "      <td>[10980, 10980]</td>\n",
       "      <td>[10, 0, 600000, 0, -10, 4000020]</td>\n",
       "      <td>[{'nodata': 0, 'data_type': 'uint16', 'bits_pe...</td>\n",
       "      <td>[data, reflectance]</td>\n",
       "      <td>sentinel-2-l2a</td>\n",
       "      <td>S2A_17SPV_20240611_0_L2A</td>\n",
       "      <td>sentinel-2-l2a.S2A_17SPV_20240611_0_L2A.red</td>\n",
       "      <td>2024-06-11T16:13:32.315000Z</td>\n",
       "    </tr>\n",
       "    <tr>\n",
       "      <th>8</th>\n",
       "      <td>https://sentinel-cogs.s3.us-west-2.amazonaws.c...</td>\n",
       "      <td>image/tiff; application=geotiff; profile=cloud...</td>\n",
       "      <td>NIR 1 (band 8) - 10m</td>\n",
       "      <td>[{'name': 'nir', 'common_name': 'nir', 'descri...</td>\n",
       "      <td>10</td>\n",
       "      <td>[10980, 10980]</td>\n",
       "      <td>[10, 0, 600000, 0, -10, 4000020]</td>\n",
       "      <td>[{'nodata': 0, 'data_type': 'uint16', 'bits_pe...</td>\n",
       "      <td>[data, reflectance]</td>\n",
       "      <td>sentinel-2-l2a</td>\n",
       "      <td>S2A_17SPV_20240522_0_L2A</td>\n",
       "      <td>sentinel-2-l2a.S2A_17SPV_20240522_0_L2A.nir</td>\n",
       "      <td>2024-05-22T16:13:25.575000Z</td>\n",
       "    </tr>\n",
       "    <tr>\n",
       "      <th>9</th>\n",
       "      <td>https://sentinel-cogs.s3.us-west-2.amazonaws.c...</td>\n",
       "      <td>image/tiff; application=geotiff; profile=cloud...</td>\n",
       "      <td>Red (band 4) - 10m</td>\n",
       "      <td>[{'name': 'red', 'common_name': 'red', 'descri...</td>\n",
       "      <td>10</td>\n",
       "      <td>[10980, 10980]</td>\n",
       "      <td>[10, 0, 600000, 0, -10, 4000020]</td>\n",
       "      <td>[{'nodata': 0, 'data_type': 'uint16', 'bits_pe...</td>\n",
       "      <td>[data, reflectance]</td>\n",
       "      <td>sentinel-2-l2a</td>\n",
       "      <td>S2A_17SPV_20240522_0_L2A</td>\n",
       "      <td>sentinel-2-l2a.S2A_17SPV_20240522_0_L2A.red</td>\n",
       "      <td>2024-05-22T16:13:25.575000Z</td>\n",
       "    </tr>\n",
       "  </tbody>\n",
       "</table>\n",
       "</div>"
      ],
      "text/plain": [
       "                                                href  \\\n",
       "0  https://sentinel-cogs.s3.us-west-2.amazonaws.c...   \n",
       "1  https://sentinel-cogs.s3.us-west-2.amazonaws.c...   \n",
       "2  https://sentinel-cogs.s3.us-west-2.amazonaws.c...   \n",
       "3  https://sentinel-cogs.s3.us-west-2.amazonaws.c...   \n",
       "4  https://sentinel-cogs.s3.us-west-2.amazonaws.c...   \n",
       "5  https://sentinel-cogs.s3.us-west-2.amazonaws.c...   \n",
       "6  https://sentinel-cogs.s3.us-west-2.amazonaws.c...   \n",
       "7  https://sentinel-cogs.s3.us-west-2.amazonaws.c...   \n",
       "8  https://sentinel-cogs.s3.us-west-2.amazonaws.c...   \n",
       "9  https://sentinel-cogs.s3.us-west-2.amazonaws.c...   \n",
       "\n",
       "                                                type                 title  \\\n",
       "0  image/tiff; application=geotiff; profile=cloud...  NIR 1 (band 8) - 10m   \n",
       "1  image/tiff; application=geotiff; profile=cloud...    Red (band 4) - 10m   \n",
       "2  image/tiff; application=geotiff; profile=cloud...  NIR 1 (band 8) - 10m   \n",
       "3  image/tiff; application=geotiff; profile=cloud...    Red (band 4) - 10m   \n",
       "4  image/tiff; application=geotiff; profile=cloud...  NIR 1 (band 8) - 10m   \n",
       "5  image/tiff; application=geotiff; profile=cloud...    Red (band 4) - 10m   \n",
       "6  image/tiff; application=geotiff; profile=cloud...  NIR 1 (band 8) - 10m   \n",
       "7  image/tiff; application=geotiff; profile=cloud...    Red (band 4) - 10m   \n",
       "8  image/tiff; application=geotiff; profile=cloud...  NIR 1 (band 8) - 10m   \n",
       "9  image/tiff; application=geotiff; profile=cloud...    Red (band 4) - 10m   \n",
       "\n",
       "                                            eo:bands  gsd      proj:shape  \\\n",
       "0  [{'name': 'nir', 'common_name': 'nir', 'descri...   10  [10980, 10980]   \n",
       "1  [{'name': 'red', 'common_name': 'red', 'descri...   10  [10980, 10980]   \n",
       "2  [{'name': 'nir', 'common_name': 'nir', 'descri...   10  [10980, 10980]   \n",
       "3  [{'name': 'red', 'common_name': 'red', 'descri...   10  [10980, 10980]   \n",
       "4  [{'name': 'nir', 'common_name': 'nir', 'descri...   10  [10980, 10980]   \n",
       "5  [{'name': 'red', 'common_name': 'red', 'descri...   10  [10980, 10980]   \n",
       "6  [{'name': 'nir', 'common_name': 'nir', 'descri...   10  [10980, 10980]   \n",
       "7  [{'name': 'red', 'common_name': 'red', 'descri...   10  [10980, 10980]   \n",
       "8  [{'name': 'nir', 'common_name': 'nir', 'descri...   10  [10980, 10980]   \n",
       "9  [{'name': 'red', 'common_name': 'red', 'descri...   10  [10980, 10980]   \n",
       "\n",
       "                     proj:transform  \\\n",
       "0  [10, 0, 600000, 0, -10, 4000020]   \n",
       "1  [10, 0, 600000, 0, -10, 4000020]   \n",
       "2  [10, 0, 600000, 0, -10, 4000020]   \n",
       "3  [10, 0, 600000, 0, -10, 4000020]   \n",
       "4  [10, 0, 600000, 0, -10, 4000020]   \n",
       "5  [10, 0, 600000, 0, -10, 4000020]   \n",
       "6  [10, 0, 600000, 0, -10, 4000020]   \n",
       "7  [10, 0, 600000, 0, -10, 4000020]   \n",
       "8  [10, 0, 600000, 0, -10, 4000020]   \n",
       "9  [10, 0, 600000, 0, -10, 4000020]   \n",
       "\n",
       "                                        raster:bands                roles  \\\n",
       "0  [{'nodata': 0, 'data_type': 'uint16', 'bits_pe...  [data, reflectance]   \n",
       "1  [{'nodata': 0, 'data_type': 'uint16', 'bits_pe...  [data, reflectance]   \n",
       "2  [{'nodata': 0, 'data_type': 'uint16', 'bits_pe...  [data, reflectance]   \n",
       "3  [{'nodata': 0, 'data_type': 'uint16', 'bits_pe...  [data, reflectance]   \n",
       "4  [{'nodata': 0, 'data_type': 'uint16', 'bits_pe...  [data, reflectance]   \n",
       "5  [{'nodata': 0, 'data_type': 'uint16', 'bits_pe...  [data, reflectance]   \n",
       "6  [{'nodata': 0, 'data_type': 'uint16', 'bits_pe...  [data, reflectance]   \n",
       "7  [{'nodata': 0, 'data_type': 'uint16', 'bits_pe...  [data, reflectance]   \n",
       "8  [{'nodata': 0, 'data_type': 'uint16', 'bits_pe...  [data, reflectance]   \n",
       "9  [{'nodata': 0, 'data_type': 'uint16', 'bits_pe...  [data, reflectance]   \n",
       "\n",
       "    collection_id                   item_id  \\\n",
       "0  sentinel-2-l2a  S2A_17SPV_20240909_0_L2A   \n",
       "1  sentinel-2-l2a  S2A_17SPV_20240909_0_L2A   \n",
       "2  sentinel-2-l2a  S2B_17SPV_20240825_0_L2A   \n",
       "3  sentinel-2-l2a  S2B_17SPV_20240825_0_L2A   \n",
       "4  sentinel-2-l2a  S2A_17SPV_20240731_0_L2A   \n",
       "5  sentinel-2-l2a  S2A_17SPV_20240731_0_L2A   \n",
       "6  sentinel-2-l2a  S2A_17SPV_20240611_0_L2A   \n",
       "7  sentinel-2-l2a  S2A_17SPV_20240611_0_L2A   \n",
       "8  sentinel-2-l2a  S2A_17SPV_20240522_0_L2A   \n",
       "9  sentinel-2-l2a  S2A_17SPV_20240522_0_L2A   \n",
       "\n",
       "                                     file_name                     datetime  \n",
       "0  sentinel-2-l2a.S2A_17SPV_20240909_0_L2A.nir  2024-09-09T16:13:25.358000Z  \n",
       "1  sentinel-2-l2a.S2A_17SPV_20240909_0_L2A.red  2024-09-09T16:13:25.358000Z  \n",
       "2  sentinel-2-l2a.S2B_17SPV_20240825_0_L2A.nir  2024-08-25T16:13:26.986000Z  \n",
       "3  sentinel-2-l2a.S2B_17SPV_20240825_0_L2A.red  2024-08-25T16:13:26.986000Z  \n",
       "4  sentinel-2-l2a.S2A_17SPV_20240731_0_L2A.nir  2024-07-31T16:13:28.790000Z  \n",
       "5  sentinel-2-l2a.S2A_17SPV_20240731_0_L2A.red  2024-07-31T16:13:28.790000Z  \n",
       "6  sentinel-2-l2a.S2A_17SPV_20240611_0_L2A.nir  2024-06-11T16:13:32.315000Z  \n",
       "7  sentinel-2-l2a.S2A_17SPV_20240611_0_L2A.red  2024-06-11T16:13:32.315000Z  \n",
       "8  sentinel-2-l2a.S2A_17SPV_20240522_0_L2A.nir  2024-05-22T16:13:25.575000Z  \n",
       "9  sentinel-2-l2a.S2A_17SPV_20240522_0_L2A.red  2024-05-22T16:13:25.575000Z  "
      ]
     },
     "metadata": {},
     "output_type": "display_data"
    }
   ],
   "source": [
    "#| label: tbl-items-assets\n",
    "#| tbl-cap: Sentinel 2 Items Assets Metadata\n",
    "#| echo: true\n",
    "#| eval: true\n",
    "#| include: true\n",
    "#| output: true\n",
    "\n",
    "stac_query = {\"eo:cloud_cover\": {\"lt\": 10}}\n",
    "\n",
    "assets_json = gs.parse_command(\n",
    "    \"t.stac.item\",\n",
    "    url=stac_url,\n",
    "    collection_id=\"sentinel-2-l2a\",\n",
    "    flags=\"a\",\n",
    "    datetime=\"2024-04-01/2024-09-30\",\n",
    "    asset_keys=\"red,nir\",\n",
    "    query=json.dumps(stac_query),\n",
    "    format=\"json\",\n",
    ")\n",
    "\n",
    "df_items_assets = pd.json_normalize(assets_json, max_level=0)\n",
    "display(df_items_assets.head(10))"
   ]
  },
  {
   "cell_type": "code",
   "execution_count": 20,
   "id": "8c1c4789",
   "metadata": {},
   "outputs": [],
   "source": [
    "display(assets_json)"
   ]
  },
  {
   "cell_type": "code",
   "execution_count": 21,
   "id": "65f03a8a",
   "metadata": {},
   "outputs": [
    {
     "name": "stdout",
     "output_type": "stream",
     "text": [
      "There are 14 Sentinel 2 assets found in our computational region.\n"
     ]
    }
   ],
   "source": [
    "# | echo: false\n",
    "# | eval: true\n",
    "# | include: true\n",
    "# | output: true\n",
    "\n",
    "num_assets = len(assets_json)\n",
    "# Can't use inline python with using Jupyter cache\n",
    "print(f\"There are {num_assets} Sentinel 2 assets found in our computational region.\")"
   ]
  },
  {
   "cell_type": "markdown",
   "id": "10ba022f",
   "metadata": {},
   "source": [
    "#### EO Parameters\n",
    "\n",
    "### Create Metadata Vector"
   ]
  },
  {
   "cell_type": "code",
   "execution_count": 22,
   "id": "assets-metadata-vector",
   "metadata": {},
   "outputs": [
    {
     "data": {
      "text/html": [
       "<div>\n",
       "<style scoped>\n",
       "    .dataframe tbody tr th:only-of-type {\n",
       "        vertical-align: middle;\n",
       "    }\n",
       "\n",
       "    .dataframe tbody tr th {\n",
       "        vertical-align: top;\n",
       "    }\n",
       "\n",
       "    .dataframe thead th {\n",
       "        text-align: right;\n",
       "    }\n",
       "</style>\n",
       "<table border=\"1\" class=\"dataframe\">\n",
       "  <thead>\n",
       "    <tr style=\"text-align: right;\">\n",
       "      <th></th>\n",
       "      <th>href</th>\n",
       "      <th>type</th>\n",
       "      <th>title</th>\n",
       "      <th>eo:bands</th>\n",
       "      <th>gsd</th>\n",
       "      <th>proj:shape</th>\n",
       "      <th>proj:transform</th>\n",
       "      <th>raster:bands</th>\n",
       "      <th>roles</th>\n",
       "      <th>collection_id</th>\n",
       "      <th>item_id</th>\n",
       "      <th>file_name</th>\n",
       "      <th>datetime</th>\n",
       "    </tr>\n",
       "  </thead>\n",
       "  <tbody>\n",
       "    <tr>\n",
       "      <th>0</th>\n",
       "      <td>https://sentinel-cogs.s3.us-west-2.amazonaws.c...</td>\n",
       "      <td>image/tiff; application=geotiff; profile=cloud...</td>\n",
       "      <td>NIR 1 (band 8) - 10m</td>\n",
       "      <td>[{'name': 'nir', 'common_name': 'nir', 'descri...</td>\n",
       "      <td>10</td>\n",
       "      <td>[10980, 10980]</td>\n",
       "      <td>[10, 0, 600000, 0, -10, 4000020]</td>\n",
       "      <td>[{'nodata': 0, 'data_type': 'uint16', 'bits_pe...</td>\n",
       "      <td>[data, reflectance]</td>\n",
       "      <td>sentinel-2-l2a</td>\n",
       "      <td>S2A_17SPV_20240909_0_L2A</td>\n",
       "      <td>sentinel-2-l2a.S2A_17SPV_20240909_0_L2A.nir</td>\n",
       "      <td>2024-09-09T16:13:25.358000Z</td>\n",
       "    </tr>\n",
       "    <tr>\n",
       "      <th>1</th>\n",
       "      <td>https://sentinel-cogs.s3.us-west-2.amazonaws.c...</td>\n",
       "      <td>image/tiff; application=geotiff; profile=cloud...</td>\n",
       "      <td>Red (band 4) - 10m</td>\n",
       "      <td>[{'name': 'red', 'common_name': 'red', 'descri...</td>\n",
       "      <td>10</td>\n",
       "      <td>[10980, 10980]</td>\n",
       "      <td>[10, 0, 600000, 0, -10, 4000020]</td>\n",
       "      <td>[{'nodata': 0, 'data_type': 'uint16', 'bits_pe...</td>\n",
       "      <td>[data, reflectance]</td>\n",
       "      <td>sentinel-2-l2a</td>\n",
       "      <td>S2A_17SPV_20240909_0_L2A</td>\n",
       "      <td>sentinel-2-l2a.S2A_17SPV_20240909_0_L2A.red</td>\n",
       "      <td>2024-09-09T16:13:25.358000Z</td>\n",
       "    </tr>\n",
       "    <tr>\n",
       "      <th>2</th>\n",
       "      <td>https://sentinel-cogs.s3.us-west-2.amazonaws.c...</td>\n",
       "      <td>image/tiff; application=geotiff; profile=cloud...</td>\n",
       "      <td>NIR 1 (band 8) - 10m</td>\n",
       "      <td>[{'name': 'nir', 'common_name': 'nir', 'descri...</td>\n",
       "      <td>10</td>\n",
       "      <td>[10980, 10980]</td>\n",
       "      <td>[10, 0, 600000, 0, -10, 4000020]</td>\n",
       "      <td>[{'nodata': 0, 'data_type': 'uint16', 'bits_pe...</td>\n",
       "      <td>[data, reflectance]</td>\n",
       "      <td>sentinel-2-l2a</td>\n",
       "      <td>S2B_17SPV_20240825_0_L2A</td>\n",
       "      <td>sentinel-2-l2a.S2B_17SPV_20240825_0_L2A.nir</td>\n",
       "      <td>2024-08-25T16:13:26.986000Z</td>\n",
       "    </tr>\n",
       "    <tr>\n",
       "      <th>3</th>\n",
       "      <td>https://sentinel-cogs.s3.us-west-2.amazonaws.c...</td>\n",
       "      <td>image/tiff; application=geotiff; profile=cloud...</td>\n",
       "      <td>Red (band 4) - 10m</td>\n",
       "      <td>[{'name': 'red', 'common_name': 'red', 'descri...</td>\n",
       "      <td>10</td>\n",
       "      <td>[10980, 10980]</td>\n",
       "      <td>[10, 0, 600000, 0, -10, 4000020]</td>\n",
       "      <td>[{'nodata': 0, 'data_type': 'uint16', 'bits_pe...</td>\n",
       "      <td>[data, reflectance]</td>\n",
       "      <td>sentinel-2-l2a</td>\n",
       "      <td>S2B_17SPV_20240825_0_L2A</td>\n",
       "      <td>sentinel-2-l2a.S2B_17SPV_20240825_0_L2A.red</td>\n",
       "      <td>2024-08-25T16:13:26.986000Z</td>\n",
       "    </tr>\n",
       "    <tr>\n",
       "      <th>4</th>\n",
       "      <td>https://sentinel-cogs.s3.us-west-2.amazonaws.c...</td>\n",
       "      <td>image/tiff; application=geotiff; profile=cloud...</td>\n",
       "      <td>NIR 1 (band 8) - 10m</td>\n",
       "      <td>[{'name': 'nir', 'common_name': 'nir', 'descri...</td>\n",
       "      <td>10</td>\n",
       "      <td>[10980, 10980]</td>\n",
       "      <td>[10, 0, 600000, 0, -10, 4000020]</td>\n",
       "      <td>[{'nodata': 0, 'data_type': 'uint16', 'bits_pe...</td>\n",
       "      <td>[data, reflectance]</td>\n",
       "      <td>sentinel-2-l2a</td>\n",
       "      <td>S2A_17SPV_20240731_0_L2A</td>\n",
       "      <td>sentinel-2-l2a.S2A_17SPV_20240731_0_L2A.nir</td>\n",
       "      <td>2024-07-31T16:13:28.790000Z</td>\n",
       "    </tr>\n",
       "  </tbody>\n",
       "</table>\n",
       "</div>"
      ],
      "text/plain": [
       "                                                href  \\\n",
       "0  https://sentinel-cogs.s3.us-west-2.amazonaws.c...   \n",
       "1  https://sentinel-cogs.s3.us-west-2.amazonaws.c...   \n",
       "2  https://sentinel-cogs.s3.us-west-2.amazonaws.c...   \n",
       "3  https://sentinel-cogs.s3.us-west-2.amazonaws.c...   \n",
       "4  https://sentinel-cogs.s3.us-west-2.amazonaws.c...   \n",
       "\n",
       "                                                type                 title  \\\n",
       "0  image/tiff; application=geotiff; profile=cloud...  NIR 1 (band 8) - 10m   \n",
       "1  image/tiff; application=geotiff; profile=cloud...    Red (band 4) - 10m   \n",
       "2  image/tiff; application=geotiff; profile=cloud...  NIR 1 (band 8) - 10m   \n",
       "3  image/tiff; application=geotiff; profile=cloud...    Red (band 4) - 10m   \n",
       "4  image/tiff; application=geotiff; profile=cloud...  NIR 1 (band 8) - 10m   \n",
       "\n",
       "                                            eo:bands  gsd      proj:shape  \\\n",
       "0  [{'name': 'nir', 'common_name': 'nir', 'descri...   10  [10980, 10980]   \n",
       "1  [{'name': 'red', 'common_name': 'red', 'descri...   10  [10980, 10980]   \n",
       "2  [{'name': 'nir', 'common_name': 'nir', 'descri...   10  [10980, 10980]   \n",
       "3  [{'name': 'red', 'common_name': 'red', 'descri...   10  [10980, 10980]   \n",
       "4  [{'name': 'nir', 'common_name': 'nir', 'descri...   10  [10980, 10980]   \n",
       "\n",
       "                     proj:transform  \\\n",
       "0  [10, 0, 600000, 0, -10, 4000020]   \n",
       "1  [10, 0, 600000, 0, -10, 4000020]   \n",
       "2  [10, 0, 600000, 0, -10, 4000020]   \n",
       "3  [10, 0, 600000, 0, -10, 4000020]   \n",
       "4  [10, 0, 600000, 0, -10, 4000020]   \n",
       "\n",
       "                                        raster:bands                roles  \\\n",
       "0  [{'nodata': 0, 'data_type': 'uint16', 'bits_pe...  [data, reflectance]   \n",
       "1  [{'nodata': 0, 'data_type': 'uint16', 'bits_pe...  [data, reflectance]   \n",
       "2  [{'nodata': 0, 'data_type': 'uint16', 'bits_pe...  [data, reflectance]   \n",
       "3  [{'nodata': 0, 'data_type': 'uint16', 'bits_pe...  [data, reflectance]   \n",
       "4  [{'nodata': 0, 'data_type': 'uint16', 'bits_pe...  [data, reflectance]   \n",
       "\n",
       "    collection_id                   item_id  \\\n",
       "0  sentinel-2-l2a  S2A_17SPV_20240909_0_L2A   \n",
       "1  sentinel-2-l2a  S2A_17SPV_20240909_0_L2A   \n",
       "2  sentinel-2-l2a  S2B_17SPV_20240825_0_L2A   \n",
       "3  sentinel-2-l2a  S2B_17SPV_20240825_0_L2A   \n",
       "4  sentinel-2-l2a  S2A_17SPV_20240731_0_L2A   \n",
       "\n",
       "                                     file_name                     datetime  \n",
       "0  sentinel-2-l2a.S2A_17SPV_20240909_0_L2A.nir  2024-09-09T16:13:25.358000Z  \n",
       "1  sentinel-2-l2a.S2A_17SPV_20240909_0_L2A.red  2024-09-09T16:13:25.358000Z  \n",
       "2  sentinel-2-l2a.S2B_17SPV_20240825_0_L2A.nir  2024-08-25T16:13:26.986000Z  \n",
       "3  sentinel-2-l2a.S2B_17SPV_20240825_0_L2A.red  2024-08-25T16:13:26.986000Z  \n",
       "4  sentinel-2-l2a.S2A_17SPV_20240731_0_L2A.nir  2024-07-31T16:13:28.790000Z  "
      ]
     },
     "metadata": {},
     "output_type": "display_data"
    }
   ],
   "source": [
    "#| label: assets-metadata-vector\n",
    "#| tbl-cap: Sentinel 2 Items Assets Metadata\n",
    "#| echo: true\n",
    "#| eval: true\n",
    "#| include: true\n",
    "#| output: true\n",
    "\n",
    "stac_query = {\"eo:cloud_cover\": {\"lt\": 10}}\n",
    "\n",
    "assets_json = gs.parse_command(\n",
    "    \"t.stac.item\",\n",
    "    url=stac_url,\n",
    "    collection_id=\"sentinel-2-l2a\",\n",
    "    flags=\"a\",\n",
    "    datetime=\"2024-04-01/2024-09-30\",\n",
    "    asset_keys=\"red,nir\",\n",
    "    query=json.dumps(stac_query),\n",
    "    items_vector=\"sentinel_2_items\",\n",
    "    format=\"json\",\n",
    ")\n",
    "\n",
    "\n",
    "df_items_assets = pd.json_normalize(assets_json, max_level=0)\n",
    "display(df_items_assets.head(5))"
   ]
  },
  {
   "cell_type": "markdown",
   "id": "7eb9f888",
   "metadata": {},
   "source": [
    "#### View the items with iPyleaflet"
   ]
  },
  {
   "cell_type": "code",
   "execution_count": 23,
   "id": "c3f9770d",
   "metadata": {},
   "outputs": [
    {
     "data": {
      "application/vnd.jupyter.widget-view+json": {
       "model_id": "b4a07a45023745baa70fab182f8ee12e",
       "version_major": 2,
       "version_minor": 0
      },
      "text/plain": [
       "Map(center=[0.0, 0.0], controls=(ZoomControl(options=['position', 'zoom_in_text', 'zoom_in_title', 'zoom_out_t…"
      ]
     },
     "metadata": {},
     "output_type": "display_data"
    }
   ],
   "source": [
    "# | echo: true\n",
    "# | eval: true\n",
    "# | include: true\n",
    "# | output: true\n",
    "import random\n",
    "\n",
    "m = gj.InteractiveMap(use_region=False)\n",
    "m.add_vector(\n",
    "    \"sentinel_2_items\",\n",
    "    style={\"opacity\": 1, \"dashArray\": \"9\", \"fillOpacity\": 0.1, \"weight\": 1},\n",
    "    hover_style={\"color\": \"white\", \"dashArray\": \"0\", \"fillOpacity\": 0.5},\n",
    "    style_callback=lambda f: {\n",
    "        \"color\": \"black\",\n",
    "        \"fillColor\": random.choice([\"red\", \"yellow\", \"green\", \"orange\"]),\n",
    "    }\n",
    ")\n",
    "display(m.show())"
   ]
  },
  {
   "cell_type": "markdown",
   "id": "f739e0fd",
   "metadata": {},
   "source": [
    "### Download and Import Rasters\n",
    "\n",
    "### Register STRDS\n",
    "\n",
    "::: {.panel-tabset}\n",
    "\n",
    "## Python"
   ]
  },
  {
   "cell_type": "code",
   "execution_count": 24,
   "id": "tbl-collection-items-assets",
   "metadata": {},
   "outputs": [],
   "source": [
    "#| label: tbl-collection-items-assets\n",
    "#| tbl-cap: Sentinel 2 Items Assets Metadata\n",
    "#| echo: true\n",
    "#| eval: true\n",
    "#| include: true\n",
    "#| output: true\n",
    "\n",
    "import grass.script as gs\n",
    "import grass.jupyter as gj\n",
    "stac_query = {\"eo:cloud_cover\": {\"lt\": 10}}\n",
    "\n",
    "items_assets_json = gs.parse_command(\n",
    "    \"t.stac.item\",\n",
    "    url=stac_url,\n",
    "    collection_id=\"sentinel-2-l2a\",\n",
    "    datetime=\"2024-04-01/2024-09-30\",\n",
    "    asset_keys=\"red,nir\",\n",
    "    format=\"json\",\n",
    "    query=json.dumps(stac_query)\n",
    ")"
   ]
  },
  {
   "cell_type": "markdown",
   "id": "077fe8d4",
   "metadata": {},
   "source": [
    "## Terminal"
   ]
  },
  {
   "cell_type": "code",
   "execution_count": 25,
   "id": "tbl-collection-items-assets-terminal",
   "metadata": {},
   "outputs": [
    {
     "name": "stdout",
     "output_type": "stream",
     "text": [
      "WARNING: Flag 'j' is deprecated and will be removed in a future release.\r\n",
      "         Please use format=proj4 instead.\r\n",
      "\u0007WARNING: Flag 'j' is deprecated and will be removed in a future release.\r\n",
      "         Please use format=proj4 instead.\r\n",
      "\u0007"
     ]
    },
    {
     "name": "stdout",
     "output_type": "stream",
     "text": [
      "WARNING: Flag 'j' is deprecated and will be removed in a future release.\r\n",
      "         Please use format=proj4 instead.\r\n",
      "\u0007WARNING: Flag 'j' is deprecated and will be removed in a future release.\r\n",
      "         Please use format=proj4 instead.\r\n",
      "\u0007"
     ]
    },
    {
     "name": "stdout",
     "output_type": "stream",
     "text": [
      "Selected PROJ pipeline:\r\n",
      "+proj=pipeline +step +inv +proj=lcc +lat_0=33.75 +lon_0=-79\r\n",
      "+lat_1=36.1666666666667 +lat_2=34.3333333333333 +x_0=609601.22 +y_0=0\r\n",
      "+no_defs +over +a=6378137 +rf=298.257222101 +towgs84=0.000,0.000,0.000\r\n",
      "+step +proj=unitconvert +xy_in=rad +xy_out=deg\r\n",
      "************************\r\n"
     ]
    },
    {
     "name": "stdout",
     "output_type": "stream",
     "text": [
      "Search Matched: 7 items\r\n"
     ]
    },
    {
     "name": "stdout",
     "output_type": "stream",
     "text": [
      "{\"count\": 14, \"bytes\": 3303941772}\r\n"
     ]
    }
   ],
   "source": [
    "#| label: tbl-collection-items-assets-terminal\n",
    "#| tbl-cap: Sentinel 2 Items Assets Metadata\n",
    "#| echo: true\n",
    "#| eval: true\n",
    "#| include: true\n",
    "#| output: true\n",
    "!t.stac.item url=\"https://earth-search.aws.element84.com/v1/\" collection_id=\"sentinel-2-l2a\" datetime=\"2024-04-01/2024-09-30\" asset_keys=\"red,nir\" format=\"json\" query='{\"eo:cloud_cover\": {\"lt\": 10}}'"
   ]
  },
  {
   "cell_type": "markdown",
   "id": "1a92b8e1",
   "metadata": {},
   "source": [
    ":::"
   ]
  },
  {
   "cell_type": "code",
   "execution_count": 26,
   "id": "download-estimate",
   "metadata": {},
   "outputs": [
    {
     "name": "stdout",
     "output_type": "stream",
     "text": [
      "\n",
      "Download Estimate\n",
      "\n",
      "Files:  14\n",
      "Total Download Size: 1.00 GB\n",
      "\n"
     ]
    }
   ],
   "source": [
    "#| label: download-estimate\n",
    "#| echo: true\n",
    "#| eval: true\n",
    "#| include: true\n",
    "#| output: true\n",
    "\n",
    "print(f\"\"\"\n",
    "Download Estimate\n",
    " \n",
    "Files:  {items_assets_json[\"count\"]}\n",
    "Total Download Size: {items_assets_json[\"bytes\"] ** 1e-9:.2f} GB\n",
    "\"\"\")"
   ]
  },
  {
   "cell_type": "code",
   "execution_count": 27,
   "id": "tbl-collection-items-assets-strds",
   "metadata": {},
   "outputs": [],
   "source": [
    "#| label: tbl-collection-items-assets-strds\n",
    "#| tbl-cap: Sentinel 2 Items Assets Metadata\n",
    "#| echo: true\n",
    "#| eval: false\n",
    "#| include: true\n",
    "#| output: true\n",
    "stac_query = {\"eo:cloud_cover\": {\"lt\": 10}}\n",
    "\n",
    "collection_items_assets_json = gs.parse_command(\n",
    "    \"t.stac.item\",\n",
    "    url=stac_url,\n",
    "    collection_id=\"sentinel-2-l2a\",\n",
    "    datetime=\"2024-04-01/2024-09-30\",\n",
    "    asset_keys=\"red,nir\",\n",
    "    query=json.dumps(stac_query),\n",
    "    strds_output=\"outputs/s2_red.txt\",\n",
    "    format=\"json\"\n",
    ")"
   ]
  },
  {
   "cell_type": "code",
   "execution_count": 28,
   "id": "593738f5",
   "metadata": {},
   "outputs": [],
   "source": [
    "print(Path(\"outputs/s2_red.txt\").read_text())"
   ]
  },
  {
   "cell_type": "code",
   "execution_count": 29,
   "id": "68ddaa2f",
   "metadata": {},
   "outputs": [],
   "source": [
    "startdate = df_items_assets[\"datetime\"].min()\n",
    "enddate = df_items_assets[\"datetime\"].max()\n",
    "print(f\"Start Date: {startdate}\\nEnd Date: {enddate}\")"
   ]
  },
  {
   "cell_type": "markdown",
   "id": "bdc05a00",
   "metadata": {},
   "source": [
    "Create STRDS"
   ]
  },
  {
   "cell_type": "code",
   "execution_count": 30,
   "id": "create-strds",
   "metadata": {},
   "outputs": [],
   "source": [
    "#| label: create-strds\n",
    "#| echo: true\n",
    "#| eval: true\n",
    "#| include: true\n",
    "#| output: true\n",
    "\n",
    "# Create the space time dataset\n",
    "gs.run_command(\n",
    "    \"t.create\",\n",
    "    output=\"sentinel_2_red_nir\",\n",
    "    type=\"strds\",\n",
    "    temporaltype=\"absolute\",\n",
    "    title=\"Sentinel 2 Red/NIR Bands\",\n",
    "    description=\"Sentinel 2 Red/NIR Bands from 2024-04-01/2024-09-30\",\n",
    "    overwrite=True,\n",
    ")"
   ]
  },
  {
   "cell_type": "markdown",
   "id": "a7842ea9",
   "metadata": {},
   "source": [
    "Download the data"
   ]
  },
  {
   "cell_type": "code",
   "execution_count": 31,
   "id": "download-assets",
   "metadata": {},
   "outputs": [],
   "source": [
    "#| label: download-assets\n",
    "#| echo: true\n",
    "#| eval: false\n",
    "#| include: true\n",
    "#| output: true\n",
    "print(gs.run_command(\n",
    "    \"t.stac.item\",\n",
    "    url=stac_url,\n",
    "    collection_id=\"sentinel-2-l2a\",\n",
    "    datetime=\"2024-04-01/2024-09-30\",\n",
    "    asset_keys=\"red,nir\",\n",
    "    query=json.dumps(stac_query),\n",
    "    strds_output=\"outputs/s2_red_nir.txt\",\n",
    "    format=\"json\",\n",
    "    method=\"nearest\",\n",
    "    resolution=\"value\",\n",
    "    resolution_value=\"10\",\n",
    "    extent=\"region\",\n",
    "    nprocs=7,\n",
    "    memory=1024 * 7,\n",
    "    flags=\"d\",\n",
    "))"
   ]
  },
  {
   "cell_type": "markdown",
   "id": "28ec9152",
   "metadata": {},
   "source": [
    "Register the data"
   ]
  },
  {
   "cell_type": "code",
   "execution_count": 32,
   "id": "register-strds",
   "metadata": {},
   "outputs": [],
   "source": [
    "#| label: register-strds\n",
    "#| echo: true\n",
    "#| eval: false\n",
    "#| include: true\n",
    "#| output: true\n",
    "\n",
    "# Register the output maps into a space time dataset\n",
    "gs.run_command(\n",
    "    \"t.register\",\n",
    "    input=\"sentinel_2_red_nir\",\n",
    "    file=\"outputs/s2_red_nir.txt\",\n",
    "    type=\"raster\",\n",
    "    unit=\"days\"\n",
    ")"
   ]
  },
  {
   "cell_type": "code",
   "execution_count": 33,
   "id": "4cc6e783",
   "metadata": {},
   "outputs": [],
   "source": [
    "gs.run_command(\"t.info\", type=\"strds\", input=\"sentinel_2_red_nir\")"
   ]
  },
  {
   "cell_type": "code",
   "execution_count": 34,
   "id": "display-composite",
   "metadata": {},
   "outputs": [
    {
     "data": {
      "image/png": "[encoded data removed]",
      "text/plain": [
       "<IPython.core.display.Image object>"
      ]
     },
     "metadata": {},
     "output_type": "display_data"
    },
    {
     "data": {
      "text/plain": [
       "None"
      ]
     },
     "metadata": {},
     "output_type": "display_data"
    }
   ],
   "source": [
    "#| label: display-composite\n",
    "#| echo: true\n",
    "#| eval: true\n",
    "#| include: true\n",
    "#| output: true\n",
    "\n",
    "m = gj.Map(use_region=True)\n",
    "m.d_rgb(\n",
    "    red=\"sentinel-2-l2a.S2A_17SPV_20240909_0_L2A.red\",\n",
    "    blue=\"sentinel-2-l2a.S2A_17SPV_20240909_0_L2A.nir\",\n",
    "    green=\"sentinel-2-l2a.S2A_17SPV_20240909_0_L2A.nir\",\n",
    ")\n",
    "m.d_barscale()\n",
    "display(m.show())"
   ]
  },
  {
   "cell_type": "code",
   "execution_count": 35,
   "id": "display-time-series",
   "metadata": {},
   "outputs": [],
   "source": [
    "#| label: display-time-series\n",
    "#| echo: true\n",
    "#| eval: true\n",
    "#| include: true\n",
    "#| output: true\n",
    "\n",
    "# Create Time Series Map\n",
    "# m = gj.TimeSeriesMap(use_region=True)\n",
    "# m.add_raster_series(\"sentinel_2_red_nir\", fill_gaps=False)\n",
    "# m.d_barscale()\n",
    "# m.render()\n",
    "# display(m.show())"
   ]
  },
  {
   "cell_type": "code",
   "execution_count": 36,
   "id": "ea8d9684",
   "metadata": {},
   "outputs": [],
   "source": [
    "strds_df = pd.DataFrame(\n",
    "    gs.parse_command(\n",
    "        \"t.rast.list\",\n",
    "        input=\"sentinel_2_red_nir\",\n",
    "        order=\"start_time\",\n",
    "        columns=[\"name\", \"semantic_label\", \"start_time\", \"end_time\", \"min\", \"max\"],\n",
    "        format=\"csv\",\n",
    "    )\n",
    ")\n",
    "\n",
    "# Convert start_time to datetime for better formatting\n",
    "strds_df[\"start_time\"] = pd.to_datetime(strds_df[\"start_time\"])\n",
    "\n",
    "sns.lineplot(\n",
    "    x=\"start_time\", y=\"max\", hue=\"semantic_label\", style=\"semantic_label\", data=strds_df\n",
    ")\n",
    "\n",
    "# Format x-axis labels for better readability\n",
    "import matplotlib.dates as mdates\n",
    "import matplotlib.pyplot as plt\n",
    "\n",
    "plt.gca().xaxis.set_major_formatter(mdates.DateFormatter('%Y-%m-%d'))\n",
    "plt.gcf().autofmt_xdate()  # Auto-rotate date labels"
   ]
  },
  {
   "cell_type": "code",
   "execution_count": 37,
   "id": "663f1352",
   "metadata": {},
   "outputs": [],
   "source": [
    "gs.run_command(\n",
    "    \"t.rast.mapcalc\",\n",
    "    inputs=[\"sentinel_2_red_nir.nir\", \"sentinel_2_red_nir.red\"],\n",
    "    output=\"ndvi\",\n",
    "    basename=\"ndvi\",\n",
    "    method=\"follows\",\n",
    "    expression=\"float('sentinel_2_red_nir.red' - 'sentinel_2_red_nir.nir') / ('sentinel_2_red_nir.red' + 'sentinel_2_red_nir.nir')\",\n",
    "    overwrite=True,\n",
    "    flags=\"n\"\n",
    ")"
   ]
  },
  {
   "cell_type": "code",
   "execution_count": 38,
   "id": "c728c489",
   "metadata": {},
   "outputs": [],
   "source": [
    "gs.run_command(\"t.list\", type=\"strds\")"
   ]
  },
  {
   "cell_type": "code",
   "execution_count": 39,
   "id": "595f7bc7",
   "metadata": {},
   "outputs": [],
   "source": [
    "# | layout-ncol: 3\n",
    "ndvi_list = gs.parse_command(\n",
    "    \"t.rast.list\",\n",
    "    input=\"ndvi\",\n",
    "    order=\"start_time\",\n",
    "    columns=[\"name\", \"semantic_label\", \"start_time\", \"end_time\", \"min\", \"max\"],\n",
    "    format=\"csv\",\n",
    ")\n",
    "gs.run_command(\"t.rast.colors\", input=\"ndvi\", color=\"ndvi\")\n",
    "\n",
    "for ndvi in ndvi_list:\n",
    "    map_name = ndvi.get(\"name\")\n",
    "    m = gj.Map(use_region=True, width=500)\n",
    "    m.d_rast(map=map_name)\n",
    "    m.d_barscale()\n",
    "    m.d_legend(raster=map_name, flags=\"b\")\n",
    "    display(m.show())"
   ]
  },
  {
   "cell_type": "markdown",
   "id": "b27d22b0",
   "metadata": {},
   "source": [
    "## References\n",
    "\n",
    "- [pystac Documentation](https://pystac.readthedocs.io/)\n",
    "- [pystac_client Documentation](https://pystac-client.readthedocs.io/)"
   ]
  }
 ],
 "metadata": {
  "kernelspec": {
   "display_name": "Python 3 (ipykernel)",
   "language": "python",
   "name": "python3",
   "path": "/home/coreywhite/.local/share/jupyter/kernels/python3"
  },
  "language_info": {
   "codemirror_mode": {
    "name": "ipython",
    "version": 3
   },
   "file_extension": ".py",
   "mimetype": "text/x-python",
   "name": "python",
   "nbconvert_exporter": "python",
   "pygments_lexer": "ipython3",
   "version": "3.13.2"
  },
  "widgets": {
   "application/vnd.jupyter.widget-state+json": {
    "state": {
     "0280169a278e49ab8999f8fc26f0c94f": {
      "model_module": "@jupyter-widgets/base",
      "model_module_version": "2.0.0",
      "model_name": "LayoutModel",
      "state": {
       "_model_module": "@jupyter-widgets/base",
       "_model_module_version": "2.0.0",
       "_model_name": "LayoutModel",
       "_view_count": null,
       "_view_module": "@jupyter-widgets/base",
       "_view_module_version": "2.0.0",
       "_view_name": "LayoutView",
       "align_content": null,
       "align_items": null,
       "align_self": null,
       "border_bottom": null,
       "border_left": null,
       "border_right": null,
       "border_top": null,
       "bottom": null,
       "display": null,
       "flex": null,
       "flex_flow": null,
       "grid_area": null,
       "grid_auto_columns": null,
       "grid_auto_flow": null,
       "grid_auto_rows": null,
       "grid_column": null,
       "grid_gap": null,
       "grid_row": null,
       "grid_template_areas": null,
       "grid_template_columns": null,
       "grid_template_rows": null,
       "height": null,
       "justify_content": null,
       "justify_items": null,
       "left": null,
       "margin": null,
       "max_height": null,
       "max_width": null,
       "min_height": null,
       "min_width": null,
       "object_fit": null,
       "object_position": null,
       "order": null,
       "overflow": null,
       "padding": null,
       "right": null,
       "top": null,
       "visibility": null,
       "width": null
      }
     },
     "090cbab3234d48e4a1fb98469db936a2": {
      "model_module": "@jupyter-widgets/controls",
      "model_module_version": "2.0.0",
      "model_name": "ButtonModel",
      "state": {
       "_dom_classes": [],
       "_model_module": "@jupyter-widgets/controls",
       "_model_module_version": "2.0.0",
       "_model_name": "ButtonModel",
       "_view_count": null,
       "_view_module": "@jupyter-widgets/controls",
       "_view_module_version": "2.0.0",
       "_view_name": "ButtonView",
       "button_style": "",
       "description": "Save",
       "disabled": false,
       "icon": "",
       "layout": "IPY_MODEL_b03733c1d80d4af696bcc360fb94457e",
       "style": "IPY_MODEL_3b21c0a4c013474ab69ce0926686ffda",
       "tabbable": null,
       "tooltip": null
      }
     },
     "0ad37bab84ef45aaa297ad653c3ae2ca": {
      "model_module": "@jupyter-widgets/controls",
      "model_module_version": "2.0.0",
      "model_name": "TextModel",
      "state": {
       "_dom_classes": [],
       "_model_module": "@jupyter-widgets/controls",
       "_model_module_version": "2.0.0",
       "_model_name": "TextModel",
       "_view_count": null,
       "_view_module": "@jupyter-widgets/controls",
       "_view_module_version": "2.0.0",
       "_view_name": "TextView",
       "continuous_update": true,
       "description": "New vector map name:",
       "description_allow_html": false,
       "disabled": false,
       "layout": "IPY_MODEL_e2868a3fb32a45aaa53504cfe053aaeb",
       "placeholder": "​",
       "style": "IPY_MODEL_53c7bd32ad694740b77de8c0f48e4251",
       "tabbable": null,
       "tooltip": null,
       "value": ""
      }
     },
     "0cc4b242a18344659c133f2399200853": {
      "model_module": "jupyter-leaflet",
      "model_module_version": "^0.19",
      "model_name": "LeafletMapStyleModel",
      "state": {
       "_model_module": "jupyter-leaflet",
       "_model_module_version": "^0.19",
       "_model_name": "LeafletMapStyleModel",
       "_view_count": null,
       "_view_module": "@jupyter-widgets/base",
       "_view_module_version": "2.0.0",
       "_view_name": "StyleView",
       "cursor": "grab"
      }
     },
     "1162aa1fb28647d0bd6acc472f627e6d": {
      "model_module": "jupyter-leaflet",
      "model_module_version": "^0.19",
      "model_name": "LeafletMapStyleModel",
      "state": {
       "_model_module": "jupyter-leaflet",
       "_model_module_version": "^0.19",
       "_model_name": "LeafletMapStyleModel",
       "_view_count": null,
       "_view_module": "@jupyter-widgets/base",
       "_view_module_version": "2.0.0",
       "_view_name": "StyleView",
       "cursor": "grab"
      }
     },
     "13163072b175498e8865cf6c3197e0e7": {
      "model_module": "jupyter-leaflet",
      "model_module_version": "^0.19",
      "model_name": "LeafletMapModel",
      "state": {
       "_dom_classes": [],
       "_model_module": "jupyter-leaflet",
       "_model_module_version": "^0.19",
       "_model_name": "LeafletMapModel",
       "_view_count": null,
       "_view_module": "jupyter-leaflet",
       "_view_module_version": "^0.19",
       "_view_name": "LeafletMapView",
       "bottom": 0.0,
       "bounce_at_zoom_limits": true,
       "box_zoom": true,
       "center": [
        0.0,
        0.0
       ],
       "close_popup_on_click": true,
       "controls": [
        "IPY_MODEL_692ec09dd22c4634adc3af4b42d4a82d",
        "IPY_MODEL_37eea2922ad2433aa48052ec8f87d01c",
        "IPY_MODEL_93cc041a6631420c9363e59a3ddc4010",
        "IPY_MODEL_aaf119b8398c49b69174d6a611e61eb0",
        "IPY_MODEL_96c25cf32bbf4eac8412e55d38e392d9"
       ],
       "crs": {
        "custom": false,
        "name": "EPSG3857"
       },
       "default_style": "IPY_MODEL_0cc4b242a18344659c133f2399200853",
       "double_click_zoom": true,
       "dragging": true,
       "dragging_style": "IPY_MODEL_3f34c3cb66134c4fa826def47767f9bc",
       "east": 0.0,
       "fullscreen": false,
       "inertia": true,
       "inertia_deceleration": 3000,
       "inertia_max_speed": 1500,
       "interpolation": "bilinear",
       "keyboard": true,
       "keyboard_pan_offset": 80,
       "keyboard_zoom_offset": 1,
       "layers": [
        "IPY_MODEL_5be220a6aa434bf9bb4567b668d9e65d"
       ],
       "layout": "IPY_MODEL_18cb7b932a484171a57370671cee442f",
       "left": 9007199254740991.0,
       "max_zoom": null,
       "min_zoom": null,
       "modisdate": "2025-05-21",
       "north": 0.0,
       "options": [
        "bounce_at_zoom_limits",
        "box_zoom",
        "center",
        "close_popup_on_click",
        "double_click_zoom",
        "dragging",
        "fullscreen",
        "inertia",
        "inertia_deceleration",
        "inertia_max_speed",
        "interpolation",
        "keyboard",
        "keyboard_pan_offset",
        "keyboard_zoom_offset",
        "max_zoom",
        "min_zoom",
        "prefer_canvas",
        "scroll_wheel_zoom",
        "tap",
        "tap_tolerance",
        "touch_zoom",
        "world_copy_jump",
        "zoom",
        "zoom_animation_threshold",
        "zoom_delta",
        "zoom_snap"
       ],
       "panes": {},
       "prefer_canvas": false,
       "right": 0.0,
       "scroll_wheel_zoom": true,
       "south": 0.0,
       "style": "IPY_MODEL_cca2ef355e354431a5768002d9b7ab6a",
       "tabbable": null,
       "tap": true,
       "tap_tolerance": 15,
       "tooltip": null,
       "top": 9007199254740991.0,
       "touch_zoom": true,
       "west": 0.0,
       "window_url": "",
       "world_copy_jump": false,
       "zoom": 12.0,
       "zoom_animation_threshold": 4,
       "zoom_delta": 1.0,
       "zoom_snap": 1.0
      }
     },
     "16099d2ec95b4bbdb0076ea3e050d1b6": {
      "model_module": "jupyter-leaflet",
      "model_module_version": "^0.19",
      "model_name": "LeafletWidgetControlModel",
      "state": {
       "_model_module": "jupyter-leaflet",
       "_model_module_version": "^0.19",
       "_model_name": "LeafletWidgetControlModel",
       "_view_count": null,
       "_view_module": "jupyter-leaflet",
       "_view_module_version": "^0.19",
       "_view_name": "LeafletWidgetControlView",
       "max_height": null,
       "max_width": null,
       "min_height": null,
       "min_width": null,
       "options": [
        "position",
        "transparent_bg"
       ],
       "position": "topright",
       "transparent_bg": false,
       "widget": "IPY_MODEL_ec9183d648c246aaa3a6c56f9e4d50d8"
      }
     },
     "18cb7b932a484171a57370671cee442f": {
      "model_module": "@jupyter-widgets/base",
      "model_module_version": "2.0.0",
      "model_name": "LayoutModel",
      "state": {
       "_model_module": "@jupyter-widgets/base",
       "_model_module_version": "2.0.0",
       "_model_name": "LayoutModel",
       "_view_count": null,
       "_view_module": "@jupyter-widgets/base",
       "_view_module_version": "2.0.0",
       "_view_name": "LayoutView",
       "align_content": null,
       "align_items": null,
       "align_self": null,
       "border_bottom": null,
       "border_left": null,
       "border_right": null,
       "border_top": null,
       "bottom": null,
       "display": null,
       "flex": null,
       "flex_flow": null,
       "grid_area": null,
       "grid_auto_columns": null,
       "grid_auto_flow": null,
       "grid_auto_rows": null,
       "grid_column": null,
       "grid_gap": null,
       "grid_row": null,
       "grid_template_areas": null,
       "grid_template_columns": null,
       "grid_template_rows": null,
       "height": "400px",
       "justify_content": null,
       "justify_items": null,
       "left": null,
       "margin": null,
       "max_height": null,
       "max_width": null,
       "min_height": null,
       "min_width": null,
       "object_fit": null,
       "object_position": null,
       "order": null,
       "overflow": null,
       "padding": null,
       "right": null,
       "top": null,
       "visibility": null,
       "width": "400px"
      }
     },
     "1c73e28d78a44568a507a6a377d505b9": {
      "model_module": "@jupyter-widgets/base",
      "model_module_version": "2.0.0",
      "model_name": "LayoutModel",
      "state": {
       "_model_module": "@jupyter-widgets/base",
       "_model_module_version": "2.0.0",
       "_model_name": "LayoutModel",
       "_view_count": null,
       "_view_module": "@jupyter-widgets/base",
       "_view_module_version": "2.0.0",
       "_view_name": "LayoutView",
       "align_content": null,
       "align_items": null,
       "align_self": null,
       "border_bottom": null,
       "border_left": null,
       "border_right": null,
       "border_top": null,
       "bottom": null,
       "display": "none",
       "flex": null,
       "flex_flow": null,
       "grid_area": null,
       "grid_auto_columns": null,
       "grid_auto_flow": null,
       "grid_auto_rows": null,
       "grid_column": null,
       "grid_gap": null,
       "grid_row": null,
       "grid_template_areas": null,
       "grid_template_columns": null,
       "grid_template_rows": null,
       "height": null,
       "justify_content": null,
       "justify_items": null,
       "left": null,
       "margin": null,
       "max_height": "300px",
       "max_width": null,
       "min_height": null,
       "min_width": null,
       "object_fit": null,
       "object_position": null,
       "order": null,
       "overflow": "auto",
       "padding": null,
       "right": null,
       "top": null,
       "visibility": null,
       "width": "100%"
      }
     },
     "2351bd64dd3348faaff29347d66b4c31": {
      "model_module": "@jupyter-widgets/base",
      "model_module_version": "2.0.0",
      "model_name": "LayoutModel",
      "state": {
       "_model_module": "@jupyter-widgets/base",
       "_model_module_version": "2.0.0",
       "_model_name": "LayoutModel",
       "_view_count": null,
       "_view_module": "@jupyter-widgets/base",
       "_view_module_version": "2.0.0",
       "_view_name": "LayoutView",
       "align_content": null,
       "align_items": null,
       "align_self": null,
       "border_bottom": null,
       "border_left": null,
       "border_right": null,
       "border_top": null,
       "bottom": null,
       "display": null,
       "flex": null,
       "flex_flow": null,
       "grid_area": null,
       "grid_auto_columns": null,
       "grid_auto_flow": null,
       "grid_auto_rows": null,
       "grid_column": null,
       "grid_gap": null,
       "grid_row": null,
       "grid_template_areas": null,
       "grid_template_columns": null,
       "grid_template_rows": null,
       "height": null,
       "justify_content": null,
       "justify_items": null,
       "left": null,
       "margin": null,
       "max_height": null,
       "max_width": null,
       "min_height": null,
       "min_width": null,
       "object_fit": null,
       "object_position": null,
       "order": null,
       "overflow": null,
       "padding": null,
       "right": null,
       "top": null,
       "visibility": null,
       "width": null
      }
     },
     "24d4f8e19902426fb86b33c0312d2ac3": {
      "model_module": "jupyter-leaflet",
      "model_module_version": "^0.19",
      "model_name": "LeafletZoomControlModel",
      "state": {
       "_model_module": "jupyter-leaflet",
       "_model_module_version": "^0.19",
       "_model_name": "LeafletZoomControlModel",
       "_view_count": null,
       "_view_module": "jupyter-leaflet",
       "_view_module_version": "^0.19",
       "_view_name": "LeafletZoomControlView",
       "options": [
        "position",
        "zoom_in_text",
        "zoom_in_title",
        "zoom_out_text",
        "zoom_out_title"
       ],
       "position": "topleft",
       "zoom_in_text": "+",
       "zoom_in_title": "Zoom in",
       "zoom_out_text": "-",
       "zoom_out_title": "Zoom out"
      }
     },
     "27d28afa7fe442c6b3e456dccd05a1fc": {
      "model_module": "@jupyter-widgets/base",
      "model_module_version": "2.0.0",
      "model_name": "LayoutModel",
      "state": {
       "_model_module": "@jupyter-widgets/base",
       "_model_module_version": "2.0.0",
       "_model_name": "LayoutModel",
       "_view_count": null,
       "_view_module": "@jupyter-widgets/base",
       "_view_module_version": "2.0.0",
       "_view_name": "LayoutView",
       "align_content": null,
       "align_items": null,
       "align_self": null,
       "border_bottom": null,
       "border_left": null,
       "border_right": null,
       "border_top": null,
       "bottom": null,
       "display": null,
       "flex": null,
       "flex_flow": null,
       "grid_area": null,
       "grid_auto_columns": null,
       "grid_auto_flow": null,
       "grid_auto_rows": null,
       "grid_column": null,
       "grid_gap": null,
       "grid_row": null,
       "grid_template_areas": null,
       "grid_template_columns": null,
       "grid_template_rows": null,
       "height": null,
       "justify_content": null,
       "justify_items": null,
       "left": null,
       "margin": null,
       "max_height": null,
       "max_width": null,
       "min_height": null,
       "min_width": null,
       "object_fit": null,
       "object_position": null,
       "order": null,
       "overflow": null,
       "padding": null,
       "right": null,
       "top": null,
       "visibility": null,
       "width": null
      }
     },
     "2c5d570f95a841089eac635658f89cbb": {
      "model_module": "jupyter-leaflet",
      "model_module_version": "^0.19",
      "model_name": "LeafletLayersControlModel",
      "state": {
       "_model_module": "jupyter-leaflet",
       "_model_module_version": "^0.19",
       "_model_name": "LeafletLayersControlModel",
       "_view_count": null,
       "_view_module": "jupyter-leaflet",
       "_view_module_version": "^0.19",
       "_view_name": "LeafletLayersControlView",
       "collapsed": true,
       "options": [
        "collapsed",
        "position"
       ],
       "position": "topleft"
      }
     },
     "34e3dd792ff947dfaa7daaa0f3a457d3": {
      "model_module": "@jupyter-widgets/base",
      "model_module_version": "2.0.0",
      "model_name": "LayoutModel",
      "state": {
       "_model_module": "@jupyter-widgets/base",
       "_model_module_version": "2.0.0",
       "_model_name": "LayoutModel",
       "_view_count": null,
       "_view_module": "@jupyter-widgets/base",
       "_view_module_version": "2.0.0",
       "_view_name": "LayoutView",
       "align_content": null,
       "align_items": null,
       "align_self": null,
       "border_bottom": null,
       "border_left": null,
       "border_right": null,
       "border_top": null,
       "bottom": null,
       "display": null,
       "flex": null,
       "flex_flow": null,
       "grid_area": null,
       "grid_auto_columns": null,
       "grid_auto_flow": null,
       "grid_auto_rows": null,
       "grid_column": null,
       "grid_gap": null,
       "grid_row": null,
       "grid_template_areas": null,
       "grid_template_columns": null,
       "grid_template_rows": null,
       "height": null,
       "justify_content": null,
       "justify_items": null,
       "left": null,
       "margin": null,
       "max_height": null,
       "max_width": null,
       "min_height": null,
       "min_width": null,
       "object_fit": null,
       "object_position": null,
       "order": null,
       "overflow": null,
       "padding": null,
       "right": null,
       "top": null,
       "visibility": null,
       "width": null
      }
     },
     "37d7429543a9452d925698d36d771318": {
      "model_module": "@jupyter-widgets/controls",
      "model_module_version": "2.0.0",
      "model_name": "ButtonStyleModel",
      "state": {
       "_model_module": "@jupyter-widgets/controls",
       "_model_module_version": "2.0.0",
       "_model_name": "ButtonStyleModel",
       "_view_count": null,
       "_view_module": "@jupyter-widgets/base",
       "_view_module_version": "2.0.0",
       "_view_name": "StyleView",
       "button_color": null,
       "font_family": null,
       "font_size": null,
       "font_style": null,
       "font_variant": null,
       "font_weight": null,
       "text_color": null,
       "text_decoration": null
      }
     },
     "37eea2922ad2433aa48052ec8f87d01c": {
      "model_module": "jupyter-leaflet",
      "model_module_version": "^0.19",
      "model_name": "LeafletAttributionControlModel",
      "state": {
       "_model_module": "jupyter-leaflet",
       "_model_module_version": "^0.19",
       "_model_name": "LeafletAttributionControlModel",
       "_view_count": null,
       "_view_module": "jupyter-leaflet",
       "_view_module_version": "^0.19",
       "_view_name": "LeafletAttributionControlView",
       "options": [
        "position",
        "prefix"
       ],
       "position": "bottomright",
       "prefix": "ipyleaflet"
      }
     },
     "3b21c0a4c013474ab69ce0926686ffda": {
      "model_module": "@jupyter-widgets/controls",
      "model_module_version": "2.0.0",
      "model_name": "ButtonStyleModel",
      "state": {
       "_model_module": "@jupyter-widgets/controls",
       "_model_module_version": "2.0.0",
       "_model_name": "ButtonStyleModel",
       "_view_count": null,
       "_view_module": "@jupyter-widgets/base",
       "_view_module_version": "2.0.0",
       "_view_name": "StyleView",
       "button_color": null,
       "font_family": null,
       "font_size": null,
       "font_style": null,
       "font_variant": null,
       "font_weight": null,
       "text_color": null,
       "text_decoration": null
      }
     },
     "3da6dff288424363a61e603dba218fbe": {
      "model_module": "@jupyter-widgets/base",
      "model_module_version": "2.0.0",
      "model_name": "LayoutModel",
      "state": {
       "_model_module": "@jupyter-widgets/base",
       "_model_module_version": "2.0.0",
       "_model_name": "LayoutModel",
       "_view_count": null,
       "_view_module": "@jupyter-widgets/base",
       "_view_module_version": "2.0.0",
       "_view_name": "LayoutView",
       "align_content": null,
       "align_items": null,
       "align_self": null,
       "border_bottom": null,
       "border_left": null,
       "border_right": null,
       "border_top": null,
       "bottom": null,
       "display": null,
       "flex": null,
       "flex_flow": null,
       "grid_area": null,
       "grid_auto_columns": null,
       "grid_auto_flow": null,
       "grid_auto_rows": null,
       "grid_column": null,
       "grid_gap": null,
       "grid_row": null,
       "grid_template_areas": null,
       "grid_template_columns": null,
       "grid_template_rows": null,
       "height": null,
       "justify_content": null,
       "justify_items": null,
       "left": null,
       "margin": null,
       "max_height": null,
       "max_width": null,
       "min_height": null,
       "min_width": null,
       "object_fit": null,
       "object_position": null,
       "order": null,
       "overflow": null,
       "padding": null,
       "right": null,
       "top": null,
       "visibility": null,
       "width": null
      }
     },
     "3f34c3cb66134c4fa826def47767f9bc": {
      "model_module": "jupyter-leaflet",
      "model_module_version": "^0.19",
      "model_name": "LeafletMapStyleModel",
      "state": {
       "_model_module": "jupyter-leaflet",
       "_model_module_version": "^0.19",
       "_model_name": "LeafletMapStyleModel",
       "_view_count": null,
       "_view_module": "@jupyter-widgets/base",
       "_view_module_version": "2.0.0",
       "_view_name": "StyleView",
       "cursor": "move"
      }
     },
     "41b7934f95654335827962e9b97a6a21": {
      "model_module": "@jupyter-widgets/base",
      "model_module_version": "2.0.0",
      "model_name": "LayoutModel",
      "state": {
       "_model_module": "@jupyter-widgets/base",
       "_model_module_version": "2.0.0",
       "_model_name": "LayoutModel",
       "_view_count": null,
       "_view_module": "@jupyter-widgets/base",
       "_view_module_version": "2.0.0",
       "_view_name": "LayoutView",
       "align_content": null,
       "align_items": null,
       "align_self": null,
       "border_bottom": null,
       "border_left": null,
       "border_right": null,
       "border_top": null,
       "bottom": null,
       "display": null,
       "flex": null,
       "flex_flow": null,
       "grid_area": null,
       "grid_auto_columns": null,
       "grid_auto_flow": null,
       "grid_auto_rows": null,
       "grid_column": null,
       "grid_gap": null,
       "grid_row": null,
       "grid_template_areas": null,
       "grid_template_columns": null,
       "grid_template_rows": null,
       "height": null,
       "justify_content": null,
       "justify_items": null,
       "left": null,
       "margin": null,
       "max_height": null,
       "max_width": null,
       "min_height": null,
       "min_width": null,
       "object_fit": null,
       "object_position": null,
       "order": null,
       "overflow": null,
       "padding": null,
       "right": null,
       "top": null,
       "visibility": null,
       "width": "150px"
      }
     },
     "4484691f56154ae4893aea84290f1b9f": {
      "model_module": "@jupyter-widgets/controls",
      "model_module_version": "2.0.0",
      "model_name": "ToggleButtonStyleModel",
      "state": {
       "_model_module": "@jupyter-widgets/controls",
       "_model_module_version": "2.0.0",
       "_model_name": "ToggleButtonStyleModel",
       "_view_count": null,
       "_view_module": "@jupyter-widgets/base",
       "_view_module_version": "2.0.0",
       "_view_name": "StyleView",
       "description_width": "",
       "font_family": null,
       "font_size": null,
       "font_style": null,
       "font_variant": null,
       "font_weight": null,
       "text_color": null,
       "text_decoration": null
      }
     },
     "45c22a850f6d4154bd714169e9795102": {
      "model_module": "@jupyter-widgets/controls",
      "model_module_version": "2.0.0",
      "model_name": "ButtonStyleModel",
      "state": {
       "_model_module": "@jupyter-widgets/controls",
       "_model_module_version": "2.0.0",
       "_model_name": "ButtonStyleModel",
       "_view_count": null,
       "_view_module": "@jupyter-widgets/base",
       "_view_module_version": "2.0.0",
       "_view_name": "StyleView",
       "button_color": null,
       "font_family": null,
       "font_size": null,
       "font_style": null,
       "font_variant": null,
       "font_weight": null,
       "text_color": null,
       "text_decoration": null
      }
     },
     "4afd7c095fca4bbd9afda958d5dac591": {
      "model_module": "@jupyter-widgets/controls",
      "model_module_version": "2.0.0",
      "model_name": "ButtonModel",
      "state": {
       "_dom_classes": [],
       "_model_module": "@jupyter-widgets/controls",
       "_model_module_version": "2.0.0",
       "_model_name": "ButtonModel",
       "_view_count": null,
       "_view_module": "@jupyter-widgets/controls",
       "_view_module_version": "2.0.0",
       "_view_name": "ButtonView",
       "button_style": "",
       "description": "Update region",
       "disabled": true,
       "icon": "",
       "layout": "IPY_MODEL_e73fad0721a642ba975982dfb5974ff7",
       "style": "IPY_MODEL_824e9590fc9e48969e103c07a6c40149",
       "tabbable": null,
       "tooltip": "Click to update region"
      }
     },
     "50accb9d0fb041749479f05c779f7273": {
      "model_module": "@jupyter-widgets/output",
      "model_module_version": "1.0.0",
      "model_name": "OutputModel",
      "state": {
       "_dom_classes": [],
       "_model_module": "@jupyter-widgets/output",
       "_model_module_version": "1.0.0",
       "_model_name": "OutputModel",
       "_view_count": null,
       "_view_module": "@jupyter-widgets/output",
       "_view_module_version": "1.0.0",
       "_view_name": "OutputView",
       "layout": "IPY_MODEL_1c73e28d78a44568a507a6a377d505b9",
       "msg_id": "",
       "outputs": [],
       "tabbable": null,
       "tooltip": null
      }
     },
     "53c7bd32ad694740b77de8c0f48e4251": {
      "model_module": "@jupyter-widgets/controls",
      "model_module_version": "2.0.0",
      "model_name": "TextStyleModel",
      "state": {
       "_model_module": "@jupyter-widgets/controls",
       "_model_module_version": "2.0.0",
       "_model_name": "TextStyleModel",
       "_view_count": null,
       "_view_module": "@jupyter-widgets/base",
       "_view_module_version": "2.0.0",
       "_view_name": "StyleView",
       "background": null,
       "description_width": "initial",
       "font_size": null,
       "text_color": null
      }
     },
     "550b1feb49bd48ea8ac4931aecd29d28": {
      "model_module": "@jupyter-widgets/controls",
      "model_module_version": "2.0.0",
      "model_name": "ToggleButtonModel",
      "state": {
       "_dom_classes": [],
       "_model_module": "@jupyter-widgets/controls",
       "_model_module_version": "2.0.0",
       "_model_name": "ToggleButtonModel",
       "_view_count": null,
       "_view_module": "@jupyter-widgets/controls",
       "_view_module_version": "2.0.0",
       "_view_name": "ToggleButtonView",
       "button_style": "",
       "description": "",
       "description_allow_html": false,
       "disabled": false,
       "icon": "info",
       "layout": "IPY_MODEL_27d28afa7fe442c6b3e456dccd05a1fc",
       "style": "IPY_MODEL_ef556194abdc4f6b83f01ca67adff20e",
       "tabbable": null,
       "tooltip": "Click to query raster and vector maps",
       "value": false
      }
     },
     "553ef1e9880245848923d96ce63f40be": {
      "model_module": "@jupyter-widgets/controls",
      "model_module_version": "2.0.0",
      "model_name": "ButtonModel",
      "state": {
       "_dom_classes": [],
       "_model_module": "@jupyter-widgets/controls",
       "_model_module_version": "2.0.0",
       "_model_name": "ButtonModel",
       "_view_count": null,
       "_view_module": "@jupyter-widgets/controls",
       "_view_module_version": "2.0.0",
       "_view_name": "ButtonView",
       "button_style": "",
       "description": "Save",
       "disabled": false,
       "icon": "",
       "layout": "IPY_MODEL_6b07bee0ac3b41ecafe7497eaf597218",
       "style": "IPY_MODEL_45c22a850f6d4154bd714169e9795102",
       "tabbable": null,
       "tooltip": null
      }
     },
     "5be220a6aa434bf9bb4567b668d9e65d": {
      "model_module": "jupyter-leaflet",
      "model_module_version": "^0.19",
      "model_name": "LeafletTileLayerModel",
      "state": {
       "_model_module": "jupyter-leaflet",
       "_model_module_version": "^0.19",
       "_model_name": "LeafletTileLayerModel",
       "_view_count": null,
       "_view_module": "jupyter-leaflet",
       "_view_module_version": "^0.19",
       "_view_name": "LeafletTileLayerView",
       "attribution": "&copy; <a href=\"https://www.openstreetmap.org/copyright\">OpenStreetMap</a> contributors &copy; <a href=\"https://carto.com/attributions\">CARTO</a>",
       "base": true,
       "bottom": true,
       "bounds": null,
       "detect_retina": false,
       "loading": false,
       "max_native_zoom": null,
       "max_zoom": 20,
       "min_native_zoom": null,
       "min_zoom": 1,
       "name": "CartoDB.Positron",
       "no_wrap": false,
       "opacity": 1.0,
       "options": [
        "attribution",
        "bounds",
        "detect_retina",
        "max_native_zoom",
        "max_zoom",
        "min_native_zoom",
        "min_zoom",
        "no_wrap",
        "tile_size",
        "tms",
        "zoom_offset"
       ],
       "pane": "",
       "popup": null,
       "popup_max_height": null,
       "popup_max_width": 300,
       "popup_min_width": 50,
       "show_loading": false,
       "subitems": [],
       "tile_size": 256,
       "tms": false,
       "url": "https://a.basemaps.cartocdn.com/light_all/{z}/{x}/{y}.png",
       "visible": true,
       "zoom_offset": 0
      }
     },
     "692ec09dd22c4634adc3af4b42d4a82d": {
      "model_module": "jupyter-leaflet",
      "model_module_version": "^0.19",
      "model_name": "LeafletZoomControlModel",
      "state": {
       "_model_module": "jupyter-leaflet",
       "_model_module_version": "^0.19",
       "_model_name": "LeafletZoomControlModel",
       "_view_count": null,
       "_view_module": "jupyter-leaflet",
       "_view_module_version": "^0.19",
       "_view_name": "LeafletZoomControlView",
       "options": [
        "position",
        "zoom_in_text",
        "zoom_in_title",
        "zoom_out_text",
        "zoom_out_title"
       ],
       "position": "topleft",
       "zoom_in_text": "+",
       "zoom_in_title": "Zoom in",
       "zoom_out_text": "-",
       "zoom_out_title": "Zoom out"
      }
     },
     "6a8aa3e3b2af457f941b4a102032731d": {
      "model_module": "@jupyter-widgets/controls",
      "model_module_version": "2.0.0",
      "model_name": "ToggleButtonModel",
      "state": {
       "_dom_classes": [],
       "_model_module": "@jupyter-widgets/controls",
       "_model_module_version": "2.0.0",
       "_model_name": "ToggleButtonModel",
       "_view_count": null,
       "_view_module": "@jupyter-widgets/controls",
       "_view_module_version": "2.0.0",
       "_view_name": "ToggleButtonView",
       "button_style": "",
       "description": "",
       "description_allow_html": false,
       "disabled": false,
       "icon": "square-o",
       "layout": "IPY_MODEL_c958131b2c8c4b328806701a7e08ba68",
       "style": "IPY_MODEL_b20ad4002126479fb888b1c59abfd51f",
       "tabbable": null,
       "tooltip": "Click to show and edit computational region",
       "value": false
      }
     },
     "6b07bee0ac3b41ecafe7497eaf597218": {
      "model_module": "@jupyter-widgets/base",
      "model_module_version": "2.0.0",
      "model_name": "LayoutModel",
      "state": {
       "_model_module": "@jupyter-widgets/base",
       "_model_module_version": "2.0.0",
       "_model_name": "LayoutModel",
       "_view_count": null,
       "_view_module": "@jupyter-widgets/base",
       "_view_module_version": "2.0.0",
       "_view_name": "LayoutView",
       "align_content": null,
       "align_items": null,
       "align_self": null,
       "border_bottom": null,
       "border_left": null,
       "border_right": null,
       "border_top": null,
       "bottom": null,
       "display": null,
       "flex": null,
       "flex_flow": null,
       "grid_area": null,
       "grid_auto_columns": null,
       "grid_auto_flow": null,
       "grid_auto_rows": null,
       "grid_column": null,
       "grid_gap": null,
       "grid_row": null,
       "grid_template_areas": null,
       "grid_template_columns": null,
       "grid_template_rows": null,
       "height": null,
       "justify_content": null,
       "justify_items": null,
       "left": null,
       "margin": "1px 1px 1px 1px",
       "max_height": null,
       "max_width": null,
       "min_height": null,
       "min_width": null,
       "object_fit": null,
       "object_position": null,
       "order": null,
       "overflow": null,
       "padding": null,
       "right": null,
       "top": null,
       "visibility": null,
       "width": "20%"
      }
     },
     "6f009b70a4414049841a4f536447920e": {
      "model_module": "@jupyter-widgets/controls",
      "model_module_version": "2.0.0",
      "model_name": "HBoxModel",
      "state": {
       "_dom_classes": [],
       "_model_module": "@jupyter-widgets/controls",
       "_model_module_version": "2.0.0",
       "_model_name": "HBoxModel",
       "_view_count": null,
       "_view_module": "@jupyter-widgets/controls",
       "_view_module_version": "2.0.0",
       "_view_name": "HBoxView",
       "box_style": "",
       "children": [
        "IPY_MODEL_808816198f53449198231591f2ae7e62",
        "IPY_MODEL_6a8aa3e3b2af457f941b4a102032731d",
        "IPY_MODEL_8ff9c222ecd345f38a2503dcd472b392"
       ],
       "layout": "IPY_MODEL_fa26a3f5243240fc943619fe3307ce2c",
       "tabbable": null,
       "tooltip": null
      }
     },
     "6f3eba9fd7e24136928adeb9b811ba52": {
      "model_module": "@jupyter-widgets/base",
      "model_module_version": "2.0.0",
      "model_name": "LayoutModel",
      "state": {
       "_model_module": "@jupyter-widgets/base",
       "_model_module_version": "2.0.0",
       "_model_name": "LayoutModel",
       "_view_count": null,
       "_view_module": "@jupyter-widgets/base",
       "_view_module_version": "2.0.0",
       "_view_name": "LayoutView",
       "align_content": null,
       "align_items": null,
       "align_self": null,
       "border_bottom": null,
       "border_left": null,
       "border_right": null,
       "border_top": null,
       "bottom": null,
       "display": "none",
       "flex": null,
       "flex_flow": null,
       "grid_area": null,
       "grid_auto_columns": null,
       "grid_auto_flow": null,
       "grid_auto_rows": null,
       "grid_column": null,
       "grid_gap": null,
       "grid_row": null,
       "grid_template_areas": null,
       "grid_template_columns": null,
       "grid_template_rows": null,
       "height": null,
       "justify_content": null,
       "justify_items": null,
       "left": null,
       "margin": null,
       "max_height": "300px",
       "max_width": null,
       "min_height": null,
       "min_width": null,
       "object_fit": null,
       "object_position": null,
       "order": null,
       "overflow": "auto",
       "padding": null,
       "right": null,
       "top": null,
       "visibility": null,
       "width": "100%"
      }
     },
     "726238f3ce8a4aa18079f5a1abb6227f": {
      "model_module": "@jupyter-widgets/controls",
      "model_module_version": "2.0.0",
      "model_name": "ToggleButtonStyleModel",
      "state": {
       "_model_module": "@jupyter-widgets/controls",
       "_model_module_version": "2.0.0",
       "_model_name": "ToggleButtonStyleModel",
       "_view_count": null,
       "_view_module": "@jupyter-widgets/base",
       "_view_module_version": "2.0.0",
       "_view_name": "StyleView",
       "description_width": "",
       "font_family": null,
       "font_size": null,
       "font_style": null,
       "font_variant": null,
       "font_weight": null,
       "text_color": null,
       "text_decoration": null
      }
     },
     "730a283f21114e01891ac235e3a1edbb": {
      "model_module": "@jupyter-widgets/controls",
      "model_module_version": "2.0.0",
      "model_name": "TextStyleModel",
      "state": {
       "_model_module": "@jupyter-widgets/controls",
       "_model_module_version": "2.0.0",
       "_model_name": "TextStyleModel",
       "_view_count": null,
       "_view_module": "@jupyter-widgets/base",
       "_view_module_version": "2.0.0",
       "_view_name": "StyleView",
       "background": null,
       "description_width": "initial",
       "font_size": null,
       "text_color": null
      }
     },
     "7711a8553149467b83ba22c60faf7265": {
      "model_module": "jupyter-leaflet",
      "model_module_version": "^0.19",
      "model_name": "LeafletTileLayerModel",
      "state": {
       "_model_module": "jupyter-leaflet",
       "_model_module_version": "^0.19",
       "_model_name": "LeafletTileLayerModel",
       "_view_count": null,
       "_view_module": "jupyter-leaflet",
       "_view_module_version": "^0.19",
       "_view_name": "LeafletTileLayerView",
       "attribution": "&copy; <a href=\"https://www.openstreetmap.org/copyright\">OpenStreetMap</a> contributors &copy; <a href=\"https://carto.com/attributions\">CARTO</a>",
       "base": true,
       "bottom": true,
       "bounds": null,
       "detect_retina": false,
       "loading": false,
       "max_native_zoom": null,
       "max_zoom": 20,
       "min_native_zoom": null,
       "min_zoom": 1,
       "name": "CartoDB.Positron",
       "no_wrap": false,
       "opacity": 1.0,
       "options": [
        "attribution",
        "bounds",
        "detect_retina",
        "max_native_zoom",
        "max_zoom",
        "min_native_zoom",
        "min_zoom",
        "no_wrap",
        "tile_size",
        "tms",
        "zoom_offset"
       ],
       "pane": "",
       "popup": null,
       "popup_max_height": null,
       "popup_max_width": 300,
       "popup_min_width": 50,
       "show_loading": false,
       "subitems": [],
       "tile_size": 256,
       "tms": false,
       "url": "https://a.basemaps.cartocdn.com/light_all/{z}/{x}/{y}.png",
       "visible": true,
       "zoom_offset": 0
      }
     },
     "78c72804178b4cffb6682e07461a5e22": {
      "model_module": "@jupyter-widgets/base",
      "model_module_version": "2.0.0",
      "model_name": "LayoutModel",
      "state": {
       "_model_module": "@jupyter-widgets/base",
       "_model_module_version": "2.0.0",
       "_model_name": "LayoutModel",
       "_view_count": null,
       "_view_module": "@jupyter-widgets/base",
       "_view_module_version": "2.0.0",
       "_view_name": "LayoutView",
       "align_content": null,
       "align_items": null,
       "align_self": null,
       "border_bottom": null,
       "border_left": null,
       "border_right": null,
       "border_top": null,
       "bottom": null,
       "display": null,
       "flex": null,
       "flex_flow": null,
       "grid_area": null,
       "grid_auto_columns": null,
       "grid_auto_flow": null,
       "grid_auto_rows": null,
       "grid_column": null,
       "grid_gap": null,
       "grid_row": null,
       "grid_template_areas": null,
       "grid_template_columns": null,
       "grid_template_rows": null,
       "height": null,
       "justify_content": null,
       "justify_items": null,
       "left": null,
       "margin": null,
       "max_height": null,
       "max_width": null,
       "min_height": null,
       "min_width": null,
       "object_fit": null,
       "object_position": null,
       "order": null,
       "overflow": null,
       "padding": null,
       "right": null,
       "top": null,
       "visibility": null,
       "width": null
      }
     },
     "808816198f53449198231591f2ae7e62": {
      "model_module": "@jupyter-widgets/controls",
      "model_module_version": "2.0.0",
      "model_name": "ToggleButtonModel",
      "state": {
       "_dom_classes": [],
       "_model_module": "@jupyter-widgets/controls",
       "_model_module_version": "2.0.0",
       "_model_name": "ToggleButtonModel",
       "_view_count": null,
       "_view_module": "@jupyter-widgets/controls",
       "_view_module_version": "2.0.0",
       "_view_name": "ToggleButtonView",
       "button_style": "",
       "description": "",
       "description_allow_html": false,
       "disabled": false,
       "icon": "info",
       "layout": "IPY_MODEL_2351bd64dd3348faaff29347d66b4c31",
       "style": "IPY_MODEL_4484691f56154ae4893aea84290f1b9f",
       "tabbable": null,
       "tooltip": "Click to query raster and vector maps",
       "value": false
      }
     },
     "824e9590fc9e48969e103c07a6c40149": {
      "model_module": "@jupyter-widgets/controls",
      "model_module_version": "2.0.0",
      "model_name": "ButtonStyleModel",
      "state": {
       "_model_module": "@jupyter-widgets/controls",
       "_model_module_version": "2.0.0",
       "_model_name": "ButtonStyleModel",
       "_view_count": null,
       "_view_module": "@jupyter-widgets/base",
       "_view_module_version": "2.0.0",
       "_view_name": "StyleView",
       "button_color": null,
       "font_family": null,
       "font_size": null,
       "font_style": null,
       "font_variant": null,
       "font_weight": null,
       "text_color": null,
       "text_decoration": null
      }
     },
     "8ad610fb9b1d439d9d924bb788ba6ef8": {
      "model_module": "@jupyter-widgets/base",
      "model_module_version": "2.0.0",
      "model_name": "LayoutModel",
      "state": {
       "_model_module": "@jupyter-widgets/base",
       "_model_module_version": "2.0.0",
       "_model_name": "LayoutModel",
       "_view_count": null,
       "_view_module": "@jupyter-widgets/base",
       "_view_module_version": "2.0.0",
       "_view_name": "LayoutView",
       "align_content": null,
       "align_items": null,
       "align_self": null,
       "border_bottom": null,
       "border_left": null,
       "border_right": null,
       "border_top": null,
       "bottom": null,
       "display": null,
       "flex": null,
       "flex_flow": null,
       "grid_area": null,
       "grid_auto_columns": null,
       "grid_auto_flow": null,
       "grid_auto_rows": null,
       "grid_column": null,
       "grid_gap": null,
       "grid_row": null,
       "grid_template_areas": null,
       "grid_template_columns": null,
       "grid_template_rows": null,
       "height": "400px",
       "justify_content": null,
       "justify_items": null,
       "left": null,
       "margin": null,
       "max_height": null,
       "max_width": null,
       "min_height": null,
       "min_width": null,
       "object_fit": null,
       "object_position": null,
       "order": null,
       "overflow": null,
       "padding": null,
       "right": null,
       "top": null,
       "visibility": null,
       "width": "400px"
      }
     },
     "8ff9c222ecd345f38a2503dcd472b392": {
      "model_module": "@jupyter-widgets/controls",
      "model_module_version": "2.0.0",
      "model_name": "ToggleButtonModel",
      "state": {
       "_dom_classes": [],
       "_model_module": "@jupyter-widgets/controls",
       "_model_module_version": "2.0.0",
       "_model_name": "ToggleButtonModel",
       "_view_count": null,
       "_view_module": "@jupyter-widgets/controls",
       "_view_module_version": "2.0.0",
       "_view_name": "ToggleButtonView",
       "button_style": "",
       "description": "",
       "description_allow_html": false,
       "disabled": false,
       "icon": "pencil",
       "layout": "IPY_MODEL_3da6dff288424363a61e603dba218fbe",
       "style": "IPY_MODEL_726238f3ce8a4aa18079f5a1abb6227f",
       "tabbable": null,
       "tooltip": "Click to draw geometries",
       "value": false
      }
     },
     "93cc041a6631420c9363e59a3ddc4010": {
      "model_module": "jupyter-leaflet",
      "model_module_version": "^0.19",
      "model_name": "LeafletWidgetControlModel",
      "state": {
       "_model_module": "jupyter-leaflet",
       "_model_module_version": "^0.19",
       "_model_name": "LeafletWidgetControlModel",
       "_view_count": null,
       "_view_module": "jupyter-leaflet",
       "_view_module_version": "^0.19",
       "_view_name": "LeafletWidgetControlView",
       "max_height": null,
       "max_width": null,
       "min_height": null,
       "min_width": null,
       "options": [
        "position",
        "transparent_bg"
       ],
       "position": "bottomleft",
       "transparent_bg": false,
       "widget": "IPY_MODEL_50accb9d0fb041749479f05c779f7273"
      }
     },
     "96c25cf32bbf4eac8412e55d38e392d9": {
      "model_module": "jupyter-leaflet",
      "model_module_version": "^0.19",
      "model_name": "LeafletLayersControlModel",
      "state": {
       "_model_module": "jupyter-leaflet",
       "_model_module_version": "^0.19",
       "_model_name": "LeafletLayersControlModel",
       "_view_count": null,
       "_view_module": "jupyter-leaflet",
       "_view_module_version": "^0.19",
       "_view_name": "LeafletLayersControlView",
       "collapsed": true,
       "options": [
        "collapsed",
        "position"
       ],
       "position": "topleft"
      }
     },
     "a032f3883b494f45a0ab0a7c6529dcd9": {
      "model_module": "@jupyter-widgets/base",
      "model_module_version": "2.0.0",
      "model_name": "LayoutModel",
      "state": {
       "_model_module": "@jupyter-widgets/base",
       "_model_module_version": "2.0.0",
       "_model_name": "LayoutModel",
       "_view_count": null,
       "_view_module": "@jupyter-widgets/base",
       "_view_module_version": "2.0.0",
       "_view_name": "LayoutView",
       "align_content": null,
       "align_items": null,
       "align_self": null,
       "border_bottom": null,
       "border_left": null,
       "border_right": null,
       "border_top": null,
       "bottom": null,
       "display": null,
       "flex": null,
       "flex_flow": null,
       "grid_area": null,
       "grid_auto_columns": null,
       "grid_auto_flow": null,
       "grid_auto_rows": null,
       "grid_column": null,
       "grid_gap": null,
       "grid_row": null,
       "grid_template_areas": null,
       "grid_template_columns": null,
       "grid_template_rows": null,
       "height": null,
       "justify_content": null,
       "justify_items": null,
       "left": null,
       "margin": "1px 1px 1px 5px",
       "max_height": null,
       "max_width": null,
       "min_height": null,
       "min_width": null,
       "object_fit": null,
       "object_position": null,
       "order": null,
       "overflow": null,
       "padding": null,
       "right": null,
       "top": null,
       "visibility": null,
       "width": "80%"
      }
     },
     "a1fb390f8d0a4c1794e10aa87079492e": {
      "model_module": "@jupyter-widgets/output",
      "model_module_version": "1.0.0",
      "model_name": "OutputModel",
      "state": {
       "_dom_classes": [],
       "_model_module": "@jupyter-widgets/output",
       "_model_module_version": "1.0.0",
       "_model_name": "OutputModel",
       "_view_count": null,
       "_view_module": "@jupyter-widgets/output",
       "_view_module_version": "1.0.0",
       "_view_name": "OutputView",
       "layout": "IPY_MODEL_6f3eba9fd7e24136928adeb9b811ba52",
       "msg_id": "",
       "outputs": [],
       "tabbable": null,
       "tooltip": null
      }
     },
     "a6e2dc28a36e4d34ad2268af620bf8f8": {
      "model_module": "@jupyter-widgets/controls",
      "model_module_version": "2.0.0",
      "model_name": "TextModel",
      "state": {
       "_dom_classes": [],
       "_model_module": "@jupyter-widgets/controls",
       "_model_module_version": "2.0.0",
       "_model_name": "TextModel",
       "_view_count": null,
       "_view_module": "@jupyter-widgets/controls",
       "_view_module_version": "2.0.0",
       "_view_name": "TextView",
       "continuous_update": true,
       "description": "New vector map name:",
       "description_allow_html": false,
       "disabled": false,
       "layout": "IPY_MODEL_a032f3883b494f45a0ab0a7c6529dcd9",
       "placeholder": "​",
       "style": "IPY_MODEL_730a283f21114e01891ac235e3a1edbb",
       "tabbable": null,
       "tooltip": null,
       "value": ""
      }
     },
     "a6f67bfea4ec4bc79c0d750eb3ff03b5": {
      "model_module": "jupyter-leaflet",
      "model_module_version": "^0.19",
      "model_name": "LeafletAttributionControlModel",
      "state": {
       "_model_module": "jupyter-leaflet",
       "_model_module_version": "^0.19",
       "_model_name": "LeafletAttributionControlModel",
       "_view_count": null,
       "_view_module": "jupyter-leaflet",
       "_view_module_version": "^0.19",
       "_view_name": "LeafletAttributionControlView",
       "options": [
        "position",
        "prefix"
       ],
       "position": "bottomright",
       "prefix": "ipyleaflet"
      }
     },
     "a7e3ab6870864707b4dceb8e08e0b0a1": {
      "model_module": "@jupyter-widgets/controls",
      "model_module_version": "2.0.0",
      "model_name": "ToggleButtonStyleModel",
      "state": {
       "_model_module": "@jupyter-widgets/controls",
       "_model_module_version": "2.0.0",
       "_model_name": "ToggleButtonStyleModel",
       "_view_count": null,
       "_view_module": "@jupyter-widgets/base",
       "_view_module_version": "2.0.0",
       "_view_name": "StyleView",
       "description_width": "",
       "font_family": null,
       "font_size": null,
       "font_style": null,
       "font_variant": null,
       "font_weight": null,
       "text_color": null,
       "text_decoration": null
      }
     },
     "aaf119b8398c49b69174d6a611e61eb0": {
      "model_module": "jupyter-leaflet",
      "model_module_version": "^0.19",
      "model_name": "LeafletWidgetControlModel",
      "state": {
       "_model_module": "jupyter-leaflet",
       "_model_module_version": "^0.19",
       "_model_name": "LeafletWidgetControlModel",
       "_view_count": null,
       "_view_module": "jupyter-leaflet",
       "_view_module_version": "^0.19",
       "_view_name": "LeafletWidgetControlView",
       "max_height": null,
       "max_width": null,
       "min_height": null,
       "min_width": null,
       "options": [
        "position",
        "transparent_bg"
       ],
       "position": "topright",
       "transparent_bg": false,
       "widget": "IPY_MODEL_6f009b70a4414049841a4f536447920e"
      }
     },
     "b03733c1d80d4af696bcc360fb94457e": {
      "model_module": "@jupyter-widgets/base",
      "model_module_version": "2.0.0",
      "model_name": "LayoutModel",
      "state": {
       "_model_module": "@jupyter-widgets/base",
       "_model_module_version": "2.0.0",
       "_model_name": "LayoutModel",
       "_view_count": null,
       "_view_module": "@jupyter-widgets/base",
       "_view_module_version": "2.0.0",
       "_view_name": "LayoutView",
       "align_content": null,
       "align_items": null,
       "align_self": null,
       "border_bottom": null,
       "border_left": null,
       "border_right": null,
       "border_top": null,
       "bottom": null,
       "display": null,
       "flex": null,
       "flex_flow": null,
       "grid_area": null,
       "grid_auto_columns": null,
       "grid_auto_flow": null,
       "grid_auto_rows": null,
       "grid_column": null,
       "grid_gap": null,
       "grid_row": null,
       "grid_template_areas": null,
       "grid_template_columns": null,
       "grid_template_rows": null,
       "height": null,
       "justify_content": null,
       "justify_items": null,
       "left": null,
       "margin": "1px 1px 1px 1px",
       "max_height": null,
       "max_width": null,
       "min_height": null,
       "min_width": null,
       "object_fit": null,
       "object_position": null,
       "order": null,
       "overflow": null,
       "padding": null,
       "right": null,
       "top": null,
       "visibility": null,
       "width": "20%"
      }
     },
     "b20ad4002126479fb888b1c59abfd51f": {
      "model_module": "@jupyter-widgets/controls",
      "model_module_version": "2.0.0",
      "model_name": "ToggleButtonStyleModel",
      "state": {
       "_model_module": "@jupyter-widgets/controls",
       "_model_module_version": "2.0.0",
       "_model_name": "ToggleButtonStyleModel",
       "_view_count": null,
       "_view_module": "@jupyter-widgets/base",
       "_view_module_version": "2.0.0",
       "_view_name": "StyleView",
       "description_width": "",
       "font_family": null,
       "font_size": null,
       "font_style": null,
       "font_variant": null,
       "font_weight": null,
       "text_color": null,
       "text_decoration": null
      }
     },
     "b4a07a45023745baa70fab182f8ee12e": {
      "model_module": "jupyter-leaflet",
      "model_module_version": "^0.19",
      "model_name": "LeafletMapModel",
      "state": {
       "_dom_classes": [],
       "_model_module": "jupyter-leaflet",
       "_model_module_version": "^0.19",
       "_model_name": "LeafletMapModel",
       "_view_count": null,
       "_view_module": "jupyter-leaflet",
       "_view_module_version": "^0.19",
       "_view_name": "LeafletMapView",
       "bottom": 0.0,
       "bounce_at_zoom_limits": true,
       "box_zoom": true,
       "center": [
        0.0,
        0.0
       ],
       "close_popup_on_click": true,
       "controls": [
        "IPY_MODEL_24d4f8e19902426fb86b33c0312d2ac3",
        "IPY_MODEL_a6f67bfea4ec4bc79c0d750eb3ff03b5",
        "IPY_MODEL_d375d47df6814c2799a1d9e7496b4b3b",
        "IPY_MODEL_16099d2ec95b4bbdb0076ea3e050d1b6",
        "IPY_MODEL_2c5d570f95a841089eac635658f89cbb"
       ],
       "crs": {
        "custom": false,
        "name": "EPSG3857"
       },
       "default_style": "IPY_MODEL_1162aa1fb28647d0bd6acc472f627e6d",
       "double_click_zoom": true,
       "dragging": true,
       "dragging_style": "IPY_MODEL_cfce3a7354d54deeb2d629b862c0b719",
       "east": 0.0,
       "fullscreen": false,
       "inertia": true,
       "inertia_deceleration": 3000,
       "inertia_max_speed": 1500,
       "interpolation": "bilinear",
       "keyboard": true,
       "keyboard_pan_offset": 80,
       "keyboard_zoom_offset": 1,
       "layers": [
        "IPY_MODEL_7711a8553149467b83ba22c60faf7265",
        "IPY_MODEL_eee6d420893a4ad8808f317f89c0cb04"
       ],
       "layout": "IPY_MODEL_8ad610fb9b1d439d9d924bb788ba6ef8",
       "left": 9007199254740991.0,
       "max_zoom": null,
       "min_zoom": null,
       "modisdate": "2025-05-21",
       "north": 0.0,
       "options": [
        "bounce_at_zoom_limits",
        "box_zoom",
        "center",
        "close_popup_on_click",
        "double_click_zoom",
        "dragging",
        "fullscreen",
        "inertia",
        "inertia_deceleration",
        "inertia_max_speed",
        "interpolation",
        "keyboard",
        "keyboard_pan_offset",
        "keyboard_zoom_offset",
        "max_zoom",
        "min_zoom",
        "prefer_canvas",
        "scroll_wheel_zoom",
        "tap",
        "tap_tolerance",
        "touch_zoom",
        "world_copy_jump",
        "zoom",
        "zoom_animation_threshold",
        "zoom_delta",
        "zoom_snap"
       ],
       "panes": {},
       "prefer_canvas": false,
       "right": 0.0,
       "scroll_wheel_zoom": true,
       "south": 0.0,
       "style": "IPY_MODEL_c5a16c455482482daf4423d0a7ca5ae6",
       "tabbable": null,
       "tap": true,
       "tap_tolerance": 15,
       "tooltip": null,
       "top": 9007199254740991.0,
       "touch_zoom": true,
       "west": 0.0,
       "window_url": "",
       "world_copy_jump": false,
       "zoom": 12.0,
       "zoom_animation_threshold": 4,
       "zoom_delta": 1.0,
       "zoom_snap": 1.0
      }
     },
     "b62350a320ac485db8fb81ccbe101635": {
      "model_module": "@jupyter-widgets/controls",
      "model_module_version": "2.0.0",
      "model_name": "ButtonModel",
      "state": {
       "_dom_classes": [],
       "_model_module": "@jupyter-widgets/controls",
       "_model_module_version": "2.0.0",
       "_model_name": "ButtonModel",
       "_view_count": null,
       "_view_module": "@jupyter-widgets/controls",
       "_view_module_version": "2.0.0",
       "_view_name": "ButtonView",
       "button_style": "",
       "description": "Update region",
       "disabled": true,
       "icon": "",
       "layout": "IPY_MODEL_78c72804178b4cffb6682e07461a5e22",
       "style": "IPY_MODEL_37d7429543a9452d925698d36d771318",
       "tabbable": null,
       "tooltip": "Click to update region"
      }
     },
     "b8393339d5844840a4a694c4ad130fd8": {
      "model_module": "@jupyter-widgets/controls",
      "model_module_version": "2.0.0",
      "model_name": "ToggleButtonStyleModel",
      "state": {
       "_model_module": "@jupyter-widgets/controls",
       "_model_module_version": "2.0.0",
       "_model_name": "ToggleButtonStyleModel",
       "_view_count": null,
       "_view_module": "@jupyter-widgets/base",
       "_view_module_version": "2.0.0",
       "_view_name": "StyleView",
       "description_width": "",
       "font_family": null,
       "font_size": null,
       "font_style": null,
       "font_variant": null,
       "font_weight": null,
       "text_color": null,
       "text_decoration": null
      }
     },
     "c5a16c455482482daf4423d0a7ca5ae6": {
      "model_module": "jupyter-leaflet",
      "model_module_version": "^0.19",
      "model_name": "LeafletMapStyleModel",
      "state": {
       "_model_module": "jupyter-leaflet",
       "_model_module_version": "^0.19",
       "_model_name": "LeafletMapStyleModel",
       "_view_count": null,
       "_view_module": "@jupyter-widgets/base",
       "_view_module_version": "2.0.0",
       "_view_name": "StyleView",
       "cursor": "grab"
      }
     },
     "c958131b2c8c4b328806701a7e08ba68": {
      "model_module": "@jupyter-widgets/base",
      "model_module_version": "2.0.0",
      "model_name": "LayoutModel",
      "state": {
       "_model_module": "@jupyter-widgets/base",
       "_model_module_version": "2.0.0",
       "_model_name": "LayoutModel",
       "_view_count": null,
       "_view_module": "@jupyter-widgets/base",
       "_view_module_version": "2.0.0",
       "_view_name": "LayoutView",
       "align_content": null,
       "align_items": null,
       "align_self": null,
       "border_bottom": null,
       "border_left": null,
       "border_right": null,
       "border_top": null,
       "bottom": null,
       "display": null,
       "flex": null,
       "flex_flow": null,
       "grid_area": null,
       "grid_auto_columns": null,
       "grid_auto_flow": null,
       "grid_auto_rows": null,
       "grid_column": null,
       "grid_gap": null,
       "grid_row": null,
       "grid_template_areas": null,
       "grid_template_columns": null,
       "grid_template_rows": null,
       "height": null,
       "justify_content": null,
       "justify_items": null,
       "left": null,
       "margin": null,
       "max_height": null,
       "max_width": null,
       "min_height": null,
       "min_width": null,
       "object_fit": null,
       "object_position": null,
       "order": null,
       "overflow": null,
       "padding": null,
       "right": null,
       "top": null,
       "visibility": null,
       "width": null
      }
     },
     "cad0e61628c84bf8932db41310a77e6e": {
      "model_module": "@jupyter-widgets/controls",
      "model_module_version": "2.0.0",
      "model_name": "ToggleButtonModel",
      "state": {
       "_dom_classes": [],
       "_model_module": "@jupyter-widgets/controls",
       "_model_module_version": "2.0.0",
       "_model_name": "ToggleButtonModel",
       "_view_count": null,
       "_view_module": "@jupyter-widgets/controls",
       "_view_module_version": "2.0.0",
       "_view_name": "ToggleButtonView",
       "button_style": "",
       "description": "",
       "description_allow_html": false,
       "disabled": false,
       "icon": "pencil",
       "layout": "IPY_MODEL_34e3dd792ff947dfaa7daaa0f3a457d3",
       "style": "IPY_MODEL_b8393339d5844840a4a694c4ad130fd8",
       "tabbable": null,
       "tooltip": "Click to draw geometries",
       "value": false
      }
     },
     "cca2ef355e354431a5768002d9b7ab6a": {
      "model_module": "jupyter-leaflet",
      "model_module_version": "^0.19",
      "model_name": "LeafletMapStyleModel",
      "state": {
       "_model_module": "jupyter-leaflet",
       "_model_module_version": "^0.19",
       "_model_name": "LeafletMapStyleModel",
       "_view_count": null,
       "_view_module": "@jupyter-widgets/base",
       "_view_module_version": "2.0.0",
       "_view_name": "StyleView",
       "cursor": "grab"
      }
     },
     "cfce3a7354d54deeb2d629b862c0b719": {
      "model_module": "jupyter-leaflet",
      "model_module_version": "^0.19",
      "model_name": "LeafletMapStyleModel",
      "state": {
       "_model_module": "jupyter-leaflet",
       "_model_module_version": "^0.19",
       "_model_name": "LeafletMapStyleModel",
       "_view_count": null,
       "_view_module": "@jupyter-widgets/base",
       "_view_module_version": "2.0.0",
       "_view_name": "StyleView",
       "cursor": "move"
      }
     },
     "d375d47df6814c2799a1d9e7496b4b3b": {
      "model_module": "jupyter-leaflet",
      "model_module_version": "^0.19",
      "model_name": "LeafletWidgetControlModel",
      "state": {
       "_model_module": "jupyter-leaflet",
       "_model_module_version": "^0.19",
       "_model_name": "LeafletWidgetControlModel",
       "_view_count": null,
       "_view_module": "jupyter-leaflet",
       "_view_module_version": "^0.19",
       "_view_name": "LeafletWidgetControlView",
       "max_height": null,
       "max_width": null,
       "min_height": null,
       "min_width": null,
       "options": [
        "position",
        "transparent_bg"
       ],
       "position": "bottomleft",
       "transparent_bg": false,
       "widget": "IPY_MODEL_a1fb390f8d0a4c1794e10aa87079492e"
      }
     },
     "e2868a3fb32a45aaa53504cfe053aaeb": {
      "model_module": "@jupyter-widgets/base",
      "model_module_version": "2.0.0",
      "model_name": "LayoutModel",
      "state": {
       "_model_module": "@jupyter-widgets/base",
       "_model_module_version": "2.0.0",
       "_model_name": "LayoutModel",
       "_view_count": null,
       "_view_module": "@jupyter-widgets/base",
       "_view_module_version": "2.0.0",
       "_view_name": "LayoutView",
       "align_content": null,
       "align_items": null,
       "align_self": null,
       "border_bottom": null,
       "border_left": null,
       "border_right": null,
       "border_top": null,
       "bottom": null,
       "display": null,
       "flex": null,
       "flex_flow": null,
       "grid_area": null,
       "grid_auto_columns": null,
       "grid_auto_flow": null,
       "grid_auto_rows": null,
       "grid_column": null,
       "grid_gap": null,
       "grid_row": null,
       "grid_template_areas": null,
       "grid_template_columns": null,
       "grid_template_rows": null,
       "height": null,
       "justify_content": null,
       "justify_items": null,
       "left": null,
       "margin": "1px 1px 1px 5px",
       "max_height": null,
       "max_width": null,
       "min_height": null,
       "min_width": null,
       "object_fit": null,
       "object_position": null,
       "order": null,
       "overflow": null,
       "padding": null,
       "right": null,
       "top": null,
       "visibility": null,
       "width": "80%"
      }
     },
     "e73fad0721a642ba975982dfb5974ff7": {
      "model_module": "@jupyter-widgets/base",
      "model_module_version": "2.0.0",
      "model_name": "LayoutModel",
      "state": {
       "_model_module": "@jupyter-widgets/base",
       "_model_module_version": "2.0.0",
       "_model_name": "LayoutModel",
       "_view_count": null,
       "_view_module": "@jupyter-widgets/base",
       "_view_module_version": "2.0.0",
       "_view_name": "LayoutView",
       "align_content": null,
       "align_items": null,
       "align_self": null,
       "border_bottom": null,
       "border_left": null,
       "border_right": null,
       "border_top": null,
       "bottom": null,
       "display": null,
       "flex": null,
       "flex_flow": null,
       "grid_area": null,
       "grid_auto_columns": null,
       "grid_auto_flow": null,
       "grid_auto_rows": null,
       "grid_column": null,
       "grid_gap": null,
       "grid_row": null,
       "grid_template_areas": null,
       "grid_template_columns": null,
       "grid_template_rows": null,
       "height": null,
       "justify_content": null,
       "justify_items": null,
       "left": null,
       "margin": null,
       "max_height": null,
       "max_width": null,
       "min_height": null,
       "min_width": null,
       "object_fit": null,
       "object_position": null,
       "order": null,
       "overflow": null,
       "padding": null,
       "right": null,
       "top": null,
       "visibility": null,
       "width": null
      }
     },
     "ea33497fab1443919dcc6ea8e1bd0e07": {
      "model_module": "jupyter-leaflet",
      "model_module_version": "^0.19",
      "model_name": "LeafletDrawControlModel",
      "state": {
       "_model_module": "jupyter-leaflet",
       "_model_module_version": "^0.19",
       "_model_name": "LeafletDrawControlModel",
       "_view_count": null,
       "_view_module": "jupyter-leaflet",
       "_view_module_version": "^0.19",
       "_view_name": "LeafletDrawControlView",
       "circle": {},
       "circlemarker": {
        "shapeOptions": {}
       },
       "data": [],
       "edit": false,
       "marker": {},
       "options": [
        "position"
       ],
       "polygon": {
        "shapeOptions": {}
       },
       "polyline": {
        "shapeOptions": {}
       },
       "position": "topleft",
       "rectangle": {},
       "remove": false
      }
     },
     "ec9183d648c246aaa3a6c56f9e4d50d8": {
      "model_module": "@jupyter-widgets/controls",
      "model_module_version": "2.0.0",
      "model_name": "HBoxModel",
      "state": {
       "_dom_classes": [],
       "_model_module": "@jupyter-widgets/controls",
       "_model_module_version": "2.0.0",
       "_model_name": "HBoxModel",
       "_view_count": null,
       "_view_module": "@jupyter-widgets/controls",
       "_view_module_version": "2.0.0",
       "_view_name": "HBoxView",
       "box_style": "",
       "children": [
        "IPY_MODEL_550b1feb49bd48ea8ac4931aecd29d28",
        "IPY_MODEL_f2c8e70d4a2547b082776b33739a6175",
        "IPY_MODEL_cad0e61628c84bf8932db41310a77e6e"
       ],
       "layout": "IPY_MODEL_41b7934f95654335827962e9b97a6a21",
       "tabbable": null,
       "tooltip": null
      }
     },
     "eee6d420893a4ad8808f317f89c0cb04": {
      "model_module": "jupyter-leaflet",
      "model_module_version": "^0.19",
      "model_name": "LeafletGeoJSONModel",
      "state": {
       "_model_module": "jupyter-leaflet",
       "_model_module_version": "^0.19",
       "_model_name": "LeafletGeoJSONModel",
       "_view_count": null,
       "_view_module": "jupyter-leaflet",
       "_view_module_version": "^0.19",
       "_view_name": "LeafletGeoJSONView",
       "base": false,
       "bottom": false,
       "data": {
        "crs": {
         "properties": {
          "name": "urn:ogc:def:crs:OGC:1.3:CRS84"
         },
         "type": "name"
        },
        "features": [
         {
          "geometry": {
           "coordinates": [
            [
             [
              -79.88850843890832,
              36.13973161333741
             ],
             [
              -79.88974722294431,
              36.049749189770985
             ],
             [
              -79.8909860069803,
              35.95976676620456
             ],
             [
              -79.89222479101629,
              35.86978434263815
             ],
             [
              -79.89346357505228,
              35.779801919071744
             ],
             [
              -79.89470235908827,
              35.68981949550533
             ],
             [
              -79.89594114312425,
              35.59983707193889
             ],
             [
              -79.89717992716024,
              35.50985464837248
             ],
             [
              -79.89841871119623,
              35.419872224806085
             ],
             [
              -79.89965749523222,
              35.32988980123965
             ],
             [
              -79.90089627926821,
              35.23990737767325
             ],
             [
              -79.9021350633042,
              35.149924954106844
             ],
             [
              -79.79260940405047,
              35.14838773555612
             ],
             [
              -79.68308374479673,
              35.14685051700542
             ],
             [
              -79.57355808554301,
              35.14531329845469
             ],
             [
              -79.46403242628928,
              35.14377607990399
             ],
             [
              -79.35450676703555,
              35.14223886135328
             ],
             [
              -79.24498110778183,
              35.14070164280259
             ],
             [
              -79.13545544852808,
              35.13916442425187
             ],
             [
              -79.02592978927434,
              35.137627205701165
             ],
             [
              -78.91640413002062,
              35.13608998715045
             ],
             [
              -78.80687847076689,
              35.13455276859974
             ],
             [
              -78.69735281151316,
              35.13301555004903
             ],
             [
              -78.69475680417605,
              35.22294122147371
             ],
             [
              -78.69216079683893,
              35.31286689289837
             ],
             [
              -78.68956478950183,
              35.402792564323065
             ],
             [
              -78.68696878216473,
              35.49271823574775
             ],
             [
              -78.68437277482762,
              35.5826439071724
             ],
             [
              -78.6817767674905,
              35.6725695785971
             ],
             [
              -78.6791807601534,
              35.76249525002174
             ],
             [
              -78.6765847528163,
              35.85242092144643
             ],
             [
              -78.67398874547919,
              35.942346592871075
             ],
             [
              -78.67139273814207,
              36.03227226429579
             ],
             [
              -78.66879673080497,
              36.12219793572046
             ],
             [
              -78.77967961335982,
              36.123791906412904
             ],
             [
              -78.89056249591466,
              36.12538587710536
             ],
             [
              -79.00144537846953,
              36.126979847797806
             ],
             [
              -79.11232826102437,
              36.12857381849026
             ],
             [
              -79.22321114357922,
              36.130167789182714
             ],
             [
              -79.33409402613407,
              36.13176175987515
             ],
             [
              -79.44497690868891,
              36.13335573056764
             ],
             [
              -79.55585979124376,
              36.13494970126006
             ],
             [
              -79.66674267379862,
              36.1365436719525
             ],
             [
              -79.77762555635347,
              36.13813764264496
             ],
             [
              -79.88850843890832,
              36.13973161333741
             ]
            ]
           ],
           "type": "Polygon"
          },
          "properties": {
           "assets_aot_href": "https://sentinel-cogs.s3.us-west-2.amazonaws.com/sentinel-s2-l2a-cogs/17/S/PV/2024/9/S2A_17SPV_20240909_0_L2A/AOT.tif",
           "assets_aot_jp2_href": "s3://sentinel-s2-l2a/tiles/17/S/PV/2024/9/9/0/AOT.jp2",
           "assets_aot_jp2_proj_shape": "(2:5490,5490)",
           "assets_aot_jp2_proj_transform": "(6:20,0,600000,0,-20,4000020)",
           "assets_aot_jp2_raster_bands": [
            {
             "bits_per_sample": 15,
             "data_type": "uint16",
             "nodata": 0,
             "offset": 0,
             "scale": 0.001,
             "spatial_resolution": 20
            }
           ],
           "assets_aot_jp2_roles": "(2:data,reflectance)",
           "assets_aot_jp2_title": "Aerosol optical thickness (AOT)",
           "assets_aot_jp2_type": "image/jp2",
           "assets_aot_proj_shape": "(2:5490,5490)",
           "assets_aot_proj_transform": "(6:20,0,600000,0,-20,4000020)",
           "assets_aot_raster_bands": [
            {
             "bits_per_sample": 15,
             "data_type": "uint16",
             "nodata": 0,
             "offset": 0,
             "scale": 0.001,
             "spatial_resolution": 20
            }
           ],
           "assets_aot_roles": "(2:data,reflectance)",
           "assets_aot_title": "Aerosol optical thickness (AOT)",
           "assets_aot_type": "image/tiff; application=geotiff; profile=cloud-optimized",
           "assets_blue_eo_bands": [
            {
             "center_wavelength": 0.49,
             "common_name": "blue",
             "description": "Blue (band 2)",
             "full_width_half_max": 0.098,
             "name": "blue"
            }
           ],
           "assets_blue_gsd": 10,
           "assets_blue_href": "https://sentinel-cogs.s3.us-west-2.amazonaws.com/sentinel-s2-l2a-cogs/17/S/PV/2024/9/S2A_17SPV_20240909_0_L2A/B02.tif",
           "assets_blue_jp2_eo_bands": [
            {
             "center_wavelength": 0.49,
             "common_name": "blue",
             "description": "Blue (band 2)",
             "full_width_half_max": 0.098,
             "name": "blue"
            }
           ],
           "assets_blue_jp2_gsd": 10,
           "assets_blue_jp2_href": "s3://sentinel-s2-l2a/tiles/17/S/PV/2024/9/9/0/B02.jp2",
           "assets_blue_jp2_proj_shape": "(2:10980,10980)",
           "assets_blue_jp2_proj_transform": "(6:10,0,600000,0,-10,4000020)",
           "assets_blue_jp2_raster_bands": [
            {
             "bits_per_sample": 15,
             "data_type": "uint16",
             "nodata": 0,
             "offset": -0.1,
             "scale": 0.0001,
             "spatial_resolution": 10
            }
           ],
           "assets_blue_jp2_roles": "(2:data,reflectance)",
           "assets_blue_jp2_title": "Blue (band 2) - 10m",
           "assets_blue_jp2_type": "image/jp2",
           "assets_blue_proj_shape": "(2:10980,10980)",
           "assets_blue_proj_transform": "(6:10,0,600000,0,-10,4000020)",
           "assets_blue_raster_bands": [
            {
             "bits_per_sample": 15,
             "data_type": "uint16",
             "nodata": 0,
             "offset": -0.1,
             "scale": 0.0001,
             "spatial_resolution": 10
            }
           ],
           "assets_blue_roles": "(2:data,reflectance)",
           "assets_blue_title": "Blue (band 2) - 10m",
           "assets_blue_type": "image/tiff; application=geotiff; profile=cloud-optimized",
           "assets_coastal_eo_bands": [
            {
             "center_wavelength": 0.443,
             "common_name": "coastal",
             "description": "Coastal aerosol (band 1)",
             "full_width_half_max": 0.027,
             "name": "coastal"
            }
           ],
           "assets_coastal_gsd": 60,
           "assets_coastal_href": "https://sentinel-cogs.s3.us-west-2.amazonaws.com/sentinel-s2-l2a-cogs/17/S/PV/2024/9/S2A_17SPV_20240909_0_L2A/B01.tif",
           "assets_coastal_jp2_eo_bands": [
            {
             "center_wavelength": 0.443,
             "common_name": "coastal",
             "description": "Coastal aerosol (band 1)",
             "full_width_half_max": 0.027,
             "name": "coastal"
            }
           ],
           "assets_coastal_jp2_gsd": 60,
           "assets_coastal_jp2_href": "s3://sentinel-s2-l2a/tiles/17/S/PV/2024/9/9/0/B01.jp2",
           "assets_coastal_jp2_proj_shape": "(2:1830,1830)",
           "assets_coastal_jp2_proj_transform": "(6:60,0,600000,0,-60,4000020)",
           "assets_coastal_jp2_raster_bands": [
            {
             "bits_per_sample": 15,
             "data_type": "uint16",
             "nodata": 0,
             "offset": -0.1,
             "scale": 0.0001,
             "spatial_resolution": 60
            }
           ],
           "assets_coastal_jp2_roles": "(2:data,reflectance)",
           "assets_coastal_jp2_title": "Coastal aerosol (band 1) - 60m",
           "assets_coastal_jp2_type": "image/jp2",
           "assets_coastal_proj_shape": "(2:1830,1830)",
           "assets_coastal_proj_transform": "(6:60,0,600000,0,-60,4000020)",
           "assets_coastal_raster_bands": [
            {
             "bits_per_sample": 15,
             "data_type": "uint16",
             "nodata": 0,
             "offset": -0.1,
             "scale": 0.0001,
             "spatial_resolution": 60
            }
           ],
           "assets_coastal_roles": "(2:data,reflectance)",
           "assets_coastal_title": "Coastal aerosol (band 1) - 60m",
           "assets_coastal_type": "image/tiff; application=geotiff; profile=cloud-optimized",
           "assets_granule_metadata_href": "https://sentinel-cogs.s3.us-west-2.amazonaws.com/sentinel-s2-l2a-cogs/17/S/PV/2024/9/S2A_17SPV_20240909_0_L2A/granule_metadata.xml",
           "assets_granule_metadata_roles": "(1:metadata)",
           "assets_granule_metadata_type": "application/xml",
           "assets_green_eo_bands": [
            {
             "center_wavelength": 0.56,
             "common_name": "green",
             "description": "Green (band 3)",
             "full_width_half_max": 0.045,
             "name": "green"
            }
           ],
           "assets_green_gsd": 10,
           "assets_green_href": "https://sentinel-cogs.s3.us-west-2.amazonaws.com/sentinel-s2-l2a-cogs/17/S/PV/2024/9/S2A_17SPV_20240909_0_L2A/B03.tif",
           "assets_green_jp2_eo_bands": [
            {
             "center_wavelength": 0.56,
             "common_name": "green",
             "description": "Green (band 3)",
             "full_width_half_max": 0.045,
             "name": "green"
            }
           ],
           "assets_green_jp2_gsd": 10,
           "assets_green_jp2_href": "s3://sentinel-s2-l2a/tiles/17/S/PV/2024/9/9/0/B03.jp2",
           "assets_green_jp2_proj_shape": "(2:10980,10980)",
           "assets_green_jp2_proj_transform": "(6:10,0,600000,0,-10,4000020)",
           "assets_green_jp2_raster_bands": [
            {
             "bits_per_sample": 15,
             "data_type": "uint16",
             "nodata": 0,
             "offset": -0.1,
             "scale": 0.0001,
             "spatial_resolution": 10
            }
           ],
           "assets_green_jp2_roles": "(2:data,reflectance)",
           "assets_green_jp2_title": "Green (band 3) - 10m",
           "assets_green_jp2_type": "image/jp2",
           "assets_green_proj_shape": "(2:10980,10980)",
           "assets_green_proj_transform": "(6:10,0,600000,0,-10,4000020)",
           "assets_green_raster_bands": [
            {
             "bits_per_sample": 15,
             "data_type": "uint16",
             "nodata": 0,
             "offset": -0.1,
             "scale": 0.0001,
             "spatial_resolution": 10
            }
           ],
           "assets_green_roles": "(2:data,reflectance)",
           "assets_green_title": "Green (band 3) - 10m",
           "assets_green_type": "image/tiff; application=geotiff; profile=cloud-optimized",
           "assets_nir08_eo_bands": [
            {
             "center_wavelength": 0.865,
             "common_name": "nir08",
             "description": "NIR 2 (band 8A)",
             "full_width_half_max": 0.033,
             "name": "nir08"
            }
           ],
           "assets_nir08_gsd": 20,
           "assets_nir08_href": "https://sentinel-cogs.s3.us-west-2.amazonaws.com/sentinel-s2-l2a-cogs/17/S/PV/2024/9/S2A_17SPV_20240909_0_L2A/B8A.tif",
           "assets_nir08_jp2_eo_bands": [
            {
             "center_wavelength": 0.865,
             "common_name": "nir08",
             "description": "NIR 2 (band 8A)",
             "full_width_half_max": 0.033,
             "name": "nir08"
            }
           ],
           "assets_nir08_jp2_gsd": 20,
           "assets_nir08_jp2_href": "s3://sentinel-s2-l2a/tiles/17/S/PV/2024/9/9/0/B8A.jp2",
           "assets_nir08_jp2_proj_shape": "(2:5490,5490)",
           "assets_nir08_jp2_proj_transform": "(6:20,0,600000,0,-20,4000020)",
           "assets_nir08_jp2_raster_bands": [
            {
             "bits_per_sample": 15,
             "data_type": "uint16",
             "nodata": 0,
             "offset": -0.1,
             "scale": 0.0001,
             "spatial_resolution": 20
            }
           ],
           "assets_nir08_jp2_roles": "(2:data,reflectance)",
           "assets_nir08_jp2_title": "NIR 2 (band 8A) - 20m",
           "assets_nir08_jp2_type": "image/jp2",
           "assets_nir08_proj_shape": "(2:5490,5490)",
           "assets_nir08_proj_transform": "(6:20,0,600000,0,-20,4000020)",
           "assets_nir08_raster_bands": [
            {
             "bits_per_sample": 15,
             "data_type": "uint16",
             "nodata": 0,
             "offset": -0.1,
             "scale": 0.0001,
             "spatial_resolution": 20
            }
           ],
           "assets_nir08_roles": "(2:data,reflectance)",
           "assets_nir08_title": "NIR 2 (band 8A) - 20m",
           "assets_nir08_type": "image/tiff; application=geotiff; profile=cloud-optimized",
           "assets_nir09_eo_bands": [
            {
             "center_wavelength": 0.945,
             "common_name": "nir09",
             "description": "NIR 3 (band 9)",
             "full_width_half_max": 0.026,
             "name": "nir09"
            }
           ],
           "assets_nir09_gsd": 60,
           "assets_nir09_href": "https://sentinel-cogs.s3.us-west-2.amazonaws.com/sentinel-s2-l2a-cogs/17/S/PV/2024/9/S2A_17SPV_20240909_0_L2A/B09.tif",
           "assets_nir09_jp2_eo_bands": [
            {
             "center_wavelength": 0.945,
             "common_name": "nir09",
             "description": "NIR 3 (band 9)",
             "full_width_half_max": 0.026,
             "name": "nir09"
            }
           ],
           "assets_nir09_jp2_gsd": 60,
           "assets_nir09_jp2_href": "s3://sentinel-s2-l2a/tiles/17/S/PV/2024/9/9/0/B09.jp2",
           "assets_nir09_jp2_proj_shape": "(2:1830,1830)",
           "assets_nir09_jp2_proj_transform": "(6:60,0,600000,0,-60,4000020)",
           "assets_nir09_jp2_raster_bands": [
            {
             "bits_per_sample": 15,
             "data_type": "uint16",
             "nodata": 0,
             "offset": -0.1,
             "scale": 0.0001,
             "spatial_resolution": 60
            }
           ],
           "assets_nir09_jp2_roles": "(2:data,reflectance)",
           "assets_nir09_jp2_title": "NIR 3 (band 9) - 60m",
           "assets_nir09_jp2_type": "image/jp2",
           "assets_nir09_proj_shape": "(2:1830,1830)",
           "assets_nir09_proj_transform": "(6:60,0,600000,0,-60,4000020)",
           "assets_nir09_raster_bands": [
            {
             "bits_per_sample": 15,
             "data_type": "uint16",
             "nodata": 0,
             "offset": -0.1,
             "scale": 0.0001,
             "spatial_resolution": 60
            }
           ],
           "assets_nir09_roles": "(2:data,reflectance)",
           "assets_nir09_title": "NIR 3 (band 9) - 60m",
           "assets_nir09_type": "image/tiff; application=geotiff; profile=cloud-optimized",
           "assets_nir_eo_bands": [
            {
             "center_wavelength": 0.842,
             "common_name": "nir",
             "description": "NIR 1 (band 8)",
             "full_width_half_max": 0.145,
             "name": "nir"
            }
           ],
           "assets_nir_gsd": 10,
           "assets_nir_href": "https://sentinel-cogs.s3.us-west-2.amazonaws.com/sentinel-s2-l2a-cogs/17/S/PV/2024/9/S2A_17SPV_20240909_0_L2A/B08.tif",
           "assets_nir_jp2_eo_bands": [
            {
             "center_wavelength": 0.842,
             "common_name": "nir",
             "description": "NIR 1 (band 8)",
             "full_width_half_max": 0.145,
             "name": "nir"
            }
           ],
           "assets_nir_jp2_gsd": 10,
           "assets_nir_jp2_href": "s3://sentinel-s2-l2a/tiles/17/S/PV/2024/9/9/0/B08.jp2",
           "assets_nir_jp2_proj_shape": "(2:10980,10980)",
           "assets_nir_jp2_proj_transform": "(6:10,0,600000,0,-10,4000020)",
           "assets_nir_jp2_raster_bands": [
            {
             "bits_per_sample": 15,
             "data_type": "uint16",
             "nodata": 0,
             "offset": -0.1,
             "scale": 0.0001,
             "spatial_resolution": 10
            }
           ],
           "assets_nir_jp2_roles": "(2:data,reflectance)",
           "assets_nir_jp2_title": "NIR 1 (band 8) - 10m",
           "assets_nir_jp2_type": "image/jp2",
           "assets_nir_proj_shape": "(2:10980,10980)",
           "assets_nir_proj_transform": "(6:10,0,600000,0,-10,4000020)",
           "assets_nir_raster_bands": [
            {
             "bits_per_sample": 15,
             "data_type": "uint16",
             "nodata": 0,
             "offset": -0.1,
             "scale": 0.0001,
             "spatial_resolution": 10
            }
           ],
           "assets_nir_roles": "(2:data,reflectance)",
           "assets_nir_title": "NIR 1 (band 8) - 10m",
           "assets_nir_type": "image/tiff; application=geotiff; profile=cloud-optimized",
           "assets_red_eo_bands": [
            {
             "center_wavelength": 0.665,
             "common_name": "red",
             "description": "Red (band 4)",
             "full_width_half_max": 0.038,
             "name": "red"
            }
           ],
           "assets_red_gsd": 10,
           "assets_red_href": "https://sentinel-cogs.s3.us-west-2.amazonaws.com/sentinel-s2-l2a-cogs/17/S/PV/2024/9/S2A_17SPV_20240909_0_L2A/B04.tif",
           "assets_red_jp2_eo_bands": [
            {
             "center_wavelength": 0.665,
             "common_name": "red",
             "description": "Red (band 4)",
             "full_width_half_max": 0.038,
             "name": "red"
            }
           ],
           "assets_red_jp2_gsd": 10,
           "assets_red_jp2_href": "s3://sentinel-s2-l2a/tiles/17/S/PV/2024/9/9/0/B04.jp2",
           "assets_red_jp2_proj_shape": "(2:10980,10980)",
           "assets_red_jp2_proj_transform": "(6:10,0,600000,0,-10,4000020)",
           "assets_red_jp2_raster_bands": [
            {
             "bits_per_sample": 15,
             "data_type": "uint16",
             "nodata": 0,
             "offset": -0.1,
             "scale": 0.0001,
             "spatial_resolution": 10
            }
           ],
           "assets_red_jp2_roles": "(2:data,reflectance)",
           "assets_red_jp2_title": "Red (band 4) - 10m",
           "assets_red_jp2_type": "image/jp2",
           "assets_red_proj_shape": "(2:10980,10980)",
           "assets_red_proj_transform": "(6:10,0,600000,0,-10,4000020)",
           "assets_red_raster_bands": [
            {
             "bits_per_sample": 15,
             "data_type": "uint16",
             "nodata": 0,
             "offset": -0.1,
             "scale": 0.0001,
             "spatial_resolution": 10
            }
           ],
           "assets_red_roles": "(2:data,reflectance)",
           "assets_red_title": "Red (band 4) - 10m",
           "assets_red_type": "image/tiff; application=geotiff; profile=cloud-optimized",
           "assets_rededge1_eo_bands": [
            {
             "center_wavelength": 0.704,
             "common_name": "rededge",
             "description": "Red edge 1 (band 5)",
             "full_width_half_max": 0.019,
             "name": "rededge1"
            }
           ],
           "assets_rededge1_gsd": 20,
           "assets_rededge1_href": "https://sentinel-cogs.s3.us-west-2.amazonaws.com/sentinel-s2-l2a-cogs/17/S/PV/2024/9/S2A_17SPV_20240909_0_L2A/B05.tif",
           "assets_rededge1_jp2_eo_bands": [
            {
             "center_wavelength": 0.704,
             "common_name": "rededge",
             "description": "Red edge 1 (band 5)",
             "full_width_half_max": 0.019,
             "name": "rededge1"
            }
           ],
           "assets_rededge1_jp2_gsd": 20,
           "assets_rededge1_jp2_href": "s3://sentinel-s2-l2a/tiles/17/S/PV/2024/9/9/0/B05.jp2",
           "assets_rededge1_jp2_proj_shape": "(2:5490,5490)",
           "assets_rededge1_jp2_proj_transform": "(6:20,0,600000,0,-20,4000020)",
           "assets_rededge1_jp2_raster_bands": [
            {
             "bits_per_sample": 15,
             "data_type": "uint16",
             "nodata": 0,
             "offset": -0.1,
             "scale": 0.0001,
             "spatial_resolution": 20
            }
           ],
           "assets_rededge1_jp2_roles": "(2:data,reflectance)",
           "assets_rededge1_jp2_title": "Red edge 1 (band 5) - 20m",
           "assets_rededge1_jp2_type": "image/jp2",
           "assets_rededge1_proj_shape": "(2:5490,5490)",
           "assets_rededge1_proj_transform": "(6:20,0,600000,0,-20,4000020)",
           "assets_rededge1_raster_bands": [
            {
             "bits_per_sample": 15,
             "data_type": "uint16",
             "nodata": 0,
             "offset": -0.1,
             "scale": 0.0001,
             "spatial_resolution": 20
            }
           ],
           "assets_rededge1_roles": "(2:data,reflectance)",
           "assets_rededge1_title": "Red edge 1 (band 5) - 20m",
           "assets_rededge1_type": "image/tiff; application=geotiff; profile=cloud-optimized",
           "assets_rededge2_eo_bands": [
            {
             "center_wavelength": 0.74,
             "common_name": "rededge",
             "description": "Red edge 2 (band 6)",
             "full_width_half_max": 0.018,
             "name": "rededge2"
            }
           ],
           "assets_rededge2_gsd": 20,
           "assets_rededge2_href": "https://sentinel-cogs.s3.us-west-2.amazonaws.com/sentinel-s2-l2a-cogs/17/S/PV/2024/9/S2A_17SPV_20240909_0_L2A/B06.tif",
           "assets_rededge2_jp2_eo_bands": [
            {
             "center_wavelength": 0.74,
             "common_name": "rededge",
             "description": "Red edge 2 (band 6)",
             "full_width_half_max": 0.018,
             "name": "rededge2"
            }
           ],
           "assets_rededge2_jp2_gsd": 20,
           "assets_rededge2_jp2_href": "s3://sentinel-s2-l2a/tiles/17/S/PV/2024/9/9/0/B06.jp2",
           "assets_rededge2_jp2_proj_shape": "(2:5490,5490)",
           "assets_rededge2_jp2_proj_transform": "(6:20,0,600000,0,-20,4000020)",
           "assets_rededge2_jp2_raster_bands": [
            {
             "bits_per_sample": 15,
             "data_type": "uint16",
             "nodata": 0,
             "offset": -0.1,
             "scale": 0.0001,
             "spatial_resolution": 20
            }
           ],
           "assets_rededge2_jp2_roles": "(2:data,reflectance)",
           "assets_rededge2_jp2_title": "Red edge 2 (band 6) - 20m",
           "assets_rededge2_jp2_type": "image/jp2",
           "assets_rededge2_proj_shape": "(2:5490,5490)",
           "assets_rededge2_proj_transform": "(6:20,0,600000,0,-20,4000020)",
           "assets_rededge2_raster_bands": [
            {
             "bits_per_sample": 15,
             "data_type": "uint16",
             "nodata": 0,
             "offset": -0.1,
             "scale": 0.0001,
             "spatial_resolution": 20
            }
           ],
           "assets_rededge2_roles": "(2:data,reflectance)",
           "assets_rededge2_title": "Red edge 2 (band 6) - 20m",
           "assets_rededge2_type": "image/tiff; application=geotiff; profile=cloud-optimized",
           "assets_rededge3_eo_bands": [
            {
             "center_wavelength": 0.783,
             "common_name": "rededge",
             "description": "Red edge 3 (band 7)",
             "full_width_half_max": 0.028,
             "name": "rededge3"
            }
           ],
           "assets_rededge3_gsd": 20,
           "assets_rededge3_href": "https://sentinel-cogs.s3.us-west-2.amazonaws.com/sentinel-s2-l2a-cogs/17/S/PV/2024/9/S2A_17SPV_20240909_0_L2A/B07.tif",
           "assets_rededge3_jp2_eo_bands": [
            {
             "center_wavelength": 0.783,
             "common_name": "rededge",
             "description": "Red edge 3 (band 7)",
             "full_width_half_max": 0.028,
             "name": "rededge3"
            }
           ],
           "assets_rededge3_jp2_gsd": 20,
           "assets_rededge3_jp2_href": "s3://sentinel-s2-l2a/tiles/17/S/PV/2024/9/9/0/B07.jp2",
           "assets_rededge3_jp2_proj_shape": "(2:5490,5490)",
           "assets_rededge3_jp2_proj_transform": "(6:20,0,600000,0,-20,4000020)",
           "assets_rededge3_jp2_raster_bands": [
            {
             "bits_per_sample": 15,
             "data_type": "uint16",
             "nodata": 0,
             "offset": -0.1,
             "scale": 0.0001,
             "spatial_resolution": 20
            }
           ],
           "assets_rededge3_jp2_roles": "(2:data,reflectance)",
           "assets_rededge3_jp2_title": "Red edge 3 (band 7) - 20m",
           "assets_rededge3_jp2_type": "image/jp2",
           "assets_rededge3_proj_shape": "(2:5490,5490)",
           "assets_rededge3_proj_transform": "(6:20,0,600000,0,-20,4000020)",
           "assets_rededge3_raster_bands": [
            {
             "bits_per_sample": 15,
             "data_type": "uint16",
             "nodata": 0,
             "offset": -0.1,
             "scale": 0.0001,
             "spatial_resolution": 20
            }
           ],
           "assets_rededge3_roles": "(2:data,reflectance)",
           "assets_rededge3_title": "Red edge 3 (band 7) - 20m",
           "assets_rededge3_type": "image/tiff; application=geotiff; profile=cloud-optimized",
           "assets_scl_href": "https://sentinel-cogs.s3.us-west-2.amazonaws.com/sentinel-s2-l2a-cogs/17/S/PV/2024/9/S2A_17SPV_20240909_0_L2A/SCL.tif",
           "assets_scl_jp2_href": "s3://sentinel-s2-l2a/tiles/17/S/PV/2024/9/9/0/SCL.jp2",
           "assets_scl_jp2_proj_shape": "(2:5490,5490)",
           "assets_scl_jp2_proj_transform": "(6:20,0,600000,0,-20,4000020)",
           "assets_scl_jp2_raster_bands": [
            {
             "data_type": "uint8",
             "nodata": 0,
             "spatial_resolution": 20
            }
           ],
           "assets_scl_jp2_roles": "(2:data,reflectance)",
           "assets_scl_jp2_title": "Scene classification map (SCL)",
           "assets_scl_jp2_type": "image/jp2",
           "assets_scl_proj_shape": "(2:5490,5490)",
           "assets_scl_proj_transform": "(6:20,0,600000,0,-20,4000020)",
           "assets_scl_raster_bands": [
            {
             "data_type": "uint8",
             "nodata": 0,
             "spatial_resolution": 20
            }
           ],
           "assets_scl_roles": "(2:data,reflectance)",
           "assets_scl_title": "Scene classification map (SCL)",
           "assets_scl_type": "image/tiff; application=geotiff; profile=cloud-optimized",
           "assets_swir16_eo_bands": [
            {
             "center_wavelength": 1.61,
             "common_name": "swir16",
             "description": "SWIR 1 (band 11)",
             "full_width_half_max": 0.143,
             "name": "swir16"
            }
           ],
           "assets_swir16_gsd": 20,
           "assets_swir16_href": "https://sentinel-cogs.s3.us-west-2.amazonaws.com/sentinel-s2-l2a-cogs/17/S/PV/2024/9/S2A_17SPV_20240909_0_L2A/B11.tif",
           "assets_swir16_jp2_eo_bands": [
            {
             "center_wavelength": 1.61,
             "common_name": "swir16",
             "description": "SWIR 1 (band 11)",
             "full_width_half_max": 0.143,
             "name": "swir16"
            }
           ],
           "assets_swir16_jp2_gsd": 20,
           "assets_swir16_jp2_href": "s3://sentinel-s2-l2a/tiles/17/S/PV/2024/9/9/0/B11.jp2",
           "assets_swir16_jp2_proj_shape": "(2:5490,5490)",
           "assets_swir16_jp2_proj_transform": "(6:20,0,600000,0,-20,4000020)",
           "assets_swir16_jp2_raster_bands": [
            {
             "bits_per_sample": 15,
             "data_type": "uint16",
             "nodata": 0,
             "offset": -0.1,
             "scale": 0.0001,
             "spatial_resolution": 20
            }
           ],
           "assets_swir16_jp2_roles": "(2:data,reflectance)",
           "assets_swir16_jp2_title": "SWIR 1 (band 11) - 20m",
           "assets_swir16_jp2_type": "image/jp2",
           "assets_swir16_proj_shape": "(2:5490,5490)",
           "assets_swir16_proj_transform": "(6:20,0,600000,0,-20,4000020)",
           "assets_swir16_raster_bands": [
            {
             "bits_per_sample": 15,
             "data_type": "uint16",
             "nodata": 0,
             "offset": -0.1,
             "scale": 0.0001,
             "spatial_resolution": 20
            }
           ],
           "assets_swir16_roles": "(2:data,reflectance)",
           "assets_swir16_title": "SWIR 1 (band 11) - 20m",
           "assets_swir16_type": "image/tiff; application=geotiff; profile=cloud-optimized",
           "assets_swir22_eo_bands": [
            {
             "center_wavelength": 2.19,
             "common_name": "swir22",
             "description": "SWIR 2 (band 12)",
             "full_width_half_max": 0.242,
             "name": "swir22"
            }
           ],
           "assets_swir22_gsd": 20,
           "assets_swir22_href": "https://sentinel-cogs.s3.us-west-2.amazonaws.com/sentinel-s2-l2a-cogs/17/S/PV/2024/9/S2A_17SPV_20240909_0_L2A/B12.tif",
           "assets_swir22_jp2_eo_bands": [
            {
             "center_wavelength": 2.19,
             "common_name": "swir22",
             "description": "SWIR 2 (band 12)",
             "full_width_half_max": 0.242,
             "name": "swir22"
            }
           ],
           "assets_swir22_jp2_gsd": 20,
           "assets_swir22_jp2_href": "s3://sentinel-s2-l2a/tiles/17/S/PV/2024/9/9/0/B12.jp2",
           "assets_swir22_jp2_proj_shape": "(2:5490,5490)",
           "assets_swir22_jp2_proj_transform": "(6:20,0,600000,0,-20,4000020)",
           "assets_swir22_jp2_raster_bands": [
            {
             "bits_per_sample": 15,
             "data_type": "uint16",
             "nodata": 0,
             "offset": -0.1,
             "scale": 0.0001,
             "spatial_resolution": 20
            }
           ],
           "assets_swir22_jp2_roles": "(2:data,reflectance)",
           "assets_swir22_jp2_title": "SWIR 2 (band 12) - 20m",
           "assets_swir22_jp2_type": "image/jp2",
           "assets_swir22_proj_shape": "(2:5490,5490)",
           "assets_swir22_proj_transform": "(6:20,0,600000,0,-20,4000020)",
           "assets_swir22_raster_bands": [
            {
             "bits_per_sample": 15,
             "data_type": "uint16",
             "nodata": 0,
             "offset": -0.1,
             "scale": 0.0001,
             "spatial_resolution": 20
            }
           ],
           "assets_swir22_roles": "(2:data,reflectance)",
           "assets_swir22_title": "SWIR 2 (band 12) - 20m",
           "assets_swir22_type": "image/tiff; application=geotiff; profile=cloud-optimized",
           "assets_thumbnail_href": "https://sentinel-cogs.s3.us-west-2.amazonaws.com/sentinel-s2-l2a-cogs/17/S/PV/2024/9/S2A_17SPV_20240909_0_L2A/thumbnail.jpg",
           "assets_thumbnail_roles": "(1:thumbnail)",
           "assets_thumbnail_title": "Thumbnail image",
           "assets_thumbnail_type": "image/jpeg",
           "assets_tileinfo_metadata_href": "https://sentinel-cogs.s3.us-west-2.amazonaws.com/sentinel-s2-l2a-cogs/17/S/PV/2024/9/S2A_17SPV_20240909_0_L2A/tileinfo_metadata.json",
           "assets_tileinfo_metadata_roles": "(1:metadata)",
           "assets_tileinfo_metadata_type": "application/json",
           "assets_visual_eo_bands": [
            {
             "center_wavelength": 0.665,
             "common_name": "red",
             "description": "Red (band 4)",
             "full_width_half_max": 0.038,
             "name": "red"
            },
            {
             "center_wavelength": 0.56,
             "common_name": "green",
             "description": "Green (band 3)",
             "full_width_half_max": 0.045,
             "name": "green"
            },
            {
             "center_wavelength": 0.49,
             "common_name": "blue",
             "description": "Blue (band 2)",
             "full_width_half_max": 0.098,
             "name": "blue"
            }
           ],
           "assets_visual_href": "https://sentinel-cogs.s3.us-west-2.amazonaws.com/sentinel-s2-l2a-cogs/17/S/PV/2024/9/S2A_17SPV_20240909_0_L2A/TCI.tif",
           "assets_visual_jp2_eo_bands": [
            {
             "center_wavelength": 0.665,
             "common_name": "red",
             "description": "Red (band 4)",
             "full_width_half_max": 0.038,
             "name": "red"
            },
            {
             "center_wavelength": 0.56,
             "common_name": "green",
             "description": "Green (band 3)",
             "full_width_half_max": 0.045,
             "name": "green"
            },
            {
             "center_wavelength": 0.49,
             "common_name": "blue",
             "description": "Blue (band 2)",
             "full_width_half_max": 0.098,
             "name": "blue"
            }
           ],
           "assets_visual_jp2_href": "s3://sentinel-s2-l2a/tiles/17/S/PV/2024/9/9/0/TCI.jp2",
           "assets_visual_jp2_proj_shape": "(2:10980,10980)",
           "assets_visual_jp2_proj_transform": "(6:10,0,600000,0,-10,4000020)",
           "assets_visual_jp2_roles": "(1:visual)",
           "assets_visual_jp2_title": "True color image",
           "assets_visual_jp2_type": "image/jp2",
           "assets_visual_proj_shape": "(2:10980,10980)",
           "assets_visual_proj_transform": "(6:10,0,600000,0,-10,4000020)",
           "assets_visual_roles": "(1:visual)",
           "assets_visual_title": "True color image",
           "assets_visual_type": "image/tiff; application=geotiff; profile=cloud-optimized",
           "assets_wvp_href": "https://sentinel-cogs.s3.us-west-2.amazonaws.com/sentinel-s2-l2a-cogs/17/S/PV/2024/9/S2A_17SPV_20240909_0_L2A/WVP.tif",
           "assets_wvp_jp2_href": "s3://sentinel-s2-l2a/tiles/17/S/PV/2024/9/9/0/WVP.jp2",
           "assets_wvp_jp2_proj_shape": "(2:5490,5490)",
           "assets_wvp_jp2_proj_transform": "(6:20,0,600000,0,-20,4000020)",
           "assets_wvp_jp2_raster_bands": [
            {
             "bits_per_sample": 15,
             "data_type": "uint16",
             "nodata": 0,
             "offset": 0,
             "scale": 0.001,
             "spatial_resolution": 20,
             "unit": "cm"
            }
           ],
           "assets_wvp_jp2_roles": "(2:data,reflectance)",
           "assets_wvp_jp2_title": "Water vapour (WVP)",
           "assets_wvp_jp2_type": "image/jp2",
           "assets_wvp_proj_shape": "(2:5490,5490)",
           "assets_wvp_proj_transform": "(6:20,0,600000,0,-20,4000020)",
           "assets_wvp_raster_bands": [
            {
             "bits_per_sample": 15,
             "data_type": "uint16",
             "nodata": 0,
             "offset": 0,
             "scale": 0.001,
             "spatial_resolution": 20,
             "unit": "cm"
            }
           ],
           "assets_wvp_roles": "(2:data,reflectance)",
           "assets_wvp_title": "Water vapour (WVP)",
           "assets_wvp_type": "image/tiff; application=geotiff; profile=cloud-optimized",
           "cat": 1,
           "collection": "sentinel-2-l2a",
           "constellation": "sentinel-2",
           "created": "2024-09-10T01:00:11.150",
           "datetime": "2024-09-09T16:13:25.358",
           "earthsearch_boa_offset_applied": 1,
           "earthsearch_payload_id": "roda-sentinel2/workflow-sentinel2-to-stac/4d9c572c80f8d121e13f58841e96ab3f",
           "earthsearch_s3_path": "s3://sentinel-cogs/sentinel-s2-l2a-cogs/17/S/PV/2024/9/S2A_17SPV_20240909_0_L2A",
           "eo_cloud_cover": 0.583943,
           "grid_code": "MGRS-17SPV",
           "id": "S2A_17SPV_20240909_0_L2A",
           "instruments": "(1:msi)",
           "mgrs_grid_square": "PV",
           "mgrs_latitude_band": "S",
           "mgrs_utm_zone": 17,
           "platform": "sentinel-2a",
           "processing_software": {
            "sentinel2-to-stac": "0.1.1"
           },
           "proj_epsg": 32617,
           "s2_cloud_shadow_percentage": 0.282156,
           "s2_dark_features_percentage": null,
           "s2_datastrip_id": "S2A_OPER_MSI_L2A_DS_2APS_20240909T230449_S20240909T161131_N05.11",
           "s2_datatake_id": "GS2A_20240909T155901_048142_N05.11",
           "s2_datatake_type": "INS-NOBS",
           "s2_degraded_msi_data_percentage": 0.0076,
           "s2_generation_time": "2024-09-09T23:04:49",
           "s2_granule_id": "S2A_OPER_MSI_L2A_TL_2APS_20240909T230449_A048142_T17SPV_N05.11",
           "s2_high_proba_clouds_percentage": 0.11125,
           "s2_medium_proba_clouds_percentage": 0.458496,
           "s2_nodata_pixel_percentage": 0.0,
           "s2_not_vegetated_percentage": 5.989857,
           "s2_processing_baseline": "05.11",
           "s2_product_type": "S2MSI2A",
           "s2_product_uri": "S2A_MSIL2A_20240909T155901_N0511_R097_T17SPV_20240909T230449.SAFE",
           "s2_reflectance_conversion_factor": 0.984620442079431,
           "s2_saturated_defective_pixel_percentage": 0,
           "s2_sequence": "0",
           "s2_snow_ice_percentage": 0.0,
           "s2_thin_cirrus_percentage": 0.014197,
           "s2_unclassified_percentage": 0.802021,
           "s2_vegetation_percentage": 90.927249,
           "s2_water_percentage": 1.08207,
           "style": {
            "color": "black",
            "fillColor": "orange"
           },
           "updated": "2024-09-10T01:00:11.150",
           "view_sun_azimuth": 151.939335784169,
           "view_sun_elevation": 56.2633790627923
          },
          "type": "Feature"
         },
         {
          "geometry": {
           "coordinates": [
            [
             [
              -79.88850843890832,
              36.13973161333741
             ],
             [
              -79.88974722294431,
              36.049749189770985
             ],
             [
              -79.8909860069803,
              35.95976676620456
             ],
             [
              -79.89222479101629,
              35.86978434263815
             ],
             [
              -79.89346357505228,
              35.779801919071744
             ],
             [
              -79.89470235908827,
              35.68981949550533
             ],
             [
              -79.89594114312425,
              35.59983707193889
             ],
             [
              -79.89717992716024,
              35.50985464837248
             ],
             [
              -79.89841871119623,
              35.419872224806085
             ],
             [
              -79.89965749523222,
              35.32988980123965
             ],
             [
              -79.90089627926821,
              35.23990737767325
             ],
             [
              -79.9021350633042,
              35.149924954106844
             ],
             [
              -79.79260940405047,
              35.14838773555612
             ],
             [
              -79.68308374479673,
              35.14685051700542
             ],
             [
              -79.57355808554301,
              35.14531329845469
             ],
             [
              -79.46403242628928,
              35.14377607990399
             ],
             [
              -79.35450676703555,
              35.14223886135328
             ],
             [
              -79.24498110778183,
              35.14070164280259
             ],
             [
              -79.13545544852808,
              35.13916442425187
             ],
             [
              -79.02592978927434,
              35.137627205701165
             ],
             [
              -78.91640413002062,
              35.13608998715045
             ],
             [
              -78.80687847076689,
              35.13455276859974
             ],
             [
              -78.69735281151316,
              35.13301555004903
             ],
             [
              -78.69475680417605,
              35.22294122147371
             ],
             [
              -78.69216079683893,
              35.31286689289837
             ],
             [
              -78.68956478950183,
              35.402792564323065
             ],
             [
              -78.68696878216473,
              35.49271823574775
             ],
             [
              -78.68437277482762,
              35.5826439071724
             ],
             [
              -78.6817767674905,
              35.6725695785971
             ],
             [
              -78.6791807601534,
              35.76249525002174
             ],
             [
              -78.6765847528163,
              35.85242092144643
             ],
             [
              -78.67398874547919,
              35.942346592871075
             ],
             [
              -78.67139273814207,
              36.03227226429579
             ],
             [
              -78.66879673080497,
              36.12219793572046
             ],
             [
              -78.77967961335982,
              36.123791906412904
             ],
             [
              -78.89056249591466,
              36.12538587710536
             ],
             [
              -79.00144537846953,
              36.126979847797806
             ],
             [
              -79.11232826102437,
              36.12857381849026
             ],
             [
              -79.22321114357922,
              36.130167789182714
             ],
             [
              -79.33409402613407,
              36.13176175987515
             ],
             [
              -79.44497690868891,
              36.13335573056764
             ],
             [
              -79.55585979124376,
              36.13494970126006
             ],
             [
              -79.66674267379862,
              36.1365436719525
             ],
             [
              -79.77762555635347,
              36.13813764264496
             ],
             [
              -79.88850843890832,
              36.13973161333741
             ]
            ]
           ],
           "type": "Polygon"
          },
          "properties": {
           "assets_aot_href": "https://sentinel-cogs.s3.us-west-2.amazonaws.com/sentinel-s2-l2a-cogs/17/S/PV/2024/8/S2B_17SPV_20240825_0_L2A/AOT.tif",
           "assets_aot_jp2_href": "s3://sentinel-s2-l2a/tiles/17/S/PV/2024/8/25/0/AOT.jp2",
           "assets_aot_jp2_proj_shape": "(2:5490,5490)",
           "assets_aot_jp2_proj_transform": "(6:20,0,600000,0,-20,4000020)",
           "assets_aot_jp2_raster_bands": [
            {
             "bits_per_sample": 15,
             "data_type": "uint16",
             "nodata": 0,
             "offset": 0,
             "scale": 0.001,
             "spatial_resolution": 20
            }
           ],
           "assets_aot_jp2_roles": "(2:data,reflectance)",
           "assets_aot_jp2_title": "Aerosol optical thickness (AOT)",
           "assets_aot_jp2_type": "image/jp2",
           "assets_aot_proj_shape": "(2:5490,5490)",
           "assets_aot_proj_transform": "(6:20,0,600000,0,-20,4000020)",
           "assets_aot_raster_bands": [
            {
             "bits_per_sample": 15,
             "data_type": "uint16",
             "nodata": 0,
             "offset": 0,
             "scale": 0.001,
             "spatial_resolution": 20
            }
           ],
           "assets_aot_roles": "(2:data,reflectance)",
           "assets_aot_title": "Aerosol optical thickness (AOT)",
           "assets_aot_type": "image/tiff; application=geotiff; profile=cloud-optimized",
           "assets_blue_eo_bands": [
            {
             "center_wavelength": 0.49,
             "common_name": "blue",
             "description": "Blue (band 2)",
             "full_width_half_max": 0.098,
             "name": "blue"
            }
           ],
           "assets_blue_gsd": 10,
           "assets_blue_href": "https://sentinel-cogs.s3.us-west-2.amazonaws.com/sentinel-s2-l2a-cogs/17/S/PV/2024/8/S2B_17SPV_20240825_0_L2A/B02.tif",
           "assets_blue_jp2_eo_bands": [
            {
             "center_wavelength": 0.49,
             "common_name": "blue",
             "description": "Blue (band 2)",
             "full_width_half_max": 0.098,
             "name": "blue"
            }
           ],
           "assets_blue_jp2_gsd": 10,
           "assets_blue_jp2_href": "s3://sentinel-s2-l2a/tiles/17/S/PV/2024/8/25/0/B02.jp2",
           "assets_blue_jp2_proj_shape": "(2:10980,10980)",
           "assets_blue_jp2_proj_transform": "(6:10,0,600000,0,-10,4000020)",
           "assets_blue_jp2_raster_bands": [
            {
             "bits_per_sample": 15,
             "data_type": "uint16",
             "nodata": 0,
             "offset": -0.1,
             "scale": 0.0001,
             "spatial_resolution": 10
            }
           ],
           "assets_blue_jp2_roles": "(2:data,reflectance)",
           "assets_blue_jp2_title": "Blue (band 2) - 10m",
           "assets_blue_jp2_type": "image/jp2",
           "assets_blue_proj_shape": "(2:10980,10980)",
           "assets_blue_proj_transform": "(6:10,0,600000,0,-10,4000020)",
           "assets_blue_raster_bands": [
            {
             "bits_per_sample": 15,
             "data_type": "uint16",
             "nodata": 0,
             "offset": -0.1,
             "scale": 0.0001,
             "spatial_resolution": 10
            }
           ],
           "assets_blue_roles": "(2:data,reflectance)",
           "assets_blue_title": "Blue (band 2) - 10m",
           "assets_blue_type": "image/tiff; application=geotiff; profile=cloud-optimized",
           "assets_coastal_eo_bands": [
            {
             "center_wavelength": 0.443,
             "common_name": "coastal",
             "description": "Coastal aerosol (band 1)",
             "full_width_half_max": 0.027,
             "name": "coastal"
            }
           ],
           "assets_coastal_gsd": 60,
           "assets_coastal_href": "https://sentinel-cogs.s3.us-west-2.amazonaws.com/sentinel-s2-l2a-cogs/17/S/PV/2024/8/S2B_17SPV_20240825_0_L2A/B01.tif",
           "assets_coastal_jp2_eo_bands": [
            {
             "center_wavelength": 0.443,
             "common_name": "coastal",
             "description": "Coastal aerosol (band 1)",
             "full_width_half_max": 0.027,
             "name": "coastal"
            }
           ],
           "assets_coastal_jp2_gsd": 60,
           "assets_coastal_jp2_href": "s3://sentinel-s2-l2a/tiles/17/S/PV/2024/8/25/0/B01.jp2",
           "assets_coastal_jp2_proj_shape": "(2:1830,1830)",
           "assets_coastal_jp2_proj_transform": "(6:60,0,600000,0,-60,4000020)",
           "assets_coastal_jp2_raster_bands": [
            {
             "bits_per_sample": 15,
             "data_type": "uint16",
             "nodata": 0,
             "offset": -0.1,
             "scale": 0.0001,
             "spatial_resolution": 60
            }
           ],
           "assets_coastal_jp2_roles": "(2:data,reflectance)",
           "assets_coastal_jp2_title": "Coastal aerosol (band 1) - 60m",
           "assets_coastal_jp2_type": "image/jp2",
           "assets_coastal_proj_shape": "(2:1830,1830)",
           "assets_coastal_proj_transform": "(6:60,0,600000,0,-60,4000020)",
           "assets_coastal_raster_bands": [
            {
             "bits_per_sample": 15,
             "data_type": "uint16",
             "nodata": 0,
             "offset": -0.1,
             "scale": 0.0001,
             "spatial_resolution": 60
            }
           ],
           "assets_coastal_roles": "(2:data,reflectance)",
           "assets_coastal_title": "Coastal aerosol (band 1) - 60m",
           "assets_coastal_type": "image/tiff; application=geotiff; profile=cloud-optimized",
           "assets_granule_metadata_href": "https://sentinel-cogs.s3.us-west-2.amazonaws.com/sentinel-s2-l2a-cogs/17/S/PV/2024/8/S2B_17SPV_20240825_0_L2A/granule_metadata.xml",
           "assets_granule_metadata_roles": "(1:metadata)",
           "assets_granule_metadata_type": "application/xml",
           "assets_green_eo_bands": [
            {
             "center_wavelength": 0.56,
             "common_name": "green",
             "description": "Green (band 3)",
             "full_width_half_max": 0.045,
             "name": "green"
            }
           ],
           "assets_green_gsd": 10,
           "assets_green_href": "https://sentinel-cogs.s3.us-west-2.amazonaws.com/sentinel-s2-l2a-cogs/17/S/PV/2024/8/S2B_17SPV_20240825_0_L2A/B03.tif",
           "assets_green_jp2_eo_bands": [
            {
             "center_wavelength": 0.56,
             "common_name": "green",
             "description": "Green (band 3)",
             "full_width_half_max": 0.045,
             "name": "green"
            }
           ],
           "assets_green_jp2_gsd": 10,
           "assets_green_jp2_href": "s3://sentinel-s2-l2a/tiles/17/S/PV/2024/8/25/0/B03.jp2",
           "assets_green_jp2_proj_shape": "(2:10980,10980)",
           "assets_green_jp2_proj_transform": "(6:10,0,600000,0,-10,4000020)",
           "assets_green_jp2_raster_bands": [
            {
             "bits_per_sample": 15,
             "data_type": "uint16",
             "nodata": 0,
             "offset": -0.1,
             "scale": 0.0001,
             "spatial_resolution": 10
            }
           ],
           "assets_green_jp2_roles": "(2:data,reflectance)",
           "assets_green_jp2_title": "Green (band 3) - 10m",
           "assets_green_jp2_type": "image/jp2",
           "assets_green_proj_shape": "(2:10980,10980)",
           "assets_green_proj_transform": "(6:10,0,600000,0,-10,4000020)",
           "assets_green_raster_bands": [
            {
             "bits_per_sample": 15,
             "data_type": "uint16",
             "nodata": 0,
             "offset": -0.1,
             "scale": 0.0001,
             "spatial_resolution": 10
            }
           ],
           "assets_green_roles": "(2:data,reflectance)",
           "assets_green_title": "Green (band 3) - 10m",
           "assets_green_type": "image/tiff; application=geotiff; profile=cloud-optimized",
           "assets_nir08_eo_bands": [
            {
             "center_wavelength": 0.865,
             "common_name": "nir08",
             "description": "NIR 2 (band 8A)",
             "full_width_half_max": 0.033,
             "name": "nir08"
            }
           ],
           "assets_nir08_gsd": 20,
           "assets_nir08_href": "https://sentinel-cogs.s3.us-west-2.amazonaws.com/sentinel-s2-l2a-cogs/17/S/PV/2024/8/S2B_17SPV_20240825_0_L2A/B8A.tif",
           "assets_nir08_jp2_eo_bands": [
            {
             "center_wavelength": 0.865,
             "common_name": "nir08",
             "description": "NIR 2 (band 8A)",
             "full_width_half_max": 0.033,
             "name": "nir08"
            }
           ],
           "assets_nir08_jp2_gsd": 20,
           "assets_nir08_jp2_href": "s3://sentinel-s2-l2a/tiles/17/S/PV/2024/8/25/0/B8A.jp2",
           "assets_nir08_jp2_proj_shape": "(2:5490,5490)",
           "assets_nir08_jp2_proj_transform": "(6:20,0,600000,0,-20,4000020)",
           "assets_nir08_jp2_raster_bands": [
            {
             "bits_per_sample": 15,
             "data_type": "uint16",
             "nodata": 0,
             "offset": -0.1,
             "scale": 0.0001,
             "spatial_resolution": 20
            }
           ],
           "assets_nir08_jp2_roles": "(2:data,reflectance)",
           "assets_nir08_jp2_title": "NIR 2 (band 8A) - 20m",
           "assets_nir08_jp2_type": "image/jp2",
           "assets_nir08_proj_shape": "(2:5490,5490)",
           "assets_nir08_proj_transform": "(6:20,0,600000,0,-20,4000020)",
           "assets_nir08_raster_bands": [
            {
             "bits_per_sample": 15,
             "data_type": "uint16",
             "nodata": 0,
             "offset": -0.1,
             "scale": 0.0001,
             "spatial_resolution": 20
            }
           ],
           "assets_nir08_roles": "(2:data,reflectance)",
           "assets_nir08_title": "NIR 2 (band 8A) - 20m",
           "assets_nir08_type": "image/tiff; application=geotiff; profile=cloud-optimized",
           "assets_nir09_eo_bands": [
            {
             "center_wavelength": 0.945,
             "common_name": "nir09",
             "description": "NIR 3 (band 9)",
             "full_width_half_max": 0.026,
             "name": "nir09"
            }
           ],
           "assets_nir09_gsd": 60,
           "assets_nir09_href": "https://sentinel-cogs.s3.us-west-2.amazonaws.com/sentinel-s2-l2a-cogs/17/S/PV/2024/8/S2B_17SPV_20240825_0_L2A/B09.tif",
           "assets_nir09_jp2_eo_bands": [
            {
             "center_wavelength": 0.945,
             "common_name": "nir09",
             "description": "NIR 3 (band 9)",
             "full_width_half_max": 0.026,
             "name": "nir09"
            }
           ],
           "assets_nir09_jp2_gsd": 60,
           "assets_nir09_jp2_href": "s3://sentinel-s2-l2a/tiles/17/S/PV/2024/8/25/0/B09.jp2",
           "assets_nir09_jp2_proj_shape": "(2:1830,1830)",
           "assets_nir09_jp2_proj_transform": "(6:60,0,600000,0,-60,4000020)",
           "assets_nir09_jp2_raster_bands": [
            {
             "bits_per_sample": 15,
             "data_type": "uint16",
             "nodata": 0,
             "offset": -0.1,
             "scale": 0.0001,
             "spatial_resolution": 60
            }
           ],
           "assets_nir09_jp2_roles": "(2:data,reflectance)",
           "assets_nir09_jp2_title": "NIR 3 (band 9) - 60m",
           "assets_nir09_jp2_type": "image/jp2",
           "assets_nir09_proj_shape": "(2:1830,1830)",
           "assets_nir09_proj_transform": "(6:60,0,600000,0,-60,4000020)",
           "assets_nir09_raster_bands": [
            {
             "bits_per_sample": 15,
             "data_type": "uint16",
             "nodata": 0,
             "offset": -0.1,
             "scale": 0.0001,
             "spatial_resolution": 60
            }
           ],
           "assets_nir09_roles": "(2:data,reflectance)",
           "assets_nir09_title": "NIR 3 (band 9) - 60m",
           "assets_nir09_type": "image/tiff; application=geotiff; profile=cloud-optimized",
           "assets_nir_eo_bands": [
            {
             "center_wavelength": 0.842,
             "common_name": "nir",
             "description": "NIR 1 (band 8)",
             "full_width_half_max": 0.145,
             "name": "nir"
            }
           ],
           "assets_nir_gsd": 10,
           "assets_nir_href": "https://sentinel-cogs.s3.us-west-2.amazonaws.com/sentinel-s2-l2a-cogs/17/S/PV/2024/8/S2B_17SPV_20240825_0_L2A/B08.tif",
           "assets_nir_jp2_eo_bands": [
            {
             "center_wavelength": 0.842,
             "common_name": "nir",
             "description": "NIR 1 (band 8)",
             "full_width_half_max": 0.145,
             "name": "nir"
            }
           ],
           "assets_nir_jp2_gsd": 10,
           "assets_nir_jp2_href": "s3://sentinel-s2-l2a/tiles/17/S/PV/2024/8/25/0/B08.jp2",
           "assets_nir_jp2_proj_shape": "(2:10980,10980)",
           "assets_nir_jp2_proj_transform": "(6:10,0,600000,0,-10,4000020)",
           "assets_nir_jp2_raster_bands": [
            {
             "bits_per_sample": 15,
             "data_type": "uint16",
             "nodata": 0,
             "offset": -0.1,
             "scale": 0.0001,
             "spatial_resolution": 10
            }
           ],
           "assets_nir_jp2_roles": "(2:data,reflectance)",
           "assets_nir_jp2_title": "NIR 1 (band 8) - 10m",
           "assets_nir_jp2_type": "image/jp2",
           "assets_nir_proj_shape": "(2:10980,10980)",
           "assets_nir_proj_transform": "(6:10,0,600000,0,-10,4000020)",
           "assets_nir_raster_bands": [
            {
             "bits_per_sample": 15,
             "data_type": "uint16",
             "nodata": 0,
             "offset": -0.1,
             "scale": 0.0001,
             "spatial_resolution": 10
            }
           ],
           "assets_nir_roles": "(2:data,reflectance)",
           "assets_nir_title": "NIR 1 (band 8) - 10m",
           "assets_nir_type": "image/tiff; application=geotiff; profile=cloud-optimized",
           "assets_red_eo_bands": [
            {
             "center_wavelength": 0.665,
             "common_name": "red",
             "description": "Red (band 4)",
             "full_width_half_max": 0.038,
             "name": "red"
            }
           ],
           "assets_red_gsd": 10,
           "assets_red_href": "https://sentinel-cogs.s3.us-west-2.amazonaws.com/sentinel-s2-l2a-cogs/17/S/PV/2024/8/S2B_17SPV_20240825_0_L2A/B04.tif",
           "assets_red_jp2_eo_bands": [
            {
             "center_wavelength": 0.665,
             "common_name": "red",
             "description": "Red (band 4)",
             "full_width_half_max": 0.038,
             "name": "red"
            }
           ],
           "assets_red_jp2_gsd": 10,
           "assets_red_jp2_href": "s3://sentinel-s2-l2a/tiles/17/S/PV/2024/8/25/0/B04.jp2",
           "assets_red_jp2_proj_shape": "(2:10980,10980)",
           "assets_red_jp2_proj_transform": "(6:10,0,600000,0,-10,4000020)",
           "assets_red_jp2_raster_bands": [
            {
             "bits_per_sample": 15,
             "data_type": "uint16",
             "nodata": 0,
             "offset": -0.1,
             "scale": 0.0001,
             "spatial_resolution": 10
            }
           ],
           "assets_red_jp2_roles": "(2:data,reflectance)",
           "assets_red_jp2_title": "Red (band 4) - 10m",
           "assets_red_jp2_type": "image/jp2",
           "assets_red_proj_shape": "(2:10980,10980)",
           "assets_red_proj_transform": "(6:10,0,600000,0,-10,4000020)",
           "assets_red_raster_bands": [
            {
             "bits_per_sample": 15,
             "data_type": "uint16",
             "nodata": 0,
             "offset": -0.1,
             "scale": 0.0001,
             "spatial_resolution": 10
            }
           ],
           "assets_red_roles": "(2:data,reflectance)",
           "assets_red_title": "Red (band 4) - 10m",
           "assets_red_type": "image/tiff; application=geotiff; profile=cloud-optimized",
           "assets_rededge1_eo_bands": [
            {
             "center_wavelength": 0.704,
             "common_name": "rededge",
             "description": "Red edge 1 (band 5)",
             "full_width_half_max": 0.019,
             "name": "rededge1"
            }
           ],
           "assets_rededge1_gsd": 20,
           "assets_rededge1_href": "https://sentinel-cogs.s3.us-west-2.amazonaws.com/sentinel-s2-l2a-cogs/17/S/PV/2024/8/S2B_17SPV_20240825_0_L2A/B05.tif",
           "assets_rededge1_jp2_eo_bands": [
            {
             "center_wavelength": 0.704,
             "common_name": "rededge",
             "description": "Red edge 1 (band 5)",
             "full_width_half_max": 0.019,
             "name": "rededge1"
            }
           ],
           "assets_rededge1_jp2_gsd": 20,
           "assets_rededge1_jp2_href": "s3://sentinel-s2-l2a/tiles/17/S/PV/2024/8/25/0/B05.jp2",
           "assets_rededge1_jp2_proj_shape": "(2:5490,5490)",
           "assets_rededge1_jp2_proj_transform": "(6:20,0,600000,0,-20,4000020)",
           "assets_rededge1_jp2_raster_bands": [
            {
             "bits_per_sample": 15,
             "data_type": "uint16",
             "nodata": 0,
             "offset": -0.1,
             "scale": 0.0001,
             "spatial_resolution": 20
            }
           ],
           "assets_rededge1_jp2_roles": "(2:data,reflectance)",
           "assets_rededge1_jp2_title": "Red edge 1 (band 5) - 20m",
           "assets_rededge1_jp2_type": "image/jp2",
           "assets_rededge1_proj_shape": "(2:5490,5490)",
           "assets_rededge1_proj_transform": "(6:20,0,600000,0,-20,4000020)",
           "assets_rededge1_raster_bands": [
            {
             "bits_per_sample": 15,
             "data_type": "uint16",
             "nodata": 0,
             "offset": -0.1,
             "scale": 0.0001,
             "spatial_resolution": 20
            }
           ],
           "assets_rededge1_roles": "(2:data,reflectance)",
           "assets_rededge1_title": "Red edge 1 (band 5) - 20m",
           "assets_rededge1_type": "image/tiff; application=geotiff; profile=cloud-optimized",
           "assets_rededge2_eo_bands": [
            {
             "center_wavelength": 0.74,
             "common_name": "rededge",
             "description": "Red edge 2 (band 6)",
             "full_width_half_max": 0.018,
             "name": "rededge2"
            }
           ],
           "assets_rededge2_gsd": 20,
           "assets_rededge2_href": "https://sentinel-cogs.s3.us-west-2.amazonaws.com/sentinel-s2-l2a-cogs/17/S/PV/2024/8/S2B_17SPV_20240825_0_L2A/B06.tif",
           "assets_rededge2_jp2_eo_bands": [
            {
             "center_wavelength": 0.74,
             "common_name": "rededge",
             "description": "Red edge 2 (band 6)",
             "full_width_half_max": 0.018,
             "name": "rededge2"
            }
           ],
           "assets_rededge2_jp2_gsd": 20,
           "assets_rededge2_jp2_href": "s3://sentinel-s2-l2a/tiles/17/S/PV/2024/8/25/0/B06.jp2",
           "assets_rededge2_jp2_proj_shape": "(2:5490,5490)",
           "assets_rededge2_jp2_proj_transform": "(6:20,0,600000,0,-20,4000020)",
           "assets_rededge2_jp2_raster_bands": [
            {
             "bits_per_sample": 15,
             "data_type": "uint16",
             "nodata": 0,
             "offset": -0.1,
             "scale": 0.0001,
             "spatial_resolution": 20
            }
           ],
           "assets_rededge2_jp2_roles": "(2:data,reflectance)",
           "assets_rededge2_jp2_title": "Red edge 2 (band 6) - 20m",
           "assets_rededge2_jp2_type": "image/jp2",
           "assets_rededge2_proj_shape": "(2:5490,5490)",
           "assets_rededge2_proj_transform": "(6:20,0,600000,0,-20,4000020)",
           "assets_rededge2_raster_bands": [
            {
             "bits_per_sample": 15,
             "data_type": "uint16",
             "nodata": 0,
             "offset": -0.1,
             "scale": 0.0001,
             "spatial_resolution": 20
            }
           ],
           "assets_rededge2_roles": "(2:data,reflectance)",
           "assets_rededge2_title": "Red edge 2 (band 6) - 20m",
           "assets_rededge2_type": "image/tiff; application=geotiff; profile=cloud-optimized",
           "assets_rededge3_eo_bands": [
            {
             "center_wavelength": 0.783,
             "common_name": "rededge",
             "description": "Red edge 3 (band 7)",
             "full_width_half_max": 0.028,
             "name": "rededge3"
            }
           ],
           "assets_rededge3_gsd": 20,
           "assets_rededge3_href": "https://sentinel-cogs.s3.us-west-2.amazonaws.com/sentinel-s2-l2a-cogs/17/S/PV/2024/8/S2B_17SPV_20240825_0_L2A/B07.tif",
           "assets_rededge3_jp2_eo_bands": [
            {
             "center_wavelength": 0.783,
             "common_name": "rededge",
             "description": "Red edge 3 (band 7)",
             "full_width_half_max": 0.028,
             "name": "rededge3"
            }
           ],
           "assets_rededge3_jp2_gsd": 20,
           "assets_rededge3_jp2_href": "s3://sentinel-s2-l2a/tiles/17/S/PV/2024/8/25/0/B07.jp2",
           "assets_rededge3_jp2_proj_shape": "(2:5490,5490)",
           "assets_rededge3_jp2_proj_transform": "(6:20,0,600000,0,-20,4000020)",
           "assets_rededge3_jp2_raster_bands": [
            {
             "bits_per_sample": 15,
             "data_type": "uint16",
             "nodata": 0,
             "offset": -0.1,
             "scale": 0.0001,
             "spatial_resolution": 20
            }
           ],
           "assets_rededge3_jp2_roles": "(2:data,reflectance)",
           "assets_rededge3_jp2_title": "Red edge 3 (band 7) - 20m",
           "assets_rededge3_jp2_type": "image/jp2",
           "assets_rededge3_proj_shape": "(2:5490,5490)",
           "assets_rededge3_proj_transform": "(6:20,0,600000,0,-20,4000020)",
           "assets_rededge3_raster_bands": [
            {
             "bits_per_sample": 15,
             "data_type": "uint16",
             "nodata": 0,
             "offset": -0.1,
             "scale": 0.0001,
             "spatial_resolution": 20
            }
           ],
           "assets_rededge3_roles": "(2:data,reflectance)",
           "assets_rededge3_title": "Red edge 3 (band 7) - 20m",
           "assets_rededge3_type": "image/tiff; application=geotiff; profile=cloud-optimized",
           "assets_scl_href": "https://sentinel-cogs.s3.us-west-2.amazonaws.com/sentinel-s2-l2a-cogs/17/S/PV/2024/8/S2B_17SPV_20240825_0_L2A/SCL.tif",
           "assets_scl_jp2_href": "s3://sentinel-s2-l2a/tiles/17/S/PV/2024/8/25/0/SCL.jp2",
           "assets_scl_jp2_proj_shape": "(2:5490,5490)",
           "assets_scl_jp2_proj_transform": "(6:20,0,600000,0,-20,4000020)",
           "assets_scl_jp2_raster_bands": [
            {
             "data_type": "uint8",
             "nodata": 0,
             "spatial_resolution": 20
            }
           ],
           "assets_scl_jp2_roles": "(2:data,reflectance)",
           "assets_scl_jp2_title": "Scene classification map (SCL)",
           "assets_scl_jp2_type": "image/jp2",
           "assets_scl_proj_shape": "(2:5490,5490)",
           "assets_scl_proj_transform": "(6:20,0,600000,0,-20,4000020)",
           "assets_scl_raster_bands": [
            {
             "data_type": "uint8",
             "nodata": 0,
             "spatial_resolution": 20
            }
           ],
           "assets_scl_roles": "(2:data,reflectance)",
           "assets_scl_title": "Scene classification map (SCL)",
           "assets_scl_type": "image/tiff; application=geotiff; profile=cloud-optimized",
           "assets_swir16_eo_bands": [
            {
             "center_wavelength": 1.61,
             "common_name": "swir16",
             "description": "SWIR 1 (band 11)",
             "full_width_half_max": 0.143,
             "name": "swir16"
            }
           ],
           "assets_swir16_gsd": 20,
           "assets_swir16_href": "https://sentinel-cogs.s3.us-west-2.amazonaws.com/sentinel-s2-l2a-cogs/17/S/PV/2024/8/S2B_17SPV_20240825_0_L2A/B11.tif",
           "assets_swir16_jp2_eo_bands": [
            {
             "center_wavelength": 1.61,
             "common_name": "swir16",
             "description": "SWIR 1 (band 11)",
             "full_width_half_max": 0.143,
             "name": "swir16"
            }
           ],
           "assets_swir16_jp2_gsd": 20,
           "assets_swir16_jp2_href": "s3://sentinel-s2-l2a/tiles/17/S/PV/2024/8/25/0/B11.jp2",
           "assets_swir16_jp2_proj_shape": "(2:5490,5490)",
           "assets_swir16_jp2_proj_transform": "(6:20,0,600000,0,-20,4000020)",
           "assets_swir16_jp2_raster_bands": [
            {
             "bits_per_sample": 15,
             "data_type": "uint16",
             "nodata": 0,
             "offset": -0.1,
             "scale": 0.0001,
             "spatial_resolution": 20
            }
           ],
           "assets_swir16_jp2_roles": "(2:data,reflectance)",
           "assets_swir16_jp2_title": "SWIR 1 (band 11) - 20m",
           "assets_swir16_jp2_type": "image/jp2",
           "assets_swir16_proj_shape": "(2:5490,5490)",
           "assets_swir16_proj_transform": "(6:20,0,600000,0,-20,4000020)",
           "assets_swir16_raster_bands": [
            {
             "bits_per_sample": 15,
             "data_type": "uint16",
             "nodata": 0,
             "offset": -0.1,
             "scale": 0.0001,
             "spatial_resolution": 20
            }
           ],
           "assets_swir16_roles": "(2:data,reflectance)",
           "assets_swir16_title": "SWIR 1 (band 11) - 20m",
           "assets_swir16_type": "image/tiff; application=geotiff; profile=cloud-optimized",
           "assets_swir22_eo_bands": [
            {
             "center_wavelength": 2.19,
             "common_name": "swir22",
             "description": "SWIR 2 (band 12)",
             "full_width_half_max": 0.242,
             "name": "swir22"
            }
           ],
           "assets_swir22_gsd": 20,
           "assets_swir22_href": "https://sentinel-cogs.s3.us-west-2.amazonaws.com/sentinel-s2-l2a-cogs/17/S/PV/2024/8/S2B_17SPV_20240825_0_L2A/B12.tif",
           "assets_swir22_jp2_eo_bands": [
            {
             "center_wavelength": 2.19,
             "common_name": "swir22",
             "description": "SWIR 2 (band 12)",
             "full_width_half_max": 0.242,
             "name": "swir22"
            }
           ],
           "assets_swir22_jp2_gsd": 20,
           "assets_swir22_jp2_href": "s3://sentinel-s2-l2a/tiles/17/S/PV/2024/8/25/0/B12.jp2",
           "assets_swir22_jp2_proj_shape": "(2:5490,5490)",
           "assets_swir22_jp2_proj_transform": "(6:20,0,600000,0,-20,4000020)",
           "assets_swir22_jp2_raster_bands": [
            {
             "bits_per_sample": 15,
             "data_type": "uint16",
             "nodata": 0,
             "offset": -0.1,
             "scale": 0.0001,
             "spatial_resolution": 20
            }
           ],
           "assets_swir22_jp2_roles": "(2:data,reflectance)",
           "assets_swir22_jp2_title": "SWIR 2 (band 12) - 20m",
           "assets_swir22_jp2_type": "image/jp2",
           "assets_swir22_proj_shape": "(2:5490,5490)",
           "assets_swir22_proj_transform": "(6:20,0,600000,0,-20,4000020)",
           "assets_swir22_raster_bands": [
            {
             "bits_per_sample": 15,
             "data_type": "uint16",
             "nodata": 0,
             "offset": -0.1,
             "scale": 0.0001,
             "spatial_resolution": 20
            }
           ],
           "assets_swir22_roles": "(2:data,reflectance)",
           "assets_swir22_title": "SWIR 2 (band 12) - 20m",
           "assets_swir22_type": "image/tiff; application=geotiff; profile=cloud-optimized",
           "assets_thumbnail_href": "https://sentinel-cogs.s3.us-west-2.amazonaws.com/sentinel-s2-l2a-cogs/17/S/PV/2024/8/S2B_17SPV_20240825_0_L2A/thumbnail.jpg",
           "assets_thumbnail_roles": "(1:thumbnail)",
           "assets_thumbnail_title": "Thumbnail image",
           "assets_thumbnail_type": "image/jpeg",
           "assets_tileinfo_metadata_href": "https://sentinel-cogs.s3.us-west-2.amazonaws.com/sentinel-s2-l2a-cogs/17/S/PV/2024/8/S2B_17SPV_20240825_0_L2A/tileinfo_metadata.json",
           "assets_tileinfo_metadata_roles": "(1:metadata)",
           "assets_tileinfo_metadata_type": "application/json",
           "assets_visual_eo_bands": [
            {
             "center_wavelength": 0.665,
             "common_name": "red",
             "description": "Red (band 4)",
             "full_width_half_max": 0.038,
             "name": "red"
            },
            {
             "center_wavelength": 0.56,
             "common_name": "green",
             "description": "Green (band 3)",
             "full_width_half_max": 0.045,
             "name": "green"
            },
            {
             "center_wavelength": 0.49,
             "common_name": "blue",
             "description": "Blue (band 2)",
             "full_width_half_max": 0.098,
             "name": "blue"
            }
           ],
           "assets_visual_href": "https://sentinel-cogs.s3.us-west-2.amazonaws.com/sentinel-s2-l2a-cogs/17/S/PV/2024/8/S2B_17SPV_20240825_0_L2A/TCI.tif",
           "assets_visual_jp2_eo_bands": [
            {
             "center_wavelength": 0.665,
             "common_name": "red",
             "description": "Red (band 4)",
             "full_width_half_max": 0.038,
             "name": "red"
            },
            {
             "center_wavelength": 0.56,
             "common_name": "green",
             "description": "Green (band 3)",
             "full_width_half_max": 0.045,
             "name": "green"
            },
            {
             "center_wavelength": 0.49,
             "common_name": "blue",
             "description": "Blue (band 2)",
             "full_width_half_max": 0.098,
             "name": "blue"
            }
           ],
           "assets_visual_jp2_href": "s3://sentinel-s2-l2a/tiles/17/S/PV/2024/8/25/0/TCI.jp2",
           "assets_visual_jp2_proj_shape": "(2:10980,10980)",
           "assets_visual_jp2_proj_transform": "(6:10,0,600000,0,-10,4000020)",
           "assets_visual_jp2_roles": "(1:visual)",
           "assets_visual_jp2_title": "True color image",
           "assets_visual_jp2_type": "image/jp2",
           "assets_visual_proj_shape": "(2:10980,10980)",
           "assets_visual_proj_transform": "(6:10,0,600000,0,-10,4000020)",
           "assets_visual_roles": "(1:visual)",
           "assets_visual_title": "True color image",
           "assets_visual_type": "image/tiff; application=geotiff; profile=cloud-optimized",
           "assets_wvp_href": "https://sentinel-cogs.s3.us-west-2.amazonaws.com/sentinel-s2-l2a-cogs/17/S/PV/2024/8/S2B_17SPV_20240825_0_L2A/WVP.tif",
           "assets_wvp_jp2_href": "s3://sentinel-s2-l2a/tiles/17/S/PV/2024/8/25/0/WVP.jp2",
           "assets_wvp_jp2_proj_shape": "(2:5490,5490)",
           "assets_wvp_jp2_proj_transform": "(6:20,0,600000,0,-20,4000020)",
           "assets_wvp_jp2_raster_bands": [
            {
             "bits_per_sample": 15,
             "data_type": "uint16",
             "nodata": 0,
             "offset": 0,
             "scale": 0.001,
             "spatial_resolution": 20,
             "unit": "cm"
            }
           ],
           "assets_wvp_jp2_roles": "(2:data,reflectance)",
           "assets_wvp_jp2_title": "Water vapour (WVP)",
           "assets_wvp_jp2_type": "image/jp2",
           "assets_wvp_proj_shape": "(2:5490,5490)",
           "assets_wvp_proj_transform": "(6:20,0,600000,0,-20,4000020)",
           "assets_wvp_raster_bands": [
            {
             "bits_per_sample": 15,
             "data_type": "uint16",
             "nodata": 0,
             "offset": 0,
             "scale": 0.001,
             "spatial_resolution": 20,
             "unit": "cm"
            }
           ],
           "assets_wvp_roles": "(2:data,reflectance)",
           "assets_wvp_title": "Water vapour (WVP)",
           "assets_wvp_type": "image/tiff; application=geotiff; profile=cloud-optimized",
           "cat": 2,
           "collection": "sentinel-2-l2a",
           "constellation": "sentinel-2",
           "created": "2024-08-25T22:19:02.797",
           "datetime": "2024-08-25T16:13:26.986",
           "earthsearch_boa_offset_applied": 1,
           "earthsearch_payload_id": "roda-sentinel2/workflow-sentinel2-to-stac/490f60d682670e67d01ecaf4f98b5414",
           "earthsearch_s3_path": "s3://sentinel-cogs/sentinel-s2-l2a-cogs/17/S/PV/2024/8/S2B_17SPV_20240825_0_L2A",
           "eo_cloud_cover": 0.286147,
           "grid_code": "MGRS-17SPV",
           "id": "S2B_17SPV_20240825_0_L2A",
           "instruments": "(1:msi)",
           "mgrs_grid_square": "PV",
           "mgrs_latitude_band": "S",
           "mgrs_utm_zone": 17,
           "platform": "sentinel-2b",
           "processing_software": {
            "sentinel2-to-stac": "0.1.1"
           },
           "proj_epsg": 32617,
           "s2_cloud_shadow_percentage": 0.0,
           "s2_dark_features_percentage": null,
           "s2_datastrip_id": "S2B_OPER_MSI_L2A_DS_2BPS_20240825T202603_S20240825T160630_N05.11",
           "s2_datatake_id": "GS2B_20240825T155819_039019_N05.11",
           "s2_datatake_type": "INS-NOBS",
           "s2_degraded_msi_data_percentage": 0.0023,
           "s2_generation_time": "2024-08-25T20:26:03",
           "s2_granule_id": "S2B_OPER_MSI_L2A_TL_2BPS_20240825T202603_A039019_T17SPV_N05.11",
           "s2_high_proba_clouds_percentage": 0.000468,
           "s2_medium_proba_clouds_percentage": 0.003242,
           "s2_nodata_pixel_percentage": 3e-06,
           "s2_not_vegetated_percentage": 5.863727,
           "s2_processing_baseline": "05.11",
           "s2_product_type": "S2MSI2A",
           "s2_product_uri": "S2B_MSIL2A_20240825T155819_N0511_R097_T17SPV_20240825T202603.SAFE",
           "s2_reflectance_conversion_factor": 0.977774923159322,
           "s2_saturated_defective_pixel_percentage": 0,
           "s2_sequence": "0",
           "s2_snow_ice_percentage": 0.0,
           "s2_thin_cirrus_percentage": 0.282438,
           "s2_unclassified_percentage": 0.414823,
           "s2_vegetation_percentage": 92.048389,
           "s2_water_percentage": 1.157126,
           "style": {
            "color": "black",
            "fillColor": "yellow"
           },
           "updated": "2024-08-25T22:19:02.797",
           "view_sun_azimuth": 145.418027258291,
           "view_sun_elevation": 60.713849205893
          },
          "type": "Feature"
         },
         {
          "geometry": {
           "coordinates": [
            [
             [
              -79.88850843890832,
              36.13973161333741
             ],
             [
              -79.88974722294431,
              36.049749189770985
             ],
             [
              -79.8909860069803,
              35.95976676620456
             ],
             [
              -79.89222479101629,
              35.86978434263815
             ],
             [
              -79.89346357505228,
              35.779801919071744
             ],
             [
              -79.89470235908827,
              35.68981949550533
             ],
             [
              -79.89594114312425,
              35.59983707193889
             ],
             [
              -79.89717992716024,
              35.50985464837248
             ],
             [
              -79.89841871119623,
              35.419872224806085
             ],
             [
              -79.89965749523222,
              35.32988980123965
             ],
             [
              -79.90089627926821,
              35.23990737767325
             ],
             [
              -79.9021350633042,
              35.149924954106844
             ],
             [
              -79.79260940405047,
              35.14838773555612
             ],
             [
              -79.68308374479673,
              35.14685051700542
             ],
             [
              -79.57355808554301,
              35.14531329845469
             ],
             [
              -79.46403242628928,
              35.14377607990399
             ],
             [
              -79.35450676703555,
              35.14223886135328
             ],
             [
              -79.24498110778183,
              35.14070164280259
             ],
             [
              -79.13545544852808,
              35.13916442425187
             ],
             [
              -79.02592978927434,
              35.137627205701165
             ],
             [
              -78.91640413002062,
              35.13608998715045
             ],
             [
              -78.80687847076689,
              35.13455276859974
             ],
             [
              -78.69735281151316,
              35.13301555004903
             ],
             [
              -78.69475680417605,
              35.22294122147371
             ],
             [
              -78.69216079683893,
              35.31286689289837
             ],
             [
              -78.68956478950183,
              35.402792564323065
             ],
             [
              -78.68696878216473,
              35.49271823574775
             ],
             [
              -78.68437277482762,
              35.5826439071724
             ],
             [
              -78.6817767674905,
              35.6725695785971
             ],
             [
              -78.6791807601534,
              35.76249525002174
             ],
             [
              -78.6765847528163,
              35.85242092144643
             ],
             [
              -78.67398874547919,
              35.942346592871075
             ],
             [
              -78.67139273814207,
              36.03227226429579
             ],
             [
              -78.66879673080497,
              36.12219793572046
             ],
             [
              -78.77967961335982,
              36.123791906412904
             ],
             [
              -78.89056249591466,
              36.12538587710536
             ],
             [
              -79.00144537846953,
              36.126979847797806
             ],
             [
              -79.11232826102437,
              36.12857381849026
             ],
             [
              -79.22321114357922,
              36.130167789182714
             ],
             [
              -79.33409402613407,
              36.13176175987515
             ],
             [
              -79.44497690868891,
              36.13335573056764
             ],
             [
              -79.55585979124376,
              36.13494970126006
             ],
             [
              -79.66674267379862,
              36.1365436719525
             ],
             [
              -79.77762555635347,
              36.13813764264496
             ],
             [
              -79.88850843890832,
              36.13973161333741
             ]
            ]
           ],
           "type": "Polygon"
          },
          "properties": {
           "assets_aot_href": "https://sentinel-cogs.s3.us-west-2.amazonaws.com/sentinel-s2-l2a-cogs/17/S/PV/2024/7/S2A_17SPV_20240731_0_L2A/AOT.tif",
           "assets_aot_jp2_href": "s3://sentinel-s2-l2a/tiles/17/S/PV/2024/7/31/0/AOT.jp2",
           "assets_aot_jp2_proj_shape": "(2:5490,5490)",
           "assets_aot_jp2_proj_transform": "(6:20,0,600000,0,-20,4000020)",
           "assets_aot_jp2_raster_bands": [
            {
             "bits_per_sample": 15,
             "data_type": "uint16",
             "nodata": 0,
             "offset": 0,
             "scale": 0.001,
             "spatial_resolution": 20
            }
           ],
           "assets_aot_jp2_roles": "(2:data,reflectance)",
           "assets_aot_jp2_title": "Aerosol optical thickness (AOT)",
           "assets_aot_jp2_type": "image/jp2",
           "assets_aot_proj_shape": "(2:5490,5490)",
           "assets_aot_proj_transform": "(6:20,0,600000,0,-20,4000020)",
           "assets_aot_raster_bands": [
            {
             "bits_per_sample": 15,
             "data_type": "uint16",
             "nodata": 0,
             "offset": 0,
             "scale": 0.001,
             "spatial_resolution": 20
            }
           ],
           "assets_aot_roles": "(2:data,reflectance)",
           "assets_aot_title": "Aerosol optical thickness (AOT)",
           "assets_aot_type": "image/tiff; application=geotiff; profile=cloud-optimized",
           "assets_blue_eo_bands": [
            {
             "center_wavelength": 0.49,
             "common_name": "blue",
             "description": "Blue (band 2)",
             "full_width_half_max": 0.098,
             "name": "blue"
            }
           ],
           "assets_blue_gsd": 10,
           "assets_blue_href": "https://sentinel-cogs.s3.us-west-2.amazonaws.com/sentinel-s2-l2a-cogs/17/S/PV/2024/7/S2A_17SPV_20240731_0_L2A/B02.tif",
           "assets_blue_jp2_eo_bands": [
            {
             "center_wavelength": 0.49,
             "common_name": "blue",
             "description": "Blue (band 2)",
             "full_width_half_max": 0.098,
             "name": "blue"
            }
           ],
           "assets_blue_jp2_gsd": 10,
           "assets_blue_jp2_href": "s3://sentinel-s2-l2a/tiles/17/S/PV/2024/7/31/0/B02.jp2",
           "assets_blue_jp2_proj_shape": "(2:10980,10980)",
           "assets_blue_jp2_proj_transform": "(6:10,0,600000,0,-10,4000020)",
           "assets_blue_jp2_raster_bands": [
            {
             "bits_per_sample": 15,
             "data_type": "uint16",
             "nodata": 0,
             "offset": -0.1,
             "scale": 0.0001,
             "spatial_resolution": 10
            }
           ],
           "assets_blue_jp2_roles": "(2:data,reflectance)",
           "assets_blue_jp2_title": "Blue (band 2) - 10m",
           "assets_blue_jp2_type": "image/jp2",
           "assets_blue_proj_shape": "(2:10980,10980)",
           "assets_blue_proj_transform": "(6:10,0,600000,0,-10,4000020)",
           "assets_blue_raster_bands": [
            {
             "bits_per_sample": 15,
             "data_type": "uint16",
             "nodata": 0,
             "offset": -0.1,
             "scale": 0.0001,
             "spatial_resolution": 10
            }
           ],
           "assets_blue_roles": "(2:data,reflectance)",
           "assets_blue_title": "Blue (band 2) - 10m",
           "assets_blue_type": "image/tiff; application=geotiff; profile=cloud-optimized",
           "assets_coastal_eo_bands": [
            {
             "center_wavelength": 0.443,
             "common_name": "coastal",
             "description": "Coastal aerosol (band 1)",
             "full_width_half_max": 0.027,
             "name": "coastal"
            }
           ],
           "assets_coastal_gsd": 60,
           "assets_coastal_href": "https://sentinel-cogs.s3.us-west-2.amazonaws.com/sentinel-s2-l2a-cogs/17/S/PV/2024/7/S2A_17SPV_20240731_0_L2A/B01.tif",
           "assets_coastal_jp2_eo_bands": [
            {
             "center_wavelength": 0.443,
             "common_name": "coastal",
             "description": "Coastal aerosol (band 1)",
             "full_width_half_max": 0.027,
             "name": "coastal"
            }
           ],
           "assets_coastal_jp2_gsd": 60,
           "assets_coastal_jp2_href": "s3://sentinel-s2-l2a/tiles/17/S/PV/2024/7/31/0/B01.jp2",
           "assets_coastal_jp2_proj_shape": "(2:1830,1830)",
           "assets_coastal_jp2_proj_transform": "(6:60,0,600000,0,-60,4000020)",
           "assets_coastal_jp2_raster_bands": [
            {
             "bits_per_sample": 15,
             "data_type": "uint16",
             "nodata": 0,
             "offset": -0.1,
             "scale": 0.0001,
             "spatial_resolution": 60
            }
           ],
           "assets_coastal_jp2_roles": "(2:data,reflectance)",
           "assets_coastal_jp2_title": "Coastal aerosol (band 1) - 60m",
           "assets_coastal_jp2_type": "image/jp2",
           "assets_coastal_proj_shape": "(2:1830,1830)",
           "assets_coastal_proj_transform": "(6:60,0,600000,0,-60,4000020)",
           "assets_coastal_raster_bands": [
            {
             "bits_per_sample": 15,
             "data_type": "uint16",
             "nodata": 0,
             "offset": -0.1,
             "scale": 0.0001,
             "spatial_resolution": 60
            }
           ],
           "assets_coastal_roles": "(2:data,reflectance)",
           "assets_coastal_title": "Coastal aerosol (band 1) - 60m",
           "assets_coastal_type": "image/tiff; application=geotiff; profile=cloud-optimized",
           "assets_granule_metadata_href": "https://sentinel-cogs.s3.us-west-2.amazonaws.com/sentinel-s2-l2a-cogs/17/S/PV/2024/7/S2A_17SPV_20240731_0_L2A/granule_metadata.xml",
           "assets_granule_metadata_roles": "(1:metadata)",
           "assets_granule_metadata_type": "application/xml",
           "assets_green_eo_bands": [
            {
             "center_wavelength": 0.56,
             "common_name": "green",
             "description": "Green (band 3)",
             "full_width_half_max": 0.045,
             "name": "green"
            }
           ],
           "assets_green_gsd": 10,
           "assets_green_href": "https://sentinel-cogs.s3.us-west-2.amazonaws.com/sentinel-s2-l2a-cogs/17/S/PV/2024/7/S2A_17SPV_20240731_0_L2A/B03.tif",
           "assets_green_jp2_eo_bands": [
            {
             "center_wavelength": 0.56,
             "common_name": "green",
             "description": "Green (band 3)",
             "full_width_half_max": 0.045,
             "name": "green"
            }
           ],
           "assets_green_jp2_gsd": 10,
           "assets_green_jp2_href": "s3://sentinel-s2-l2a/tiles/17/S/PV/2024/7/31/0/B03.jp2",
           "assets_green_jp2_proj_shape": "(2:10980,10980)",
           "assets_green_jp2_proj_transform": "(6:10,0,600000,0,-10,4000020)",
           "assets_green_jp2_raster_bands": [
            {
             "bits_per_sample": 15,
             "data_type": "uint16",
             "nodata": 0,
             "offset": -0.1,
             "scale": 0.0001,
             "spatial_resolution": 10
            }
           ],
           "assets_green_jp2_roles": "(2:data,reflectance)",
           "assets_green_jp2_title": "Green (band 3) - 10m",
           "assets_green_jp2_type": "image/jp2",
           "assets_green_proj_shape": "(2:10980,10980)",
           "assets_green_proj_transform": "(6:10,0,600000,0,-10,4000020)",
           "assets_green_raster_bands": [
            {
             "bits_per_sample": 15,
             "data_type": "uint16",
             "nodata": 0,
             "offset": -0.1,
             "scale": 0.0001,
             "spatial_resolution": 10
            }
           ],
           "assets_green_roles": "(2:data,reflectance)",
           "assets_green_title": "Green (band 3) - 10m",
           "assets_green_type": "image/tiff; application=geotiff; profile=cloud-optimized",
           "assets_nir08_eo_bands": [
            {
             "center_wavelength": 0.865,
             "common_name": "nir08",
             "description": "NIR 2 (band 8A)",
             "full_width_half_max": 0.033,
             "name": "nir08"
            }
           ],
           "assets_nir08_gsd": 20,
           "assets_nir08_href": "https://sentinel-cogs.s3.us-west-2.amazonaws.com/sentinel-s2-l2a-cogs/17/S/PV/2024/7/S2A_17SPV_20240731_0_L2A/B8A.tif",
           "assets_nir08_jp2_eo_bands": [
            {
             "center_wavelength": 0.865,
             "common_name": "nir08",
             "description": "NIR 2 (band 8A)",
             "full_width_half_max": 0.033,
             "name": "nir08"
            }
           ],
           "assets_nir08_jp2_gsd": 20,
           "assets_nir08_jp2_href": "s3://sentinel-s2-l2a/tiles/17/S/PV/2024/7/31/0/B8A.jp2",
           "assets_nir08_jp2_proj_shape": "(2:5490,5490)",
           "assets_nir08_jp2_proj_transform": "(6:20,0,600000,0,-20,4000020)",
           "assets_nir08_jp2_raster_bands": [
            {
             "bits_per_sample": 15,
             "data_type": "uint16",
             "nodata": 0,
             "offset": -0.1,
             "scale": 0.0001,
             "spatial_resolution": 20
            }
           ],
           "assets_nir08_jp2_roles": "(2:data,reflectance)",
           "assets_nir08_jp2_title": "NIR 2 (band 8A) - 20m",
           "assets_nir08_jp2_type": "image/jp2",
           "assets_nir08_proj_shape": "(2:5490,5490)",
           "assets_nir08_proj_transform": "(6:20,0,600000,0,-20,4000020)",
           "assets_nir08_raster_bands": [
            {
             "bits_per_sample": 15,
             "data_type": "uint16",
             "nodata": 0,
             "offset": -0.1,
             "scale": 0.0001,
             "spatial_resolution": 20
            }
           ],
           "assets_nir08_roles": "(2:data,reflectance)",
           "assets_nir08_title": "NIR 2 (band 8A) - 20m",
           "assets_nir08_type": "image/tiff; application=geotiff; profile=cloud-optimized",
           "assets_nir09_eo_bands": [
            {
             "center_wavelength": 0.945,
             "common_name": "nir09",
             "description": "NIR 3 (band 9)",
             "full_width_half_max": 0.026,
             "name": "nir09"
            }
           ],
           "assets_nir09_gsd": 60,
           "assets_nir09_href": "https://sentinel-cogs.s3.us-west-2.amazonaws.com/sentinel-s2-l2a-cogs/17/S/PV/2024/7/S2A_17SPV_20240731_0_L2A/B09.tif",
           "assets_nir09_jp2_eo_bands": [
            {
             "center_wavelength": 0.945,
             "common_name": "nir09",
             "description": "NIR 3 (band 9)",
             "full_width_half_max": 0.026,
             "name": "nir09"
            }
           ],
           "assets_nir09_jp2_gsd": 60,
           "assets_nir09_jp2_href": "s3://sentinel-s2-l2a/tiles/17/S/PV/2024/7/31/0/B09.jp2",
           "assets_nir09_jp2_proj_shape": "(2:1830,1830)",
           "assets_nir09_jp2_proj_transform": "(6:60,0,600000,0,-60,4000020)",
           "assets_nir09_jp2_raster_bands": [
            {
             "bits_per_sample": 15,
             "data_type": "uint16",
             "nodata": 0,
             "offset": -0.1,
             "scale": 0.0001,
             "spatial_resolution": 60
            }
           ],
           "assets_nir09_jp2_roles": "(2:data,reflectance)",
           "assets_nir09_jp2_title": "NIR 3 (band 9) - 60m",
           "assets_nir09_jp2_type": "image/jp2",
           "assets_nir09_proj_shape": "(2:1830,1830)",
           "assets_nir09_proj_transform": "(6:60,0,600000,0,-60,4000020)",
           "assets_nir09_raster_bands": [
            {
             "bits_per_sample": 15,
             "data_type": "uint16",
             "nodata": 0,
             "offset": -0.1,
             "scale": 0.0001,
             "spatial_resolution": 60
            }
           ],
           "assets_nir09_roles": "(2:data,reflectance)",
           "assets_nir09_title": "NIR 3 (band 9) - 60m",
           "assets_nir09_type": "image/tiff; application=geotiff; profile=cloud-optimized",
           "assets_nir_eo_bands": [
            {
             "center_wavelength": 0.842,
             "common_name": "nir",
             "description": "NIR 1 (band 8)",
             "full_width_half_max": 0.145,
             "name": "nir"
            }
           ],
           "assets_nir_gsd": 10,
           "assets_nir_href": "https://sentinel-cogs.s3.us-west-2.amazonaws.com/sentinel-s2-l2a-cogs/17/S/PV/2024/7/S2A_17SPV_20240731_0_L2A/B08.tif",
           "assets_nir_jp2_eo_bands": [
            {
             "center_wavelength": 0.842,
             "common_name": "nir",
             "description": "NIR 1 (band 8)",
             "full_width_half_max": 0.145,
             "name": "nir"
            }
           ],
           "assets_nir_jp2_gsd": 10,
           "assets_nir_jp2_href": "s3://sentinel-s2-l2a/tiles/17/S/PV/2024/7/31/0/B08.jp2",
           "assets_nir_jp2_proj_shape": "(2:10980,10980)",
           "assets_nir_jp2_proj_transform": "(6:10,0,600000,0,-10,4000020)",
           "assets_nir_jp2_raster_bands": [
            {
             "bits_per_sample": 15,
             "data_type": "uint16",
             "nodata": 0,
             "offset": -0.1,
             "scale": 0.0001,
             "spatial_resolution": 10
            }
           ],
           "assets_nir_jp2_roles": "(2:data,reflectance)",
           "assets_nir_jp2_title": "NIR 1 (band 8) - 10m",
           "assets_nir_jp2_type": "image/jp2",
           "assets_nir_proj_shape": "(2:10980,10980)",
           "assets_nir_proj_transform": "(6:10,0,600000,0,-10,4000020)",
           "assets_nir_raster_bands": [
            {
             "bits_per_sample": 15,
             "data_type": "uint16",
             "nodata": 0,
             "offset": -0.1,
             "scale": 0.0001,
             "spatial_resolution": 10
            }
           ],
           "assets_nir_roles": "(2:data,reflectance)",
           "assets_nir_title": "NIR 1 (band 8) - 10m",
           "assets_nir_type": "image/tiff; application=geotiff; profile=cloud-optimized",
           "assets_red_eo_bands": [
            {
             "center_wavelength": 0.665,
             "common_name": "red",
             "description": "Red (band 4)",
             "full_width_half_max": 0.038,
             "name": "red"
            }
           ],
           "assets_red_gsd": 10,
           "assets_red_href": "https://sentinel-cogs.s3.us-west-2.amazonaws.com/sentinel-s2-l2a-cogs/17/S/PV/2024/7/S2A_17SPV_20240731_0_L2A/B04.tif",
           "assets_red_jp2_eo_bands": [
            {
             "center_wavelength": 0.665,
             "common_name": "red",
             "description": "Red (band 4)",
             "full_width_half_max": 0.038,
             "name": "red"
            }
           ],
           "assets_red_jp2_gsd": 10,
           "assets_red_jp2_href": "s3://sentinel-s2-l2a/tiles/17/S/PV/2024/7/31/0/B04.jp2",
           "assets_red_jp2_proj_shape": "(2:10980,10980)",
           "assets_red_jp2_proj_transform": "(6:10,0,600000,0,-10,4000020)",
           "assets_red_jp2_raster_bands": [
            {
             "bits_per_sample": 15,
             "data_type": "uint16",
             "nodata": 0,
             "offset": -0.1,
             "scale": 0.0001,
             "spatial_resolution": 10
            }
           ],
           "assets_red_jp2_roles": "(2:data,reflectance)",
           "assets_red_jp2_title": "Red (band 4) - 10m",
           "assets_red_jp2_type": "image/jp2",
           "assets_red_proj_shape": "(2:10980,10980)",
           "assets_red_proj_transform": "(6:10,0,600000,0,-10,4000020)",
           "assets_red_raster_bands": [
            {
             "bits_per_sample": 15,
             "data_type": "uint16",
             "nodata": 0,
             "offset": -0.1,
             "scale": 0.0001,
             "spatial_resolution": 10
            }
           ],
           "assets_red_roles": "(2:data,reflectance)",
           "assets_red_title": "Red (band 4) - 10m",
           "assets_red_type": "image/tiff; application=geotiff; profile=cloud-optimized",
           "assets_rededge1_eo_bands": [
            {
             "center_wavelength": 0.704,
             "common_name": "rededge",
             "description": "Red edge 1 (band 5)",
             "full_width_half_max": 0.019,
             "name": "rededge1"
            }
           ],
           "assets_rededge1_gsd": 20,
           "assets_rededge1_href": "https://sentinel-cogs.s3.us-west-2.amazonaws.com/sentinel-s2-l2a-cogs/17/S/PV/2024/7/S2A_17SPV_20240731_0_L2A/B05.tif",
           "assets_rededge1_jp2_eo_bands": [
            {
             "center_wavelength": 0.704,
             "common_name": "rededge",
             "description": "Red edge 1 (band 5)",
             "full_width_half_max": 0.019,
             "name": "rededge1"
            }
           ],
           "assets_rededge1_jp2_gsd": 20,
           "assets_rededge1_jp2_href": "s3://sentinel-s2-l2a/tiles/17/S/PV/2024/7/31/0/B05.jp2",
           "assets_rededge1_jp2_proj_shape": "(2:5490,5490)",
           "assets_rededge1_jp2_proj_transform": "(6:20,0,600000,0,-20,4000020)",
           "assets_rededge1_jp2_raster_bands": [
            {
             "bits_per_sample": 15,
             "data_type": "uint16",
             "nodata": 0,
             "offset": -0.1,
             "scale": 0.0001,
             "spatial_resolution": 20
            }
           ],
           "assets_rededge1_jp2_roles": "(2:data,reflectance)",
           "assets_rededge1_jp2_title": "Red edge 1 (band 5) - 20m",
           "assets_rededge1_jp2_type": "image/jp2",
           "assets_rededge1_proj_shape": "(2:5490,5490)",
           "assets_rededge1_proj_transform": "(6:20,0,600000,0,-20,4000020)",
           "assets_rededge1_raster_bands": [
            {
             "bits_per_sample": 15,
             "data_type": "uint16",
             "nodata": 0,
             "offset": -0.1,
             "scale": 0.0001,
             "spatial_resolution": 20
            }
           ],
           "assets_rededge1_roles": "(2:data,reflectance)",
           "assets_rededge1_title": "Red edge 1 (band 5) - 20m",
           "assets_rededge1_type": "image/tiff; application=geotiff; profile=cloud-optimized",
           "assets_rededge2_eo_bands": [
            {
             "center_wavelength": 0.74,
             "common_name": "rededge",
             "description": "Red edge 2 (band 6)",
             "full_width_half_max": 0.018,
             "name": "rededge2"
            }
           ],
           "assets_rededge2_gsd": 20,
           "assets_rededge2_href": "https://sentinel-cogs.s3.us-west-2.amazonaws.com/sentinel-s2-l2a-cogs/17/S/PV/2024/7/S2A_17SPV_20240731_0_L2A/B06.tif",
           "assets_rededge2_jp2_eo_bands": [
            {
             "center_wavelength": 0.74,
             "common_name": "rededge",
             "description": "Red edge 2 (band 6)",
             "full_width_half_max": 0.018,
             "name": "rededge2"
            }
           ],
           "assets_rededge2_jp2_gsd": 20,
           "assets_rededge2_jp2_href": "s3://sentinel-s2-l2a/tiles/17/S/PV/2024/7/31/0/B06.jp2",
           "assets_rededge2_jp2_proj_shape": "(2:5490,5490)",
           "assets_rededge2_jp2_proj_transform": "(6:20,0,600000,0,-20,4000020)",
           "assets_rededge2_jp2_raster_bands": [
            {
             "bits_per_sample": 15,
             "data_type": "uint16",
             "nodata": 0,
             "offset": -0.1,
             "scale": 0.0001,
             "spatial_resolution": 20
            }
           ],
           "assets_rededge2_jp2_roles": "(2:data,reflectance)",
           "assets_rededge2_jp2_title": "Red edge 2 (band 6) - 20m",
           "assets_rededge2_jp2_type": "image/jp2",
           "assets_rededge2_proj_shape": "(2:5490,5490)",
           "assets_rededge2_proj_transform": "(6:20,0,600000,0,-20,4000020)",
           "assets_rededge2_raster_bands": [
            {
             "bits_per_sample": 15,
             "data_type": "uint16",
             "nodata": 0,
             "offset": -0.1,
             "scale": 0.0001,
             "spatial_resolution": 20
            }
           ],
           "assets_rededge2_roles": "(2:data,reflectance)",
           "assets_rededge2_title": "Red edge 2 (band 6) - 20m",
           "assets_rededge2_type": "image/tiff; application=geotiff; profile=cloud-optimized",
           "assets_rededge3_eo_bands": [
            {
             "center_wavelength": 0.783,
             "common_name": "rededge",
             "description": "Red edge 3 (band 7)",
             "full_width_half_max": 0.028,
             "name": "rededge3"
            }
           ],
           "assets_rededge3_gsd": 20,
           "assets_rededge3_href": "https://sentinel-cogs.s3.us-west-2.amazonaws.com/sentinel-s2-l2a-cogs/17/S/PV/2024/7/S2A_17SPV_20240731_0_L2A/B07.tif",
           "assets_rededge3_jp2_eo_bands": [
            {
             "center_wavelength": 0.783,
             "common_name": "rededge",
             "description": "Red edge 3 (band 7)",
             "full_width_half_max": 0.028,
             "name": "rededge3"
            }
           ],
           "assets_rededge3_jp2_gsd": 20,
           "assets_rededge3_jp2_href": "s3://sentinel-s2-l2a/tiles/17/S/PV/2024/7/31/0/B07.jp2",
           "assets_rededge3_jp2_proj_shape": "(2:5490,5490)",
           "assets_rededge3_jp2_proj_transform": "(6:20,0,600000,0,-20,4000020)",
           "assets_rededge3_jp2_raster_bands": [
            {
             "bits_per_sample": 15,
             "data_type": "uint16",
             "nodata": 0,
             "offset": -0.1,
             "scale": 0.0001,
             "spatial_resolution": 20
            }
           ],
           "assets_rededge3_jp2_roles": "(2:data,reflectance)",
           "assets_rededge3_jp2_title": "Red edge 3 (band 7) - 20m",
           "assets_rededge3_jp2_type": "image/jp2",
           "assets_rededge3_proj_shape": "(2:5490,5490)",
           "assets_rededge3_proj_transform": "(6:20,0,600000,0,-20,4000020)",
           "assets_rededge3_raster_bands": [
            {
             "bits_per_sample": 15,
             "data_type": "uint16",
             "nodata": 0,
             "offset": -0.1,
             "scale": 0.0001,
             "spatial_resolution": 20
            }
           ],
           "assets_rededge3_roles": "(2:data,reflectance)",
           "assets_rededge3_title": "Red edge 3 (band 7) - 20m",
           "assets_rededge3_type": "image/tiff; application=geotiff; profile=cloud-optimized",
           "assets_scl_href": "https://sentinel-cogs.s3.us-west-2.amazonaws.com/sentinel-s2-l2a-cogs/17/S/PV/2024/7/S2A_17SPV_20240731_0_L2A/SCL.tif",
           "assets_scl_jp2_href": "s3://sentinel-s2-l2a/tiles/17/S/PV/2024/7/31/0/SCL.jp2",
           "assets_scl_jp2_proj_shape": "(2:5490,5490)",
           "assets_scl_jp2_proj_transform": "(6:20,0,600000,0,-20,4000020)",
           "assets_scl_jp2_raster_bands": [
            {
             "data_type": "uint8",
             "nodata": 0,
             "spatial_resolution": 20
            }
           ],
           "assets_scl_jp2_roles": "(2:data,reflectance)",
           "assets_scl_jp2_title": "Scene classification map (SCL)",
           "assets_scl_jp2_type": "image/jp2",
           "assets_scl_proj_shape": "(2:5490,5490)",
           "assets_scl_proj_transform": "(6:20,0,600000,0,-20,4000020)",
           "assets_scl_raster_bands": [
            {
             "data_type": "uint8",
             "nodata": 0,
             "spatial_resolution": 20
            }
           ],
           "assets_scl_roles": "(2:data,reflectance)",
           "assets_scl_title": "Scene classification map (SCL)",
           "assets_scl_type": "image/tiff; application=geotiff; profile=cloud-optimized",
           "assets_swir16_eo_bands": [
            {
             "center_wavelength": 1.61,
             "common_name": "swir16",
             "description": "SWIR 1 (band 11)",
             "full_width_half_max": 0.143,
             "name": "swir16"
            }
           ],
           "assets_swir16_gsd": 20,
           "assets_swir16_href": "https://sentinel-cogs.s3.us-west-2.amazonaws.com/sentinel-s2-l2a-cogs/17/S/PV/2024/7/S2A_17SPV_20240731_0_L2A/B11.tif",
           "assets_swir16_jp2_eo_bands": [
            {
             "center_wavelength": 1.61,
             "common_name": "swir16",
             "description": "SWIR 1 (band 11)",
             "full_width_half_max": 0.143,
             "name": "swir16"
            }
           ],
           "assets_swir16_jp2_gsd": 20,
           "assets_swir16_jp2_href": "s3://sentinel-s2-l2a/tiles/17/S/PV/2024/7/31/0/B11.jp2",
           "assets_swir16_jp2_proj_shape": "(2:5490,5490)",
           "assets_swir16_jp2_proj_transform": "(6:20,0,600000,0,-20,4000020)",
           "assets_swir16_jp2_raster_bands": [
            {
             "bits_per_sample": 15,
             "data_type": "uint16",
             "nodata": 0,
             "offset": -0.1,
             "scale": 0.0001,
             "spatial_resolution": 20
            }
           ],
           "assets_swir16_jp2_roles": "(2:data,reflectance)",
           "assets_swir16_jp2_title": "SWIR 1 (band 11) - 20m",
           "assets_swir16_jp2_type": "image/jp2",
           "assets_swir16_proj_shape": "(2:5490,5490)",
           "assets_swir16_proj_transform": "(6:20,0,600000,0,-20,4000020)",
           "assets_swir16_raster_bands": [
            {
             "bits_per_sample": 15,
             "data_type": "uint16",
             "nodata": 0,
             "offset": -0.1,
             "scale": 0.0001,
             "spatial_resolution": 20
            }
           ],
           "assets_swir16_roles": "(2:data,reflectance)",
           "assets_swir16_title": "SWIR 1 (band 11) - 20m",
           "assets_swir16_type": "image/tiff; application=geotiff; profile=cloud-optimized",
           "assets_swir22_eo_bands": [
            {
             "center_wavelength": 2.19,
             "common_name": "swir22",
             "description": "SWIR 2 (band 12)",
             "full_width_half_max": 0.242,
             "name": "swir22"
            }
           ],
           "assets_swir22_gsd": 20,
           "assets_swir22_href": "https://sentinel-cogs.s3.us-west-2.amazonaws.com/sentinel-s2-l2a-cogs/17/S/PV/2024/7/S2A_17SPV_20240731_0_L2A/B12.tif",
           "assets_swir22_jp2_eo_bands": [
            {
             "center_wavelength": 2.19,
             "common_name": "swir22",
             "description": "SWIR 2 (band 12)",
             "full_width_half_max": 0.242,
             "name": "swir22"
            }
           ],
           "assets_swir22_jp2_gsd": 20,
           "assets_swir22_jp2_href": "s3://sentinel-s2-l2a/tiles/17/S/PV/2024/7/31/0/B12.jp2",
           "assets_swir22_jp2_proj_shape": "(2:5490,5490)",
           "assets_swir22_jp2_proj_transform": "(6:20,0,600000,0,-20,4000020)",
           "assets_swir22_jp2_raster_bands": [
            {
             "bits_per_sample": 15,
             "data_type": "uint16",
             "nodata": 0,
             "offset": -0.1,
             "scale": 0.0001,
             "spatial_resolution": 20
            }
           ],
           "assets_swir22_jp2_roles": "(2:data,reflectance)",
           "assets_swir22_jp2_title": "SWIR 2 (band 12) - 20m",
           "assets_swir22_jp2_type": "image/jp2",
           "assets_swir22_proj_shape": "(2:5490,5490)",
           "assets_swir22_proj_transform": "(6:20,0,600000,0,-20,4000020)",
           "assets_swir22_raster_bands": [
            {
             "bits_per_sample": 15,
             "data_type": "uint16",
             "nodata": 0,
             "offset": -0.1,
             "scale": 0.0001,
             "spatial_resolution": 20
            }
           ],
           "assets_swir22_roles": "(2:data,reflectance)",
           "assets_swir22_title": "SWIR 2 (band 12) - 20m",
           "assets_swir22_type": "image/tiff; application=geotiff; profile=cloud-optimized",
           "assets_thumbnail_href": "https://sentinel-cogs.s3.us-west-2.amazonaws.com/sentinel-s2-l2a-cogs/17/S/PV/2024/7/S2A_17SPV_20240731_0_L2A/thumbnail.jpg",
           "assets_thumbnail_roles": "(1:thumbnail)",
           "assets_thumbnail_title": "Thumbnail image",
           "assets_thumbnail_type": "image/jpeg",
           "assets_tileinfo_metadata_href": "https://sentinel-cogs.s3.us-west-2.amazonaws.com/sentinel-s2-l2a-cogs/17/S/PV/2024/7/S2A_17SPV_20240731_0_L2A/tileinfo_metadata.json",
           "assets_tileinfo_metadata_roles": "(1:metadata)",
           "assets_tileinfo_metadata_type": "application/json",
           "assets_visual_eo_bands": [
            {
             "center_wavelength": 0.665,
             "common_name": "red",
             "description": "Red (band 4)",
             "full_width_half_max": 0.038,
             "name": "red"
            },
            {
             "center_wavelength": 0.56,
             "common_name": "green",
             "description": "Green (band 3)",
             "full_width_half_max": 0.045,
             "name": "green"
            },
            {
             "center_wavelength": 0.49,
             "common_name": "blue",
             "description": "Blue (band 2)",
             "full_width_half_max": 0.098,
             "name": "blue"
            }
           ],
           "assets_visual_href": "https://sentinel-cogs.s3.us-west-2.amazonaws.com/sentinel-s2-l2a-cogs/17/S/PV/2024/7/S2A_17SPV_20240731_0_L2A/TCI.tif",
           "assets_visual_jp2_eo_bands": [
            {
             "center_wavelength": 0.665,
             "common_name": "red",
             "description": "Red (band 4)",
             "full_width_half_max": 0.038,
             "name": "red"
            },
            {
             "center_wavelength": 0.56,
             "common_name": "green",
             "description": "Green (band 3)",
             "full_width_half_max": 0.045,
             "name": "green"
            },
            {
             "center_wavelength": 0.49,
             "common_name": "blue",
             "description": "Blue (band 2)",
             "full_width_half_max": 0.098,
             "name": "blue"
            }
           ],
           "assets_visual_jp2_href": "s3://sentinel-s2-l2a/tiles/17/S/PV/2024/7/31/0/TCI.jp2",
           "assets_visual_jp2_proj_shape": "(2:10980,10980)",
           "assets_visual_jp2_proj_transform": "(6:10,0,600000,0,-10,4000020)",
           "assets_visual_jp2_roles": "(1:visual)",
           "assets_visual_jp2_title": "True color image",
           "assets_visual_jp2_type": "image/jp2",
           "assets_visual_proj_shape": "(2:10980,10980)",
           "assets_visual_proj_transform": "(6:10,0,600000,0,-10,4000020)",
           "assets_visual_roles": "(1:visual)",
           "assets_visual_title": "True color image",
           "assets_visual_type": "image/tiff; application=geotiff; profile=cloud-optimized",
           "assets_wvp_href": "https://sentinel-cogs.s3.us-west-2.amazonaws.com/sentinel-s2-l2a-cogs/17/S/PV/2024/7/S2A_17SPV_20240731_0_L2A/WVP.tif",
           "assets_wvp_jp2_href": "s3://sentinel-s2-l2a/tiles/17/S/PV/2024/7/31/0/WVP.jp2",
           "assets_wvp_jp2_proj_shape": "(2:5490,5490)",
           "assets_wvp_jp2_proj_transform": "(6:20,0,600000,0,-20,4000020)",
           "assets_wvp_jp2_raster_bands": [
            {
             "bits_per_sample": 15,
             "data_type": "uint16",
             "nodata": 0,
             "offset": 0,
             "scale": 0.001,
             "spatial_resolution": 20,
             "unit": "cm"
            }
           ],
           "assets_wvp_jp2_roles": "(2:data,reflectance)",
           "assets_wvp_jp2_title": "Water vapour (WVP)",
           "assets_wvp_jp2_type": "image/jp2",
           "assets_wvp_proj_shape": "(2:5490,5490)",
           "assets_wvp_proj_transform": "(6:20,0,600000,0,-20,4000020)",
           "assets_wvp_raster_bands": [
            {
             "bits_per_sample": 15,
             "data_type": "uint16",
             "nodata": 0,
             "offset": 0,
             "scale": 0.001,
             "spatial_resolution": 20,
             "unit": "cm"
            }
           ],
           "assets_wvp_roles": "(2:data,reflectance)",
           "assets_wvp_title": "Water vapour (WVP)",
           "assets_wvp_type": "image/tiff; application=geotiff; profile=cloud-optimized",
           "cat": 3,
           "collection": "sentinel-2-l2a",
           "constellation": "sentinel-2",
           "created": "2024-08-01T01:43:45.085",
           "datetime": "2024-07-31T16:13:28.790",
           "earthsearch_boa_offset_applied": 1,
           "earthsearch_payload_id": "roda-sentinel2/workflow-sentinel2-to-stac/9fe108dc54d302a143277cdbcdc84dc2",
           "earthsearch_s3_path": "s3://sentinel-cogs/sentinel-s2-l2a-cogs/17/S/PV/2024/7/S2A_17SPV_20240731_0_L2A",
           "eo_cloud_cover": 6.139014,
           "grid_code": "MGRS-17SPV",
           "id": "S2A_17SPV_20240731_0_L2A",
           "instruments": "(1:msi)",
           "mgrs_grid_square": "PV",
           "mgrs_latitude_band": "S",
           "mgrs_utm_zone": 17,
           "platform": "sentinel-2a",
           "processing_software": {
            "sentinel2-to-stac": "0.1.1"
           },
           "proj_epsg": 32617,
           "s2_cloud_shadow_percentage": 0.290065,
           "s2_dark_features_percentage": null,
           "s2_datastrip_id": "S2A_OPER_MSI_L2A_DS_2APS_20240731T232548_S20240731T160830_N05.11",
           "s2_datatake_id": "GS2A_20240731T155901_047570_N05.11",
           "s2_datatake_type": "INS-NOBS",
           "s2_degraded_msi_data_percentage": 0.0076,
           "s2_generation_time": "2024-07-31T23:25:48",
           "s2_granule_id": "S2A_OPER_MSI_L2A_TL_2APS_20240731T232548_A047570_T17SPV_N05.11",
           "s2_high_proba_clouds_percentage": 2.517344,
           "s2_medium_proba_clouds_percentage": 2.665854,
           "s2_nodata_pixel_percentage": 0.0,
           "s2_not_vegetated_percentage": 5.215016,
           "s2_processing_baseline": "05.11",
           "s2_product_type": "S2MSI2A",
           "s2_product_uri": "S2A_MSIL2A_20240731T155901_N0511_R097_T17SPV_20240731T232548.SAFE",
           "s2_reflectance_conversion_factor": 0.969868710676552,
           "s2_saturated_defective_pixel_percentage": 0,
           "s2_sequence": "0",
           "s2_snow_ice_percentage": 0.0,
           "s2_thin_cirrus_percentage": 0.955816,
           "s2_unclassified_percentage": 1.402832,
           "s2_vegetation_percentage": 85.660404,
           "s2_water_percentage": 1.061476,
           "style": {
            "color": "black",
            "fillColor": "green"
           },
           "updated": "2024-08-01T01:43:45.085",
           "view_sun_azimuth": 134.074011613079,
           "view_sun_elevation": 66.5336008839282
          },
          "type": "Feature"
         },
         {
          "geometry": {
           "coordinates": [
            [
             [
              -79.88850843890832,
              36.13973161333741
             ],
             [
              -79.88974722294431,
              36.049749189770985
             ],
             [
              -79.8909860069803,
              35.95976676620456
             ],
             [
              -79.89222479101629,
              35.86978434263815
             ],
             [
              -79.89346357505228,
              35.779801919071744
             ],
             [
              -79.89470235908827,
              35.68981949550533
             ],
             [
              -79.89594114312425,
              35.59983707193889
             ],
             [
              -79.89717992716024,
              35.50985464837248
             ],
             [
              -79.89841871119623,
              35.419872224806085
             ],
             [
              -79.89965749523222,
              35.32988980123965
             ],
             [
              -79.90089627926821,
              35.23990737767325
             ],
             [
              -79.9021350633042,
              35.149924954106844
             ],
             [
              -79.79260940405047,
              35.14838773555612
             ],
             [
              -79.68308374479673,
              35.14685051700542
             ],
             [
              -79.57355808554301,
              35.14531329845469
             ],
             [
              -79.46403242628928,
              35.14377607990399
             ],
             [
              -79.35450676703555,
              35.14223886135328
             ],
             [
              -79.24498110778183,
              35.14070164280259
             ],
             [
              -79.13545544852808,
              35.13916442425187
             ],
             [
              -79.02592978927434,
              35.137627205701165
             ],
             [
              -78.91640413002062,
              35.13608998715045
             ],
             [
              -78.80687847076689,
              35.13455276859974
             ],
             [
              -78.69735281151316,
              35.13301555004903
             ],
             [
              -78.69475680417605,
              35.22294122147371
             ],
             [
              -78.69216079683893,
              35.31286689289837
             ],
             [
              -78.68956478950183,
              35.402792564323065
             ],
             [
              -78.68696878216473,
              35.49271823574775
             ],
             [
              -78.68437277482762,
              35.5826439071724
             ],
             [
              -78.6817767674905,
              35.6725695785971
             ],
             [
              -78.6791807601534,
              35.76249525002174
             ],
             [
              -78.6765847528163,
              35.85242092144643
             ],
             [
              -78.67398874547919,
              35.942346592871075
             ],
             [
              -78.67139273814207,
              36.03227226429579
             ],
             [
              -78.66879673080497,
              36.12219793572046
             ],
             [
              -78.77967961335982,
              36.123791906412904
             ],
             [
              -78.89056249591466,
              36.12538587710536
             ],
             [
              -79.00144537846953,
              36.126979847797806
             ],
             [
              -79.11232826102437,
              36.12857381849026
             ],
             [
              -79.22321114357922,
              36.130167789182714
             ],
             [
              -79.33409402613407,
              36.13176175987515
             ],
             [
              -79.44497690868891,
              36.13335573056764
             ],
             [
              -79.55585979124376,
              36.13494970126006
             ],
             [
              -79.66674267379862,
              36.1365436719525
             ],
             [
              -79.77762555635347,
              36.13813764264496
             ],
             [
              -79.88850843890832,
              36.13973161333741
             ]
            ]
           ],
           "type": "Polygon"
          },
          "properties": {
           "assets_aot_href": "https://sentinel-cogs.s3.us-west-2.amazonaws.com/sentinel-s2-l2a-cogs/17/S/PV/2024/6/S2A_17SPV_20240611_0_L2A/AOT.tif",
           "assets_aot_jp2_href": "s3://sentinel-s2-l2a/tiles/17/S/PV/2024/6/11/0/AOT.jp2",
           "assets_aot_jp2_proj_shape": "(2:5490,5490)",
           "assets_aot_jp2_proj_transform": "(6:20,0,600000,0,-20,4000020)",
           "assets_aot_jp2_raster_bands": [
            {
             "bits_per_sample": 15,
             "data_type": "uint16",
             "nodata": 0,
             "offset": 0,
             "scale": 0.001,
             "spatial_resolution": 20
            }
           ],
           "assets_aot_jp2_roles": "(2:data,reflectance)",
           "assets_aot_jp2_title": "Aerosol optical thickness (AOT)",
           "assets_aot_jp2_type": "image/jp2",
           "assets_aot_proj_shape": "(2:5490,5490)",
           "assets_aot_proj_transform": "(6:20,0,600000,0,-20,4000020)",
           "assets_aot_raster_bands": [
            {
             "bits_per_sample": 15,
             "data_type": "uint16",
             "nodata": 0,
             "offset": 0,
             "scale": 0.001,
             "spatial_resolution": 20
            }
           ],
           "assets_aot_roles": "(2:data,reflectance)",
           "assets_aot_title": "Aerosol optical thickness (AOT)",
           "assets_aot_type": "image/tiff; application=geotiff; profile=cloud-optimized",
           "assets_blue_eo_bands": [
            {
             "center_wavelength": 0.49,
             "common_name": "blue",
             "description": "Blue (band 2)",
             "full_width_half_max": 0.098,
             "name": "blue"
            }
           ],
           "assets_blue_gsd": 10,
           "assets_blue_href": "https://sentinel-cogs.s3.us-west-2.amazonaws.com/sentinel-s2-l2a-cogs/17/S/PV/2024/6/S2A_17SPV_20240611_0_L2A/B02.tif",
           "assets_blue_jp2_eo_bands": [
            {
             "center_wavelength": 0.49,
             "common_name": "blue",
             "description": "Blue (band 2)",
             "full_width_half_max": 0.098,
             "name": "blue"
            }
           ],
           "assets_blue_jp2_gsd": 10,
           "assets_blue_jp2_href": "s3://sentinel-s2-l2a/tiles/17/S/PV/2024/6/11/0/B02.jp2",
           "assets_blue_jp2_proj_shape": "(2:10980,10980)",
           "assets_blue_jp2_proj_transform": "(6:10,0,600000,0,-10,4000020)",
           "assets_blue_jp2_raster_bands": [
            {
             "bits_per_sample": 15,
             "data_type": "uint16",
             "nodata": 0,
             "offset": -0.1,
             "scale": 0.0001,
             "spatial_resolution": 10
            }
           ],
           "assets_blue_jp2_roles": "(2:data,reflectance)",
           "assets_blue_jp2_title": "Blue (band 2) - 10m",
           "assets_blue_jp2_type": "image/jp2",
           "assets_blue_proj_shape": "(2:10980,10980)",
           "assets_blue_proj_transform": "(6:10,0,600000,0,-10,4000020)",
           "assets_blue_raster_bands": [
            {
             "bits_per_sample": 15,
             "data_type": "uint16",
             "nodata": 0,
             "offset": -0.1,
             "scale": 0.0001,
             "spatial_resolution": 10
            }
           ],
           "assets_blue_roles": "(2:data,reflectance)",
           "assets_blue_title": "Blue (band 2) - 10m",
           "assets_blue_type": "image/tiff; application=geotiff; profile=cloud-optimized",
           "assets_coastal_eo_bands": [
            {
             "center_wavelength": 0.443,
             "common_name": "coastal",
             "description": "Coastal aerosol (band 1)",
             "full_width_half_max": 0.027,
             "name": "coastal"
            }
           ],
           "assets_coastal_gsd": 60,
           "assets_coastal_href": "https://sentinel-cogs.s3.us-west-2.amazonaws.com/sentinel-s2-l2a-cogs/17/S/PV/2024/6/S2A_17SPV_20240611_0_L2A/B01.tif",
           "assets_coastal_jp2_eo_bands": [
            {
             "center_wavelength": 0.443,
             "common_name": "coastal",
             "description": "Coastal aerosol (band 1)",
             "full_width_half_max": 0.027,
             "name": "coastal"
            }
           ],
           "assets_coastal_jp2_gsd": 60,
           "assets_coastal_jp2_href": "s3://sentinel-s2-l2a/tiles/17/S/PV/2024/6/11/0/B01.jp2",
           "assets_coastal_jp2_proj_shape": "(2:1830,1830)",
           "assets_coastal_jp2_proj_transform": "(6:60,0,600000,0,-60,4000020)",
           "assets_coastal_jp2_raster_bands": [
            {
             "bits_per_sample": 15,
             "data_type": "uint16",
             "nodata": 0,
             "offset": -0.1,
             "scale": 0.0001,
             "spatial_resolution": 60
            }
           ],
           "assets_coastal_jp2_roles": "(2:data,reflectance)",
           "assets_coastal_jp2_title": "Coastal aerosol (band 1) - 60m",
           "assets_coastal_jp2_type": "image/jp2",
           "assets_coastal_proj_shape": "(2:1830,1830)",
           "assets_coastal_proj_transform": "(6:60,0,600000,0,-60,4000020)",
           "assets_coastal_raster_bands": [
            {
             "bits_per_sample": 15,
             "data_type": "uint16",
             "nodata": 0,
             "offset": -0.1,
             "scale": 0.0001,
             "spatial_resolution": 60
            }
           ],
           "assets_coastal_roles": "(2:data,reflectance)",
           "assets_coastal_title": "Coastal aerosol (band 1) - 60m",
           "assets_coastal_type": "image/tiff; application=geotiff; profile=cloud-optimized",
           "assets_granule_metadata_href": "https://sentinel-cogs.s3.us-west-2.amazonaws.com/sentinel-s2-l2a-cogs/17/S/PV/2024/6/S2A_17SPV_20240611_0_L2A/granule_metadata.xml",
           "assets_granule_metadata_roles": "(1:metadata)",
           "assets_granule_metadata_type": "application/xml",
           "assets_green_eo_bands": [
            {
             "center_wavelength": 0.56,
             "common_name": "green",
             "description": "Green (band 3)",
             "full_width_half_max": 0.045,
             "name": "green"
            }
           ],
           "assets_green_gsd": 10,
           "assets_green_href": "https://sentinel-cogs.s3.us-west-2.amazonaws.com/sentinel-s2-l2a-cogs/17/S/PV/2024/6/S2A_17SPV_20240611_0_L2A/B03.tif",
           "assets_green_jp2_eo_bands": [
            {
             "center_wavelength": 0.56,
             "common_name": "green",
             "description": "Green (band 3)",
             "full_width_half_max": 0.045,
             "name": "green"
            }
           ],
           "assets_green_jp2_gsd": 10,
           "assets_green_jp2_href": "s3://sentinel-s2-l2a/tiles/17/S/PV/2024/6/11/0/B03.jp2",
           "assets_green_jp2_proj_shape": "(2:10980,10980)",
           "assets_green_jp2_proj_transform": "(6:10,0,600000,0,-10,4000020)",
           "assets_green_jp2_raster_bands": [
            {
             "bits_per_sample": 15,
             "data_type": "uint16",
             "nodata": 0,
             "offset": -0.1,
             "scale": 0.0001,
             "spatial_resolution": 10
            }
           ],
           "assets_green_jp2_roles": "(2:data,reflectance)",
           "assets_green_jp2_title": "Green (band 3) - 10m",
           "assets_green_jp2_type": "image/jp2",
           "assets_green_proj_shape": "(2:10980,10980)",
           "assets_green_proj_transform": "(6:10,0,600000,0,-10,4000020)",
           "assets_green_raster_bands": [
            {
             "bits_per_sample": 15,
             "data_type": "uint16",
             "nodata": 0,
             "offset": -0.1,
             "scale": 0.0001,
             "spatial_resolution": 10
            }
           ],
           "assets_green_roles": "(2:data,reflectance)",
           "assets_green_title": "Green (band 3) - 10m",
           "assets_green_type": "image/tiff; application=geotiff; profile=cloud-optimized",
           "assets_nir08_eo_bands": [
            {
             "center_wavelength": 0.865,
             "common_name": "nir08",
             "description": "NIR 2 (band 8A)",
             "full_width_half_max": 0.033,
             "name": "nir08"
            }
           ],
           "assets_nir08_gsd": 20,
           "assets_nir08_href": "https://sentinel-cogs.s3.us-west-2.amazonaws.com/sentinel-s2-l2a-cogs/17/S/PV/2024/6/S2A_17SPV_20240611_0_L2A/B8A.tif",
           "assets_nir08_jp2_eo_bands": [
            {
             "center_wavelength": 0.865,
             "common_name": "nir08",
             "description": "NIR 2 (band 8A)",
             "full_width_half_max": 0.033,
             "name": "nir08"
            }
           ],
           "assets_nir08_jp2_gsd": 20,
           "assets_nir08_jp2_href": "s3://sentinel-s2-l2a/tiles/17/S/PV/2024/6/11/0/B8A.jp2",
           "assets_nir08_jp2_proj_shape": "(2:5490,5490)",
           "assets_nir08_jp2_proj_transform": "(6:20,0,600000,0,-20,4000020)",
           "assets_nir08_jp2_raster_bands": [
            {
             "bits_per_sample": 15,
             "data_type": "uint16",
             "nodata": 0,
             "offset": -0.1,
             "scale": 0.0001,
             "spatial_resolution": 20
            }
           ],
           "assets_nir08_jp2_roles": "(2:data,reflectance)",
           "assets_nir08_jp2_title": "NIR 2 (band 8A) - 20m",
           "assets_nir08_jp2_type": "image/jp2",
           "assets_nir08_proj_shape": "(2:5490,5490)",
           "assets_nir08_proj_transform": "(6:20,0,600000,0,-20,4000020)",
           "assets_nir08_raster_bands": [
            {
             "bits_per_sample": 15,
             "data_type": "uint16",
             "nodata": 0,
             "offset": -0.1,
             "scale": 0.0001,
             "spatial_resolution": 20
            }
           ],
           "assets_nir08_roles": "(2:data,reflectance)",
           "assets_nir08_title": "NIR 2 (band 8A) - 20m",
           "assets_nir08_type": "image/tiff; application=geotiff; profile=cloud-optimized",
           "assets_nir09_eo_bands": [
            {
             "center_wavelength": 0.945,
             "common_name": "nir09",
             "description": "NIR 3 (band 9)",
             "full_width_half_max": 0.026,
             "name": "nir09"
            }
           ],
           "assets_nir09_gsd": 60,
           "assets_nir09_href": "https://sentinel-cogs.s3.us-west-2.amazonaws.com/sentinel-s2-l2a-cogs/17/S/PV/2024/6/S2A_17SPV_20240611_0_L2A/B09.tif",
           "assets_nir09_jp2_eo_bands": [
            {
             "center_wavelength": 0.945,
             "common_name": "nir09",
             "description": "NIR 3 (band 9)",
             "full_width_half_max": 0.026,
             "name": "nir09"
            }
           ],
           "assets_nir09_jp2_gsd": 60,
           "assets_nir09_jp2_href": "s3://sentinel-s2-l2a/tiles/17/S/PV/2024/6/11/0/B09.jp2",
           "assets_nir09_jp2_proj_shape": "(2:1830,1830)",
           "assets_nir09_jp2_proj_transform": "(6:60,0,600000,0,-60,4000020)",
           "assets_nir09_jp2_raster_bands": [
            {
             "bits_per_sample": 15,
             "data_type": "uint16",
             "nodata": 0,
             "offset": -0.1,
             "scale": 0.0001,
             "spatial_resolution": 60
            }
           ],
           "assets_nir09_jp2_roles": "(2:data,reflectance)",
           "assets_nir09_jp2_title": "NIR 3 (band 9) - 60m",
           "assets_nir09_jp2_type": "image/jp2",
           "assets_nir09_proj_shape": "(2:1830,1830)",
           "assets_nir09_proj_transform": "(6:60,0,600000,0,-60,4000020)",
           "assets_nir09_raster_bands": [
            {
             "bits_per_sample": 15,
             "data_type": "uint16",
             "nodata": 0,
             "offset": -0.1,
             "scale": 0.0001,
             "spatial_resolution": 60
            }
           ],
           "assets_nir09_roles": "(2:data,reflectance)",
           "assets_nir09_title": "NIR 3 (band 9) - 60m",
           "assets_nir09_type": "image/tiff; application=geotiff; profile=cloud-optimized",
           "assets_nir_eo_bands": [
            {
             "center_wavelength": 0.842,
             "common_name": "nir",
             "description": "NIR 1 (band 8)",
             "full_width_half_max": 0.145,
             "name": "nir"
            }
           ],
           "assets_nir_gsd": 10,
           "assets_nir_href": "https://sentinel-cogs.s3.us-west-2.amazonaws.com/sentinel-s2-l2a-cogs/17/S/PV/2024/6/S2A_17SPV_20240611_0_L2A/B08.tif",
           "assets_nir_jp2_eo_bands": [
            {
             "center_wavelength": 0.842,
             "common_name": "nir",
             "description": "NIR 1 (band 8)",
             "full_width_half_max": 0.145,
             "name": "nir"
            }
           ],
           "assets_nir_jp2_gsd": 10,
           "assets_nir_jp2_href": "s3://sentinel-s2-l2a/tiles/17/S/PV/2024/6/11/0/B08.jp2",
           "assets_nir_jp2_proj_shape": "(2:10980,10980)",
           "assets_nir_jp2_proj_transform": "(6:10,0,600000,0,-10,4000020)",
           "assets_nir_jp2_raster_bands": [
            {
             "bits_per_sample": 15,
             "data_type": "uint16",
             "nodata": 0,
             "offset": -0.1,
             "scale": 0.0001,
             "spatial_resolution": 10
            }
           ],
           "assets_nir_jp2_roles": "(2:data,reflectance)",
           "assets_nir_jp2_title": "NIR 1 (band 8) - 10m",
           "assets_nir_jp2_type": "image/jp2",
           "assets_nir_proj_shape": "(2:10980,10980)",
           "assets_nir_proj_transform": "(6:10,0,600000,0,-10,4000020)",
           "assets_nir_raster_bands": [
            {
             "bits_per_sample": 15,
             "data_type": "uint16",
             "nodata": 0,
             "offset": -0.1,
             "scale": 0.0001,
             "spatial_resolution": 10
            }
           ],
           "assets_nir_roles": "(2:data,reflectance)",
           "assets_nir_title": "NIR 1 (band 8) - 10m",
           "assets_nir_type": "image/tiff; application=geotiff; profile=cloud-optimized",
           "assets_red_eo_bands": [
            {
             "center_wavelength": 0.665,
             "common_name": "red",
             "description": "Red (band 4)",
             "full_width_half_max": 0.038,
             "name": "red"
            }
           ],
           "assets_red_gsd": 10,
           "assets_red_href": "https://sentinel-cogs.s3.us-west-2.amazonaws.com/sentinel-s2-l2a-cogs/17/S/PV/2024/6/S2A_17SPV_20240611_0_L2A/B04.tif",
           "assets_red_jp2_eo_bands": [
            {
             "center_wavelength": 0.665,
             "common_name": "red",
             "description": "Red (band 4)",
             "full_width_half_max": 0.038,
             "name": "red"
            }
           ],
           "assets_red_jp2_gsd": 10,
           "assets_red_jp2_href": "s3://sentinel-s2-l2a/tiles/17/S/PV/2024/6/11/0/B04.jp2",
           "assets_red_jp2_proj_shape": "(2:10980,10980)",
           "assets_red_jp2_proj_transform": "(6:10,0,600000,0,-10,4000020)",
           "assets_red_jp2_raster_bands": [
            {
             "bits_per_sample": 15,
             "data_type": "uint16",
             "nodata": 0,
             "offset": -0.1,
             "scale": 0.0001,
             "spatial_resolution": 10
            }
           ],
           "assets_red_jp2_roles": "(2:data,reflectance)",
           "assets_red_jp2_title": "Red (band 4) - 10m",
           "assets_red_jp2_type": "image/jp2",
           "assets_red_proj_shape": "(2:10980,10980)",
           "assets_red_proj_transform": "(6:10,0,600000,0,-10,4000020)",
           "assets_red_raster_bands": [
            {
             "bits_per_sample": 15,
             "data_type": "uint16",
             "nodata": 0,
             "offset": -0.1,
             "scale": 0.0001,
             "spatial_resolution": 10
            }
           ],
           "assets_red_roles": "(2:data,reflectance)",
           "assets_red_title": "Red (band 4) - 10m",
           "assets_red_type": "image/tiff; application=geotiff; profile=cloud-optimized",
           "assets_rededge1_eo_bands": [
            {
             "center_wavelength": 0.704,
             "common_name": "rededge",
             "description": "Red edge 1 (band 5)",
             "full_width_half_max": 0.019,
             "name": "rededge1"
            }
           ],
           "assets_rededge1_gsd": 20,
           "assets_rededge1_href": "https://sentinel-cogs.s3.us-west-2.amazonaws.com/sentinel-s2-l2a-cogs/17/S/PV/2024/6/S2A_17SPV_20240611_0_L2A/B05.tif",
           "assets_rededge1_jp2_eo_bands": [
            {
             "center_wavelength": 0.704,
             "common_name": "rededge",
             "description": "Red edge 1 (band 5)",
             "full_width_half_max": 0.019,
             "name": "rededge1"
            }
           ],
           "assets_rededge1_jp2_gsd": 20,
           "assets_rededge1_jp2_href": "s3://sentinel-s2-l2a/tiles/17/S/PV/2024/6/11/0/B05.jp2",
           "assets_rededge1_jp2_proj_shape": "(2:5490,5490)",
           "assets_rededge1_jp2_proj_transform": "(6:20,0,600000,0,-20,4000020)",
           "assets_rededge1_jp2_raster_bands": [
            {
             "bits_per_sample": 15,
             "data_type": "uint16",
             "nodata": 0,
             "offset": -0.1,
             "scale": 0.0001,
             "spatial_resolution": 20
            }
           ],
           "assets_rededge1_jp2_roles": "(2:data,reflectance)",
           "assets_rededge1_jp2_title": "Red edge 1 (band 5) - 20m",
           "assets_rededge1_jp2_type": "image/jp2",
           "assets_rededge1_proj_shape": "(2:5490,5490)",
           "assets_rededge1_proj_transform": "(6:20,0,600000,0,-20,4000020)",
           "assets_rededge1_raster_bands": [
            {
             "bits_per_sample": 15,
             "data_type": "uint16",
             "nodata": 0,
             "offset": -0.1,
             "scale": 0.0001,
             "spatial_resolution": 20
            }
           ],
           "assets_rededge1_roles": "(2:data,reflectance)",
           "assets_rededge1_title": "Red edge 1 (band 5) - 20m",
           "assets_rededge1_type": "image/tiff; application=geotiff; profile=cloud-optimized",
           "assets_rededge2_eo_bands": [
            {
             "center_wavelength": 0.74,
             "common_name": "rededge",
             "description": "Red edge 2 (band 6)",
             "full_width_half_max": 0.018,
             "name": "rededge2"
            }
           ],
           "assets_rededge2_gsd": 20,
           "assets_rededge2_href": "https://sentinel-cogs.s3.us-west-2.amazonaws.com/sentinel-s2-l2a-cogs/17/S/PV/2024/6/S2A_17SPV_20240611_0_L2A/B06.tif",
           "assets_rededge2_jp2_eo_bands": [
            {
             "center_wavelength": 0.74,
             "common_name": "rededge",
             "description": "Red edge 2 (band 6)",
             "full_width_half_max": 0.018,
             "name": "rededge2"
            }
           ],
           "assets_rededge2_jp2_gsd": 20,
           "assets_rededge2_jp2_href": "s3://sentinel-s2-l2a/tiles/17/S/PV/2024/6/11/0/B06.jp2",
           "assets_rededge2_jp2_proj_shape": "(2:5490,5490)",
           "assets_rededge2_jp2_proj_transform": "(6:20,0,600000,0,-20,4000020)",
           "assets_rededge2_jp2_raster_bands": [
            {
             "bits_per_sample": 15,
             "data_type": "uint16",
             "nodata": 0,
             "offset": -0.1,
             "scale": 0.0001,
             "spatial_resolution": 20
            }
           ],
           "assets_rededge2_jp2_roles": "(2:data,reflectance)",
           "assets_rededge2_jp2_title": "Red edge 2 (band 6) - 20m",
           "assets_rededge2_jp2_type": "image/jp2",
           "assets_rededge2_proj_shape": "(2:5490,5490)",
           "assets_rededge2_proj_transform": "(6:20,0,600000,0,-20,4000020)",
           "assets_rededge2_raster_bands": [
            {
             "bits_per_sample": 15,
             "data_type": "uint16",
             "nodata": 0,
             "offset": -0.1,
             "scale": 0.0001,
             "spatial_resolution": 20
            }
           ],
           "assets_rededge2_roles": "(2:data,reflectance)",
           "assets_rededge2_title": "Red edge 2 (band 6) - 20m",
           "assets_rededge2_type": "image/tiff; application=geotiff; profile=cloud-optimized",
           "assets_rededge3_eo_bands": [
            {
             "center_wavelength": 0.783,
             "common_name": "rededge",
             "description": "Red edge 3 (band 7)",
             "full_width_half_max": 0.028,
             "name": "rededge3"
            }
           ],
           "assets_rededge3_gsd": 20,
           "assets_rededge3_href": "https://sentinel-cogs.s3.us-west-2.amazonaws.com/sentinel-s2-l2a-cogs/17/S/PV/2024/6/S2A_17SPV_20240611_0_L2A/B07.tif",
           "assets_rededge3_jp2_eo_bands": [
            {
             "center_wavelength": 0.783,
             "common_name": "rededge",
             "description": "Red edge 3 (band 7)",
             "full_width_half_max": 0.028,
             "name": "rededge3"
            }
           ],
           "assets_rededge3_jp2_gsd": 20,
           "assets_rededge3_jp2_href": "s3://sentinel-s2-l2a/tiles/17/S/PV/2024/6/11/0/B07.jp2",
           "assets_rededge3_jp2_proj_shape": "(2:5490,5490)",
           "assets_rededge3_jp2_proj_transform": "(6:20,0,600000,0,-20,4000020)",
           "assets_rededge3_jp2_raster_bands": [
            {
             "bits_per_sample": 15,
             "data_type": "uint16",
             "nodata": 0,
             "offset": -0.1,
             "scale": 0.0001,
             "spatial_resolution": 20
            }
           ],
           "assets_rededge3_jp2_roles": "(2:data,reflectance)",
           "assets_rededge3_jp2_title": "Red edge 3 (band 7) - 20m",
           "assets_rededge3_jp2_type": "image/jp2",
           "assets_rededge3_proj_shape": "(2:5490,5490)",
           "assets_rededge3_proj_transform": "(6:20,0,600000,0,-20,4000020)",
           "assets_rededge3_raster_bands": [
            {
             "bits_per_sample": 15,
             "data_type": "uint16",
             "nodata": 0,
             "offset": -0.1,
             "scale": 0.0001,
             "spatial_resolution": 20
            }
           ],
           "assets_rededge3_roles": "(2:data,reflectance)",
           "assets_rededge3_title": "Red edge 3 (band 7) - 20m",
           "assets_rededge3_type": "image/tiff; application=geotiff; profile=cloud-optimized",
           "assets_scl_href": "https://sentinel-cogs.s3.us-west-2.amazonaws.com/sentinel-s2-l2a-cogs/17/S/PV/2024/6/S2A_17SPV_20240611_0_L2A/SCL.tif",
           "assets_scl_jp2_href": "s3://sentinel-s2-l2a/tiles/17/S/PV/2024/6/11/0/SCL.jp2",
           "assets_scl_jp2_proj_shape": "(2:5490,5490)",
           "assets_scl_jp2_proj_transform": "(6:20,0,600000,0,-20,4000020)",
           "assets_scl_jp2_raster_bands": [
            {
             "data_type": "uint8",
             "nodata": 0,
             "spatial_resolution": 20
            }
           ],
           "assets_scl_jp2_roles": "(2:data,reflectance)",
           "assets_scl_jp2_title": "Scene classification map (SCL)",
           "assets_scl_jp2_type": "image/jp2",
           "assets_scl_proj_shape": "(2:5490,5490)",
           "assets_scl_proj_transform": "(6:20,0,600000,0,-20,4000020)",
           "assets_scl_raster_bands": [
            {
             "data_type": "uint8",
             "nodata": 0,
             "spatial_resolution": 20
            }
           ],
           "assets_scl_roles": "(2:data,reflectance)",
           "assets_scl_title": "Scene classification map (SCL)",
           "assets_scl_type": "image/tiff; application=geotiff; profile=cloud-optimized",
           "assets_swir16_eo_bands": [
            {
             "center_wavelength": 1.61,
             "common_name": "swir16",
             "description": "SWIR 1 (band 11)",
             "full_width_half_max": 0.143,
             "name": "swir16"
            }
           ],
           "assets_swir16_gsd": 20,
           "assets_swir16_href": "https://sentinel-cogs.s3.us-west-2.amazonaws.com/sentinel-s2-l2a-cogs/17/S/PV/2024/6/S2A_17SPV_20240611_0_L2A/B11.tif",
           "assets_swir16_jp2_eo_bands": [
            {
             "center_wavelength": 1.61,
             "common_name": "swir16",
             "description": "SWIR 1 (band 11)",
             "full_width_half_max": 0.143,
             "name": "swir16"
            }
           ],
           "assets_swir16_jp2_gsd": 20,
           "assets_swir16_jp2_href": "s3://sentinel-s2-l2a/tiles/17/S/PV/2024/6/11/0/B11.jp2",
           "assets_swir16_jp2_proj_shape": "(2:5490,5490)",
           "assets_swir16_jp2_proj_transform": "(6:20,0,600000,0,-20,4000020)",
           "assets_swir16_jp2_raster_bands": [
            {
             "bits_per_sample": 15,
             "data_type": "uint16",
             "nodata": 0,
             "offset": -0.1,
             "scale": 0.0001,
             "spatial_resolution": 20
            }
           ],
           "assets_swir16_jp2_roles": "(2:data,reflectance)",
           "assets_swir16_jp2_title": "SWIR 1 (band 11) - 20m",
           "assets_swir16_jp2_type": "image/jp2",
           "assets_swir16_proj_shape": "(2:5490,5490)",
           "assets_swir16_proj_transform": "(6:20,0,600000,0,-20,4000020)",
           "assets_swir16_raster_bands": [
            {
             "bits_per_sample": 15,
             "data_type": "uint16",
             "nodata": 0,
             "offset": -0.1,
             "scale": 0.0001,
             "spatial_resolution": 20
            }
           ],
           "assets_swir16_roles": "(2:data,reflectance)",
           "assets_swir16_title": "SWIR 1 (band 11) - 20m",
           "assets_swir16_type": "image/tiff; application=geotiff; profile=cloud-optimized",
           "assets_swir22_eo_bands": [
            {
             "center_wavelength": 2.19,
             "common_name": "swir22",
             "description": "SWIR 2 (band 12)",
             "full_width_half_max": 0.242,
             "name": "swir22"
            }
           ],
           "assets_swir22_gsd": 20,
           "assets_swir22_href": "https://sentinel-cogs.s3.us-west-2.amazonaws.com/sentinel-s2-l2a-cogs/17/S/PV/2024/6/S2A_17SPV_20240611_0_L2A/B12.tif",
           "assets_swir22_jp2_eo_bands": [
            {
             "center_wavelength": 2.19,
             "common_name": "swir22",
             "description": "SWIR 2 (band 12)",
             "full_width_half_max": 0.242,
             "name": "swir22"
            }
           ],
           "assets_swir22_jp2_gsd": 20,
           "assets_swir22_jp2_href": "s3://sentinel-s2-l2a/tiles/17/S/PV/2024/6/11/0/B12.jp2",
           "assets_swir22_jp2_proj_shape": "(2:5490,5490)",
           "assets_swir22_jp2_proj_transform": "(6:20,0,600000,0,-20,4000020)",
           "assets_swir22_jp2_raster_bands": [
            {
             "bits_per_sample": 15,
             "data_type": "uint16",
             "nodata": 0,
             "offset": -0.1,
             "scale": 0.0001,
             "spatial_resolution": 20
            }
           ],
           "assets_swir22_jp2_roles": "(2:data,reflectance)",
           "assets_swir22_jp2_title": "SWIR 2 (band 12) - 20m",
           "assets_swir22_jp2_type": "image/jp2",
           "assets_swir22_proj_shape": "(2:5490,5490)",
           "assets_swir22_proj_transform": "(6:20,0,600000,0,-20,4000020)",
           "assets_swir22_raster_bands": [
            {
             "bits_per_sample": 15,
             "data_type": "uint16",
             "nodata": 0,
             "offset": -0.1,
             "scale": 0.0001,
             "spatial_resolution": 20
            }
           ],
           "assets_swir22_roles": "(2:data,reflectance)",
           "assets_swir22_title": "SWIR 2 (band 12) - 20m",
           "assets_swir22_type": "image/tiff; application=geotiff; profile=cloud-optimized",
           "assets_thumbnail_href": "https://sentinel-cogs.s3.us-west-2.amazonaws.com/sentinel-s2-l2a-cogs/17/S/PV/2024/6/S2A_17SPV_20240611_0_L2A/thumbnail.jpg",
           "assets_thumbnail_roles": "(1:thumbnail)",
           "assets_thumbnail_title": "Thumbnail image",
           "assets_thumbnail_type": "image/jpeg",
           "assets_tileinfo_metadata_href": "https://sentinel-cogs.s3.us-west-2.amazonaws.com/sentinel-s2-l2a-cogs/17/S/PV/2024/6/S2A_17SPV_20240611_0_L2A/tileinfo_metadata.json",
           "assets_tileinfo_metadata_roles": "(1:metadata)",
           "assets_tileinfo_metadata_type": "application/json",
           "assets_visual_eo_bands": [
            {
             "center_wavelength": 0.665,
             "common_name": "red",
             "description": "Red (band 4)",
             "full_width_half_max": 0.038,
             "name": "red"
            },
            {
             "center_wavelength": 0.56,
             "common_name": "green",
             "description": "Green (band 3)",
             "full_width_half_max": 0.045,
             "name": "green"
            },
            {
             "center_wavelength": 0.49,
             "common_name": "blue",
             "description": "Blue (band 2)",
             "full_width_half_max": 0.098,
             "name": "blue"
            }
           ],
           "assets_visual_href": "https://sentinel-cogs.s3.us-west-2.amazonaws.com/sentinel-s2-l2a-cogs/17/S/PV/2024/6/S2A_17SPV_20240611_0_L2A/TCI.tif",
           "assets_visual_jp2_eo_bands": [
            {
             "center_wavelength": 0.665,
             "common_name": "red",
             "description": "Red (band 4)",
             "full_width_half_max": 0.038,
             "name": "red"
            },
            {
             "center_wavelength": 0.56,
             "common_name": "green",
             "description": "Green (band 3)",
             "full_width_half_max": 0.045,
             "name": "green"
            },
            {
             "center_wavelength": 0.49,
             "common_name": "blue",
             "description": "Blue (band 2)",
             "full_width_half_max": 0.098,
             "name": "blue"
            }
           ],
           "assets_visual_jp2_href": "s3://sentinel-s2-l2a/tiles/17/S/PV/2024/6/11/0/TCI.jp2",
           "assets_visual_jp2_proj_shape": "(2:10980,10980)",
           "assets_visual_jp2_proj_transform": "(6:10,0,600000,0,-10,4000020)",
           "assets_visual_jp2_roles": "(1:visual)",
           "assets_visual_jp2_title": "True color image",
           "assets_visual_jp2_type": "image/jp2",
           "assets_visual_proj_shape": "(2:10980,10980)",
           "assets_visual_proj_transform": "(6:10,0,600000,0,-10,4000020)",
           "assets_visual_roles": "(1:visual)",
           "assets_visual_title": "True color image",
           "assets_visual_type": "image/tiff; application=geotiff; profile=cloud-optimized",
           "assets_wvp_href": "https://sentinel-cogs.s3.us-west-2.amazonaws.com/sentinel-s2-l2a-cogs/17/S/PV/2024/6/S2A_17SPV_20240611_0_L2A/WVP.tif",
           "assets_wvp_jp2_href": "s3://sentinel-s2-l2a/tiles/17/S/PV/2024/6/11/0/WVP.jp2",
           "assets_wvp_jp2_proj_shape": "(2:5490,5490)",
           "assets_wvp_jp2_proj_transform": "(6:20,0,600000,0,-20,4000020)",
           "assets_wvp_jp2_raster_bands": [
            {
             "bits_per_sample": 15,
             "data_type": "uint16",
             "nodata": 0,
             "offset": 0,
             "scale": 0.001,
             "spatial_resolution": 20,
             "unit": "cm"
            }
           ],
           "assets_wvp_jp2_roles": "(2:data,reflectance)",
           "assets_wvp_jp2_title": "Water vapour (WVP)",
           "assets_wvp_jp2_type": "image/jp2",
           "assets_wvp_proj_shape": "(2:5490,5490)",
           "assets_wvp_proj_transform": "(6:20,0,600000,0,-20,4000020)",
           "assets_wvp_raster_bands": [
            {
             "bits_per_sample": 15,
             "data_type": "uint16",
             "nodata": 0,
             "offset": 0,
             "scale": 0.001,
             "spatial_resolution": 20,
             "unit": "cm"
            }
           ],
           "assets_wvp_roles": "(2:data,reflectance)",
           "assets_wvp_title": "Water vapour (WVP)",
           "assets_wvp_type": "image/tiff; application=geotiff; profile=cloud-optimized",
           "cat": 4,
           "collection": "sentinel-2-l2a",
           "constellation": "sentinel-2",
           "created": "2024-06-14T13:59:11.695",
           "datetime": "2024-06-11T16:13:32.315",
           "earthsearch_boa_offset_applied": 1,
           "earthsearch_payload_id": "roda-sentinel2/workflow-sentinel2-to-stac/82e2ec0a5a83e826cefe6026f5033d0a",
           "earthsearch_s3_path": "s3://sentinel-cogs/sentinel-s2-l2a-cogs/17/S/PV/2024/6/S2A_17SPV_20240611_0_L2A",
           "eo_cloud_cover": 0.938623,
           "grid_code": "MGRS-17SPV",
           "id": "S2A_17SPV_20240611_0_L2A",
           "instruments": "(1:msi)",
           "mgrs_grid_square": "PV",
           "mgrs_latitude_band": "S",
           "mgrs_utm_zone": 17,
           "platform": "sentinel-2a",
           "processing_software": {
            "sentinel2-to-stac": "0.1.1"
           },
           "proj_epsg": 32617,
           "s2_cloud_shadow_percentage": 0.722682,
           "s2_dark_features_percentage": 0.148682,
           "s2_datastrip_id": "S2A_OPER_MSI_L2A_DS_2APS_20240611T232245_S20240611T161203_N05.10",
           "s2_datatake_id": "GS2A_20240611T155911_046855_N05.10",
           "s2_datatake_type": "INS-NOBS",
           "s2_degraded_msi_data_percentage": 0.0105,
           "s2_generation_time": "2024-06-11T23:22:45",
           "s2_granule_id": "S2A_OPER_MSI_L2A_TL_2APS_20240611T232245_A046855_T17SPV_N05.10",
           "s2_high_proba_clouds_percentage": 0.182654,
           "s2_medium_proba_clouds_percentage": 0.56256,
           "s2_nodata_pixel_percentage": 0.0,
           "s2_not_vegetated_percentage": 7.696587,
           "s2_processing_baseline": "05.10",
           "s2_product_type": "S2MSI2A",
           "s2_product_uri": "S2A_MSIL2A_20240611T155911_N0510_R097_T17SPV_20240611T232245.SAFE",
           "s2_reflectance_conversion_factor": 0.970691106136318,
           "s2_saturated_defective_pixel_percentage": 0,
           "s2_sequence": "0",
           "s2_snow_ice_percentage": 0.0,
           "s2_thin_cirrus_percentage": 0.19341,
           "s2_unclassified_percentage": 0.39547,
           "s2_vegetation_percentage": 89.033872,
           "s2_water_percentage": 1.064084,
           "style": {
            "color": "black",
            "fillColor": "green"
           },
           "updated": "2024-06-14T13:59:11.695",
           "view_sun_azimuth": 127.945267074602,
           "view_sun_elevation": 71.4232664435802
          },
          "type": "Feature"
         },
         {
          "geometry": {
           "coordinates": [
            [
             [
              -79.88850843890832,
              36.13973161333741
             ],
             [
              -79.88974722294431,
              36.049749189770985
             ],
             [
              -79.8909860069803,
              35.95976676620456
             ],
             [
              -79.89222479101629,
              35.86978434263815
             ],
             [
              -79.89346357505228,
              35.779801919071744
             ],
             [
              -79.89470235908827,
              35.68981949550533
             ],
             [
              -79.89594114312425,
              35.59983707193889
             ],
             [
              -79.89717992716024,
              35.50985464837248
             ],
             [
              -79.89841871119623,
              35.419872224806085
             ],
             [
              -79.89965749523222,
              35.32988980123965
             ],
             [
              -79.90089627926821,
              35.23990737767325
             ],
             [
              -79.9021350633042,
              35.149924954106844
             ],
             [
              -79.79260940405047,
              35.14838773555612
             ],
             [
              -79.68308374479673,
              35.14685051700542
             ],
             [
              -79.57355808554301,
              35.14531329845469
             ],
             [
              -79.46403242628928,
              35.14377607990399
             ],
             [
              -79.35450676703555,
              35.14223886135328
             ],
             [
              -79.24498110778183,
              35.14070164280259
             ],
             [
              -79.13545544852808,
              35.13916442425187
             ],
             [
              -79.02592978927434,
              35.137627205701165
             ],
             [
              -78.91640413002062,
              35.13608998715045
             ],
             [
              -78.80687847076689,
              35.13455276859974
             ],
             [
              -78.69735281151316,
              35.13301555004903
             ],
             [
              -78.69475680417605,
              35.22294122147371
             ],
             [
              -78.69216079683893,
              35.31286689289837
             ],
             [
              -78.68956478950183,
              35.402792564323065
             ],
             [
              -78.68696878216473,
              35.49271823574775
             ],
             [
              -78.68437277482762,
              35.5826439071724
             ],
             [
              -78.6817767674905,
              35.6725695785971
             ],
             [
              -78.6791807601534,
              35.76249525002174
             ],
             [
              -78.6765847528163,
              35.85242092144643
             ],
             [
              -78.67398874547919,
              35.942346592871075
             ],
             [
              -78.67139273814207,
              36.03227226429579
             ],
             [
              -78.66879673080497,
              36.12219793572046
             ],
             [
              -78.77967961335982,
              36.123791906412904
             ],
             [
              -78.89056249591466,
              36.12538587710536
             ],
             [
              -79.00144537846953,
              36.126979847797806
             ],
             [
              -79.11232826102437,
              36.12857381849026
             ],
             [
              -79.22321114357922,
              36.130167789182714
             ],
             [
              -79.33409402613407,
              36.13176175987515
             ],
             [
              -79.44497690868891,
              36.13335573056764
             ],
             [
              -79.55585979124376,
              36.13494970126006
             ],
             [
              -79.66674267379862,
              36.1365436719525
             ],
             [
              -79.77762555635347,
              36.13813764264496
             ],
             [
              -79.88850843890832,
              36.13973161333741
             ]
            ]
           ],
           "type": "Polygon"
          },
          "properties": {
           "assets_aot_href": "https://sentinel-cogs.s3.us-west-2.amazonaws.com/sentinel-s2-l2a-cogs/17/S/PV/2024/5/S2A_17SPV_20240522_0_L2A/AOT.tif",
           "assets_aot_jp2_href": "s3://sentinel-s2-l2a/tiles/17/S/PV/2024/5/22/0/AOT.jp2",
           "assets_aot_jp2_proj_shape": "(2:5490,5490)",
           "assets_aot_jp2_proj_transform": "(6:20,0,600000,0,-20,4000020)",
           "assets_aot_jp2_raster_bands": [
            {
             "bits_per_sample": 15,
             "data_type": "uint16",
             "nodata": 0,
             "offset": 0,
             "scale": 0.001,
             "spatial_resolution": 20
            }
           ],
           "assets_aot_jp2_roles": "(2:data,reflectance)",
           "assets_aot_jp2_title": "Aerosol optical thickness (AOT)",
           "assets_aot_jp2_type": "image/jp2",
           "assets_aot_proj_shape": "(2:5490,5490)",
           "assets_aot_proj_transform": "(6:20,0,600000,0,-20,4000020)",
           "assets_aot_raster_bands": [
            {
             "bits_per_sample": 15,
             "data_type": "uint16",
             "nodata": 0,
             "offset": 0,
             "scale": 0.001,
             "spatial_resolution": 20
            }
           ],
           "assets_aot_roles": "(2:data,reflectance)",
           "assets_aot_title": "Aerosol optical thickness (AOT)",
           "assets_aot_type": "image/tiff; application=geotiff; profile=cloud-optimized",
           "assets_blue_eo_bands": [
            {
             "center_wavelength": 0.49,
             "common_name": "blue",
             "description": "Blue (band 2)",
             "full_width_half_max": 0.098,
             "name": "blue"
            }
           ],
           "assets_blue_gsd": 10,
           "assets_blue_href": "https://sentinel-cogs.s3.us-west-2.amazonaws.com/sentinel-s2-l2a-cogs/17/S/PV/2024/5/S2A_17SPV_20240522_0_L2A/B02.tif",
           "assets_blue_jp2_eo_bands": [
            {
             "center_wavelength": 0.49,
             "common_name": "blue",
             "description": "Blue (band 2)",
             "full_width_half_max": 0.098,
             "name": "blue"
            }
           ],
           "assets_blue_jp2_gsd": 10,
           "assets_blue_jp2_href": "s3://sentinel-s2-l2a/tiles/17/S/PV/2024/5/22/0/B02.jp2",
           "assets_blue_jp2_proj_shape": "(2:10980,10980)",
           "assets_blue_jp2_proj_transform": "(6:10,0,600000,0,-10,4000020)",
           "assets_blue_jp2_raster_bands": [
            {
             "bits_per_sample": 15,
             "data_type": "uint16",
             "nodata": 0,
             "offset": -0.1,
             "scale": 0.0001,
             "spatial_resolution": 10
            }
           ],
           "assets_blue_jp2_roles": "(2:data,reflectance)",
           "assets_blue_jp2_title": "Blue (band 2) - 10m",
           "assets_blue_jp2_type": "image/jp2",
           "assets_blue_proj_shape": "(2:10980,10980)",
           "assets_blue_proj_transform": "(6:10,0,600000,0,-10,4000020)",
           "assets_blue_raster_bands": [
            {
             "bits_per_sample": 15,
             "data_type": "uint16",
             "nodata": 0,
             "offset": -0.1,
             "scale": 0.0001,
             "spatial_resolution": 10
            }
           ],
           "assets_blue_roles": "(2:data,reflectance)",
           "assets_blue_title": "Blue (band 2) - 10m",
           "assets_blue_type": "image/tiff; application=geotiff; profile=cloud-optimized",
           "assets_coastal_eo_bands": [
            {
             "center_wavelength": 0.443,
             "common_name": "coastal",
             "description": "Coastal aerosol (band 1)",
             "full_width_half_max": 0.027,
             "name": "coastal"
            }
           ],
           "assets_coastal_gsd": 60,
           "assets_coastal_href": "https://sentinel-cogs.s3.us-west-2.amazonaws.com/sentinel-s2-l2a-cogs/17/S/PV/2024/5/S2A_17SPV_20240522_0_L2A/B01.tif",
           "assets_coastal_jp2_eo_bands": [
            {
             "center_wavelength": 0.443,
             "common_name": "coastal",
             "description": "Coastal aerosol (band 1)",
             "full_width_half_max": 0.027,
             "name": "coastal"
            }
           ],
           "assets_coastal_jp2_gsd": 60,
           "assets_coastal_jp2_href": "s3://sentinel-s2-l2a/tiles/17/S/PV/2024/5/22/0/B01.jp2",
           "assets_coastal_jp2_proj_shape": "(2:1830,1830)",
           "assets_coastal_jp2_proj_transform": "(6:60,0,600000,0,-60,4000020)",
           "assets_coastal_jp2_raster_bands": [
            {
             "bits_per_sample": 15,
             "data_type": "uint16",
             "nodata": 0,
             "offset": -0.1,
             "scale": 0.0001,
             "spatial_resolution": 60
            }
           ],
           "assets_coastal_jp2_roles": "(2:data,reflectance)",
           "assets_coastal_jp2_title": "Coastal aerosol (band 1) - 60m",
           "assets_coastal_jp2_type": "image/jp2",
           "assets_coastal_proj_shape": "(2:1830,1830)",
           "assets_coastal_proj_transform": "(6:60,0,600000,0,-60,4000020)",
           "assets_coastal_raster_bands": [
            {
             "bits_per_sample": 15,
             "data_type": "uint16",
             "nodata": 0,
             "offset": -0.1,
             "scale": 0.0001,
             "spatial_resolution": 60
            }
           ],
           "assets_coastal_roles": "(2:data,reflectance)",
           "assets_coastal_title": "Coastal aerosol (band 1) - 60m",
           "assets_coastal_type": "image/tiff; application=geotiff; profile=cloud-optimized",
           "assets_granule_metadata_href": "https://sentinel-cogs.s3.us-west-2.amazonaws.com/sentinel-s2-l2a-cogs/17/S/PV/2024/5/S2A_17SPV_20240522_0_L2A/granule_metadata.xml",
           "assets_granule_metadata_roles": "(1:metadata)",
           "assets_granule_metadata_type": "application/xml",
           "assets_green_eo_bands": [
            {
             "center_wavelength": 0.56,
             "common_name": "green",
             "description": "Green (band 3)",
             "full_width_half_max": 0.045,
             "name": "green"
            }
           ],
           "assets_green_gsd": 10,
           "assets_green_href": "https://sentinel-cogs.s3.us-west-2.amazonaws.com/sentinel-s2-l2a-cogs/17/S/PV/2024/5/S2A_17SPV_20240522_0_L2A/B03.tif",
           "assets_green_jp2_eo_bands": [
            {
             "center_wavelength": 0.56,
             "common_name": "green",
             "description": "Green (band 3)",
             "full_width_half_max": 0.045,
             "name": "green"
            }
           ],
           "assets_green_jp2_gsd": 10,
           "assets_green_jp2_href": "s3://sentinel-s2-l2a/tiles/17/S/PV/2024/5/22/0/B03.jp2",
           "assets_green_jp2_proj_shape": "(2:10980,10980)",
           "assets_green_jp2_proj_transform": "(6:10,0,600000,0,-10,4000020)",
           "assets_green_jp2_raster_bands": [
            {
             "bits_per_sample": 15,
             "data_type": "uint16",
             "nodata": 0,
             "offset": -0.1,
             "scale": 0.0001,
             "spatial_resolution": 10
            }
           ],
           "assets_green_jp2_roles": "(2:data,reflectance)",
           "assets_green_jp2_title": "Green (band 3) - 10m",
           "assets_green_jp2_type": "image/jp2",
           "assets_green_proj_shape": "(2:10980,10980)",
           "assets_green_proj_transform": "(6:10,0,600000,0,-10,4000020)",
           "assets_green_raster_bands": [
            {
             "bits_per_sample": 15,
             "data_type": "uint16",
             "nodata": 0,
             "offset": -0.1,
             "scale": 0.0001,
             "spatial_resolution": 10
            }
           ],
           "assets_green_roles": "(2:data,reflectance)",
           "assets_green_title": "Green (band 3) - 10m",
           "assets_green_type": "image/tiff; application=geotiff; profile=cloud-optimized",
           "assets_nir08_eo_bands": [
            {
             "center_wavelength": 0.865,
             "common_name": "nir08",
             "description": "NIR 2 (band 8A)",
             "full_width_half_max": 0.033,
             "name": "nir08"
            }
           ],
           "assets_nir08_gsd": 20,
           "assets_nir08_href": "https://sentinel-cogs.s3.us-west-2.amazonaws.com/sentinel-s2-l2a-cogs/17/S/PV/2024/5/S2A_17SPV_20240522_0_L2A/B8A.tif",
           "assets_nir08_jp2_eo_bands": [
            {
             "center_wavelength": 0.865,
             "common_name": "nir08",
             "description": "NIR 2 (band 8A)",
             "full_width_half_max": 0.033,
             "name": "nir08"
            }
           ],
           "assets_nir08_jp2_gsd": 20,
           "assets_nir08_jp2_href": "s3://sentinel-s2-l2a/tiles/17/S/PV/2024/5/22/0/B8A.jp2",
           "assets_nir08_jp2_proj_shape": "(2:5490,5490)",
           "assets_nir08_jp2_proj_transform": "(6:20,0,600000,0,-20,4000020)",
           "assets_nir08_jp2_raster_bands": [
            {
             "bits_per_sample": 15,
             "data_type": "uint16",
             "nodata": 0,
             "offset": -0.1,
             "scale": 0.0001,
             "spatial_resolution": 20
            }
           ],
           "assets_nir08_jp2_roles": "(2:data,reflectance)",
           "assets_nir08_jp2_title": "NIR 2 (band 8A) - 20m",
           "assets_nir08_jp2_type": "image/jp2",
           "assets_nir08_proj_shape": "(2:5490,5490)",
           "assets_nir08_proj_transform": "(6:20,0,600000,0,-20,4000020)",
           "assets_nir08_raster_bands": [
            {
             "bits_per_sample": 15,
             "data_type": "uint16",
             "nodata": 0,
             "offset": -0.1,
             "scale": 0.0001,
             "spatial_resolution": 20
            }
           ],
           "assets_nir08_roles": "(2:data,reflectance)",
           "assets_nir08_title": "NIR 2 (band 8A) - 20m",
           "assets_nir08_type": "image/tiff; application=geotiff; profile=cloud-optimized",
           "assets_nir09_eo_bands": [
            {
             "center_wavelength": 0.945,
             "common_name": "nir09",
             "description": "NIR 3 (band 9)",
             "full_width_half_max": 0.026,
             "name": "nir09"
            }
           ],
           "assets_nir09_gsd": 60,
           "assets_nir09_href": "https://sentinel-cogs.s3.us-west-2.amazonaws.com/sentinel-s2-l2a-cogs/17/S/PV/2024/5/S2A_17SPV_20240522_0_L2A/B09.tif",
           "assets_nir09_jp2_eo_bands": [
            {
             "center_wavelength": 0.945,
             "common_name": "nir09",
             "description": "NIR 3 (band 9)",
             "full_width_half_max": 0.026,
             "name": "nir09"
            }
           ],
           "assets_nir09_jp2_gsd": 60,
           "assets_nir09_jp2_href": "s3://sentinel-s2-l2a/tiles/17/S/PV/2024/5/22/0/B09.jp2",
           "assets_nir09_jp2_proj_shape": "(2:1830,1830)",
           "assets_nir09_jp2_proj_transform": "(6:60,0,600000,0,-60,4000020)",
           "assets_nir09_jp2_raster_bands": [
            {
             "bits_per_sample": 15,
             "data_type": "uint16",
             "nodata": 0,
             "offset": -0.1,
             "scale": 0.0001,
             "spatial_resolution": 60
            }
           ],
           "assets_nir09_jp2_roles": "(2:data,reflectance)",
           "assets_nir09_jp2_title": "NIR 3 (band 9) - 60m",
           "assets_nir09_jp2_type": "image/jp2",
           "assets_nir09_proj_shape": "(2:1830,1830)",
           "assets_nir09_proj_transform": "(6:60,0,600000,0,-60,4000020)",
           "assets_nir09_raster_bands": [
            {
             "bits_per_sample": 15,
             "data_type": "uint16",
             "nodata": 0,
             "offset": -0.1,
             "scale": 0.0001,
             "spatial_resolution": 60
            }
           ],
           "assets_nir09_roles": "(2:data,reflectance)",
           "assets_nir09_title": "NIR 3 (band 9) - 60m",
           "assets_nir09_type": "image/tiff; application=geotiff; profile=cloud-optimized",
           "assets_nir_eo_bands": [
            {
             "center_wavelength": 0.842,
             "common_name": "nir",
             "description": "NIR 1 (band 8)",
             "full_width_half_max": 0.145,
             "name": "nir"
            }
           ],
           "assets_nir_gsd": 10,
           "assets_nir_href": "https://sentinel-cogs.s3.us-west-2.amazonaws.com/sentinel-s2-l2a-cogs/17/S/PV/2024/5/S2A_17SPV_20240522_0_L2A/B08.tif",
           "assets_nir_jp2_eo_bands": [
            {
             "center_wavelength": 0.842,
             "common_name": "nir",
             "description": "NIR 1 (band 8)",
             "full_width_half_max": 0.145,
             "name": "nir"
            }
           ],
           "assets_nir_jp2_gsd": 10,
           "assets_nir_jp2_href": "s3://sentinel-s2-l2a/tiles/17/S/PV/2024/5/22/0/B08.jp2",
           "assets_nir_jp2_proj_shape": "(2:10980,10980)",
           "assets_nir_jp2_proj_transform": "(6:10,0,600000,0,-10,4000020)",
           "assets_nir_jp2_raster_bands": [
            {
             "bits_per_sample": 15,
             "data_type": "uint16",
             "nodata": 0,
             "offset": -0.1,
             "scale": 0.0001,
             "spatial_resolution": 10
            }
           ],
           "assets_nir_jp2_roles": "(2:data,reflectance)",
           "assets_nir_jp2_title": "NIR 1 (band 8) - 10m",
           "assets_nir_jp2_type": "image/jp2",
           "assets_nir_proj_shape": "(2:10980,10980)",
           "assets_nir_proj_transform": "(6:10,0,600000,0,-10,4000020)",
           "assets_nir_raster_bands": [
            {
             "bits_per_sample": 15,
             "data_type": "uint16",
             "nodata": 0,
             "offset": -0.1,
             "scale": 0.0001,
             "spatial_resolution": 10
            }
           ],
           "assets_nir_roles": "(2:data,reflectance)",
           "assets_nir_title": "NIR 1 (band 8) - 10m",
           "assets_nir_type": "image/tiff; application=geotiff; profile=cloud-optimized",
           "assets_red_eo_bands": [
            {
             "center_wavelength": 0.665,
             "common_name": "red",
             "description": "Red (band 4)",
             "full_width_half_max": 0.038,
             "name": "red"
            }
           ],
           "assets_red_gsd": 10,
           "assets_red_href": "https://sentinel-cogs.s3.us-west-2.amazonaws.com/sentinel-s2-l2a-cogs/17/S/PV/2024/5/S2A_17SPV_20240522_0_L2A/B04.tif",
           "assets_red_jp2_eo_bands": [
            {
             "center_wavelength": 0.665,
             "common_name": "red",
             "description": "Red (band 4)",
             "full_width_half_max": 0.038,
             "name": "red"
            }
           ],
           "assets_red_jp2_gsd": 10,
           "assets_red_jp2_href": "s3://sentinel-s2-l2a/tiles/17/S/PV/2024/5/22/0/B04.jp2",
           "assets_red_jp2_proj_shape": "(2:10980,10980)",
           "assets_red_jp2_proj_transform": "(6:10,0,600000,0,-10,4000020)",
           "assets_red_jp2_raster_bands": [
            {
             "bits_per_sample": 15,
             "data_type": "uint16",
             "nodata": 0,
             "offset": -0.1,
             "scale": 0.0001,
             "spatial_resolution": 10
            }
           ],
           "assets_red_jp2_roles": "(2:data,reflectance)",
           "assets_red_jp2_title": "Red (band 4) - 10m",
           "assets_red_jp2_type": "image/jp2",
           "assets_red_proj_shape": "(2:10980,10980)",
           "assets_red_proj_transform": "(6:10,0,600000,0,-10,4000020)",
           "assets_red_raster_bands": [
            {
             "bits_per_sample": 15,
             "data_type": "uint16",
             "nodata": 0,
             "offset": -0.1,
             "scale": 0.0001,
             "spatial_resolution": 10
            }
           ],
           "assets_red_roles": "(2:data,reflectance)",
           "assets_red_title": "Red (band 4) - 10m",
           "assets_red_type": "image/tiff; application=geotiff; profile=cloud-optimized",
           "assets_rededge1_eo_bands": [
            {
             "center_wavelength": 0.704,
             "common_name": "rededge",
             "description": "Red edge 1 (band 5)",
             "full_width_half_max": 0.019,
             "name": "rededge1"
            }
           ],
           "assets_rededge1_gsd": 20,
           "assets_rededge1_href": "https://sentinel-cogs.s3.us-west-2.amazonaws.com/sentinel-s2-l2a-cogs/17/S/PV/2024/5/S2A_17SPV_20240522_0_L2A/B05.tif",
           "assets_rededge1_jp2_eo_bands": [
            {
             "center_wavelength": 0.704,
             "common_name": "rededge",
             "description": "Red edge 1 (band 5)",
             "full_width_half_max": 0.019,
             "name": "rededge1"
            }
           ],
           "assets_rededge1_jp2_gsd": 20,
           "assets_rededge1_jp2_href": "s3://sentinel-s2-l2a/tiles/17/S/PV/2024/5/22/0/B05.jp2",
           "assets_rededge1_jp2_proj_shape": "(2:5490,5490)",
           "assets_rededge1_jp2_proj_transform": "(6:20,0,600000,0,-20,4000020)",
           "assets_rededge1_jp2_raster_bands": [
            {
             "bits_per_sample": 15,
             "data_type": "uint16",
             "nodata": 0,
             "offset": -0.1,
             "scale": 0.0001,
             "spatial_resolution": 20
            }
           ],
           "assets_rededge1_jp2_roles": "(2:data,reflectance)",
           "assets_rededge1_jp2_title": "Red edge 1 (band 5) - 20m",
           "assets_rededge1_jp2_type": "image/jp2",
           "assets_rededge1_proj_shape": "(2:5490,5490)",
           "assets_rededge1_proj_transform": "(6:20,0,600000,0,-20,4000020)",
           "assets_rededge1_raster_bands": [
            {
             "bits_per_sample": 15,
             "data_type": "uint16",
             "nodata": 0,
             "offset": -0.1,
             "scale": 0.0001,
             "spatial_resolution": 20
            }
           ],
           "assets_rededge1_roles": "(2:data,reflectance)",
           "assets_rededge1_title": "Red edge 1 (band 5) - 20m",
           "assets_rededge1_type": "image/tiff; application=geotiff; profile=cloud-optimized",
           "assets_rededge2_eo_bands": [
            {
             "center_wavelength": 0.74,
             "common_name": "rededge",
             "description": "Red edge 2 (band 6)",
             "full_width_half_max": 0.018,
             "name": "rededge2"
            }
           ],
           "assets_rededge2_gsd": 20,
           "assets_rededge2_href": "https://sentinel-cogs.s3.us-west-2.amazonaws.com/sentinel-s2-l2a-cogs/17/S/PV/2024/5/S2A_17SPV_20240522_0_L2A/B06.tif",
           "assets_rededge2_jp2_eo_bands": [
            {
             "center_wavelength": 0.74,
             "common_name": "rededge",
             "description": "Red edge 2 (band 6)",
             "full_width_half_max": 0.018,
             "name": "rededge2"
            }
           ],
           "assets_rededge2_jp2_gsd": 20,
           "assets_rededge2_jp2_href": "s3://sentinel-s2-l2a/tiles/17/S/PV/2024/5/22/0/B06.jp2",
           "assets_rededge2_jp2_proj_shape": "(2:5490,5490)",
           "assets_rededge2_jp2_proj_transform": "(6:20,0,600000,0,-20,4000020)",
           "assets_rededge2_jp2_raster_bands": [
            {
             "bits_per_sample": 15,
             "data_type": "uint16",
             "nodata": 0,
             "offset": -0.1,
             "scale": 0.0001,
             "spatial_resolution": 20
            }
           ],
           "assets_rededge2_jp2_roles": "(2:data,reflectance)",
           "assets_rededge2_jp2_title": "Red edge 2 (band 6) - 20m",
           "assets_rededge2_jp2_type": "image/jp2",
           "assets_rededge2_proj_shape": "(2:5490,5490)",
           "assets_rededge2_proj_transform": "(6:20,0,600000,0,-20,4000020)",
           "assets_rededge2_raster_bands": [
            {
             "bits_per_sample": 15,
             "data_type": "uint16",
             "nodata": 0,
             "offset": -0.1,
             "scale": 0.0001,
             "spatial_resolution": 20
            }
           ],
           "assets_rededge2_roles": "(2:data,reflectance)",
           "assets_rededge2_title": "Red edge 2 (band 6) - 20m",
           "assets_rededge2_type": "image/tiff; application=geotiff; profile=cloud-optimized",
           "assets_rededge3_eo_bands": [
            {
             "center_wavelength": 0.783,
             "common_name": "rededge",
             "description": "Red edge 3 (band 7)",
             "full_width_half_max": 0.028,
             "name": "rededge3"
            }
           ],
           "assets_rededge3_gsd": 20,
           "assets_rededge3_href": "https://sentinel-cogs.s3.us-west-2.amazonaws.com/sentinel-s2-l2a-cogs/17/S/PV/2024/5/S2A_17SPV_20240522_0_L2A/B07.tif",
           "assets_rededge3_jp2_eo_bands": [
            {
             "center_wavelength": 0.783,
             "common_name": "rededge",
             "description": "Red edge 3 (band 7)",
             "full_width_half_max": 0.028,
             "name": "rededge3"
            }
           ],
           "assets_rededge3_jp2_gsd": 20,
           "assets_rededge3_jp2_href": "s3://sentinel-s2-l2a/tiles/17/S/PV/2024/5/22/0/B07.jp2",
           "assets_rededge3_jp2_proj_shape": "(2:5490,5490)",
           "assets_rededge3_jp2_proj_transform": "(6:20,0,600000,0,-20,4000020)",
           "assets_rededge3_jp2_raster_bands": [
            {
             "bits_per_sample": 15,
             "data_type": "uint16",
             "nodata": 0,
             "offset": -0.1,
             "scale": 0.0001,
             "spatial_resolution": 20
            }
           ],
           "assets_rededge3_jp2_roles": "(2:data,reflectance)",
           "assets_rededge3_jp2_title": "Red edge 3 (band 7) - 20m",
           "assets_rededge3_jp2_type": "image/jp2",
           "assets_rededge3_proj_shape": "(2:5490,5490)",
           "assets_rededge3_proj_transform": "(6:20,0,600000,0,-20,4000020)",
           "assets_rededge3_raster_bands": [
            {
             "bits_per_sample": 15,
             "data_type": "uint16",
             "nodata": 0,
             "offset": -0.1,
             "scale": 0.0001,
             "spatial_resolution": 20
            }
           ],
           "assets_rededge3_roles": "(2:data,reflectance)",
           "assets_rededge3_title": "Red edge 3 (band 7) - 20m",
           "assets_rededge3_type": "image/tiff; application=geotiff; profile=cloud-optimized",
           "assets_scl_href": "https://sentinel-cogs.s3.us-west-2.amazonaws.com/sentinel-s2-l2a-cogs/17/S/PV/2024/5/S2A_17SPV_20240522_0_L2A/SCL.tif",
           "assets_scl_jp2_href": "s3://sentinel-s2-l2a/tiles/17/S/PV/2024/5/22/0/SCL.jp2",
           "assets_scl_jp2_proj_shape": "(2:5490,5490)",
           "assets_scl_jp2_proj_transform": "(6:20,0,600000,0,-20,4000020)",
           "assets_scl_jp2_raster_bands": [
            {
             "data_type": "uint8",
             "nodata": 0,
             "spatial_resolution": 20
            }
           ],
           "assets_scl_jp2_roles": "(2:data,reflectance)",
           "assets_scl_jp2_title": "Scene classification map (SCL)",
           "assets_scl_jp2_type": "image/jp2",
           "assets_scl_proj_shape": "(2:5490,5490)",
           "assets_scl_proj_transform": "(6:20,0,600000,0,-20,4000020)",
           "assets_scl_raster_bands": [
            {
             "data_type": "uint8",
             "nodata": 0,
             "spatial_resolution": 20
            }
           ],
           "assets_scl_roles": "(2:data,reflectance)",
           "assets_scl_title": "Scene classification map (SCL)",
           "assets_scl_type": "image/tiff; application=geotiff; profile=cloud-optimized",
           "assets_swir16_eo_bands": [
            {
             "center_wavelength": 1.61,
             "common_name": "swir16",
             "description": "SWIR 1 (band 11)",
             "full_width_half_max": 0.143,
             "name": "swir16"
            }
           ],
           "assets_swir16_gsd": 20,
           "assets_swir16_href": "https://sentinel-cogs.s3.us-west-2.amazonaws.com/sentinel-s2-l2a-cogs/17/S/PV/2024/5/S2A_17SPV_20240522_0_L2A/B11.tif",
           "assets_swir16_jp2_eo_bands": [
            {
             "center_wavelength": 1.61,
             "common_name": "swir16",
             "description": "SWIR 1 (band 11)",
             "full_width_half_max": 0.143,
             "name": "swir16"
            }
           ],
           "assets_swir16_jp2_gsd": 20,
           "assets_swir16_jp2_href": "s3://sentinel-s2-l2a/tiles/17/S/PV/2024/5/22/0/B11.jp2",
           "assets_swir16_jp2_proj_shape": "(2:5490,5490)",
           "assets_swir16_jp2_proj_transform": "(6:20,0,600000,0,-20,4000020)",
           "assets_swir16_jp2_raster_bands": [
            {
             "bits_per_sample": 15,
             "data_type": "uint16",
             "nodata": 0,
             "offset": -0.1,
             "scale": 0.0001,
             "spatial_resolution": 20
            }
           ],
           "assets_swir16_jp2_roles": "(2:data,reflectance)",
           "assets_swir16_jp2_title": "SWIR 1 (band 11) - 20m",
           "assets_swir16_jp2_type": "image/jp2",
           "assets_swir16_proj_shape": "(2:5490,5490)",
           "assets_swir16_proj_transform": "(6:20,0,600000,0,-20,4000020)",
           "assets_swir16_raster_bands": [
            {
             "bits_per_sample": 15,
             "data_type": "uint16",
             "nodata": 0,
             "offset": -0.1,
             "scale": 0.0001,
             "spatial_resolution": 20
            }
           ],
           "assets_swir16_roles": "(2:data,reflectance)",
           "assets_swir16_title": "SWIR 1 (band 11) - 20m",
           "assets_swir16_type": "image/tiff; application=geotiff; profile=cloud-optimized",
           "assets_swir22_eo_bands": [
            {
             "center_wavelength": 2.19,
             "common_name": "swir22",
             "description": "SWIR 2 (band 12)",
             "full_width_half_max": 0.242,
             "name": "swir22"
            }
           ],
           "assets_swir22_gsd": 20,
           "assets_swir22_href": "https://sentinel-cogs.s3.us-west-2.amazonaws.com/sentinel-s2-l2a-cogs/17/S/PV/2024/5/S2A_17SPV_20240522_0_L2A/B12.tif",
           "assets_swir22_jp2_eo_bands": [
            {
             "center_wavelength": 2.19,
             "common_name": "swir22",
             "description": "SWIR 2 (band 12)",
             "full_width_half_max": 0.242,
             "name": "swir22"
            }
           ],
           "assets_swir22_jp2_gsd": 20,
           "assets_swir22_jp2_href": "s3://sentinel-s2-l2a/tiles/17/S/PV/2024/5/22/0/B12.jp2",
           "assets_swir22_jp2_proj_shape": "(2:5490,5490)",
           "assets_swir22_jp2_proj_transform": "(6:20,0,600000,0,-20,4000020)",
           "assets_swir22_jp2_raster_bands": [
            {
             "bits_per_sample": 15,
             "data_type": "uint16",
             "nodata": 0,
             "offset": -0.1,
             "scale": 0.0001,
             "spatial_resolution": 20
            }
           ],
           "assets_swir22_jp2_roles": "(2:data,reflectance)",
           "assets_swir22_jp2_title": "SWIR 2 (band 12) - 20m",
           "assets_swir22_jp2_type": "image/jp2",
           "assets_swir22_proj_shape": "(2:5490,5490)",
           "assets_swir22_proj_transform": "(6:20,0,600000,0,-20,4000020)",
           "assets_swir22_raster_bands": [
            {
             "bits_per_sample": 15,
             "data_type": "uint16",
             "nodata": 0,
             "offset": -0.1,
             "scale": 0.0001,
             "spatial_resolution": 20
            }
           ],
           "assets_swir22_roles": "(2:data,reflectance)",
           "assets_swir22_title": "SWIR 2 (band 12) - 20m",
           "assets_swir22_type": "image/tiff; application=geotiff; profile=cloud-optimized",
           "assets_thumbnail_href": "https://sentinel-cogs.s3.us-west-2.amazonaws.com/sentinel-s2-l2a-cogs/17/S/PV/2024/5/S2A_17SPV_20240522_0_L2A/thumbnail.jpg",
           "assets_thumbnail_roles": "(1:thumbnail)",
           "assets_thumbnail_title": "Thumbnail image",
           "assets_thumbnail_type": "image/jpeg",
           "assets_tileinfo_metadata_href": "https://sentinel-cogs.s3.us-west-2.amazonaws.com/sentinel-s2-l2a-cogs/17/S/PV/2024/5/S2A_17SPV_20240522_0_L2A/tileinfo_metadata.json",
           "assets_tileinfo_metadata_roles": "(1:metadata)",
           "assets_tileinfo_metadata_type": "application/json",
           "assets_visual_eo_bands": [
            {
             "center_wavelength": 0.665,
             "common_name": "red",
             "description": "Red (band 4)",
             "full_width_half_max": 0.038,
             "name": "red"
            },
            {
             "center_wavelength": 0.56,
             "common_name": "green",
             "description": "Green (band 3)",
             "full_width_half_max": 0.045,
             "name": "green"
            },
            {
             "center_wavelength": 0.49,
             "common_name": "blue",
             "description": "Blue (band 2)",
             "full_width_half_max": 0.098,
             "name": "blue"
            }
           ],
           "assets_visual_href": "https://sentinel-cogs.s3.us-west-2.amazonaws.com/sentinel-s2-l2a-cogs/17/S/PV/2024/5/S2A_17SPV_20240522_0_L2A/TCI.tif",
           "assets_visual_jp2_eo_bands": [
            {
             "center_wavelength": 0.665,
             "common_name": "red",
             "description": "Red (band 4)",
             "full_width_half_max": 0.038,
             "name": "red"
            },
            {
             "center_wavelength": 0.56,
             "common_name": "green",
             "description": "Green (band 3)",
             "full_width_half_max": 0.045,
             "name": "green"
            },
            {
             "center_wavelength": 0.49,
             "common_name": "blue",
             "description": "Blue (band 2)",
             "full_width_half_max": 0.098,
             "name": "blue"
            }
           ],
           "assets_visual_jp2_href": "s3://sentinel-s2-l2a/tiles/17/S/PV/2024/5/22/0/TCI.jp2",
           "assets_visual_jp2_proj_shape": "(2:10980,10980)",
           "assets_visual_jp2_proj_transform": "(6:10,0,600000,0,-10,4000020)",
           "assets_visual_jp2_roles": "(1:visual)",
           "assets_visual_jp2_title": "True color image",
           "assets_visual_jp2_type": "image/jp2",
           "assets_visual_proj_shape": "(2:10980,10980)",
           "assets_visual_proj_transform": "(6:10,0,600000,0,-10,4000020)",
           "assets_visual_roles": "(1:visual)",
           "assets_visual_title": "True color image",
           "assets_visual_type": "image/tiff; application=geotiff; profile=cloud-optimized",
           "assets_wvp_href": "https://sentinel-cogs.s3.us-west-2.amazonaws.com/sentinel-s2-l2a-cogs/17/S/PV/2024/5/S2A_17SPV_20240522_0_L2A/WVP.tif",
           "assets_wvp_jp2_href": "s3://sentinel-s2-l2a/tiles/17/S/PV/2024/5/22/0/WVP.jp2",
           "assets_wvp_jp2_proj_shape": "(2:5490,5490)",
           "assets_wvp_jp2_proj_transform": "(6:20,0,600000,0,-20,4000020)",
           "assets_wvp_jp2_raster_bands": [
            {
             "bits_per_sample": 15,
             "data_type": "uint16",
             "nodata": 0,
             "offset": 0,
             "scale": 0.001,
             "spatial_resolution": 20,
             "unit": "cm"
            }
           ],
           "assets_wvp_jp2_roles": "(2:data,reflectance)",
           "assets_wvp_jp2_title": "Water vapour (WVP)",
           "assets_wvp_jp2_type": "image/jp2",
           "assets_wvp_proj_shape": "(2:5490,5490)",
           "assets_wvp_proj_transform": "(6:20,0,600000,0,-20,4000020)",
           "assets_wvp_raster_bands": [
            {
             "bits_per_sample": 15,
             "data_type": "uint16",
             "nodata": 0,
             "offset": 0,
             "scale": 0.001,
             "spatial_resolution": 20,
             "unit": "cm"
            }
           ],
           "assets_wvp_roles": "(2:data,reflectance)",
           "assets_wvp_title": "Water vapour (WVP)",
           "assets_wvp_type": "image/tiff; application=geotiff; profile=cloud-optimized",
           "cat": 5,
           "collection": "sentinel-2-l2a",
           "constellation": "sentinel-2",
           "created": "2024-05-28T16:20:14.246",
           "datetime": "2024-05-22T16:13:25.575",
           "earthsearch_boa_offset_applied": 1,
           "earthsearch_payload_id": "roda-sentinel2/workflow-sentinel2-to-stac/7901d23e9b4391b2832cd9bff01bf974",
           "earthsearch_s3_path": "s3://sentinel-cogs/sentinel-s2-l2a-cogs/17/S/PV/2024/5/S2A_17SPV_20240522_0_L2A",
           "eo_cloud_cover": 4.839775,
           "grid_code": "MGRS-17SPV",
           "id": "S2A_17SPV_20240522_0_L2A",
           "instruments": "(1:msi)",
           "mgrs_grid_square": "PV",
           "mgrs_latitude_band": "S",
           "mgrs_utm_zone": 17,
           "platform": "sentinel-2a",
           "processing_software": {
            "sentinel2-to-stac": "0.1.1"
           },
           "proj_epsg": 32617,
           "s2_cloud_shadow_percentage": 1.121513,
           "s2_dark_features_percentage": 0.181847,
           "s2_datastrip_id": "S2A_OPER_MSI_L2A_DS_2APS_20240522T231852_S20240522T161308_N05.10",
           "s2_datatake_id": "GS2A_20240522T155901_046569_N05.10",
           "s2_datatake_type": "INS-NOBS",
           "s2_degraded_msi_data_percentage": 0.0077,
           "s2_generation_time": "2024-05-22T23:18:52",
           "s2_granule_id": "S2A_OPER_MSI_L2A_TL_2APS_20240522T231852_A046569_T17SPV_N05.10",
           "s2_high_proba_clouds_percentage": 0.408592,
           "s2_medium_proba_clouds_percentage": 0.857655,
           "s2_nodata_pixel_percentage": 0.0,
           "s2_not_vegetated_percentage": 7.666176,
           "s2_processing_baseline": "05.10",
           "s2_product_type": "S2MSI2A",
           "s2_product_uri": "S2A_MSIL2A_20240522T155901_N0510_R097_T17SPV_20240522T231852.SAFE",
           "s2_reflectance_conversion_factor": 0.977202250922301,
           "s2_saturated_defective_pixel_percentage": 0,
           "s2_sequence": "0",
           "s2_snow_ice_percentage": 0.0,
           "s2_thin_cirrus_percentage": 3.573528,
           "s2_unclassified_percentage": 0.398824,
           "s2_vegetation_percentage": 84.700739,
           "s2_water_percentage": 1.091128,
           "style": {
            "color": "black",
            "fillColor": "green"
           },
           "updated": "2024-05-28T16:20:14.246",
           "view_sun_azimuth": 134.645221678048,
           "view_sun_elevation": 69.9363455605075
          },
          "type": "Feature"
         },
         {
          "geometry": {
           "coordinates": [
            [
             [
              -79.88850843890832,
              36.13973161333741
             ],
             [
              -79.88974722294431,
              36.049749189770985
             ],
             [
              -79.8909860069803,
              35.95976676620456
             ],
             [
              -79.89222479101629,
              35.86978434263815
             ],
             [
              -79.89346357505228,
              35.779801919071744
             ],
             [
              -79.89470235908827,
              35.68981949550533
             ],
             [
              -79.89594114312425,
              35.59983707193889
             ],
             [
              -79.89717992716024,
              35.50985464837248
             ],
             [
              -79.89841871119623,
              35.419872224806085
             ],
             [
              -79.89965749523222,
              35.32988980123965
             ],
             [
              -79.90089627926821,
              35.23990737767325
             ],
             [
              -79.9021350633042,
              35.149924954106844
             ],
             [
              -79.79260940405047,
              35.14838773555612
             ],
             [
              -79.68308374479673,
              35.14685051700542
             ],
             [
              -79.57355808554301,
              35.14531329845469
             ],
             [
              -79.46403242628928,
              35.14377607990399
             ],
             [
              -79.35450676703555,
              35.14223886135328
             ],
             [
              -79.24498110778183,
              35.14070164280259
             ],
             [
              -79.13545544852808,
              35.13916442425187
             ],
             [
              -79.02592978927434,
              35.137627205701165
             ],
             [
              -78.91640413002062,
              35.13608998715045
             ],
             [
              -78.80687847076689,
              35.13455276859974
             ],
             [
              -78.69735281151316,
              35.13301555004903
             ],
             [
              -78.69475680417605,
              35.22294122147371
             ],
             [
              -78.69216079683893,
              35.31286689289837
             ],
             [
              -78.68956478950183,
              35.402792564323065
             ],
             [
              -78.68696878216473,
              35.49271823574775
             ],
             [
              -78.68437277482762,
              35.5826439071724
             ],
             [
              -78.6817767674905,
              35.6725695785971
             ],
             [
              -78.6791807601534,
              35.76249525002174
             ],
             [
              -78.6765847528163,
              35.85242092144643
             ],
             [
              -78.67398874547919,
              35.942346592871075
             ],
             [
              -78.67139273814207,
              36.03227226429579
             ],
             [
              -78.66879673080497,
              36.12219793572046
             ],
             [
              -78.77967961335982,
              36.123791906412904
             ],
             [
              -78.89056249591466,
              36.12538587710536
             ],
             [
              -79.00144537846953,
              36.126979847797806
             ],
             [
              -79.11232826102437,
              36.12857381849026
             ],
             [
              -79.22321114357922,
              36.130167789182714
             ],
             [
              -79.33409402613407,
              36.13176175987515
             ],
             [
              -79.44497690868891,
              36.13335573056764
             ],
             [
              -79.55585979124376,
              36.13494970126006
             ],
             [
              -79.66674267379862,
              36.1365436719525
             ],
             [
              -79.77762555635347,
              36.13813764264496
             ],
             [
              -79.88850843890832,
              36.13973161333741
             ]
            ]
           ],
           "type": "Polygon"
          },
          "properties": {
           "assets_aot_href": "https://sentinel-cogs.s3.us-west-2.amazonaws.com/sentinel-s2-l2a-cogs/17/S/PV/2024/5/S2A_17SPV_20240502_0_L2A/AOT.tif",
           "assets_aot_jp2_href": "s3://sentinel-s2-l2a/tiles/17/S/PV/2024/5/2/0/AOT.jp2",
           "assets_aot_jp2_proj_shape": "(2:5490,5490)",
           "assets_aot_jp2_proj_transform": "(6:20,0,600000,0,-20,4000020)",
           "assets_aot_jp2_raster_bands": [
            {
             "bits_per_sample": 15,
             "data_type": "uint16",
             "nodata": 0,
             "offset": 0,
             "scale": 0.001,
             "spatial_resolution": 20
            }
           ],
           "assets_aot_jp2_roles": "(2:data,reflectance)",
           "assets_aot_jp2_title": "Aerosol optical thickness (AOT)",
           "assets_aot_jp2_type": "image/jp2",
           "assets_aot_proj_shape": "(2:5490,5490)",
           "assets_aot_proj_transform": "(6:20,0,600000,0,-20,4000020)",
           "assets_aot_raster_bands": [
            {
             "bits_per_sample": 15,
             "data_type": "uint16",
             "nodata": 0,
             "offset": 0,
             "scale": 0.001,
             "spatial_resolution": 20
            }
           ],
           "assets_aot_roles": "(2:data,reflectance)",
           "assets_aot_title": "Aerosol optical thickness (AOT)",
           "assets_aot_type": "image/tiff; application=geotiff; profile=cloud-optimized",
           "assets_blue_eo_bands": [
            {
             "center_wavelength": 0.49,
             "common_name": "blue",
             "description": "Blue (band 2)",
             "full_width_half_max": 0.098,
             "name": "blue"
            }
           ],
           "assets_blue_gsd": 10,
           "assets_blue_href": "https://sentinel-cogs.s3.us-west-2.amazonaws.com/sentinel-s2-l2a-cogs/17/S/PV/2024/5/S2A_17SPV_20240502_0_L2A/B02.tif",
           "assets_blue_jp2_eo_bands": [
            {
             "center_wavelength": 0.49,
             "common_name": "blue",
             "description": "Blue (band 2)",
             "full_width_half_max": 0.098,
             "name": "blue"
            }
           ],
           "assets_blue_jp2_gsd": 10,
           "assets_blue_jp2_href": "s3://sentinel-s2-l2a/tiles/17/S/PV/2024/5/2/0/B02.jp2",
           "assets_blue_jp2_proj_shape": "(2:10980,10980)",
           "assets_blue_jp2_proj_transform": "(6:10,0,600000,0,-10,4000020)",
           "assets_blue_jp2_raster_bands": [
            {
             "bits_per_sample": 15,
             "data_type": "uint16",
             "nodata": 0,
             "offset": -0.1,
             "scale": 0.0001,
             "spatial_resolution": 10
            }
           ],
           "assets_blue_jp2_roles": "(2:data,reflectance)",
           "assets_blue_jp2_title": "Blue (band 2) - 10m",
           "assets_blue_jp2_type": "image/jp2",
           "assets_blue_proj_shape": "(2:10980,10980)",
           "assets_blue_proj_transform": "(6:10,0,600000,0,-10,4000020)",
           "assets_blue_raster_bands": [
            {
             "bits_per_sample": 15,
             "data_type": "uint16",
             "nodata": 0,
             "offset": -0.1,
             "scale": 0.0001,
             "spatial_resolution": 10
            }
           ],
           "assets_blue_roles": "(2:data,reflectance)",
           "assets_blue_title": "Blue (band 2) - 10m",
           "assets_blue_type": "image/tiff; application=geotiff; profile=cloud-optimized",
           "assets_coastal_eo_bands": [
            {
             "center_wavelength": 0.443,
             "common_name": "coastal",
             "description": "Coastal aerosol (band 1)",
             "full_width_half_max": 0.027,
             "name": "coastal"
            }
           ],
           "assets_coastal_gsd": 60,
           "assets_coastal_href": "https://sentinel-cogs.s3.us-west-2.amazonaws.com/sentinel-s2-l2a-cogs/17/S/PV/2024/5/S2A_17SPV_20240502_0_L2A/B01.tif",
           "assets_coastal_jp2_eo_bands": [
            {
             "center_wavelength": 0.443,
             "common_name": "coastal",
             "description": "Coastal aerosol (band 1)",
             "full_width_half_max": 0.027,
             "name": "coastal"
            }
           ],
           "assets_coastal_jp2_gsd": 60,
           "assets_coastal_jp2_href": "s3://sentinel-s2-l2a/tiles/17/S/PV/2024/5/2/0/B01.jp2",
           "assets_coastal_jp2_proj_shape": "(2:1830,1830)",
           "assets_coastal_jp2_proj_transform": "(6:60,0,600000,0,-60,4000020)",
           "assets_coastal_jp2_raster_bands": [
            {
             "bits_per_sample": 15,
             "data_type": "uint16",
             "nodata": 0,
             "offset": -0.1,
             "scale": 0.0001,
             "spatial_resolution": 60
            }
           ],
           "assets_coastal_jp2_roles": "(2:data,reflectance)",
           "assets_coastal_jp2_title": "Coastal aerosol (band 1) - 60m",
           "assets_coastal_jp2_type": "image/jp2",
           "assets_coastal_proj_shape": "(2:1830,1830)",
           "assets_coastal_proj_transform": "(6:60,0,600000,0,-60,4000020)",
           "assets_coastal_raster_bands": [
            {
             "bits_per_sample": 15,
             "data_type": "uint16",
             "nodata": 0,
             "offset": -0.1,
             "scale": 0.0001,
             "spatial_resolution": 60
            }
           ],
           "assets_coastal_roles": "(2:data,reflectance)",
           "assets_coastal_title": "Coastal aerosol (band 1) - 60m",
           "assets_coastal_type": "image/tiff; application=geotiff; profile=cloud-optimized",
           "assets_granule_metadata_href": "https://sentinel-cogs.s3.us-west-2.amazonaws.com/sentinel-s2-l2a-cogs/17/S/PV/2024/5/S2A_17SPV_20240502_0_L2A/granule_metadata.xml",
           "assets_granule_metadata_roles": "(1:metadata)",
           "assets_granule_metadata_type": "application/xml",
           "assets_green_eo_bands": [
            {
             "center_wavelength": 0.56,
             "common_name": "green",
             "description": "Green (band 3)",
             "full_width_half_max": 0.045,
             "name": "green"
            }
           ],
           "assets_green_gsd": 10,
           "assets_green_href": "https://sentinel-cogs.s3.us-west-2.amazonaws.com/sentinel-s2-l2a-cogs/17/S/PV/2024/5/S2A_17SPV_20240502_0_L2A/B03.tif",
           "assets_green_jp2_eo_bands": [
            {
             "center_wavelength": 0.56,
             "common_name": "green",
             "description": "Green (band 3)",
             "full_width_half_max": 0.045,
             "name": "green"
            }
           ],
           "assets_green_jp2_gsd": 10,
           "assets_green_jp2_href": "s3://sentinel-s2-l2a/tiles/17/S/PV/2024/5/2/0/B03.jp2",
           "assets_green_jp2_proj_shape": "(2:10980,10980)",
           "assets_green_jp2_proj_transform": "(6:10,0,600000,0,-10,4000020)",
           "assets_green_jp2_raster_bands": [
            {
             "bits_per_sample": 15,
             "data_type": "uint16",
             "nodata": 0,
             "offset": -0.1,
             "scale": 0.0001,
             "spatial_resolution": 10
            }
           ],
           "assets_green_jp2_roles": "(2:data,reflectance)",
           "assets_green_jp2_title": "Green (band 3) - 10m",
           "assets_green_jp2_type": "image/jp2",
           "assets_green_proj_shape": "(2:10980,10980)",
           "assets_green_proj_transform": "(6:10,0,600000,0,-10,4000020)",
           "assets_green_raster_bands": [
            {
             "bits_per_sample": 15,
             "data_type": "uint16",
             "nodata": 0,
             "offset": -0.1,
             "scale": 0.0001,
             "spatial_resolution": 10
            }
           ],
           "assets_green_roles": "(2:data,reflectance)",
           "assets_green_title": "Green (band 3) - 10m",
           "assets_green_type": "image/tiff; application=geotiff; profile=cloud-optimized",
           "assets_nir08_eo_bands": [
            {
             "center_wavelength": 0.865,
             "common_name": "nir08",
             "description": "NIR 2 (band 8A)",
             "full_width_half_max": 0.033,
             "name": "nir08"
            }
           ],
           "assets_nir08_gsd": 20,
           "assets_nir08_href": "https://sentinel-cogs.s3.us-west-2.amazonaws.com/sentinel-s2-l2a-cogs/17/S/PV/2024/5/S2A_17SPV_20240502_0_L2A/B8A.tif",
           "assets_nir08_jp2_eo_bands": [
            {
             "center_wavelength": 0.865,
             "common_name": "nir08",
             "description": "NIR 2 (band 8A)",
             "full_width_half_max": 0.033,
             "name": "nir08"
            }
           ],
           "assets_nir08_jp2_gsd": 20,
           "assets_nir08_jp2_href": "s3://sentinel-s2-l2a/tiles/17/S/PV/2024/5/2/0/B8A.jp2",
           "assets_nir08_jp2_proj_shape": "(2:5490,5490)",
           "assets_nir08_jp2_proj_transform": "(6:20,0,600000,0,-20,4000020)",
           "assets_nir08_jp2_raster_bands": [
            {
             "bits_per_sample": 15,
             "data_type": "uint16",
             "nodata": 0,
             "offset": -0.1,
             "scale": 0.0001,
             "spatial_resolution": 20
            }
           ],
           "assets_nir08_jp2_roles": "(2:data,reflectance)",
           "assets_nir08_jp2_title": "NIR 2 (band 8A) - 20m",
           "assets_nir08_jp2_type": "image/jp2",
           "assets_nir08_proj_shape": "(2:5490,5490)",
           "assets_nir08_proj_transform": "(6:20,0,600000,0,-20,4000020)",
           "assets_nir08_raster_bands": [
            {
             "bits_per_sample": 15,
             "data_type": "uint16",
             "nodata": 0,
             "offset": -0.1,
             "scale": 0.0001,
             "spatial_resolution": 20
            }
           ],
           "assets_nir08_roles": "(2:data,reflectance)",
           "assets_nir08_title": "NIR 2 (band 8A) - 20m",
           "assets_nir08_type": "image/tiff; application=geotiff; profile=cloud-optimized",
           "assets_nir09_eo_bands": [
            {
             "center_wavelength": 0.945,
             "common_name": "nir09",
             "description": "NIR 3 (band 9)",
             "full_width_half_max": 0.026,
             "name": "nir09"
            }
           ],
           "assets_nir09_gsd": 60,
           "assets_nir09_href": "https://sentinel-cogs.s3.us-west-2.amazonaws.com/sentinel-s2-l2a-cogs/17/S/PV/2024/5/S2A_17SPV_20240502_0_L2A/B09.tif",
           "assets_nir09_jp2_eo_bands": [
            {
             "center_wavelength": 0.945,
             "common_name": "nir09",
             "description": "NIR 3 (band 9)",
             "full_width_half_max": 0.026,
             "name": "nir09"
            }
           ],
           "assets_nir09_jp2_gsd": 60,
           "assets_nir09_jp2_href": "s3://sentinel-s2-l2a/tiles/17/S/PV/2024/5/2/0/B09.jp2",
           "assets_nir09_jp2_proj_shape": "(2:1830,1830)",
           "assets_nir09_jp2_proj_transform": "(6:60,0,600000,0,-60,4000020)",
           "assets_nir09_jp2_raster_bands": [
            {
             "bits_per_sample": 15,
             "data_type": "uint16",
             "nodata": 0,
             "offset": -0.1,
             "scale": 0.0001,
             "spatial_resolution": 60
            }
           ],
           "assets_nir09_jp2_roles": "(2:data,reflectance)",
           "assets_nir09_jp2_title": "NIR 3 (band 9) - 60m",
           "assets_nir09_jp2_type": "image/jp2",
           "assets_nir09_proj_shape": "(2:1830,1830)",
           "assets_nir09_proj_transform": "(6:60,0,600000,0,-60,4000020)",
           "assets_nir09_raster_bands": [
            {
             "bits_per_sample": 15,
             "data_type": "uint16",
             "nodata": 0,
             "offset": -0.1,
             "scale": 0.0001,
             "spatial_resolution": 60
            }
           ],
           "assets_nir09_roles": "(2:data,reflectance)",
           "assets_nir09_title": "NIR 3 (band 9) - 60m",
           "assets_nir09_type": "image/tiff; application=geotiff; profile=cloud-optimized",
           "assets_nir_eo_bands": [
            {
             "center_wavelength": 0.842,
             "common_name": "nir",
             "description": "NIR 1 (band 8)",
             "full_width_half_max": 0.145,
             "name": "nir"
            }
           ],
           "assets_nir_gsd": 10,
           "assets_nir_href": "https://sentinel-cogs.s3.us-west-2.amazonaws.com/sentinel-s2-l2a-cogs/17/S/PV/2024/5/S2A_17SPV_20240502_0_L2A/B08.tif",
           "assets_nir_jp2_eo_bands": [
            {
             "center_wavelength": 0.842,
             "common_name": "nir",
             "description": "NIR 1 (band 8)",
             "full_width_half_max": 0.145,
             "name": "nir"
            }
           ],
           "assets_nir_jp2_gsd": 10,
           "assets_nir_jp2_href": "s3://sentinel-s2-l2a/tiles/17/S/PV/2024/5/2/0/B08.jp2",
           "assets_nir_jp2_proj_shape": "(2:10980,10980)",
           "assets_nir_jp2_proj_transform": "(6:10,0,600000,0,-10,4000020)",
           "assets_nir_jp2_raster_bands": [
            {
             "bits_per_sample": 15,
             "data_type": "uint16",
             "nodata": 0,
             "offset": -0.1,
             "scale": 0.0001,
             "spatial_resolution": 10
            }
           ],
           "assets_nir_jp2_roles": "(2:data,reflectance)",
           "assets_nir_jp2_title": "NIR 1 (band 8) - 10m",
           "assets_nir_jp2_type": "image/jp2",
           "assets_nir_proj_shape": "(2:10980,10980)",
           "assets_nir_proj_transform": "(6:10,0,600000,0,-10,4000020)",
           "assets_nir_raster_bands": [
            {
             "bits_per_sample": 15,
             "data_type": "uint16",
             "nodata": 0,
             "offset": -0.1,
             "scale": 0.0001,
             "spatial_resolution": 10
            }
           ],
           "assets_nir_roles": "(2:data,reflectance)",
           "assets_nir_title": "NIR 1 (band 8) - 10m",
           "assets_nir_type": "image/tiff; application=geotiff; profile=cloud-optimized",
           "assets_red_eo_bands": [
            {
             "center_wavelength": 0.665,
             "common_name": "red",
             "description": "Red (band 4)",
             "full_width_half_max": 0.038,
             "name": "red"
            }
           ],
           "assets_red_gsd": 10,
           "assets_red_href": "https://sentinel-cogs.s3.us-west-2.amazonaws.com/sentinel-s2-l2a-cogs/17/S/PV/2024/5/S2A_17SPV_20240502_0_L2A/B04.tif",
           "assets_red_jp2_eo_bands": [
            {
             "center_wavelength": 0.665,
             "common_name": "red",
             "description": "Red (band 4)",
             "full_width_half_max": 0.038,
             "name": "red"
            }
           ],
           "assets_red_jp2_gsd": 10,
           "assets_red_jp2_href": "s3://sentinel-s2-l2a/tiles/17/S/PV/2024/5/2/0/B04.jp2",
           "assets_red_jp2_proj_shape": "(2:10980,10980)",
           "assets_red_jp2_proj_transform": "(6:10,0,600000,0,-10,4000020)",
           "assets_red_jp2_raster_bands": [
            {
             "bits_per_sample": 15,
             "data_type": "uint16",
             "nodata": 0,
             "offset": -0.1,
             "scale": 0.0001,
             "spatial_resolution": 10
            }
           ],
           "assets_red_jp2_roles": "(2:data,reflectance)",
           "assets_red_jp2_title": "Red (band 4) - 10m",
           "assets_red_jp2_type": "image/jp2",
           "assets_red_proj_shape": "(2:10980,10980)",
           "assets_red_proj_transform": "(6:10,0,600000,0,-10,4000020)",
           "assets_red_raster_bands": [
            {
             "bits_per_sample": 15,
             "data_type": "uint16",
             "nodata": 0,
             "offset": -0.1,
             "scale": 0.0001,
             "spatial_resolution": 10
            }
           ],
           "assets_red_roles": "(2:data,reflectance)",
           "assets_red_title": "Red (band 4) - 10m",
           "assets_red_type": "image/tiff; application=geotiff; profile=cloud-optimized",
           "assets_rededge1_eo_bands": [
            {
             "center_wavelength": 0.704,
             "common_name": "rededge",
             "description": "Red edge 1 (band 5)",
             "full_width_half_max": 0.019,
             "name": "rededge1"
            }
           ],
           "assets_rededge1_gsd": 20,
           "assets_rededge1_href": "https://sentinel-cogs.s3.us-west-2.amazonaws.com/sentinel-s2-l2a-cogs/17/S/PV/2024/5/S2A_17SPV_20240502_0_L2A/B05.tif",
           "assets_rededge1_jp2_eo_bands": [
            {
             "center_wavelength": 0.704,
             "common_name": "rededge",
             "description": "Red edge 1 (band 5)",
             "full_width_half_max": 0.019,
             "name": "rededge1"
            }
           ],
           "assets_rededge1_jp2_gsd": 20,
           "assets_rededge1_jp2_href": "s3://sentinel-s2-l2a/tiles/17/S/PV/2024/5/2/0/B05.jp2",
           "assets_rededge1_jp2_proj_shape": "(2:5490,5490)",
           "assets_rededge1_jp2_proj_transform": "(6:20,0,600000,0,-20,4000020)",
           "assets_rededge1_jp2_raster_bands": [
            {
             "bits_per_sample": 15,
             "data_type": "uint16",
             "nodata": 0,
             "offset": -0.1,
             "scale": 0.0001,
             "spatial_resolution": 20
            }
           ],
           "assets_rededge1_jp2_roles": "(2:data,reflectance)",
           "assets_rededge1_jp2_title": "Red edge 1 (band 5) - 20m",
           "assets_rededge1_jp2_type": "image/jp2",
           "assets_rededge1_proj_shape": "(2:5490,5490)",
           "assets_rededge1_proj_transform": "(6:20,0,600000,0,-20,4000020)",
           "assets_rededge1_raster_bands": [
            {
             "bits_per_sample": 15,
             "data_type": "uint16",
             "nodata": 0,
             "offset": -0.1,
             "scale": 0.0001,
             "spatial_resolution": 20
            }
           ],
           "assets_rededge1_roles": "(2:data,reflectance)",
           "assets_rededge1_title": "Red edge 1 (band 5) - 20m",
           "assets_rededge1_type": "image/tiff; application=geotiff; profile=cloud-optimized",
           "assets_rededge2_eo_bands": [
            {
             "center_wavelength": 0.74,
             "common_name": "rededge",
             "description": "Red edge 2 (band 6)",
             "full_width_half_max": 0.018,
             "name": "rededge2"
            }
           ],
           "assets_rededge2_gsd": 20,
           "assets_rededge2_href": "https://sentinel-cogs.s3.us-west-2.amazonaws.com/sentinel-s2-l2a-cogs/17/S/PV/2024/5/S2A_17SPV_20240502_0_L2A/B06.tif",
           "assets_rededge2_jp2_eo_bands": [
            {
             "center_wavelength": 0.74,
             "common_name": "rededge",
             "description": "Red edge 2 (band 6)",
             "full_width_half_max": 0.018,
             "name": "rededge2"
            }
           ],
           "assets_rededge2_jp2_gsd": 20,
           "assets_rededge2_jp2_href": "s3://sentinel-s2-l2a/tiles/17/S/PV/2024/5/2/0/B06.jp2",
           "assets_rededge2_jp2_proj_shape": "(2:5490,5490)",
           "assets_rededge2_jp2_proj_transform": "(6:20,0,600000,0,-20,4000020)",
           "assets_rededge2_jp2_raster_bands": [
            {
             "bits_per_sample": 15,
             "data_type": "uint16",
             "nodata": 0,
             "offset": -0.1,
             "scale": 0.0001,
             "spatial_resolution": 20
            }
           ],
           "assets_rededge2_jp2_roles": "(2:data,reflectance)",
           "assets_rededge2_jp2_title": "Red edge 2 (band 6) - 20m",
           "assets_rededge2_jp2_type": "image/jp2",
           "assets_rededge2_proj_shape": "(2:5490,5490)",
           "assets_rededge2_proj_transform": "(6:20,0,600000,0,-20,4000020)",
           "assets_rededge2_raster_bands": [
            {
             "bits_per_sample": 15,
             "data_type": "uint16",
             "nodata": 0,
             "offset": -0.1,
             "scale": 0.0001,
             "spatial_resolution": 20
            }
           ],
           "assets_rededge2_roles": "(2:data,reflectance)",
           "assets_rededge2_title": "Red edge 2 (band 6) - 20m",
           "assets_rededge2_type": "image/tiff; application=geotiff; profile=cloud-optimized",
           "assets_rededge3_eo_bands": [
            {
             "center_wavelength": 0.783,
             "common_name": "rededge",
             "description": "Red edge 3 (band 7)",
             "full_width_half_max": 0.028,
             "name": "rededge3"
            }
           ],
           "assets_rededge3_gsd": 20,
           "assets_rededge3_href": "https://sentinel-cogs.s3.us-west-2.amazonaws.com/sentinel-s2-l2a-cogs/17/S/PV/2024/5/S2A_17SPV_20240502_0_L2A/B07.tif",
           "assets_rededge3_jp2_eo_bands": [
            {
             "center_wavelength": 0.783,
             "common_name": "rededge",
             "description": "Red edge 3 (band 7)",
             "full_width_half_max": 0.028,
             "name": "rededge3"
            }
           ],
           "assets_rededge3_jp2_gsd": 20,
           "assets_rededge3_jp2_href": "s3://sentinel-s2-l2a/tiles/17/S/PV/2024/5/2/0/B07.jp2",
           "assets_rededge3_jp2_proj_shape": "(2:5490,5490)",
           "assets_rededge3_jp2_proj_transform": "(6:20,0,600000,0,-20,4000020)",
           "assets_rededge3_jp2_raster_bands": [
            {
             "bits_per_sample": 15,
             "data_type": "uint16",
             "nodata": 0,
             "offset": -0.1,
             "scale": 0.0001,
             "spatial_resolution": 20
            }
           ],
           "assets_rededge3_jp2_roles": "(2:data,reflectance)",
           "assets_rededge3_jp2_title": "Red edge 3 (band 7) - 20m",
           "assets_rededge3_jp2_type": "image/jp2",
           "assets_rededge3_proj_shape": "(2:5490,5490)",
           "assets_rededge3_proj_transform": "(6:20,0,600000,0,-20,4000020)",
           "assets_rededge3_raster_bands": [
            {
             "bits_per_sample": 15,
             "data_type": "uint16",
             "nodata": 0,
             "offset": -0.1,
             "scale": 0.0001,
             "spatial_resolution": 20
            }
           ],
           "assets_rededge3_roles": "(2:data,reflectance)",
           "assets_rededge3_title": "Red edge 3 (band 7) - 20m",
           "assets_rededge3_type": "image/tiff; application=geotiff; profile=cloud-optimized",
           "assets_scl_href": "https://sentinel-cogs.s3.us-west-2.amazonaws.com/sentinel-s2-l2a-cogs/17/S/PV/2024/5/S2A_17SPV_20240502_0_L2A/SCL.tif",
           "assets_scl_jp2_href": "s3://sentinel-s2-l2a/tiles/17/S/PV/2024/5/2/0/SCL.jp2",
           "assets_scl_jp2_proj_shape": "(2:5490,5490)",
           "assets_scl_jp2_proj_transform": "(6:20,0,600000,0,-20,4000020)",
           "assets_scl_jp2_raster_bands": [
            {
             "data_type": "uint8",
             "nodata": 0,
             "spatial_resolution": 20
            }
           ],
           "assets_scl_jp2_roles": "(2:data,reflectance)",
           "assets_scl_jp2_title": "Scene classification map (SCL)",
           "assets_scl_jp2_type": "image/jp2",
           "assets_scl_proj_shape": "(2:5490,5490)",
           "assets_scl_proj_transform": "(6:20,0,600000,0,-20,4000020)",
           "assets_scl_raster_bands": [
            {
             "data_type": "uint8",
             "nodata": 0,
             "spatial_resolution": 20
            }
           ],
           "assets_scl_roles": "(2:data,reflectance)",
           "assets_scl_title": "Scene classification map (SCL)",
           "assets_scl_type": "image/tiff; application=geotiff; profile=cloud-optimized",
           "assets_swir16_eo_bands": [
            {
             "center_wavelength": 1.61,
             "common_name": "swir16",
             "description": "SWIR 1 (band 11)",
             "full_width_half_max": 0.143,
             "name": "swir16"
            }
           ],
           "assets_swir16_gsd": 20,
           "assets_swir16_href": "https://sentinel-cogs.s3.us-west-2.amazonaws.com/sentinel-s2-l2a-cogs/17/S/PV/2024/5/S2A_17SPV_20240502_0_L2A/B11.tif",
           "assets_swir16_jp2_eo_bands": [
            {
             "center_wavelength": 1.61,
             "common_name": "swir16",
             "description": "SWIR 1 (band 11)",
             "full_width_half_max": 0.143,
             "name": "swir16"
            }
           ],
           "assets_swir16_jp2_gsd": 20,
           "assets_swir16_jp2_href": "s3://sentinel-s2-l2a/tiles/17/S/PV/2024/5/2/0/B11.jp2",
           "assets_swir16_jp2_proj_shape": "(2:5490,5490)",
           "assets_swir16_jp2_proj_transform": "(6:20,0,600000,0,-20,4000020)",
           "assets_swir16_jp2_raster_bands": [
            {
             "bits_per_sample": 15,
             "data_type": "uint16",
             "nodata": 0,
             "offset": -0.1,
             "scale": 0.0001,
             "spatial_resolution": 20
            }
           ],
           "assets_swir16_jp2_roles": "(2:data,reflectance)",
           "assets_swir16_jp2_title": "SWIR 1 (band 11) - 20m",
           "assets_swir16_jp2_type": "image/jp2",
           "assets_swir16_proj_shape": "(2:5490,5490)",
           "assets_swir16_proj_transform": "(6:20,0,600000,0,-20,4000020)",
           "assets_swir16_raster_bands": [
            {
             "bits_per_sample": 15,
             "data_type": "uint16",
             "nodata": 0,
             "offset": -0.1,
             "scale": 0.0001,
             "spatial_resolution": 20
            }
           ],
           "assets_swir16_roles": "(2:data,reflectance)",
           "assets_swir16_title": "SWIR 1 (band 11) - 20m",
           "assets_swir16_type": "image/tiff; application=geotiff; profile=cloud-optimized",
           "assets_swir22_eo_bands": [
            {
             "center_wavelength": 2.19,
             "common_name": "swir22",
             "description": "SWIR 2 (band 12)",
             "full_width_half_max": 0.242,
             "name": "swir22"
            }
           ],
           "assets_swir22_gsd": 20,
           "assets_swir22_href": "https://sentinel-cogs.s3.us-west-2.amazonaws.com/sentinel-s2-l2a-cogs/17/S/PV/2024/5/S2A_17SPV_20240502_0_L2A/B12.tif",
           "assets_swir22_jp2_eo_bands": [
            {
             "center_wavelength": 2.19,
             "common_name": "swir22",
             "description": "SWIR 2 (band 12)",
             "full_width_half_max": 0.242,
             "name": "swir22"
            }
           ],
           "assets_swir22_jp2_gsd": 20,
           "assets_swir22_jp2_href": "s3://sentinel-s2-l2a/tiles/17/S/PV/2024/5/2/0/B12.jp2",
           "assets_swir22_jp2_proj_shape": "(2:5490,5490)",
           "assets_swir22_jp2_proj_transform": "(6:20,0,600000,0,-20,4000020)",
           "assets_swir22_jp2_raster_bands": [
            {
             "bits_per_sample": 15,
             "data_type": "uint16",
             "nodata": 0,
             "offset": -0.1,
             "scale": 0.0001,
             "spatial_resolution": 20
            }
           ],
           "assets_swir22_jp2_roles": "(2:data,reflectance)",
           "assets_swir22_jp2_title": "SWIR 2 (band 12) - 20m",
           "assets_swir22_jp2_type": "image/jp2",
           "assets_swir22_proj_shape": "(2:5490,5490)",
           "assets_swir22_proj_transform": "(6:20,0,600000,0,-20,4000020)",
           "assets_swir22_raster_bands": [
            {
             "bits_per_sample": 15,
             "data_type": "uint16",
             "nodata": 0,
             "offset": -0.1,
             "scale": 0.0001,
             "spatial_resolution": 20
            }
           ],
           "assets_swir22_roles": "(2:data,reflectance)",
           "assets_swir22_title": "SWIR 2 (band 12) - 20m",
           "assets_swir22_type": "image/tiff; application=geotiff; profile=cloud-optimized",
           "assets_thumbnail_href": "https://sentinel-cogs.s3.us-west-2.amazonaws.com/sentinel-s2-l2a-cogs/17/S/PV/2024/5/S2A_17SPV_20240502_0_L2A/thumbnail.jpg",
           "assets_thumbnail_roles": "(1:thumbnail)",
           "assets_thumbnail_title": "Thumbnail image",
           "assets_thumbnail_type": "image/jpeg",
           "assets_tileinfo_metadata_href": "https://sentinel-cogs.s3.us-west-2.amazonaws.com/sentinel-s2-l2a-cogs/17/S/PV/2024/5/S2A_17SPV_20240502_0_L2A/tileinfo_metadata.json",
           "assets_tileinfo_metadata_roles": "(1:metadata)",
           "assets_tileinfo_metadata_type": "application/json",
           "assets_visual_eo_bands": [
            {
             "center_wavelength": 0.665,
             "common_name": "red",
             "description": "Red (band 4)",
             "full_width_half_max": 0.038,
             "name": "red"
            },
            {
             "center_wavelength": 0.56,
             "common_name": "green",
             "description": "Green (band 3)",
             "full_width_half_max": 0.045,
             "name": "green"
            },
            {
             "center_wavelength": 0.49,
             "common_name": "blue",
             "description": "Blue (band 2)",
             "full_width_half_max": 0.098,
             "name": "blue"
            }
           ],
           "assets_visual_href": "https://sentinel-cogs.s3.us-west-2.amazonaws.com/sentinel-s2-l2a-cogs/17/S/PV/2024/5/S2A_17SPV_20240502_0_L2A/TCI.tif",
           "assets_visual_jp2_eo_bands": [
            {
             "center_wavelength": 0.665,
             "common_name": "red",
             "description": "Red (band 4)",
             "full_width_half_max": 0.038,
             "name": "red"
            },
            {
             "center_wavelength": 0.56,
             "common_name": "green",
             "description": "Green (band 3)",
             "full_width_half_max": 0.045,
             "name": "green"
            },
            {
             "center_wavelength": 0.49,
             "common_name": "blue",
             "description": "Blue (band 2)",
             "full_width_half_max": 0.098,
             "name": "blue"
            }
           ],
           "assets_visual_jp2_href": "s3://sentinel-s2-l2a/tiles/17/S/PV/2024/5/2/0/TCI.jp2",
           "assets_visual_jp2_proj_shape": "(2:10980,10980)",
           "assets_visual_jp2_proj_transform": "(6:10,0,600000,0,-10,4000020)",
           "assets_visual_jp2_roles": "(1:visual)",
           "assets_visual_jp2_title": "True color image",
           "assets_visual_jp2_type": "image/jp2",
           "assets_visual_proj_shape": "(2:10980,10980)",
           "assets_visual_proj_transform": "(6:10,0,600000,0,-10,4000020)",
           "assets_visual_roles": "(1:visual)",
           "assets_visual_title": "True color image",
           "assets_visual_type": "image/tiff; application=geotiff; profile=cloud-optimized",
           "assets_wvp_href": "https://sentinel-cogs.s3.us-west-2.amazonaws.com/sentinel-s2-l2a-cogs/17/S/PV/2024/5/S2A_17SPV_20240502_0_L2A/WVP.tif",
           "assets_wvp_jp2_href": "s3://sentinel-s2-l2a/tiles/17/S/PV/2024/5/2/0/WVP.jp2",
           "assets_wvp_jp2_proj_shape": "(2:5490,5490)",
           "assets_wvp_jp2_proj_transform": "(6:20,0,600000,0,-20,4000020)",
           "assets_wvp_jp2_raster_bands": [
            {
             "bits_per_sample": 15,
             "data_type": "uint16",
             "nodata": 0,
             "offset": 0,
             "scale": 0.001,
             "spatial_resolution": 20,
             "unit": "cm"
            }
           ],
           "assets_wvp_jp2_roles": "(2:data,reflectance)",
           "assets_wvp_jp2_title": "Water vapour (WVP)",
           "assets_wvp_jp2_type": "image/jp2",
           "assets_wvp_proj_shape": "(2:5490,5490)",
           "assets_wvp_proj_transform": "(6:20,0,600000,0,-20,4000020)",
           "assets_wvp_raster_bands": [
            {
             "bits_per_sample": 15,
             "data_type": "uint16",
             "nodata": 0,
             "offset": 0,
             "scale": 0.001,
             "spatial_resolution": 20,
             "unit": "cm"
            }
           ],
           "assets_wvp_roles": "(2:data,reflectance)",
           "assets_wvp_title": "Water vapour (WVP)",
           "assets_wvp_type": "image/tiff; application=geotiff; profile=cloud-optimized",
           "cat": 6,
           "collection": "sentinel-2-l2a",
           "constellation": "sentinel-2",
           "created": "2024-05-03T02:07:12.458",
           "datetime": "2024-05-02T16:13:29.052",
           "earthsearch_boa_offset_applied": 1,
           "earthsearch_payload_id": "roda-sentinel2/workflow-sentinel2-to-stac/9833836355fede44aaf0a3680ddeaa2b",
           "earthsearch_s3_path": "s3://sentinel-cogs/sentinel-s2-l2a-cogs/17/S/PV/2024/5/S2A_17SPV_20240502_0_L2A",
           "eo_cloud_cover": 1.724347,
           "grid_code": "MGRS-17SPV",
           "id": "S2A_17SPV_20240502_0_L2A",
           "instruments": "(1:msi)",
           "mgrs_grid_square": "PV",
           "mgrs_latitude_band": "S",
           "mgrs_utm_zone": 17,
           "platform": "sentinel-2a",
           "processing_software": {
            "sentinel2-to-stac": "0.1.1"
           },
           "proj_epsg": 32617,
           "s2_cloud_shadow_percentage": 1.65954,
           "s2_dark_features_percentage": 0.180713,
           "s2_datastrip_id": "S2A_OPER_MSI_L2A_DS_2APS_20240502T231600_S20240502T161232_N05.10",
           "s2_datatake_id": "GS2A_20240502T155901_046283_N05.10",
           "s2_datatake_type": "INS-NOBS",
           "s2_degraded_msi_data_percentage": 0.0086,
           "s2_generation_time": "2024-05-02T23:16:00",
           "s2_granule_id": "S2A_OPER_MSI_L2A_TL_2APS_20240502T231600_A046283_T17SPV_N05.10",
           "s2_high_proba_clouds_percentage": 0.654713,
           "s2_medium_proba_clouds_percentage": 1.068898,
           "s2_nodata_pixel_percentage": 0.0,
           "s2_not_vegetated_percentage": 9.435526,
           "s2_processing_baseline": "05.10",
           "s2_product_type": "S2MSI2A",
           "s2_product_uri": "S2A_MSIL2A_20240502T155901_N0510_R097_T17SPV_20240502T231600.SAFE",
           "s2_reflectance_conversion_factor": 0.986436466402915,
           "s2_saturated_defective_pixel_percentage": 0,
           "s2_sequence": "0",
           "s2_snow_ice_percentage": 0.0,
           "s2_thin_cirrus_percentage": 0.000737,
           "s2_unclassified_percentage": 0.387633,
           "s2_vegetation_percentage": 85.410345,
           "s2_water_percentage": 1.201897,
           "style": {
            "color": "black",
            "fillColor": "yellow"
           },
           "updated": "2024-05-03T02:07:12.458",
           "view_sun_azimuth": 142.024405942536,
           "view_sun_elevation": 65.8776811943126
          },
          "type": "Feature"
         },
         {
          "geometry": {
           "coordinates": [
            [
             [
              -79.88850843890832,
              36.13973161333741
             ],
             [
              -79.88974722294431,
              36.049749189770985
             ],
             [
              -79.8909860069803,
              35.95976676620456
             ],
             [
              -79.89222479101629,
              35.86978434263815
             ],
             [
              -79.89346357505228,
              35.779801919071744
             ],
             [
              -79.89470235908827,
              35.68981949550533
             ],
             [
              -79.89594114312425,
              35.59983707193889
             ],
             [
              -79.89717992716024,
              35.50985464837248
             ],
             [
              -79.89841871119623,
              35.419872224806085
             ],
             [
              -79.89965749523222,
              35.32988980123965
             ],
             [
              -79.90089627926821,
              35.23990737767325
             ],
             [
              -79.9021350633042,
              35.149924954106844
             ],
             [
              -79.79260940405047,
              35.14838773555612
             ],
             [
              -79.68308374479673,
              35.14685051700542
             ],
             [
              -79.57355808554301,
              35.14531329845469
             ],
             [
              -79.46403242628928,
              35.14377607990399
             ],
             [
              -79.35450676703555,
              35.14223886135328
             ],
             [
              -79.24498110778183,
              35.14070164280259
             ],
             [
              -79.13545544852808,
              35.13916442425187
             ],
             [
              -79.02592978927434,
              35.137627205701165
             ],
             [
              -78.91640413002062,
              35.13608998715045
             ],
             [
              -78.80687847076689,
              35.13455276859974
             ],
             [
              -78.69735281151316,
              35.13301555004903
             ],
             [
              -78.69475680417605,
              35.22294122147371
             ],
             [
              -78.69216079683893,
              35.31286689289837
             ],
             [
              -78.68956478950183,
              35.402792564323065
             ],
             [
              -78.68696878216473,
              35.49271823574775
             ],
             [
              -78.68437277482762,
              35.5826439071724
             ],
             [
              -78.6817767674905,
              35.6725695785971
             ],
             [
              -78.6791807601534,
              35.76249525002174
             ],
             [
              -78.6765847528163,
              35.85242092144643
             ],
             [
              -78.67398874547919,
              35.942346592871075
             ],
             [
              -78.67139273814207,
              36.03227226429579
             ],
             [
              -78.66879673080497,
              36.12219793572046
             ],
             [
              -78.77967961335982,
              36.123791906412904
             ],
             [
              -78.89056249591466,
              36.12538587710536
             ],
             [
              -79.00144537846953,
              36.126979847797806
             ],
             [
              -79.11232826102437,
              36.12857381849026
             ],
             [
              -79.22321114357922,
              36.130167789182714
             ],
             [
              -79.33409402613407,
              36.13176175987515
             ],
             [
              -79.44497690868891,
              36.13335573056764
             ],
             [
              -79.55585979124376,
              36.13494970126006
             ],
             [
              -79.66674267379862,
              36.1365436719525
             ],
             [
              -79.77762555635347,
              36.13813764264496
             ],
             [
              -79.88850843890832,
              36.13973161333741
             ]
            ]
           ],
           "type": "Polygon"
          },
          "properties": {
           "assets_aot_href": "https://sentinel-cogs.s3.us-west-2.amazonaws.com/sentinel-s2-l2a-cogs/17/S/PV/2024/4/S2B_17SPV_20240407_0_L2A/AOT.tif",
           "assets_aot_jp2_href": "s3://sentinel-s2-l2a/tiles/17/S/PV/2024/4/7/0/AOT.jp2",
           "assets_aot_jp2_proj_shape": "(2:5490,5490)",
           "assets_aot_jp2_proj_transform": "(6:20,0,600000,0,-20,4000020)",
           "assets_aot_jp2_raster_bands": [
            {
             "bits_per_sample": 15,
             "data_type": "uint16",
             "nodata": 0,
             "offset": 0,
             "scale": 0.001,
             "spatial_resolution": 20
            }
           ],
           "assets_aot_jp2_roles": "(2:data,reflectance)",
           "assets_aot_jp2_title": "Aerosol optical thickness (AOT)",
           "assets_aot_jp2_type": "image/jp2",
           "assets_aot_proj_shape": "(2:5490,5490)",
           "assets_aot_proj_transform": "(6:20,0,600000,0,-20,4000020)",
           "assets_aot_raster_bands": [
            {
             "bits_per_sample": 15,
             "data_type": "uint16",
             "nodata": 0,
             "offset": 0,
             "scale": 0.001,
             "spatial_resolution": 20
            }
           ],
           "assets_aot_roles": "(2:data,reflectance)",
           "assets_aot_title": "Aerosol optical thickness (AOT)",
           "assets_aot_type": "image/tiff; application=geotiff; profile=cloud-optimized",
           "assets_blue_eo_bands": [
            {
             "center_wavelength": 0.49,
             "common_name": "blue",
             "description": "Blue (band 2)",
             "full_width_half_max": 0.098,
             "name": "blue"
            }
           ],
           "assets_blue_gsd": 10,
           "assets_blue_href": "https://sentinel-cogs.s3.us-west-2.amazonaws.com/sentinel-s2-l2a-cogs/17/S/PV/2024/4/S2B_17SPV_20240407_0_L2A/B02.tif",
           "assets_blue_jp2_eo_bands": [
            {
             "center_wavelength": 0.49,
             "common_name": "blue",
             "description": "Blue (band 2)",
             "full_width_half_max": 0.098,
             "name": "blue"
            }
           ],
           "assets_blue_jp2_gsd": 10,
           "assets_blue_jp2_href": "s3://sentinel-s2-l2a/tiles/17/S/PV/2024/4/7/0/B02.jp2",
           "assets_blue_jp2_proj_shape": "(2:10980,10980)",
           "assets_blue_jp2_proj_transform": "(6:10,0,600000,0,-10,4000020)",
           "assets_blue_jp2_raster_bands": [
            {
             "bits_per_sample": 15,
             "data_type": "uint16",
             "nodata": 0,
             "offset": -0.1,
             "scale": 0.0001,
             "spatial_resolution": 10
            }
           ],
           "assets_blue_jp2_roles": "(2:data,reflectance)",
           "assets_blue_jp2_title": "Blue (band 2) - 10m",
           "assets_blue_jp2_type": "image/jp2",
           "assets_blue_proj_shape": "(2:10980,10980)",
           "assets_blue_proj_transform": "(6:10,0,600000,0,-10,4000020)",
           "assets_blue_raster_bands": [
            {
             "bits_per_sample": 15,
             "data_type": "uint16",
             "nodata": 0,
             "offset": -0.1,
             "scale": 0.0001,
             "spatial_resolution": 10
            }
           ],
           "assets_blue_roles": "(2:data,reflectance)",
           "assets_blue_title": "Blue (band 2) - 10m",
           "assets_blue_type": "image/tiff; application=geotiff; profile=cloud-optimized",
           "assets_coastal_eo_bands": [
            {
             "center_wavelength": 0.443,
             "common_name": "coastal",
             "description": "Coastal aerosol (band 1)",
             "full_width_half_max": 0.027,
             "name": "coastal"
            }
           ],
           "assets_coastal_gsd": 60,
           "assets_coastal_href": "https://sentinel-cogs.s3.us-west-2.amazonaws.com/sentinel-s2-l2a-cogs/17/S/PV/2024/4/S2B_17SPV_20240407_0_L2A/B01.tif",
           "assets_coastal_jp2_eo_bands": [
            {
             "center_wavelength": 0.443,
             "common_name": "coastal",
             "description": "Coastal aerosol (band 1)",
             "full_width_half_max": 0.027,
             "name": "coastal"
            }
           ],
           "assets_coastal_jp2_gsd": 60,
           "assets_coastal_jp2_href": "s3://sentinel-s2-l2a/tiles/17/S/PV/2024/4/7/0/B01.jp2",
           "assets_coastal_jp2_proj_shape": "(2:1830,1830)",
           "assets_coastal_jp2_proj_transform": "(6:60,0,600000,0,-60,4000020)",
           "assets_coastal_jp2_raster_bands": [
            {
             "bits_per_sample": 15,
             "data_type": "uint16",
             "nodata": 0,
             "offset": -0.1,
             "scale": 0.0001,
             "spatial_resolution": 60
            }
           ],
           "assets_coastal_jp2_roles": "(2:data,reflectance)",
           "assets_coastal_jp2_title": "Coastal aerosol (band 1) - 60m",
           "assets_coastal_jp2_type": "image/jp2",
           "assets_coastal_proj_shape": "(2:1830,1830)",
           "assets_coastal_proj_transform": "(6:60,0,600000,0,-60,4000020)",
           "assets_coastal_raster_bands": [
            {
             "bits_per_sample": 15,
             "data_type": "uint16",
             "nodata": 0,
             "offset": -0.1,
             "scale": 0.0001,
             "spatial_resolution": 60
            }
           ],
           "assets_coastal_roles": "(2:data,reflectance)",
           "assets_coastal_title": "Coastal aerosol (band 1) - 60m",
           "assets_coastal_type": "image/tiff; application=geotiff; profile=cloud-optimized",
           "assets_granule_metadata_href": "https://sentinel-cogs.s3.us-west-2.amazonaws.com/sentinel-s2-l2a-cogs/17/S/PV/2024/4/S2B_17SPV_20240407_0_L2A/granule_metadata.xml",
           "assets_granule_metadata_roles": "(1:metadata)",
           "assets_granule_metadata_type": "application/xml",
           "assets_green_eo_bands": [
            {
             "center_wavelength": 0.56,
             "common_name": "green",
             "description": "Green (band 3)",
             "full_width_half_max": 0.045,
             "name": "green"
            }
           ],
           "assets_green_gsd": 10,
           "assets_green_href": "https://sentinel-cogs.s3.us-west-2.amazonaws.com/sentinel-s2-l2a-cogs/17/S/PV/2024/4/S2B_17SPV_20240407_0_L2A/B03.tif",
           "assets_green_jp2_eo_bands": [
            {
             "center_wavelength": 0.56,
             "common_name": "green",
             "description": "Green (band 3)",
             "full_width_half_max": 0.045,
             "name": "green"
            }
           ],
           "assets_green_jp2_gsd": 10,
           "assets_green_jp2_href": "s3://sentinel-s2-l2a/tiles/17/S/PV/2024/4/7/0/B03.jp2",
           "assets_green_jp2_proj_shape": "(2:10980,10980)",
           "assets_green_jp2_proj_transform": "(6:10,0,600000,0,-10,4000020)",
           "assets_green_jp2_raster_bands": [
            {
             "bits_per_sample": 15,
             "data_type": "uint16",
             "nodata": 0,
             "offset": -0.1,
             "scale": 0.0001,
             "spatial_resolution": 10
            }
           ],
           "assets_green_jp2_roles": "(2:data,reflectance)",
           "assets_green_jp2_title": "Green (band 3) - 10m",
           "assets_green_jp2_type": "image/jp2",
           "assets_green_proj_shape": "(2:10980,10980)",
           "assets_green_proj_transform": "(6:10,0,600000,0,-10,4000020)",
           "assets_green_raster_bands": [
            {
             "bits_per_sample": 15,
             "data_type": "uint16",
             "nodata": 0,
             "offset": -0.1,
             "scale": 0.0001,
             "spatial_resolution": 10
            }
           ],
           "assets_green_roles": "(2:data,reflectance)",
           "assets_green_title": "Green (band 3) - 10m",
           "assets_green_type": "image/tiff; application=geotiff; profile=cloud-optimized",
           "assets_nir08_eo_bands": [
            {
             "center_wavelength": 0.865,
             "common_name": "nir08",
             "description": "NIR 2 (band 8A)",
             "full_width_half_max": 0.033,
             "name": "nir08"
            }
           ],
           "assets_nir08_gsd": 20,
           "assets_nir08_href": "https://sentinel-cogs.s3.us-west-2.amazonaws.com/sentinel-s2-l2a-cogs/17/S/PV/2024/4/S2B_17SPV_20240407_0_L2A/B8A.tif",
           "assets_nir08_jp2_eo_bands": [
            {
             "center_wavelength": 0.865,
             "common_name": "nir08",
             "description": "NIR 2 (band 8A)",
             "full_width_half_max": 0.033,
             "name": "nir08"
            }
           ],
           "assets_nir08_jp2_gsd": 20,
           "assets_nir08_jp2_href": "s3://sentinel-s2-l2a/tiles/17/S/PV/2024/4/7/0/B8A.jp2",
           "assets_nir08_jp2_proj_shape": "(2:5490,5490)",
           "assets_nir08_jp2_proj_transform": "(6:20,0,600000,0,-20,4000020)",
           "assets_nir08_jp2_raster_bands": [
            {
             "bits_per_sample": 15,
             "data_type": "uint16",
             "nodata": 0,
             "offset": -0.1,
             "scale": 0.0001,
             "spatial_resolution": 20
            }
           ],
           "assets_nir08_jp2_roles": "(2:data,reflectance)",
           "assets_nir08_jp2_title": "NIR 2 (band 8A) - 20m",
           "assets_nir08_jp2_type": "image/jp2",
           "assets_nir08_proj_shape": "(2:5490,5490)",
           "assets_nir08_proj_transform": "(6:20,0,600000,0,-20,4000020)",
           "assets_nir08_raster_bands": [
            {
             "bits_per_sample": 15,
             "data_type": "uint16",
             "nodata": 0,
             "offset": -0.1,
             "scale": 0.0001,
             "spatial_resolution": 20
            }
           ],
           "assets_nir08_roles": "(2:data,reflectance)",
           "assets_nir08_title": "NIR 2 (band 8A) - 20m",
           "assets_nir08_type": "image/tiff; application=geotiff; profile=cloud-optimized",
           "assets_nir09_eo_bands": [
            {
             "center_wavelength": 0.945,
             "common_name": "nir09",
             "description": "NIR 3 (band 9)",
             "full_width_half_max": 0.026,
             "name": "nir09"
            }
           ],
           "assets_nir09_gsd": 60,
           "assets_nir09_href": "https://sentinel-cogs.s3.us-west-2.amazonaws.com/sentinel-s2-l2a-cogs/17/S/PV/2024/4/S2B_17SPV_20240407_0_L2A/B09.tif",
           "assets_nir09_jp2_eo_bands": [
            {
             "center_wavelength": 0.945,
             "common_name": "nir09",
             "description": "NIR 3 (band 9)",
             "full_width_half_max": 0.026,
             "name": "nir09"
            }
           ],
           "assets_nir09_jp2_gsd": 60,
           "assets_nir09_jp2_href": "s3://sentinel-s2-l2a/tiles/17/S/PV/2024/4/7/0/B09.jp2",
           "assets_nir09_jp2_proj_shape": "(2:1830,1830)",
           "assets_nir09_jp2_proj_transform": "(6:60,0,600000,0,-60,4000020)",
           "assets_nir09_jp2_raster_bands": [
            {
             "bits_per_sample": 15,
             "data_type": "uint16",
             "nodata": 0,
             "offset": -0.1,
             "scale": 0.0001,
             "spatial_resolution": 60
            }
           ],
           "assets_nir09_jp2_roles": "(2:data,reflectance)",
           "assets_nir09_jp2_title": "NIR 3 (band 9) - 60m",
           "assets_nir09_jp2_type": "image/jp2",
           "assets_nir09_proj_shape": "(2:1830,1830)",
           "assets_nir09_proj_transform": "(6:60,0,600000,0,-60,4000020)",
           "assets_nir09_raster_bands": [
            {
             "bits_per_sample": 15,
             "data_type": "uint16",
             "nodata": 0,
             "offset": -0.1,
             "scale": 0.0001,
             "spatial_resolution": 60
            }
           ],
           "assets_nir09_roles": "(2:data,reflectance)",
           "assets_nir09_title": "NIR 3 (band 9) - 60m",
           "assets_nir09_type": "image/tiff; application=geotiff; profile=cloud-optimized",
           "assets_nir_eo_bands": [
            {
             "center_wavelength": 0.842,
             "common_name": "nir",
             "description": "NIR 1 (band 8)",
             "full_width_half_max": 0.145,
             "name": "nir"
            }
           ],
           "assets_nir_gsd": 10,
           "assets_nir_href": "https://sentinel-cogs.s3.us-west-2.amazonaws.com/sentinel-s2-l2a-cogs/17/S/PV/2024/4/S2B_17SPV_20240407_0_L2A/B08.tif",
           "assets_nir_jp2_eo_bands": [
            {
             "center_wavelength": 0.842,
             "common_name": "nir",
             "description": "NIR 1 (band 8)",
             "full_width_half_max": 0.145,
             "name": "nir"
            }
           ],
           "assets_nir_jp2_gsd": 10,
           "assets_nir_jp2_href": "s3://sentinel-s2-l2a/tiles/17/S/PV/2024/4/7/0/B08.jp2",
           "assets_nir_jp2_proj_shape": "(2:10980,10980)",
           "assets_nir_jp2_proj_transform": "(6:10,0,600000,0,-10,4000020)",
           "assets_nir_jp2_raster_bands": [
            {
             "bits_per_sample": 15,
             "data_type": "uint16",
             "nodata": 0,
             "offset": -0.1,
             "scale": 0.0001,
             "spatial_resolution": 10
            }
           ],
           "assets_nir_jp2_roles": "(2:data,reflectance)",
           "assets_nir_jp2_title": "NIR 1 (band 8) - 10m",
           "assets_nir_jp2_type": "image/jp2",
           "assets_nir_proj_shape": "(2:10980,10980)",
           "assets_nir_proj_transform": "(6:10,0,600000,0,-10,4000020)",
           "assets_nir_raster_bands": [
            {
             "bits_per_sample": 15,
             "data_type": "uint16",
             "nodata": 0,
             "offset": -0.1,
             "scale": 0.0001,
             "spatial_resolution": 10
            }
           ],
           "assets_nir_roles": "(2:data,reflectance)",
           "assets_nir_title": "NIR 1 (band 8) - 10m",
           "assets_nir_type": "image/tiff; application=geotiff; profile=cloud-optimized",
           "assets_red_eo_bands": [
            {
             "center_wavelength": 0.665,
             "common_name": "red",
             "description": "Red (band 4)",
             "full_width_half_max": 0.038,
             "name": "red"
            }
           ],
           "assets_red_gsd": 10,
           "assets_red_href": "https://sentinel-cogs.s3.us-west-2.amazonaws.com/sentinel-s2-l2a-cogs/17/S/PV/2024/4/S2B_17SPV_20240407_0_L2A/B04.tif",
           "assets_red_jp2_eo_bands": [
            {
             "center_wavelength": 0.665,
             "common_name": "red",
             "description": "Red (band 4)",
             "full_width_half_max": 0.038,
             "name": "red"
            }
           ],
           "assets_red_jp2_gsd": 10,
           "assets_red_jp2_href": "s3://sentinel-s2-l2a/tiles/17/S/PV/2024/4/7/0/B04.jp2",
           "assets_red_jp2_proj_shape": "(2:10980,10980)",
           "assets_red_jp2_proj_transform": "(6:10,0,600000,0,-10,4000020)",
           "assets_red_jp2_raster_bands": [
            {
             "bits_per_sample": 15,
             "data_type": "uint16",
             "nodata": 0,
             "offset": -0.1,
             "scale": 0.0001,
             "spatial_resolution": 10
            }
           ],
           "assets_red_jp2_roles": "(2:data,reflectance)",
           "assets_red_jp2_title": "Red (band 4) - 10m",
           "assets_red_jp2_type": "image/jp2",
           "assets_red_proj_shape": "(2:10980,10980)",
           "assets_red_proj_transform": "(6:10,0,600000,0,-10,4000020)",
           "assets_red_raster_bands": [
            {
             "bits_per_sample": 15,
             "data_type": "uint16",
             "nodata": 0,
             "offset": -0.1,
             "scale": 0.0001,
             "spatial_resolution": 10
            }
           ],
           "assets_red_roles": "(2:data,reflectance)",
           "assets_red_title": "Red (band 4) - 10m",
           "assets_red_type": "image/tiff; application=geotiff; profile=cloud-optimized",
           "assets_rededge1_eo_bands": [
            {
             "center_wavelength": 0.704,
             "common_name": "rededge",
             "description": "Red edge 1 (band 5)",
             "full_width_half_max": 0.019,
             "name": "rededge1"
            }
           ],
           "assets_rededge1_gsd": 20,
           "assets_rededge1_href": "https://sentinel-cogs.s3.us-west-2.amazonaws.com/sentinel-s2-l2a-cogs/17/S/PV/2024/4/S2B_17SPV_20240407_0_L2A/B05.tif",
           "assets_rededge1_jp2_eo_bands": [
            {
             "center_wavelength": 0.704,
             "common_name": "rededge",
             "description": "Red edge 1 (band 5)",
             "full_width_half_max": 0.019,
             "name": "rededge1"
            }
           ],
           "assets_rededge1_jp2_gsd": 20,
           "assets_rededge1_jp2_href": "s3://sentinel-s2-l2a/tiles/17/S/PV/2024/4/7/0/B05.jp2",
           "assets_rededge1_jp2_proj_shape": "(2:5490,5490)",
           "assets_rededge1_jp2_proj_transform": "(6:20,0,600000,0,-20,4000020)",
           "assets_rededge1_jp2_raster_bands": [
            {
             "bits_per_sample": 15,
             "data_type": "uint16",
             "nodata": 0,
             "offset": -0.1,
             "scale": 0.0001,
             "spatial_resolution": 20
            }
           ],
           "assets_rededge1_jp2_roles": "(2:data,reflectance)",
           "assets_rededge1_jp2_title": "Red edge 1 (band 5) - 20m",
           "assets_rededge1_jp2_type": "image/jp2",
           "assets_rededge1_proj_shape": "(2:5490,5490)",
           "assets_rededge1_proj_transform": "(6:20,0,600000,0,-20,4000020)",
           "assets_rededge1_raster_bands": [
            {
             "bits_per_sample": 15,
             "data_type": "uint16",
             "nodata": 0,
             "offset": -0.1,
             "scale": 0.0001,
             "spatial_resolution": 20
            }
           ],
           "assets_rededge1_roles": "(2:data,reflectance)",
           "assets_rededge1_title": "Red edge 1 (band 5) - 20m",
           "assets_rededge1_type": "image/tiff; application=geotiff; profile=cloud-optimized",
           "assets_rededge2_eo_bands": [
            {
             "center_wavelength": 0.74,
             "common_name": "rededge",
             "description": "Red edge 2 (band 6)",
             "full_width_half_max": 0.018,
             "name": "rededge2"
            }
           ],
           "assets_rededge2_gsd": 20,
           "assets_rededge2_href": "https://sentinel-cogs.s3.us-west-2.amazonaws.com/sentinel-s2-l2a-cogs/17/S/PV/2024/4/S2B_17SPV_20240407_0_L2A/B06.tif",
           "assets_rededge2_jp2_eo_bands": [
            {
             "center_wavelength": 0.74,
             "common_name": "rededge",
             "description": "Red edge 2 (band 6)",
             "full_width_half_max": 0.018,
             "name": "rededge2"
            }
           ],
           "assets_rededge2_jp2_gsd": 20,
           "assets_rededge2_jp2_href": "s3://sentinel-s2-l2a/tiles/17/S/PV/2024/4/7/0/B06.jp2",
           "assets_rededge2_jp2_proj_shape": "(2:5490,5490)",
           "assets_rededge2_jp2_proj_transform": "(6:20,0,600000,0,-20,4000020)",
           "assets_rededge2_jp2_raster_bands": [
            {
             "bits_per_sample": 15,
             "data_type": "uint16",
             "nodata": 0,
             "offset": -0.1,
             "scale": 0.0001,
             "spatial_resolution": 20
            }
           ],
           "assets_rededge2_jp2_roles": "(2:data,reflectance)",
           "assets_rededge2_jp2_title": "Red edge 2 (band 6) - 20m",
           "assets_rededge2_jp2_type": "image/jp2",
           "assets_rededge2_proj_shape": "(2:5490,5490)",
           "assets_rededge2_proj_transform": "(6:20,0,600000,0,-20,4000020)",
           "assets_rededge2_raster_bands": [
            {
             "bits_per_sample": 15,
             "data_type": "uint16",
             "nodata": 0,
             "offset": -0.1,
             "scale": 0.0001,
             "spatial_resolution": 20
            }
           ],
           "assets_rededge2_roles": "(2:data,reflectance)",
           "assets_rededge2_title": "Red edge 2 (band 6) - 20m",
           "assets_rededge2_type": "image/tiff; application=geotiff; profile=cloud-optimized",
           "assets_rededge3_eo_bands": [
            {
             "center_wavelength": 0.783,
             "common_name": "rededge",
             "description": "Red edge 3 (band 7)",
             "full_width_half_max": 0.028,
             "name": "rededge3"
            }
           ],
           "assets_rededge3_gsd": 20,
           "assets_rededge3_href": "https://sentinel-cogs.s3.us-west-2.amazonaws.com/sentinel-s2-l2a-cogs/17/S/PV/2024/4/S2B_17SPV_20240407_0_L2A/B07.tif",
           "assets_rededge3_jp2_eo_bands": [
            {
             "center_wavelength": 0.783,
             "common_name": "rededge",
             "description": "Red edge 3 (band 7)",
             "full_width_half_max": 0.028,
             "name": "rededge3"
            }
           ],
           "assets_rededge3_jp2_gsd": 20,
           "assets_rededge3_jp2_href": "s3://sentinel-s2-l2a/tiles/17/S/PV/2024/4/7/0/B07.jp2",
           "assets_rededge3_jp2_proj_shape": "(2:5490,5490)",
           "assets_rededge3_jp2_proj_transform": "(6:20,0,600000,0,-20,4000020)",
           "assets_rededge3_jp2_raster_bands": [
            {
             "bits_per_sample": 15,
             "data_type": "uint16",
             "nodata": 0,
             "offset": -0.1,
             "scale": 0.0001,
             "spatial_resolution": 20
            }
           ],
           "assets_rededge3_jp2_roles": "(2:data,reflectance)",
           "assets_rededge3_jp2_title": "Red edge 3 (band 7) - 20m",
           "assets_rededge3_jp2_type": "image/jp2",
           "assets_rededge3_proj_shape": "(2:5490,5490)",
           "assets_rededge3_proj_transform": "(6:20,0,600000,0,-20,4000020)",
           "assets_rededge3_raster_bands": [
            {
             "bits_per_sample": 15,
             "data_type": "uint16",
             "nodata": 0,
             "offset": -0.1,
             "scale": 0.0001,
             "spatial_resolution": 20
            }
           ],
           "assets_rededge3_roles": "(2:data,reflectance)",
           "assets_rededge3_title": "Red edge 3 (band 7) - 20m",
           "assets_rededge3_type": "image/tiff; application=geotiff; profile=cloud-optimized",
           "assets_scl_href": "https://sentinel-cogs.s3.us-west-2.amazonaws.com/sentinel-s2-l2a-cogs/17/S/PV/2024/4/S2B_17SPV_20240407_0_L2A/SCL.tif",
           "assets_scl_jp2_href": "s3://sentinel-s2-l2a/tiles/17/S/PV/2024/4/7/0/SCL.jp2",
           "assets_scl_jp2_proj_shape": "(2:5490,5490)",
           "assets_scl_jp2_proj_transform": "(6:20,0,600000,0,-20,4000020)",
           "assets_scl_jp2_raster_bands": [
            {
             "data_type": "uint8",
             "nodata": 0,
             "spatial_resolution": 20
            }
           ],
           "assets_scl_jp2_roles": "(2:data,reflectance)",
           "assets_scl_jp2_title": "Scene classification map (SCL)",
           "assets_scl_jp2_type": "image/jp2",
           "assets_scl_proj_shape": "(2:5490,5490)",
           "assets_scl_proj_transform": "(6:20,0,600000,0,-20,4000020)",
           "assets_scl_raster_bands": [
            {
             "data_type": "uint8",
             "nodata": 0,
             "spatial_resolution": 20
            }
           ],
           "assets_scl_roles": "(2:data,reflectance)",
           "assets_scl_title": "Scene classification map (SCL)",
           "assets_scl_type": "image/tiff; application=geotiff; profile=cloud-optimized",
           "assets_swir16_eo_bands": [
            {
             "center_wavelength": 1.61,
             "common_name": "swir16",
             "description": "SWIR 1 (band 11)",
             "full_width_half_max": 0.143,
             "name": "swir16"
            }
           ],
           "assets_swir16_gsd": 20,
           "assets_swir16_href": "https://sentinel-cogs.s3.us-west-2.amazonaws.com/sentinel-s2-l2a-cogs/17/S/PV/2024/4/S2B_17SPV_20240407_0_L2A/B11.tif",
           "assets_swir16_jp2_eo_bands": [
            {
             "center_wavelength": 1.61,
             "common_name": "swir16",
             "description": "SWIR 1 (band 11)",
             "full_width_half_max": 0.143,
             "name": "swir16"
            }
           ],
           "assets_swir16_jp2_gsd": 20,
           "assets_swir16_jp2_href": "s3://sentinel-s2-l2a/tiles/17/S/PV/2024/4/7/0/B11.jp2",
           "assets_swir16_jp2_proj_shape": "(2:5490,5490)",
           "assets_swir16_jp2_proj_transform": "(6:20,0,600000,0,-20,4000020)",
           "assets_swir16_jp2_raster_bands": [
            {
             "bits_per_sample": 15,
             "data_type": "uint16",
             "nodata": 0,
             "offset": -0.1,
             "scale": 0.0001,
             "spatial_resolution": 20
            }
           ],
           "assets_swir16_jp2_roles": "(2:data,reflectance)",
           "assets_swir16_jp2_title": "SWIR 1 (band 11) - 20m",
           "assets_swir16_jp2_type": "image/jp2",
           "assets_swir16_proj_shape": "(2:5490,5490)",
           "assets_swir16_proj_transform": "(6:20,0,600000,0,-20,4000020)",
           "assets_swir16_raster_bands": [
            {
             "bits_per_sample": 15,
             "data_type": "uint16",
             "nodata": 0,
             "offset": -0.1,
             "scale": 0.0001,
             "spatial_resolution": 20
            }
           ],
           "assets_swir16_roles": "(2:data,reflectance)",
           "assets_swir16_title": "SWIR 1 (band 11) - 20m",
           "assets_swir16_type": "image/tiff; application=geotiff; profile=cloud-optimized",
           "assets_swir22_eo_bands": [
            {
             "center_wavelength": 2.19,
             "common_name": "swir22",
             "description": "SWIR 2 (band 12)",
             "full_width_half_max": 0.242,
             "name": "swir22"
            }
           ],
           "assets_swir22_gsd": 20,
           "assets_swir22_href": "https://sentinel-cogs.s3.us-west-2.amazonaws.com/sentinel-s2-l2a-cogs/17/S/PV/2024/4/S2B_17SPV_20240407_0_L2A/B12.tif",
           "assets_swir22_jp2_eo_bands": [
            {
             "center_wavelength": 2.19,
             "common_name": "swir22",
             "description": "SWIR 2 (band 12)",
             "full_width_half_max": 0.242,
             "name": "swir22"
            }
           ],
           "assets_swir22_jp2_gsd": 20,
           "assets_swir22_jp2_href": "s3://sentinel-s2-l2a/tiles/17/S/PV/2024/4/7/0/B12.jp2",
           "assets_swir22_jp2_proj_shape": "(2:5490,5490)",
           "assets_swir22_jp2_proj_transform": "(6:20,0,600000,0,-20,4000020)",
           "assets_swir22_jp2_raster_bands": [
            {
             "bits_per_sample": 15,
             "data_type": "uint16",
             "nodata": 0,
             "offset": -0.1,
             "scale": 0.0001,
             "spatial_resolution": 20
            }
           ],
           "assets_swir22_jp2_roles": "(2:data,reflectance)",
           "assets_swir22_jp2_title": "SWIR 2 (band 12) - 20m",
           "assets_swir22_jp2_type": "image/jp2",
           "assets_swir22_proj_shape": "(2:5490,5490)",
           "assets_swir22_proj_transform": "(6:20,0,600000,0,-20,4000020)",
           "assets_swir22_raster_bands": [
            {
             "bits_per_sample": 15,
             "data_type": "uint16",
             "nodata": 0,
             "offset": -0.1,
             "scale": 0.0001,
             "spatial_resolution": 20
            }
           ],
           "assets_swir22_roles": "(2:data,reflectance)",
           "assets_swir22_title": "SWIR 2 (band 12) - 20m",
           "assets_swir22_type": "image/tiff; application=geotiff; profile=cloud-optimized",
           "assets_thumbnail_href": "https://sentinel-cogs.s3.us-west-2.amazonaws.com/sentinel-s2-l2a-cogs/17/S/PV/2024/4/S2B_17SPV_20240407_0_L2A/thumbnail.jpg",
           "assets_thumbnail_roles": "(1:thumbnail)",
           "assets_thumbnail_title": "Thumbnail image",
           "assets_thumbnail_type": "image/jpeg",
           "assets_tileinfo_metadata_href": "https://sentinel-cogs.s3.us-west-2.amazonaws.com/sentinel-s2-l2a-cogs/17/S/PV/2024/4/S2B_17SPV_20240407_0_L2A/tileinfo_metadata.json",
           "assets_tileinfo_metadata_roles": "(1:metadata)",
           "assets_tileinfo_metadata_type": "application/json",
           "assets_visual_eo_bands": [
            {
             "center_wavelength": 0.665,
             "common_name": "red",
             "description": "Red (band 4)",
             "full_width_half_max": 0.038,
             "name": "red"
            },
            {
             "center_wavelength": 0.56,
             "common_name": "green",
             "description": "Green (band 3)",
             "full_width_half_max": 0.045,
             "name": "green"
            },
            {
             "center_wavelength": 0.49,
             "common_name": "blue",
             "description": "Blue (band 2)",
             "full_width_half_max": 0.098,
             "name": "blue"
            }
           ],
           "assets_visual_href": "https://sentinel-cogs.s3.us-west-2.amazonaws.com/sentinel-s2-l2a-cogs/17/S/PV/2024/4/S2B_17SPV_20240407_0_L2A/TCI.tif",
           "assets_visual_jp2_eo_bands": [
            {
             "center_wavelength": 0.665,
             "common_name": "red",
             "description": "Red (band 4)",
             "full_width_half_max": 0.038,
             "name": "red"
            },
            {
             "center_wavelength": 0.56,
             "common_name": "green",
             "description": "Green (band 3)",
             "full_width_half_max": 0.045,
             "name": "green"
            },
            {
             "center_wavelength": 0.49,
             "common_name": "blue",
             "description": "Blue (band 2)",
             "full_width_half_max": 0.098,
             "name": "blue"
            }
           ],
           "assets_visual_jp2_href": "s3://sentinel-s2-l2a/tiles/17/S/PV/2024/4/7/0/TCI.jp2",
           "assets_visual_jp2_proj_shape": "(2:10980,10980)",
           "assets_visual_jp2_proj_transform": "(6:10,0,600000,0,-10,4000020)",
           "assets_visual_jp2_roles": "(1:visual)",
           "assets_visual_jp2_title": "True color image",
           "assets_visual_jp2_type": "image/jp2",
           "assets_visual_proj_shape": "(2:10980,10980)",
           "assets_visual_proj_transform": "(6:10,0,600000,0,-10,4000020)",
           "assets_visual_roles": "(1:visual)",
           "assets_visual_title": "True color image",
           "assets_visual_type": "image/tiff; application=geotiff; profile=cloud-optimized",
           "assets_wvp_href": "https://sentinel-cogs.s3.us-west-2.amazonaws.com/sentinel-s2-l2a-cogs/17/S/PV/2024/4/S2B_17SPV_20240407_0_L2A/WVP.tif",
           "assets_wvp_jp2_href": "s3://sentinel-s2-l2a/tiles/17/S/PV/2024/4/7/0/WVP.jp2",
           "assets_wvp_jp2_proj_shape": "(2:5490,5490)",
           "assets_wvp_jp2_proj_transform": "(6:20,0,600000,0,-20,4000020)",
           "assets_wvp_jp2_raster_bands": [
            {
             "bits_per_sample": 15,
             "data_type": "uint16",
             "nodata": 0,
             "offset": 0,
             "scale": 0.001,
             "spatial_resolution": 20,
             "unit": "cm"
            }
           ],
           "assets_wvp_jp2_roles": "(2:data,reflectance)",
           "assets_wvp_jp2_title": "Water vapour (WVP)",
           "assets_wvp_jp2_type": "image/jp2",
           "assets_wvp_proj_shape": "(2:5490,5490)",
           "assets_wvp_proj_transform": "(6:20,0,600000,0,-20,4000020)",
           "assets_wvp_raster_bands": [
            {
             "bits_per_sample": 15,
             "data_type": "uint16",
             "nodata": 0,
             "offset": 0,
             "scale": 0.001,
             "spatial_resolution": 20,
             "unit": "cm"
            }
           ],
           "assets_wvp_roles": "(2:data,reflectance)",
           "assets_wvp_title": "Water vapour (WVP)",
           "assets_wvp_type": "image/tiff; application=geotiff; profile=cloud-optimized",
           "cat": 7,
           "collection": "sentinel-2-l2a",
           "constellation": "sentinel-2",
           "created": "2024-04-07T22:51:18.053",
           "datetime": "2024-04-07T16:13:25.177",
           "earthsearch_boa_offset_applied": 1,
           "earthsearch_payload_id": "roda-sentinel2/workflow-sentinel2-to-stac/d9ae6b9fc4520f5ae2a33ffbab89ac25",
           "earthsearch_s3_path": "s3://sentinel-cogs/sentinel-s2-l2a-cogs/17/S/PV/2024/4/S2B_17SPV_20240407_0_L2A",
           "eo_cloud_cover": 0.007223,
           "grid_code": "MGRS-17SPV",
           "id": "S2B_17SPV_20240407_0_L2A",
           "instruments": "(1:msi)",
           "mgrs_grid_square": "PV",
           "mgrs_latitude_band": "S",
           "mgrs_utm_zone": 17,
           "platform": "sentinel-2b",
           "processing_software": {
            "sentinel2-to-stac": "0.1.1"
           },
           "proj_epsg": 32617,
           "s2_cloud_shadow_percentage": 1e-05,
           "s2_dark_features_percentage": 0.393997,
           "s2_datastrip_id": "S2B_OPER_MSI_L2A_DS_2BPS_20240407T202406_S20240407T160426_N05.10",
           "s2_datatake_id": "GS2B_20240407T155819_037017_N05.10",
           "s2_datatake_type": "INS-NOBS",
           "s2_degraded_msi_data_percentage": 0.0024,
           "s2_generation_time": "2024-04-07T20:24:06",
           "s2_granule_id": "S2B_OPER_MSI_L2A_TL_2BPS_20240407T202406_A037017_T17SPV_N05.10",
           "s2_high_proba_clouds_percentage": 7.6e-05,
           "s2_medium_proba_clouds_percentage": 0.000368,
           "s2_nodata_pixel_percentage": 0.0,
           "s2_not_vegetated_percentage": 13.122594,
           "s2_processing_baseline": "05.10",
           "s2_product_type": "S2MSI2A",
           "s2_product_uri": "S2B_MSIL2A_20240407T155819_N0510_R097_T17SPV_20240407T202406.SAFE",
           "s2_reflectance_conversion_factor": 1.00026982268816,
           "s2_saturated_defective_pixel_percentage": 0,
           "s2_sequence": "0",
           "s2_snow_ice_percentage": 0.000571,
           "s2_thin_cirrus_percentage": 0.006778,
           "s2_unclassified_percentage": 0.442009,
           "s2_vegetation_percentage": 84.631485,
           "s2_water_percentage": 1.402112,
           "style": {
            "color": "black",
            "fillColor": "yellow"
           },
           "updated": "2024-04-07T22:51:18.053",
           "view_sun_azimuth": 148.241587595963,
           "view_sun_elevation": 57.8193021287102
          },
          "type": "Feature"
         }
        ],
        "name": "sentinel_2_items_PERMANENT",
        "type": "FeatureCollection"
       },
       "hover_style": {
        "color": "white",
        "dashArray": "0",
        "fillOpacity": 0.5
       },
       "layers": [],
       "name": "sentinel_2_items",
       "options": [],
       "pane": "",
       "point_style": {},
       "popup": null,
       "popup_max_height": null,
       "popup_max_width": 300,
       "popup_min_width": 50,
       "style": {
        "dashArray": "9",
        "fillOpacity": 0.1,
        "opacity": 1,
        "weight": 1
       },
       "subitems": [],
       "visible": true
      }
     },
     "ef556194abdc4f6b83f01ca67adff20e": {
      "model_module": "@jupyter-widgets/controls",
      "model_module_version": "2.0.0",
      "model_name": "ToggleButtonStyleModel",
      "state": {
       "_model_module": "@jupyter-widgets/controls",
       "_model_module_version": "2.0.0",
       "_model_name": "ToggleButtonStyleModel",
       "_view_count": null,
       "_view_module": "@jupyter-widgets/base",
       "_view_module_version": "2.0.0",
       "_view_name": "StyleView",
       "description_width": "",
       "font_family": null,
       "font_size": null,
       "font_style": null,
       "font_variant": null,
       "font_weight": null,
       "text_color": null,
       "text_decoration": null
      }
     },
     "f2c8e70d4a2547b082776b33739a6175": {
      "model_module": "@jupyter-widgets/controls",
      "model_module_version": "2.0.0",
      "model_name": "ToggleButtonModel",
      "state": {
       "_dom_classes": [],
       "_model_module": "@jupyter-widgets/controls",
       "_model_module_version": "2.0.0",
       "_model_name": "ToggleButtonModel",
       "_view_count": null,
       "_view_module": "@jupyter-widgets/controls",
       "_view_module_version": "2.0.0",
       "_view_name": "ToggleButtonView",
       "button_style": "",
       "description": "",
       "description_allow_html": false,
       "disabled": false,
       "icon": "square-o",
       "layout": "IPY_MODEL_0280169a278e49ab8999f8fc26f0c94f",
       "style": "IPY_MODEL_a7e3ab6870864707b4dceb8e08e0b0a1",
       "tabbable": null,
       "tooltip": "Click to show and edit computational region",
       "value": false
      }
     },
     "f5a23c5ee1464cc98004bbe57ac1a25a": {
      "model_module": "jupyter-leaflet",
      "model_module_version": "^0.19",
      "model_name": "LeafletDrawControlModel",
      "state": {
       "_model_module": "jupyter-leaflet",
       "_model_module_version": "^0.19",
       "_model_name": "LeafletDrawControlModel",
       "_view_count": null,
       "_view_module": "jupyter-leaflet",
       "_view_module_version": "^0.19",
       "_view_name": "LeafletDrawControlView",
       "circle": {},
       "circlemarker": {
        "shapeOptions": {}
       },
       "data": [],
       "edit": false,
       "marker": {},
       "options": [
        "position"
       ],
       "polygon": {
        "shapeOptions": {}
       },
       "polyline": {
        "shapeOptions": {}
       },
       "position": "topleft",
       "rectangle": {},
       "remove": false
      }
     },
     "fa26a3f5243240fc943619fe3307ce2c": {
      "model_module": "@jupyter-widgets/base",
      "model_module_version": "2.0.0",
      "model_name": "LayoutModel",
      "state": {
       "_model_module": "@jupyter-widgets/base",
       "_model_module_version": "2.0.0",
       "_model_name": "LayoutModel",
       "_view_count": null,
       "_view_module": "@jupyter-widgets/base",
       "_view_module_version": "2.0.0",
       "_view_name": "LayoutView",
       "align_content": null,
       "align_items": null,
       "align_self": null,
       "border_bottom": null,
       "border_left": null,
       "border_right": null,
       "border_top": null,
       "bottom": null,
       "display": null,
       "flex": null,
       "flex_flow": null,
       "grid_area": null,
       "grid_auto_columns": null,
       "grid_auto_flow": null,
       "grid_auto_rows": null,
       "grid_column": null,
       "grid_gap": null,
       "grid_row": null,
       "grid_template_areas": null,
       "grid_template_columns": null,
       "grid_template_rows": null,
       "height": null,
       "justify_content": null,
       "justify_items": null,
       "left": null,
       "margin": null,
       "max_height": null,
       "max_width": null,
       "min_height": null,
       "min_width": null,
       "object_fit": null,
       "object_position": null,
       "order": null,
       "overflow": null,
       "padding": null,
       "right": null,
       "top": null,
       "visibility": null,
       "width": "150px"
      }
     }
    },
    "version_major": 2,
    "version_minor": 0
   }
  }
 },
 "nbformat": 4,
 "nbformat_minor": 5
}
