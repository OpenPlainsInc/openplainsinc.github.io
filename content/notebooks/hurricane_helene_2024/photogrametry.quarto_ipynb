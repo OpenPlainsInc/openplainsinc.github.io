{
 "cells": [
  {
   "cell_type": "markdown",
   "id": "cc3b5a56",
   "metadata": {},
   "source": [
    "---\n",
    "title: Helene Photogrametery\n",
    "description: This tutorial demonstrates how download images from ArcGIS Server into GRASS GIS.\n",
    "format: html\n",
    "author: Corey T. White\n",
    "date: '2024-10-9'\n",
    "keep-ipynb: true\n",
    "toc: true\n",
    "toc-depth: 4\n",
    "engine: jupyter\n",
    "execute:\n",
    "  eval: false\n",
    "jupyter: python3\n",
    "image: images/DSC_0067.JPG\n",
    "categories: [geospatial, GRASS, jupyter, helene]\n",
    "page-layout: full\n",
    "title-block-banner: true\n",
    "draft: true\n",
    "---\n",
    "\n",
    "\n",
    "# Download Flight Data\n",
    "\n",
    "## Set up environment"
   ]
  },
  {
   "cell_type": "code",
   "execution_count": 1,
   "id": "4d874d37",
   "metadata": {},
   "outputs": [],
   "source": [
    "import sys\n",
    "import subprocess\n",
    "from pathlib import Path\n",
    "from IPython.display import display\n",
    "\n",
    "v = sys.version_info\n",
    "print(f\"We are using Python {v.major}.{v.minor}.{v.micro}\")\n",
    "\n",
    "# Append GRASS to the python system path\n",
    "sys.path.append(\n",
    "    subprocess.check_output([\"grass\", \"--config\", \"python_path\"], text=True).strip()\n",
    ")\n",
    "\n",
    "# Import GRASS libraries\n",
    "import grass.script as gs\n",
    "import grass.jupyter as gj\n",
    "\n",
    "# GRASS Variables\n",
    "grassdata = \"grassdata\"\n",
    "project_name = \"Swannanoa\"\n",
    "mapset = \"flight\""
   ]
  },
  {
   "cell_type": "markdown",
   "id": "f2993bf5",
   "metadata": {},
   "source": [
    "## GRASS\n",
    "\n",
    "### Create project\n"
   ]
  },
  {
   "cell_type": "code",
   "execution_count": 2,
   "id": "d6162f95",
   "metadata": {},
   "outputs": [],
   "source": [
    "#| eval: false\n",
    "gs.create_project(path=grassdata, name=project_name, epsg=\"3358\", overwrite=False)"
   ]
  },
  {
   "cell_type": "markdown",
   "id": "1ecae53d",
   "metadata": {},
   "source": [
    "### Start GRASS session\n"
   ]
  },
  {
   "cell_type": "code",
   "execution_count": 3,
   "id": "f414a4ba",
   "metadata": {},
   "outputs": [],
   "source": [
    "# Start GRASS in the recently created project\n",
    "session = gj.init(Path(grassdata, project_name))"
   ]
  },
  {
   "cell_type": "markdown",
   "id": "492bdefd",
   "metadata": {},
   "source": [
    "### Define Query Parameters"
   ]
  },
  {
   "cell_type": "code",
   "execution_count": 4,
   "id": "ac2a43f8",
   "metadata": {},
   "outputs": [],
   "source": [
    "project = '`CAP - H-TS Helene 2024`' # Queried at API level\n",
    "mission = \"'24-1-5849'\"\n",
    "flight = \"'A0046B'\" # Swannanowa\n",
    "\n",
    "url = f\"https://services.arcgis.com/XG15cJAlne2vxtgt/ArcGIS/rest/services/Image_Points_view/FeatureServer/3/query?where=project+%3D+%27CAP+-+H-TS+Helene+2024%27+and+mission+%3D+%2724-1-5849%27+and+flight+%3D+%27{flight}%27&objectIds=&time=&geometry=&geometryType=esriGeometryEnvelope&inSR=&spatialRel=esriSpatialRelIntersects&resultType=none&distance=0.0&units=esriSRUnit_Meter&relationParam=&returnGeodetic=false&outFields=*&returnGeometry=true&featureEncoding=esriDefault&multipatchOption=xyFootprint&maxAllowableOffset=&geometryPrecision=&outSR=3358&defaultSR=&datumTransformation=&applyVCSProjection=false&returnIdsOnly=false&returnUniqueIdsOnly=false&returnCountOnly=false&returnExtentOnly=false&returnQueryGeometry=false&returnDistinctValues=false&cacheHint=false&orderByFields=&groupByFieldsForStatistics=&outStatistics=&having=&resultOffset=&resultRecordCount=&returnZ=false&returnM=false&returnTrueCurves=false&returnExceededLimitFeatures=true&quantizationParameters=&sqlFormat=none&f=geojson&token=\""
   ]
  },
  {
   "cell_type": "markdown",
   "id": "3c6a7294",
   "metadata": {},
   "source": [
    "### Import Data\n"
   ]
  },
  {
   "cell_type": "code",
   "execution_count": 5,
   "id": "810133f6",
   "metadata": {},
   "outputs": [],
   "source": [
    "#| eval: false\n",
    "gs.run_command(\"v.import\", input=url, output=\"image_points\", overwrite=True)"
   ]
  },
  {
   "cell_type": "markdown",
   "id": "ecfcafa0",
   "metadata": {},
   "source": [
    "### Get data info\n"
   ]
  },
  {
   "cell_type": "code",
   "execution_count": 6,
   "id": "014f1fd6",
   "metadata": {},
   "outputs": [],
   "source": [
    "gs.run_command(\"v.info\", map=\"image_points\", flags=\"c\" )"
   ]
  },
  {
   "cell_type": "markdown",
   "id": "284b954f",
   "metadata": {},
   "source": [
    "### Set region\n"
   ]
  },
  {
   "cell_type": "code",
   "execution_count": 7,
   "id": "93f89e82",
   "metadata": {},
   "outputs": [],
   "source": [
    "gs.run_command(\"g.region\", vector=\"image_points\", res=10)"
   ]
  },
  {
   "cell_type": "markdown",
   "id": "4abb8a0f",
   "metadata": {},
   "source": [
    "### View Data\n"
   ]
  },
  {
   "cell_type": "code",
   "execution_count": 8,
   "id": "03a7ec2f",
   "metadata": {},
   "outputs": [],
   "source": [
    "m = gj.Map(use_region=True)\n",
    "m.d_vect(map=\"image_points\")\n",
    "display(m.show())"
   ]
  },
  {
   "cell_type": "markdown",
   "id": "dfdfc870",
   "metadata": {},
   "source": [
    "### Read data into pandas DataFrame\n"
   ]
  },
  {
   "cell_type": "code",
   "execution_count": 9,
   "id": "2715663b",
   "metadata": {},
   "outputs": [],
   "source": [
    "import pandas as pd\n",
    "\n",
    "points_json = gs.parse_command(\"v.db.select\",\n",
    "    map=\"image_points\",\n",
    "    format=\"json\",\n",
    "    flags=\"\"\n",
    ")\n",
    "\n",
    "points_df = pd.DataFrame(points_json[\"records\"])\n",
    "points_df.head()"
   ]
  },
  {
   "cell_type": "markdown",
   "id": "87cfc6e3",
   "metadata": {},
   "source": [
    "## Download images for processing\n"
   ]
  },
  {
   "cell_type": "code",
   "execution_count": 10,
   "id": "f0c34174",
   "metadata": {},
   "outputs": [],
   "source": [
    "import os\n",
    "import requests\n",
    "from concurrent.futures import ThreadPoolExecutor, as_completed\n",
    "import requests\n",
    "\n",
    "def query_feature_service(flight_id):\n",
    "    try:\n",
    "        rest_url = 'https://services.arcgis.com/XG15cJAlne2vxtgt/ArcGIS/rest/services/Image_Points_view/FeatureServer/3/query'\n",
    "\n",
    "        query = f\"project='CAP - H-TS Helene 2024' AND mission='24-1-5849' AND flight='{flight_id}'\"\n",
    "\n",
    "        params = {\n",
    "            'where': query,\n",
    "            'outFields': '*',\n",
    "            'f': 'json',\n",
    "            'returnGeometry': 'false'\n",
    "        }\n",
    "        response = requests.get(rest_url, params=params)\n",
    "        json_data = response.json()\n",
    "        url_list = list(map(lambda feat: feat.get('url'), json_data['features']))\n",
    "        return url_list\n",
    "    except requests.RequestException as e:\n",
    "        print(f\"Error fetching data from FeatureService: {e}\")\n",
    "\n",
    "# Function to download an image from a URL\n",
    "def download_image(url, save_path, session):\n",
    "    try:\n",
    "        response = session.get(url)\n",
    "        response.raise_for_status()  # Check for HTTP errors\n",
    "        with open(save_path, 'wb') as file:\n",
    "            file.write(response.content)\n",
    "        print(f\"Downloaded {url} to {save_path}\")\n",
    "    except requests.RequestException as e:\n",
    "        print(f\"Failed to download {url}: {e}\")\n",
    "\n",
    "# Main function to set up the thread pool and download images\n",
    "def run(urls, save_dir, num_threads=4):\n",
    "    if not os.path.exists(save_dir):\n",
    "        os.makedirs(save_dir)\n",
    "\n",
    "    with ThreadPoolExecutor(max_workers=num_threads) as executor:\n",
    "        with requests.Session() as session:\n",
    "            futures = []\n",
    "            for url in urls:\n",
    "                filename = os.path.basename(url)\n",
    "                save_path = os.path.join(save_dir, filename)\n",
    "                futures.append(executor.submit(download_image, url, save_path, session))\n",
    "\n",
    "            for future in as_completed(futures):\n",
    "                future.result()  # This will raise "
   ]
  },
  {
   "cell_type": "markdown",
   "id": "3375afe6",
   "metadata": {},
   "source": [
    "### Run the download command\n",
    "\n",
    "Make sure to set appropriate threads for your system."
   ]
  },
  {
   "cell_type": "code",
   "execution_count": 11,
   "id": "37f54db8",
   "metadata": {},
   "outputs": [],
   "source": [
    "#| eval: false\n",
    "url_list = list(points_df.url.values)\n",
    "\n",
    "run(urls=url_list, save_dir=\"imagery_data/nadir/{flight}\", num_threads=32)"
   ]
  },
  {
   "cell_type": "markdown",
   "id": "07094c5c",
   "metadata": {},
   "source": [
    "### Example output\n",
    "\n",
    "| | | |\n",
    "|-|-|-\n",
    "|![](images/CAP_2147.JPG)|![](images/CAP_2148.JPG)|![](images/CAP_2149.JPG)\n",
    "|![](images/CAP_2150.JPG)|![](images/CAP_2151.JPG)|![](images/CAP_2152.JPG)\n",
    "|![](images/CAP_2153.JPG)|![](images/CAP_2154.JPG)|![](images/CAP_2155.JPG)\n",
    "\n",
    "\n",
    "<!-- ## WIP -->\n",
    "\n",
    "### Run data in your favorite photogrametry software\n",
    "\n",
    "- WebODM\n",
    "- Agisoft Metashape\n"
   ]
  },
  {
   "cell_type": "code",
   "execution_count": 12,
   "id": "d2f3041e",
   "metadata": {},
   "outputs": [],
   "source": [
    "#| echo: false\n",
    "#| eval: false\n",
    "\n",
    "image_urls = query_feature_service(flight_id=\"A0046B\")"
   ]
  }
 ],
 "metadata": {
  "kernelspec": {
   "display_name": "Python 3 (ipykernel)",
   "language": "python",
   "name": "python3",
   "path": "/home/coreywhite/.local/share/jupyter/kernels/python3"
  }
 },
 "nbformat": 4,
 "nbformat_minor": 5
}
